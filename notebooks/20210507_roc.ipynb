{
 "cells": [
  {
   "cell_type": "markdown",
   "id": "108be5a4",
   "metadata": {},
   "source": [
    "#### Input\n",
    "The input csv file is a concatenation of the `TEST-*_stats.csv` file output from `checker.py` (i.e., the last steps in `04_check_variants.sh`), which provides true positive, false positive, false negative, precision, and recall values after variant-calling."
   ]
  },
  {
   "cell_type": "code",
   "execution_count": 1,
   "id": "fabe9862",
   "metadata": {},
   "outputs": [
    {
     "name": "stderr",
     "output_type": "stream",
     "text": [
      "\n",
      "Bad key savefig.frameon in file /Users/yeemayseah/anaconda3/lib/python3.8/site-packages/matplotlib/mpl-data/stylelib/_classic_test.mplstyle, line 421 ('savefig.frameon : True')\n",
      "You probably need to get an updated matplotlibrc file from\n",
      "https://github.com/matplotlib/matplotlib/blob/v3.3.4/matplotlibrc.template\n",
      "or from the matplotlib source distribution\n",
      "\n",
      "Bad key verbose.level in file /Users/yeemayseah/anaconda3/lib/python3.8/site-packages/matplotlib/mpl-data/stylelib/_classic_test.mplstyle, line 472 ('verbose.level  : silent      # one of silent, helpful, debug, debug-annoying')\n",
      "You probably need to get an updated matplotlibrc file from\n",
      "https://github.com/matplotlib/matplotlib/blob/v3.3.4/matplotlibrc.template\n",
      "or from the matplotlib source distribution\n",
      "\n",
      "Bad key verbose.fileo in file /Users/yeemayseah/anaconda3/lib/python3.8/site-packages/matplotlib/mpl-data/stylelib/_classic_test.mplstyle, line 473 ('verbose.fileo  : sys.stdout  # a log filename, sys.stdout or sys.stderr')\n",
      "You probably need to get an updated matplotlibrc file from\n",
      "https://github.com/matplotlib/matplotlib/blob/v3.3.4/matplotlibrc.template\n",
      "or from the matplotlib source distribution\n",
      "In /Users/yeemayseah/anaconda3/lib/python3.8/site-packages/matplotlib/mpl-data/stylelib/_classic_test.mplstyle: \n",
      "The text.latex.preview rcparam was deprecated in Matplotlib 3.3 and will be removed two minor releases later.\n",
      "In /Users/yeemayseah/anaconda3/lib/python3.8/site-packages/matplotlib/mpl-data/stylelib/_classic_test.mplstyle: \n",
      "The mathtext.fallback_to_cm rcparam was deprecated in Matplotlib 3.3 and will be removed two minor releases later.\n",
      "In /Users/yeemayseah/anaconda3/lib/python3.8/site-packages/matplotlib/mpl-data/stylelib/_classic_test.mplstyle: Support for setting the 'mathtext.fallback_to_cm' rcParam is deprecated since 3.3 and will be removed two minor releases later; use 'mathtext.fallback : 'cm' instead.\n",
      "In /Users/yeemayseah/anaconda3/lib/python3.8/site-packages/matplotlib/mpl-data/stylelib/_classic_test.mplstyle: \n",
      "The validate_bool_maybe_none function was deprecated in Matplotlib 3.3 and will be removed two minor releases later.\n",
      "In /Users/yeemayseah/anaconda3/lib/python3.8/site-packages/matplotlib/mpl-data/stylelib/_classic_test.mplstyle: \n",
      "The savefig.jpeg_quality rcparam was deprecated in Matplotlib 3.3 and will be removed two minor releases later.\n",
      "In /Users/yeemayseah/anaconda3/lib/python3.8/site-packages/matplotlib/mpl-data/stylelib/_classic_test.mplstyle: \n",
      "The keymap.all_axes rcparam was deprecated in Matplotlib 3.3 and will be removed two minor releases later.\n",
      "In /Users/yeemayseah/anaconda3/lib/python3.8/site-packages/matplotlib/mpl-data/stylelib/_classic_test.mplstyle: \n",
      "The animation.avconv_path rcparam was deprecated in Matplotlib 3.3 and will be removed two minor releases later.\n",
      "In /Users/yeemayseah/anaconda3/lib/python3.8/site-packages/matplotlib/mpl-data/stylelib/_classic_test.mplstyle: \n",
      "The animation.avconv_args rcparam was deprecated in Matplotlib 3.3 and will be removed two minor releases later.\n"
     ]
    }
   ],
   "source": [
    "import pandas as pd\n",
    "import numpy as np\n",
    "import matplotlib.pyplot as plt\n",
    "import seaborn"
   ]
  },
  {
   "cell_type": "code",
   "execution_count": 57,
   "id": "4e315e19",
   "metadata": {},
   "outputs": [],
   "source": [
    "stats = pd.read_csv('/Users/yeemayseah/Documents/Repos/mtb_amr/vcf_data/20210514_all_stats.csv', header=None)"
   ]
  },
  {
   "cell_type": "code",
   "execution_count": 58,
   "id": "29789914",
   "metadata": {},
   "outputs": [],
   "source": [
    "stats.rename(columns={0: 'file_prefix', 1: 'true_pos', 2: 'false_pos', 3: 'false_neg', 4: 'precision', 5: 'recall'}, inplace=True)"
   ]
  },
  {
   "cell_type": "code",
   "execution_count": 59,
   "id": "cd4ad0f2",
   "metadata": {},
   "outputs": [],
   "source": [
    "stats.loc[stats['recall'] == '.' , 'recall'] = np.nan\n",
    "stats.loc[stats['precision'] == '.' , 'precision'] = np.nan\n",
    "stats['recall'] = pd.to_numeric(stats['recall'])\n",
    "stats['precision'] = pd.to_numeric(stats['precision'])"
   ]
  },
  {
   "cell_type": "code",
   "execution_count": 60,
   "id": "bcd3f766",
   "metadata": {},
   "outputs": [],
   "source": [
    "stats['true_pos'] = pd.to_numeric(stats['true_pos'])\n",
    "stats['false_pos'] = pd.to_numeric(stats['false_pos'])\n",
    "stats['false_neg'] = pd.to_numeric(stats['false_neg'])"
   ]
  },
  {
   "cell_type": "code",
   "execution_count": 61,
   "id": "26a7b2b2",
   "metadata": {},
   "outputs": [],
   "source": [
    "num_snp = {'TEST-H37Rv20snps': 20, 'TEST-H37Rv200snps': 200, 'TEST-H37Rv2000snps': 2000, 'TEST-H37Rv20003snps': 20003, 'TEST-MTBREF': 0, \n",
    "            'TEST-MTBVAR1': 1048, 'TEST-MTBVAR2': 3277, 'TEST-MTBVAR3': 11, 'TEST-MTBVAR4': 149, 'TEST-MTBVAR5': 1480, 'TEST-MTBVAR6': 16468}\n",
    "num_indel = {'TEST-H37Rv20snps': 0, 'TEST-H37Rv200snps': 0, 'TEST-H37Rv2000snps': 0, 'TEST-H37Rv20003snps': 0, 'TEST-MTBREF': 0, \n",
    "             'TEST-MTBVAR1': 3317, 'TEST-MTBVAR2': 1120, 'TEST-MTBVAR3': 9, 'TEST-MTBVAR4': 51, 'TEST-MTBVAR5': 524, 'TEST-MTBVAR6': 5472}"
   ]
  },
  {
   "cell_type": "code",
   "execution_count": 62,
   "id": "05c84fee",
   "metadata": {},
   "outputs": [],
   "source": [
    "stats['dataset'] = [name.split('_')[0] for name in stats['file_prefix']]\n",
    "stats['tool'] = [name.split('_')[-2] for name in stats['file_prefix']]\n",
    "stats.loc[stats['tool'] == 'normalized', 'tool'] = [name.split('_')[-3].split('-')[0] for name in stats.loc[stats['tool'] == 'normalized',:]['file_prefix']]\n",
    "stats['num_snp'] = [int(num_snp[ds]) for ds in stats['dataset']]\n",
    "stats['num_indel'] = [int(num_indel[ds]) for ds in stats['dataset']]\n",
    "stats['total_mutations'] = stats['num_snp'] + stats['num_indel']\n",
    "stats['low_cov_mutations_filtered'] = stats['total_mutations'] - stats['true_pos'] - stats['false_neg']"
   ]
  },
  {
   "cell_type": "code",
   "execution_count": 63,
   "id": "f83b9ae6",
   "metadata": {},
   "outputs": [],
   "source": [
    "stats['filtered_total_mutations'] = stats['total_mutations'] - stats['low_cov_mutations_filtered']"
   ]
  },
  {
   "cell_type": "code",
   "execution_count": 64,
   "id": "8a534413",
   "metadata": {},
   "outputs": [
    {
     "data": {
      "text/html": [
       "<div>\n",
       "<style scoped>\n",
       "    .dataframe tbody tr th:only-of-type {\n",
       "        vertical-align: middle;\n",
       "    }\n",
       "\n",
       "    .dataframe tbody tr th {\n",
       "        vertical-align: top;\n",
       "    }\n",
       "\n",
       "    .dataframe thead th {\n",
       "        text-align: right;\n",
       "    }\n",
       "</style>\n",
       "<table border=\"1\" class=\"dataframe\">\n",
       "  <thead>\n",
       "    <tr style=\"text-align: right;\">\n",
       "      <th></th>\n",
       "      <th>file_prefix</th>\n",
       "      <th>true_pos</th>\n",
       "      <th>false_pos</th>\n",
       "      <th>false_neg</th>\n",
       "      <th>precision</th>\n",
       "      <th>recall</th>\n",
       "      <th>dataset</th>\n",
       "      <th>tool</th>\n",
       "      <th>num_snp</th>\n",
       "      <th>num_indel</th>\n",
       "      <th>total_mutations</th>\n",
       "      <th>low_cov_mutations_filtered</th>\n",
       "      <th>filtered_total_mutations</th>\n",
       "    </tr>\n",
       "  </thead>\n",
       "  <tbody>\n",
       "    <tr>\n",
       "      <th>0</th>\n",
       "      <td>TEST-H37Rv20003snps_mq10_gatk_normalized</td>\n",
       "      <td>19758</td>\n",
       "      <td>41</td>\n",
       "      <td>0</td>\n",
       "      <td>0.997929</td>\n",
       "      <td>1.000000</td>\n",
       "      <td>TEST-H37Rv20003snps</td>\n",
       "      <td>gatk</td>\n",
       "      <td>20003</td>\n",
       "      <td>0</td>\n",
       "      <td>20003</td>\n",
       "      <td>245</td>\n",
       "      <td>19758</td>\n",
       "    </tr>\n",
       "    <tr>\n",
       "      <th>1</th>\n",
       "      <td>TEST-H37Rv2000snps_mq10_gatk_normalized</td>\n",
       "      <td>1976</td>\n",
       "      <td>4</td>\n",
       "      <td>0</td>\n",
       "      <td>0.997980</td>\n",
       "      <td>1.000000</td>\n",
       "      <td>TEST-H37Rv2000snps</td>\n",
       "      <td>gatk</td>\n",
       "      <td>2000</td>\n",
       "      <td>0</td>\n",
       "      <td>2000</td>\n",
       "      <td>24</td>\n",
       "      <td>1976</td>\n",
       "    </tr>\n",
       "    <tr>\n",
       "      <th>2</th>\n",
       "      <td>TEST-H37Rv200snps_mq10_gatk_normalized</td>\n",
       "      <td>198</td>\n",
       "      <td>1</td>\n",
       "      <td>0</td>\n",
       "      <td>0.994975</td>\n",
       "      <td>1.000000</td>\n",
       "      <td>TEST-H37Rv200snps</td>\n",
       "      <td>gatk</td>\n",
       "      <td>200</td>\n",
       "      <td>0</td>\n",
       "      <td>200</td>\n",
       "      <td>2</td>\n",
       "      <td>198</td>\n",
       "    </tr>\n",
       "    <tr>\n",
       "      <th>3</th>\n",
       "      <td>TEST-H37Rv20snps_mq10_gatk_normalized</td>\n",
       "      <td>19</td>\n",
       "      <td>1</td>\n",
       "      <td>0</td>\n",
       "      <td>0.950000</td>\n",
       "      <td>1.000000</td>\n",
       "      <td>TEST-H37Rv20snps</td>\n",
       "      <td>gatk</td>\n",
       "      <td>20</td>\n",
       "      <td>0</td>\n",
       "      <td>20</td>\n",
       "      <td>1</td>\n",
       "      <td>19</td>\n",
       "    </tr>\n",
       "    <tr>\n",
       "      <th>4</th>\n",
       "      <td>TEST-MTBREF_mq10_gatk_normalized</td>\n",
       "      <td>0</td>\n",
       "      <td>0</td>\n",
       "      <td>0</td>\n",
       "      <td>NaN</td>\n",
       "      <td>NaN</td>\n",
       "      <td>TEST-MTBREF</td>\n",
       "      <td>gatk</td>\n",
       "      <td>0</td>\n",
       "      <td>0</td>\n",
       "      <td>0</td>\n",
       "      <td>0</td>\n",
       "      <td>0</td>\n",
       "    </tr>\n",
       "    <tr>\n",
       "      <th>...</th>\n",
       "      <td>...</td>\n",
       "      <td>...</td>\n",
       "      <td>...</td>\n",
       "      <td>...</td>\n",
       "      <td>...</td>\n",
       "      <td>...</td>\n",
       "      <td>...</td>\n",
       "      <td>...</td>\n",
       "      <td>...</td>\n",
       "      <td>...</td>\n",
       "      <td>...</td>\n",
       "      <td>...</td>\n",
       "      <td>...</td>\n",
       "    </tr>\n",
       "    <tr>\n",
       "      <th>61</th>\n",
       "      <td>TEST-MTBVAR2_mq10_deepvariant_normalized_PASS</td>\n",
       "      <td>3778</td>\n",
       "      <td>568</td>\n",
       "      <td>1</td>\n",
       "      <td>0.869305</td>\n",
       "      <td>0.999735</td>\n",
       "      <td>TEST-MTBVAR2</td>\n",
       "      <td>deepvariant</td>\n",
       "      <td>3277</td>\n",
       "      <td>1120</td>\n",
       "      <td>4397</td>\n",
       "      <td>618</td>\n",
       "      <td>3779</td>\n",
       "    </tr>\n",
       "    <tr>\n",
       "      <th>62</th>\n",
       "      <td>TEST-MTBVAR3_mq10_deepvariant_normalized_PASS</td>\n",
       "      <td>17</td>\n",
       "      <td>3</td>\n",
       "      <td>0</td>\n",
       "      <td>0.850000</td>\n",
       "      <td>1.000000</td>\n",
       "      <td>TEST-MTBVAR3</td>\n",
       "      <td>deepvariant</td>\n",
       "      <td>11</td>\n",
       "      <td>9</td>\n",
       "      <td>20</td>\n",
       "      <td>3</td>\n",
       "      <td>17</td>\n",
       "    </tr>\n",
       "    <tr>\n",
       "      <th>63</th>\n",
       "      <td>TEST-MTBVAR4_mq10_deepvariant_normalized_PASS</td>\n",
       "      <td>170</td>\n",
       "      <td>29</td>\n",
       "      <td>0</td>\n",
       "      <td>0.854271</td>\n",
       "      <td>1.000000</td>\n",
       "      <td>TEST-MTBVAR4</td>\n",
       "      <td>deepvariant</td>\n",
       "      <td>149</td>\n",
       "      <td>51</td>\n",
       "      <td>200</td>\n",
       "      <td>30</td>\n",
       "      <td>170</td>\n",
       "    </tr>\n",
       "    <tr>\n",
       "      <th>64</th>\n",
       "      <td>TEST-MTBVAR5_mq10_deepvariant_normalized_PASS</td>\n",
       "      <td>1705</td>\n",
       "      <td>278</td>\n",
       "      <td>0</td>\n",
       "      <td>0.859808</td>\n",
       "      <td>1.000000</td>\n",
       "      <td>TEST-MTBVAR5</td>\n",
       "      <td>deepvariant</td>\n",
       "      <td>1480</td>\n",
       "      <td>524</td>\n",
       "      <td>2004</td>\n",
       "      <td>299</td>\n",
       "      <td>1705</td>\n",
       "    </tr>\n",
       "    <tr>\n",
       "      <th>65</th>\n",
       "      <td>TEST-MTBVAR6_mq10_deepvariant_normalized_PASS</td>\n",
       "      <td>18928</td>\n",
       "      <td>2786</td>\n",
       "      <td>8</td>\n",
       "      <td>0.871696</td>\n",
       "      <td>0.999578</td>\n",
       "      <td>TEST-MTBVAR6</td>\n",
       "      <td>deepvariant</td>\n",
       "      <td>16468</td>\n",
       "      <td>5472</td>\n",
       "      <td>21940</td>\n",
       "      <td>3004</td>\n",
       "      <td>18936</td>\n",
       "    </tr>\n",
       "  </tbody>\n",
       "</table>\n",
       "<p>66 rows × 13 columns</p>\n",
       "</div>"
      ],
      "text/plain": [
       "                                      file_prefix  true_pos  false_pos  \\\n",
       "0        TEST-H37Rv20003snps_mq10_gatk_normalized     19758         41   \n",
       "1         TEST-H37Rv2000snps_mq10_gatk_normalized      1976          4   \n",
       "2          TEST-H37Rv200snps_mq10_gatk_normalized       198          1   \n",
       "3           TEST-H37Rv20snps_mq10_gatk_normalized        19          1   \n",
       "4                TEST-MTBREF_mq10_gatk_normalized         0          0   \n",
       "..                                            ...       ...        ...   \n",
       "61  TEST-MTBVAR2_mq10_deepvariant_normalized_PASS      3778        568   \n",
       "62  TEST-MTBVAR3_mq10_deepvariant_normalized_PASS        17          3   \n",
       "63  TEST-MTBVAR4_mq10_deepvariant_normalized_PASS       170         29   \n",
       "64  TEST-MTBVAR5_mq10_deepvariant_normalized_PASS      1705        278   \n",
       "65  TEST-MTBVAR6_mq10_deepvariant_normalized_PASS     18928       2786   \n",
       "\n",
       "    false_neg  precision    recall              dataset         tool  num_snp  \\\n",
       "0           0   0.997929  1.000000  TEST-H37Rv20003snps         gatk    20003   \n",
       "1           0   0.997980  1.000000   TEST-H37Rv2000snps         gatk     2000   \n",
       "2           0   0.994975  1.000000    TEST-H37Rv200snps         gatk      200   \n",
       "3           0   0.950000  1.000000     TEST-H37Rv20snps         gatk       20   \n",
       "4           0        NaN       NaN          TEST-MTBREF         gatk        0   \n",
       "..        ...        ...       ...                  ...          ...      ...   \n",
       "61          1   0.869305  0.999735         TEST-MTBVAR2  deepvariant     3277   \n",
       "62          0   0.850000  1.000000         TEST-MTBVAR3  deepvariant       11   \n",
       "63          0   0.854271  1.000000         TEST-MTBVAR4  deepvariant      149   \n",
       "64          0   0.859808  1.000000         TEST-MTBVAR5  deepvariant     1480   \n",
       "65          8   0.871696  0.999578         TEST-MTBVAR6  deepvariant    16468   \n",
       "\n",
       "    num_indel  total_mutations  low_cov_mutations_filtered  \\\n",
       "0           0            20003                         245   \n",
       "1           0             2000                          24   \n",
       "2           0              200                           2   \n",
       "3           0               20                           1   \n",
       "4           0                0                           0   \n",
       "..        ...              ...                         ...   \n",
       "61       1120             4397                         618   \n",
       "62          9               20                           3   \n",
       "63         51              200                          30   \n",
       "64        524             2004                         299   \n",
       "65       5472            21940                        3004   \n",
       "\n",
       "    filtered_total_mutations  \n",
       "0                      19758  \n",
       "1                       1976  \n",
       "2                        198  \n",
       "3                         19  \n",
       "4                          0  \n",
       "..                       ...  \n",
       "61                      3779  \n",
       "62                        17  \n",
       "63                       170  \n",
       "64                      1705  \n",
       "65                     18936  \n",
       "\n",
       "[66 rows x 13 columns]"
      ]
     },
     "execution_count": 64,
     "metadata": {},
     "output_type": "execute_result"
    }
   ],
   "source": [
    "stats"
   ]
  },
  {
   "cell_type": "code",
   "execution_count": 65,
   "id": "6a8b799b",
   "metadata": {},
   "outputs": [
    {
     "data": {
      "text/plain": [
       "<seaborn.axisgrid.FacetGrid at 0x7f9b22159190>"
      ]
     },
     "execution_count": 65,
     "metadata": {},
     "output_type": "execute_result"
    },
    {
     "data": {
      "image/png": "[encoded data removed]",
      "text/plain": [
       "<Figure size 961.35x288 with 1 Axes>"
      ]
     },
     "metadata": {},
     "output_type": "display_data"
    }
   ],
   "source": [
    "# https://stackoverflow.com/questions/14885895/color-by-column-values-in-matplotlib\n",
    "seaborn.set(style='ticks')\n",
    "fg = seaborn.FacetGrid(data=stats, hue='tool', height=4, aspect=3, xlim=(0,1.2), ylim=(0,1.2))\n",
    "fg.map(plt.scatter, 'precision', 'recall').add_legend()"
   ]
  },
  {
   "cell_type": "code",
   "execution_count": 66,
   "id": "62d207f6",
   "metadata": {},
   "outputs": [
    {
     "data": {
      "text/plain": [
       "<seaborn.axisgrid.FacetGrid at 0x7f9b2231f2b0>"
      ]
     },
     "execution_count": 66,
     "metadata": {},
     "output_type": "execute_result"
    },
    {
     "data": {
      "image/png": "[encoded data removed]",
      "text/plain": [
       "<Figure size 934.225x288 with 1 Axes>"
      ]
     },
     "metadata": {},
     "output_type": "display_data"
    }
   ],
   "source": [
    "seaborn.set(style='ticks')\n",
    "fg = seaborn.FacetGrid(data=stats, hue='num_snp', height=4, aspect=3, xlim=(0,1.2), ylim=(0,1.2))\n",
    "fg.map(plt.scatter, 'precision', 'recall').add_legend()"
   ]
  },
  {
   "cell_type": "code",
   "execution_count": 67,
   "id": "12edb9f6",
   "metadata": {},
   "outputs": [
    {
     "data": {
      "text/plain": [
       "<seaborn.axisgrid.FacetGrid at 0x7f9b225c8790>"
      ]
     },
     "execution_count": 67,
     "metadata": {},
     "output_type": "execute_result"
    },
    {
     "data": {
      "image/png": "[encoded data removed]",
      "text/plain": [
       "<Figure size 928.1x288 with 1 Axes>"
      ]
     },
     "metadata": {},
     "output_type": "display_data"
    }
   ],
   "source": [
    "seaborn.set(style='ticks')\n",
    "fg = seaborn.FacetGrid(data=stats, hue='num_indel', height=4, aspect=3, xlim=(0,1.2), ylim=(0,1.2))\n",
    "fg.map(plt.scatter, 'precision', 'recall').add_legend()"
   ]
  },
  {
   "cell_type": "code",
   "execution_count": 68,
   "id": "78418bd1",
   "metadata": {},
   "outputs": [
    {
     "data": {
      "text/plain": [
       "<seaborn.axisgrid.FacetGrid at 0x7f9b2260d580>"
      ]
     },
     "execution_count": 68,
     "metadata": {},
     "output_type": "execute_result"
    },
    {
     "data": {
      "image/png": "[encoded data removed]",
      "text/plain": [
       "<Figure size 996.8x288 with 1 Axes>"
      ]
     },
     "metadata": {},
     "output_type": "display_data"
    }
   ],
   "source": [
    "seaborn.set(style='ticks')\n",
    "fg = seaborn.FacetGrid(data=stats, hue='filtered_total_mutations', height=4, aspect=3, xlim=(0,1.2), ylim=(0,1.2))\n",
    "fg.map(plt.scatter, 'precision', 'recall').add_legend()"
   ]
  },
  {
   "cell_type": "markdown",
   "id": "021830d7",
   "metadata": {},
   "source": []
  }
 ],
 "metadata": {
  "kernelspec": {
   "display_name": "Python 3",
   "language": "python",
   "name": "python3"
  },
  "language_info": {
   "codemirror_mode": {
    "name": "ipython",
    "version": 3
   },
   "file_extension": ".py",
   "mimetype": "text/x-python",
   "name": "python",
   "nbconvert_exporter": "python",
   "pygments_lexer": "ipython3",
   "version": "3.8.5"
  }
 },
 "nbformat": 4,
 "nbformat_minor": 5
}
