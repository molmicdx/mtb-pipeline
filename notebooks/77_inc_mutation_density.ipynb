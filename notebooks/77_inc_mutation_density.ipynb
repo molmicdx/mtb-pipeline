{
 "cells": [
  {
   "cell_type": "markdown",
   "id": "da3f2d95-7361-4a4d-ab87-8ad47e0f8701",
   "metadata": {},
   "source": [
    "AMR loci are identifed with `python bin/annotate.py`, which relies on Noah's `bin/binary_tree.py`. Input files are the final CSV output from the testing pipeline, and a CSV of AMR loci (name,start,end):\n",
    "```gyrB,5239,7267\n",
    "\n",
    "gyrA,7301,9818\n",
    "\n",
    "rpoB,759806,763325\n",
    "\n",
    "rpsL,781559,781934\n",
    "\n",
    "rrs,1471845,1473382\n",
    "\n",
    "p-fabG1-inhA,1673299,1675011\n",
    "\n",
    "katG,2153888,2156111\n",
    "\n",
    "pncA,2288680,2289241\n",
    "\n",
    "p-eis,2713784,2715332\n",
    "\n",
    "p-ahpC,2726087,2726780\n",
    "\n",
    "embC,4239862,4243147\n",
    "\n",
    "embA-embB,4243232,4249810\n",
    "\n",
    "gidB,4407527,4408202\n"
   ]
  },
  {
   "cell_type": "markdown",
   "id": "71e1c906-db3a-4d8f-974a-3a66bf905471",
   "metadata": {},
   "source": [
    "## Recall, Precision"
   ]
  },
  {
   "cell_type": "markdown",
   "id": "8d9e9326-7e64-4086-8c8a-c890b5188410",
   "metadata": {},
   "source": [
    "### INS only"
   ]
  },
  {
   "cell_type": "code",
   "execution_count": 28,
   "id": "3d9fd59a-9fe9-46f0-80b8-1973692fc9c1",
   "metadata": {},
   "outputs": [
    {
     "data": {
      "application/vnd.plotly.v1+json": {
       "config": {
        "plotlyServerURL": "https://plot.ly"
       },
       "data": [
        {
         "hovertemplate": "variable=recall<br>caller=%{x}<br>value=%{y}<extra></extra>",
         "legendgroup": "recall",
         "marker": {
          "color": "#636efa",
          "symbol": "circle"
         },
         "mode": "markers",
         "name": "recall",
         "orientation": "v",
         "showlegend": true,
         "type": "scatter",
         "x": [
          "deepvariant",
          "bcftools",
          "vardict",
          "freebayes",
          "lancet",
          "gatk",
          "discosnp"
         ],
         "xaxis": "x",
         "y": [
          0.8654411764705883,
          0.7915441176470588,
          0.9628676470588236,
          0.6099264705882353,
          0.8371323529411765,
          0.9981617647058824,
          0.33125
         ],
         "yaxis": "y"
        },
        {
         "hovertemplate": "variable=precision<br>caller=%{x}<br>value=%{y}<extra></extra>",
         "legendgroup": "precision",
         "marker": {
          "color": "#EF553B",
          "symbol": "circle"
         },
         "mode": "markers",
         "name": "precision",
         "orientation": "v",
         "showlegend": true,
         "type": "scatter",
         "x": [
          "deepvariant",
          "bcftools",
          "vardict",
          "freebayes",
          "lancet",
          "gatk",
          "discosnp"
         ],
         "xaxis": "x",
         "y": [
          0.9995753715498938,
          0.9990719257540603,
          0.831692600825659,
          0.9987959060806743,
          0.9986842105263158,
          0.9988962472406181,
          1
         ],
         "yaxis": "y"
        }
       ],
       "layout": {
        "autosize": true,
        "legend": {
         "title": {
          "text": "variable"
         },
         "tracegroupgap": 0
        },
        "margin": {
         "t": 60
        },
        "template": {
         "data": {
          "bar": [
           {
            "error_x": {
             "color": "#2a3f5f"
            },
            "error_y": {
             "color": "#2a3f5f"
            },
            "marker": {
             "line": {
              "color": "#E5ECF6",
              "width": 0.5
             },
             "pattern": {
              "fillmode": "overlay",
              "size": 10,
              "solidity": 0.2
             }
            },
            "type": "bar"
           }
          ],
          "barpolar": [
           {
            "marker": {
             "line": {
              "color": "#E5ECF6",
              "width": 0.5
             },
             "pattern": {
              "fillmode": "overlay",
              "size": 10,
              "solidity": 0.2
             }
            },
            "type": "barpolar"
           }
          ],
          "carpet": [
           {
            "aaxis": {
             "endlinecolor": "#2a3f5f",
             "gridcolor": "white",
             "linecolor": "white",
             "minorgridcolor": "white",
             "startlinecolor": "#2a3f5f"
            },
            "baxis": {
             "endlinecolor": "#2a3f5f",
             "gridcolor": "white",
             "linecolor": "white",
             "minorgridcolor": "white",
             "startlinecolor": "#2a3f5f"
            },
            "type": "carpet"
           }
          ],
          "choropleth": [
           {
            "colorbar": {
             "outlinewidth": 0,
             "ticks": ""
            },
            "type": "choropleth"
           }
          ],
          "contour": [
           {
            "colorbar": {
             "outlinewidth": 0,
             "ticks": ""
            },
            "colorscale": [
             [
              0,
              "#0d0887"
             ],
             [
              0.1111111111111111,
              "#46039f"
             ],
             [
              0.2222222222222222,
              "#7201a8"
             ],
             [
              0.3333333333333333,
              "#9c179e"
             ],
             [
              0.4444444444444444,
              "#bd3786"
             ],
             [
              0.5555555555555556,
              "#d8576b"
             ],
             [
              0.6666666666666666,
              "#ed7953"
             ],
             [
              0.7777777777777778,
              "#fb9f3a"
             ],
             [
              0.8888888888888888,
              "#fdca26"
             ],
             [
              1,
              "#f0f921"
             ]
            ],
            "type": "contour"
           }
          ],
          "contourcarpet": [
           {
            "colorbar": {
             "outlinewidth": 0,
             "ticks": ""
            },
            "type": "contourcarpet"
           }
          ],
          "heatmap": [
           {
            "colorbar": {
             "outlinewidth": 0,
             "ticks": ""
            },
            "colorscale": [
             [
              0,
              "#0d0887"
             ],
             [
              0.1111111111111111,
              "#46039f"
             ],
             [
              0.2222222222222222,
              "#7201a8"
             ],
             [
              0.3333333333333333,
              "#9c179e"
             ],
             [
              0.4444444444444444,
              "#bd3786"
             ],
             [
              0.5555555555555556,
              "#d8576b"
             ],
             [
              0.6666666666666666,
              "#ed7953"
             ],
             [
              0.7777777777777778,
              "#fb9f3a"
             ],
             [
              0.8888888888888888,
              "#fdca26"
             ],
             [
              1,
              "#f0f921"
             ]
            ],
            "type": "heatmap"
           }
          ],
          "heatmapgl": [
           {
            "colorbar": {
             "outlinewidth": 0,
             "ticks": ""
            },
            "colorscale": [
             [
              0,
              "#0d0887"
             ],
             [
              0.1111111111111111,
              "#46039f"
             ],
             [
              0.2222222222222222,
              "#7201a8"
             ],
             [
              0.3333333333333333,
              "#9c179e"
             ],
             [
              0.4444444444444444,
              "#bd3786"
             ],
             [
              0.5555555555555556,
              "#d8576b"
             ],
             [
              0.6666666666666666,
              "#ed7953"
             ],
             [
              0.7777777777777778,
              "#fb9f3a"
             ],
             [
              0.8888888888888888,
              "#fdca26"
             ],
             [
              1,
              "#f0f921"
             ]
            ],
            "type": "heatmapgl"
           }
          ],
          "histogram": [
           {
            "marker": {
             "pattern": {
              "fillmode": "overlay",
              "size": 10,
              "solidity": 0.2
             }
            },
            "type": "histogram"
           }
          ],
          "histogram2d": [
           {
            "colorbar": {
             "outlinewidth": 0,
             "ticks": ""
            },
            "colorscale": [
             [
              0,
              "#0d0887"
             ],
             [
              0.1111111111111111,
              "#46039f"
             ],
             [
              0.2222222222222222,
              "#7201a8"
             ],
             [
              0.3333333333333333,
              "#9c179e"
             ],
             [
              0.4444444444444444,
              "#bd3786"
             ],
             [
              0.5555555555555556,
              "#d8576b"
             ],
             [
              0.6666666666666666,
              "#ed7953"
             ],
             [
              0.7777777777777778,
              "#fb9f3a"
             ],
             [
              0.8888888888888888,
              "#fdca26"
             ],
             [
              1,
              "#f0f921"
             ]
            ],
            "type": "histogram2d"
           }
          ],
          "histogram2dcontour": [
           {
            "colorbar": {
             "outlinewidth": 0,
             "ticks": ""
            },
            "colorscale": [
             [
              0,
              "#0d0887"
             ],
             [
              0.1111111111111111,
              "#46039f"
             ],
             [
              0.2222222222222222,
              "#7201a8"
             ],
             [
              0.3333333333333333,
              "#9c179e"
             ],
             [
              0.4444444444444444,
              "#bd3786"
             ],
             [
              0.5555555555555556,
              "#d8576b"
             ],
             [
              0.6666666666666666,
              "#ed7953"
             ],
             [
              0.7777777777777778,
              "#fb9f3a"
             ],
             [
              0.8888888888888888,
              "#fdca26"
             ],
             [
              1,
              "#f0f921"
             ]
            ],
            "type": "histogram2dcontour"
           }
          ],
          "mesh3d": [
           {
            "colorbar": {
             "outlinewidth": 0,
             "ticks": ""
            },
            "type": "mesh3d"
           }
          ],
          "parcoords": [
           {
            "line": {
             "colorbar": {
              "outlinewidth": 0,
              "ticks": ""
             }
            },
            "type": "parcoords"
           }
          ],
          "pie": [
           {
            "automargin": true,
            "type": "pie"
           }
          ],
          "scatter": [
           {
            "marker": {
             "colorbar": {
              "outlinewidth": 0,
              "ticks": ""
             }
            },
            "type": "scatter"
           }
          ],
          "scatter3d": [
           {
            "line": {
             "colorbar": {
              "outlinewidth": 0,
              "ticks": ""
             }
            },
            "marker": {
             "colorbar": {
              "outlinewidth": 0,
              "ticks": ""
             }
            },
            "type": "scatter3d"
           }
          ],
          "scattercarpet": [
           {
            "marker": {
             "colorbar": {
              "outlinewidth": 0,
              "ticks": ""
             }
            },
            "type": "scattercarpet"
           }
          ],
          "scattergeo": [
           {
            "marker": {
             "colorbar": {
              "outlinewidth": 0,
              "ticks": ""
             }
            },
            "type": "scattergeo"
           }
          ],
          "scattergl": [
           {
            "marker": {
             "colorbar": {
              "outlinewidth": 0,
              "ticks": ""
             }
            },
            "type": "scattergl"
           }
          ],
          "scattermapbox": [
           {
            "marker": {
             "colorbar": {
              "outlinewidth": 0,
              "ticks": ""
             }
            },
            "type": "scattermapbox"
           }
          ],
          "scatterpolar": [
           {
            "marker": {
             "colorbar": {
              "outlinewidth": 0,
              "ticks": ""
             }
            },
            "type": "scatterpolar"
           }
          ],
          "scatterpolargl": [
           {
            "marker": {
             "colorbar": {
              "outlinewidth": 0,
              "ticks": ""
             }
            },
            "type": "scatterpolargl"
           }
          ],
          "scatterternary": [
           {
            "marker": {
             "colorbar": {
              "outlinewidth": 0,
              "ticks": ""
             }
            },
            "type": "scatterternary"
           }
          ],
          "surface": [
           {
            "colorbar": {
             "outlinewidth": 0,
             "ticks": ""
            },
            "colorscale": [
             [
              0,
              "#0d0887"
             ],
             [
              0.1111111111111111,
              "#46039f"
             ],
             [
              0.2222222222222222,
              "#7201a8"
             ],
             [
              0.3333333333333333,
              "#9c179e"
             ],
             [
              0.4444444444444444,
              "#bd3786"
             ],
             [
              0.5555555555555556,
              "#d8576b"
             ],
             [
              0.6666666666666666,
              "#ed7953"
             ],
             [
              0.7777777777777778,
              "#fb9f3a"
             ],
             [
              0.8888888888888888,
              "#fdca26"
             ],
             [
              1,
              "#f0f921"
             ]
            ],
            "type": "surface"
           }
          ],
          "table": [
           {
            "cells": {
             "fill": {
              "color": "#EBF0F8"
             },
             "line": {
              "color": "white"
             }
            },
            "header": {
             "fill": {
              "color": "#C8D4E3"
             },
             "line": {
              "color": "white"
             }
            },
            "type": "table"
           }
          ]
         },
         "layout": {
          "annotationdefaults": {
           "arrowcolor": "#2a3f5f",
           "arrowhead": 0,
           "arrowwidth": 1
          },
          "autotypenumbers": "strict",
          "coloraxis": {
           "colorbar": {
            "outlinewidth": 0,
            "ticks": ""
           }
          },
          "colorscale": {
           "diverging": [
            [
             0,
             "#8e0152"
            ],
            [
             0.1,
             "#c51b7d"
            ],
            [
             0.2,
             "#de77ae"
            ],
            [
             0.3,
             "#f1b6da"
            ],
            [
             0.4,
             "#fde0ef"
            ],
            [
             0.5,
             "#f7f7f7"
            ],
            [
             0.6,
             "#e6f5d0"
            ],
            [
             0.7,
             "#b8e186"
            ],
            [
             0.8,
             "#7fbc41"
            ],
            [
             0.9,
             "#4d9221"
            ],
            [
             1,
             "#276419"
            ]
           ],
           "sequential": [
            [
             0,
             "#0d0887"
            ],
            [
             0.1111111111111111,
             "#46039f"
            ],
            [
             0.2222222222222222,
             "#7201a8"
            ],
            [
             0.3333333333333333,
             "#9c179e"
            ],
            [
             0.4444444444444444,
             "#bd3786"
            ],
            [
             0.5555555555555556,
             "#d8576b"
            ],
            [
             0.6666666666666666,
             "#ed7953"
            ],
            [
             0.7777777777777778,
             "#fb9f3a"
            ],
            [
             0.8888888888888888,
             "#fdca26"
            ],
            [
             1,
             "#f0f921"
            ]
           ],
           "sequentialminus": [
            [
             0,
             "#0d0887"
            ],
            [
             0.1111111111111111,
             "#46039f"
            ],
            [
             0.2222222222222222,
             "#7201a8"
            ],
            [
             0.3333333333333333,
             "#9c179e"
            ],
            [
             0.4444444444444444,
             "#bd3786"
            ],
            [
             0.5555555555555556,
             "#d8576b"
            ],
            [
             0.6666666666666666,
             "#ed7953"
            ],
            [
             0.7777777777777778,
             "#fb9f3a"
            ],
            [
             0.8888888888888888,
             "#fdca26"
            ],
            [
             1,
             "#f0f921"
            ]
           ]
          },
          "colorway": [
           "#636efa",
           "#EF553B",
           "#00cc96",
           "#ab63fa",
           "#FFA15A",
           "#19d3f3",
           "#FF6692",
           "#B6E880",
           "#FF97FF",
           "#FECB52"
          ],
          "font": {
           "color": "#2a3f5f"
          },
          "geo": {
           "bgcolor": "white",
           "lakecolor": "white",
           "landcolor": "#E5ECF6",
           "showlakes": true,
           "showland": true,
           "subunitcolor": "white"
          },
          "hoverlabel": {
           "align": "left"
          },
          "hovermode": "closest",
          "mapbox": {
           "style": "light"
          },
          "paper_bgcolor": "white",
          "plot_bgcolor": "#E5ECF6",
          "polar": {
           "angularaxis": {
            "gridcolor": "white",
            "linecolor": "white",
            "ticks": ""
           },
           "bgcolor": "#E5ECF6",
           "radialaxis": {
            "gridcolor": "white",
            "linecolor": "white",
            "ticks": ""
           }
          },
          "scene": {
           "xaxis": {
            "backgroundcolor": "#E5ECF6",
            "gridcolor": "white",
            "gridwidth": 2,
            "linecolor": "white",
            "showbackground": true,
            "ticks": "",
            "zerolinecolor": "white"
           },
           "yaxis": {
            "backgroundcolor": "#E5ECF6",
            "gridcolor": "white",
            "gridwidth": 2,
            "linecolor": "white",
            "showbackground": true,
            "ticks": "",
            "zerolinecolor": "white"
           },
           "zaxis": {
            "backgroundcolor": "#E5ECF6",
            "gridcolor": "white",
            "gridwidth": 2,
            "linecolor": "white",
            "showbackground": true,
            "ticks": "",
            "zerolinecolor": "white"
           }
          },
          "shapedefaults": {
           "line": {
            "color": "#2a3f5f"
           }
          },
          "ternary": {
           "aaxis": {
            "gridcolor": "white",
            "linecolor": "white",
            "ticks": ""
           },
           "baxis": {
            "gridcolor": "white",
            "linecolor": "white",
            "ticks": ""
           },
           "bgcolor": "#E5ECF6",
           "caxis": {
            "gridcolor": "white",
            "linecolor": "white",
            "ticks": ""
           }
          },
          "title": {
           "x": 0.05
          },
          "xaxis": {
           "automargin": true,
           "gridcolor": "white",
           "linecolor": "white",
           "ticks": "",
           "title": {
            "standoff": 15
           },
           "zerolinecolor": "white",
           "zerolinewidth": 2
          },
          "yaxis": {
           "automargin": true,
           "gridcolor": "white",
           "linecolor": "white",
           "ticks": "",
           "title": {
            "standoff": 15
           },
           "zerolinecolor": "white",
           "zerolinewidth": 2
          }
         }
        },
        "xaxis": {
         "anchor": "y",
         "autorange": true,
         "categoryarray": [
          "bcftools",
          "deepvariant",
          "discosnp",
          "freebayes",
          "gatk",
          "lancet",
          "vardict"
         ],
         "categoryorder": "array",
         "domain": [
          0,
          1
         ],
         "range": [
          -0.36445108289768485,
          6.364451082897685
         ],
         "title": {
          "text": "caller"
         },
         "type": "category"
        },
        "yaxis": {
         "anchor": "x",
         "domain": [
          0,
          1
         ],
         "range": [
          0,
          1.2
         ],
         "title": {
          "text": "value"
         },
         "type": "linear"
        }
       }
      },
      "image/png": "[encoded data removed]",
      "text/html": [
       "<div>                            <div id=\"79edcc33-35e8-4f21-b17c-5a611a6cfa77\" class=\"plotly-graph-div\" style=\"height:525px; width:100%;\"></div>            <script type=\"text/javascript\">                require([\"plotly\"], function(Plotly) {                    window.PLOTLYENV=window.PLOTLYENV || {};                                    if (document.getElementById(\"79edcc33-35e8-4f21-b17c-5a611a6cfa77\")) {                    Plotly.newPlot(                        \"79edcc33-35e8-4f21-b17c-5a611a6cfa77\",                        [{\"hovertemplate\":\"variable=recall<br>caller=%{x}<br>value=%{y}<extra></extra>\",\"legendgroup\":\"recall\",\"marker\":{\"color\":\"#636efa\",\"symbol\":\"circle\"},\"mode\":\"markers\",\"name\":\"recall\",\"orientation\":\"v\",\"showlegend\":true,\"x\":[\"deepvariant\",\"bcftools\",\"vardict\",\"freebayes\",\"lancet\",\"gatk\",\"discosnp\"],\"xaxis\":\"x\",\"y\":[0.8654411764705883,0.7915441176470588,0.9628676470588236,0.6099264705882353,0.8371323529411765,0.9981617647058824,0.33125],\"yaxis\":\"y\",\"type\":\"scatter\"},{\"hovertemplate\":\"variable=precision<br>caller=%{x}<br>value=%{y}<extra></extra>\",\"legendgroup\":\"precision\",\"marker\":{\"color\":\"#EF553B\",\"symbol\":\"circle\"},\"mode\":\"markers\",\"name\":\"precision\",\"orientation\":\"v\",\"showlegend\":true,\"x\":[\"deepvariant\",\"bcftools\",\"vardict\",\"freebayes\",\"lancet\",\"gatk\",\"discosnp\"],\"xaxis\":\"x\",\"y\":[0.9995753715498938,0.9990719257540603,0.831692600825659,0.9987959060806743,0.9986842105263158,0.9988962472406181,1.0],\"yaxis\":\"y\",\"type\":\"scatter\"}],                        {\"template\":{\"data\":{\"bar\":[{\"error_x\":{\"color\":\"#2a3f5f\"},\"error_y\":{\"color\":\"#2a3f5f\"},\"marker\":{\"line\":{\"color\":\"#E5ECF6\",\"width\":0.5},\"pattern\":{\"fillmode\":\"overlay\",\"size\":10,\"solidity\":0.2}},\"type\":\"bar\"}],\"barpolar\":[{\"marker\":{\"line\":{\"color\":\"#E5ECF6\",\"width\":0.5},\"pattern\":{\"fillmode\":\"overlay\",\"size\":10,\"solidity\":0.2}},\"type\":\"barpolar\"}],\"carpet\":[{\"aaxis\":{\"endlinecolor\":\"#2a3f5f\",\"gridcolor\":\"white\",\"linecolor\":\"white\",\"minorgridcolor\":\"white\",\"startlinecolor\":\"#2a3f5f\"},\"baxis\":{\"endlinecolor\":\"#2a3f5f\",\"gridcolor\":\"white\",\"linecolor\":\"white\",\"minorgridcolor\":\"white\",\"startlinecolor\":\"#2a3f5f\"},\"type\":\"carpet\"}],\"choropleth\":[{\"colorbar\":{\"outlinewidth\":0,\"ticks\":\"\"},\"type\":\"choropleth\"}],\"contour\":[{\"colorbar\":{\"outlinewidth\":0,\"ticks\":\"\"},\"colorscale\":[[0.0,\"#0d0887\"],[0.1111111111111111,\"#46039f\"],[0.2222222222222222,\"#7201a8\"],[0.3333333333333333,\"#9c179e\"],[0.4444444444444444,\"#bd3786\"],[0.5555555555555556,\"#d8576b\"],[0.6666666666666666,\"#ed7953\"],[0.7777777777777778,\"#fb9f3a\"],[0.8888888888888888,\"#fdca26\"],[1.0,\"#f0f921\"]],\"type\":\"contour\"}],\"contourcarpet\":[{\"colorbar\":{\"outlinewidth\":0,\"ticks\":\"\"},\"type\":\"contourcarpet\"}],\"heatmap\":[{\"colorbar\":{\"outlinewidth\":0,\"ticks\":\"\"},\"colorscale\":[[0.0,\"#0d0887\"],[0.1111111111111111,\"#46039f\"],[0.2222222222222222,\"#7201a8\"],[0.3333333333333333,\"#9c179e\"],[0.4444444444444444,\"#bd3786\"],[0.5555555555555556,\"#d8576b\"],[0.6666666666666666,\"#ed7953\"],[0.7777777777777778,\"#fb9f3a\"],[0.8888888888888888,\"#fdca26\"],[1.0,\"#f0f921\"]],\"type\":\"heatmap\"}],\"heatmapgl\":[{\"colorbar\":{\"outlinewidth\":0,\"ticks\":\"\"},\"colorscale\":[[0.0,\"#0d0887\"],[0.1111111111111111,\"#46039f\"],[0.2222222222222222,\"#7201a8\"],[0.3333333333333333,\"#9c179e\"],[0.4444444444444444,\"#bd3786\"],[0.5555555555555556,\"#d8576b\"],[0.6666666666666666,\"#ed7953\"],[0.7777777777777778,\"#fb9f3a\"],[0.8888888888888888,\"#fdca26\"],[1.0,\"#f0f921\"]],\"type\":\"heatmapgl\"}],\"histogram\":[{\"marker\":{\"pattern\":{\"fillmode\":\"overlay\",\"size\":10,\"solidity\":0.2}},\"type\":\"histogram\"}],\"histogram2d\":[{\"colorbar\":{\"outlinewidth\":0,\"ticks\":\"\"},\"colorscale\":[[0.0,\"#0d0887\"],[0.1111111111111111,\"#46039f\"],[0.2222222222222222,\"#7201a8\"],[0.3333333333333333,\"#9c179e\"],[0.4444444444444444,\"#bd3786\"],[0.5555555555555556,\"#d8576b\"],[0.6666666666666666,\"#ed7953\"],[0.7777777777777778,\"#fb9f3a\"],[0.8888888888888888,\"#fdca26\"],[1.0,\"#f0f921\"]],\"type\":\"histogram2d\"}],\"histogram2dcontour\":[{\"colorbar\":{\"outlinewidth\":0,\"ticks\":\"\"},\"colorscale\":[[0.0,\"#0d0887\"],[0.1111111111111111,\"#46039f\"],[0.2222222222222222,\"#7201a8\"],[0.3333333333333333,\"#9c179e\"],[0.4444444444444444,\"#bd3786\"],[0.5555555555555556,\"#d8576b\"],[0.6666666666666666,\"#ed7953\"],[0.7777777777777778,\"#fb9f3a\"],[0.8888888888888888,\"#fdca26\"],[1.0,\"#f0f921\"]],\"type\":\"histogram2dcontour\"}],\"mesh3d\":[{\"colorbar\":{\"outlinewidth\":0,\"ticks\":\"\"},\"type\":\"mesh3d\"}],\"parcoords\":[{\"line\":{\"colorbar\":{\"outlinewidth\":0,\"ticks\":\"\"}},\"type\":\"parcoords\"}],\"pie\":[{\"automargin\":true,\"type\":\"pie\"}],\"scatter\":[{\"marker\":{\"colorbar\":{\"outlinewidth\":0,\"ticks\":\"\"}},\"type\":\"scatter\"}],\"scatter3d\":[{\"line\":{\"colorbar\":{\"outlinewidth\":0,\"ticks\":\"\"}},\"marker\":{\"colorbar\":{\"outlinewidth\":0,\"ticks\":\"\"}},\"type\":\"scatter3d\"}],\"scattercarpet\":[{\"marker\":{\"colorbar\":{\"outlinewidth\":0,\"ticks\":\"\"}},\"type\":\"scattercarpet\"}],\"scattergeo\":[{\"marker\":{\"colorbar\":{\"outlinewidth\":0,\"ticks\":\"\"}},\"type\":\"scattergeo\"}],\"scattergl\":[{\"marker\":{\"colorbar\":{\"outlinewidth\":0,\"ticks\":\"\"}},\"type\":\"scattergl\"}],\"scattermapbox\":[{\"marker\":{\"colorbar\":{\"outlinewidth\":0,\"ticks\":\"\"}},\"type\":\"scattermapbox\"}],\"scatterpolar\":[{\"marker\":{\"colorbar\":{\"outlinewidth\":0,\"ticks\":\"\"}},\"type\":\"scatterpolar\"}],\"scatterpolargl\":[{\"marker\":{\"colorbar\":{\"outlinewidth\":0,\"ticks\":\"\"}},\"type\":\"scatterpolargl\"}],\"scatterternary\":[{\"marker\":{\"colorbar\":{\"outlinewidth\":0,\"ticks\":\"\"}},\"type\":\"scatterternary\"}],\"surface\":[{\"colorbar\":{\"outlinewidth\":0,\"ticks\":\"\"},\"colorscale\":[[0.0,\"#0d0887\"],[0.1111111111111111,\"#46039f\"],[0.2222222222222222,\"#7201a8\"],[0.3333333333333333,\"#9c179e\"],[0.4444444444444444,\"#bd3786\"],[0.5555555555555556,\"#d8576b\"],[0.6666666666666666,\"#ed7953\"],[0.7777777777777778,\"#fb9f3a\"],[0.8888888888888888,\"#fdca26\"],[1.0,\"#f0f921\"]],\"type\":\"surface\"}],\"table\":[{\"cells\":{\"fill\":{\"color\":\"#EBF0F8\"},\"line\":{\"color\":\"white\"}},\"header\":{\"fill\":{\"color\":\"#C8D4E3\"},\"line\":{\"color\":\"white\"}},\"type\":\"table\"}]},\"layout\":{\"annotationdefaults\":{\"arrowcolor\":\"#2a3f5f\",\"arrowhead\":0,\"arrowwidth\":1},\"autotypenumbers\":\"strict\",\"coloraxis\":{\"colorbar\":{\"outlinewidth\":0,\"ticks\":\"\"}},\"colorscale\":{\"diverging\":[[0,\"#8e0152\"],[0.1,\"#c51b7d\"],[0.2,\"#de77ae\"],[0.3,\"#f1b6da\"],[0.4,\"#fde0ef\"],[0.5,\"#f7f7f7\"],[0.6,\"#e6f5d0\"],[0.7,\"#b8e186\"],[0.8,\"#7fbc41\"],[0.9,\"#4d9221\"],[1,\"#276419\"]],\"sequential\":[[0.0,\"#0d0887\"],[0.1111111111111111,\"#46039f\"],[0.2222222222222222,\"#7201a8\"],[0.3333333333333333,\"#9c179e\"],[0.4444444444444444,\"#bd3786\"],[0.5555555555555556,\"#d8576b\"],[0.6666666666666666,\"#ed7953\"],[0.7777777777777778,\"#fb9f3a\"],[0.8888888888888888,\"#fdca26\"],[1.0,\"#f0f921\"]],\"sequentialminus\":[[0.0,\"#0d0887\"],[0.1111111111111111,\"#46039f\"],[0.2222222222222222,\"#7201a8\"],[0.3333333333333333,\"#9c179e\"],[0.4444444444444444,\"#bd3786\"],[0.5555555555555556,\"#d8576b\"],[0.6666666666666666,\"#ed7953\"],[0.7777777777777778,\"#fb9f3a\"],[0.8888888888888888,\"#fdca26\"],[1.0,\"#f0f921\"]]},\"colorway\":[\"#636efa\",\"#EF553B\",\"#00cc96\",\"#ab63fa\",\"#FFA15A\",\"#19d3f3\",\"#FF6692\",\"#B6E880\",\"#FF97FF\",\"#FECB52\"],\"font\":{\"color\":\"#2a3f5f\"},\"geo\":{\"bgcolor\":\"white\",\"lakecolor\":\"white\",\"landcolor\":\"#E5ECF6\",\"showlakes\":true,\"showland\":true,\"subunitcolor\":\"white\"},\"hoverlabel\":{\"align\":\"left\"},\"hovermode\":\"closest\",\"mapbox\":{\"style\":\"light\"},\"paper_bgcolor\":\"white\",\"plot_bgcolor\":\"#E5ECF6\",\"polar\":{\"angularaxis\":{\"gridcolor\":\"white\",\"linecolor\":\"white\",\"ticks\":\"\"},\"bgcolor\":\"#E5ECF6\",\"radialaxis\":{\"gridcolor\":\"white\",\"linecolor\":\"white\",\"ticks\":\"\"}},\"scene\":{\"xaxis\":{\"backgroundcolor\":\"#E5ECF6\",\"gridcolor\":\"white\",\"gridwidth\":2,\"linecolor\":\"white\",\"showbackground\":true,\"ticks\":\"\",\"zerolinecolor\":\"white\"},\"yaxis\":{\"backgroundcolor\":\"#E5ECF6\",\"gridcolor\":\"white\",\"gridwidth\":2,\"linecolor\":\"white\",\"showbackground\":true,\"ticks\":\"\",\"zerolinecolor\":\"white\"},\"zaxis\":{\"backgroundcolor\":\"#E5ECF6\",\"gridcolor\":\"white\",\"gridwidth\":2,\"linecolor\":\"white\",\"showbackground\":true,\"ticks\":\"\",\"zerolinecolor\":\"white\"}},\"shapedefaults\":{\"line\":{\"color\":\"#2a3f5f\"}},\"ternary\":{\"aaxis\":{\"gridcolor\":\"white\",\"linecolor\":\"white\",\"ticks\":\"\"},\"baxis\":{\"gridcolor\":\"white\",\"linecolor\":\"white\",\"ticks\":\"\"},\"bgcolor\":\"#E5ECF6\",\"caxis\":{\"gridcolor\":\"white\",\"linecolor\":\"white\",\"ticks\":\"\"}},\"title\":{\"x\":0.05},\"xaxis\":{\"automargin\":true,\"gridcolor\":\"white\",\"linecolor\":\"white\",\"ticks\":\"\",\"title\":{\"standoff\":15},\"zerolinecolor\":\"white\",\"zerolinewidth\":2},\"yaxis\":{\"automargin\":true,\"gridcolor\":\"white\",\"linecolor\":\"white\",\"ticks\":\"\",\"title\":{\"standoff\":15},\"zerolinecolor\":\"white\",\"zerolinewidth\":2}}},\"xaxis\":{\"anchor\":\"y\",\"domain\":[0.0,1.0],\"title\":{\"text\":\"caller\"},\"categoryorder\":\"array\",\"categoryarray\":[\"bcftools\",\"deepvariant\",\"discosnp\",\"freebayes\",\"gatk\",\"lancet\",\"vardict\"]},\"yaxis\":{\"anchor\":\"x\",\"domain\":[0.0,1.0],\"title\":{\"text\":\"value\"},\"range\":[0,1.2]},\"legend\":{\"title\":{\"text\":\"variable\"},\"tracegroupgap\":0},\"margin\":{\"t\":60}},                        {\"responsive\": true}                    ).then(function(){\n",
       "                            \n",
       "var gd = document.getElementById('79edcc33-35e8-4f21-b17c-5a611a6cfa77');\n",
       "var x = new MutationObserver(function (mutations, observer) {{\n",
       "        var display = window.getComputedStyle(gd).display;\n",
       "        if (!display || display === 'none') {{\n",
       "            console.log([gd, 'removed!']);\n",
       "            Plotly.purge(gd);\n",
       "            observer.disconnect();\n",
       "        }}\n",
       "}});\n",
       "\n",
       "// Listen for the removal of the full notebook cells\n",
       "var notebookContainer = gd.closest('#notebook-container');\n",
       "if (notebookContainer) {{\n",
       "    x.observe(notebookContainer, {childList: true});\n",
       "}}\n",
       "\n",
       "// Listen for the clearing of the current output cell\n",
       "var outputEl = gd.closest('.output');\n",
       "if (outputEl) {{\n",
       "    x.observe(outputEl, {childList: true});\n",
       "}}\n",
       "\n",
       "                        })                };                });            </script>        </div>"
      ]
     },
     "metadata": {},
     "output_type": "display_data"
    }
   ],
   "source": [
    "fig = px.scatter(ins_summary_nofilter, x='caller', y=['recall', 'precision'], range_y=[0,1.2],\n",
    "                 category_orders={'caller': ['bcftools', 'deepvariant', 'discosnp', 'freebayes', \n",
    "                                             'gatk', 'lancet', 'vardict']})\n",
    "fig.show()"
   ]
  },
  {
   "cell_type": "markdown",
   "id": "c812b2b6-a1e2-4616-be43-9a075ce3eb09",
   "metadata": {},
   "source": [
    "### DEL only"
   ]
  },
  {
   "cell_type": "code",
   "execution_count": 39,
   "id": "61e979bb-cd34-42f6-8e44-14a5b95c988f",
   "metadata": {},
   "outputs": [
    {
     "data": {
      "application/vnd.plotly.v1+json": {
       "config": {
        "plotlyServerURL": "https://plot.ly"
       },
       "data": [
        {
         "hovertemplate": "variable=recall<br>caller=%{x}<br>value=%{y}<extra></extra>",
         "legendgroup": "recall",
         "marker": {
          "color": "#636efa",
          "symbol": "circle"
         },
         "mode": "markers",
         "name": "recall",
         "orientation": "v",
         "showlegend": true,
         "type": "scatter",
         "x": [
          "deepvariant",
          "bcftools",
          "vardict",
          "freebayes",
          "lancet",
          "gatk",
          "discosnp"
         ],
         "xaxis": "x",
         "y": [
          1,
          0.9991721854304636,
          0.9991721854304636,
          0.9987582781456954,
          0.9929635761589404,
          1,
          0.7301324503311258
         ],
         "yaxis": "y"
        },
        {
         "hovertemplate": "variable=precision<br>caller=%{x}<br>value=%{y}<extra></extra>",
         "legendgroup": "precision",
         "marker": {
          "color": "#EF553B",
          "symbol": "circle"
         },
         "mode": "markers",
         "name": "precision",
         "orientation": "v",
         "showlegend": true,
         "type": "scatter",
         "x": [
          "deepvariant",
          "bcftools",
          "vardict",
          "freebayes",
          "lancet",
          "gatk",
          "discosnp"
         ],
         "xaxis": "x",
         "y": [
          1,
          0.977327935222672,
          0.9979330301777594,
          1,
          1,
          1,
          1
         ],
         "yaxis": "y"
        }
       ],
       "layout": {
        "autosize": true,
        "legend": {
         "title": {
          "text": "variable"
         },
         "tracegroupgap": 0
        },
        "margin": {
         "t": 60
        },
        "template": {
         "data": {
          "bar": [
           {
            "error_x": {
             "color": "#2a3f5f"
            },
            "error_y": {
             "color": "#2a3f5f"
            },
            "marker": {
             "line": {
              "color": "#E5ECF6",
              "width": 0.5
             },
             "pattern": {
              "fillmode": "overlay",
              "size": 10,
              "solidity": 0.2
             }
            },
            "type": "bar"
           }
          ],
          "barpolar": [
           {
            "marker": {
             "line": {
              "color": "#E5ECF6",
              "width": 0.5
             },
             "pattern": {
              "fillmode": "overlay",
              "size": 10,
              "solidity": 0.2
             }
            },
            "type": "barpolar"
           }
          ],
          "carpet": [
           {
            "aaxis": {
             "endlinecolor": "#2a3f5f",
             "gridcolor": "white",
             "linecolor": "white",
             "minorgridcolor": "white",
             "startlinecolor": "#2a3f5f"
            },
            "baxis": {
             "endlinecolor": "#2a3f5f",
             "gridcolor": "white",
             "linecolor": "white",
             "minorgridcolor": "white",
             "startlinecolor": "#2a3f5f"
            },
            "type": "carpet"
           }
          ],
          "choropleth": [
           {
            "colorbar": {
             "outlinewidth": 0,
             "ticks": ""
            },
            "type": "choropleth"
           }
          ],
          "contour": [
           {
            "colorbar": {
             "outlinewidth": 0,
             "ticks": ""
            },
            "colorscale": [
             [
              0,
              "#0d0887"
             ],
             [
              0.1111111111111111,
              "#46039f"
             ],
             [
              0.2222222222222222,
              "#7201a8"
             ],
             [
              0.3333333333333333,
              "#9c179e"
             ],
             [
              0.4444444444444444,
              "#bd3786"
             ],
             [
              0.5555555555555556,
              "#d8576b"
             ],
             [
              0.6666666666666666,
              "#ed7953"
             ],
             [
              0.7777777777777778,
              "#fb9f3a"
             ],
             [
              0.8888888888888888,
              "#fdca26"
             ],
             [
              1,
              "#f0f921"
             ]
            ],
            "type": "contour"
           }
          ],
          "contourcarpet": [
           {
            "colorbar": {
             "outlinewidth": 0,
             "ticks": ""
            },
            "type": "contourcarpet"
           }
          ],
          "heatmap": [
           {
            "colorbar": {
             "outlinewidth": 0,
             "ticks": ""
            },
            "colorscale": [
             [
              0,
              "#0d0887"
             ],
             [
              0.1111111111111111,
              "#46039f"
             ],
             [
              0.2222222222222222,
              "#7201a8"
             ],
             [
              0.3333333333333333,
              "#9c179e"
             ],
             [
              0.4444444444444444,
              "#bd3786"
             ],
             [
              0.5555555555555556,
              "#d8576b"
             ],
             [
              0.6666666666666666,
              "#ed7953"
             ],
             [
              0.7777777777777778,
              "#fb9f3a"
             ],
             [
              0.8888888888888888,
              "#fdca26"
             ],
             [
              1,
              "#f0f921"
             ]
            ],
            "type": "heatmap"
           }
          ],
          "heatmapgl": [
           {
            "colorbar": {
             "outlinewidth": 0,
             "ticks": ""
            },
            "colorscale": [
             [
              0,
              "#0d0887"
             ],
             [
              0.1111111111111111,
              "#46039f"
             ],
             [
              0.2222222222222222,
              "#7201a8"
             ],
             [
              0.3333333333333333,
              "#9c179e"
             ],
             [
              0.4444444444444444,
              "#bd3786"
             ],
             [
              0.5555555555555556,
              "#d8576b"
             ],
             [
              0.6666666666666666,
              "#ed7953"
             ],
             [
              0.7777777777777778,
              "#fb9f3a"
             ],
             [
              0.8888888888888888,
              "#fdca26"
             ],
             [
              1,
              "#f0f921"
             ]
            ],
            "type": "heatmapgl"
           }
          ],
          "histogram": [
           {
            "marker": {
             "pattern": {
              "fillmode": "overlay",
              "size": 10,
              "solidity": 0.2
             }
            },
            "type": "histogram"
           }
          ],
          "histogram2d": [
           {
            "colorbar": {
             "outlinewidth": 0,
             "ticks": ""
            },
            "colorscale": [
             [
              0,
              "#0d0887"
             ],
             [
              0.1111111111111111,
              "#46039f"
             ],
             [
              0.2222222222222222,
              "#7201a8"
             ],
             [
              0.3333333333333333,
              "#9c179e"
             ],
             [
              0.4444444444444444,
              "#bd3786"
             ],
             [
              0.5555555555555556,
              "#d8576b"
             ],
             [
              0.6666666666666666,
              "#ed7953"
             ],
             [
              0.7777777777777778,
              "#fb9f3a"
             ],
             [
              0.8888888888888888,
              "#fdca26"
             ],
             [
              1,
              "#f0f921"
             ]
            ],
            "type": "histogram2d"
           }
          ],
          "histogram2dcontour": [
           {
            "colorbar": {
             "outlinewidth": 0,
             "ticks": ""
            },
            "colorscale": [
             [
              0,
              "#0d0887"
             ],
             [
              0.1111111111111111,
              "#46039f"
             ],
             [
              0.2222222222222222,
              "#7201a8"
             ],
             [
              0.3333333333333333,
              "#9c179e"
             ],
             [
              0.4444444444444444,
              "#bd3786"
             ],
             [
              0.5555555555555556,
              "#d8576b"
             ],
             [
              0.6666666666666666,
              "#ed7953"
             ],
             [
              0.7777777777777778,
              "#fb9f3a"
             ],
             [
              0.8888888888888888,
              "#fdca26"
             ],
             [
              1,
              "#f0f921"
             ]
            ],
            "type": "histogram2dcontour"
           }
          ],
          "mesh3d": [
           {
            "colorbar": {
             "outlinewidth": 0,
             "ticks": ""
            },
            "type": "mesh3d"
           }
          ],
          "parcoords": [
           {
            "line": {
             "colorbar": {
              "outlinewidth": 0,
              "ticks": ""
             }
            },
            "type": "parcoords"
           }
          ],
          "pie": [
           {
            "automargin": true,
            "type": "pie"
           }
          ],
          "scatter": [
           {
            "marker": {
             "colorbar": {
              "outlinewidth": 0,
              "ticks": ""
             }
            },
            "type": "scatter"
           }
          ],
          "scatter3d": [
           {
            "line": {
             "colorbar": {
              "outlinewidth": 0,
              "ticks": ""
             }
            },
            "marker": {
             "colorbar": {
              "outlinewidth": 0,
              "ticks": ""
             }
            },
            "type": "scatter3d"
           }
          ],
          "scattercarpet": [
           {
            "marker": {
             "colorbar": {
              "outlinewidth": 0,
              "ticks": ""
             }
            },
            "type": "scattercarpet"
           }
          ],
          "scattergeo": [
           {
            "marker": {
             "colorbar": {
              "outlinewidth": 0,
              "ticks": ""
             }
            },
            "type": "scattergeo"
           }
          ],
          "scattergl": [
           {
            "marker": {
             "colorbar": {
              "outlinewidth": 0,
              "ticks": ""
             }
            },
            "type": "scattergl"
           }
          ],
          "scattermapbox": [
           {
            "marker": {
             "colorbar": {
              "outlinewidth": 0,
              "ticks": ""
             }
            },
            "type": "scattermapbox"
           }
          ],
          "scatterpolar": [
           {
            "marker": {
             "colorbar": {
              "outlinewidth": 0,
              "ticks": ""
             }
            },
            "type": "scatterpolar"
           }
          ],
          "scatterpolargl": [
           {
            "marker": {
             "colorbar": {
              "outlinewidth": 0,
              "ticks": ""
             }
            },
            "type": "scatterpolargl"
           }
          ],
          "scatterternary": [
           {
            "marker": {
             "colorbar": {
              "outlinewidth": 0,
              "ticks": ""
             }
            },
            "type": "scatterternary"
           }
          ],
          "surface": [
           {
            "colorbar": {
             "outlinewidth": 0,
             "ticks": ""
            },
            "colorscale": [
             [
              0,
              "#0d0887"
             ],
             [
              0.1111111111111111,
              "#46039f"
             ],
             [
              0.2222222222222222,
              "#7201a8"
             ],
             [
              0.3333333333333333,
              "#9c179e"
             ],
             [
              0.4444444444444444,
              "#bd3786"
             ],
             [
              0.5555555555555556,
              "#d8576b"
             ],
             [
              0.6666666666666666,
              "#ed7953"
             ],
             [
              0.7777777777777778,
              "#fb9f3a"
             ],
             [
              0.8888888888888888,
              "#fdca26"
             ],
             [
              1,
              "#f0f921"
             ]
            ],
            "type": "surface"
           }
          ],
          "table": [
           {
            "cells": {
             "fill": {
              "color": "#EBF0F8"
             },
             "line": {
              "color": "white"
             }
            },
            "header": {
             "fill": {
              "color": "#C8D4E3"
             },
             "line": {
              "color": "white"
             }
            },
            "type": "table"
           }
          ]
         },
         "layout": {
          "annotationdefaults": {
           "arrowcolor": "#2a3f5f",
           "arrowhead": 0,
           "arrowwidth": 1
          },
          "autotypenumbers": "strict",
          "coloraxis": {
           "colorbar": {
            "outlinewidth": 0,
            "ticks": ""
           }
          },
          "colorscale": {
           "diverging": [
            [
             0,
             "#8e0152"
            ],
            [
             0.1,
             "#c51b7d"
            ],
            [
             0.2,
             "#de77ae"
            ],
            [
             0.3,
             "#f1b6da"
            ],
            [
             0.4,
             "#fde0ef"
            ],
            [
             0.5,
             "#f7f7f7"
            ],
            [
             0.6,
             "#e6f5d0"
            ],
            [
             0.7,
             "#b8e186"
            ],
            [
             0.8,
             "#7fbc41"
            ],
            [
             0.9,
             "#4d9221"
            ],
            [
             1,
             "#276419"
            ]
           ],
           "sequential": [
            [
             0,
             "#0d0887"
            ],
            [
             0.1111111111111111,
             "#46039f"
            ],
            [
             0.2222222222222222,
             "#7201a8"
            ],
            [
             0.3333333333333333,
             "#9c179e"
            ],
            [
             0.4444444444444444,
             "#bd3786"
            ],
            [
             0.5555555555555556,
             "#d8576b"
            ],
            [
             0.6666666666666666,
             "#ed7953"
            ],
            [
             0.7777777777777778,
             "#fb9f3a"
            ],
            [
             0.8888888888888888,
             "#fdca26"
            ],
            [
             1,
             "#f0f921"
            ]
           ],
           "sequentialminus": [
            [
             0,
             "#0d0887"
            ],
            [
             0.1111111111111111,
             "#46039f"
            ],
            [
             0.2222222222222222,
             "#7201a8"
            ],
            [
             0.3333333333333333,
             "#9c179e"
            ],
            [
             0.4444444444444444,
             "#bd3786"
            ],
            [
             0.5555555555555556,
             "#d8576b"
            ],
            [
             0.6666666666666666,
             "#ed7953"
            ],
            [
             0.7777777777777778,
             "#fb9f3a"
            ],
            [
             0.8888888888888888,
             "#fdca26"
            ],
            [
             1,
             "#f0f921"
            ]
           ]
          },
          "colorway": [
           "#636efa",
           "#EF553B",
           "#00cc96",
           "#ab63fa",
           "#FFA15A",
           "#19d3f3",
           "#FF6692",
           "#B6E880",
           "#FF97FF",
           "#FECB52"
          ],
          "font": {
           "color": "#2a3f5f"
          },
          "geo": {
           "bgcolor": "white",
           "lakecolor": "white",
           "landcolor": "#E5ECF6",
           "showlakes": true,
           "showland": true,
           "subunitcolor": "white"
          },
          "hoverlabel": {
           "align": "left"
          },
          "hovermode": "closest",
          "mapbox": {
           "style": "light"
          },
          "paper_bgcolor": "white",
          "plot_bgcolor": "#E5ECF6",
          "polar": {
           "angularaxis": {
            "gridcolor": "white",
            "linecolor": "white",
            "ticks": ""
           },
           "bgcolor": "#E5ECF6",
           "radialaxis": {
            "gridcolor": "white",
            "linecolor": "white",
            "ticks": ""
           }
          },
          "scene": {
           "xaxis": {
            "backgroundcolor": "#E5ECF6",
            "gridcolor": "white",
            "gridwidth": 2,
            "linecolor": "white",
            "showbackground": true,
            "ticks": "",
            "zerolinecolor": "white"
           },
           "yaxis": {
            "backgroundcolor": "#E5ECF6",
            "gridcolor": "white",
            "gridwidth": 2,
            "linecolor": "white",
            "showbackground": true,
            "ticks": "",
            "zerolinecolor": "white"
           },
           "zaxis": {
            "backgroundcolor": "#E5ECF6",
            "gridcolor": "white",
            "gridwidth": 2,
            "linecolor": "white",
            "showbackground": true,
            "ticks": "",
            "zerolinecolor": "white"
           }
          },
          "shapedefaults": {
           "line": {
            "color": "#2a3f5f"
           }
          },
          "ternary": {
           "aaxis": {
            "gridcolor": "white",
            "linecolor": "white",
            "ticks": ""
           },
           "baxis": {
            "gridcolor": "white",
            "linecolor": "white",
            "ticks": ""
           },
           "bgcolor": "#E5ECF6",
           "caxis": {
            "gridcolor": "white",
            "linecolor": "white",
            "ticks": ""
           }
          },
          "title": {
           "x": 0.05
          },
          "xaxis": {
           "automargin": true,
           "gridcolor": "white",
           "linecolor": "white",
           "ticks": "",
           "title": {
            "standoff": 15
           },
           "zerolinecolor": "white",
           "zerolinewidth": 2
          },
          "yaxis": {
           "automargin": true,
           "gridcolor": "white",
           "linecolor": "white",
           "ticks": "",
           "title": {
            "standoff": 15
           },
           "zerolinecolor": "white",
           "zerolinewidth": 2
          }
         }
        },
        "xaxis": {
         "anchor": "y",
         "autorange": true,
         "categoryarray": [
          "bcftools",
          "deepvariant",
          "discosnp",
          "freebayes",
          "gatk",
          "lancet",
          "vardict"
         ],
         "categoryorder": "array",
         "domain": [
          0,
          1
         ],
         "range": [
          -0.36445108289768485,
          6.364451082897685
         ],
         "title": {
          "text": "caller"
         },
         "type": "category"
        },
        "yaxis": {
         "anchor": "x",
         "domain": [
          0,
          1
         ],
         "range": [
          0,
          1.2
         ],
         "title": {
          "text": "value"
         },
         "type": "linear"
        }
       }
      },
      "image/png": "[encoded data removed]",
      "text/html": [
       "<div>                            <div id=\"890a9f69-1aa0-485d-a993-f9c77f88735a\" class=\"plotly-graph-div\" style=\"height:525px; width:100%;\"></div>            <script type=\"text/javascript\">                require([\"plotly\"], function(Plotly) {                    window.PLOTLYENV=window.PLOTLYENV || {};                                    if (document.getElementById(\"890a9f69-1aa0-485d-a993-f9c77f88735a\")) {                    Plotly.newPlot(                        \"890a9f69-1aa0-485d-a993-f9c77f88735a\",                        [{\"hovertemplate\":\"variable=recall<br>caller=%{x}<br>value=%{y}<extra></extra>\",\"legendgroup\":\"recall\",\"marker\":{\"color\":\"#636efa\",\"symbol\":\"circle\"},\"mode\":\"markers\",\"name\":\"recall\",\"orientation\":\"v\",\"showlegend\":true,\"x\":[\"deepvariant\",\"bcftools\",\"vardict\",\"freebayes\",\"lancet\",\"gatk\",\"discosnp\"],\"xaxis\":\"x\",\"y\":[1.0,0.9991721854304636,0.9991721854304636,0.9987582781456954,0.9929635761589404,1.0,0.7301324503311258],\"yaxis\":\"y\",\"type\":\"scatter\"},{\"hovertemplate\":\"variable=precision<br>caller=%{x}<br>value=%{y}<extra></extra>\",\"legendgroup\":\"precision\",\"marker\":{\"color\":\"#EF553B\",\"symbol\":\"circle\"},\"mode\":\"markers\",\"name\":\"precision\",\"orientation\":\"v\",\"showlegend\":true,\"x\":[\"deepvariant\",\"bcftools\",\"vardict\",\"freebayes\",\"lancet\",\"gatk\",\"discosnp\"],\"xaxis\":\"x\",\"y\":[1.0,0.977327935222672,0.9979330301777594,1.0,1.0,1.0,1.0],\"yaxis\":\"y\",\"type\":\"scatter\"}],                        {\"template\":{\"data\":{\"bar\":[{\"error_x\":{\"color\":\"#2a3f5f\"},\"error_y\":{\"color\":\"#2a3f5f\"},\"marker\":{\"line\":{\"color\":\"#E5ECF6\",\"width\":0.5},\"pattern\":{\"fillmode\":\"overlay\",\"size\":10,\"solidity\":0.2}},\"type\":\"bar\"}],\"barpolar\":[{\"marker\":{\"line\":{\"color\":\"#E5ECF6\",\"width\":0.5},\"pattern\":{\"fillmode\":\"overlay\",\"size\":10,\"solidity\":0.2}},\"type\":\"barpolar\"}],\"carpet\":[{\"aaxis\":{\"endlinecolor\":\"#2a3f5f\",\"gridcolor\":\"white\",\"linecolor\":\"white\",\"minorgridcolor\":\"white\",\"startlinecolor\":\"#2a3f5f\"},\"baxis\":{\"endlinecolor\":\"#2a3f5f\",\"gridcolor\":\"white\",\"linecolor\":\"white\",\"minorgridcolor\":\"white\",\"startlinecolor\":\"#2a3f5f\"},\"type\":\"carpet\"}],\"choropleth\":[{\"colorbar\":{\"outlinewidth\":0,\"ticks\":\"\"},\"type\":\"choropleth\"}],\"contour\":[{\"colorbar\":{\"outlinewidth\":0,\"ticks\":\"\"},\"colorscale\":[[0.0,\"#0d0887\"],[0.1111111111111111,\"#46039f\"],[0.2222222222222222,\"#7201a8\"],[0.3333333333333333,\"#9c179e\"],[0.4444444444444444,\"#bd3786\"],[0.5555555555555556,\"#d8576b\"],[0.6666666666666666,\"#ed7953\"],[0.7777777777777778,\"#fb9f3a\"],[0.8888888888888888,\"#fdca26\"],[1.0,\"#f0f921\"]],\"type\":\"contour\"}],\"contourcarpet\":[{\"colorbar\":{\"outlinewidth\":0,\"ticks\":\"\"},\"type\":\"contourcarpet\"}],\"heatmap\":[{\"colorbar\":{\"outlinewidth\":0,\"ticks\":\"\"},\"colorscale\":[[0.0,\"#0d0887\"],[0.1111111111111111,\"#46039f\"],[0.2222222222222222,\"#7201a8\"],[0.3333333333333333,\"#9c179e\"],[0.4444444444444444,\"#bd3786\"],[0.5555555555555556,\"#d8576b\"],[0.6666666666666666,\"#ed7953\"],[0.7777777777777778,\"#fb9f3a\"],[0.8888888888888888,\"#fdca26\"],[1.0,\"#f0f921\"]],\"type\":\"heatmap\"}],\"heatmapgl\":[{\"colorbar\":{\"outlinewidth\":0,\"ticks\":\"\"},\"colorscale\":[[0.0,\"#0d0887\"],[0.1111111111111111,\"#46039f\"],[0.2222222222222222,\"#7201a8\"],[0.3333333333333333,\"#9c179e\"],[0.4444444444444444,\"#bd3786\"],[0.5555555555555556,\"#d8576b\"],[0.6666666666666666,\"#ed7953\"],[0.7777777777777778,\"#fb9f3a\"],[0.8888888888888888,\"#fdca26\"],[1.0,\"#f0f921\"]],\"type\":\"heatmapgl\"}],\"histogram\":[{\"marker\":{\"pattern\":{\"fillmode\":\"overlay\",\"size\":10,\"solidity\":0.2}},\"type\":\"histogram\"}],\"histogram2d\":[{\"colorbar\":{\"outlinewidth\":0,\"ticks\":\"\"},\"colorscale\":[[0.0,\"#0d0887\"],[0.1111111111111111,\"#46039f\"],[0.2222222222222222,\"#7201a8\"],[0.3333333333333333,\"#9c179e\"],[0.4444444444444444,\"#bd3786\"],[0.5555555555555556,\"#d8576b\"],[0.6666666666666666,\"#ed7953\"],[0.7777777777777778,\"#fb9f3a\"],[0.8888888888888888,\"#fdca26\"],[1.0,\"#f0f921\"]],\"type\":\"histogram2d\"}],\"histogram2dcontour\":[{\"colorbar\":{\"outlinewidth\":0,\"ticks\":\"\"},\"colorscale\":[[0.0,\"#0d0887\"],[0.1111111111111111,\"#46039f\"],[0.2222222222222222,\"#7201a8\"],[0.3333333333333333,\"#9c179e\"],[0.4444444444444444,\"#bd3786\"],[0.5555555555555556,\"#d8576b\"],[0.6666666666666666,\"#ed7953\"],[0.7777777777777778,\"#fb9f3a\"],[0.8888888888888888,\"#fdca26\"],[1.0,\"#f0f921\"]],\"type\":\"histogram2dcontour\"}],\"mesh3d\":[{\"colorbar\":{\"outlinewidth\":0,\"ticks\":\"\"},\"type\":\"mesh3d\"}],\"parcoords\":[{\"line\":{\"colorbar\":{\"outlinewidth\":0,\"ticks\":\"\"}},\"type\":\"parcoords\"}],\"pie\":[{\"automargin\":true,\"type\":\"pie\"}],\"scatter\":[{\"marker\":{\"colorbar\":{\"outlinewidth\":0,\"ticks\":\"\"}},\"type\":\"scatter\"}],\"scatter3d\":[{\"line\":{\"colorbar\":{\"outlinewidth\":0,\"ticks\":\"\"}},\"marker\":{\"colorbar\":{\"outlinewidth\":0,\"ticks\":\"\"}},\"type\":\"scatter3d\"}],\"scattercarpet\":[{\"marker\":{\"colorbar\":{\"outlinewidth\":0,\"ticks\":\"\"}},\"type\":\"scattercarpet\"}],\"scattergeo\":[{\"marker\":{\"colorbar\":{\"outlinewidth\":0,\"ticks\":\"\"}},\"type\":\"scattergeo\"}],\"scattergl\":[{\"marker\":{\"colorbar\":{\"outlinewidth\":0,\"ticks\":\"\"}},\"type\":\"scattergl\"}],\"scattermapbox\":[{\"marker\":{\"colorbar\":{\"outlinewidth\":0,\"ticks\":\"\"}},\"type\":\"scattermapbox\"}],\"scatterpolar\":[{\"marker\":{\"colorbar\":{\"outlinewidth\":0,\"ticks\":\"\"}},\"type\":\"scatterpolar\"}],\"scatterpolargl\":[{\"marker\":{\"colorbar\":{\"outlinewidth\":0,\"ticks\":\"\"}},\"type\":\"scatterpolargl\"}],\"scatterternary\":[{\"marker\":{\"colorbar\":{\"outlinewidth\":0,\"ticks\":\"\"}},\"type\":\"scatterternary\"}],\"surface\":[{\"colorbar\":{\"outlinewidth\":0,\"ticks\":\"\"},\"colorscale\":[[0.0,\"#0d0887\"],[0.1111111111111111,\"#46039f\"],[0.2222222222222222,\"#7201a8\"],[0.3333333333333333,\"#9c179e\"],[0.4444444444444444,\"#bd3786\"],[0.5555555555555556,\"#d8576b\"],[0.6666666666666666,\"#ed7953\"],[0.7777777777777778,\"#fb9f3a\"],[0.8888888888888888,\"#fdca26\"],[1.0,\"#f0f921\"]],\"type\":\"surface\"}],\"table\":[{\"cells\":{\"fill\":{\"color\":\"#EBF0F8\"},\"line\":{\"color\":\"white\"}},\"header\":{\"fill\":{\"color\":\"#C8D4E3\"},\"line\":{\"color\":\"white\"}},\"type\":\"table\"}]},\"layout\":{\"annotationdefaults\":{\"arrowcolor\":\"#2a3f5f\",\"arrowhead\":0,\"arrowwidth\":1},\"autotypenumbers\":\"strict\",\"coloraxis\":{\"colorbar\":{\"outlinewidth\":0,\"ticks\":\"\"}},\"colorscale\":{\"diverging\":[[0,\"#8e0152\"],[0.1,\"#c51b7d\"],[0.2,\"#de77ae\"],[0.3,\"#f1b6da\"],[0.4,\"#fde0ef\"],[0.5,\"#f7f7f7\"],[0.6,\"#e6f5d0\"],[0.7,\"#b8e186\"],[0.8,\"#7fbc41\"],[0.9,\"#4d9221\"],[1,\"#276419\"]],\"sequential\":[[0.0,\"#0d0887\"],[0.1111111111111111,\"#46039f\"],[0.2222222222222222,\"#7201a8\"],[0.3333333333333333,\"#9c179e\"],[0.4444444444444444,\"#bd3786\"],[0.5555555555555556,\"#d8576b\"],[0.6666666666666666,\"#ed7953\"],[0.7777777777777778,\"#fb9f3a\"],[0.8888888888888888,\"#fdca26\"],[1.0,\"#f0f921\"]],\"sequentialminus\":[[0.0,\"#0d0887\"],[0.1111111111111111,\"#46039f\"],[0.2222222222222222,\"#7201a8\"],[0.3333333333333333,\"#9c179e\"],[0.4444444444444444,\"#bd3786\"],[0.5555555555555556,\"#d8576b\"],[0.6666666666666666,\"#ed7953\"],[0.7777777777777778,\"#fb9f3a\"],[0.8888888888888888,\"#fdca26\"],[1.0,\"#f0f921\"]]},\"colorway\":[\"#636efa\",\"#EF553B\",\"#00cc96\",\"#ab63fa\",\"#FFA15A\",\"#19d3f3\",\"#FF6692\",\"#B6E880\",\"#FF97FF\",\"#FECB52\"],\"font\":{\"color\":\"#2a3f5f\"},\"geo\":{\"bgcolor\":\"white\",\"lakecolor\":\"white\",\"landcolor\":\"#E5ECF6\",\"showlakes\":true,\"showland\":true,\"subunitcolor\":\"white\"},\"hoverlabel\":{\"align\":\"left\"},\"hovermode\":\"closest\",\"mapbox\":{\"style\":\"light\"},\"paper_bgcolor\":\"white\",\"plot_bgcolor\":\"#E5ECF6\",\"polar\":{\"angularaxis\":{\"gridcolor\":\"white\",\"linecolor\":\"white\",\"ticks\":\"\"},\"bgcolor\":\"#E5ECF6\",\"radialaxis\":{\"gridcolor\":\"white\",\"linecolor\":\"white\",\"ticks\":\"\"}},\"scene\":{\"xaxis\":{\"backgroundcolor\":\"#E5ECF6\",\"gridcolor\":\"white\",\"gridwidth\":2,\"linecolor\":\"white\",\"showbackground\":true,\"ticks\":\"\",\"zerolinecolor\":\"white\"},\"yaxis\":{\"backgroundcolor\":\"#E5ECF6\",\"gridcolor\":\"white\",\"gridwidth\":2,\"linecolor\":\"white\",\"showbackground\":true,\"ticks\":\"\",\"zerolinecolor\":\"white\"},\"zaxis\":{\"backgroundcolor\":\"#E5ECF6\",\"gridcolor\":\"white\",\"gridwidth\":2,\"linecolor\":\"white\",\"showbackground\":true,\"ticks\":\"\",\"zerolinecolor\":\"white\"}},\"shapedefaults\":{\"line\":{\"color\":\"#2a3f5f\"}},\"ternary\":{\"aaxis\":{\"gridcolor\":\"white\",\"linecolor\":\"white\",\"ticks\":\"\"},\"baxis\":{\"gridcolor\":\"white\",\"linecolor\":\"white\",\"ticks\":\"\"},\"bgcolor\":\"#E5ECF6\",\"caxis\":{\"gridcolor\":\"white\",\"linecolor\":\"white\",\"ticks\":\"\"}},\"title\":{\"x\":0.05},\"xaxis\":{\"automargin\":true,\"gridcolor\":\"white\",\"linecolor\":\"white\",\"ticks\":\"\",\"title\":{\"standoff\":15},\"zerolinecolor\":\"white\",\"zerolinewidth\":2},\"yaxis\":{\"automargin\":true,\"gridcolor\":\"white\",\"linecolor\":\"white\",\"ticks\":\"\",\"title\":{\"standoff\":15},\"zerolinecolor\":\"white\",\"zerolinewidth\":2}}},\"xaxis\":{\"anchor\":\"y\",\"domain\":[0.0,1.0],\"title\":{\"text\":\"caller\"},\"categoryorder\":\"array\",\"categoryarray\":[\"bcftools\",\"deepvariant\",\"discosnp\",\"freebayes\",\"gatk\",\"lancet\",\"vardict\"]},\"yaxis\":{\"anchor\":\"x\",\"domain\":[0.0,1.0],\"title\":{\"text\":\"value\"},\"range\":[0,1.2]},\"legend\":{\"title\":{\"text\":\"variable\"},\"tracegroupgap\":0},\"margin\":{\"t\":60}},                        {\"responsive\": true}                    ).then(function(){\n",
       "                            \n",
       "var gd = document.getElementById('890a9f69-1aa0-485d-a993-f9c77f88735a');\n",
       "var x = new MutationObserver(function (mutations, observer) {{\n",
       "        var display = window.getComputedStyle(gd).display;\n",
       "        if (!display || display === 'none') {{\n",
       "            console.log([gd, 'removed!']);\n",
       "            Plotly.purge(gd);\n",
       "            observer.disconnect();\n",
       "        }}\n",
       "}});\n",
       "\n",
       "// Listen for the removal of the full notebook cells\n",
       "var notebookContainer = gd.closest('#notebook-container');\n",
       "if (notebookContainer) {{\n",
       "    x.observe(notebookContainer, {childList: true});\n",
       "}}\n",
       "\n",
       "// Listen for the clearing of the current output cell\n",
       "var outputEl = gd.closest('.output');\n",
       "if (outputEl) {{\n",
       "    x.observe(outputEl, {childList: true});\n",
       "}}\n",
       "\n",
       "                        })                };                });            </script>        </div>"
      ]
     },
     "metadata": {},
     "output_type": "display_data"
    }
   ],
   "source": [
    "fig = px.scatter(del_summary_nofilter, x='caller', y=['recall', 'precision'], range_y=[0,1.2],\n",
    "                 category_orders={'caller': ['bcftools', 'deepvariant', 'discosnp', 'freebayes', \n",
    "                                             'gatk', 'lancet', 'vardict']})\n",
    "fig.show()"
   ]
  },
  {
   "cell_type": "markdown",
   "id": "219ab2d4-2f0d-4dcd-adb7-433da53278c8",
   "metadata": {},
   "source": [
    "### SNP only"
   ]
  },
  {
   "cell_type": "code",
   "execution_count": 89,
   "id": "d63f0bd5-36a9-4aba-a210-6f59ff7a4b4d",
   "metadata": {
    "collapsed": true,
    "jupyter": {
     "outputs_hidden": true
    },
    "tags": []
   },
   "outputs": [
    {
     "data": {
      "text/plain": [
       "(0.0, 1.2)"
      ]
     },
     "execution_count": 89,
     "metadata": {},
     "output_type": "execute_result"
    },
    {
     "data": {
      "image/png": "[encoded data removed]",
      "text/plain": [
       "<Figure size 432x288 with 1 Axes>"
      ]
     },
     "metadata": {},
     "output_type": "display_data"
    }
   ],
   "source": [
    "fig = px.scatter(snp_summary_nofilter, x='caller', y=['recall', 'precision'], range_y=[0,1.2],\n",
    "                 category_orders={'caller': ['bcftools', 'deepvariant', 'discosnp', 'freebayes', \n",
    "                                             'gatk', 'lancet', 'vardict']})\n",
    "fig.show()"
   ]
  },
  {
   "cell_type": "markdown",
   "id": "8d86ec5d-4830-402f-b4db-53f6be785d7c",
   "metadata": {},
   "source": [
    "## How many mutations per AMR locus?"
   ]
  },
  {
   "cell_type": "markdown",
   "id": "dbebe7b0-8d51-4719-9988-530f296c2fa6",
   "metadata": {},
   "source": [
    "#### Simulated density: 1 INS / 200 bases"
   ]
  },
  {
   "cell_type": "code",
   "execution_count": 19,
   "id": "1e481fe7-c7b7-4547-91e2-777527215183",
   "metadata": {
    "tags": []
   },
   "outputs": [
    {
     "data": {
      "image/png": "[encoded data removed]",
      "text/plain": [
       "<Figure size 1440x1440 with 13 Axes>"
      ]
     },
     "metadata": {},
     "output_type": "display_data"
    }
   ],
   "source": [
    "sns.set(font_scale=1.5)\n",
    "varcount = sns.displot(sub_ins, x='SAMPLE', col='LOCI', col_wrap=4)\n",
    "varcount.set_xticklabels(rotation = 90, horizontalalignment='right')\n",
    "plt.show()"
   ]
  },
  {
   "cell_type": "markdown",
   "id": "2499e220-9aca-4919-8873-c2cefe231894",
   "metadata": {},
   "source": [
    "#### Number of mutations per locus (1 INS / 200 bases)\n",
    "##### 20 replicates"
   ]
  },
  {
   "cell_type": "code",
   "execution_count": 125,
   "id": "d3242501-f65c-4e2b-9b7d-cbfd921b070a",
   "metadata": {},
   "outputs": [
    {
     "data": {
      "text/html": [
       "<div>\n",
       "<style scoped>\n",
       "    .dataframe tbody tr th:only-of-type {\n",
       "        vertical-align: middle;\n",
       "    }\n",
       "\n",
       "    .dataframe tbody tr th {\n",
       "        vertical-align: top;\n",
       "    }\n",
       "\n",
       "    .dataframe thead th {\n",
       "        text-align: right;\n",
       "    }\n",
       "</style>\n",
       "<table border=\"1\" class=\"dataframe\">\n",
       "  <thead>\n",
       "    <tr style=\"text-align: right;\">\n",
       "      <th></th>\n",
       "      <th>CHROM</th>\n",
       "      <th>POS</th>\n",
       "      <th>REF</th>\n",
       "      <th>ALT</th>\n",
       "      <th>TYPE</th>\n",
       "      <th>INS_TYPE</th>\n",
       "      <th>LEN</th>\n",
       "      <th>QUAL</th>\n",
       "      <th>AD_REF</th>\n",
       "      <th>AD_ALT</th>\n",
       "      <th>DP</th>\n",
       "      <th>BAM_DP</th>\n",
       "      <th>GT</th>\n",
       "      <th>ZYG</th>\n",
       "      <th>RK_DISCOSNP</th>\n",
       "      <th>TOOL</th>\n",
       "      <th>SAMPLE</th>\n",
       "      <th>TRUE_POS</th>\n",
       "      <th>FALSE_POS</th>\n",
       "      <th>FALSE_NEG</th>\n",
       "    </tr>\n",
       "    <tr>\n",
       "      <th>LOCI</th>\n",
       "      <th></th>\n",
       "      <th></th>\n",
       "      <th></th>\n",
       "      <th></th>\n",
       "      <th></th>\n",
       "      <th></th>\n",
       "      <th></th>\n",
       "      <th></th>\n",
       "      <th></th>\n",
       "      <th></th>\n",
       "      <th></th>\n",
       "      <th></th>\n",
       "      <th></th>\n",
       "      <th></th>\n",
       "      <th></th>\n",
       "      <th></th>\n",
       "      <th></th>\n",
       "      <th></th>\n",
       "      <th></th>\n",
       "      <th></th>\n",
       "    </tr>\n",
       "  </thead>\n",
       "  <tbody>\n",
       "    <tr>\n",
       "      <th>embA-embB</th>\n",
       "      <td>652</td>\n",
       "      <td>652</td>\n",
       "      <td>652</td>\n",
       "      <td>652</td>\n",
       "      <td>652</td>\n",
       "      <td>652</td>\n",
       "      <td>652</td>\n",
       "      <td>652</td>\n",
       "      <td>652</td>\n",
       "      <td>652</td>\n",
       "      <td>652</td>\n",
       "      <td>652</td>\n",
       "      <td>652</td>\n",
       "      <td>652</td>\n",
       "      <td>0</td>\n",
       "      <td>652</td>\n",
       "      <td>652</td>\n",
       "      <td>652</td>\n",
       "      <td>652</td>\n",
       "      <td>652</td>\n",
       "    </tr>\n",
       "    <tr>\n",
       "      <th>embC</th>\n",
       "      <td>327</td>\n",
       "      <td>327</td>\n",
       "      <td>327</td>\n",
       "      <td>327</td>\n",
       "      <td>327</td>\n",
       "      <td>327</td>\n",
       "      <td>327</td>\n",
       "      <td>327</td>\n",
       "      <td>327</td>\n",
       "      <td>327</td>\n",
       "      <td>327</td>\n",
       "      <td>327</td>\n",
       "      <td>327</td>\n",
       "      <td>327</td>\n",
       "      <td>0</td>\n",
       "      <td>327</td>\n",
       "      <td>327</td>\n",
       "      <td>327</td>\n",
       "      <td>327</td>\n",
       "      <td>327</td>\n",
       "    </tr>\n",
       "    <tr>\n",
       "      <th>gidB</th>\n",
       "      <td>65</td>\n",
       "      <td>65</td>\n",
       "      <td>65</td>\n",
       "      <td>65</td>\n",
       "      <td>65</td>\n",
       "      <td>65</td>\n",
       "      <td>65</td>\n",
       "      <td>63</td>\n",
       "      <td>63</td>\n",
       "      <td>63</td>\n",
       "      <td>63</td>\n",
       "      <td>65</td>\n",
       "      <td>65</td>\n",
       "      <td>63</td>\n",
       "      <td>0</td>\n",
       "      <td>65</td>\n",
       "      <td>65</td>\n",
       "      <td>65</td>\n",
       "      <td>65</td>\n",
       "      <td>65</td>\n",
       "    </tr>\n",
       "    <tr>\n",
       "      <th>gyrA</th>\n",
       "      <td>249</td>\n",
       "      <td>249</td>\n",
       "      <td>249</td>\n",
       "      <td>249</td>\n",
       "      <td>249</td>\n",
       "      <td>249</td>\n",
       "      <td>249</td>\n",
       "      <td>247</td>\n",
       "      <td>247</td>\n",
       "      <td>247</td>\n",
       "      <td>247</td>\n",
       "      <td>249</td>\n",
       "      <td>249</td>\n",
       "      <td>247</td>\n",
       "      <td>0</td>\n",
       "      <td>249</td>\n",
       "      <td>249</td>\n",
       "      <td>249</td>\n",
       "      <td>249</td>\n",
       "      <td>249</td>\n",
       "    </tr>\n",
       "    <tr>\n",
       "      <th>gyrB</th>\n",
       "      <td>209</td>\n",
       "      <td>209</td>\n",
       "      <td>209</td>\n",
       "      <td>209</td>\n",
       "      <td>209</td>\n",
       "      <td>209</td>\n",
       "      <td>209</td>\n",
       "      <td>209</td>\n",
       "      <td>209</td>\n",
       "      <td>209</td>\n",
       "      <td>209</td>\n",
       "      <td>209</td>\n",
       "      <td>209</td>\n",
       "      <td>209</td>\n",
       "      <td>0</td>\n",
       "      <td>209</td>\n",
       "      <td>209</td>\n",
       "      <td>209</td>\n",
       "      <td>209</td>\n",
       "      <td>209</td>\n",
       "    </tr>\n",
       "    <tr>\n",
       "      <th>katG</th>\n",
       "      <td>225</td>\n",
       "      <td>225</td>\n",
       "      <td>225</td>\n",
       "      <td>225</td>\n",
       "      <td>225</td>\n",
       "      <td>225</td>\n",
       "      <td>225</td>\n",
       "      <td>225</td>\n",
       "      <td>225</td>\n",
       "      <td>225</td>\n",
       "      <td>225</td>\n",
       "      <td>225</td>\n",
       "      <td>225</td>\n",
       "      <td>225</td>\n",
       "      <td>0</td>\n",
       "      <td>225</td>\n",
       "      <td>225</td>\n",
       "      <td>225</td>\n",
       "      <td>225</td>\n",
       "      <td>225</td>\n",
       "    </tr>\n",
       "    <tr>\n",
       "      <th>p-ahpC</th>\n",
       "      <td>70</td>\n",
       "      <td>70</td>\n",
       "      <td>70</td>\n",
       "      <td>70</td>\n",
       "      <td>70</td>\n",
       "      <td>70</td>\n",
       "      <td>70</td>\n",
       "      <td>70</td>\n",
       "      <td>70</td>\n",
       "      <td>70</td>\n",
       "      <td>70</td>\n",
       "      <td>70</td>\n",
       "      <td>70</td>\n",
       "      <td>70</td>\n",
       "      <td>0</td>\n",
       "      <td>70</td>\n",
       "      <td>70</td>\n",
       "      <td>70</td>\n",
       "      <td>70</td>\n",
       "      <td>70</td>\n",
       "    </tr>\n",
       "    <tr>\n",
       "      <th>p-eis</th>\n",
       "      <td>152</td>\n",
       "      <td>152</td>\n",
       "      <td>152</td>\n",
       "      <td>152</td>\n",
       "      <td>152</td>\n",
       "      <td>152</td>\n",
       "      <td>152</td>\n",
       "      <td>152</td>\n",
       "      <td>152</td>\n",
       "      <td>152</td>\n",
       "      <td>152</td>\n",
       "      <td>152</td>\n",
       "      <td>152</td>\n",
       "      <td>152</td>\n",
       "      <td>0</td>\n",
       "      <td>152</td>\n",
       "      <td>152</td>\n",
       "      <td>152</td>\n",
       "      <td>152</td>\n",
       "      <td>152</td>\n",
       "    </tr>\n",
       "    <tr>\n",
       "      <th>p-fabG1-inhA</th>\n",
       "      <td>170</td>\n",
       "      <td>170</td>\n",
       "      <td>170</td>\n",
       "      <td>170</td>\n",
       "      <td>170</td>\n",
       "      <td>170</td>\n",
       "      <td>170</td>\n",
       "      <td>170</td>\n",
       "      <td>170</td>\n",
       "      <td>170</td>\n",
       "      <td>170</td>\n",
       "      <td>170</td>\n",
       "      <td>170</td>\n",
       "      <td>170</td>\n",
       "      <td>0</td>\n",
       "      <td>170</td>\n",
       "      <td>170</td>\n",
       "      <td>170</td>\n",
       "      <td>170</td>\n",
       "      <td>170</td>\n",
       "    </tr>\n",
       "    <tr>\n",
       "      <th>pncA</th>\n",
       "      <td>54</td>\n",
       "      <td>54</td>\n",
       "      <td>54</td>\n",
       "      <td>54</td>\n",
       "      <td>54</td>\n",
       "      <td>54</td>\n",
       "      <td>54</td>\n",
       "      <td>54</td>\n",
       "      <td>54</td>\n",
       "      <td>54</td>\n",
       "      <td>54</td>\n",
       "      <td>54</td>\n",
       "      <td>54</td>\n",
       "      <td>54</td>\n",
       "      <td>0</td>\n",
       "      <td>54</td>\n",
       "      <td>54</td>\n",
       "      <td>54</td>\n",
       "      <td>54</td>\n",
       "      <td>54</td>\n",
       "    </tr>\n",
       "    <tr>\n",
       "      <th>rpoB</th>\n",
       "      <td>353</td>\n",
       "      <td>353</td>\n",
       "      <td>353</td>\n",
       "      <td>353</td>\n",
       "      <td>353</td>\n",
       "      <td>353</td>\n",
       "      <td>353</td>\n",
       "      <td>352</td>\n",
       "      <td>352</td>\n",
       "      <td>352</td>\n",
       "      <td>352</td>\n",
       "      <td>353</td>\n",
       "      <td>353</td>\n",
       "      <td>352</td>\n",
       "      <td>0</td>\n",
       "      <td>353</td>\n",
       "      <td>353</td>\n",
       "      <td>353</td>\n",
       "      <td>353</td>\n",
       "      <td>353</td>\n",
       "    </tr>\n",
       "    <tr>\n",
       "      <th>rpsL</th>\n",
       "      <td>38</td>\n",
       "      <td>38</td>\n",
       "      <td>38</td>\n",
       "      <td>38</td>\n",
       "      <td>38</td>\n",
       "      <td>38</td>\n",
       "      <td>38</td>\n",
       "      <td>38</td>\n",
       "      <td>38</td>\n",
       "      <td>38</td>\n",
       "      <td>38</td>\n",
       "      <td>38</td>\n",
       "      <td>38</td>\n",
       "      <td>38</td>\n",
       "      <td>0</td>\n",
       "      <td>38</td>\n",
       "      <td>38</td>\n",
       "      <td>38</td>\n",
       "      <td>38</td>\n",
       "      <td>38</td>\n",
       "    </tr>\n",
       "    <tr>\n",
       "      <th>rrs</th>\n",
       "      <td>156</td>\n",
       "      <td>156</td>\n",
       "      <td>156</td>\n",
       "      <td>156</td>\n",
       "      <td>156</td>\n",
       "      <td>156</td>\n",
       "      <td>156</td>\n",
       "      <td>156</td>\n",
       "      <td>156</td>\n",
       "      <td>156</td>\n",
       "      <td>156</td>\n",
       "      <td>156</td>\n",
       "      <td>156</td>\n",
       "      <td>156</td>\n",
       "      <td>0</td>\n",
       "      <td>156</td>\n",
       "      <td>156</td>\n",
       "      <td>156</td>\n",
       "      <td>156</td>\n",
       "      <td>156</td>\n",
       "    </tr>\n",
       "  </tbody>\n",
       "</table>\n",
       "</div>"
      ],
      "text/plain": [
       "              CHROM  POS  REF  ALT  TYPE  INS_TYPE  LEN  QUAL  AD_REF  AD_ALT  \\\n",
       "LOCI                                                                            \n",
       "embA-embB       652  652  652  652   652       652  652   652     652     652   \n",
       "embC            327  327  327  327   327       327  327   327     327     327   \n",
       "gidB             65   65   65   65    65        65   65    63      63      63   \n",
       "gyrA            249  249  249  249   249       249  249   247     247     247   \n",
       "gyrB            209  209  209  209   209       209  209   209     209     209   \n",
       "katG            225  225  225  225   225       225  225   225     225     225   \n",
       "p-ahpC           70   70   70   70    70        70   70    70      70      70   \n",
       "p-eis           152  152  152  152   152       152  152   152     152     152   \n",
       "p-fabG1-inhA    170  170  170  170   170       170  170   170     170     170   \n",
       "pncA             54   54   54   54    54        54   54    54      54      54   \n",
       "rpoB            353  353  353  353   353       353  353   352     352     352   \n",
       "rpsL             38   38   38   38    38        38   38    38      38      38   \n",
       "rrs             156  156  156  156   156       156  156   156     156     156   \n",
       "\n",
       "               DP  BAM_DP   GT  ZYG  RK_DISCOSNP  TOOL  SAMPLE  TRUE_POS  \\\n",
       "LOCI                                                                       \n",
       "embA-embB     652     652  652  652            0   652     652       652   \n",
       "embC          327     327  327  327            0   327     327       327   \n",
       "gidB           63      65   65   63            0    65      65        65   \n",
       "gyrA          247     249  249  247            0   249     249       249   \n",
       "gyrB          209     209  209  209            0   209     209       209   \n",
       "katG          225     225  225  225            0   225     225       225   \n",
       "p-ahpC         70      70   70   70            0    70      70        70   \n",
       "p-eis         152     152  152  152            0   152     152       152   \n",
       "p-fabG1-inhA  170     170  170  170            0   170     170       170   \n",
       "pncA           54      54   54   54            0    54      54        54   \n",
       "rpoB          352     353  353  352            0   353     353       353   \n",
       "rpsL           38      38   38   38            0    38      38        38   \n",
       "rrs           156     156  156  156            0   156     156       156   \n",
       "\n",
       "              FALSE_POS  FALSE_NEG  \n",
       "LOCI                                \n",
       "embA-embB           652        652  \n",
       "embC                327        327  \n",
       "gidB                 65         65  \n",
       "gyrA                249        249  \n",
       "gyrB                209        209  \n",
       "katG                225        225  \n",
       "p-ahpC               70         70  \n",
       "p-eis               152        152  \n",
       "p-fabG1-inhA        170        170  \n",
       "pncA                 54         54  \n",
       "rpoB                353        353  \n",
       "rpsL                 38         38  \n",
       "rrs                 156        156  "
      ]
     },
     "execution_count": 125,
     "metadata": {},
     "output_type": "execute_result"
    }
   ],
   "source": [
    "sub_ins.groupby('LOCI').count()"
   ]
  },
  {
   "cell_type": "markdown",
   "id": "cebcce91-f792-4719-91a2-824d557ff293",
   "metadata": {},
   "source": [
    "#### Simulated density: 1 DEL / 200 bases"
   ]
  },
  {
   "cell_type": "code",
   "execution_count": 40,
   "id": "1d84b551-8206-4ac4-8ca0-724c079d932f",
   "metadata": {
    "tags": []
   },
   "outputs": [
    {
     "data": {
      "image/png": "[encoded data removed]",
      "text/plain": [
       "<Figure size 1440x1440 with 13 Axes>"
      ]
     },
     "metadata": {},
     "output_type": "display_data"
    }
   ],
   "source": [
    "sns.set(font_scale=1.5)\n",
    "varcount = sns.displot(sub_del, x='SAMPLE', col='LOCI', col_wrap=4)\n",
    "varcount.set_xticklabels(rotation = 90, horizontalalignment='right')\n",
    "plt.show()"
   ]
  },
  {
   "cell_type": "markdown",
   "id": "bc84901a-afbb-4642-8535-04685cf20109",
   "metadata": {},
   "source": [
    "#### Number of mutations per locus (1 DEL / 200 bases)"
   ]
  },
  {
   "cell_type": "code",
   "execution_count": 37,
   "id": "6f6678b7-45cf-462d-85a5-e56d79148f88",
   "metadata": {},
   "outputs": [
    {
     "data": {
      "text/html": [
       "<div>\n",
       "<style scoped>\n",
       "    .dataframe tbody tr th:only-of-type {\n",
       "        vertical-align: middle;\n",
       "    }\n",
       "\n",
       "    .dataframe tbody tr th {\n",
       "        vertical-align: top;\n",
       "    }\n",
       "\n",
       "    .dataframe thead th {\n",
       "        text-align: right;\n",
       "    }\n",
       "</style>\n",
       "<table border=\"1\" class=\"dataframe\">\n",
       "  <thead>\n",
       "    <tr style=\"text-align: right;\">\n",
       "      <th></th>\n",
       "      <th>CHROM</th>\n",
       "      <th>POS</th>\n",
       "      <th>REF</th>\n",
       "      <th>ALT</th>\n",
       "      <th>TYPE</th>\n",
       "      <th>INS_TYPE</th>\n",
       "      <th>LEN</th>\n",
       "      <th>QUAL</th>\n",
       "      <th>AD_REF</th>\n",
       "      <th>AD_ALT</th>\n",
       "      <th>DP</th>\n",
       "      <th>BAM_DP</th>\n",
       "      <th>GT</th>\n",
       "      <th>ZYG</th>\n",
       "      <th>RK_DISCOSNP</th>\n",
       "      <th>TOOL</th>\n",
       "      <th>SAMPLE</th>\n",
       "      <th>TRUE_POS</th>\n",
       "      <th>FALSE_POS</th>\n",
       "      <th>FALSE_NEG</th>\n",
       "    </tr>\n",
       "    <tr>\n",
       "      <th>LOCI</th>\n",
       "      <th></th>\n",
       "      <th></th>\n",
       "      <th></th>\n",
       "      <th></th>\n",
       "      <th></th>\n",
       "      <th></th>\n",
       "      <th></th>\n",
       "      <th></th>\n",
       "      <th></th>\n",
       "      <th></th>\n",
       "      <th></th>\n",
       "      <th></th>\n",
       "      <th></th>\n",
       "      <th></th>\n",
       "      <th></th>\n",
       "      <th></th>\n",
       "      <th></th>\n",
       "      <th></th>\n",
       "      <th></th>\n",
       "      <th></th>\n",
       "    </tr>\n",
       "  </thead>\n",
       "  <tbody>\n",
       "    <tr>\n",
       "      <th>embA-embB</th>\n",
       "      <td>584</td>\n",
       "      <td>584</td>\n",
       "      <td>584</td>\n",
       "      <td>584</td>\n",
       "      <td>584</td>\n",
       "      <td>0</td>\n",
       "      <td>584</td>\n",
       "      <td>584</td>\n",
       "      <td>584</td>\n",
       "      <td>584</td>\n",
       "      <td>584</td>\n",
       "      <td>584</td>\n",
       "      <td>584</td>\n",
       "      <td>584</td>\n",
       "      <td>0</td>\n",
       "      <td>584</td>\n",
       "      <td>584</td>\n",
       "      <td>584</td>\n",
       "      <td>584</td>\n",
       "      <td>584</td>\n",
       "    </tr>\n",
       "    <tr>\n",
       "      <th>embC</th>\n",
       "      <td>289</td>\n",
       "      <td>289</td>\n",
       "      <td>289</td>\n",
       "      <td>289</td>\n",
       "      <td>289</td>\n",
       "      <td>0</td>\n",
       "      <td>289</td>\n",
       "      <td>289</td>\n",
       "      <td>289</td>\n",
       "      <td>289</td>\n",
       "      <td>289</td>\n",
       "      <td>289</td>\n",
       "      <td>289</td>\n",
       "      <td>289</td>\n",
       "      <td>0</td>\n",
       "      <td>289</td>\n",
       "      <td>289</td>\n",
       "      <td>289</td>\n",
       "      <td>289</td>\n",
       "      <td>289</td>\n",
       "    </tr>\n",
       "    <tr>\n",
       "      <th>gidB</th>\n",
       "      <td>60</td>\n",
       "      <td>60</td>\n",
       "      <td>60</td>\n",
       "      <td>60</td>\n",
       "      <td>60</td>\n",
       "      <td>0</td>\n",
       "      <td>60</td>\n",
       "      <td>60</td>\n",
       "      <td>60</td>\n",
       "      <td>60</td>\n",
       "      <td>60</td>\n",
       "      <td>60</td>\n",
       "      <td>60</td>\n",
       "      <td>60</td>\n",
       "      <td>0</td>\n",
       "      <td>60</td>\n",
       "      <td>60</td>\n",
       "      <td>60</td>\n",
       "      <td>60</td>\n",
       "      <td>60</td>\n",
       "    </tr>\n",
       "    <tr>\n",
       "      <th>gyrA</th>\n",
       "      <td>225</td>\n",
       "      <td>225</td>\n",
       "      <td>225</td>\n",
       "      <td>225</td>\n",
       "      <td>225</td>\n",
       "      <td>0</td>\n",
       "      <td>225</td>\n",
       "      <td>225</td>\n",
       "      <td>225</td>\n",
       "      <td>225</td>\n",
       "      <td>225</td>\n",
       "      <td>225</td>\n",
       "      <td>225</td>\n",
       "      <td>225</td>\n",
       "      <td>0</td>\n",
       "      <td>225</td>\n",
       "      <td>225</td>\n",
       "      <td>225</td>\n",
       "      <td>225</td>\n",
       "      <td>225</td>\n",
       "    </tr>\n",
       "    <tr>\n",
       "      <th>gyrB</th>\n",
       "      <td>171</td>\n",
       "      <td>171</td>\n",
       "      <td>171</td>\n",
       "      <td>171</td>\n",
       "      <td>171</td>\n",
       "      <td>0</td>\n",
       "      <td>171</td>\n",
       "      <td>171</td>\n",
       "      <td>171</td>\n",
       "      <td>171</td>\n",
       "      <td>171</td>\n",
       "      <td>171</td>\n",
       "      <td>171</td>\n",
       "      <td>171</td>\n",
       "      <td>0</td>\n",
       "      <td>171</td>\n",
       "      <td>171</td>\n",
       "      <td>171</td>\n",
       "      <td>171</td>\n",
       "      <td>171</td>\n",
       "    </tr>\n",
       "    <tr>\n",
       "      <th>katG</th>\n",
       "      <td>196</td>\n",
       "      <td>196</td>\n",
       "      <td>196</td>\n",
       "      <td>196</td>\n",
       "      <td>196</td>\n",
       "      <td>0</td>\n",
       "      <td>196</td>\n",
       "      <td>196</td>\n",
       "      <td>196</td>\n",
       "      <td>196</td>\n",
       "      <td>196</td>\n",
       "      <td>196</td>\n",
       "      <td>196</td>\n",
       "      <td>196</td>\n",
       "      <td>0</td>\n",
       "      <td>196</td>\n",
       "      <td>196</td>\n",
       "      <td>196</td>\n",
       "      <td>196</td>\n",
       "      <td>196</td>\n",
       "    </tr>\n",
       "    <tr>\n",
       "      <th>p-ahpC</th>\n",
       "      <td>61</td>\n",
       "      <td>61</td>\n",
       "      <td>61</td>\n",
       "      <td>61</td>\n",
       "      <td>61</td>\n",
       "      <td>0</td>\n",
       "      <td>61</td>\n",
       "      <td>61</td>\n",
       "      <td>61</td>\n",
       "      <td>61</td>\n",
       "      <td>61</td>\n",
       "      <td>61</td>\n",
       "      <td>61</td>\n",
       "      <td>61</td>\n",
       "      <td>0</td>\n",
       "      <td>61</td>\n",
       "      <td>61</td>\n",
       "      <td>61</td>\n",
       "      <td>61</td>\n",
       "      <td>61</td>\n",
       "    </tr>\n",
       "    <tr>\n",
       "      <th>p-eis</th>\n",
       "      <td>137</td>\n",
       "      <td>137</td>\n",
       "      <td>137</td>\n",
       "      <td>137</td>\n",
       "      <td>137</td>\n",
       "      <td>0</td>\n",
       "      <td>137</td>\n",
       "      <td>137</td>\n",
       "      <td>137</td>\n",
       "      <td>137</td>\n",
       "      <td>137</td>\n",
       "      <td>137</td>\n",
       "      <td>137</td>\n",
       "      <td>137</td>\n",
       "      <td>0</td>\n",
       "      <td>137</td>\n",
       "      <td>137</td>\n",
       "      <td>137</td>\n",
       "      <td>137</td>\n",
       "      <td>137</td>\n",
       "    </tr>\n",
       "    <tr>\n",
       "      <th>p-fabG1-inhA</th>\n",
       "      <td>154</td>\n",
       "      <td>154</td>\n",
       "      <td>154</td>\n",
       "      <td>154</td>\n",
       "      <td>154</td>\n",
       "      <td>0</td>\n",
       "      <td>154</td>\n",
       "      <td>154</td>\n",
       "      <td>154</td>\n",
       "      <td>154</td>\n",
       "      <td>154</td>\n",
       "      <td>154</td>\n",
       "      <td>154</td>\n",
       "      <td>154</td>\n",
       "      <td>0</td>\n",
       "      <td>154</td>\n",
       "      <td>154</td>\n",
       "      <td>154</td>\n",
       "      <td>154</td>\n",
       "      <td>154</td>\n",
       "    </tr>\n",
       "    <tr>\n",
       "      <th>pncA</th>\n",
       "      <td>50</td>\n",
       "      <td>50</td>\n",
       "      <td>50</td>\n",
       "      <td>50</td>\n",
       "      <td>50</td>\n",
       "      <td>0</td>\n",
       "      <td>50</td>\n",
       "      <td>50</td>\n",
       "      <td>50</td>\n",
       "      <td>50</td>\n",
       "      <td>50</td>\n",
       "      <td>50</td>\n",
       "      <td>50</td>\n",
       "      <td>50</td>\n",
       "      <td>0</td>\n",
       "      <td>50</td>\n",
       "      <td>50</td>\n",
       "      <td>50</td>\n",
       "      <td>50</td>\n",
       "      <td>50</td>\n",
       "    </tr>\n",
       "    <tr>\n",
       "      <th>rpoB</th>\n",
       "      <td>320</td>\n",
       "      <td>320</td>\n",
       "      <td>320</td>\n",
       "      <td>320</td>\n",
       "      <td>320</td>\n",
       "      <td>0</td>\n",
       "      <td>320</td>\n",
       "      <td>320</td>\n",
       "      <td>320</td>\n",
       "      <td>320</td>\n",
       "      <td>320</td>\n",
       "      <td>320</td>\n",
       "      <td>320</td>\n",
       "      <td>320</td>\n",
       "      <td>0</td>\n",
       "      <td>320</td>\n",
       "      <td>320</td>\n",
       "      <td>320</td>\n",
       "      <td>320</td>\n",
       "      <td>320</td>\n",
       "    </tr>\n",
       "    <tr>\n",
       "      <th>rpsL</th>\n",
       "      <td>35</td>\n",
       "      <td>35</td>\n",
       "      <td>35</td>\n",
       "      <td>35</td>\n",
       "      <td>35</td>\n",
       "      <td>0</td>\n",
       "      <td>35</td>\n",
       "      <td>35</td>\n",
       "      <td>35</td>\n",
       "      <td>35</td>\n",
       "      <td>35</td>\n",
       "      <td>35</td>\n",
       "      <td>35</td>\n",
       "      <td>35</td>\n",
       "      <td>0</td>\n",
       "      <td>35</td>\n",
       "      <td>35</td>\n",
       "      <td>35</td>\n",
       "      <td>35</td>\n",
       "      <td>35</td>\n",
       "    </tr>\n",
       "    <tr>\n",
       "      <th>rrs</th>\n",
       "      <td>134</td>\n",
       "      <td>134</td>\n",
       "      <td>134</td>\n",
       "      <td>134</td>\n",
       "      <td>134</td>\n",
       "      <td>0</td>\n",
       "      <td>134</td>\n",
       "      <td>134</td>\n",
       "      <td>134</td>\n",
       "      <td>134</td>\n",
       "      <td>134</td>\n",
       "      <td>134</td>\n",
       "      <td>134</td>\n",
       "      <td>134</td>\n",
       "      <td>0</td>\n",
       "      <td>134</td>\n",
       "      <td>134</td>\n",
       "      <td>134</td>\n",
       "      <td>134</td>\n",
       "      <td>134</td>\n",
       "    </tr>\n",
       "  </tbody>\n",
       "</table>\n",
       "</div>"
      ],
      "text/plain": [
       "              CHROM  POS  REF  ALT  TYPE  INS_TYPE  LEN  QUAL  AD_REF  AD_ALT  \\\n",
       "LOCI                                                                            \n",
       "embA-embB       584  584  584  584   584         0  584   584     584     584   \n",
       "embC            289  289  289  289   289         0  289   289     289     289   \n",
       "gidB             60   60   60   60    60         0   60    60      60      60   \n",
       "gyrA            225  225  225  225   225         0  225   225     225     225   \n",
       "gyrB            171  171  171  171   171         0  171   171     171     171   \n",
       "katG            196  196  196  196   196         0  196   196     196     196   \n",
       "p-ahpC           61   61   61   61    61         0   61    61      61      61   \n",
       "p-eis           137  137  137  137   137         0  137   137     137     137   \n",
       "p-fabG1-inhA    154  154  154  154   154         0  154   154     154     154   \n",
       "pncA             50   50   50   50    50         0   50    50      50      50   \n",
       "rpoB            320  320  320  320   320         0  320   320     320     320   \n",
       "rpsL             35   35   35   35    35         0   35    35      35      35   \n",
       "rrs             134  134  134  134   134         0  134   134     134     134   \n",
       "\n",
       "               DP  BAM_DP   GT  ZYG  RK_DISCOSNP  TOOL  SAMPLE  TRUE_POS  \\\n",
       "LOCI                                                                       \n",
       "embA-embB     584     584  584  584            0   584     584       584   \n",
       "embC          289     289  289  289            0   289     289       289   \n",
       "gidB           60      60   60   60            0    60      60        60   \n",
       "gyrA          225     225  225  225            0   225     225       225   \n",
       "gyrB          171     171  171  171            0   171     171       171   \n",
       "katG          196     196  196  196            0   196     196       196   \n",
       "p-ahpC         61      61   61   61            0    61      61        61   \n",
       "p-eis         137     137  137  137            0   137     137       137   \n",
       "p-fabG1-inhA  154     154  154  154            0   154     154       154   \n",
       "pncA           50      50   50   50            0    50      50        50   \n",
       "rpoB          320     320  320  320            0   320     320       320   \n",
       "rpsL           35      35   35   35            0    35      35        35   \n",
       "rrs           134     134  134  134            0   134     134       134   \n",
       "\n",
       "              FALSE_POS  FALSE_NEG  \n",
       "LOCI                                \n",
       "embA-embB           584        584  \n",
       "embC                289        289  \n",
       "gidB                 60         60  \n",
       "gyrA                225        225  \n",
       "gyrB                171        171  \n",
       "katG                196        196  \n",
       "p-ahpC               61         61  \n",
       "p-eis               137        137  \n",
       "p-fabG1-inhA        154        154  \n",
       "pncA                 50         50  \n",
       "rpoB                320        320  \n",
       "rpsL                 35         35  \n",
       "rrs                 134        134  "
      ]
     },
     "execution_count": 37,
     "metadata": {},
     "output_type": "execute_result"
    }
   ],
   "source": [
    "sub_del.groupby('LOCI').count()"
   ]
  },
  {
   "cell_type": "markdown",
   "id": "5024bf1d-123a-4386-8b81-24839694c15c",
   "metadata": {},
   "source": [
    "#### Simulated density: 1 SNP / 200 bases"
   ]
  },
  {
   "cell_type": "code",
   "execution_count": 54,
   "id": "6a08b726-9790-4c5c-b297-99c1550b72f1",
   "metadata": {
    "tags": []
   },
   "outputs": [
    {
     "data": {
      "image/png": "[encoded data removed]",
      "text/plain": [
       "<Figure size 1440x1440 with 13 Axes>"
      ]
     },
     "metadata": {},
     "output_type": "display_data"
    }
   ],
   "source": [
    "sns.set(font_scale=1.5)\n",
    "varcount = sns.displot(sub_snp, x='SAMPLE', col='LOCI', col_wrap=4)\n",
    "varcount.set_xticklabels(rotation = 90, horizontalalignment='right')\n",
    "plt.show()"
   ]
  },
  {
   "cell_type": "markdown",
   "id": "f2ba379a-4a4e-43af-8971-1b35997dd3d1",
   "metadata": {},
   "source": [
    "#### Number of mutations per locus (1 SNP / 200 bases)"
   ]
  },
  {
   "cell_type": "code",
   "execution_count": 105,
   "id": "55c7fad7-4691-4805-8a31-f4f1ad1de9d8",
   "metadata": {},
   "outputs": [
    {
     "data": {
      "text/html": [
       "<div>\n",
       "<style scoped>\n",
       "    .dataframe tbody tr th:only-of-type {\n",
       "        vertical-align: middle;\n",
       "    }\n",
       "\n",
       "    .dataframe tbody tr th {\n",
       "        vertical-align: top;\n",
       "    }\n",
       "\n",
       "    .dataframe thead th {\n",
       "        text-align: right;\n",
       "    }\n",
       "</style>\n",
       "<table border=\"1\" class=\"dataframe\">\n",
       "  <thead>\n",
       "    <tr style=\"text-align: right;\">\n",
       "      <th></th>\n",
       "      <th>CHROM</th>\n",
       "      <th>POS</th>\n",
       "      <th>REF</th>\n",
       "      <th>ALT</th>\n",
       "      <th>TYPE</th>\n",
       "      <th>INS_TYPE</th>\n",
       "      <th>LEN</th>\n",
       "      <th>QUAL</th>\n",
       "      <th>AD_REF</th>\n",
       "      <th>AD_ALT</th>\n",
       "      <th>DP</th>\n",
       "      <th>BAM_DP</th>\n",
       "      <th>GT</th>\n",
       "      <th>ZYG</th>\n",
       "      <th>RK_DISCOSNP</th>\n",
       "      <th>TOOL</th>\n",
       "      <th>SAMPLE</th>\n",
       "      <th>TRUE_POS</th>\n",
       "      <th>FALSE_POS</th>\n",
       "      <th>FALSE_NEG</th>\n",
       "    </tr>\n",
       "    <tr>\n",
       "      <th>LOCI</th>\n",
       "      <th></th>\n",
       "      <th></th>\n",
       "      <th></th>\n",
       "      <th></th>\n",
       "      <th></th>\n",
       "      <th></th>\n",
       "      <th></th>\n",
       "      <th></th>\n",
       "      <th></th>\n",
       "      <th></th>\n",
       "      <th></th>\n",
       "      <th></th>\n",
       "      <th></th>\n",
       "      <th></th>\n",
       "      <th></th>\n",
       "      <th></th>\n",
       "      <th></th>\n",
       "      <th></th>\n",
       "      <th></th>\n",
       "      <th></th>\n",
       "    </tr>\n",
       "  </thead>\n",
       "  <tbody>\n",
       "    <tr>\n",
       "      <th>embA-embB</th>\n",
       "      <td>330</td>\n",
       "      <td>330</td>\n",
       "      <td>330</td>\n",
       "      <td>330</td>\n",
       "      <td>330</td>\n",
       "      <td>0</td>\n",
       "      <td>330</td>\n",
       "      <td>330</td>\n",
       "      <td>330</td>\n",
       "      <td>330</td>\n",
       "      <td>330</td>\n",
       "      <td>330</td>\n",
       "      <td>330</td>\n",
       "      <td>330</td>\n",
       "      <td>0</td>\n",
       "      <td>330</td>\n",
       "      <td>330</td>\n",
       "      <td>330</td>\n",
       "      <td>330</td>\n",
       "      <td>330</td>\n",
       "    </tr>\n",
       "    <tr>\n",
       "      <th>embC</th>\n",
       "      <td>165</td>\n",
       "      <td>165</td>\n",
       "      <td>165</td>\n",
       "      <td>165</td>\n",
       "      <td>165</td>\n",
       "      <td>0</td>\n",
       "      <td>165</td>\n",
       "      <td>165</td>\n",
       "      <td>165</td>\n",
       "      <td>165</td>\n",
       "      <td>165</td>\n",
       "      <td>165</td>\n",
       "      <td>165</td>\n",
       "      <td>165</td>\n",
       "      <td>0</td>\n",
       "      <td>165</td>\n",
       "      <td>165</td>\n",
       "      <td>165</td>\n",
       "      <td>165</td>\n",
       "      <td>165</td>\n",
       "    </tr>\n",
       "    <tr>\n",
       "      <th>gidB</th>\n",
       "      <td>36</td>\n",
       "      <td>36</td>\n",
       "      <td>36</td>\n",
       "      <td>36</td>\n",
       "      <td>36</td>\n",
       "      <td>0</td>\n",
       "      <td>36</td>\n",
       "      <td>36</td>\n",
       "      <td>36</td>\n",
       "      <td>36</td>\n",
       "      <td>36</td>\n",
       "      <td>36</td>\n",
       "      <td>36</td>\n",
       "      <td>36</td>\n",
       "      <td>0</td>\n",
       "      <td>36</td>\n",
       "      <td>36</td>\n",
       "      <td>36</td>\n",
       "      <td>36</td>\n",
       "      <td>36</td>\n",
       "    </tr>\n",
       "    <tr>\n",
       "      <th>gyrA</th>\n",
       "      <td>121</td>\n",
       "      <td>121</td>\n",
       "      <td>121</td>\n",
       "      <td>121</td>\n",
       "      <td>121</td>\n",
       "      <td>0</td>\n",
       "      <td>121</td>\n",
       "      <td>121</td>\n",
       "      <td>121</td>\n",
       "      <td>121</td>\n",
       "      <td>121</td>\n",
       "      <td>121</td>\n",
       "      <td>121</td>\n",
       "      <td>121</td>\n",
       "      <td>0</td>\n",
       "      <td>121</td>\n",
       "      <td>121</td>\n",
       "      <td>121</td>\n",
       "      <td>121</td>\n",
       "      <td>121</td>\n",
       "    </tr>\n",
       "    <tr>\n",
       "      <th>gyrB</th>\n",
       "      <td>98</td>\n",
       "      <td>98</td>\n",
       "      <td>98</td>\n",
       "      <td>98</td>\n",
       "      <td>98</td>\n",
       "      <td>0</td>\n",
       "      <td>98</td>\n",
       "      <td>98</td>\n",
       "      <td>98</td>\n",
       "      <td>98</td>\n",
       "      <td>98</td>\n",
       "      <td>98</td>\n",
       "      <td>98</td>\n",
       "      <td>98</td>\n",
       "      <td>0</td>\n",
       "      <td>98</td>\n",
       "      <td>98</td>\n",
       "      <td>98</td>\n",
       "      <td>98</td>\n",
       "      <td>98</td>\n",
       "    </tr>\n",
       "    <tr>\n",
       "      <th>katG</th>\n",
       "      <td>117</td>\n",
       "      <td>117</td>\n",
       "      <td>117</td>\n",
       "      <td>117</td>\n",
       "      <td>117</td>\n",
       "      <td>0</td>\n",
       "      <td>117</td>\n",
       "      <td>117</td>\n",
       "      <td>117</td>\n",
       "      <td>117</td>\n",
       "      <td>117</td>\n",
       "      <td>117</td>\n",
       "      <td>117</td>\n",
       "      <td>117</td>\n",
       "      <td>0</td>\n",
       "      <td>117</td>\n",
       "      <td>117</td>\n",
       "      <td>117</td>\n",
       "      <td>117</td>\n",
       "      <td>117</td>\n",
       "    </tr>\n",
       "    <tr>\n",
       "      <th>p-ahpC</th>\n",
       "      <td>35</td>\n",
       "      <td>35</td>\n",
       "      <td>35</td>\n",
       "      <td>35</td>\n",
       "      <td>35</td>\n",
       "      <td>0</td>\n",
       "      <td>35</td>\n",
       "      <td>35</td>\n",
       "      <td>35</td>\n",
       "      <td>35</td>\n",
       "      <td>35</td>\n",
       "      <td>35</td>\n",
       "      <td>35</td>\n",
       "      <td>35</td>\n",
       "      <td>0</td>\n",
       "      <td>35</td>\n",
       "      <td>35</td>\n",
       "      <td>35</td>\n",
       "      <td>35</td>\n",
       "      <td>35</td>\n",
       "    </tr>\n",
       "    <tr>\n",
       "      <th>p-eis</th>\n",
       "      <td>71</td>\n",
       "      <td>71</td>\n",
       "      <td>71</td>\n",
       "      <td>71</td>\n",
       "      <td>71</td>\n",
       "      <td>0</td>\n",
       "      <td>71</td>\n",
       "      <td>71</td>\n",
       "      <td>71</td>\n",
       "      <td>71</td>\n",
       "      <td>71</td>\n",
       "      <td>71</td>\n",
       "      <td>71</td>\n",
       "      <td>71</td>\n",
       "      <td>0</td>\n",
       "      <td>71</td>\n",
       "      <td>71</td>\n",
       "      <td>71</td>\n",
       "      <td>71</td>\n",
       "      <td>71</td>\n",
       "    </tr>\n",
       "    <tr>\n",
       "      <th>p-fabG1-inhA</th>\n",
       "      <td>82</td>\n",
       "      <td>82</td>\n",
       "      <td>82</td>\n",
       "      <td>82</td>\n",
       "      <td>82</td>\n",
       "      <td>0</td>\n",
       "      <td>82</td>\n",
       "      <td>82</td>\n",
       "      <td>82</td>\n",
       "      <td>82</td>\n",
       "      <td>82</td>\n",
       "      <td>82</td>\n",
       "      <td>82</td>\n",
       "      <td>82</td>\n",
       "      <td>0</td>\n",
       "      <td>82</td>\n",
       "      <td>82</td>\n",
       "      <td>82</td>\n",
       "      <td>82</td>\n",
       "      <td>82</td>\n",
       "    </tr>\n",
       "    <tr>\n",
       "      <th>pncA</th>\n",
       "      <td>28</td>\n",
       "      <td>28</td>\n",
       "      <td>28</td>\n",
       "      <td>28</td>\n",
       "      <td>28</td>\n",
       "      <td>0</td>\n",
       "      <td>28</td>\n",
       "      <td>28</td>\n",
       "      <td>28</td>\n",
       "      <td>28</td>\n",
       "      <td>28</td>\n",
       "      <td>28</td>\n",
       "      <td>28</td>\n",
       "      <td>28</td>\n",
       "      <td>0</td>\n",
       "      <td>28</td>\n",
       "      <td>28</td>\n",
       "      <td>28</td>\n",
       "      <td>28</td>\n",
       "      <td>28</td>\n",
       "    </tr>\n",
       "    <tr>\n",
       "      <th>rpoB</th>\n",
       "      <td>169</td>\n",
       "      <td>169</td>\n",
       "      <td>169</td>\n",
       "      <td>169</td>\n",
       "      <td>169</td>\n",
       "      <td>0</td>\n",
       "      <td>169</td>\n",
       "      <td>169</td>\n",
       "      <td>169</td>\n",
       "      <td>169</td>\n",
       "      <td>169</td>\n",
       "      <td>169</td>\n",
       "      <td>169</td>\n",
       "      <td>169</td>\n",
       "      <td>0</td>\n",
       "      <td>169</td>\n",
       "      <td>169</td>\n",
       "      <td>169</td>\n",
       "      <td>169</td>\n",
       "      <td>169</td>\n",
       "    </tr>\n",
       "    <tr>\n",
       "      <th>rpsL</th>\n",
       "      <td>17</td>\n",
       "      <td>17</td>\n",
       "      <td>17</td>\n",
       "      <td>17</td>\n",
       "      <td>17</td>\n",
       "      <td>0</td>\n",
       "      <td>17</td>\n",
       "      <td>17</td>\n",
       "      <td>17</td>\n",
       "      <td>17</td>\n",
       "      <td>17</td>\n",
       "      <td>17</td>\n",
       "      <td>17</td>\n",
       "      <td>17</td>\n",
       "      <td>0</td>\n",
       "      <td>17</td>\n",
       "      <td>17</td>\n",
       "      <td>17</td>\n",
       "      <td>17</td>\n",
       "      <td>17</td>\n",
       "    </tr>\n",
       "    <tr>\n",
       "      <th>rrs</th>\n",
       "      <td>77</td>\n",
       "      <td>77</td>\n",
       "      <td>77</td>\n",
       "      <td>77</td>\n",
       "      <td>77</td>\n",
       "      <td>0</td>\n",
       "      <td>77</td>\n",
       "      <td>77</td>\n",
       "      <td>77</td>\n",
       "      <td>77</td>\n",
       "      <td>77</td>\n",
       "      <td>77</td>\n",
       "      <td>77</td>\n",
       "      <td>77</td>\n",
       "      <td>0</td>\n",
       "      <td>77</td>\n",
       "      <td>77</td>\n",
       "      <td>77</td>\n",
       "      <td>77</td>\n",
       "      <td>77</td>\n",
       "    </tr>\n",
       "  </tbody>\n",
       "</table>\n",
       "</div>"
      ],
      "text/plain": [
       "              CHROM  POS  REF  ALT  TYPE  INS_TYPE  LEN  QUAL  AD_REF  AD_ALT  \\\n",
       "LOCI                                                                            \n",
       "embA-embB       330  330  330  330   330         0  330   330     330     330   \n",
       "embC            165  165  165  165   165         0  165   165     165     165   \n",
       "gidB             36   36   36   36    36         0   36    36      36      36   \n",
       "gyrA            121  121  121  121   121         0  121   121     121     121   \n",
       "gyrB             98   98   98   98    98         0   98    98      98      98   \n",
       "katG            117  117  117  117   117         0  117   117     117     117   \n",
       "p-ahpC           35   35   35   35    35         0   35    35      35      35   \n",
       "p-eis            71   71   71   71    71         0   71    71      71      71   \n",
       "p-fabG1-inhA     82   82   82   82    82         0   82    82      82      82   \n",
       "pncA             28   28   28   28    28         0   28    28      28      28   \n",
       "rpoB            169  169  169  169   169         0  169   169     169     169   \n",
       "rpsL             17   17   17   17    17         0   17    17      17      17   \n",
       "rrs              77   77   77   77    77         0   77    77      77      77   \n",
       "\n",
       "               DP  BAM_DP   GT  ZYG  RK_DISCOSNP  TOOL  SAMPLE  TRUE_POS  \\\n",
       "LOCI                                                                       \n",
       "embA-embB     330     330  330  330            0   330     330       330   \n",
       "embC          165     165  165  165            0   165     165       165   \n",
       "gidB           36      36   36   36            0    36      36        36   \n",
       "gyrA          121     121  121  121            0   121     121       121   \n",
       "gyrB           98      98   98   98            0    98      98        98   \n",
       "katG          117     117  117  117            0   117     117       117   \n",
       "p-ahpC         35      35   35   35            0    35      35        35   \n",
       "p-eis          71      71   71   71            0    71      71        71   \n",
       "p-fabG1-inhA   82      82   82   82            0    82      82        82   \n",
       "pncA           28      28   28   28            0    28      28        28   \n",
       "rpoB          169     169  169  169            0   169     169       169   \n",
       "rpsL           17      17   17   17            0    17      17        17   \n",
       "rrs            77      77   77   77            0    77      77        77   \n",
       "\n",
       "              FALSE_POS  FALSE_NEG  \n",
       "LOCI                                \n",
       "embA-embB           330        330  \n",
       "embC                165        165  \n",
       "gidB                 36         36  \n",
       "gyrA                121        121  \n",
       "gyrB                 98         98  \n",
       "katG                117        117  \n",
       "p-ahpC               35         35  \n",
       "p-eis                71         71  \n",
       "p-fabG1-inhA         82         82  \n",
       "pncA                 28         28  \n",
       "rpoB                169        169  \n",
       "rpsL                 17         17  \n",
       "rrs                  77         77  "
      ]
     },
     "execution_count": 105,
     "metadata": {},
     "output_type": "execute_result"
    }
   ],
   "source": [
    "sub_snp.groupby('LOCI').count()"
   ]
  },
  {
   "cell_type": "markdown",
   "id": "67bf8145-3fdf-4210-97a8-1146f9180081",
   "metadata": {},
   "source": [
    "#### Simulated density: 1 INS / 1,000 bases"
   ]
  },
  {
   "cell_type": "code",
   "execution_count": 101,
   "id": "b653568d-af70-4a8b-9222-67751f685fad",
   "metadata": {},
   "outputs": [
    {
     "data": {
      "image/png": "[encoded data removed]",
      "text/plain": [
       "<Figure size 1440x1440 with 13 Axes>"
      ]
     },
     "metadata": {},
     "output_type": "display_data"
    }
   ],
   "source": [
    "sns.set(font_scale=1.5)\n",
    "varcount = sns.displot(subset_mindp, x='SAMPLE', col='LOCI', col_wrap=4)\n",
    "varcount.set_xticklabels(rotation = 45, horizontalalignment='right')\n",
    "plt.show()"
   ]
  },
  {
   "cell_type": "markdown",
   "id": "c06f0d5a-2e4f-4353-a57c-c9b93af6021e",
   "metadata": {},
   "source": [
    "#### Number of mutations per locus (1 INS / 1,000 bases)"
   ]
  },
  {
   "cell_type": "code",
   "execution_count": 104,
   "id": "2c62dc31-22b1-4eb7-9a31-64b36c5420a5",
   "metadata": {},
   "outputs": [
    {
     "data": {
      "text/html": [
       "<div>\n",
       "<style scoped>\n",
       "    .dataframe tbody tr th:only-of-type {\n",
       "        vertical-align: middle;\n",
       "    }\n",
       "\n",
       "    .dataframe tbody tr th {\n",
       "        vertical-align: top;\n",
       "    }\n",
       "\n",
       "    .dataframe thead th {\n",
       "        text-align: right;\n",
       "    }\n",
       "</style>\n",
       "<table border=\"1\" class=\"dataframe\">\n",
       "  <thead>\n",
       "    <tr style=\"text-align: right;\">\n",
       "      <th></th>\n",
       "      <th>CHROM</th>\n",
       "      <th>POS</th>\n",
       "      <th>REF</th>\n",
       "      <th>ALT</th>\n",
       "      <th>TYPE</th>\n",
       "      <th>INS_TYPE</th>\n",
       "      <th>LEN</th>\n",
       "      <th>QUAL</th>\n",
       "      <th>AD_REF</th>\n",
       "      <th>AD_ALT</th>\n",
       "      <th>DP</th>\n",
       "      <th>BAM_DP</th>\n",
       "      <th>GT</th>\n",
       "      <th>ZYG</th>\n",
       "      <th>RK_DISCOSNP</th>\n",
       "      <th>TOOL</th>\n",
       "      <th>SAMPLE</th>\n",
       "      <th>TRUE_POS</th>\n",
       "      <th>FALSE_POS</th>\n",
       "      <th>FALSE_NEG</th>\n",
       "    </tr>\n",
       "    <tr>\n",
       "      <th>LOCI</th>\n",
       "      <th></th>\n",
       "      <th></th>\n",
       "      <th></th>\n",
       "      <th></th>\n",
       "      <th></th>\n",
       "      <th></th>\n",
       "      <th></th>\n",
       "      <th></th>\n",
       "      <th></th>\n",
       "      <th></th>\n",
       "      <th></th>\n",
       "      <th></th>\n",
       "      <th></th>\n",
       "      <th></th>\n",
       "      <th></th>\n",
       "      <th></th>\n",
       "      <th></th>\n",
       "      <th></th>\n",
       "      <th></th>\n",
       "      <th></th>\n",
       "    </tr>\n",
       "  </thead>\n",
       "  <tbody>\n",
       "    <tr>\n",
       "      <th>embA-embB</th>\n",
       "      <td>63</td>\n",
       "      <td>63</td>\n",
       "      <td>63</td>\n",
       "      <td>63</td>\n",
       "      <td>63</td>\n",
       "      <td>63</td>\n",
       "      <td>63</td>\n",
       "      <td>63</td>\n",
       "      <td>63</td>\n",
       "      <td>63</td>\n",
       "      <td>63</td>\n",
       "      <td>63</td>\n",
       "      <td>63</td>\n",
       "      <td>63</td>\n",
       "      <td>0</td>\n",
       "      <td>63</td>\n",
       "      <td>63</td>\n",
       "      <td>63</td>\n",
       "      <td>63</td>\n",
       "      <td>63</td>\n",
       "    </tr>\n",
       "    <tr>\n",
       "      <th>embC</th>\n",
       "      <td>37</td>\n",
       "      <td>37</td>\n",
       "      <td>37</td>\n",
       "      <td>37</td>\n",
       "      <td>37</td>\n",
       "      <td>37</td>\n",
       "      <td>37</td>\n",
       "      <td>37</td>\n",
       "      <td>37</td>\n",
       "      <td>37</td>\n",
       "      <td>37</td>\n",
       "      <td>37</td>\n",
       "      <td>37</td>\n",
       "      <td>37</td>\n",
       "      <td>0</td>\n",
       "      <td>37</td>\n",
       "      <td>37</td>\n",
       "      <td>37</td>\n",
       "      <td>37</td>\n",
       "      <td>37</td>\n",
       "    </tr>\n",
       "    <tr>\n",
       "      <th>gidB</th>\n",
       "      <td>7</td>\n",
       "      <td>7</td>\n",
       "      <td>7</td>\n",
       "      <td>7</td>\n",
       "      <td>7</td>\n",
       "      <td>7</td>\n",
       "      <td>7</td>\n",
       "      <td>7</td>\n",
       "      <td>7</td>\n",
       "      <td>7</td>\n",
       "      <td>7</td>\n",
       "      <td>7</td>\n",
       "      <td>7</td>\n",
       "      <td>7</td>\n",
       "      <td>0</td>\n",
       "      <td>7</td>\n",
       "      <td>7</td>\n",
       "      <td>7</td>\n",
       "      <td>7</td>\n",
       "      <td>7</td>\n",
       "    </tr>\n",
       "    <tr>\n",
       "      <th>gyrA</th>\n",
       "      <td>23</td>\n",
       "      <td>23</td>\n",
       "      <td>23</td>\n",
       "      <td>23</td>\n",
       "      <td>23</td>\n",
       "      <td>23</td>\n",
       "      <td>23</td>\n",
       "      <td>23</td>\n",
       "      <td>23</td>\n",
       "      <td>23</td>\n",
       "      <td>23</td>\n",
       "      <td>23</td>\n",
       "      <td>23</td>\n",
       "      <td>23</td>\n",
       "      <td>0</td>\n",
       "      <td>23</td>\n",
       "      <td>23</td>\n",
       "      <td>23</td>\n",
       "      <td>23</td>\n",
       "      <td>23</td>\n",
       "    </tr>\n",
       "    <tr>\n",
       "      <th>gyrB</th>\n",
       "      <td>20</td>\n",
       "      <td>20</td>\n",
       "      <td>20</td>\n",
       "      <td>20</td>\n",
       "      <td>20</td>\n",
       "      <td>20</td>\n",
       "      <td>20</td>\n",
       "      <td>20</td>\n",
       "      <td>20</td>\n",
       "      <td>20</td>\n",
       "      <td>20</td>\n",
       "      <td>20</td>\n",
       "      <td>20</td>\n",
       "      <td>20</td>\n",
       "      <td>0</td>\n",
       "      <td>20</td>\n",
       "      <td>20</td>\n",
       "      <td>20</td>\n",
       "      <td>20</td>\n",
       "      <td>20</td>\n",
       "    </tr>\n",
       "    <tr>\n",
       "      <th>katG</th>\n",
       "      <td>26</td>\n",
       "      <td>26</td>\n",
       "      <td>26</td>\n",
       "      <td>26</td>\n",
       "      <td>26</td>\n",
       "      <td>26</td>\n",
       "      <td>26</td>\n",
       "      <td>26</td>\n",
       "      <td>26</td>\n",
       "      <td>26</td>\n",
       "      <td>26</td>\n",
       "      <td>26</td>\n",
       "      <td>26</td>\n",
       "      <td>26</td>\n",
       "      <td>0</td>\n",
       "      <td>26</td>\n",
       "      <td>26</td>\n",
       "      <td>26</td>\n",
       "      <td>26</td>\n",
       "      <td>26</td>\n",
       "    </tr>\n",
       "    <tr>\n",
       "      <th>p-ahpC</th>\n",
       "      <td>7</td>\n",
       "      <td>7</td>\n",
       "      <td>7</td>\n",
       "      <td>7</td>\n",
       "      <td>7</td>\n",
       "      <td>7</td>\n",
       "      <td>7</td>\n",
       "      <td>7</td>\n",
       "      <td>7</td>\n",
       "      <td>7</td>\n",
       "      <td>7</td>\n",
       "      <td>7</td>\n",
       "      <td>7</td>\n",
       "      <td>7</td>\n",
       "      <td>0</td>\n",
       "      <td>7</td>\n",
       "      <td>7</td>\n",
       "      <td>7</td>\n",
       "      <td>7</td>\n",
       "      <td>7</td>\n",
       "    </tr>\n",
       "    <tr>\n",
       "      <th>p-eis</th>\n",
       "      <td>13</td>\n",
       "      <td>13</td>\n",
       "      <td>13</td>\n",
       "      <td>13</td>\n",
       "      <td>13</td>\n",
       "      <td>13</td>\n",
       "      <td>13</td>\n",
       "      <td>13</td>\n",
       "      <td>13</td>\n",
       "      <td>13</td>\n",
       "      <td>13</td>\n",
       "      <td>13</td>\n",
       "      <td>13</td>\n",
       "      <td>13</td>\n",
       "      <td>0</td>\n",
       "      <td>13</td>\n",
       "      <td>13</td>\n",
       "      <td>13</td>\n",
       "      <td>13</td>\n",
       "      <td>13</td>\n",
       "    </tr>\n",
       "    <tr>\n",
       "      <th>p-fabG1-inhA</th>\n",
       "      <td>17</td>\n",
       "      <td>17</td>\n",
       "      <td>17</td>\n",
       "      <td>17</td>\n",
       "      <td>17</td>\n",
       "      <td>17</td>\n",
       "      <td>17</td>\n",
       "      <td>17</td>\n",
       "      <td>17</td>\n",
       "      <td>17</td>\n",
       "      <td>17</td>\n",
       "      <td>17</td>\n",
       "      <td>17</td>\n",
       "      <td>17</td>\n",
       "      <td>0</td>\n",
       "      <td>17</td>\n",
       "      <td>17</td>\n",
       "      <td>17</td>\n",
       "      <td>17</td>\n",
       "      <td>17</td>\n",
       "    </tr>\n",
       "    <tr>\n",
       "      <th>pncA</th>\n",
       "      <td>6</td>\n",
       "      <td>6</td>\n",
       "      <td>6</td>\n",
       "      <td>6</td>\n",
       "      <td>6</td>\n",
       "      <td>6</td>\n",
       "      <td>6</td>\n",
       "      <td>6</td>\n",
       "      <td>6</td>\n",
       "      <td>6</td>\n",
       "      <td>6</td>\n",
       "      <td>6</td>\n",
       "      <td>6</td>\n",
       "      <td>6</td>\n",
       "      <td>0</td>\n",
       "      <td>6</td>\n",
       "      <td>6</td>\n",
       "      <td>6</td>\n",
       "      <td>6</td>\n",
       "      <td>6</td>\n",
       "    </tr>\n",
       "    <tr>\n",
       "      <th>rpoB</th>\n",
       "      <td>32</td>\n",
       "      <td>32</td>\n",
       "      <td>32</td>\n",
       "      <td>32</td>\n",
       "      <td>32</td>\n",
       "      <td>32</td>\n",
       "      <td>32</td>\n",
       "      <td>32</td>\n",
       "      <td>32</td>\n",
       "      <td>32</td>\n",
       "      <td>32</td>\n",
       "      <td>32</td>\n",
       "      <td>32</td>\n",
       "      <td>32</td>\n",
       "      <td>0</td>\n",
       "      <td>32</td>\n",
       "      <td>32</td>\n",
       "      <td>32</td>\n",
       "      <td>32</td>\n",
       "      <td>32</td>\n",
       "    </tr>\n",
       "    <tr>\n",
       "      <th>rpsL</th>\n",
       "      <td>4</td>\n",
       "      <td>4</td>\n",
       "      <td>4</td>\n",
       "      <td>4</td>\n",
       "      <td>4</td>\n",
       "      <td>4</td>\n",
       "      <td>4</td>\n",
       "      <td>4</td>\n",
       "      <td>4</td>\n",
       "      <td>4</td>\n",
       "      <td>4</td>\n",
       "      <td>4</td>\n",
       "      <td>4</td>\n",
       "      <td>4</td>\n",
       "      <td>0</td>\n",
       "      <td>4</td>\n",
       "      <td>4</td>\n",
       "      <td>4</td>\n",
       "      <td>4</td>\n",
       "      <td>4</td>\n",
       "    </tr>\n",
       "    <tr>\n",
       "      <th>rrs</th>\n",
       "      <td>11</td>\n",
       "      <td>11</td>\n",
       "      <td>11</td>\n",
       "      <td>11</td>\n",
       "      <td>11</td>\n",
       "      <td>11</td>\n",
       "      <td>11</td>\n",
       "      <td>11</td>\n",
       "      <td>11</td>\n",
       "      <td>11</td>\n",
       "      <td>11</td>\n",
       "      <td>11</td>\n",
       "      <td>11</td>\n",
       "      <td>11</td>\n",
       "      <td>0</td>\n",
       "      <td>11</td>\n",
       "      <td>11</td>\n",
       "      <td>11</td>\n",
       "      <td>11</td>\n",
       "      <td>11</td>\n",
       "    </tr>\n",
       "  </tbody>\n",
       "</table>\n",
       "</div>"
      ],
      "text/plain": [
       "              CHROM  POS  REF  ALT  TYPE  INS_TYPE  LEN  QUAL  AD_REF  AD_ALT  \\\n",
       "LOCI                                                                            \n",
       "embA-embB        63   63   63   63    63        63   63    63      63      63   \n",
       "embC             37   37   37   37    37        37   37    37      37      37   \n",
       "gidB              7    7    7    7     7         7    7     7       7       7   \n",
       "gyrA             23   23   23   23    23        23   23    23      23      23   \n",
       "gyrB             20   20   20   20    20        20   20    20      20      20   \n",
       "katG             26   26   26   26    26        26   26    26      26      26   \n",
       "p-ahpC            7    7    7    7     7         7    7     7       7       7   \n",
       "p-eis            13   13   13   13    13        13   13    13      13      13   \n",
       "p-fabG1-inhA     17   17   17   17    17        17   17    17      17      17   \n",
       "pncA              6    6    6    6     6         6    6     6       6       6   \n",
       "rpoB             32   32   32   32    32        32   32    32      32      32   \n",
       "rpsL              4    4    4    4     4         4    4     4       4       4   \n",
       "rrs              11   11   11   11    11        11   11    11      11      11   \n",
       "\n",
       "              DP  BAM_DP  GT  ZYG  RK_DISCOSNP  TOOL  SAMPLE  TRUE_POS  \\\n",
       "LOCI                                                                     \n",
       "embA-embB     63      63  63   63            0    63      63        63   \n",
       "embC          37      37  37   37            0    37      37        37   \n",
       "gidB           7       7   7    7            0     7       7         7   \n",
       "gyrA          23      23  23   23            0    23      23        23   \n",
       "gyrB          20      20  20   20            0    20      20        20   \n",
       "katG          26      26  26   26            0    26      26        26   \n",
       "p-ahpC         7       7   7    7            0     7       7         7   \n",
       "p-eis         13      13  13   13            0    13      13        13   \n",
       "p-fabG1-inhA  17      17  17   17            0    17      17        17   \n",
       "pncA           6       6   6    6            0     6       6         6   \n",
       "rpoB          32      32  32   32            0    32      32        32   \n",
       "rpsL           4       4   4    4            0     4       4         4   \n",
       "rrs           11      11  11   11            0    11      11        11   \n",
       "\n",
       "              FALSE_POS  FALSE_NEG  \n",
       "LOCI                                \n",
       "embA-embB            63         63  \n",
       "embC                 37         37  \n",
       "gidB                  7          7  \n",
       "gyrA                 23         23  \n",
       "gyrB                 20         20  \n",
       "katG                 26         26  \n",
       "p-ahpC                7          7  \n",
       "p-eis                13         13  \n",
       "p-fabG1-inhA         17         17  \n",
       "pncA                  6          6  \n",
       "rpoB                 32         32  \n",
       "rpsL                  4          4  \n",
       "rrs                  11         11  "
      ]
     },
     "execution_count": 104,
     "metadata": {},
     "output_type": "execute_result"
    }
   ],
   "source": [
    "subset_mindp.groupby('LOCI').count()"
   ]
  },
  {
   "cell_type": "markdown",
   "id": "820ae133-2398-43db-9b37-95bbe8470246",
   "metadata": {},
   "source": [
    "## Data analysis"
   ]
  },
  {
   "cell_type": "code",
   "execution_count": 2,
   "id": "65ff344e-96cd-474e-9394-24203b95c21a",
   "metadata": {
    "tags": []
   },
   "outputs": [],
   "source": [
    "import pandas as pd\n",
    "import numpy as np\n",
    "import seaborn as sns\n",
    "import matplotlib.pyplot as plt\n",
    "import plotly.express as px"
   ]
  },
  {
   "cell_type": "code",
   "execution_count": 3,
   "id": "5469f486-d2b5-45f7-851c-160685666315",
   "metadata": {
    "tags": []
   },
   "outputs": [],
   "source": [
    "def sum_filtered(df, filter_column, min_value, variantlog=None, logrow=2):\n",
    "    '''\n",
    "    df: from csv generated by testing pipeline, via checker.py\n",
    "    filter_column: string of column name to filter by\n",
    "    min_value: minimum threshold for values to retain when filtering by filter_column\n",
    "    variantlog: variant output log generated by testing pipeline, via variants.py\n",
    "    logrow: row to get total mutations from (0-start)\n",
    "    '''\n",
    "    sums = {}\n",
    "    if filter_column == 'DP':\n",
    "        filtered = df[(df[filter_column] >= min_value) | df[filter_column].isna() & (df['BAM_DP'] >= min_value)]\n",
    "    else:\n",
    "        filtered = df[(df[filter_column] >= min_value) | (df[filter_column].isna())]\n",
    "    for tool in set(filtered['TOOL']):\n",
    "        sums[tool] = [sum(filtered.loc[filtered['TOOL'] == tool, 'TRUE_POS']),\n",
    "                      sum(filtered.loc[filtered['TOOL'] == tool, 'FALSE_POS']),\n",
    "                      sum(filtered.loc[filtered['TOOL'] == tool, 'FALSE_NEG'])]\n",
    "    filtered_sums = pd.DataFrame(data=sums).T\n",
    "    filtered_sums.reset_index(inplace=True)\n",
    "    filtered_sums.rename(columns={'index': 'caller', 0:'true_pos', 1:'false_pos', 2: 'false_neg'}, inplace=True)\n",
    "    filtered_sums[filter_column] = min_value\n",
    "    filtered_sums['recall'] = filtered_sums['true_pos'] / (filtered_sums['true_pos'] + filtered_sums['false_neg'])\n",
    "    filtered_sums['precision'] = filtered_sums['true_pos'] / (filtered_sums['true_pos'] + filtered_sums['false_pos'])\n",
    "    \n",
    "    # Sanity check: When min_value = 0, introduced mutations == postfilter mutations\n",
    "    if variantlog is not None:\n",
    "        with open(variantlog, 'r') as log:\n",
    "            varsettings = log.readlines()\n",
    "        filtered_sums['total_mut_intro'] = int(varsettings[logrow].split(':')[-1].strip())\n",
    "        filtered_sums['total_mut_postfilter'] = filtered_sums['true_pos'] + filtered_sums['false_neg']\n",
    "    else:\n",
    "        filtered_sums['total_mut_intro'] = np.nan\n",
    "        filtered_sums['total_mut_postfilter'] = np.nan\n",
    "    \n",
    "    return filtered_sums\n",
    "\n",
    "def combine_filtered(df, filter_column, filter_min, filter_max, filter_step, variantlog=None, logrow=2):\n",
    "    filtered_dfs = []\n",
    "    for threshold in range(filter_min, filter_max + filter_step, filter_step):\n",
    "        summarydf = sum_filtered(df, filter_column, threshold, variantlog, logrow)\n",
    "        filtered_dfs.append(summarydf)\n",
    "    combined_summaries = pd.concat(filtered_dfs, ignore_index=True)\n",
    "    return combined_summaries"
   ]
  },
  {
   "cell_type": "markdown",
   "id": "2d42767c-21a9-46be-9f66-e18992b87763",
   "metadata": {},
   "source": [
    "#### Simulated density: 1 INS / 200 bases"
   ]
  },
  {
   "cell_type": "code",
   "execution_count": 4,
   "id": "0eb1c230-d08b-40c7-a124-27f889c317ed",
   "metadata": {},
   "outputs": [
    {
     "name": "stderr",
     "output_type": "stream",
     "text": [
      "/Users/yeemayseah/anaconda3/lib/python3.8/site-packages/IPython/core/interactiveshell.py:3444: DtypeWarning: Columns (12) have mixed types.Specify dtype option on import or set low_memory=False.\n",
      "  exec(code_obj, self.user_global_ns, self.user_ns)\n"
     ]
    }
   ],
   "source": [
    "inscombined = pd.read_csv('/Users/yeemayseah/Documents/Repos/mtb_amr/output/checked/H37Rv_5x10-3INS50X_checked_amr-edit.csv')\n",
    "inscombined_min = inscombined[inscombined.BAM_DP >= 20]"
   ]
  },
  {
   "cell_type": "markdown",
   "id": "a9042be4-6979-49b9-83fc-9b9b82824962",
   "metadata": {},
   "source": [
    "#### Number of mutations per replicate (e.g. GATK)\n",
    "Number of mutations introduced = Total True Positive + Total False Negative"
   ]
  },
  {
   "cell_type": "code",
   "execution_count": 5,
   "id": "55322561-cf53-481e-81eb-1f99f339e722",
   "metadata": {},
   "outputs": [],
   "source": [
    "sub_ins = inscombined_min[(inscombined_min.TOOL == 'gatk') & ((inscombined_min.TRUE_POS == 1) | (inscombined_min.FALSE_NEG == 1))]"
   ]
  },
  {
   "cell_type": "markdown",
   "id": "1a3002b1-368b-4dfc-898c-6fd303360355",
   "metadata": {},
   "source": [
    "#### AMR only"
   ]
  },
  {
   "cell_type": "code",
   "execution_count": 6,
   "id": "d0458647-82cf-4ebd-95e2-2f42d18371d4",
   "metadata": {},
   "outputs": [],
   "source": [
    "inscombined_amr = inscombined_min.dropna(subset=['LOCI'])"
   ]
  },
  {
   "cell_type": "code",
   "execution_count": 7,
   "id": "fd6793f5-60e8-4b7f-af50-5668e113c308",
   "metadata": {},
   "outputs": [],
   "source": [
    "ins_summary = combine_filtered(inscombined_amr, 'BAM_DP', 0, 100, 10)"
   ]
  },
  {
   "cell_type": "code",
   "execution_count": 8,
   "id": "8ecfff8a-56ec-44b1-8250-6276f6a43243",
   "metadata": {},
   "outputs": [],
   "source": [
    "ins_summary_nofilter = ins_summary[ins_summary.BAM_DP==0].copy()"
   ]
  },
  {
   "cell_type": "code",
   "execution_count": 9,
   "id": "b0a388b0-cf70-448e-82bc-b4620dedf099",
   "metadata": {},
   "outputs": [],
   "source": [
    "ins_summary_nofilter['total_mut_intro'] = ins_summary_nofilter['true_pos'] + ins_summary_nofilter['false_neg']\n",
    "ins_summary_nofilter['total_mut_postfilter'] = ins_summary_nofilter['total_mut_intro']"
   ]
  },
  {
   "cell_type": "code",
   "execution_count": 10,
   "id": "39ad6be7-3e5c-4f41-b575-c450eaa826ee",
   "metadata": {},
   "outputs": [
    {
     "data": {
      "text/html": [
       "<div>\n",
       "<style scoped>\n",
       "    .dataframe tbody tr th:only-of-type {\n",
       "        vertical-align: middle;\n",
       "    }\n",
       "\n",
       "    .dataframe tbody tr th {\n",
       "        vertical-align: top;\n",
       "    }\n",
       "\n",
       "    .dataframe thead th {\n",
       "        text-align: right;\n",
       "    }\n",
       "</style>\n",
       "<table border=\"1\" class=\"dataframe\">\n",
       "  <thead>\n",
       "    <tr style=\"text-align: right;\">\n",
       "      <th></th>\n",
       "      <th>caller</th>\n",
       "      <th>true_pos</th>\n",
       "      <th>false_pos</th>\n",
       "      <th>false_neg</th>\n",
       "      <th>BAM_DP</th>\n",
       "      <th>recall</th>\n",
       "      <th>precision</th>\n",
       "      <th>total_mut_intro</th>\n",
       "      <th>total_mut_postfilter</th>\n",
       "    </tr>\n",
       "  </thead>\n",
       "  <tbody>\n",
       "    <tr>\n",
       "      <th>0</th>\n",
       "      <td>deepvariant</td>\n",
       "      <td>2354</td>\n",
       "      <td>1</td>\n",
       "      <td>366</td>\n",
       "      <td>0</td>\n",
       "      <td>0.865441</td>\n",
       "      <td>0.999575</td>\n",
       "      <td>2720</td>\n",
       "      <td>2720</td>\n",
       "    </tr>\n",
       "    <tr>\n",
       "      <th>1</th>\n",
       "      <td>bcftools</td>\n",
       "      <td>2153</td>\n",
       "      <td>2</td>\n",
       "      <td>567</td>\n",
       "      <td>0</td>\n",
       "      <td>0.791544</td>\n",
       "      <td>0.999072</td>\n",
       "      <td>2720</td>\n",
       "      <td>2720</td>\n",
       "    </tr>\n",
       "    <tr>\n",
       "      <th>2</th>\n",
       "      <td>vardict</td>\n",
       "      <td>2619</td>\n",
       "      <td>530</td>\n",
       "      <td>101</td>\n",
       "      <td>0</td>\n",
       "      <td>0.962868</td>\n",
       "      <td>0.831693</td>\n",
       "      <td>2720</td>\n",
       "      <td>2720</td>\n",
       "    </tr>\n",
       "    <tr>\n",
       "      <th>3</th>\n",
       "      <td>freebayes</td>\n",
       "      <td>1659</td>\n",
       "      <td>2</td>\n",
       "      <td>1061</td>\n",
       "      <td>0</td>\n",
       "      <td>0.609926</td>\n",
       "      <td>0.998796</td>\n",
       "      <td>2720</td>\n",
       "      <td>2720</td>\n",
       "    </tr>\n",
       "    <tr>\n",
       "      <th>4</th>\n",
       "      <td>lancet</td>\n",
       "      <td>2277</td>\n",
       "      <td>3</td>\n",
       "      <td>443</td>\n",
       "      <td>0</td>\n",
       "      <td>0.837132</td>\n",
       "      <td>0.998684</td>\n",
       "      <td>2720</td>\n",
       "      <td>2720</td>\n",
       "    </tr>\n",
       "    <tr>\n",
       "      <th>5</th>\n",
       "      <td>gatk</td>\n",
       "      <td>2715</td>\n",
       "      <td>3</td>\n",
       "      <td>5</td>\n",
       "      <td>0</td>\n",
       "      <td>0.998162</td>\n",
       "      <td>0.998896</td>\n",
       "      <td>2720</td>\n",
       "      <td>2720</td>\n",
       "    </tr>\n",
       "    <tr>\n",
       "      <th>6</th>\n",
       "      <td>discosnp</td>\n",
       "      <td>901</td>\n",
       "      <td>0</td>\n",
       "      <td>1819</td>\n",
       "      <td>0</td>\n",
       "      <td>0.331250</td>\n",
       "      <td>1.000000</td>\n",
       "      <td>2720</td>\n",
       "      <td>2720</td>\n",
       "    </tr>\n",
       "  </tbody>\n",
       "</table>\n",
       "</div>"
      ],
      "text/plain": [
       "        caller  true_pos  false_pos  false_neg  BAM_DP    recall  precision  \\\n",
       "0  deepvariant      2354          1        366       0  0.865441   0.999575   \n",
       "1     bcftools      2153          2        567       0  0.791544   0.999072   \n",
       "2      vardict      2619        530        101       0  0.962868   0.831693   \n",
       "3    freebayes      1659          2       1061       0  0.609926   0.998796   \n",
       "4       lancet      2277          3        443       0  0.837132   0.998684   \n",
       "5         gatk      2715          3          5       0  0.998162   0.998896   \n",
       "6     discosnp       901          0       1819       0  0.331250   1.000000   \n",
       "\n",
       "   total_mut_intro  total_mut_postfilter  \n",
       "0             2720                  2720  \n",
       "1             2720                  2720  \n",
       "2             2720                  2720  \n",
       "3             2720                  2720  \n",
       "4             2720                  2720  \n",
       "5             2720                  2720  \n",
       "6             2720                  2720  "
      ]
     },
     "execution_count": 10,
     "metadata": {},
     "output_type": "execute_result"
    }
   ],
   "source": [
    "ins_summary_nofilter"
   ]
  },
  {
   "cell_type": "markdown",
   "id": "eca4413d-0d6f-46a3-a6e1-6eab11b6f9d3",
   "metadata": {},
   "source": [
    "#### Simulated density: 1 DEL / 200 bases"
   ]
  },
  {
   "cell_type": "code",
   "execution_count": 30,
   "id": "280693fe-be5b-4666-8348-14e0cf0a998c",
   "metadata": {},
   "outputs": [
    {
     "name": "stderr",
     "output_type": "stream",
     "text": [
      "/Users/yeemayseah/anaconda3/lib/python3.8/site-packages/IPython/core/interactiveshell.py:3444: DtypeWarning:\n",
      "\n",
      "Columns (12) have mixed types.Specify dtype option on import or set low_memory=False.\n",
      "\n"
     ]
    }
   ],
   "source": [
    "delcombined = pd.read_csv('/Users/yeemayseah/Documents/Repos/mtb_amr/output/checked/H37Rv_5x10-3DEL50X_checked_amr-edit.csv')\n",
    "delcombined_min = delcombined[delcombined.BAM_DP >= 20]"
   ]
  },
  {
   "cell_type": "markdown",
   "id": "57480afc-aa0c-4d5c-86c2-ac3bbd890004",
   "metadata": {},
   "source": [
    "#### Number of mutations per replicate (e.g. GATK)\n",
    "Number of mutations introduced = Total True Positive + Total False Negative"
   ]
  },
  {
   "cell_type": "code",
   "execution_count": 31,
   "id": "5d34108c-be30-4bc8-b347-2a47fc8987c4",
   "metadata": {},
   "outputs": [],
   "source": [
    "sub_del = delcombined_min[(delcombined_min.TOOL == 'gatk') & ((delcombined_min.TRUE_POS == 1) | (delcombined_min.FALSE_NEG == 1))]"
   ]
  },
  {
   "cell_type": "markdown",
   "id": "4a8809f7-90da-442d-b6ea-3a414480afd4",
   "metadata": {},
   "source": [
    "#### AMR only"
   ]
  },
  {
   "cell_type": "code",
   "execution_count": 32,
   "id": "52ee5af5-951b-40f1-b21d-45fca2c921cc",
   "metadata": {},
   "outputs": [],
   "source": [
    "delcombined_amr = delcombined_min.dropna(subset=['LOCI'])"
   ]
  },
  {
   "cell_type": "code",
   "execution_count": 33,
   "id": "ed1f2528-180c-4b5e-9e04-6e3d81d85e96",
   "metadata": {},
   "outputs": [],
   "source": [
    "del_summary = combine_filtered(delcombined_amr, 'BAM_DP', 0, 60, 10)"
   ]
  },
  {
   "cell_type": "code",
   "execution_count": 34,
   "id": "6b713d82-4be7-4ae7-a794-2833e936a0fc",
   "metadata": {},
   "outputs": [],
   "source": [
    "del_summary_nofilter = del_summary[del_summary.BAM_DP==0].copy()"
   ]
  },
  {
   "cell_type": "code",
   "execution_count": 35,
   "id": "8bc31c1f-2ea8-43b9-9e64-e12c37c3b2d5",
   "metadata": {},
   "outputs": [],
   "source": [
    "del_summary_nofilter['total_mut_intro'] = del_summary_nofilter['true_pos'] + del_summary_nofilter['false_neg']\n",
    "del_summary_nofilter['total_mut_postfilter'] = del_summary_nofilter['total_mut_intro']"
   ]
  },
  {
   "cell_type": "code",
   "execution_count": 36,
   "id": "2fc625b8-97f0-4ae8-ba85-6d7a915a2a26",
   "metadata": {},
   "outputs": [
    {
     "data": {
      "text/html": [
       "<div>\n",
       "<style scoped>\n",
       "    .dataframe tbody tr th:only-of-type {\n",
       "        vertical-align: middle;\n",
       "    }\n",
       "\n",
       "    .dataframe tbody tr th {\n",
       "        vertical-align: top;\n",
       "    }\n",
       "\n",
       "    .dataframe thead th {\n",
       "        text-align: right;\n",
       "    }\n",
       "</style>\n",
       "<table border=\"1\" class=\"dataframe\">\n",
       "  <thead>\n",
       "    <tr style=\"text-align: right;\">\n",
       "      <th></th>\n",
       "      <th>caller</th>\n",
       "      <th>true_pos</th>\n",
       "      <th>false_pos</th>\n",
       "      <th>false_neg</th>\n",
       "      <th>BAM_DP</th>\n",
       "      <th>recall</th>\n",
       "      <th>precision</th>\n",
       "      <th>total_mut_intro</th>\n",
       "      <th>total_mut_postfilter</th>\n",
       "    </tr>\n",
       "  </thead>\n",
       "  <tbody>\n",
       "    <tr>\n",
       "      <th>0</th>\n",
       "      <td>deepvariant</td>\n",
       "      <td>2416</td>\n",
       "      <td>0</td>\n",
       "      <td>0</td>\n",
       "      <td>0</td>\n",
       "      <td>1.000000</td>\n",
       "      <td>1.000000</td>\n",
       "      <td>2416</td>\n",
       "      <td>2416</td>\n",
       "    </tr>\n",
       "    <tr>\n",
       "      <th>1</th>\n",
       "      <td>bcftools</td>\n",
       "      <td>2414</td>\n",
       "      <td>56</td>\n",
       "      <td>2</td>\n",
       "      <td>0</td>\n",
       "      <td>0.999172</td>\n",
       "      <td>0.977328</td>\n",
       "      <td>2416</td>\n",
       "      <td>2416</td>\n",
       "    </tr>\n",
       "    <tr>\n",
       "      <th>2</th>\n",
       "      <td>vardict</td>\n",
       "      <td>2414</td>\n",
       "      <td>5</td>\n",
       "      <td>2</td>\n",
       "      <td>0</td>\n",
       "      <td>0.999172</td>\n",
       "      <td>0.997933</td>\n",
       "      <td>2416</td>\n",
       "      <td>2416</td>\n",
       "    </tr>\n",
       "    <tr>\n",
       "      <th>3</th>\n",
       "      <td>freebayes</td>\n",
       "      <td>2413</td>\n",
       "      <td>0</td>\n",
       "      <td>3</td>\n",
       "      <td>0</td>\n",
       "      <td>0.998758</td>\n",
       "      <td>1.000000</td>\n",
       "      <td>2416</td>\n",
       "      <td>2416</td>\n",
       "    </tr>\n",
       "    <tr>\n",
       "      <th>4</th>\n",
       "      <td>lancet</td>\n",
       "      <td>2399</td>\n",
       "      <td>0</td>\n",
       "      <td>17</td>\n",
       "      <td>0</td>\n",
       "      <td>0.992964</td>\n",
       "      <td>1.000000</td>\n",
       "      <td>2416</td>\n",
       "      <td>2416</td>\n",
       "    </tr>\n",
       "    <tr>\n",
       "      <th>5</th>\n",
       "      <td>gatk</td>\n",
       "      <td>2416</td>\n",
       "      <td>0</td>\n",
       "      <td>0</td>\n",
       "      <td>0</td>\n",
       "      <td>1.000000</td>\n",
       "      <td>1.000000</td>\n",
       "      <td>2416</td>\n",
       "      <td>2416</td>\n",
       "    </tr>\n",
       "    <tr>\n",
       "      <th>6</th>\n",
       "      <td>discosnp</td>\n",
       "      <td>1764</td>\n",
       "      <td>0</td>\n",
       "      <td>652</td>\n",
       "      <td>0</td>\n",
       "      <td>0.730132</td>\n",
       "      <td>1.000000</td>\n",
       "      <td>2416</td>\n",
       "      <td>2416</td>\n",
       "    </tr>\n",
       "  </tbody>\n",
       "</table>\n",
       "</div>"
      ],
      "text/plain": [
       "        caller  true_pos  false_pos  false_neg  BAM_DP    recall  precision  \\\n",
       "0  deepvariant      2416          0          0       0  1.000000   1.000000   \n",
       "1     bcftools      2414         56          2       0  0.999172   0.977328   \n",
       "2      vardict      2414          5          2       0  0.999172   0.997933   \n",
       "3    freebayes      2413          0          3       0  0.998758   1.000000   \n",
       "4       lancet      2399          0         17       0  0.992964   1.000000   \n",
       "5         gatk      2416          0          0       0  1.000000   1.000000   \n",
       "6     discosnp      1764          0        652       0  0.730132   1.000000   \n",
       "\n",
       "   total_mut_intro  total_mut_postfilter  \n",
       "0             2416                  2416  \n",
       "1             2416                  2416  \n",
       "2             2416                  2416  \n",
       "3             2416                  2416  \n",
       "4             2416                  2416  \n",
       "5             2416                  2416  \n",
       "6             2416                  2416  "
      ]
     },
     "execution_count": 36,
     "metadata": {},
     "output_type": "execute_result"
    }
   ],
   "source": [
    "del_summary_nofilter"
   ]
  },
  {
   "cell_type": "markdown",
   "id": "af0b8a15-7edf-4ee4-bea6-a6e075efe59e",
   "metadata": {},
   "source": [
    "#### Simulated density: 1 SNP / 200 bases"
   ]
  },
  {
   "cell_type": "code",
   "execution_count": 49,
   "id": "1fcb6526-be6a-4f50-8d74-18bcf545d0da",
   "metadata": {
    "tags": []
   },
   "outputs": [
    {
     "name": "stderr",
     "output_type": "stream",
     "text": [
      "/Users/yeemayseah/anaconda3/lib/python3.8/site-packages/IPython/core/interactiveshell.py:3444: DtypeWarning: Columns (12) have mixed types.Specify dtype option on import or set low_memory=False.\n",
      "  exec(code_obj, self.user_global_ns, self.user_ns)\n"
     ]
    }
   ],
   "source": [
    "snp1 = pd.read_csv('/Users/yeemayseah/Documents/Repos/mtb_amr/output/checked/H37Rv_5x10-3SNP50X_1_alltools_normalized_dp0_H37Rv_checked_amr-edit.csv')\n",
    "snp2 = pd.read_csv('/Users/yeemayseah/Documents/Repos/mtb_amr/output/checked/H37Rv_5x10-3SNP50X_2_alltools_normalized_dp0_H37Rv_checked_amr-edit.csv')\n",
    "snp3 = pd.read_csv('/Users/yeemayseah/Documents/Repos/mtb_amr/output/checked/H37Rv_5x10-3SNP50X_3_alltools_normalized_dp0_H37Rv_checked_amr-edit.csv')\n",
    "snp4 = pd.read_csv('/Users/yeemayseah/Documents/Repos/mtb_amr/output/checked/H37Rv_5x10-3SNP50X_4_alltools_normalized_dp0_H37Rv_checked_amr-edit.csv')\n",
    "snp5 = pd.read_csv('/Users/yeemayseah/Documents/Repos/mtb_amr/output/checked/H37Rv_5x10-3SNP50X_5_alltools_normalized_dp0_H37Rv_checked_amr-edit.csv')\n",
    "snp6 = pd.read_csv('/Users/yeemayseah/Documents/Repos/mtb_amr/output/checked/H37Rv_5x10-3SNP50X_6_alltools_normalized_dp0_H37Rv_checked_amr-edit.csv')\n",
    "snp7 = pd.read_csv('/Users/yeemayseah/Documents/Repos/mtb_amr/output/checked/H37Rv_5x10-3SNP50X_7_alltools_normalized_dp0_H37Rv_checked_amr-edit.csv')\n",
    "snp8 = pd.read_csv('/Users/yeemayseah/Documents/Repos/mtb_amr/output/checked/H37Rv_5x10-3SNP50X_8_alltools_normalized_dp0_H37Rv_checked_amr-edit.csv')\n",
    "snp9 = pd.read_csv('/Users/yeemayseah/Documents/Repos/mtb_amr/output/checked/H37Rv_5x10-3SNP50X_9_alltools_normalized_dp0_H37Rv_checked_amr-edit.csv')\n",
    "snp10 = pd.read_csv('/Users/yeemayseah/Documents/Repos/mtb_amr/output/checked/H37Rv_5x10-3SNP50X_10_alltools_normalized_dp0_H37Rv_checked_amr-edit.csv')"
   ]
  },
  {
   "cell_type": "code",
   "execution_count": 50,
   "id": "e19ff7dd-13b1-44a8-b660-e68acaf8a048",
   "metadata": {},
   "outputs": [],
   "source": [
    "snpcombined = pd.concat([snp1, snp2, snp3, snp4, snp5, \n",
    "                         snp6, snp7, snp8, snp9, snp10], \n",
    "                        ignore_index=True)\n",
    "snpcombined_min = snpcombined[snpcombined.BAM_DP >= 20]"
   ]
  },
  {
   "cell_type": "code",
   "execution_count": 51,
   "id": "2dbe1819-1f34-4f5d-b0f7-3aa7494fd68f",
   "metadata": {},
   "outputs": [
    {
     "data": {
      "text/html": [
       "<div>\n",
       "<style scoped>\n",
       "    .dataframe tbody tr th:only-of-type {\n",
       "        vertical-align: middle;\n",
       "    }\n",
       "\n",
       "    .dataframe tbody tr th {\n",
       "        vertical-align: top;\n",
       "    }\n",
       "\n",
       "    .dataframe thead th {\n",
       "        text-align: right;\n",
       "    }\n",
       "</style>\n",
       "<table border=\"1\" class=\"dataframe\">\n",
       "  <thead>\n",
       "    <tr style=\"text-align: right;\">\n",
       "      <th></th>\n",
       "      <th>CHROM</th>\n",
       "      <th>POS</th>\n",
       "      <th>REF</th>\n",
       "      <th>ALT</th>\n",
       "      <th>TYPE</th>\n",
       "      <th>INS_TYPE</th>\n",
       "      <th>LEN</th>\n",
       "      <th>QUAL</th>\n",
       "      <th>AD_REF</th>\n",
       "      <th>AD_ALT</th>\n",
       "      <th>...</th>\n",
       "      <th>BAM_DP</th>\n",
       "      <th>GT</th>\n",
       "      <th>ZYG</th>\n",
       "      <th>RK_DISCOSNP</th>\n",
       "      <th>TOOL</th>\n",
       "      <th>SAMPLE</th>\n",
       "      <th>TRUE_POS</th>\n",
       "      <th>FALSE_POS</th>\n",
       "      <th>FALSE_NEG</th>\n",
       "      <th>LOCI</th>\n",
       "    </tr>\n",
       "  </thead>\n",
       "  <tbody>\n",
       "    <tr>\n",
       "      <th>0</th>\n",
       "      <td>NC_000962.3</td>\n",
       "      <td>240</td>\n",
       "      <td>C</td>\n",
       "      <td>T</td>\n",
       "      <td>SNP</td>\n",
       "      <td>NaN</td>\n",
       "      <td>1</td>\n",
       "      <td>1280.0</td>\n",
       "      <td>0.0</td>\n",
       "      <td>50.0</td>\n",
       "      <td>...</td>\n",
       "      <td>52</td>\n",
       "      <td>1</td>\n",
       "      <td>hom</td>\n",
       "      <td>NaN</td>\n",
       "      <td>gatk</td>\n",
       "      <td>H37Rv_5x10-3SNP50X_1</td>\n",
       "      <td>1</td>\n",
       "      <td>0</td>\n",
       "      <td>0</td>\n",
       "      <td>NaN</td>\n",
       "    </tr>\n",
       "    <tr>\n",
       "      <th>1</th>\n",
       "      <td>NC_000962.3</td>\n",
       "      <td>481</td>\n",
       "      <td>G</td>\n",
       "      <td>A</td>\n",
       "      <td>SNP</td>\n",
       "      <td>NaN</td>\n",
       "      <td>1</td>\n",
       "      <td>700.0</td>\n",
       "      <td>0.0</td>\n",
       "      <td>25.0</td>\n",
       "      <td>...</td>\n",
       "      <td>26</td>\n",
       "      <td>1</td>\n",
       "      <td>hom</td>\n",
       "      <td>NaN</td>\n",
       "      <td>gatk</td>\n",
       "      <td>H37Rv_5x10-3SNP50X_1</td>\n",
       "      <td>1</td>\n",
       "      <td>0</td>\n",
       "      <td>0</td>\n",
       "      <td>NaN</td>\n",
       "    </tr>\n",
       "    <tr>\n",
       "      <th>2</th>\n",
       "      <td>NC_000962.3</td>\n",
       "      <td>714</td>\n",
       "      <td>C</td>\n",
       "      <td>A</td>\n",
       "      <td>SNP</td>\n",
       "      <td>NaN</td>\n",
       "      <td>1</td>\n",
       "      <td>1170.0</td>\n",
       "      <td>0.0</td>\n",
       "      <td>48.0</td>\n",
       "      <td>...</td>\n",
       "      <td>49</td>\n",
       "      <td>1</td>\n",
       "      <td>hom</td>\n",
       "      <td>NaN</td>\n",
       "      <td>gatk</td>\n",
       "      <td>H37Rv_5x10-3SNP50X_1</td>\n",
       "      <td>1</td>\n",
       "      <td>0</td>\n",
       "      <td>0</td>\n",
       "      <td>NaN</td>\n",
       "    </tr>\n",
       "    <tr>\n",
       "      <th>3</th>\n",
       "      <td>NC_000962.3</td>\n",
       "      <td>880</td>\n",
       "      <td>C</td>\n",
       "      <td>G</td>\n",
       "      <td>SNP</td>\n",
       "      <td>NaN</td>\n",
       "      <td>1</td>\n",
       "      <td>1097.0</td>\n",
       "      <td>0.0</td>\n",
       "      <td>43.0</td>\n",
       "      <td>...</td>\n",
       "      <td>48</td>\n",
       "      <td>1</td>\n",
       "      <td>hom</td>\n",
       "      <td>NaN</td>\n",
       "      <td>gatk</td>\n",
       "      <td>H37Rv_5x10-3SNP50X_1</td>\n",
       "      <td>1</td>\n",
       "      <td>0</td>\n",
       "      <td>0</td>\n",
       "      <td>NaN</td>\n",
       "    </tr>\n",
       "    <tr>\n",
       "      <th>4</th>\n",
       "      <td>NC_000962.3</td>\n",
       "      <td>1046</td>\n",
       "      <td>A</td>\n",
       "      <td>T</td>\n",
       "      <td>SNP</td>\n",
       "      <td>NaN</td>\n",
       "      <td>1</td>\n",
       "      <td>727.0</td>\n",
       "      <td>0.0</td>\n",
       "      <td>29.0</td>\n",
       "      <td>...</td>\n",
       "      <td>32</td>\n",
       "      <td>1</td>\n",
       "      <td>hom</td>\n",
       "      <td>NaN</td>\n",
       "      <td>gatk</td>\n",
       "      <td>H37Rv_5x10-3SNP50X_1</td>\n",
       "      <td>1</td>\n",
       "      <td>0</td>\n",
       "      <td>0</td>\n",
       "      <td>NaN</td>\n",
       "    </tr>\n",
       "    <tr>\n",
       "      <th>...</th>\n",
       "      <td>...</td>\n",
       "      <td>...</td>\n",
       "      <td>...</td>\n",
       "      <td>...</td>\n",
       "      <td>...</td>\n",
       "      <td>...</td>\n",
       "      <td>...</td>\n",
       "      <td>...</td>\n",
       "      <td>...</td>\n",
       "      <td>...</td>\n",
       "      <td>...</td>\n",
       "      <td>...</td>\n",
       "      <td>...</td>\n",
       "      <td>...</td>\n",
       "      <td>...</td>\n",
       "      <td>...</td>\n",
       "      <td>...</td>\n",
       "      <td>...</td>\n",
       "      <td>...</td>\n",
       "      <td>...</td>\n",
       "      <td>...</td>\n",
       "    </tr>\n",
       "    <tr>\n",
       "      <th>1548274</th>\n",
       "      <td>NC_000962.3</td>\n",
       "      <td>4410819</td>\n",
       "      <td>C</td>\n",
       "      <td>A</td>\n",
       "      <td>SNP</td>\n",
       "      <td>NaN</td>\n",
       "      <td>1</td>\n",
       "      <td>193.0</td>\n",
       "      <td>0.0</td>\n",
       "      <td>50.0</td>\n",
       "      <td>...</td>\n",
       "      <td>50</td>\n",
       "      <td>1/1</td>\n",
       "      <td>hom</td>\n",
       "      <td>NaN</td>\n",
       "      <td>vardict</td>\n",
       "      <td>H37Rv_5x10-3SNP50X_10</td>\n",
       "      <td>1</td>\n",
       "      <td>0</td>\n",
       "      <td>0</td>\n",
       "      <td>NaN</td>\n",
       "    </tr>\n",
       "    <tr>\n",
       "      <th>1548275</th>\n",
       "      <td>NC_000962.3</td>\n",
       "      <td>4410993</td>\n",
       "      <td>T</td>\n",
       "      <td>G</td>\n",
       "      <td>SNP</td>\n",
       "      <td>NaN</td>\n",
       "      <td>1</td>\n",
       "      <td>181.0</td>\n",
       "      <td>0.0</td>\n",
       "      <td>33.0</td>\n",
       "      <td>...</td>\n",
       "      <td>33</td>\n",
       "      <td>1/1</td>\n",
       "      <td>hom</td>\n",
       "      <td>NaN</td>\n",
       "      <td>vardict</td>\n",
       "      <td>H37Rv_5x10-3SNP50X_10</td>\n",
       "      <td>1</td>\n",
       "      <td>0</td>\n",
       "      <td>0</td>\n",
       "      <td>NaN</td>\n",
       "    </tr>\n",
       "    <tr>\n",
       "      <th>1548276</th>\n",
       "      <td>NC_000962.3</td>\n",
       "      <td>4411109</td>\n",
       "      <td>C</td>\n",
       "      <td>A</td>\n",
       "      <td>SNP</td>\n",
       "      <td>NaN</td>\n",
       "      <td>1</td>\n",
       "      <td>173.0</td>\n",
       "      <td>1.0</td>\n",
       "      <td>33.0</td>\n",
       "      <td>...</td>\n",
       "      <td>34</td>\n",
       "      <td>1/1</td>\n",
       "      <td>hom</td>\n",
       "      <td>NaN</td>\n",
       "      <td>vardict</td>\n",
       "      <td>H37Rv_5x10-3SNP50X_10</td>\n",
       "      <td>1</td>\n",
       "      <td>0</td>\n",
       "      <td>0</td>\n",
       "      <td>NaN</td>\n",
       "    </tr>\n",
       "    <tr>\n",
       "      <th>1548277</th>\n",
       "      <td>NC_000962.3</td>\n",
       "      <td>4411285</td>\n",
       "      <td>C</td>\n",
       "      <td>T</td>\n",
       "      <td>SNP</td>\n",
       "      <td>NaN</td>\n",
       "      <td>1</td>\n",
       "      <td>190.0</td>\n",
       "      <td>0.0</td>\n",
       "      <td>48.0</td>\n",
       "      <td>...</td>\n",
       "      <td>48</td>\n",
       "      <td>1/1</td>\n",
       "      <td>hom</td>\n",
       "      <td>NaN</td>\n",
       "      <td>vardict</td>\n",
       "      <td>H37Rv_5x10-3SNP50X_10</td>\n",
       "      <td>1</td>\n",
       "      <td>0</td>\n",
       "      <td>0</td>\n",
       "      <td>NaN</td>\n",
       "    </tr>\n",
       "    <tr>\n",
       "      <th>1548278</th>\n",
       "      <td>NC_000962.3</td>\n",
       "      <td>4411442</td>\n",
       "      <td>G</td>\n",
       "      <td>T</td>\n",
       "      <td>SNP</td>\n",
       "      <td>NaN</td>\n",
       "      <td>1</td>\n",
       "      <td>169.0</td>\n",
       "      <td>0.0</td>\n",
       "      <td>27.0</td>\n",
       "      <td>...</td>\n",
       "      <td>26</td>\n",
       "      <td>1/1</td>\n",
       "      <td>hom</td>\n",
       "      <td>NaN</td>\n",
       "      <td>vardict</td>\n",
       "      <td>H37Rv_5x10-3SNP50X_10</td>\n",
       "      <td>1</td>\n",
       "      <td>0</td>\n",
       "      <td>0</td>\n",
       "      <td>NaN</td>\n",
       "    </tr>\n",
       "  </tbody>\n",
       "</table>\n",
       "<p>1528253 rows × 21 columns</p>\n",
       "</div>"
      ],
      "text/plain": [
       "               CHROM      POS REF ALT TYPE  INS_TYPE  LEN    QUAL  AD_REF  \\\n",
       "0        NC_000962.3      240   C   T  SNP       NaN    1  1280.0     0.0   \n",
       "1        NC_000962.3      481   G   A  SNP       NaN    1   700.0     0.0   \n",
       "2        NC_000962.3      714   C   A  SNP       NaN    1  1170.0     0.0   \n",
       "3        NC_000962.3      880   C   G  SNP       NaN    1  1097.0     0.0   \n",
       "4        NC_000962.3     1046   A   T  SNP       NaN    1   727.0     0.0   \n",
       "...              ...      ...  ..  ..  ...       ...  ...     ...     ...   \n",
       "1548274  NC_000962.3  4410819   C   A  SNP       NaN    1   193.0     0.0   \n",
       "1548275  NC_000962.3  4410993   T   G  SNP       NaN    1   181.0     0.0   \n",
       "1548276  NC_000962.3  4411109   C   A  SNP       NaN    1   173.0     1.0   \n",
       "1548277  NC_000962.3  4411285   C   T  SNP       NaN    1   190.0     0.0   \n",
       "1548278  NC_000962.3  4411442   G   T  SNP       NaN    1   169.0     0.0   \n",
       "\n",
       "         AD_ALT  ...  BAM_DP   GT  ZYG RK_DISCOSNP     TOOL  \\\n",
       "0          50.0  ...      52    1  hom         NaN     gatk   \n",
       "1          25.0  ...      26    1  hom         NaN     gatk   \n",
       "2          48.0  ...      49    1  hom         NaN     gatk   \n",
       "3          43.0  ...      48    1  hom         NaN     gatk   \n",
       "4          29.0  ...      32    1  hom         NaN     gatk   \n",
       "...         ...  ...     ...  ...  ...         ...      ...   \n",
       "1548274    50.0  ...      50  1/1  hom         NaN  vardict   \n",
       "1548275    33.0  ...      33  1/1  hom         NaN  vardict   \n",
       "1548276    33.0  ...      34  1/1  hom         NaN  vardict   \n",
       "1548277    48.0  ...      48  1/1  hom         NaN  vardict   \n",
       "1548278    27.0  ...      26  1/1  hom         NaN  vardict   \n",
       "\n",
       "                        SAMPLE TRUE_POS  FALSE_POS  FALSE_NEG  LOCI  \n",
       "0         H37Rv_5x10-3SNP50X_1        1          0          0   NaN  \n",
       "1         H37Rv_5x10-3SNP50X_1        1          0          0   NaN  \n",
       "2         H37Rv_5x10-3SNP50X_1        1          0          0   NaN  \n",
       "3         H37Rv_5x10-3SNP50X_1        1          0          0   NaN  \n",
       "4         H37Rv_5x10-3SNP50X_1        1          0          0   NaN  \n",
       "...                        ...      ...        ...        ...   ...  \n",
       "1548274  H37Rv_5x10-3SNP50X_10        1          0          0   NaN  \n",
       "1548275  H37Rv_5x10-3SNP50X_10        1          0          0   NaN  \n",
       "1548276  H37Rv_5x10-3SNP50X_10        1          0          0   NaN  \n",
       "1548277  H37Rv_5x10-3SNP50X_10        1          0          0   NaN  \n",
       "1548278  H37Rv_5x10-3SNP50X_10        1          0          0   NaN  \n",
       "\n",
       "[1528253 rows x 21 columns]"
      ]
     },
     "execution_count": 51,
     "metadata": {},
     "output_type": "execute_result"
    }
   ],
   "source": [
    "snpcombined_min"
   ]
  },
  {
   "cell_type": "markdown",
   "id": "a106a952-df1d-42ae-b37c-4a8c05e1f929",
   "metadata": {
    "tags": []
   },
   "source": [
    "#### Number of mutations per replicate (e.g. GATK)\n",
    "Number of mutations introduced = Total True Positive + Total False Negative"
   ]
  },
  {
   "cell_type": "code",
   "execution_count": 52,
   "id": "f074d7cd-fae1-4ec7-90fa-edf77e1114f5",
   "metadata": {},
   "outputs": [],
   "source": [
    "sub_snp = snpcombined_min[(snpcombined_min.TOOL == 'gatk') & ((snpcombined_min.TRUE_POS == 1) | (snpcombined_min.FALSE_NEG == 1))]"
   ]
  },
  {
   "cell_type": "code",
   "execution_count": 53,
   "id": "d475568b-246b-4b35-9eaf-055dc48578b3",
   "metadata": {},
   "outputs": [
    {
     "data": {
      "text/plain": [
       "218305"
      ]
     },
     "execution_count": 53,
     "metadata": {},
     "output_type": "execute_result"
    }
   ],
   "source": [
    "# Total number of observations = 218,305\n",
    "len(sub_snp[sub_snp['TRUE_POS']==1]) + len(sub_snp[sub_snp['FALSE_NEG']==1])"
   ]
  },
  {
   "cell_type": "code",
   "execution_count": 55,
   "id": "ccda5df8-8164-4717-9514-f9cf2c2be9d8",
   "metadata": {
    "tags": []
   },
   "outputs": [],
   "source": [
    "snp1_amr = snp1.dropna(subset=['LOCI'])\n",
    "snp2_amr = snp2.dropna(subset=['LOCI'])\n",
    "snp3_amr = snp3.dropna(subset=['LOCI'])\n",
    "snp4_amr = snp4.dropna(subset=['LOCI'])\n",
    "snp5_amr = snp5.dropna(subset=['LOCI'])\n",
    "snp6_amr = snp6.dropna(subset=['LOCI'])\n",
    "snp7_amr = snp7.dropna(subset=['LOCI'])\n",
    "snp8_amr = snp8.dropna(subset=['LOCI'])\n",
    "snp9_amr = snp9.dropna(subset=['LOCI'])\n",
    "snp10_amr = snp10.dropna(subset=['LOCI'])"
   ]
  },
  {
   "cell_type": "code",
   "execution_count": 58,
   "id": "9ced8393-3d83-4ec7-bf5e-ced6ad107933",
   "metadata": {
    "tags": []
   },
   "outputs": [],
   "source": [
    "snp1_summary = combine_filtered(snp1_amr, 'BAM_DP', 0, 60, 10)\n",
    "snp2_summary = combine_filtered(snp2_amr, 'BAM_DP', 0, 60, 10)\n",
    "snp3_summary = combine_filtered(snp3_amr, 'BAM_DP', 0, 60, 10)\n",
    "snp4_summary = combine_filtered(snp4_amr, 'BAM_DP', 0, 60, 10)\n",
    "snp5_summary = combine_filtered(snp5_amr, 'BAM_DP', 0, 60, 10)\n",
    "snp6_summary = combine_filtered(snp6_amr, 'BAM_DP', 0, 60, 10)\n",
    "snp7_summary = combine_filtered(snp7_amr, 'BAM_DP', 0, 60, 10)\n",
    "snp8_summary = combine_filtered(snp8_amr, 'BAM_DP', 0, 60, 10)\n",
    "snp9_summary = combine_filtered(snp9_amr, 'BAM_DP', 0, 60, 10)\n",
    "snp10_summary = combine_filtered(snp10_amr, 'BAM_DP', 0, 60, 10)"
   ]
  },
  {
   "cell_type": "code",
   "execution_count": 59,
   "id": "93395e3c-6986-4f5a-9010-a596162bdcb6",
   "metadata": {},
   "outputs": [],
   "source": [
    "snp_summary = pd.concat([snp1_summary[snp1_summary.BAM_DP==0], \n",
    "                         snp2_summary[snp2_summary.BAM_DP==0],\n",
    "                         snp3_summary[snp3_summary.BAM_DP==0],\n",
    "                         snp4_summary[snp4_summary.BAM_DP==0],\n",
    "                         snp5_summary[snp5_summary.BAM_DP==0],\n",
    "                         snp6_summary[snp6_summary.BAM_DP==0],\n",
    "                         snp7_summary[snp7_summary.BAM_DP==0], \n",
    "                         snp8_summary[snp8_summary.BAM_DP==0],\n",
    "                         snp9_summary[snp9_summary.BAM_DP==0],\n",
    "                         snp10_summary[snp10_summary.BAM_DP==0]], ignore_index=True) "
   ]
  },
  {
   "cell_type": "code",
   "execution_count": 60,
   "id": "d592722a-fcb8-4451-bb44-8d000aa77f76",
   "metadata": {},
   "outputs": [],
   "source": [
    "snp_summary['total_mut_intro'] = snp_summary['true_pos'] + snp_summary['false_neg']\n",
    "snp_summary['total_mut_postfilter'] = snp_summary['total_mut_intro']"
   ]
  },
  {
   "cell_type": "code",
   "execution_count": 61,
   "id": "80d80182-7ce0-4cad-a5d6-b1861c9c2a33",
   "metadata": {},
   "outputs": [
    {
     "data": {
      "text/html": [
       "<div>\n",
       "<style scoped>\n",
       "    .dataframe tbody tr th:only-of-type {\n",
       "        vertical-align: middle;\n",
       "    }\n",
       "\n",
       "    .dataframe tbody tr th {\n",
       "        vertical-align: top;\n",
       "    }\n",
       "\n",
       "    .dataframe thead th {\n",
       "        text-align: right;\n",
       "    }\n",
       "</style>\n",
       "<table border=\"1\" class=\"dataframe\">\n",
       "  <thead>\n",
       "    <tr style=\"text-align: right;\">\n",
       "      <th></th>\n",
       "      <th>caller</th>\n",
       "      <th>true_pos</th>\n",
       "      <th>false_pos</th>\n",
       "      <th>false_neg</th>\n",
       "      <th>BAM_DP</th>\n",
       "      <th>recall</th>\n",
       "      <th>precision</th>\n",
       "      <th>total_mut_intro</th>\n",
       "      <th>total_mut_postfilter</th>\n",
       "    </tr>\n",
       "  </thead>\n",
       "  <tbody>\n",
       "    <tr>\n",
       "      <th>0</th>\n",
       "      <td>discosnp</td>\n",
       "      <td>133</td>\n",
       "      <td>0</td>\n",
       "      <td>0</td>\n",
       "      <td>0</td>\n",
       "      <td>1.000000</td>\n",
       "      <td>1.0</td>\n",
       "      <td>133</td>\n",
       "      <td>133</td>\n",
       "    </tr>\n",
       "    <tr>\n",
       "      <th>1</th>\n",
       "      <td>freebayes</td>\n",
       "      <td>133</td>\n",
       "      <td>0</td>\n",
       "      <td>0</td>\n",
       "      <td>0</td>\n",
       "      <td>1.000000</td>\n",
       "      <td>1.0</td>\n",
       "      <td>133</td>\n",
       "      <td>133</td>\n",
       "    </tr>\n",
       "    <tr>\n",
       "      <th>2</th>\n",
       "      <td>bcftools</td>\n",
       "      <td>133</td>\n",
       "      <td>0</td>\n",
       "      <td>0</td>\n",
       "      <td>0</td>\n",
       "      <td>1.000000</td>\n",
       "      <td>1.0</td>\n",
       "      <td>133</td>\n",
       "      <td>133</td>\n",
       "    </tr>\n",
       "    <tr>\n",
       "      <th>3</th>\n",
       "      <td>deepvariant</td>\n",
       "      <td>133</td>\n",
       "      <td>0</td>\n",
       "      <td>0</td>\n",
       "      <td>0</td>\n",
       "      <td>1.000000</td>\n",
       "      <td>1.0</td>\n",
       "      <td>133</td>\n",
       "      <td>133</td>\n",
       "    </tr>\n",
       "    <tr>\n",
       "      <th>4</th>\n",
       "      <td>lancet</td>\n",
       "      <td>133</td>\n",
       "      <td>0</td>\n",
       "      <td>0</td>\n",
       "      <td>0</td>\n",
       "      <td>1.000000</td>\n",
       "      <td>1.0</td>\n",
       "      <td>133</td>\n",
       "      <td>133</td>\n",
       "    </tr>\n",
       "    <tr>\n",
       "      <th>...</th>\n",
       "      <td>...</td>\n",
       "      <td>...</td>\n",
       "      <td>...</td>\n",
       "      <td>...</td>\n",
       "      <td>...</td>\n",
       "      <td>...</td>\n",
       "      <td>...</td>\n",
       "      <td>...</td>\n",
       "      <td>...</td>\n",
       "    </tr>\n",
       "    <tr>\n",
       "      <th>65</th>\n",
       "      <td>bcftools</td>\n",
       "      <td>135</td>\n",
       "      <td>0</td>\n",
       "      <td>0</td>\n",
       "      <td>0</td>\n",
       "      <td>1.000000</td>\n",
       "      <td>1.0</td>\n",
       "      <td>135</td>\n",
       "      <td>135</td>\n",
       "    </tr>\n",
       "    <tr>\n",
       "      <th>66</th>\n",
       "      <td>deepvariant</td>\n",
       "      <td>135</td>\n",
       "      <td>0</td>\n",
       "      <td>0</td>\n",
       "      <td>0</td>\n",
       "      <td>1.000000</td>\n",
       "      <td>1.0</td>\n",
       "      <td>135</td>\n",
       "      <td>135</td>\n",
       "    </tr>\n",
       "    <tr>\n",
       "      <th>67</th>\n",
       "      <td>lancet</td>\n",
       "      <td>134</td>\n",
       "      <td>0</td>\n",
       "      <td>1</td>\n",
       "      <td>0</td>\n",
       "      <td>0.992593</td>\n",
       "      <td>1.0</td>\n",
       "      <td>135</td>\n",
       "      <td>135</td>\n",
       "    </tr>\n",
       "    <tr>\n",
       "      <th>68</th>\n",
       "      <td>vardict</td>\n",
       "      <td>135</td>\n",
       "      <td>0</td>\n",
       "      <td>0</td>\n",
       "      <td>0</td>\n",
       "      <td>1.000000</td>\n",
       "      <td>1.0</td>\n",
       "      <td>135</td>\n",
       "      <td>135</td>\n",
       "    </tr>\n",
       "    <tr>\n",
       "      <th>69</th>\n",
       "      <td>gatk</td>\n",
       "      <td>135</td>\n",
       "      <td>0</td>\n",
       "      <td>0</td>\n",
       "      <td>0</td>\n",
       "      <td>1.000000</td>\n",
       "      <td>1.0</td>\n",
       "      <td>135</td>\n",
       "      <td>135</td>\n",
       "    </tr>\n",
       "  </tbody>\n",
       "</table>\n",
       "<p>70 rows × 9 columns</p>\n",
       "</div>"
      ],
      "text/plain": [
       "         caller  true_pos  false_pos  false_neg  BAM_DP    recall  precision  \\\n",
       "0      discosnp       133          0          0       0  1.000000        1.0   \n",
       "1     freebayes       133          0          0       0  1.000000        1.0   \n",
       "2      bcftools       133          0          0       0  1.000000        1.0   \n",
       "3   deepvariant       133          0          0       0  1.000000        1.0   \n",
       "4        lancet       133          0          0       0  1.000000        1.0   \n",
       "..          ...       ...        ...        ...     ...       ...        ...   \n",
       "65     bcftools       135          0          0       0  1.000000        1.0   \n",
       "66  deepvariant       135          0          0       0  1.000000        1.0   \n",
       "67       lancet       134          0          1       0  0.992593        1.0   \n",
       "68      vardict       135          0          0       0  1.000000        1.0   \n",
       "69         gatk       135          0          0       0  1.000000        1.0   \n",
       "\n",
       "    total_mut_intro  total_mut_postfilter  \n",
       "0               133                   133  \n",
       "1               133                   133  \n",
       "2               133                   133  \n",
       "3               133                   133  \n",
       "4               133                   133  \n",
       "..              ...                   ...  \n",
       "65              135                   135  \n",
       "66              135                   135  \n",
       "67              135                   135  \n",
       "68              135                   135  \n",
       "69              135                   135  \n",
       "\n",
       "[70 rows x 9 columns]"
      ]
     },
     "execution_count": 61,
     "metadata": {},
     "output_type": "execute_result"
    }
   ],
   "source": [
    "snp_summary"
   ]
  },
  {
   "cell_type": "markdown",
   "id": "10accaaf-33eb-49cf-a42c-cc68813ac83b",
   "metadata": {},
   "source": [
    "#### Simulated density: 1 INS / 1,000 bases"
   ]
  },
  {
   "cell_type": "code",
   "execution_count": 97,
   "id": "f609cab9-f2f2-4bc9-bc11-de4b5b506c1d",
   "metadata": {},
   "outputs": [],
   "source": [
    "ins1k1 = pd.read_csv('/Users/yeemayseah/Documents/Repos/mtb_amr/output/checked/H37Rv_10-3INS50X_1_alltools_normalized_dp0_H37Rv_checked_amr-edit.csv')\n",
    "ins1k2 = pd.read_csv('/Users/yeemayseah/Documents/Repos/mtb_amr/output/checked/H37Rv_10-3INS50X_2_alltools_normalized_dp0_H37Rv_checked_amr-edit.csv')\n",
    "ins1k3 = pd.read_csv('/Users/yeemayseah/Documents/Repos/mtb_amr/output/checked/H37Rv_10-3INS50X_3_alltools_normalized_dp0_H37Rv_checked_amr-edit.csv')\n",
    "ins1k4 = pd.read_csv('/Users/yeemayseah/Documents/Repos/mtb_amr/output/checked/H37Rv_10-3INS50X_4_alltools_normalized_dp0_H37Rv_checked_amr-edit.csv')\n",
    "ins1k5 = pd.read_csv('/Users/yeemayseah/Documents/Repos/mtb_amr/output/checked/H37Rv_10-3INS50X_5_alltools_normalized_dp0_H37Rv_checked_amr-edit.csv')\n",
    "ins1k6 = pd.read_csv('/Users/yeemayseah/Documents/Repos/mtb_amr/output/checked/H37Rv_10-3INS50X_6_alltools_normalized_dp0_H37Rv_checked_amr-edit.csv')\n",
    "ins1k7 = pd.read_csv('/Users/yeemayseah/Documents/Repos/mtb_amr/output/checked/H37Rv_10-3INS50X_7_alltools_normalized_dp0_H37Rv_checked_amr-edit.csv')\n",
    "ins1k8 = pd.read_csv('/Users/yeemayseah/Documents/Repos/mtb_amr/output/checked/H37Rv_10-3INS50X_8_alltools_normalized_dp0_H37Rv_checked_amr-edit.csv')\n",
    "ins1k9 = pd.read_csv('/Users/yeemayseah/Documents/Repos/mtb_amr/output/checked/H37Rv_10-3INS50X_9_alltools_normalized_dp0_H37Rv_checked_amr-edit.csv')\n",
    "ins1k10 = pd.read_csv('/Users/yeemayseah/Documents/Repos/mtb_amr/output/checked/H37Rv_10-3INS50X_10_alltools_normalized_dp0_H37Rv_checked_amr-edit.csv')"
   ]
  },
  {
   "cell_type": "code",
   "execution_count": 98,
   "id": "0d5de4cb-d331-465a-aa2b-752e64920e10",
   "metadata": {},
   "outputs": [],
   "source": [
    "combined_ins1k = pd.concat([ins1k1, ins1k2, ins1k3, ins1k4, ins1k5, \n",
    "                            ins1k6, ins1k7, ins1k8, ins1k9, ins1k10], ignore_index=True)\n",
    "combined_ins1k_mindp = combined_ins1k[combined_ins1k.BAM_DP >= 20].dropna(subset=['LOCI'])"
   ]
  },
  {
   "cell_type": "markdown",
   "id": "f60bb547-80e0-442f-8f11-178b89f3ccdf",
   "metadata": {
    "tags": []
   },
   "source": [
    "#### Number of mutations per replicate (e.g. GATK)\n",
    "Number of mutations introduced = Total True Positive + Total False Negative"
   ]
  },
  {
   "cell_type": "code",
   "execution_count": 99,
   "id": "f938fdde-5687-4eca-a3b0-6e7b0b38e80f",
   "metadata": {},
   "outputs": [],
   "source": [
    "subset_mindp = combined_ins1k_mindp[(combined_ins1k_mindp.TOOL == 'gatk') & ((combined_ins1k_mindp.TRUE_POS == 1) | (combined_ins1k_mindp.FALSE_NEG == 1))]"
   ]
  },
  {
   "cell_type": "code",
   "execution_count": 100,
   "id": "b10c9b8a-7016-4d6c-ba0c-9b64d5e0b1a3",
   "metadata": {},
   "outputs": [
    {
     "data": {
      "text/plain": [
       "266"
      ]
     },
     "execution_count": 100,
     "metadata": {},
     "output_type": "execute_result"
    }
   ],
   "source": [
    "# Total number of observations = 266\n",
    "len(subset_mindp[subset_mindp['TRUE_POS']==1]) + len(subset_mindp[subset_mindp['FALSE_NEG']==1])"
   ]
  },
  {
   "cell_type": "markdown",
   "id": "b7698f61-3089-405f-ba67-3f284126fffc",
   "metadata": {
    "tags": []
   },
   "source": [
    "### Simulated 50X average coverage depth\n",
    "#### How many bases fall below 20X?\n",
    "**Less than 1% of whole genome**\n",
    "\n",
    "Input: Simulated reads at 50X minimum average coverage depth for 10 replicates of INS-only datasets.\n",
    "\n",
    "I got the per-base depths:\n",
    "\n",
    "`singularity exec -B $PWD /molmicro/common/singularity/bedtools-2.27.1-singularity-3.5.1.sif bedtools genomecov -d -ibam output/deduped/H37Rv_10-2SNP20X_1_deduped_mq_H37Rv.bam > perbase.txt`\n",
    "\n",
    "then, extracted the positions with depths <20: \n",
    "\n",
    "`for i in {1..19..1} do`\n",
    "\n",
    "`grep -w ${i}$ perbase.txt >> perbase_max19.txt;`\n",
    "\n",
    "`done`\n",
    "\n",
    "and `wc -l perbase_max19.tFxt` to count the number of lines in the output file.\n",
    "\n",
    "(Steps summarized in `bin/get_mindepths.sh`)"
   ]
  },
  {
   "cell_type": "code",
   "execution_count": 98,
   "id": "6986a80e-ed42-468e-91a4-9c97a913f43a",
   "metadata": {},
   "outputs": [],
   "source": [
    "rep1_50x = 14581\n",
    "rep2_50x = 14542\n",
    "rep3_50x = 15455\n",
    "rep4_50x = 14789\n",
    "rep5_50x = 14451\n",
    "rep6_50x = 14775\n",
    "rep7_50x = 15035\n",
    "rep8_50x = 15064\n",
    "rep9_50x = 15356\n",
    "rep10_50x = 14353\n",
    "totalbases = 4411532"
   ]
  },
  {
   "cell_type": "code",
   "execution_count": 97,
   "id": "9ebe8a83-64d6-4bb1-80f9-6c96cb27a974",
   "metadata": {},
   "outputs": [
    {
     "data": {
      "text/plain": [
       "0.0033491766579047825"
      ]
     },
     "execution_count": 97,
     "metadata": {},
     "output_type": "execute_result"
    }
   ],
   "source": [
    "rep6_50x/totalbases"
   ]
  },
  {
   "cell_type": "markdown",
   "id": "55e6eaba-29f1-4f18-ba88-3b2a14d9de31",
   "metadata": {
    "tags": []
   },
   "source": [
    "### Simulated 20X average coverage depth\n",
    "Input: I had initially simulated reads at 20X minimum average coverage depth for 7 replicates of SNP-only datasets.\n",
    "\n",
    "#### How many bases fall below 20X?\n",
    "\n",
    "**Approx. 50% of whole genome**"
   ]
  },
  {
   "cell_type": "markdown",
   "id": "37f51b80-7da6-468a-8c07-7a39c900f15f",
   "metadata": {},
   "source": [
    "rep1 = 2249049\n",
    "rep2 = 2216234\n",
    "rep3 = 2207939\n",
    "rep4 = 2207023\n",
    "rep5 = 2213648\n",
    "rep6 = 2202957\n",
    "rep7 = 2210917"
   ]
  }
 ],
 "metadata": {
  "kernelspec": {
   "display_name": "Python 3 (ipykernel)",
   "language": "python",
   "name": "python3"
  },
  "language_info": {
   "codemirror_mode": {
    "name": "ipython",
    "version": 3
   },
   "file_extension": ".py",
   "mimetype": "text/x-python",
   "name": "python",
   "nbconvert_exporter": "python",
   "pygments_lexer": "ipython3",
   "version": "3.8.12"
  }
 },
 "nbformat": 4,
 "nbformat_minor": 5
}
