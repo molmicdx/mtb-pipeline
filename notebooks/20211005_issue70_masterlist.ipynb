{
 "cells": [
  {
   "cell_type": "markdown",
   "id": "c0de8b17",
   "metadata": {},
   "source": [
    "This notebook is for: \n",
    "- curating data on M.tb AMR variants, as compiled in Elizabeth Garret's master list, and NEJM.\n",
    "- analyzing AMR loci in synthetic, and in-house sequenced M.tb isolates\n",
    "\n",
    "#### How are the BAM_DP summary stats obtained?\n",
    "1. `bed` file of per-site read depth of each AMR loci is generated from `bedtools intersect` of AMR coordinates and whole genome coverage.\n",
    "2. summary stats per AMR loci for each dataset calculated from `bed` file in #1 with `bin/add_cov.py`\n",
    "3. `cat` summary stats for all datasets."
   ]
  },
  {
   "cell_type": "markdown",
   "id": "ac88db61-8664-45ab-a5f5-cf1f92a99bdb",
   "metadata": {},
   "source": [
    "### Synthetic Variants"
   ]
  },
  {
   "cell_type": "code",
   "execution_count": 5,
   "id": "256f660b-1f44-48ef-93f6-5562706c3245",
   "metadata": {},
   "outputs": [],
   "source": [
    "INSsummstats = pd.read_csv('/Users/yeemayseah/Documents/Repos/mtb_amr/output/variants/H37Rv_10-3INSdownsampled_amr_covsummstats_H37Rv.csv')"
   ]
  },
  {
   "cell_type": "code",
   "execution_count": 6,
   "id": "cc061d58-8d07-46bd-885f-682e8a10cdbd",
   "metadata": {},
   "outputs": [],
   "source": [
    "DELsummstats = pd.read_csv('/Users/yeemayseah/Documents/Repos/mtb_amr/output/variants/H37Rv_10-3DELdownsampled_amr_covsummstats_H37Rv.csv')"
   ]
  },
  {
   "cell_type": "code",
   "execution_count": 7,
   "id": "90f701ad-066d-4f7e-9e88-6aad339e86fc",
   "metadata": {},
   "outputs": [],
   "source": [
    "SNPsummstats = pd.read_csv('/Users/yeemayseah/Documents/Repos/mtb_amr/output/variants/H37Rv_10-3SNPdownsampled_amr_covsummstats_H37Rv.csv')"
   ]
  },
  {
   "cell_type": "markdown",
   "id": "69654d71-e604-4cd9-bee7-373f82850bda",
   "metadata": {},
   "source": [
    "#### INS only"
   ]
  },
  {
   "cell_type": "code",
   "execution_count": 40,
   "id": "3673faf6-fd23-4fdb-b89a-db2f8038fe7a",
   "metadata": {},
   "outputs": [
    {
     "data": {
      "application/vnd.plotly.v1+json": {
       "config": {
        "plotlyServerURL": "https://plot.ly"
       },
       "data": [
        {
         "hovertemplate": "variable=MIN_BAM_DP<br>TYPE=inhA_promoter<br>DATASET=%{x}<br>value=%{y}<extra></extra>",
         "legendgroup": "MIN_BAM_DP",
         "line": {
          "color": "rgb(229, 134, 6)",
          "dash": "solid"
         },
         "mode": "lines",
         "name": "MIN_BAM_DP",
         "orientation": "v",
         "showlegend": true,
         "type": "scatter",
         "x": [
          5,
          10,
          15,
          20,
          30,
          40,
          50,
          60,
          70,
          80,
          90,
          100
         ],
         "xaxis": "x13",
         "y": [
          7,
          15,
          21,
          24,
          39,
          58,
          66,
          74,
          83,
          88,
          104,
          109
         ],
         "yaxis": "y13"
        },
        {
         "hovertemplate": "variable=MIN_BAM_DP<br>TYPE=gyrB<br>DATASET=%{x}<br>value=%{y}<extra></extra>",
         "legendgroup": "MIN_BAM_DP",
         "line": {
          "color": "rgb(229, 134, 6)",
          "dash": "solid"
         },
         "mode": "lines",
         "name": "MIN_BAM_DP",
         "orientation": "v",
         "showlegend": false,
         "type": "scatter",
         "x": [
          5,
          10,
          15,
          20,
          30,
          40,
          50,
          60,
          70,
          80,
          90,
          100
         ],
         "xaxis": "x14",
         "y": [
          0,
          2,
          2,
          12,
          19,
          26,
          35,
          46,
          56,
          62,
          71,
          76
         ],
         "yaxis": "y14"
        },
        {
         "hovertemplate": "variable=MIN_BAM_DP<br>TYPE=gyrA<br>DATASET=%{x}<br>value=%{y}<extra></extra>",
         "legendgroup": "MIN_BAM_DP",
         "line": {
          "color": "rgb(229, 134, 6)",
          "dash": "solid"
         },
         "mode": "lines",
         "name": "MIN_BAM_DP",
         "orientation": "v",
         "showlegend": false,
         "type": "scatter",
         "x": [
          5,
          10,
          15,
          20,
          30,
          40,
          50,
          60,
          70,
          80,
          90,
          100
         ],
         "xaxis": "x15",
         "y": [
          0,
          2,
          2,
          7,
          13,
          23,
          27,
          36,
          44,
          53,
          63,
          72
         ],
         "yaxis": "y15"
        },
        {
         "hovertemplate": "variable=MIN_BAM_DP<br>TYPE=rpoB<br>DATASET=%{x}<br>value=%{y}<extra></extra>",
         "legendgroup": "MIN_BAM_DP",
         "line": {
          "color": "rgb(229, 134, 6)",
          "dash": "solid"
         },
         "mode": "lines",
         "name": "MIN_BAM_DP",
         "orientation": "v",
         "showlegend": false,
         "type": "scatter",
         "x": [
          5,
          10,
          15,
          20,
          30,
          40,
          50,
          60,
          70,
          80,
          90,
          100
         ],
         "xaxis": "x16",
         "y": [
          0,
          1,
          2,
          6,
          12,
          16,
          25,
          37,
          43,
          52,
          57,
          64
         ],
         "yaxis": "y16"
        },
        {
         "hovertemplate": "variable=MIN_BAM_DP<br>TYPE=rpsL<br>DATASET=%{x}<br>value=%{y}<extra></extra>",
         "legendgroup": "MIN_BAM_DP",
         "line": {
          "color": "rgb(229, 134, 6)",
          "dash": "solid"
         },
         "mode": "lines",
         "name": "MIN_BAM_DP",
         "orientation": "v",
         "showlegend": false,
         "type": "scatter",
         "x": [
          5,
          10,
          15,
          20,
          30,
          40,
          50,
          60,
          70,
          80,
          90,
          100
         ],
         "xaxis": "x17",
         "y": [
          4,
          6,
          10,
          13,
          19,
          23,
          37,
          40,
          51,
          62,
          72,
          76
         ],
         "yaxis": "y17"
        },
        {
         "hovertemplate": "variable=MIN_BAM_DP<br>TYPE=rrs<br>DATASET=%{x}<br>value=%{y}<extra></extra>",
         "legendgroup": "MIN_BAM_DP",
         "line": {
          "color": "rgb(229, 134, 6)",
          "dash": "solid"
         },
         "mode": "lines",
         "name": "MIN_BAM_DP",
         "orientation": "v",
         "showlegend": false,
         "type": "scatter",
         "x": [
          5,
          10,
          15,
          20,
          30,
          40,
          50,
          60,
          70,
          80,
          90,
          100
         ],
         "xaxis": "x18",
         "y": [
          1,
          5,
          7,
          10,
          18,
          23,
          30,
          44,
          52,
          56,
          67,
          77
         ],
         "yaxis": "y18"
        },
        {
         "hovertemplate": "variable=MIN_BAM_DP<br>TYPE=fabG1<br>DATASET=%{x}<br>value=%{y}<extra></extra>",
         "legendgroup": "MIN_BAM_DP",
         "line": {
          "color": "rgb(229, 134, 6)",
          "dash": "solid"
         },
         "mode": "lines",
         "name": "MIN_BAM_DP",
         "orientation": "v",
         "showlegend": false,
         "type": "scatter",
         "x": [
          5,
          10,
          15,
          20,
          30,
          40,
          50,
          60,
          70,
          80,
          90,
          100
         ],
         "xaxis": "x7",
         "y": [
          4,
          6,
          8,
          15,
          20,
          36,
          43,
          54,
          58,
          72,
          76,
          87
         ],
         "yaxis": "y7"
        },
        {
         "hovertemplate": "variable=MIN_BAM_DP<br>TYPE=inhA<br>DATASET=%{x}<br>value=%{y}<extra></extra>",
         "legendgroup": "MIN_BAM_DP",
         "line": {
          "color": "rgb(229, 134, 6)",
          "dash": "solid"
         },
         "mode": "lines",
         "name": "MIN_BAM_DP",
         "orientation": "v",
         "showlegend": false,
         "type": "scatter",
         "x": [
          5,
          10,
          15,
          20,
          30,
          40,
          50,
          60,
          70,
          80,
          90,
          100
         ],
         "xaxis": "x8",
         "y": [
          0,
          6,
          8,
          9,
          19,
          28,
          38,
          44,
          59,
          70,
          79,
          83
         ],
         "yaxis": "y8"
        },
        {
         "hovertemplate": "variable=MIN_BAM_DP<br>TYPE=pncA<br>DATASET=%{x}<br>value=%{y}<extra></extra>",
         "legendgroup": "MIN_BAM_DP",
         "line": {
          "color": "rgb(229, 134, 6)",
          "dash": "solid"
         },
         "mode": "lines",
         "name": "MIN_BAM_DP",
         "orientation": "v",
         "showlegend": false,
         "type": "scatter",
         "x": [
          5,
          10,
          15,
          20,
          30,
          40,
          50,
          60,
          70,
          80,
          90,
          100
         ],
         "xaxis": "x9",
         "y": [
          0,
          0,
          4,
          11,
          22,
          26,
          36,
          41,
          51,
          55,
          70,
          77
         ],
         "yaxis": "y9"
        },
        {
         "hovertemplate": "variable=MIN_BAM_DP<br>TYPE=katG<br>DATASET=%{x}<br>value=%{y}<extra></extra>",
         "legendgroup": "MIN_BAM_DP",
         "line": {
          "color": "rgb(229, 134, 6)",
          "dash": "solid"
         },
         "mode": "lines",
         "name": "MIN_BAM_DP",
         "orientation": "v",
         "showlegend": false,
         "type": "scatter",
         "x": [
          5,
          10,
          15,
          20,
          30,
          40,
          50,
          60,
          70,
          80,
          90,
          100
         ],
         "xaxis": "x10",
         "y": [
          0,
          1,
          4,
          9,
          15,
          24,
          31,
          39,
          48,
          56,
          58,
          72
         ],
         "yaxis": "y10"
        },
        {
         "hovertemplate": "variable=MIN_BAM_DP<br>TYPE=eis<br>DATASET=%{x}<br>value=%{y}<extra></extra>",
         "legendgroup": "MIN_BAM_DP",
         "line": {
          "color": "rgb(229, 134, 6)",
          "dash": "solid"
         },
         "mode": "lines",
         "name": "MIN_BAM_DP",
         "orientation": "v",
         "showlegend": false,
         "type": "scatter",
         "x": [
          5,
          10,
          15,
          20,
          30,
          40,
          50,
          60,
          70,
          80,
          90,
          100
         ],
         "xaxis": "x11",
         "y": [
          0,
          5,
          8,
          10,
          14,
          23,
          30,
          41,
          48,
          55,
          60,
          65
         ],
         "yaxis": "y11"
        },
        {
         "hovertemplate": "variable=MIN_BAM_DP<br>TYPE=ahpC_promoter<br>DATASET=%{x}<br>value=%{y}<extra></extra>",
         "legendgroup": "MIN_BAM_DP",
         "line": {
          "color": "rgb(229, 134, 6)",
          "dash": "solid"
         },
         "mode": "lines",
         "name": "MIN_BAM_DP",
         "orientation": "v",
         "showlegend": false,
         "type": "scatter",
         "x": [
          5,
          10,
          15,
          20,
          30,
          40,
          50,
          60,
          70,
          80,
          90,
          100
         ],
         "xaxis": "x12",
         "y": [
          3,
          4,
          8,
          13,
          21,
          25,
          31,
          44,
          54,
          60,
          72,
          81
         ],
         "yaxis": "y12"
        },
        {
         "hovertemplate": "variable=MIN_BAM_DP<br>TYPE=ahpC<br>DATASET=%{x}<br>value=%{y}<extra></extra>",
         "legendgroup": "MIN_BAM_DP",
         "line": {
          "color": "rgb(229, 134, 6)",
          "dash": "solid"
         },
         "mode": "lines",
         "name": "MIN_BAM_DP",
         "orientation": "v",
         "showlegend": false,
         "type": "scatter",
         "x": [
          5,
          10,
          15,
          20,
          30,
          40,
          50,
          60,
          70,
          80,
          90,
          100
         ],
         "xaxis": "x",
         "y": [
          0,
          2,
          7,
          10,
          15,
          21,
          30,
          37,
          45,
          49,
          55,
          60
         ],
         "yaxis": "y"
        },
        {
         "hovertemplate": "variable=MIN_BAM_DP<br>TYPE=embC<br>DATASET=%{x}<br>value=%{y}<extra></extra>",
         "legendgroup": "MIN_BAM_DP",
         "line": {
          "color": "rgb(229, 134, 6)",
          "dash": "solid"
         },
         "mode": "lines",
         "name": "MIN_BAM_DP",
         "orientation": "v",
         "showlegend": false,
         "type": "scatter",
         "x": [
          5,
          10,
          15,
          20,
          30,
          40,
          50,
          60,
          70,
          80,
          90,
          100
         ],
         "xaxis": "x2",
         "y": [
          0,
          0,
          3,
          4,
          11,
          14,
          21,
          33,
          36,
          39,
          46,
          57
         ],
         "yaxis": "y2"
        },
        {
         "hovertemplate": "variable=MIN_BAM_DP<br>TYPE=embA<br>DATASET=%{x}<br>value=%{y}<extra></extra>",
         "legendgroup": "MIN_BAM_DP",
         "line": {
          "color": "rgb(229, 134, 6)",
          "dash": "solid"
         },
         "mode": "lines",
         "name": "MIN_BAM_DP",
         "orientation": "v",
         "showlegend": false,
         "type": "scatter",
         "x": [
          5,
          10,
          15,
          20,
          30,
          40,
          50,
          60,
          70,
          80,
          90,
          100
         ],
         "xaxis": "x3",
         "y": [
          0,
          2,
          3,
          8,
          13,
          21,
          29,
          40,
          46,
          58,
          61,
          67
         ],
         "yaxis": "y3"
        },
        {
         "hovertemplate": "variable=MIN_BAM_DP<br>TYPE=embB<br>DATASET=%{x}<br>value=%{y}<extra></extra>",
         "legendgroup": "MIN_BAM_DP",
         "line": {
          "color": "rgb(229, 134, 6)",
          "dash": "solid"
         },
         "mode": "lines",
         "name": "MIN_BAM_DP",
         "orientation": "v",
         "showlegend": false,
         "type": "scatter",
         "x": [
          5,
          10,
          15,
          20,
          30,
          40,
          50,
          60,
          70,
          80,
          90,
          100
         ],
         "xaxis": "x4",
         "y": [
          0,
          2,
          3,
          8,
          16,
          20,
          29,
          33,
          46,
          49,
          56,
          63
         ],
         "yaxis": "y4"
        },
        {
         "hovertemplate": "variable=MIN_BAM_DP<br>TYPE=gidB<br>DATASET=%{x}<br>value=%{y}<extra></extra>",
         "legendgroup": "MIN_BAM_DP",
         "line": {
          "color": "rgb(229, 134, 6)",
          "dash": "solid"
         },
         "mode": "lines",
         "name": "MIN_BAM_DP",
         "orientation": "v",
         "showlegend": false,
         "type": "scatter",
         "x": [
          5,
          10,
          15,
          20,
          30,
          40,
          50,
          60,
          70,
          80,
          90,
          100
         ],
         "xaxis": "x5",
         "y": [
          1,
          5,
          7,
          13,
          18,
          27,
          36,
          45,
          48,
          60,
          68,
          79
         ],
         "yaxis": "y5"
        },
        {
         "hovertemplate": "variable=MIN_BAM_DP<br>TYPE=eis_promoter<br>DATASET=%{x}<br>value=%{y}<extra></extra>",
         "legendgroup": "MIN_BAM_DP",
         "line": {
          "color": "rgb(229, 134, 6)",
          "dash": "solid"
         },
         "mode": "lines",
         "name": "MIN_BAM_DP",
         "orientation": "v",
         "showlegend": false,
         "type": "scatter",
         "x": [
          5,
          10,
          15,
          20,
          30,
          40,
          50,
          60,
          70,
          80,
          90,
          100
         ],
         "xaxis": "x6",
         "y": [
          4,
          5,
          9,
          13,
          18,
          20,
          34,
          45,
          57,
          69,
          84,
          86
         ],
         "yaxis": "y6"
        },
        {
         "hovertemplate": "variable=MED_BAM_DP<br>TYPE=inhA_promoter<br>DATASET=%{x}<br>value=%{y}<extra></extra>",
         "legendgroup": "MED_BAM_DP",
         "line": {
          "color": "rgb(93, 105, 177)",
          "dash": "solid"
         },
         "mode": "lines",
         "name": "MED_BAM_DP",
         "orientation": "v",
         "showlegend": true,
         "type": "scatter",
         "x": [
          5,
          10,
          15,
          20,
          30,
          40,
          50,
          60,
          70,
          80,
          90,
          100
         ],
         "xaxis": "x13",
         "y": [
          9,
          19,
          24,
          27,
          43,
          64,
          74,
          84,
          99,
          103,
          125,
          128
         ],
         "yaxis": "y13"
        },
        {
         "hovertemplate": "variable=MED_BAM_DP<br>TYPE=gyrB<br>DATASET=%{x}<br>value=%{y}<extra></extra>",
         "legendgroup": "MED_BAM_DP",
         "line": {
          "color": "rgb(93, 105, 177)",
          "dash": "solid"
         },
         "mode": "lines",
         "name": "MED_BAM_DP",
         "orientation": "v",
         "showlegend": false,
         "type": "scatter",
         "x": [
          5,
          10,
          15,
          20,
          30,
          40,
          50,
          60,
          70,
          80,
          90,
          100
         ],
         "xaxis": "x14",
         "y": [
          4,
          9,
          14,
          21,
          30,
          40,
          52,
          65,
          74,
          84,
          93,
          105
         ],
         "yaxis": "y14"
        },
        {
         "hovertemplate": "variable=MED_BAM_DP<br>TYPE=gyrA<br>DATASET=%{x}<br>value=%{y}<extra></extra>",
         "legendgroup": "MED_BAM_DP",
         "line": {
          "color": "rgb(93, 105, 177)",
          "dash": "solid"
         },
         "mode": "lines",
         "name": "MED_BAM_DP",
         "orientation": "v",
         "showlegend": false,
         "type": "scatter",
         "x": [
          5,
          10,
          15,
          20,
          30,
          40,
          50,
          60,
          70,
          80,
          90,
          100
         ],
         "xaxis": "x15",
         "y": [
          4,
          9,
          14,
          17,
          29,
          38,
          48,
          60,
          69,
          78,
          90,
          102
         ],
         "yaxis": "y15"
        },
        {
         "hovertemplate": "variable=MED_BAM_DP<br>TYPE=rpoB<br>DATASET=%{x}<br>value=%{y}<extra></extra>",
         "legendgroup": "MED_BAM_DP",
         "line": {
          "color": "rgb(93, 105, 177)",
          "dash": "solid"
         },
         "mode": "lines",
         "name": "MED_BAM_DP",
         "orientation": "v",
         "showlegend": false,
         "type": "scatter",
         "x": [
          5,
          10,
          15,
          20,
          30,
          40,
          50,
          60,
          70,
          80,
          90,
          100
         ],
         "xaxis": "x16",
         "y": [
          4,
          9,
          13,
          18,
          27,
          36,
          46,
          55,
          61,
          72,
          82,
          92
         ],
         "yaxis": "y16"
        },
        {
         "hovertemplate": "variable=MED_BAM_DP<br>TYPE=rpsL<br>DATASET=%{x}<br>value=%{y}<extra></extra>",
         "legendgroup": "MED_BAM_DP",
         "line": {
          "color": "rgb(93, 105, 177)",
          "dash": "solid"
         },
         "mode": "lines",
         "name": "MED_BAM_DP",
         "orientation": "v",
         "showlegend": false,
         "type": "scatter",
         "x": [
          5,
          10,
          15,
          20,
          30,
          40,
          50,
          60,
          70,
          80,
          90,
          100
         ],
         "xaxis": "x17",
         "y": [
          6,
          9,
          14,
          19,
          28,
          35,
          44,
          52,
          66,
          74,
          86,
          93
         ],
         "yaxis": "y17"
        },
        {
         "hovertemplate": "variable=MED_BAM_DP<br>TYPE=rrs<br>DATASET=%{x}<br>value=%{y}<extra></extra>",
         "legendgroup": "MED_BAM_DP",
         "line": {
          "color": "rgb(93, 105, 177)",
          "dash": "solid"
         },
         "mode": "lines",
         "name": "MED_BAM_DP",
         "orientation": "v",
         "showlegend": false,
         "type": "scatter",
         "x": [
          5,
          10,
          15,
          20,
          30,
          40,
          50,
          60,
          70,
          80,
          90,
          100
         ],
         "xaxis": "x18",
         "y": [
          5,
          10,
          15,
          20,
          30,
          37,
          48,
          58,
          67,
          75,
          84,
          97
         ],
         "yaxis": "y18"
        },
        {
         "hovertemplate": "variable=MED_BAM_DP<br>TYPE=fabG1<br>DATASET=%{x}<br>value=%{y}<extra></extra>",
         "legendgroup": "MED_BAM_DP",
         "line": {
          "color": "rgb(93, 105, 177)",
          "dash": "solid"
         },
         "mode": "lines",
         "name": "MED_BAM_DP",
         "orientation": "v",
         "showlegend": false,
         "type": "scatter",
         "x": [
          5,
          10,
          15,
          20,
          30,
          40,
          50,
          60,
          70,
          80,
          90,
          100
         ],
         "xaxis": "x7",
         "y": [
          8,
          15,
          19,
          27,
          38,
          45,
          55,
          68,
          79,
          90,
          96,
          107
         ],
         "yaxis": "y7"
        },
        {
         "hovertemplate": "variable=MED_BAM_DP<br>TYPE=inhA<br>DATASET=%{x}<br>value=%{y}<extra></extra>",
         "legendgroup": "MED_BAM_DP",
         "line": {
          "color": "rgb(93, 105, 177)",
          "dash": "solid"
         },
         "mode": "lines",
         "name": "MED_BAM_DP",
         "orientation": "v",
         "showlegend": false,
         "type": "scatter",
         "x": [
          5,
          10,
          15,
          20,
          30,
          40,
          50,
          60,
          70,
          80,
          90,
          100
         ],
         "xaxis": "x8",
         "y": [
          4,
          11,
          13,
          15,
          29,
          41,
          51,
          61,
          69,
          81,
          94,
          105
         ],
         "yaxis": "y8"
        },
        {
         "hovertemplate": "variable=MED_BAM_DP<br>TYPE=pncA<br>DATASET=%{x}<br>value=%{y}<extra></extra>",
         "legendgroup": "MED_BAM_DP",
         "line": {
          "color": "rgb(93, 105, 177)",
          "dash": "solid"
         },
         "mode": "lines",
         "name": "MED_BAM_DP",
         "orientation": "v",
         "showlegend": false,
         "type": "scatter",
         "x": [
          5,
          10,
          15,
          20,
          30,
          40,
          50,
          60,
          70,
          80,
          90,
          100
         ],
         "xaxis": "x9",
         "y": [
          5,
          9,
          13,
          20,
          29,
          37,
          47,
          55,
          64,
          73,
          82,
          90
         ],
         "yaxis": "y9"
        },
        {
         "hovertemplate": "variable=MED_BAM_DP<br>TYPE=katG<br>DATASET=%{x}<br>value=%{y}<extra></extra>",
         "legendgroup": "MED_BAM_DP",
         "line": {
          "color": "rgb(93, 105, 177)",
          "dash": "solid"
         },
         "mode": "lines",
         "name": "MED_BAM_DP",
         "orientation": "v",
         "showlegend": false,
         "type": "scatter",
         "x": [
          5,
          10,
          15,
          20,
          30,
          40,
          50,
          60,
          70,
          80,
          90,
          100
         ],
         "xaxis": "x10",
         "y": [
          4,
          8,
          13,
          17,
          26,
          37,
          47,
          57,
          65,
          74,
          84,
          94
         ],
         "yaxis": "y10"
        },
        {
         "hovertemplate": "variable=MED_BAM_DP<br>TYPE=eis<br>DATASET=%{x}<br>value=%{y}<extra></extra>",
         "legendgroup": "MED_BAM_DP",
         "line": {
          "color": "rgb(93, 105, 177)",
          "dash": "solid"
         },
         "mode": "lines",
         "name": "MED_BAM_DP",
         "orientation": "v",
         "showlegend": false,
         "type": "scatter",
         "x": [
          5,
          10,
          15,
          20,
          30,
          40,
          50,
          60,
          70,
          80,
          90,
          100
         ],
         "xaxis": "x11",
         "y": [
          5,
          11,
          16,
          19,
          28,
          41,
          48,
          56,
          65,
          74,
          88,
          97
         ],
         "yaxis": "y11"
        },
        {
         "hovertemplate": "variable=MED_BAM_DP<br>TYPE=ahpC_promoter<br>DATASET=%{x}<br>value=%{y}<extra></extra>",
         "legendgroup": "MED_BAM_DP",
         "line": {
          "color": "rgb(93, 105, 177)",
          "dash": "solid"
         },
         "mode": "lines",
         "name": "MED_BAM_DP",
         "orientation": "v",
         "showlegend": false,
         "type": "scatter",
         "x": [
          5,
          10,
          15,
          20,
          30,
          40,
          50,
          60,
          70,
          80,
          90,
          100
         ],
         "xaxis": "x12",
         "y": [
          4,
          8,
          12,
          16,
          23,
          28,
          34,
          48,
          58,
          64,
          78,
          87
         ],
         "yaxis": "y12"
        },
        {
         "hovertemplate": "variable=MED_BAM_DP<br>TYPE=ahpC<br>DATASET=%{x}<br>value=%{y}<extra></extra>",
         "legendgroup": "MED_BAM_DP",
         "line": {
          "color": "rgb(93, 105, 177)",
          "dash": "solid"
         },
         "mode": "lines",
         "name": "MED_BAM_DP",
         "orientation": "v",
         "showlegend": false,
         "type": "scatter",
         "x": [
          5,
          10,
          15,
          20,
          30,
          40,
          50,
          60,
          70,
          80,
          90,
          100
         ],
         "xaxis": "x",
         "y": [
          5,
          11,
          14,
          17,
          24,
          34,
          48,
          57,
          66,
          77,
          86,
          93
         ],
         "yaxis": "y"
        },
        {
         "hovertemplate": "variable=MED_BAM_DP<br>TYPE=embC<br>DATASET=%{x}<br>value=%{y}<extra></extra>",
         "legendgroup": "MED_BAM_DP",
         "line": {
          "color": "rgb(93, 105, 177)",
          "dash": "solid"
         },
         "mode": "lines",
         "name": "MED_BAM_DP",
         "orientation": "v",
         "showlegend": false,
         "type": "scatter",
         "x": [
          5,
          10,
          15,
          20,
          30,
          40,
          50,
          60,
          70,
          80,
          90,
          100
         ],
         "xaxis": "x2",
         "y": [
          5,
          11,
          15,
          21,
          30,
          39,
          49,
          58,
          68,
          79,
          88,
          99
         ],
         "yaxis": "y2"
        },
        {
         "hovertemplate": "variable=MED_BAM_DP<br>TYPE=embA<br>DATASET=%{x}<br>value=%{y}<extra></extra>",
         "legendgroup": "MED_BAM_DP",
         "line": {
          "color": "rgb(93, 105, 177)",
          "dash": "solid"
         },
         "mode": "lines",
         "name": "MED_BAM_DP",
         "orientation": "v",
         "showlegend": false,
         "type": "scatter",
         "x": [
          5,
          10,
          15,
          20,
          30,
          40,
          50,
          60,
          70,
          80,
          90,
          100
         ],
         "xaxis": "x3",
         "y": [
          5,
          10,
          14,
          19,
          29,
          38,
          49,
          58,
          70,
          80,
          91,
          102
         ],
         "yaxis": "y3"
        },
        {
         "hovertemplate": "variable=MED_BAM_DP<br>TYPE=embB<br>DATASET=%{x}<br>value=%{y}<extra></extra>",
         "legendgroup": "MED_BAM_DP",
         "line": {
          "color": "rgb(93, 105, 177)",
          "dash": "solid"
         },
         "mode": "lines",
         "name": "MED_BAM_DP",
         "orientation": "v",
         "showlegend": false,
         "type": "scatter",
         "x": [
          5,
          10,
          15,
          20,
          30,
          40,
          50,
          60,
          70,
          80,
          90,
          100
         ],
         "xaxis": "x4",
         "y": [
          4,
          9,
          14,
          19,
          31,
          40,
          50,
          61,
          70,
          81,
          92,
          100
         ],
         "yaxis": "y4"
        },
        {
         "hovertemplate": "variable=MED_BAM_DP<br>TYPE=gidB<br>DATASET=%{x}<br>value=%{y}<extra></extra>",
         "legendgroup": "MED_BAM_DP",
         "line": {
          "color": "rgb(93, 105, 177)",
          "dash": "solid"
         },
         "mode": "lines",
         "name": "MED_BAM_DP",
         "orientation": "v",
         "showlegend": false,
         "type": "scatter",
         "x": [
          5,
          10,
          15,
          20,
          30,
          40,
          50,
          60,
          70,
          80,
          90,
          100
         ],
         "xaxis": "x5",
         "y": [
          8,
          11,
          16,
          22,
          34,
          41,
          50,
          60,
          69,
          81,
          88,
          98
         ],
         "yaxis": "y5"
        },
        {
         "hovertemplate": "variable=MED_BAM_DP<br>TYPE=eis_promoter<br>DATASET=%{x}<br>value=%{y}<extra></extra>",
         "legendgroup": "MED_BAM_DP",
         "line": {
          "color": "rgb(93, 105, 177)",
          "dash": "solid"
         },
         "mode": "lines",
         "name": "MED_BAM_DP",
         "orientation": "v",
         "showlegend": false,
         "type": "scatter",
         "x": [
          5,
          10,
          15,
          20,
          30,
          40,
          50,
          60,
          70,
          80,
          90,
          100
         ],
         "xaxis": "x6",
         "y": [
          6,
          7,
          13,
          19,
          31,
          47,
          54,
          67,
          78,
          85,
          93,
          97
         ],
         "yaxis": "y6"
        },
        {
         "hovertemplate": "variable=MAX_BAM_DP<br>TYPE=inhA_promoter<br>DATASET=%{x}<br>value=%{y}<extra></extra>",
         "legendgroup": "MAX_BAM_DP",
         "line": {
          "color": "rgb(82, 188, 163)",
          "dash": "solid"
         },
         "mode": "lines",
         "name": "MAX_BAM_DP",
         "orientation": "v",
         "showlegend": true,
         "type": "scatter",
         "x": [
          5,
          10,
          15,
          20,
          30,
          40,
          50,
          60,
          70,
          80,
          90,
          100
         ],
         "xaxis": "x13",
         "y": [
          11,
          22,
          28,
          31,
          49,
          73,
          83,
          94,
          110,
          115,
          139,
          141
         ],
         "yaxis": "y13"
        },
        {
         "hovertemplate": "variable=MAX_BAM_DP<br>TYPE=gyrB<br>DATASET=%{x}<br>value=%{y}<extra></extra>",
         "legendgroup": "MAX_BAM_DP",
         "line": {
          "color": "rgb(82, 188, 163)",
          "dash": "solid"
         },
         "mode": "lines",
         "name": "MAX_BAM_DP",
         "orientation": "v",
         "showlegend": false,
         "type": "scatter",
         "x": [
          5,
          10,
          15,
          20,
          30,
          40,
          50,
          60,
          70,
          80,
          90,
          100
         ],
         "xaxis": "x14",
         "y": [
          13,
          20,
          23,
          33,
          49,
          64,
          78,
          86,
          97,
          103,
          117,
          134
         ],
         "yaxis": "y14"
        },
        {
         "hovertemplate": "variable=MAX_BAM_DP<br>TYPE=gyrA<br>DATASET=%{x}<br>value=%{y}<extra></extra>",
         "legendgroup": "MAX_BAM_DP",
         "line": {
          "color": "rgb(82, 188, 163)",
          "dash": "solid"
         },
         "mode": "lines",
         "name": "MAX_BAM_DP",
         "orientation": "v",
         "showlegend": false,
         "type": "scatter",
         "x": [
          5,
          10,
          15,
          20,
          30,
          40,
          50,
          60,
          70,
          80,
          90,
          100
         ],
         "xaxis": "x15",
         "y": [
          8,
          20,
          28,
          38,
          50,
          65,
          75,
          92,
          116,
          132,
          150,
          174
         ],
         "yaxis": "y15"
        },
        {
         "hovertemplate": "variable=MAX_BAM_DP<br>TYPE=rpoB<br>DATASET=%{x}<br>value=%{y}<extra></extra>",
         "legendgroup": "MAX_BAM_DP",
         "line": {
          "color": "rgb(82, 188, 163)",
          "dash": "solid"
         },
         "mode": "lines",
         "name": "MAX_BAM_DP",
         "orientation": "v",
         "showlegend": false,
         "type": "scatter",
         "x": [
          5,
          10,
          15,
          20,
          30,
          40,
          50,
          60,
          70,
          80,
          90,
          100
         ],
         "xaxis": "x16",
         "y": [
          9,
          19,
          23,
          29,
          41,
          64,
          73,
          85,
          97,
          105,
          119,
          128
         ],
         "yaxis": "y16"
        },
        {
         "hovertemplate": "variable=MAX_BAM_DP<br>TYPE=rpsL<br>DATASET=%{x}<br>value=%{y}<extra></extra>",
         "legendgroup": "MAX_BAM_DP",
         "line": {
          "color": "rgb(82, 188, 163)",
          "dash": "solid"
         },
         "mode": "lines",
         "name": "MAX_BAM_DP",
         "orientation": "v",
         "showlegend": false,
         "type": "scatter",
         "x": [
          5,
          10,
          15,
          20,
          30,
          40,
          50,
          60,
          70,
          80,
          90,
          100
         ],
         "xaxis": "x17",
         "y": [
          7,
          14,
          18,
          25,
          34,
          50,
          55,
          70,
          81,
          92,
          100,
          109
         ],
         "yaxis": "y17"
        },
        {
         "hovertemplate": "variable=MAX_BAM_DP<br>TYPE=rrs<br>DATASET=%{x}<br>value=%{y}<extra></extra>",
         "legendgroup": "MAX_BAM_DP",
         "line": {
          "color": "rgb(82, 188, 163)",
          "dash": "solid"
         },
         "mode": "lines",
         "name": "MAX_BAM_DP",
         "orientation": "v",
         "showlegend": false,
         "type": "scatter",
         "x": [
          5,
          10,
          15,
          20,
          30,
          40,
          50,
          60,
          70,
          80,
          90,
          100
         ],
         "xaxis": "x18",
         "y": [
          12,
          19,
          29,
          44,
          64,
          77,
          84,
          87,
          104,
          126,
          159,
          176
         ],
         "yaxis": "y18"
        },
        {
         "hovertemplate": "variable=MAX_BAM_DP<br>TYPE=fabG1<br>DATASET=%{x}<br>value=%{y}<extra></extra>",
         "legendgroup": "MAX_BAM_DP",
         "line": {
          "color": "rgb(82, 188, 163)",
          "dash": "solid"
         },
         "mode": "lines",
         "name": "MAX_BAM_DP",
         "orientation": "v",
         "showlegend": false,
         "type": "scatter",
         "x": [
          5,
          10,
          15,
          20,
          30,
          40,
          50,
          60,
          70,
          80,
          90,
          100
         ],
         "xaxis": "x7",
         "y": [
          13,
          24,
          31,
          38,
          56,
          67,
          79,
          89,
          102,
          109,
          118,
          125
         ],
         "yaxis": "y7"
        },
        {
         "hovertemplate": "variable=MAX_BAM_DP<br>TYPE=inhA<br>DATASET=%{x}<br>value=%{y}<extra></extra>",
         "legendgroup": "MAX_BAM_DP",
         "line": {
          "color": "rgb(82, 188, 163)",
          "dash": "solid"
         },
         "mode": "lines",
         "name": "MAX_BAM_DP",
         "orientation": "v",
         "showlegend": false,
         "type": "scatter",
         "x": [
          5,
          10,
          15,
          20,
          30,
          40,
          50,
          60,
          70,
          80,
          90,
          100
         ],
         "xaxis": "x8",
         "y": [
          11,
          15,
          21,
          28,
          44,
          54,
          69,
          79,
          87,
          97,
          111,
          124
         ],
         "yaxis": "y8"
        },
        {
         "hovertemplate": "variable=MAX_BAM_DP<br>TYPE=pncA<br>DATASET=%{x}<br>value=%{y}<extra></extra>",
         "legendgroup": "MAX_BAM_DP",
         "line": {
          "color": "rgb(82, 188, 163)",
          "dash": "solid"
         },
         "mode": "lines",
         "name": "MAX_BAM_DP",
         "orientation": "v",
         "showlegend": false,
         "type": "scatter",
         "x": [
          5,
          10,
          15,
          20,
          30,
          40,
          50,
          60,
          70,
          80,
          90,
          100
         ],
         "xaxis": "x9",
         "y": [
          11,
          15,
          20,
          29,
          36,
          52,
          57,
          66,
          74,
          87,
          99,
          106
         ],
         "yaxis": "y9"
        },
        {
         "hovertemplate": "variable=MAX_BAM_DP<br>TYPE=katG<br>DATASET=%{x}<br>value=%{y}<extra></extra>",
         "legendgroup": "MAX_BAM_DP",
         "line": {
          "color": "rgb(82, 188, 163)",
          "dash": "solid"
         },
         "mode": "lines",
         "name": "MAX_BAM_DP",
         "orientation": "v",
         "showlegend": false,
         "type": "scatter",
         "x": [
          5,
          10,
          15,
          20,
          30,
          40,
          50,
          60,
          70,
          80,
          90,
          100
         ],
         "xaxis": "x10",
         "y": [
          11,
          18,
          24,
          28,
          38,
          53,
          67,
          84,
          97,
          112,
          124,
          139
         ],
         "yaxis": "y10"
        },
        {
         "hovertemplate": "variable=MAX_BAM_DP<br>TYPE=eis<br>DATASET=%{x}<br>value=%{y}<extra></extra>",
         "legendgroup": "MAX_BAM_DP",
         "line": {
          "color": "rgb(82, 188, 163)",
          "dash": "solid"
         },
         "mode": "lines",
         "name": "MAX_BAM_DP",
         "orientation": "v",
         "showlegend": false,
         "type": "scatter",
         "x": [
          5,
          10,
          15,
          20,
          30,
          40,
          50,
          60,
          70,
          80,
          90,
          100
         ],
         "xaxis": "x11",
         "y": [
          12,
          25,
          31,
          33,
          47,
          56,
          69,
          88,
          102,
          113,
          126,
          144
         ],
         "yaxis": "y11"
        },
        {
         "hovertemplate": "variable=MAX_BAM_DP<br>TYPE=ahpC_promoter<br>DATASET=%{x}<br>value=%{y}<extra></extra>",
         "legendgroup": "MAX_BAM_DP",
         "line": {
          "color": "rgb(82, 188, 163)",
          "dash": "solid"
         },
         "mode": "lines",
         "name": "MAX_BAM_DP",
         "orientation": "v",
         "showlegend": false,
         "type": "scatter",
         "x": [
          5,
          10,
          15,
          20,
          30,
          40,
          50,
          60,
          70,
          80,
          90,
          100
         ],
         "xaxis": "x12",
         "y": [
          5,
          12,
          16,
          19,
          25,
          31,
          39,
          54,
          66,
          71,
          83,
          92
         ],
         "yaxis": "y12"
        },
        {
         "hovertemplate": "variable=MAX_BAM_DP<br>TYPE=ahpC<br>DATASET=%{x}<br>value=%{y}<extra></extra>",
         "legendgroup": "MAX_BAM_DP",
         "line": {
          "color": "rgb(82, 188, 163)",
          "dash": "solid"
         },
         "mode": "lines",
         "name": "MAX_BAM_DP",
         "orientation": "v",
         "showlegend": false,
         "type": "scatter",
         "x": [
          5,
          10,
          15,
          20,
          30,
          40,
          50,
          60,
          70,
          80,
          90,
          100
         ],
         "xaxis": "x",
         "y": [
          12,
          18,
          28,
          33,
          44,
          52,
          63,
          71,
          86,
          95,
          107,
          118
         ],
         "yaxis": "y"
        },
        {
         "hovertemplate": "variable=MAX_BAM_DP<br>TYPE=embC<br>DATASET=%{x}<br>value=%{y}<extra></extra>",
         "legendgroup": "MAX_BAM_DP",
         "line": {
          "color": "rgb(82, 188, 163)",
          "dash": "solid"
         },
         "mode": "lines",
         "name": "MAX_BAM_DP",
         "orientation": "v",
         "showlegend": false,
         "type": "scatter",
         "x": [
          5,
          10,
          15,
          20,
          30,
          40,
          50,
          60,
          70,
          80,
          90,
          100
         ],
         "xaxis": "x2",
         "y": [
          15,
          21,
          35,
          40,
          54,
          69,
          79,
          87,
          106,
          118,
          135,
          156
         ],
         "yaxis": "y2"
        },
        {
         "hovertemplate": "variable=MAX_BAM_DP<br>TYPE=embA<br>DATASET=%{x}<br>value=%{y}<extra></extra>",
         "legendgroup": "MAX_BAM_DP",
         "line": {
          "color": "rgb(82, 188, 163)",
          "dash": "solid"
         },
         "mode": "lines",
         "name": "MAX_BAM_DP",
         "orientation": "v",
         "showlegend": false,
         "type": "scatter",
         "x": [
          5,
          10,
          15,
          20,
          30,
          40,
          50,
          60,
          70,
          80,
          90,
          100
         ],
         "xaxis": "x3",
         "y": [
          17,
          30,
          36,
          51,
          60,
          81,
          97,
          110,
          128,
          145,
          157,
          181
         ],
         "yaxis": "y3"
        },
        {
         "hovertemplate": "variable=MAX_BAM_DP<br>TYPE=embB<br>DATASET=%{x}<br>value=%{y}<extra></extra>",
         "legendgroup": "MAX_BAM_DP",
         "line": {
          "color": "rgb(82, 188, 163)",
          "dash": "solid"
         },
         "mode": "lines",
         "name": "MAX_BAM_DP",
         "orientation": "v",
         "showlegend": false,
         "type": "scatter",
         "x": [
          5,
          10,
          15,
          20,
          30,
          40,
          50,
          60,
          70,
          80,
          90,
          100
         ],
         "xaxis": "x4",
         "y": [
          14,
          30,
          34,
          56,
          76,
          94,
          118,
          137,
          154,
          181,
          194,
          215
         ],
         "yaxis": "y4"
        },
        {
         "hovertemplate": "variable=MAX_BAM_DP<br>TYPE=gidB<br>DATASET=%{x}<br>value=%{y}<extra></extra>",
         "legendgroup": "MAX_BAM_DP",
         "line": {
          "color": "rgb(82, 188, 163)",
          "dash": "solid"
         },
         "mode": "lines",
         "name": "MAX_BAM_DP",
         "orientation": "v",
         "showlegend": false,
         "type": "scatter",
         "x": [
          5,
          10,
          15,
          20,
          30,
          40,
          50,
          60,
          70,
          80,
          90,
          100
         ],
         "xaxis": "x5",
         "y": [
          11,
          21,
          27,
          33,
          44,
          49,
          67,
          79,
          83,
          100,
          117,
          139
         ],
         "yaxis": "y5"
        },
        {
         "hovertemplate": "variable=MAX_BAM_DP<br>TYPE=eis_promoter<br>DATASET=%{x}<br>value=%{y}<extra></extra>",
         "legendgroup": "MAX_BAM_DP",
         "line": {
          "color": "rgb(82, 188, 163)",
          "dash": "solid"
         },
         "mode": "lines",
         "name": "MAX_BAM_DP",
         "orientation": "v",
         "showlegend": false,
         "type": "scatter",
         "x": [
          5,
          10,
          15,
          20,
          30,
          40,
          50,
          60,
          70,
          80,
          90,
          100
         ],
         "xaxis": "x6",
         "y": [
          8,
          9,
          18,
          27,
          40,
          56,
          64,
          78,
          88,
          93,
          107,
          114
         ],
         "yaxis": "y6"
        }
       ],
       "layout": {
        "annotations": [
         {
          "font": {},
          "showarrow": false,
          "text": "TYPE=ahpC",
          "x": 0.075,
          "xanchor": "center",
          "xref": "paper",
          "y": 0.2866666666666666,
          "yanchor": "bottom",
          "yref": "paper"
         },
         {
          "font": {},
          "showarrow": false,
          "text": "TYPE=embC",
          "x": 0.24499999999999997,
          "xanchor": "center",
          "xref": "paper",
          "y": 0.2866666666666666,
          "yanchor": "bottom",
          "yref": "paper"
         },
         {
          "font": {},
          "showarrow": false,
          "text": "TYPE=embA",
          "x": 0.415,
          "xanchor": "center",
          "xref": "paper",
          "y": 0.2866666666666666,
          "yanchor": "bottom",
          "yref": "paper"
         },
         {
          "font": {},
          "showarrow": false,
          "text": "TYPE=embB",
          "x": 0.585,
          "xanchor": "center",
          "xref": "paper",
          "y": 0.2866666666666666,
          "yanchor": "bottom",
          "yref": "paper"
         },
         {
          "font": {},
          "showarrow": false,
          "text": "TYPE=gidB",
          "x": 0.7549999999999999,
          "xanchor": "center",
          "xref": "paper",
          "y": 0.2866666666666666,
          "yanchor": "bottom",
          "yref": "paper"
         },
         {
          "font": {},
          "showarrow": false,
          "text": "TYPE=eis_promoter",
          "x": 0.925,
          "xanchor": "center",
          "xref": "paper",
          "y": 0.2866666666666666,
          "yanchor": "bottom",
          "yref": "paper"
         },
         {
          "font": {},
          "showarrow": false,
          "text": "TYPE=fabG1",
          "x": 0.075,
          "xanchor": "center",
          "xref": "paper",
          "y": 0.6433333333333333,
          "yanchor": "bottom",
          "yref": "paper"
         },
         {
          "font": {},
          "showarrow": false,
          "text": "TYPE=inhA",
          "x": 0.24499999999999997,
          "xanchor": "center",
          "xref": "paper",
          "y": 0.6433333333333333,
          "yanchor": "bottom",
          "yref": "paper"
         },
         {
          "font": {},
          "showarrow": false,
          "text": "TYPE=pncA",
          "x": 0.415,
          "xanchor": "center",
          "xref": "paper",
          "y": 0.6433333333333333,
          "yanchor": "bottom",
          "yref": "paper"
         },
         {
          "font": {},
          "showarrow": false,
          "text": "TYPE=katG",
          "x": 0.585,
          "xanchor": "center",
          "xref": "paper",
          "y": 0.6433333333333333,
          "yanchor": "bottom",
          "yref": "paper"
         },
         {
          "font": {},
          "showarrow": false,
          "text": "TYPE=eis",
          "x": 0.7549999999999999,
          "xanchor": "center",
          "xref": "paper",
          "y": 0.6433333333333333,
          "yanchor": "bottom",
          "yref": "paper"
         },
         {
          "font": {},
          "showarrow": false,
          "text": "TYPE=ahpC_promoter",
          "x": 0.925,
          "xanchor": "center",
          "xref": "paper",
          "y": 0.6433333333333333,
          "yanchor": "bottom",
          "yref": "paper"
         },
         {
          "font": {},
          "showarrow": false,
          "text": "TYPE=inhA_promoter",
          "x": 0.075,
          "xanchor": "center",
          "xref": "paper",
          "y": 0.9999999999999999,
          "yanchor": "bottom",
          "yref": "paper"
         },
         {
          "font": {},
          "showarrow": false,
          "text": "TYPE=gyrB",
          "x": 0.24499999999999997,
          "xanchor": "center",
          "xref": "paper",
          "y": 0.9999999999999999,
          "yanchor": "bottom",
          "yref": "paper"
         },
         {
          "font": {},
          "showarrow": false,
          "text": "TYPE=gyrA",
          "x": 0.415,
          "xanchor": "center",
          "xref": "paper",
          "y": 0.9999999999999999,
          "yanchor": "bottom",
          "yref": "paper"
         },
         {
          "font": {},
          "showarrow": false,
          "text": "TYPE=rpoB",
          "x": 0.585,
          "xanchor": "center",
          "xref": "paper",
          "y": 0.9999999999999999,
          "yanchor": "bottom",
          "yref": "paper"
         },
         {
          "font": {},
          "showarrow": false,
          "text": "TYPE=rpsL",
          "x": 0.7549999999999999,
          "xanchor": "center",
          "xref": "paper",
          "y": 0.9999999999999999,
          "yanchor": "bottom",
          "yref": "paper"
         },
         {
          "font": {},
          "showarrow": false,
          "text": "TYPE=rrs",
          "x": 0.925,
          "xanchor": "center",
          "xref": "paper",
          "y": 0.9999999999999999,
          "yanchor": "bottom",
          "yref": "paper"
         }
        ],
        "autosize": true,
        "legend": {
         "title": {
          "text": "variable"
         },
         "tracegroupgap": 0
        },
        "margin": {
         "t": 60
        },
        "template": {
         "data": {
          "bar": [
           {
            "error_x": {
             "color": "#2a3f5f"
            },
            "error_y": {
             "color": "#2a3f5f"
            },
            "marker": {
             "line": {
              "color": "#E5ECF6",
              "width": 0.5
             }
            },
            "type": "bar"
           }
          ],
          "barpolar": [
           {
            "marker": {
             "line": {
              "color": "#E5ECF6",
              "width": 0.5
             }
            },
            "type": "barpolar"
           }
          ],
          "carpet": [
           {
            "aaxis": {
             "endlinecolor": "#2a3f5f",
             "gridcolor": "white",
             "linecolor": "white",
             "minorgridcolor": "white",
             "startlinecolor": "#2a3f5f"
            },
            "baxis": {
             "endlinecolor": "#2a3f5f",
             "gridcolor": "white",
             "linecolor": "white",
             "minorgridcolor": "white",
             "startlinecolor": "#2a3f5f"
            },
            "type": "carpet"
           }
          ],
          "choropleth": [
           {
            "colorbar": {
             "outlinewidth": 0,
             "ticks": ""
            },
            "type": "choropleth"
           }
          ],
          "contour": [
           {
            "colorbar": {
             "outlinewidth": 0,
             "ticks": ""
            },
            "colorscale": [
             [
              0,
              "#0d0887"
             ],
             [
              0.1111111111111111,
              "#46039f"
             ],
             [
              0.2222222222222222,
              "#7201a8"
             ],
             [
              0.3333333333333333,
              "#9c179e"
             ],
             [
              0.4444444444444444,
              "#bd3786"
             ],
             [
              0.5555555555555556,
              "#d8576b"
             ],
             [
              0.6666666666666666,
              "#ed7953"
             ],
             [
              0.7777777777777778,
              "#fb9f3a"
             ],
             [
              0.8888888888888888,
              "#fdca26"
             ],
             [
              1,
              "#f0f921"
             ]
            ],
            "type": "contour"
           }
          ],
          "contourcarpet": [
           {
            "colorbar": {
             "outlinewidth": 0,
             "ticks": ""
            },
            "type": "contourcarpet"
           }
          ],
          "heatmap": [
           {
            "colorbar": {
             "outlinewidth": 0,
             "ticks": ""
            },
            "colorscale": [
             [
              0,
              "#0d0887"
             ],
             [
              0.1111111111111111,
              "#46039f"
             ],
             [
              0.2222222222222222,
              "#7201a8"
             ],
             [
              0.3333333333333333,
              "#9c179e"
             ],
             [
              0.4444444444444444,
              "#bd3786"
             ],
             [
              0.5555555555555556,
              "#d8576b"
             ],
             [
              0.6666666666666666,
              "#ed7953"
             ],
             [
              0.7777777777777778,
              "#fb9f3a"
             ],
             [
              0.8888888888888888,
              "#fdca26"
             ],
             [
              1,
              "#f0f921"
             ]
            ],
            "type": "heatmap"
           }
          ],
          "heatmapgl": [
           {
            "colorbar": {
             "outlinewidth": 0,
             "ticks": ""
            },
            "colorscale": [
             [
              0,
              "#0d0887"
             ],
             [
              0.1111111111111111,
              "#46039f"
             ],
             [
              0.2222222222222222,
              "#7201a8"
             ],
             [
              0.3333333333333333,
              "#9c179e"
             ],
             [
              0.4444444444444444,
              "#bd3786"
             ],
             [
              0.5555555555555556,
              "#d8576b"
             ],
             [
              0.6666666666666666,
              "#ed7953"
             ],
             [
              0.7777777777777778,
              "#fb9f3a"
             ],
             [
              0.8888888888888888,
              "#fdca26"
             ],
             [
              1,
              "#f0f921"
             ]
            ],
            "type": "heatmapgl"
           }
          ],
          "histogram": [
           {
            "marker": {
             "colorbar": {
              "outlinewidth": 0,
              "ticks": ""
             }
            },
            "type": "histogram"
           }
          ],
          "histogram2d": [
           {
            "colorbar": {
             "outlinewidth": 0,
             "ticks": ""
            },
            "colorscale": [
             [
              0,
              "#0d0887"
             ],
             [
              0.1111111111111111,
              "#46039f"
             ],
             [
              0.2222222222222222,
              "#7201a8"
             ],
             [
              0.3333333333333333,
              "#9c179e"
             ],
             [
              0.4444444444444444,
              "#bd3786"
             ],
             [
              0.5555555555555556,
              "#d8576b"
             ],
             [
              0.6666666666666666,
              "#ed7953"
             ],
             [
              0.7777777777777778,
              "#fb9f3a"
             ],
             [
              0.8888888888888888,
              "#fdca26"
             ],
             [
              1,
              "#f0f921"
             ]
            ],
            "type": "histogram2d"
           }
          ],
          "histogram2dcontour": [
           {
            "colorbar": {
             "outlinewidth": 0,
             "ticks": ""
            },
            "colorscale": [
             [
              0,
              "#0d0887"
             ],
             [
              0.1111111111111111,
              "#46039f"
             ],
             [
              0.2222222222222222,
              "#7201a8"
             ],
             [
              0.3333333333333333,
              "#9c179e"
             ],
             [
              0.4444444444444444,
              "#bd3786"
             ],
             [
              0.5555555555555556,
              "#d8576b"
             ],
             [
              0.6666666666666666,
              "#ed7953"
             ],
             [
              0.7777777777777778,
              "#fb9f3a"
             ],
             [
              0.8888888888888888,
              "#fdca26"
             ],
             [
              1,
              "#f0f921"
             ]
            ],
            "type": "histogram2dcontour"
           }
          ],
          "mesh3d": [
           {
            "colorbar": {
             "outlinewidth": 0,
             "ticks": ""
            },
            "type": "mesh3d"
           }
          ],
          "parcoords": [
           {
            "line": {
             "colorbar": {
              "outlinewidth": 0,
              "ticks": ""
             }
            },
            "type": "parcoords"
           }
          ],
          "pie": [
           {
            "automargin": true,
            "type": "pie"
           }
          ],
          "scatter": [
           {
            "marker": {
             "colorbar": {
              "outlinewidth": 0,
              "ticks": ""
             }
            },
            "type": "scatter"
           }
          ],
          "scatter3d": [
           {
            "line": {
             "colorbar": {
              "outlinewidth": 0,
              "ticks": ""
             }
            },
            "marker": {
             "colorbar": {
              "outlinewidth": 0,
              "ticks": ""
             }
            },
            "type": "scatter3d"
           }
          ],
          "scattercarpet": [
           {
            "marker": {
             "colorbar": {
              "outlinewidth": 0,
              "ticks": ""
             }
            },
            "type": "scattercarpet"
           }
          ],
          "scattergeo": [
           {
            "marker": {
             "colorbar": {
              "outlinewidth": 0,
              "ticks": ""
             }
            },
            "type": "scattergeo"
           }
          ],
          "scattergl": [
           {
            "marker": {
             "colorbar": {
              "outlinewidth": 0,
              "ticks": ""
             }
            },
            "type": "scattergl"
           }
          ],
          "scattermapbox": [
           {
            "marker": {
             "colorbar": {
              "outlinewidth": 0,
              "ticks": ""
             }
            },
            "type": "scattermapbox"
           }
          ],
          "scatterpolar": [
           {
            "marker": {
             "colorbar": {
              "outlinewidth": 0,
              "ticks": ""
             }
            },
            "type": "scatterpolar"
           }
          ],
          "scatterpolargl": [
           {
            "marker": {
             "colorbar": {
              "outlinewidth": 0,
              "ticks": ""
             }
            },
            "type": "scatterpolargl"
           }
          ],
          "scatterternary": [
           {
            "marker": {
             "colorbar": {
              "outlinewidth": 0,
              "ticks": ""
             }
            },
            "type": "scatterternary"
           }
          ],
          "surface": [
           {
            "colorbar": {
             "outlinewidth": 0,
             "ticks": ""
            },
            "colorscale": [
             [
              0,
              "#0d0887"
             ],
             [
              0.1111111111111111,
              "#46039f"
             ],
             [
              0.2222222222222222,
              "#7201a8"
             ],
             [
              0.3333333333333333,
              "#9c179e"
             ],
             [
              0.4444444444444444,
              "#bd3786"
             ],
             [
              0.5555555555555556,
              "#d8576b"
             ],
             [
              0.6666666666666666,
              "#ed7953"
             ],
             [
              0.7777777777777778,
              "#fb9f3a"
             ],
             [
              0.8888888888888888,
              "#fdca26"
             ],
             [
              1,
              "#f0f921"
             ]
            ],
            "type": "surface"
           }
          ],
          "table": [
           {
            "cells": {
             "fill": {
              "color": "#EBF0F8"
             },
             "line": {
              "color": "white"
             }
            },
            "header": {
             "fill": {
              "color": "#C8D4E3"
             },
             "line": {
              "color": "white"
             }
            },
            "type": "table"
           }
          ]
         },
         "layout": {
          "annotationdefaults": {
           "arrowcolor": "#2a3f5f",
           "arrowhead": 0,
           "arrowwidth": 1
          },
          "autotypenumbers": "strict",
          "coloraxis": {
           "colorbar": {
            "outlinewidth": 0,
            "ticks": ""
           }
          },
          "colorscale": {
           "diverging": [
            [
             0,
             "#8e0152"
            ],
            [
             0.1,
             "#c51b7d"
            ],
            [
             0.2,
             "#de77ae"
            ],
            [
             0.3,
             "#f1b6da"
            ],
            [
             0.4,
             "#fde0ef"
            ],
            [
             0.5,
             "#f7f7f7"
            ],
            [
             0.6,
             "#e6f5d0"
            ],
            [
             0.7,
             "#b8e186"
            ],
            [
             0.8,
             "#7fbc41"
            ],
            [
             0.9,
             "#4d9221"
            ],
            [
             1,
             "#276419"
            ]
           ],
           "sequential": [
            [
             0,
             "#0d0887"
            ],
            [
             0.1111111111111111,
             "#46039f"
            ],
            [
             0.2222222222222222,
             "#7201a8"
            ],
            [
             0.3333333333333333,
             "#9c179e"
            ],
            [
             0.4444444444444444,
             "#bd3786"
            ],
            [
             0.5555555555555556,
             "#d8576b"
            ],
            [
             0.6666666666666666,
             "#ed7953"
            ],
            [
             0.7777777777777778,
             "#fb9f3a"
            ],
            [
             0.8888888888888888,
             "#fdca26"
            ],
            [
             1,
             "#f0f921"
            ]
           ],
           "sequentialminus": [
            [
             0,
             "#0d0887"
            ],
            [
             0.1111111111111111,
             "#46039f"
            ],
            [
             0.2222222222222222,
             "#7201a8"
            ],
            [
             0.3333333333333333,
             "#9c179e"
            ],
            [
             0.4444444444444444,
             "#bd3786"
            ],
            [
             0.5555555555555556,
             "#d8576b"
            ],
            [
             0.6666666666666666,
             "#ed7953"
            ],
            [
             0.7777777777777778,
             "#fb9f3a"
            ],
            [
             0.8888888888888888,
             "#fdca26"
            ],
            [
             1,
             "#f0f921"
            ]
           ]
          },
          "colorway": [
           "#636efa",
           "#EF553B",
           "#00cc96",
           "#ab63fa",
           "#FFA15A",
           "#19d3f3",
           "#FF6692",
           "#B6E880",
           "#FF97FF",
           "#FECB52"
          ],
          "font": {
           "color": "#2a3f5f"
          },
          "geo": {
           "bgcolor": "white",
           "lakecolor": "white",
           "landcolor": "#E5ECF6",
           "showlakes": true,
           "showland": true,
           "subunitcolor": "white"
          },
          "hoverlabel": {
           "align": "left"
          },
          "hovermode": "closest",
          "mapbox": {
           "style": "light"
          },
          "paper_bgcolor": "white",
          "plot_bgcolor": "#E5ECF6",
          "polar": {
           "angularaxis": {
            "gridcolor": "white",
            "linecolor": "white",
            "ticks": ""
           },
           "bgcolor": "#E5ECF6",
           "radialaxis": {
            "gridcolor": "white",
            "linecolor": "white",
            "ticks": ""
           }
          },
          "scene": {
           "xaxis": {
            "backgroundcolor": "#E5ECF6",
            "gridcolor": "white",
            "gridwidth": 2,
            "linecolor": "white",
            "showbackground": true,
            "ticks": "",
            "zerolinecolor": "white"
           },
           "yaxis": {
            "backgroundcolor": "#E5ECF6",
            "gridcolor": "white",
            "gridwidth": 2,
            "linecolor": "white",
            "showbackground": true,
            "ticks": "",
            "zerolinecolor": "white"
           },
           "zaxis": {
            "backgroundcolor": "#E5ECF6",
            "gridcolor": "white",
            "gridwidth": 2,
            "linecolor": "white",
            "showbackground": true,
            "ticks": "",
            "zerolinecolor": "white"
           }
          },
          "shapedefaults": {
           "line": {
            "color": "#2a3f5f"
           }
          },
          "ternary": {
           "aaxis": {
            "gridcolor": "white",
            "linecolor": "white",
            "ticks": ""
           },
           "baxis": {
            "gridcolor": "white",
            "linecolor": "white",
            "ticks": ""
           },
           "bgcolor": "#E5ECF6",
           "caxis": {
            "gridcolor": "white",
            "linecolor": "white",
            "ticks": ""
           }
          },
          "title": {
           "x": 0.05
          },
          "xaxis": {
           "automargin": true,
           "gridcolor": "white",
           "linecolor": "white",
           "ticks": "",
           "title": {
            "standoff": 15
           },
           "zerolinecolor": "white",
           "zerolinewidth": 2
          },
          "yaxis": {
           "automargin": true,
           "gridcolor": "white",
           "linecolor": "white",
           "ticks": "",
           "title": {
            "standoff": 15
           },
           "zerolinecolor": "white",
           "zerolinewidth": 2
          }
         }
        },
        "xaxis": {
         "anchor": "y",
         "domain": [
          0,
          0.15
         ],
         "range": [
          0,
          110
         ],
         "title": {
          "text": "DATASET"
         },
         "type": "linear"
        },
        "xaxis10": {
         "anchor": "y10",
         "domain": [
          0.51,
          0.66
         ],
         "matches": "x",
         "showticklabels": false,
         "type": "linear"
        },
        "xaxis11": {
         "anchor": "y11",
         "domain": [
          0.6799999999999999,
          0.83
         ],
         "matches": "x",
         "showticklabels": false,
         "type": "linear"
        },
        "xaxis12": {
         "anchor": "y12",
         "domain": [
          0.85,
          1
         ],
         "matches": "x",
         "showticklabels": false,
         "type": "linear"
        },
        "xaxis13": {
         "anchor": "y13",
         "domain": [
          0,
          0.15
         ],
         "matches": "x",
         "showticklabels": false,
         "type": "linear"
        },
        "xaxis14": {
         "anchor": "y14",
         "domain": [
          0.16999999999999998,
          0.31999999999999995
         ],
         "matches": "x",
         "showticklabels": false,
         "type": "linear"
        },
        "xaxis15": {
         "anchor": "y15",
         "domain": [
          0.33999999999999997,
          0.49
         ],
         "matches": "x",
         "showticklabels": false,
         "type": "linear"
        },
        "xaxis16": {
         "anchor": "y16",
         "domain": [
          0.51,
          0.66
         ],
         "matches": "x",
         "showticklabels": false,
         "type": "linear"
        },
        "xaxis17": {
         "anchor": "y17",
         "domain": [
          0.6799999999999999,
          0.83
         ],
         "matches": "x",
         "showticklabels": false,
         "type": "linear"
        },
        "xaxis18": {
         "anchor": "y18",
         "domain": [
          0.85,
          1
         ],
         "matches": "x",
         "showticklabels": false,
         "type": "linear"
        },
        "xaxis2": {
         "anchor": "y2",
         "domain": [
          0.16999999999999998,
          0.31999999999999995
         ],
         "matches": "x",
         "range": [
          0,
          110
         ],
         "title": {
          "text": "DATASET"
         },
         "type": "linear"
        },
        "xaxis3": {
         "anchor": "y3",
         "domain": [
          0.33999999999999997,
          0.49
         ],
         "matches": "x",
         "range": [
          0,
          110
         ],
         "title": {
          "text": "DATASET"
         },
         "type": "linear"
        },
        "xaxis4": {
         "anchor": "y4",
         "domain": [
          0.51,
          0.66
         ],
         "matches": "x",
         "range": [
          0,
          110
         ],
         "title": {
          "text": "DATASET"
         },
         "type": "linear"
        },
        "xaxis5": {
         "anchor": "y5",
         "domain": [
          0.6799999999999999,
          0.83
         ],
         "matches": "x",
         "range": [
          0,
          110
         ],
         "title": {
          "text": "DATASET"
         },
         "type": "linear"
        },
        "xaxis6": {
         "anchor": "y6",
         "domain": [
          0.85,
          1
         ],
         "matches": "x",
         "range": [
          0,
          110
         ],
         "title": {
          "text": "DATASET"
         },
         "type": "linear"
        },
        "xaxis7": {
         "anchor": "y7",
         "domain": [
          0,
          0.15
         ],
         "matches": "x",
         "showticklabels": false,
         "type": "linear"
        },
        "xaxis8": {
         "anchor": "y8",
         "domain": [
          0.16999999999999998,
          0.31999999999999995
         ],
         "matches": "x",
         "showticklabels": false,
         "type": "linear"
        },
        "xaxis9": {
         "anchor": "y9",
         "domain": [
          0.33999999999999997,
          0.49
         ],
         "matches": "x",
         "showticklabels": false,
         "type": "linear"
        },
        "yaxis": {
         "anchor": "x",
         "domain": [
          0,
          0.2866666666666666
         ],
         "range": [
          -10,
          200
         ],
         "title": {
          "text": "value"
         },
         "type": "linear"
        },
        "yaxis10": {
         "anchor": "x10",
         "domain": [
          0.35666666666666663,
          0.6433333333333333
         ],
         "matches": "y",
         "showticklabels": false,
         "type": "linear"
        },
        "yaxis11": {
         "anchor": "x11",
         "domain": [
          0.35666666666666663,
          0.6433333333333333
         ],
         "matches": "y",
         "showticklabels": false,
         "type": "linear"
        },
        "yaxis12": {
         "anchor": "x12",
         "domain": [
          0.35666666666666663,
          0.6433333333333333
         ],
         "matches": "y",
         "showticklabels": false,
         "type": "linear"
        },
        "yaxis13": {
         "anchor": "x13",
         "domain": [
          0.7133333333333333,
          0.9999999999999999
         ],
         "matches": "y",
         "range": [
          -10,
          200
         ],
         "title": {
          "text": "value"
         },
         "type": "linear"
        },
        "yaxis14": {
         "anchor": "x14",
         "domain": [
          0.7133333333333333,
          0.9999999999999999
         ],
         "matches": "y",
         "showticklabels": false,
         "type": "linear"
        },
        "yaxis15": {
         "anchor": "x15",
         "domain": [
          0.7133333333333333,
          0.9999999999999999
         ],
         "matches": "y",
         "showticklabels": false,
         "type": "linear"
        },
        "yaxis16": {
         "anchor": "x16",
         "domain": [
          0.7133333333333333,
          0.9999999999999999
         ],
         "matches": "y",
         "showticklabels": false,
         "type": "linear"
        },
        "yaxis17": {
         "anchor": "x17",
         "domain": [
          0.7133333333333333,
          0.9999999999999999
         ],
         "matches": "y",
         "showticklabels": false,
         "type": "linear"
        },
        "yaxis18": {
         "anchor": "x18",
         "domain": [
          0.7133333333333333,
          0.9999999999999999
         ],
         "matches": "y",
         "showticklabels": false,
         "type": "linear"
        },
        "yaxis2": {
         "anchor": "x2",
         "domain": [
          0,
          0.2866666666666666
         ],
         "matches": "y",
         "showticklabels": false,
         "type": "linear"
        },
        "yaxis3": {
         "anchor": "x3",
         "domain": [
          0,
          0.2866666666666666
         ],
         "matches": "y",
         "showticklabels": false,
         "type": "linear"
        },
        "yaxis4": {
         "anchor": "x4",
         "domain": [
          0,
          0.2866666666666666
         ],
         "matches": "y",
         "showticklabels": false,
         "type": "linear"
        },
        "yaxis5": {
         "anchor": "x5",
         "domain": [
          0,
          0.2866666666666666
         ],
         "matches": "y",
         "showticklabels": false,
         "type": "linear"
        },
        "yaxis6": {
         "anchor": "x6",
         "domain": [
          0,
          0.2866666666666666
         ],
         "matches": "y",
         "showticklabels": false,
         "type": "linear"
        },
        "yaxis7": {
         "anchor": "x7",
         "domain": [
          0.35666666666666663,
          0.6433333333333333
         ],
         "matches": "y",
         "range": [
          -10,
          200
         ],
         "title": {
          "text": "value"
         },
         "type": "linear"
        },
        "yaxis8": {
         "anchor": "x8",
         "domain": [
          0.35666666666666663,
          0.6433333333333333
         ],
         "matches": "y",
         "showticklabels": false,
         "type": "linear"
        },
        "yaxis9": {
         "anchor": "x9",
         "domain": [
          0.35666666666666663,
          0.6433333333333333
         ],
         "matches": "y",
         "showticklabels": false,
         "type": "linear"
        }
       }
      },
      "image/png": "[encoded data removed]",
      "text/html": [
       "<div>                            <div id=\"0d0003eb-94cb-4a28-b187-d971334066f6\" class=\"plotly-graph-div\" style=\"height:525px; width:100%;\"></div>            <script type=\"text/javascript\">                require([\"plotly\"], function(Plotly) {                    window.PLOTLYENV=window.PLOTLYENV || {};                                    if (document.getElementById(\"0d0003eb-94cb-4a28-b187-d971334066f6\")) {                    Plotly.newPlot(                        \"0d0003eb-94cb-4a28-b187-d971334066f6\",                        [{\"hovertemplate\": \"variable=MIN_BAM_DP<br>TYPE=inhA_promoter<br>DATASET=%{x}<br>value=%{y}<extra></extra>\", \"legendgroup\": \"MIN_BAM_DP\", \"line\": {\"color\": \"rgb(229, 134, 6)\", \"dash\": \"solid\"}, \"mode\": \"lines\", \"name\": \"MIN_BAM_DP\", \"orientation\": \"v\", \"showlegend\": true, \"type\": \"scatter\", \"x\": [5, 10, 15, 20, 30, 40, 50, 60, 70, 80, 90, 100], \"xaxis\": \"x13\", \"y\": [7.0, 15.0, 21.0, 24.0, 39.0, 58.0, 66.0, 74.0, 83.0, 88.0, 104.0, 109.0], \"yaxis\": \"y13\"}, {\"hovertemplate\": \"variable=MIN_BAM_DP<br>TYPE=gyrB<br>DATASET=%{x}<br>value=%{y}<extra></extra>\", \"legendgroup\": \"MIN_BAM_DP\", \"line\": {\"color\": \"rgb(229, 134, 6)\", \"dash\": \"solid\"}, \"mode\": \"lines\", \"name\": \"MIN_BAM_DP\", \"orientation\": \"v\", \"showlegend\": false, \"type\": \"scatter\", \"x\": [5, 10, 15, 20, 30, 40, 50, 60, 70, 80, 90, 100], \"xaxis\": \"x14\", \"y\": [0.0, 2.0, 2.0, 12.0, 19.0, 26.0, 35.0, 46.0, 56.0, 62.0, 71.0, 76.0], \"yaxis\": \"y14\"}, {\"hovertemplate\": \"variable=MIN_BAM_DP<br>TYPE=gyrA<br>DATASET=%{x}<br>value=%{y}<extra></extra>\", \"legendgroup\": \"MIN_BAM_DP\", \"line\": {\"color\": \"rgb(229, 134, 6)\", \"dash\": \"solid\"}, \"mode\": \"lines\", \"name\": \"MIN_BAM_DP\", \"orientation\": \"v\", \"showlegend\": false, \"type\": \"scatter\", \"x\": [5, 10, 15, 20, 30, 40, 50, 60, 70, 80, 90, 100], \"xaxis\": \"x15\", \"y\": [0.0, 2.0, 2.0, 7.0, 13.0, 23.0, 27.0, 36.0, 44.0, 53.0, 63.0, 72.0], \"yaxis\": \"y15\"}, {\"hovertemplate\": \"variable=MIN_BAM_DP<br>TYPE=rpoB<br>DATASET=%{x}<br>value=%{y}<extra></extra>\", \"legendgroup\": \"MIN_BAM_DP\", \"line\": {\"color\": \"rgb(229, 134, 6)\", \"dash\": \"solid\"}, \"mode\": \"lines\", \"name\": \"MIN_BAM_DP\", \"orientation\": \"v\", \"showlegend\": false, \"type\": \"scatter\", \"x\": [5, 10, 15, 20, 30, 40, 50, 60, 70, 80, 90, 100], \"xaxis\": \"x16\", \"y\": [0.0, 1.0, 2.0, 6.0, 12.0, 16.0, 25.0, 37.0, 43.0, 52.0, 57.0, 64.0], \"yaxis\": \"y16\"}, {\"hovertemplate\": \"variable=MIN_BAM_DP<br>TYPE=rpsL<br>DATASET=%{x}<br>value=%{y}<extra></extra>\", \"legendgroup\": \"MIN_BAM_DP\", \"line\": {\"color\": \"rgb(229, 134, 6)\", \"dash\": \"solid\"}, \"mode\": \"lines\", \"name\": \"MIN_BAM_DP\", \"orientation\": \"v\", \"showlegend\": false, \"type\": \"scatter\", \"x\": [5, 10, 15, 20, 30, 40, 50, 60, 70, 80, 90, 100], \"xaxis\": \"x17\", \"y\": [4.0, 6.0, 10.0, 13.0, 19.0, 23.0, 37.0, 40.0, 51.0, 62.0, 72.0, 76.0], \"yaxis\": \"y17\"}, {\"hovertemplate\": \"variable=MIN_BAM_DP<br>TYPE=rrs<br>DATASET=%{x}<br>value=%{y}<extra></extra>\", \"legendgroup\": \"MIN_BAM_DP\", \"line\": {\"color\": \"rgb(229, 134, 6)\", \"dash\": \"solid\"}, \"mode\": \"lines\", \"name\": \"MIN_BAM_DP\", \"orientation\": \"v\", \"showlegend\": false, \"type\": \"scatter\", \"x\": [5, 10, 15, 20, 30, 40, 50, 60, 70, 80, 90, 100], \"xaxis\": \"x18\", \"y\": [1.0, 5.0, 7.0, 10.0, 18.0, 23.0, 30.0, 44.0, 52.0, 56.0, 67.0, 77.0], \"yaxis\": \"y18\"}, {\"hovertemplate\": \"variable=MIN_BAM_DP<br>TYPE=fabG1<br>DATASET=%{x}<br>value=%{y}<extra></extra>\", \"legendgroup\": \"MIN_BAM_DP\", \"line\": {\"color\": \"rgb(229, 134, 6)\", \"dash\": \"solid\"}, \"mode\": \"lines\", \"name\": \"MIN_BAM_DP\", \"orientation\": \"v\", \"showlegend\": false, \"type\": \"scatter\", \"x\": [5, 10, 15, 20, 30, 40, 50, 60, 70, 80, 90, 100], \"xaxis\": \"x7\", \"y\": [4.0, 6.0, 8.0, 15.0, 20.0, 36.0, 43.0, 54.0, 58.0, 72.0, 76.0, 87.0], \"yaxis\": \"y7\"}, {\"hovertemplate\": \"variable=MIN_BAM_DP<br>TYPE=inhA<br>DATASET=%{x}<br>value=%{y}<extra></extra>\", \"legendgroup\": \"MIN_BAM_DP\", \"line\": {\"color\": \"rgb(229, 134, 6)\", \"dash\": \"solid\"}, \"mode\": \"lines\", \"name\": \"MIN_BAM_DP\", \"orientation\": \"v\", \"showlegend\": false, \"type\": \"scatter\", \"x\": [5, 10, 15, 20, 30, 40, 50, 60, 70, 80, 90, 100], \"xaxis\": \"x8\", \"y\": [0.0, 6.0, 8.0, 9.0, 19.0, 28.0, 38.0, 44.0, 59.0, 70.0, 79.0, 83.0], \"yaxis\": \"y8\"}, {\"hovertemplate\": \"variable=MIN_BAM_DP<br>TYPE=pncA<br>DATASET=%{x}<br>value=%{y}<extra></extra>\", \"legendgroup\": \"MIN_BAM_DP\", \"line\": {\"color\": \"rgb(229, 134, 6)\", \"dash\": \"solid\"}, \"mode\": \"lines\", \"name\": \"MIN_BAM_DP\", \"orientation\": \"v\", \"showlegend\": false, \"type\": \"scatter\", \"x\": [5, 10, 15, 20, 30, 40, 50, 60, 70, 80, 90, 100], \"xaxis\": \"x9\", \"y\": [0.0, 0.0, 4.0, 11.0, 22.0, 26.0, 36.0, 41.0, 51.0, 55.0, 70.0, 77.0], \"yaxis\": \"y9\"}, {\"hovertemplate\": \"variable=MIN_BAM_DP<br>TYPE=katG<br>DATASET=%{x}<br>value=%{y}<extra></extra>\", \"legendgroup\": \"MIN_BAM_DP\", \"line\": {\"color\": \"rgb(229, 134, 6)\", \"dash\": \"solid\"}, \"mode\": \"lines\", \"name\": \"MIN_BAM_DP\", \"orientation\": \"v\", \"showlegend\": false, \"type\": \"scatter\", \"x\": [5, 10, 15, 20, 30, 40, 50, 60, 70, 80, 90, 100], \"xaxis\": \"x10\", \"y\": [0.0, 1.0, 4.0, 9.0, 15.0, 24.0, 31.0, 39.0, 48.0, 56.0, 58.0, 72.0], \"yaxis\": \"y10\"}, {\"hovertemplate\": \"variable=MIN_BAM_DP<br>TYPE=eis<br>DATASET=%{x}<br>value=%{y}<extra></extra>\", \"legendgroup\": \"MIN_BAM_DP\", \"line\": {\"color\": \"rgb(229, 134, 6)\", \"dash\": \"solid\"}, \"mode\": \"lines\", \"name\": \"MIN_BAM_DP\", \"orientation\": \"v\", \"showlegend\": false, \"type\": \"scatter\", \"x\": [5, 10, 15, 20, 30, 40, 50, 60, 70, 80, 90, 100], \"xaxis\": \"x11\", \"y\": [0.0, 5.0, 8.0, 10.0, 14.0, 23.0, 30.0, 41.0, 48.0, 55.0, 60.0, 65.0], \"yaxis\": \"y11\"}, {\"hovertemplate\": \"variable=MIN_BAM_DP<br>TYPE=ahpC_promoter<br>DATASET=%{x}<br>value=%{y}<extra></extra>\", \"legendgroup\": \"MIN_BAM_DP\", \"line\": {\"color\": \"rgb(229, 134, 6)\", \"dash\": \"solid\"}, \"mode\": \"lines\", \"name\": \"MIN_BAM_DP\", \"orientation\": \"v\", \"showlegend\": false, \"type\": \"scatter\", \"x\": [5, 10, 15, 20, 30, 40, 50, 60, 70, 80, 90, 100], \"xaxis\": \"x12\", \"y\": [3.0, 4.0, 8.0, 13.0, 21.0, 25.0, 31.0, 44.0, 54.0, 60.0, 72.0, 81.0], \"yaxis\": \"y12\"}, {\"hovertemplate\": \"variable=MIN_BAM_DP<br>TYPE=ahpC<br>DATASET=%{x}<br>value=%{y}<extra></extra>\", \"legendgroup\": \"MIN_BAM_DP\", \"line\": {\"color\": \"rgb(229, 134, 6)\", \"dash\": \"solid\"}, \"mode\": \"lines\", \"name\": \"MIN_BAM_DP\", \"orientation\": \"v\", \"showlegend\": false, \"type\": \"scatter\", \"x\": [5, 10, 15, 20, 30, 40, 50, 60, 70, 80, 90, 100], \"xaxis\": \"x\", \"y\": [0.0, 2.0, 7.0, 10.0, 15.0, 21.0, 30.0, 37.0, 45.0, 49.0, 55.0, 60.0], \"yaxis\": \"y\"}, {\"hovertemplate\": \"variable=MIN_BAM_DP<br>TYPE=embC<br>DATASET=%{x}<br>value=%{y}<extra></extra>\", \"legendgroup\": \"MIN_BAM_DP\", \"line\": {\"color\": \"rgb(229, 134, 6)\", \"dash\": \"solid\"}, \"mode\": \"lines\", \"name\": \"MIN_BAM_DP\", \"orientation\": \"v\", \"showlegend\": false, \"type\": \"scatter\", \"x\": [5, 10, 15, 20, 30, 40, 50, 60, 70, 80, 90, 100], \"xaxis\": \"x2\", \"y\": [0.0, 0.0, 3.0, 4.0, 11.0, 14.0, 21.0, 33.0, 36.0, 39.0, 46.0, 57.0], \"yaxis\": \"y2\"}, {\"hovertemplate\": \"variable=MIN_BAM_DP<br>TYPE=embA<br>DATASET=%{x}<br>value=%{y}<extra></extra>\", \"legendgroup\": \"MIN_BAM_DP\", \"line\": {\"color\": \"rgb(229, 134, 6)\", \"dash\": \"solid\"}, \"mode\": \"lines\", \"name\": \"MIN_BAM_DP\", \"orientation\": \"v\", \"showlegend\": false, \"type\": \"scatter\", \"x\": [5, 10, 15, 20, 30, 40, 50, 60, 70, 80, 90, 100], \"xaxis\": \"x3\", \"y\": [0.0, 2.0, 3.0, 8.0, 13.0, 21.0, 29.0, 40.0, 46.0, 58.0, 61.0, 67.0], \"yaxis\": \"y3\"}, {\"hovertemplate\": \"variable=MIN_BAM_DP<br>TYPE=embB<br>DATASET=%{x}<br>value=%{y}<extra></extra>\", \"legendgroup\": \"MIN_BAM_DP\", \"line\": {\"color\": \"rgb(229, 134, 6)\", \"dash\": \"solid\"}, \"mode\": \"lines\", \"name\": \"MIN_BAM_DP\", \"orientation\": \"v\", \"showlegend\": false, \"type\": \"scatter\", \"x\": [5, 10, 15, 20, 30, 40, 50, 60, 70, 80, 90, 100], \"xaxis\": \"x4\", \"y\": [0.0, 2.0, 3.0, 8.0, 16.0, 20.0, 29.0, 33.0, 46.0, 49.0, 56.0, 63.0], \"yaxis\": \"y4\"}, {\"hovertemplate\": \"variable=MIN_BAM_DP<br>TYPE=gidB<br>DATASET=%{x}<br>value=%{y}<extra></extra>\", \"legendgroup\": \"MIN_BAM_DP\", \"line\": {\"color\": \"rgb(229, 134, 6)\", \"dash\": \"solid\"}, \"mode\": \"lines\", \"name\": \"MIN_BAM_DP\", \"orientation\": \"v\", \"showlegend\": false, \"type\": \"scatter\", \"x\": [5, 10, 15, 20, 30, 40, 50, 60, 70, 80, 90, 100], \"xaxis\": \"x5\", \"y\": [1.0, 5.0, 7.0, 13.0, 18.0, 27.0, 36.0, 45.0, 48.0, 60.0, 68.0, 79.0], \"yaxis\": \"y5\"}, {\"hovertemplate\": \"variable=MIN_BAM_DP<br>TYPE=eis_promoter<br>DATASET=%{x}<br>value=%{y}<extra></extra>\", \"legendgroup\": \"MIN_BAM_DP\", \"line\": {\"color\": \"rgb(229, 134, 6)\", \"dash\": \"solid\"}, \"mode\": \"lines\", \"name\": \"MIN_BAM_DP\", \"orientation\": \"v\", \"showlegend\": false, \"type\": \"scatter\", \"x\": [5, 10, 15, 20, 30, 40, 50, 60, 70, 80, 90, 100], \"xaxis\": \"x6\", \"y\": [4.0, 5.0, 9.0, 13.0, 18.0, 20.0, 34.0, 45.0, 57.0, 69.0, 84.0, 86.0], \"yaxis\": \"y6\"}, {\"hovertemplate\": \"variable=MED_BAM_DP<br>TYPE=inhA_promoter<br>DATASET=%{x}<br>value=%{y}<extra></extra>\", \"legendgroup\": \"MED_BAM_DP\", \"line\": {\"color\": \"rgb(93, 105, 177)\", \"dash\": \"solid\"}, \"mode\": \"lines\", \"name\": \"MED_BAM_DP\", \"orientation\": \"v\", \"showlegend\": true, \"type\": \"scatter\", \"x\": [5, 10, 15, 20, 30, 40, 50, 60, 70, 80, 90, 100], \"xaxis\": \"x13\", \"y\": [9.0, 19.0, 24.0, 27.0, 43.0, 64.0, 74.0, 84.0, 99.0, 103.0, 125.0, 128.0], \"yaxis\": \"y13\"}, {\"hovertemplate\": \"variable=MED_BAM_DP<br>TYPE=gyrB<br>DATASET=%{x}<br>value=%{y}<extra></extra>\", \"legendgroup\": \"MED_BAM_DP\", \"line\": {\"color\": \"rgb(93, 105, 177)\", \"dash\": \"solid\"}, \"mode\": \"lines\", \"name\": \"MED_BAM_DP\", \"orientation\": \"v\", \"showlegend\": false, \"type\": \"scatter\", \"x\": [5, 10, 15, 20, 30, 40, 50, 60, 70, 80, 90, 100], \"xaxis\": \"x14\", \"y\": [4.0, 9.0, 14.0, 21.0, 30.0, 40.0, 52.0, 65.0, 74.0, 84.0, 93.0, 105.0], \"yaxis\": \"y14\"}, {\"hovertemplate\": \"variable=MED_BAM_DP<br>TYPE=gyrA<br>DATASET=%{x}<br>value=%{y}<extra></extra>\", \"legendgroup\": \"MED_BAM_DP\", \"line\": {\"color\": \"rgb(93, 105, 177)\", \"dash\": \"solid\"}, \"mode\": \"lines\", \"name\": \"MED_BAM_DP\", \"orientation\": \"v\", \"showlegend\": false, \"type\": \"scatter\", \"x\": [5, 10, 15, 20, 30, 40, 50, 60, 70, 80, 90, 100], \"xaxis\": \"x15\", \"y\": [4.0, 9.0, 14.0, 17.0, 29.0, 38.0, 48.0, 60.0, 69.0, 78.0, 90.0, 102.0], \"yaxis\": \"y15\"}, {\"hovertemplate\": \"variable=MED_BAM_DP<br>TYPE=rpoB<br>DATASET=%{x}<br>value=%{y}<extra></extra>\", \"legendgroup\": \"MED_BAM_DP\", \"line\": {\"color\": \"rgb(93, 105, 177)\", \"dash\": \"solid\"}, \"mode\": \"lines\", \"name\": \"MED_BAM_DP\", \"orientation\": \"v\", \"showlegend\": false, \"type\": \"scatter\", \"x\": [5, 10, 15, 20, 30, 40, 50, 60, 70, 80, 90, 100], \"xaxis\": \"x16\", \"y\": [4.0, 9.0, 13.0, 18.0, 27.0, 36.0, 46.0, 55.0, 61.0, 72.0, 82.0, 92.0], \"yaxis\": \"y16\"}, {\"hovertemplate\": \"variable=MED_BAM_DP<br>TYPE=rpsL<br>DATASET=%{x}<br>value=%{y}<extra></extra>\", \"legendgroup\": \"MED_BAM_DP\", \"line\": {\"color\": \"rgb(93, 105, 177)\", \"dash\": \"solid\"}, \"mode\": \"lines\", \"name\": \"MED_BAM_DP\", \"orientation\": \"v\", \"showlegend\": false, \"type\": \"scatter\", \"x\": [5, 10, 15, 20, 30, 40, 50, 60, 70, 80, 90, 100], \"xaxis\": \"x17\", \"y\": [6.0, 9.0, 14.0, 19.0, 28.0, 35.0, 44.0, 52.0, 66.0, 74.0, 86.0, 93.0], \"yaxis\": \"y17\"}, {\"hovertemplate\": \"variable=MED_BAM_DP<br>TYPE=rrs<br>DATASET=%{x}<br>value=%{y}<extra></extra>\", \"legendgroup\": \"MED_BAM_DP\", \"line\": {\"color\": \"rgb(93, 105, 177)\", \"dash\": \"solid\"}, \"mode\": \"lines\", \"name\": \"MED_BAM_DP\", \"orientation\": \"v\", \"showlegend\": false, \"type\": \"scatter\", \"x\": [5, 10, 15, 20, 30, 40, 50, 60, 70, 80, 90, 100], \"xaxis\": \"x18\", \"y\": [5.0, 10.0, 15.0, 20.0, 30.0, 37.0, 48.0, 58.0, 67.0, 75.0, 84.0, 97.0], \"yaxis\": \"y18\"}, {\"hovertemplate\": \"variable=MED_BAM_DP<br>TYPE=fabG1<br>DATASET=%{x}<br>value=%{y}<extra></extra>\", \"legendgroup\": \"MED_BAM_DP\", \"line\": {\"color\": \"rgb(93, 105, 177)\", \"dash\": \"solid\"}, \"mode\": \"lines\", \"name\": \"MED_BAM_DP\", \"orientation\": \"v\", \"showlegend\": false, \"type\": \"scatter\", \"x\": [5, 10, 15, 20, 30, 40, 50, 60, 70, 80, 90, 100], \"xaxis\": \"x7\", \"y\": [8.0, 15.0, 19.0, 27.0, 38.0, 45.0, 55.0, 68.0, 79.0, 90.0, 96.0, 107.0], \"yaxis\": \"y7\"}, {\"hovertemplate\": \"variable=MED_BAM_DP<br>TYPE=inhA<br>DATASET=%{x}<br>value=%{y}<extra></extra>\", \"legendgroup\": \"MED_BAM_DP\", \"line\": {\"color\": \"rgb(93, 105, 177)\", \"dash\": \"solid\"}, \"mode\": \"lines\", \"name\": \"MED_BAM_DP\", \"orientation\": \"v\", \"showlegend\": false, \"type\": \"scatter\", \"x\": [5, 10, 15, 20, 30, 40, 50, 60, 70, 80, 90, 100], \"xaxis\": \"x8\", \"y\": [4.0, 11.0, 13.0, 15.0, 29.0, 41.0, 51.0, 61.0, 69.0, 81.0, 94.0, 105.0], \"yaxis\": \"y8\"}, {\"hovertemplate\": \"variable=MED_BAM_DP<br>TYPE=pncA<br>DATASET=%{x}<br>value=%{y}<extra></extra>\", \"legendgroup\": \"MED_BAM_DP\", \"line\": {\"color\": \"rgb(93, 105, 177)\", \"dash\": \"solid\"}, \"mode\": \"lines\", \"name\": \"MED_BAM_DP\", \"orientation\": \"v\", \"showlegend\": false, \"type\": \"scatter\", \"x\": [5, 10, 15, 20, 30, 40, 50, 60, 70, 80, 90, 100], \"xaxis\": \"x9\", \"y\": [5.0, 9.0, 13.0, 20.0, 29.0, 37.0, 47.0, 55.0, 64.0, 73.0, 82.0, 90.0], \"yaxis\": \"y9\"}, {\"hovertemplate\": \"variable=MED_BAM_DP<br>TYPE=katG<br>DATASET=%{x}<br>value=%{y}<extra></extra>\", \"legendgroup\": \"MED_BAM_DP\", \"line\": {\"color\": \"rgb(93, 105, 177)\", \"dash\": \"solid\"}, \"mode\": \"lines\", \"name\": \"MED_BAM_DP\", \"orientation\": \"v\", \"showlegend\": false, \"type\": \"scatter\", \"x\": [5, 10, 15, 20, 30, 40, 50, 60, 70, 80, 90, 100], \"xaxis\": \"x10\", \"y\": [4.0, 8.0, 13.0, 17.0, 26.0, 37.0, 47.0, 57.0, 65.0, 74.0, 84.0, 94.0], \"yaxis\": \"y10\"}, {\"hovertemplate\": \"variable=MED_BAM_DP<br>TYPE=eis<br>DATASET=%{x}<br>value=%{y}<extra></extra>\", \"legendgroup\": \"MED_BAM_DP\", \"line\": {\"color\": \"rgb(93, 105, 177)\", \"dash\": \"solid\"}, \"mode\": \"lines\", \"name\": \"MED_BAM_DP\", \"orientation\": \"v\", \"showlegend\": false, \"type\": \"scatter\", \"x\": [5, 10, 15, 20, 30, 40, 50, 60, 70, 80, 90, 100], \"xaxis\": \"x11\", \"y\": [5.0, 11.0, 16.0, 19.0, 28.0, 41.0, 48.0, 56.0, 65.0, 74.0, 88.0, 97.0], \"yaxis\": \"y11\"}, {\"hovertemplate\": \"variable=MED_BAM_DP<br>TYPE=ahpC_promoter<br>DATASET=%{x}<br>value=%{y}<extra></extra>\", \"legendgroup\": \"MED_BAM_DP\", \"line\": {\"color\": \"rgb(93, 105, 177)\", \"dash\": \"solid\"}, \"mode\": \"lines\", \"name\": \"MED_BAM_DP\", \"orientation\": \"v\", \"showlegend\": false, \"type\": \"scatter\", \"x\": [5, 10, 15, 20, 30, 40, 50, 60, 70, 80, 90, 100], \"xaxis\": \"x12\", \"y\": [4.0, 8.0, 12.0, 16.0, 23.0, 28.0, 34.0, 48.0, 58.0, 64.0, 78.0, 87.0], \"yaxis\": \"y12\"}, {\"hovertemplate\": \"variable=MED_BAM_DP<br>TYPE=ahpC<br>DATASET=%{x}<br>value=%{y}<extra></extra>\", \"legendgroup\": \"MED_BAM_DP\", \"line\": {\"color\": \"rgb(93, 105, 177)\", \"dash\": \"solid\"}, \"mode\": \"lines\", \"name\": \"MED_BAM_DP\", \"orientation\": \"v\", \"showlegend\": false, \"type\": \"scatter\", \"x\": [5, 10, 15, 20, 30, 40, 50, 60, 70, 80, 90, 100], \"xaxis\": \"x\", \"y\": [5.0, 11.0, 14.0, 17.0, 24.0, 34.0, 48.0, 57.0, 66.0, 77.0, 86.0, 93.0], \"yaxis\": \"y\"}, {\"hovertemplate\": \"variable=MED_BAM_DP<br>TYPE=embC<br>DATASET=%{x}<br>value=%{y}<extra></extra>\", \"legendgroup\": \"MED_BAM_DP\", \"line\": {\"color\": \"rgb(93, 105, 177)\", \"dash\": \"solid\"}, \"mode\": \"lines\", \"name\": \"MED_BAM_DP\", \"orientation\": \"v\", \"showlegend\": false, \"type\": \"scatter\", \"x\": [5, 10, 15, 20, 30, 40, 50, 60, 70, 80, 90, 100], \"xaxis\": \"x2\", \"y\": [5.0, 11.0, 15.0, 21.0, 30.0, 39.0, 49.0, 58.0, 68.0, 79.0, 88.0, 99.0], \"yaxis\": \"y2\"}, {\"hovertemplate\": \"variable=MED_BAM_DP<br>TYPE=embA<br>DATASET=%{x}<br>value=%{y}<extra></extra>\", \"legendgroup\": \"MED_BAM_DP\", \"line\": {\"color\": \"rgb(93, 105, 177)\", \"dash\": \"solid\"}, \"mode\": \"lines\", \"name\": \"MED_BAM_DP\", \"orientation\": \"v\", \"showlegend\": false, \"type\": \"scatter\", \"x\": [5, 10, 15, 20, 30, 40, 50, 60, 70, 80, 90, 100], \"xaxis\": \"x3\", \"y\": [5.0, 10.0, 14.0, 19.0, 29.0, 38.0, 49.0, 58.0, 70.0, 80.0, 91.0, 102.0], \"yaxis\": \"y3\"}, {\"hovertemplate\": \"variable=MED_BAM_DP<br>TYPE=embB<br>DATASET=%{x}<br>value=%{y}<extra></extra>\", \"legendgroup\": \"MED_BAM_DP\", \"line\": {\"color\": \"rgb(93, 105, 177)\", \"dash\": \"solid\"}, \"mode\": \"lines\", \"name\": \"MED_BAM_DP\", \"orientation\": \"v\", \"showlegend\": false, \"type\": \"scatter\", \"x\": [5, 10, 15, 20, 30, 40, 50, 60, 70, 80, 90, 100], \"xaxis\": \"x4\", \"y\": [4.0, 9.0, 14.0, 19.0, 31.0, 40.0, 50.0, 61.0, 70.0, 81.0, 92.0, 100.0], \"yaxis\": \"y4\"}, {\"hovertemplate\": \"variable=MED_BAM_DP<br>TYPE=gidB<br>DATASET=%{x}<br>value=%{y}<extra></extra>\", \"legendgroup\": \"MED_BAM_DP\", \"line\": {\"color\": \"rgb(93, 105, 177)\", \"dash\": \"solid\"}, \"mode\": \"lines\", \"name\": \"MED_BAM_DP\", \"orientation\": \"v\", \"showlegend\": false, \"type\": \"scatter\", \"x\": [5, 10, 15, 20, 30, 40, 50, 60, 70, 80, 90, 100], \"xaxis\": \"x5\", \"y\": [8.0, 11.0, 16.0, 22.0, 34.0, 41.0, 50.0, 60.0, 69.0, 81.0, 88.0, 98.0], \"yaxis\": \"y5\"}, {\"hovertemplate\": \"variable=MED_BAM_DP<br>TYPE=eis_promoter<br>DATASET=%{x}<br>value=%{y}<extra></extra>\", \"legendgroup\": \"MED_BAM_DP\", \"line\": {\"color\": \"rgb(93, 105, 177)\", \"dash\": \"solid\"}, \"mode\": \"lines\", \"name\": \"MED_BAM_DP\", \"orientation\": \"v\", \"showlegend\": false, \"type\": \"scatter\", \"x\": [5, 10, 15, 20, 30, 40, 50, 60, 70, 80, 90, 100], \"xaxis\": \"x6\", \"y\": [6.0, 7.0, 13.0, 19.0, 31.0, 47.0, 54.0, 67.0, 78.0, 85.0, 93.0, 97.0], \"yaxis\": \"y6\"}, {\"hovertemplate\": \"variable=MAX_BAM_DP<br>TYPE=inhA_promoter<br>DATASET=%{x}<br>value=%{y}<extra></extra>\", \"legendgroup\": \"MAX_BAM_DP\", \"line\": {\"color\": \"rgb(82, 188, 163)\", \"dash\": \"solid\"}, \"mode\": \"lines\", \"name\": \"MAX_BAM_DP\", \"orientation\": \"v\", \"showlegend\": true, \"type\": \"scatter\", \"x\": [5, 10, 15, 20, 30, 40, 50, 60, 70, 80, 90, 100], \"xaxis\": \"x13\", \"y\": [11.0, 22.0, 28.0, 31.0, 49.0, 73.0, 83.0, 94.0, 110.0, 115.0, 139.0, 141.0], \"yaxis\": \"y13\"}, {\"hovertemplate\": \"variable=MAX_BAM_DP<br>TYPE=gyrB<br>DATASET=%{x}<br>value=%{y}<extra></extra>\", \"legendgroup\": \"MAX_BAM_DP\", \"line\": {\"color\": \"rgb(82, 188, 163)\", \"dash\": \"solid\"}, \"mode\": \"lines\", \"name\": \"MAX_BAM_DP\", \"orientation\": \"v\", \"showlegend\": false, \"type\": \"scatter\", \"x\": [5, 10, 15, 20, 30, 40, 50, 60, 70, 80, 90, 100], \"xaxis\": \"x14\", \"y\": [13.0, 20.0, 23.0, 33.0, 49.0, 64.0, 78.0, 86.0, 97.0, 103.0, 117.0, 134.0], \"yaxis\": \"y14\"}, {\"hovertemplate\": \"variable=MAX_BAM_DP<br>TYPE=gyrA<br>DATASET=%{x}<br>value=%{y}<extra></extra>\", \"legendgroup\": \"MAX_BAM_DP\", \"line\": {\"color\": \"rgb(82, 188, 163)\", \"dash\": \"solid\"}, \"mode\": \"lines\", \"name\": \"MAX_BAM_DP\", \"orientation\": \"v\", \"showlegend\": false, \"type\": \"scatter\", \"x\": [5, 10, 15, 20, 30, 40, 50, 60, 70, 80, 90, 100], \"xaxis\": \"x15\", \"y\": [8.0, 20.0, 28.0, 38.0, 50.0, 65.0, 75.0, 92.0, 116.0, 132.0, 150.0, 174.0], \"yaxis\": \"y15\"}, {\"hovertemplate\": \"variable=MAX_BAM_DP<br>TYPE=rpoB<br>DATASET=%{x}<br>value=%{y}<extra></extra>\", \"legendgroup\": \"MAX_BAM_DP\", \"line\": {\"color\": \"rgb(82, 188, 163)\", \"dash\": \"solid\"}, \"mode\": \"lines\", \"name\": \"MAX_BAM_DP\", \"orientation\": \"v\", \"showlegend\": false, \"type\": \"scatter\", \"x\": [5, 10, 15, 20, 30, 40, 50, 60, 70, 80, 90, 100], \"xaxis\": \"x16\", \"y\": [9.0, 19.0, 23.0, 29.0, 41.0, 64.0, 73.0, 85.0, 97.0, 105.0, 119.0, 128.0], \"yaxis\": \"y16\"}, {\"hovertemplate\": \"variable=MAX_BAM_DP<br>TYPE=rpsL<br>DATASET=%{x}<br>value=%{y}<extra></extra>\", \"legendgroup\": \"MAX_BAM_DP\", \"line\": {\"color\": \"rgb(82, 188, 163)\", \"dash\": \"solid\"}, \"mode\": \"lines\", \"name\": \"MAX_BAM_DP\", \"orientation\": \"v\", \"showlegend\": false, \"type\": \"scatter\", \"x\": [5, 10, 15, 20, 30, 40, 50, 60, 70, 80, 90, 100], \"xaxis\": \"x17\", \"y\": [7.0, 14.0, 18.0, 25.0, 34.0, 50.0, 55.0, 70.0, 81.0, 92.0, 100.0, 109.0], \"yaxis\": \"y17\"}, {\"hovertemplate\": \"variable=MAX_BAM_DP<br>TYPE=rrs<br>DATASET=%{x}<br>value=%{y}<extra></extra>\", \"legendgroup\": \"MAX_BAM_DP\", \"line\": {\"color\": \"rgb(82, 188, 163)\", \"dash\": \"solid\"}, \"mode\": \"lines\", \"name\": \"MAX_BAM_DP\", \"orientation\": \"v\", \"showlegend\": false, \"type\": \"scatter\", \"x\": [5, 10, 15, 20, 30, 40, 50, 60, 70, 80, 90, 100], \"xaxis\": \"x18\", \"y\": [12.0, 19.0, 29.0, 44.0, 64.0, 77.0, 84.0, 87.0, 104.0, 126.0, 159.0, 176.0], \"yaxis\": \"y18\"}, {\"hovertemplate\": \"variable=MAX_BAM_DP<br>TYPE=fabG1<br>DATASET=%{x}<br>value=%{y}<extra></extra>\", \"legendgroup\": \"MAX_BAM_DP\", \"line\": {\"color\": \"rgb(82, 188, 163)\", \"dash\": \"solid\"}, \"mode\": \"lines\", \"name\": \"MAX_BAM_DP\", \"orientation\": \"v\", \"showlegend\": false, \"type\": \"scatter\", \"x\": [5, 10, 15, 20, 30, 40, 50, 60, 70, 80, 90, 100], \"xaxis\": \"x7\", \"y\": [13.0, 24.0, 31.0, 38.0, 56.0, 67.0, 79.0, 89.0, 102.0, 109.0, 118.0, 125.0], \"yaxis\": \"y7\"}, {\"hovertemplate\": \"variable=MAX_BAM_DP<br>TYPE=inhA<br>DATASET=%{x}<br>value=%{y}<extra></extra>\", \"legendgroup\": \"MAX_BAM_DP\", \"line\": {\"color\": \"rgb(82, 188, 163)\", \"dash\": \"solid\"}, \"mode\": \"lines\", \"name\": \"MAX_BAM_DP\", \"orientation\": \"v\", \"showlegend\": false, \"type\": \"scatter\", \"x\": [5, 10, 15, 20, 30, 40, 50, 60, 70, 80, 90, 100], \"xaxis\": \"x8\", \"y\": [11.0, 15.0, 21.0, 28.0, 44.0, 54.0, 69.0, 79.0, 87.0, 97.0, 111.0, 124.0], \"yaxis\": \"y8\"}, {\"hovertemplate\": \"variable=MAX_BAM_DP<br>TYPE=pncA<br>DATASET=%{x}<br>value=%{y}<extra></extra>\", \"legendgroup\": \"MAX_BAM_DP\", \"line\": {\"color\": \"rgb(82, 188, 163)\", \"dash\": \"solid\"}, \"mode\": \"lines\", \"name\": \"MAX_BAM_DP\", \"orientation\": \"v\", \"showlegend\": false, \"type\": \"scatter\", \"x\": [5, 10, 15, 20, 30, 40, 50, 60, 70, 80, 90, 100], \"xaxis\": \"x9\", \"y\": [11.0, 15.0, 20.0, 29.0, 36.0, 52.0, 57.0, 66.0, 74.0, 87.0, 99.0, 106.0], \"yaxis\": \"y9\"}, {\"hovertemplate\": \"variable=MAX_BAM_DP<br>TYPE=katG<br>DATASET=%{x}<br>value=%{y}<extra></extra>\", \"legendgroup\": \"MAX_BAM_DP\", \"line\": {\"color\": \"rgb(82, 188, 163)\", \"dash\": \"solid\"}, \"mode\": \"lines\", \"name\": \"MAX_BAM_DP\", \"orientation\": \"v\", \"showlegend\": false, \"type\": \"scatter\", \"x\": [5, 10, 15, 20, 30, 40, 50, 60, 70, 80, 90, 100], \"xaxis\": \"x10\", \"y\": [11.0, 18.0, 24.0, 28.0, 38.0, 53.0, 67.0, 84.0, 97.0, 112.0, 124.0, 139.0], \"yaxis\": \"y10\"}, {\"hovertemplate\": \"variable=MAX_BAM_DP<br>TYPE=eis<br>DATASET=%{x}<br>value=%{y}<extra></extra>\", \"legendgroup\": \"MAX_BAM_DP\", \"line\": {\"color\": \"rgb(82, 188, 163)\", \"dash\": \"solid\"}, \"mode\": \"lines\", \"name\": \"MAX_BAM_DP\", \"orientation\": \"v\", \"showlegend\": false, \"type\": \"scatter\", \"x\": [5, 10, 15, 20, 30, 40, 50, 60, 70, 80, 90, 100], \"xaxis\": \"x11\", \"y\": [12.0, 25.0, 31.0, 33.0, 47.0, 56.0, 69.0, 88.0, 102.0, 113.0, 126.0, 144.0], \"yaxis\": \"y11\"}, {\"hovertemplate\": \"variable=MAX_BAM_DP<br>TYPE=ahpC_promoter<br>DATASET=%{x}<br>value=%{y}<extra></extra>\", \"legendgroup\": \"MAX_BAM_DP\", \"line\": {\"color\": \"rgb(82, 188, 163)\", \"dash\": \"solid\"}, \"mode\": \"lines\", \"name\": \"MAX_BAM_DP\", \"orientation\": \"v\", \"showlegend\": false, \"type\": \"scatter\", \"x\": [5, 10, 15, 20, 30, 40, 50, 60, 70, 80, 90, 100], \"xaxis\": \"x12\", \"y\": [5.0, 12.0, 16.0, 19.0, 25.0, 31.0, 39.0, 54.0, 66.0, 71.0, 83.0, 92.0], \"yaxis\": \"y12\"}, {\"hovertemplate\": \"variable=MAX_BAM_DP<br>TYPE=ahpC<br>DATASET=%{x}<br>value=%{y}<extra></extra>\", \"legendgroup\": \"MAX_BAM_DP\", \"line\": {\"color\": \"rgb(82, 188, 163)\", \"dash\": \"solid\"}, \"mode\": \"lines\", \"name\": \"MAX_BAM_DP\", \"orientation\": \"v\", \"showlegend\": false, \"type\": \"scatter\", \"x\": [5, 10, 15, 20, 30, 40, 50, 60, 70, 80, 90, 100], \"xaxis\": \"x\", \"y\": [12.0, 18.0, 28.0, 33.0, 44.0, 52.0, 63.0, 71.0, 86.0, 95.0, 107.0, 118.0], \"yaxis\": \"y\"}, {\"hovertemplate\": \"variable=MAX_BAM_DP<br>TYPE=embC<br>DATASET=%{x}<br>value=%{y}<extra></extra>\", \"legendgroup\": \"MAX_BAM_DP\", \"line\": {\"color\": \"rgb(82, 188, 163)\", \"dash\": \"solid\"}, \"mode\": \"lines\", \"name\": \"MAX_BAM_DP\", \"orientation\": \"v\", \"showlegend\": false, \"type\": \"scatter\", \"x\": [5, 10, 15, 20, 30, 40, 50, 60, 70, 80, 90, 100], \"xaxis\": \"x2\", \"y\": [15.0, 21.0, 35.0, 40.0, 54.0, 69.0, 79.0, 87.0, 106.0, 118.0, 135.0, 156.0], \"yaxis\": \"y2\"}, {\"hovertemplate\": \"variable=MAX_BAM_DP<br>TYPE=embA<br>DATASET=%{x}<br>value=%{y}<extra></extra>\", \"legendgroup\": \"MAX_BAM_DP\", \"line\": {\"color\": \"rgb(82, 188, 163)\", \"dash\": \"solid\"}, \"mode\": \"lines\", \"name\": \"MAX_BAM_DP\", \"orientation\": \"v\", \"showlegend\": false, \"type\": \"scatter\", \"x\": [5, 10, 15, 20, 30, 40, 50, 60, 70, 80, 90, 100], \"xaxis\": \"x3\", \"y\": [17.0, 30.0, 36.0, 51.0, 60.0, 81.0, 97.0, 110.0, 128.0, 145.0, 157.0, 181.0], \"yaxis\": \"y3\"}, {\"hovertemplate\": \"variable=MAX_BAM_DP<br>TYPE=embB<br>DATASET=%{x}<br>value=%{y}<extra></extra>\", \"legendgroup\": \"MAX_BAM_DP\", \"line\": {\"color\": \"rgb(82, 188, 163)\", \"dash\": \"solid\"}, \"mode\": \"lines\", \"name\": \"MAX_BAM_DP\", \"orientation\": \"v\", \"showlegend\": false, \"type\": \"scatter\", \"x\": [5, 10, 15, 20, 30, 40, 50, 60, 70, 80, 90, 100], \"xaxis\": \"x4\", \"y\": [14.0, 30.0, 34.0, 56.0, 76.0, 94.0, 118.0, 137.0, 154.0, 181.0, 194.0, 215.0], \"yaxis\": \"y4\"}, {\"hovertemplate\": \"variable=MAX_BAM_DP<br>TYPE=gidB<br>DATASET=%{x}<br>value=%{y}<extra></extra>\", \"legendgroup\": \"MAX_BAM_DP\", \"line\": {\"color\": \"rgb(82, 188, 163)\", \"dash\": \"solid\"}, \"mode\": \"lines\", \"name\": \"MAX_BAM_DP\", \"orientation\": \"v\", \"showlegend\": false, \"type\": \"scatter\", \"x\": [5, 10, 15, 20, 30, 40, 50, 60, 70, 80, 90, 100], \"xaxis\": \"x5\", \"y\": [11.0, 21.0, 27.0, 33.0, 44.0, 49.0, 67.0, 79.0, 83.0, 100.0, 117.0, 139.0], \"yaxis\": \"y5\"}, {\"hovertemplate\": \"variable=MAX_BAM_DP<br>TYPE=eis_promoter<br>DATASET=%{x}<br>value=%{y}<extra></extra>\", \"legendgroup\": \"MAX_BAM_DP\", \"line\": {\"color\": \"rgb(82, 188, 163)\", \"dash\": \"solid\"}, \"mode\": \"lines\", \"name\": \"MAX_BAM_DP\", \"orientation\": \"v\", \"showlegend\": false, \"type\": \"scatter\", \"x\": [5, 10, 15, 20, 30, 40, 50, 60, 70, 80, 90, 100], \"xaxis\": \"x6\", \"y\": [8.0, 9.0, 18.0, 27.0, 40.0, 56.0, 64.0, 78.0, 88.0, 93.0, 107.0, 114.0], \"yaxis\": \"y6\"}],                        {\"annotations\": [{\"font\": {}, \"showarrow\": false, \"text\": \"TYPE=ahpC\", \"x\": 0.075, \"xanchor\": \"center\", \"xref\": \"paper\", \"y\": 0.2866666666666666, \"yanchor\": \"bottom\", \"yref\": \"paper\"}, {\"font\": {}, \"showarrow\": false, \"text\": \"TYPE=embC\", \"x\": 0.24499999999999997, \"xanchor\": \"center\", \"xref\": \"paper\", \"y\": 0.2866666666666666, \"yanchor\": \"bottom\", \"yref\": \"paper\"}, {\"font\": {}, \"showarrow\": false, \"text\": \"TYPE=embA\", \"x\": 0.415, \"xanchor\": \"center\", \"xref\": \"paper\", \"y\": 0.2866666666666666, \"yanchor\": \"bottom\", \"yref\": \"paper\"}, {\"font\": {}, \"showarrow\": false, \"text\": \"TYPE=embB\", \"x\": 0.585, \"xanchor\": \"center\", \"xref\": \"paper\", \"y\": 0.2866666666666666, \"yanchor\": \"bottom\", \"yref\": \"paper\"}, {\"font\": {}, \"showarrow\": false, \"text\": \"TYPE=gidB\", \"x\": 0.7549999999999999, \"xanchor\": \"center\", \"xref\": \"paper\", \"y\": 0.2866666666666666, \"yanchor\": \"bottom\", \"yref\": \"paper\"}, {\"font\": {}, \"showarrow\": false, \"text\": \"TYPE=eis_promoter\", \"x\": 0.925, \"xanchor\": \"center\", \"xref\": \"paper\", \"y\": 0.2866666666666666, \"yanchor\": \"bottom\", \"yref\": \"paper\"}, {\"font\": {}, \"showarrow\": false, \"text\": \"TYPE=fabG1\", \"x\": 0.075, \"xanchor\": \"center\", \"xref\": \"paper\", \"y\": 0.6433333333333333, \"yanchor\": \"bottom\", \"yref\": \"paper\"}, {\"font\": {}, \"showarrow\": false, \"text\": \"TYPE=inhA\", \"x\": 0.24499999999999997, \"xanchor\": \"center\", \"xref\": \"paper\", \"y\": 0.6433333333333333, \"yanchor\": \"bottom\", \"yref\": \"paper\"}, {\"font\": {}, \"showarrow\": false, \"text\": \"TYPE=pncA\", \"x\": 0.415, \"xanchor\": \"center\", \"xref\": \"paper\", \"y\": 0.6433333333333333, \"yanchor\": \"bottom\", \"yref\": \"paper\"}, {\"font\": {}, \"showarrow\": false, \"text\": \"TYPE=katG\", \"x\": 0.585, \"xanchor\": \"center\", \"xref\": \"paper\", \"y\": 0.6433333333333333, \"yanchor\": \"bottom\", \"yref\": \"paper\"}, {\"font\": {}, \"showarrow\": false, \"text\": \"TYPE=eis\", \"x\": 0.7549999999999999, \"xanchor\": \"center\", \"xref\": \"paper\", \"y\": 0.6433333333333333, \"yanchor\": \"bottom\", \"yref\": \"paper\"}, {\"font\": {}, \"showarrow\": false, \"text\": \"TYPE=ahpC_promoter\", \"x\": 0.925, \"xanchor\": \"center\", \"xref\": \"paper\", \"y\": 0.6433333333333333, \"yanchor\": \"bottom\", \"yref\": \"paper\"}, {\"font\": {}, \"showarrow\": false, \"text\": \"TYPE=inhA_promoter\", \"x\": 0.075, \"xanchor\": \"center\", \"xref\": \"paper\", \"y\": 0.9999999999999999, \"yanchor\": \"bottom\", \"yref\": \"paper\"}, {\"font\": {}, \"showarrow\": false, \"text\": \"TYPE=gyrB\", \"x\": 0.24499999999999997, \"xanchor\": \"center\", \"xref\": \"paper\", \"y\": 0.9999999999999999, \"yanchor\": \"bottom\", \"yref\": \"paper\"}, {\"font\": {}, \"showarrow\": false, \"text\": \"TYPE=gyrA\", \"x\": 0.415, \"xanchor\": \"center\", \"xref\": \"paper\", \"y\": 0.9999999999999999, \"yanchor\": \"bottom\", \"yref\": \"paper\"}, {\"font\": {}, \"showarrow\": false, \"text\": \"TYPE=rpoB\", \"x\": 0.585, \"xanchor\": \"center\", \"xref\": \"paper\", \"y\": 0.9999999999999999, \"yanchor\": \"bottom\", \"yref\": \"paper\"}, {\"font\": {}, \"showarrow\": false, \"text\": \"TYPE=rpsL\", \"x\": 0.7549999999999999, \"xanchor\": \"center\", \"xref\": \"paper\", \"y\": 0.9999999999999999, \"yanchor\": \"bottom\", \"yref\": \"paper\"}, {\"font\": {}, \"showarrow\": false, \"text\": \"TYPE=rrs\", \"x\": 0.925, \"xanchor\": \"center\", \"xref\": \"paper\", \"y\": 0.9999999999999999, \"yanchor\": \"bottom\", \"yref\": \"paper\"}], \"legend\": {\"title\": {\"text\": \"variable\"}, \"tracegroupgap\": 0}, \"margin\": {\"t\": 60}, \"template\": {\"data\": {\"bar\": [{\"error_x\": {\"color\": \"#2a3f5f\"}, \"error_y\": {\"color\": \"#2a3f5f\"}, \"marker\": {\"line\": {\"color\": \"#E5ECF6\", \"width\": 0.5}}, \"type\": \"bar\"}], \"barpolar\": [{\"marker\": {\"line\": {\"color\": \"#E5ECF6\", \"width\": 0.5}}, \"type\": \"barpolar\"}], \"carpet\": [{\"aaxis\": {\"endlinecolor\": \"#2a3f5f\", \"gridcolor\": \"white\", \"linecolor\": \"white\", \"minorgridcolor\": \"white\", \"startlinecolor\": \"#2a3f5f\"}, \"baxis\": {\"endlinecolor\": \"#2a3f5f\", \"gridcolor\": \"white\", \"linecolor\": \"white\", \"minorgridcolor\": \"white\", \"startlinecolor\": \"#2a3f5f\"}, \"type\": \"carpet\"}], \"choropleth\": [{\"colorbar\": {\"outlinewidth\": 0, \"ticks\": \"\"}, \"type\": \"choropleth\"}], \"contour\": [{\"colorbar\": {\"outlinewidth\": 0, \"ticks\": \"\"}, \"colorscale\": [[0.0, \"#0d0887\"], [0.1111111111111111, \"#46039f\"], [0.2222222222222222, \"#7201a8\"], [0.3333333333333333, \"#9c179e\"], [0.4444444444444444, \"#bd3786\"], [0.5555555555555556, \"#d8576b\"], [0.6666666666666666, \"#ed7953\"], [0.7777777777777778, \"#fb9f3a\"], [0.8888888888888888, \"#fdca26\"], [1.0, \"#f0f921\"]], \"type\": \"contour\"}], \"contourcarpet\": [{\"colorbar\": {\"outlinewidth\": 0, \"ticks\": \"\"}, \"type\": \"contourcarpet\"}], \"heatmap\": [{\"colorbar\": {\"outlinewidth\": 0, \"ticks\": \"\"}, \"colorscale\": [[0.0, \"#0d0887\"], [0.1111111111111111, \"#46039f\"], [0.2222222222222222, \"#7201a8\"], [0.3333333333333333, \"#9c179e\"], [0.4444444444444444, \"#bd3786\"], [0.5555555555555556, \"#d8576b\"], [0.6666666666666666, \"#ed7953\"], [0.7777777777777778, \"#fb9f3a\"], [0.8888888888888888, \"#fdca26\"], [1.0, \"#f0f921\"]], \"type\": \"heatmap\"}], \"heatmapgl\": [{\"colorbar\": {\"outlinewidth\": 0, \"ticks\": \"\"}, \"colorscale\": [[0.0, \"#0d0887\"], [0.1111111111111111, \"#46039f\"], [0.2222222222222222, \"#7201a8\"], [0.3333333333333333, \"#9c179e\"], [0.4444444444444444, \"#bd3786\"], [0.5555555555555556, \"#d8576b\"], [0.6666666666666666, \"#ed7953\"], [0.7777777777777778, \"#fb9f3a\"], [0.8888888888888888, \"#fdca26\"], [1.0, \"#f0f921\"]], \"type\": \"heatmapgl\"}], \"histogram\": [{\"marker\": {\"colorbar\": {\"outlinewidth\": 0, \"ticks\": \"\"}}, \"type\": \"histogram\"}], \"histogram2d\": [{\"colorbar\": {\"outlinewidth\": 0, \"ticks\": \"\"}, \"colorscale\": [[0.0, \"#0d0887\"], [0.1111111111111111, \"#46039f\"], [0.2222222222222222, \"#7201a8\"], [0.3333333333333333, \"#9c179e\"], [0.4444444444444444, \"#bd3786\"], [0.5555555555555556, \"#d8576b\"], [0.6666666666666666, \"#ed7953\"], [0.7777777777777778, \"#fb9f3a\"], [0.8888888888888888, \"#fdca26\"], [1.0, \"#f0f921\"]], \"type\": \"histogram2d\"}], \"histogram2dcontour\": [{\"colorbar\": {\"outlinewidth\": 0, \"ticks\": \"\"}, \"colorscale\": [[0.0, \"#0d0887\"], [0.1111111111111111, \"#46039f\"], [0.2222222222222222, \"#7201a8\"], [0.3333333333333333, \"#9c179e\"], [0.4444444444444444, \"#bd3786\"], [0.5555555555555556, \"#d8576b\"], [0.6666666666666666, \"#ed7953\"], [0.7777777777777778, \"#fb9f3a\"], [0.8888888888888888, \"#fdca26\"], [1.0, \"#f0f921\"]], \"type\": \"histogram2dcontour\"}], \"mesh3d\": [{\"colorbar\": {\"outlinewidth\": 0, \"ticks\": \"\"}, \"type\": \"mesh3d\"}], \"parcoords\": [{\"line\": {\"colorbar\": {\"outlinewidth\": 0, \"ticks\": \"\"}}, \"type\": \"parcoords\"}], \"pie\": [{\"automargin\": true, \"type\": \"pie\"}], \"scatter\": [{\"marker\": {\"colorbar\": {\"outlinewidth\": 0, \"ticks\": \"\"}}, \"type\": \"scatter\"}], \"scatter3d\": [{\"line\": {\"colorbar\": {\"outlinewidth\": 0, \"ticks\": \"\"}}, \"marker\": {\"colorbar\": {\"outlinewidth\": 0, \"ticks\": \"\"}}, \"type\": \"scatter3d\"}], \"scattercarpet\": [{\"marker\": {\"colorbar\": {\"outlinewidth\": 0, \"ticks\": \"\"}}, \"type\": \"scattercarpet\"}], \"scattergeo\": [{\"marker\": {\"colorbar\": {\"outlinewidth\": 0, \"ticks\": \"\"}}, \"type\": \"scattergeo\"}], \"scattergl\": [{\"marker\": {\"colorbar\": {\"outlinewidth\": 0, \"ticks\": \"\"}}, \"type\": \"scattergl\"}], \"scattermapbox\": [{\"marker\": {\"colorbar\": {\"outlinewidth\": 0, \"ticks\": \"\"}}, \"type\": \"scattermapbox\"}], \"scatterpolar\": [{\"marker\": {\"colorbar\": {\"outlinewidth\": 0, \"ticks\": \"\"}}, \"type\": \"scatterpolar\"}], \"scatterpolargl\": [{\"marker\": {\"colorbar\": {\"outlinewidth\": 0, \"ticks\": \"\"}}, \"type\": \"scatterpolargl\"}], \"scatterternary\": [{\"marker\": {\"colorbar\": {\"outlinewidth\": 0, \"ticks\": \"\"}}, \"type\": \"scatterternary\"}], \"surface\": [{\"colorbar\": {\"outlinewidth\": 0, \"ticks\": \"\"}, \"colorscale\": [[0.0, \"#0d0887\"], [0.1111111111111111, \"#46039f\"], [0.2222222222222222, \"#7201a8\"], [0.3333333333333333, \"#9c179e\"], [0.4444444444444444, \"#bd3786\"], [0.5555555555555556, \"#d8576b\"], [0.6666666666666666, \"#ed7953\"], [0.7777777777777778, \"#fb9f3a\"], [0.8888888888888888, \"#fdca26\"], [1.0, \"#f0f921\"]], \"type\": \"surface\"}], \"table\": [{\"cells\": {\"fill\": {\"color\": \"#EBF0F8\"}, \"line\": {\"color\": \"white\"}}, \"header\": {\"fill\": {\"color\": \"#C8D4E3\"}, \"line\": {\"color\": \"white\"}}, \"type\": \"table\"}]}, \"layout\": {\"annotationdefaults\": {\"arrowcolor\": \"#2a3f5f\", \"arrowhead\": 0, \"arrowwidth\": 1}, \"autotypenumbers\": \"strict\", \"coloraxis\": {\"colorbar\": {\"outlinewidth\": 0, \"ticks\": \"\"}}, \"colorscale\": {\"diverging\": [[0, \"#8e0152\"], [0.1, \"#c51b7d\"], [0.2, \"#de77ae\"], [0.3, \"#f1b6da\"], [0.4, \"#fde0ef\"], [0.5, \"#f7f7f7\"], [0.6, \"#e6f5d0\"], [0.7, \"#b8e186\"], [0.8, \"#7fbc41\"], [0.9, \"#4d9221\"], [1, \"#276419\"]], \"sequential\": [[0.0, \"#0d0887\"], [0.1111111111111111, \"#46039f\"], [0.2222222222222222, \"#7201a8\"], [0.3333333333333333, \"#9c179e\"], [0.4444444444444444, \"#bd3786\"], [0.5555555555555556, \"#d8576b\"], [0.6666666666666666, \"#ed7953\"], [0.7777777777777778, \"#fb9f3a\"], [0.8888888888888888, \"#fdca26\"], [1.0, \"#f0f921\"]], \"sequentialminus\": [[0.0, \"#0d0887\"], [0.1111111111111111, \"#46039f\"], [0.2222222222222222, \"#7201a8\"], [0.3333333333333333, \"#9c179e\"], [0.4444444444444444, \"#bd3786\"], [0.5555555555555556, \"#d8576b\"], [0.6666666666666666, \"#ed7953\"], [0.7777777777777778, \"#fb9f3a\"], [0.8888888888888888, \"#fdca26\"], [1.0, \"#f0f921\"]]}, \"colorway\": [\"#636efa\", \"#EF553B\", \"#00cc96\", \"#ab63fa\", \"#FFA15A\", \"#19d3f3\", \"#FF6692\", \"#B6E880\", \"#FF97FF\", \"#FECB52\"], \"font\": {\"color\": \"#2a3f5f\"}, \"geo\": {\"bgcolor\": \"white\", \"lakecolor\": \"white\", \"landcolor\": \"#E5ECF6\", \"showlakes\": true, \"showland\": true, \"subunitcolor\": \"white\"}, \"hoverlabel\": {\"align\": \"left\"}, \"hovermode\": \"closest\", \"mapbox\": {\"style\": \"light\"}, \"paper_bgcolor\": \"white\", \"plot_bgcolor\": \"#E5ECF6\", \"polar\": {\"angularaxis\": {\"gridcolor\": \"white\", \"linecolor\": \"white\", \"ticks\": \"\"}, \"bgcolor\": \"#E5ECF6\", \"radialaxis\": {\"gridcolor\": \"white\", \"linecolor\": \"white\", \"ticks\": \"\"}}, \"scene\": {\"xaxis\": {\"backgroundcolor\": \"#E5ECF6\", \"gridcolor\": \"white\", \"gridwidth\": 2, \"linecolor\": \"white\", \"showbackground\": true, \"ticks\": \"\", \"zerolinecolor\": \"white\"}, \"yaxis\": {\"backgroundcolor\": \"#E5ECF6\", \"gridcolor\": \"white\", \"gridwidth\": 2, \"linecolor\": \"white\", \"showbackground\": true, \"ticks\": \"\", \"zerolinecolor\": \"white\"}, \"zaxis\": {\"backgroundcolor\": \"#E5ECF6\", \"gridcolor\": \"white\", \"gridwidth\": 2, \"linecolor\": \"white\", \"showbackground\": true, \"ticks\": \"\", \"zerolinecolor\": \"white\"}}, \"shapedefaults\": {\"line\": {\"color\": \"#2a3f5f\"}}, \"ternary\": {\"aaxis\": {\"gridcolor\": \"white\", \"linecolor\": \"white\", \"ticks\": \"\"}, \"baxis\": {\"gridcolor\": \"white\", \"linecolor\": \"white\", \"ticks\": \"\"}, \"bgcolor\": \"#E5ECF6\", \"caxis\": {\"gridcolor\": \"white\", \"linecolor\": \"white\", \"ticks\": \"\"}}, \"title\": {\"x\": 0.05}, \"xaxis\": {\"automargin\": true, \"gridcolor\": \"white\", \"linecolor\": \"white\", \"ticks\": \"\", \"title\": {\"standoff\": 15}, \"zerolinecolor\": \"white\", \"zerolinewidth\": 2}, \"yaxis\": {\"automargin\": true, \"gridcolor\": \"white\", \"linecolor\": \"white\", \"ticks\": \"\", \"title\": {\"standoff\": 15}, \"zerolinecolor\": \"white\", \"zerolinewidth\": 2}}}, \"xaxis\": {\"anchor\": \"y\", \"domain\": [0.0, 0.15], \"range\": [0, 110], \"title\": {\"text\": \"DATASET\"}}, \"xaxis10\": {\"anchor\": \"y10\", \"domain\": [0.51, 0.66], \"matches\": \"x\", \"showticklabels\": false}, \"xaxis11\": {\"anchor\": \"y11\", \"domain\": [0.6799999999999999, 0.83], \"matches\": \"x\", \"showticklabels\": false}, \"xaxis12\": {\"anchor\": \"y12\", \"domain\": [0.85, 1.0], \"matches\": \"x\", \"showticklabels\": false}, \"xaxis13\": {\"anchor\": \"y13\", \"domain\": [0.0, 0.15], \"matches\": \"x\", \"showticklabels\": false}, \"xaxis14\": {\"anchor\": \"y14\", \"domain\": [0.16999999999999998, 0.31999999999999995], \"matches\": \"x\", \"showticklabels\": false}, \"xaxis15\": {\"anchor\": \"y15\", \"domain\": [0.33999999999999997, 0.49], \"matches\": \"x\", \"showticklabels\": false}, \"xaxis16\": {\"anchor\": \"y16\", \"domain\": [0.51, 0.66], \"matches\": \"x\", \"showticklabels\": false}, \"xaxis17\": {\"anchor\": \"y17\", \"domain\": [0.6799999999999999, 0.83], \"matches\": \"x\", \"showticklabels\": false}, \"xaxis18\": {\"anchor\": \"y18\", \"domain\": [0.85, 1.0], \"matches\": \"x\", \"showticklabels\": false}, \"xaxis2\": {\"anchor\": \"y2\", \"domain\": [0.16999999999999998, 0.31999999999999995], \"matches\": \"x\", \"range\": [0, 110], \"title\": {\"text\": \"DATASET\"}}, \"xaxis3\": {\"anchor\": \"y3\", \"domain\": [0.33999999999999997, 0.49], \"matches\": \"x\", \"range\": [0, 110], \"title\": {\"text\": \"DATASET\"}}, \"xaxis4\": {\"anchor\": \"y4\", \"domain\": [0.51, 0.66], \"matches\": \"x\", \"range\": [0, 110], \"title\": {\"text\": \"DATASET\"}}, \"xaxis5\": {\"anchor\": \"y5\", \"domain\": [0.6799999999999999, 0.83], \"matches\": \"x\", \"range\": [0, 110], \"title\": {\"text\": \"DATASET\"}}, \"xaxis6\": {\"anchor\": \"y6\", \"domain\": [0.85, 1.0], \"matches\": \"x\", \"range\": [0, 110], \"title\": {\"text\": \"DATASET\"}}, \"xaxis7\": {\"anchor\": \"y7\", \"domain\": [0.0, 0.15], \"matches\": \"x\", \"showticklabels\": false}, \"xaxis8\": {\"anchor\": \"y8\", \"domain\": [0.16999999999999998, 0.31999999999999995], \"matches\": \"x\", \"showticklabels\": false}, \"xaxis9\": {\"anchor\": \"y9\", \"domain\": [0.33999999999999997, 0.49], \"matches\": \"x\", \"showticklabels\": false}, \"yaxis\": {\"anchor\": \"x\", \"domain\": [0.0, 0.2866666666666666], \"range\": [-10, 200], \"title\": {\"text\": \"value\"}}, \"yaxis10\": {\"anchor\": \"x10\", \"domain\": [0.35666666666666663, 0.6433333333333333], \"matches\": \"y\", \"showticklabels\": false}, \"yaxis11\": {\"anchor\": \"x11\", \"domain\": [0.35666666666666663, 0.6433333333333333], \"matches\": \"y\", \"showticklabels\": false}, \"yaxis12\": {\"anchor\": \"x12\", \"domain\": [0.35666666666666663, 0.6433333333333333], \"matches\": \"y\", \"showticklabels\": false}, \"yaxis13\": {\"anchor\": \"x13\", \"domain\": [0.7133333333333333, 0.9999999999999999], \"matches\": \"y\", \"range\": [-10, 200], \"title\": {\"text\": \"value\"}}, \"yaxis14\": {\"anchor\": \"x14\", \"domain\": [0.7133333333333333, 0.9999999999999999], \"matches\": \"y\", \"showticklabels\": false}, \"yaxis15\": {\"anchor\": \"x15\", \"domain\": [0.7133333333333333, 0.9999999999999999], \"matches\": \"y\", \"showticklabels\": false}, \"yaxis16\": {\"anchor\": \"x16\", \"domain\": [0.7133333333333333, 0.9999999999999999], \"matches\": \"y\", \"showticklabels\": false}, \"yaxis17\": {\"anchor\": \"x17\", \"domain\": [0.7133333333333333, 0.9999999999999999], \"matches\": \"y\", \"showticklabels\": false}, \"yaxis18\": {\"anchor\": \"x18\", \"domain\": [0.7133333333333333, 0.9999999999999999], \"matches\": \"y\", \"showticklabels\": false}, \"yaxis2\": {\"anchor\": \"x2\", \"domain\": [0.0, 0.2866666666666666], \"matches\": \"y\", \"showticklabels\": false}, \"yaxis3\": {\"anchor\": \"x3\", \"domain\": [0.0, 0.2866666666666666], \"matches\": \"y\", \"showticklabels\": false}, \"yaxis4\": {\"anchor\": \"x4\", \"domain\": [0.0, 0.2866666666666666], \"matches\": \"y\", \"showticklabels\": false}, \"yaxis5\": {\"anchor\": \"x5\", \"domain\": [0.0, 0.2866666666666666], \"matches\": \"y\", \"showticklabels\": false}, \"yaxis6\": {\"anchor\": \"x6\", \"domain\": [0.0, 0.2866666666666666], \"matches\": \"y\", \"showticklabels\": false}, \"yaxis7\": {\"anchor\": \"x7\", \"domain\": [0.35666666666666663, 0.6433333333333333], \"matches\": \"y\", \"range\": [-10, 200], \"title\": {\"text\": \"value\"}}, \"yaxis8\": {\"anchor\": \"x8\", \"domain\": [0.35666666666666663, 0.6433333333333333], \"matches\": \"y\", \"showticklabels\": false}, \"yaxis9\": {\"anchor\": \"x9\", \"domain\": [0.35666666666666663, 0.6433333333333333], \"matches\": \"y\", \"showticklabels\": false}},                        {\"responsive\": true}                    ).then(function(){\n",
       "                            \n",
       "var gd = document.getElementById('0d0003eb-94cb-4a28-b187-d971334066f6');\n",
       "var x = new MutationObserver(function (mutations, observer) {{\n",
       "        var display = window.getComputedStyle(gd).display;\n",
       "        if (!display || display === 'none') {{\n",
       "            console.log([gd, 'removed!']);\n",
       "            Plotly.purge(gd);\n",
       "            observer.disconnect();\n",
       "        }}\n",
       "}});\n",
       "\n",
       "// Listen for the removal of the full notebook cells\n",
       "var notebookContainer = gd.closest('#notebook-container');\n",
       "if (notebookContainer) {{\n",
       "    x.observe(notebookContainer, {childList: true});\n",
       "}}\n",
       "\n",
       "// Listen for the clearing of the current output cell\n",
       "var outputEl = gd.closest('.output');\n",
       "if (outputEl) {{\n",
       "    x.observe(outputEl, {childList: true});\n",
       "}}\n",
       "\n",
       "                        })                };                });            </script>        </div>"
      ]
     },
     "metadata": {},
     "output_type": "display_data"
    }
   ],
   "source": [
    "fig = px.line(INSsummstats.sort_values(by=['DATASET'], ascending=[True]), x='DATASET', y=['MIN_BAM_DP', 'MED_BAM_DP', 'MAX_BAM_DP'], facet_col='TYPE', facet_col_wrap=6, range_y=(-10, 200), range_x=(0, 110), color_discrete_sequence=px.colors.qualitative.Vivid)\n",
    "fig"
   ]
  },
  {
   "cell_type": "markdown",
   "id": "eec7cf82-1845-4c24-a51c-659d2ae51813",
   "metadata": {},
   "source": [
    "#### DEL only"
   ]
  },
  {
   "cell_type": "code",
   "execution_count": 41,
   "id": "da2dde8b-bb3a-4914-a43e-a2d9549b2689",
   "metadata": {},
   "outputs": [
    {
     "data": {
      "application/vnd.plotly.v1+json": {
       "config": {
        "plotlyServerURL": "https://plot.ly"
       },
       "data": [
        {
         "hovertemplate": "variable=MIN_BAM_DP<br>TYPE=inhA_promoter<br>DATASET=%{x}<br>value=%{y}<extra></extra>",
         "legendgroup": "MIN_BAM_DP",
         "line": {
          "color": "rgb(229, 134, 6)",
          "dash": "solid"
         },
         "mode": "lines",
         "name": "MIN_BAM_DP",
         "orientation": "v",
         "showlegend": true,
         "type": "scatter",
         "x": [
          5,
          10,
          15,
          20,
          30,
          40,
          50,
          60,
          70,
          80,
          90,
          100
         ],
         "xaxis": "x13",
         "y": [
          4,
          7,
          13,
          15,
          24,
          31,
          50,
          63,
          74,
          81,
          91,
          99
         ],
         "yaxis": "y13"
        },
        {
         "hovertemplate": "variable=MIN_BAM_DP<br>TYPE=gyrB<br>DATASET=%{x}<br>value=%{y}<extra></extra>",
         "legendgroup": "MIN_BAM_DP",
         "line": {
          "color": "rgb(229, 134, 6)",
          "dash": "solid"
         },
         "mode": "lines",
         "name": "MIN_BAM_DP",
         "orientation": "v",
         "showlegend": false,
         "type": "scatter",
         "x": [
          5,
          10,
          15,
          20,
          30,
          40,
          50,
          60,
          70,
          80,
          90,
          100
         ],
         "xaxis": "x14",
         "y": [
          0,
          0,
          0,
          0,
          0,
          0,
          0,
          0,
          0,
          0,
          0,
          0
         ],
         "yaxis": "y14"
        },
        {
         "hovertemplate": "variable=MIN_BAM_DP<br>TYPE=gyrA<br>DATASET=%{x}<br>value=%{y}<extra></extra>",
         "legendgroup": "MIN_BAM_DP",
         "line": {
          "color": "rgb(229, 134, 6)",
          "dash": "solid"
         },
         "mode": "lines",
         "name": "MIN_BAM_DP",
         "orientation": "v",
         "showlegend": false,
         "type": "scatter",
         "x": [
          5,
          10,
          15,
          20,
          30,
          40,
          50,
          60,
          70,
          80,
          90,
          100
         ],
         "xaxis": "x15",
         "y": [
          0,
          0,
          0,
          0,
          0,
          0,
          0,
          0,
          0,
          0,
          0,
          0
         ],
         "yaxis": "y15"
        },
        {
         "hovertemplate": "variable=MIN_BAM_DP<br>TYPE=rpoB<br>DATASET=%{x}<br>value=%{y}<extra></extra>",
         "legendgroup": "MIN_BAM_DP",
         "line": {
          "color": "rgb(229, 134, 6)",
          "dash": "solid"
         },
         "mode": "lines",
         "name": "MIN_BAM_DP",
         "orientation": "v",
         "showlegend": false,
         "type": "scatter",
         "x": [
          5,
          10,
          15,
          20,
          30,
          40,
          50,
          60,
          70,
          80,
          90,
          100
         ],
         "xaxis": "x16",
         "y": [
          0,
          0,
          0,
          0,
          0,
          0,
          0,
          0,
          0,
          0,
          0,
          0
         ],
         "yaxis": "y16"
        },
        {
         "hovertemplate": "variable=MIN_BAM_DP<br>TYPE=rpsL<br>DATASET=%{x}<br>value=%{y}<extra></extra>",
         "legendgroup": "MIN_BAM_DP",
         "line": {
          "color": "rgb(229, 134, 6)",
          "dash": "solid"
         },
         "mode": "lines",
         "name": "MIN_BAM_DP",
         "orientation": "v",
         "showlegend": false,
         "type": "scatter",
         "x": [
          5,
          10,
          15,
          20,
          30,
          40,
          50,
          60,
          70,
          80,
          90,
          100
         ],
         "xaxis": "x17",
         "y": [
          6,
          8,
          12,
          17,
          23,
          33,
          38,
          44,
          52,
          58,
          61,
          74
         ],
         "yaxis": "y17"
        },
        {
         "hovertemplate": "variable=MIN_BAM_DP<br>TYPE=rrs<br>DATASET=%{x}<br>value=%{y}<extra></extra>",
         "legendgroup": "MIN_BAM_DP",
         "line": {
          "color": "rgb(229, 134, 6)",
          "dash": "solid"
         },
         "mode": "lines",
         "name": "MIN_BAM_DP",
         "orientation": "v",
         "showlegend": false,
         "type": "scatter",
         "x": [
          5,
          10,
          15,
          20,
          30,
          40,
          50,
          60,
          70,
          80,
          90,
          100
         ],
         "xaxis": "x18",
         "y": [
          0,
          0,
          0,
          0,
          0,
          0,
          0,
          0,
          0,
          0,
          0,
          0
         ],
         "yaxis": "y18"
        },
        {
         "hovertemplate": "variable=MIN_BAM_DP<br>TYPE=fabG1<br>DATASET=%{x}<br>value=%{y}<extra></extra>",
         "legendgroup": "MIN_BAM_DP",
         "line": {
          "color": "rgb(229, 134, 6)",
          "dash": "solid"
         },
         "mode": "lines",
         "name": "MIN_BAM_DP",
         "orientation": "v",
         "showlegend": false,
         "type": "scatter",
         "x": [
          5,
          10,
          15,
          20,
          30,
          40,
          50,
          60,
          70,
          80,
          90,
          100
         ],
         "xaxis": "x7",
         "y": [
          0,
          0,
          0,
          0,
          0,
          0,
          0,
          0,
          0,
          0,
          0,
          0
         ],
         "yaxis": "y7"
        },
        {
         "hovertemplate": "variable=MIN_BAM_DP<br>TYPE=inhA<br>DATASET=%{x}<br>value=%{y}<extra></extra>",
         "legendgroup": "MIN_BAM_DP",
         "line": {
          "color": "rgb(229, 134, 6)",
          "dash": "solid"
         },
         "mode": "lines",
         "name": "MIN_BAM_DP",
         "orientation": "v",
         "showlegend": false,
         "type": "scatter",
         "x": [
          5,
          10,
          15,
          20,
          30,
          40,
          50,
          60,
          70,
          80,
          90,
          100
         ],
         "xaxis": "x8",
         "y": [
          0,
          0,
          0,
          0,
          0,
          0,
          0,
          0,
          0,
          0,
          0,
          0
         ],
         "yaxis": "y8"
        },
        {
         "hovertemplate": "variable=MIN_BAM_DP<br>TYPE=pncA<br>DATASET=%{x}<br>value=%{y}<extra></extra>",
         "legendgroup": "MIN_BAM_DP",
         "line": {
          "color": "rgb(229, 134, 6)",
          "dash": "solid"
         },
         "mode": "lines",
         "name": "MIN_BAM_DP",
         "orientation": "v",
         "showlegend": false,
         "type": "scatter",
         "x": [
          5,
          10,
          15,
          20,
          30,
          40,
          50,
          60,
          70,
          80,
          90,
          100
         ],
         "xaxis": "x9",
         "y": [
          0,
          0,
          0,
          0,
          0,
          0,
          0,
          0,
          0,
          0,
          0,
          0
         ],
         "yaxis": "y9"
        },
        {
         "hovertemplate": "variable=MIN_BAM_DP<br>TYPE=katG<br>DATASET=%{x}<br>value=%{y}<extra></extra>",
         "legendgroup": "MIN_BAM_DP",
         "line": {
          "color": "rgb(229, 134, 6)",
          "dash": "solid"
         },
         "mode": "lines",
         "name": "MIN_BAM_DP",
         "orientation": "v",
         "showlegend": false,
         "type": "scatter",
         "x": [
          5,
          10,
          15,
          20,
          30,
          40,
          50,
          60,
          70,
          80,
          90,
          100
         ],
         "xaxis": "x10",
         "y": [
          0,
          0,
          0,
          0,
          0,
          0,
          0,
          0,
          0,
          0,
          0,
          0
         ],
         "yaxis": "y10"
        },
        {
         "hovertemplate": "variable=MIN_BAM_DP<br>TYPE=eis<br>DATASET=%{x}<br>value=%{y}<extra></extra>",
         "legendgroup": "MIN_BAM_DP",
         "line": {
          "color": "rgb(229, 134, 6)",
          "dash": "solid"
         },
         "mode": "lines",
         "name": "MIN_BAM_DP",
         "orientation": "v",
         "showlegend": false,
         "type": "scatter",
         "x": [
          5,
          10,
          15,
          20,
          30,
          40,
          50,
          60,
          70,
          80,
          90,
          100
         ],
         "xaxis": "x11",
         "y": [
          0,
          0,
          0,
          0,
          0,
          0,
          0,
          0,
          0,
          0,
          0,
          0
         ],
         "yaxis": "y11"
        },
        {
         "hovertemplate": "variable=MIN_BAM_DP<br>TYPE=ahpC_promoter<br>DATASET=%{x}<br>value=%{y}<extra></extra>",
         "legendgroup": "MIN_BAM_DP",
         "line": {
          "color": "rgb(229, 134, 6)",
          "dash": "solid"
         },
         "mode": "lines",
         "name": "MIN_BAM_DP",
         "orientation": "v",
         "showlegend": false,
         "type": "scatter",
         "x": [
          5,
          10,
          15,
          20,
          30,
          40,
          50,
          60,
          70,
          80,
          90,
          100
         ],
         "xaxis": "x12",
         "y": [
          4,
          7,
          10,
          15,
          25,
          28,
          35,
          43,
          54,
          65,
          74,
          81
         ],
         "yaxis": "y12"
        },
        {
         "hovertemplate": "variable=MIN_BAM_DP<br>TYPE=ahpC<br>DATASET=%{x}<br>value=%{y}<extra></extra>",
         "legendgroup": "MIN_BAM_DP",
         "line": {
          "color": "rgb(229, 134, 6)",
          "dash": "solid"
         },
         "mode": "lines",
         "name": "MIN_BAM_DP",
         "orientation": "v",
         "showlegend": false,
         "type": "scatter",
         "x": [
          5,
          10,
          15,
          20,
          30,
          40,
          50,
          60,
          70,
          80,
          90,
          100
         ],
         "xaxis": "x",
         "y": [
          0,
          0,
          0,
          0,
          0,
          0,
          0,
          0,
          0,
          0,
          0,
          0
         ],
         "yaxis": "y"
        },
        {
         "hovertemplate": "variable=MIN_BAM_DP<br>TYPE=embC<br>DATASET=%{x}<br>value=%{y}<extra></extra>",
         "legendgroup": "MIN_BAM_DP",
         "line": {
          "color": "rgb(229, 134, 6)",
          "dash": "solid"
         },
         "mode": "lines",
         "name": "MIN_BAM_DP",
         "orientation": "v",
         "showlegend": false,
         "type": "scatter",
         "x": [
          5,
          10,
          15,
          20,
          30,
          40,
          50,
          60,
          70,
          80,
          90,
          100
         ],
         "xaxis": "x2",
         "y": [
          0,
          0,
          0,
          0,
          0,
          0,
          0,
          0,
          0,
          0,
          0,
          0
         ],
         "yaxis": "y2"
        },
        {
         "hovertemplate": "variable=MIN_BAM_DP<br>TYPE=embA<br>DATASET=%{x}<br>value=%{y}<extra></extra>",
         "legendgroup": "MIN_BAM_DP",
         "line": {
          "color": "rgb(229, 134, 6)",
          "dash": "solid"
         },
         "mode": "lines",
         "name": "MIN_BAM_DP",
         "orientation": "v",
         "showlegend": false,
         "type": "scatter",
         "x": [
          5,
          10,
          15,
          20,
          30,
          40,
          50,
          60,
          70,
          80,
          90,
          100
         ],
         "xaxis": "x3",
         "y": [
          0,
          0,
          0,
          0,
          0,
          0,
          0,
          0,
          0,
          0,
          0,
          0
         ],
         "yaxis": "y3"
        },
        {
         "hovertemplate": "variable=MIN_BAM_DP<br>TYPE=embB<br>DATASET=%{x}<br>value=%{y}<extra></extra>",
         "legendgroup": "MIN_BAM_DP",
         "line": {
          "color": "rgb(229, 134, 6)",
          "dash": "solid"
         },
         "mode": "lines",
         "name": "MIN_BAM_DP",
         "orientation": "v",
         "showlegend": false,
         "type": "scatter",
         "x": [
          5,
          10,
          15,
          20,
          30,
          40,
          50,
          60,
          70,
          80,
          90,
          100
         ],
         "xaxis": "x4",
         "y": [
          0,
          0,
          0,
          0,
          0,
          0,
          0,
          0,
          0,
          0,
          0,
          0
         ],
         "yaxis": "y4"
        },
        {
         "hovertemplate": "variable=MIN_BAM_DP<br>TYPE=gidB<br>DATASET=%{x}<br>value=%{y}<extra></extra>",
         "legendgroup": "MIN_BAM_DP",
         "line": {
          "color": "rgb(229, 134, 6)",
          "dash": "solid"
         },
         "mode": "lines",
         "name": "MIN_BAM_DP",
         "orientation": "v",
         "showlegend": false,
         "type": "scatter",
         "x": [
          5,
          10,
          15,
          20,
          30,
          40,
          50,
          60,
          70,
          80,
          90,
          100
         ],
         "xaxis": "x5",
         "y": [
          0,
          0,
          0,
          0,
          0,
          0,
          0,
          0,
          0,
          0,
          0,
          0
         ],
         "yaxis": "y5"
        },
        {
         "hovertemplate": "variable=MIN_BAM_DP<br>TYPE=eis_promoter<br>DATASET=%{x}<br>value=%{y}<extra></extra>",
         "legendgroup": "MIN_BAM_DP",
         "line": {
          "color": "rgb(229, 134, 6)",
          "dash": "solid"
         },
         "mode": "lines",
         "name": "MIN_BAM_DP",
         "orientation": "v",
         "showlegend": false,
         "type": "scatter",
         "x": [
          5,
          10,
          15,
          20,
          30,
          40,
          50,
          60,
          70,
          80,
          90,
          100
         ],
         "xaxis": "x6",
         "y": [
          2,
          7,
          9,
          17,
          23,
          35,
          45,
          51,
          65,
          79,
          88,
          101
         ],
         "yaxis": "y6"
        },
        {
         "hovertemplate": "variable=MED_BAM_DP<br>TYPE=inhA_promoter<br>DATASET=%{x}<br>value=%{y}<extra></extra>",
         "legendgroup": "MED_BAM_DP",
         "line": {
          "color": "rgb(93, 105, 177)",
          "dash": "solid"
         },
         "mode": "lines",
         "name": "MED_BAM_DP",
         "orientation": "v",
         "showlegend": true,
         "type": "scatter",
         "x": [
          5,
          10,
          15,
          20,
          30,
          40,
          50,
          60,
          70,
          80,
          90,
          100
         ],
         "xaxis": "x13",
         "y": [
          5.5,
          11,
          15,
          19,
          29,
          38,
          62,
          74,
          83.5,
          91,
          102,
          109
         ],
         "yaxis": "y13"
        },
        {
         "hovertemplate": "variable=MED_BAM_DP<br>TYPE=gyrB<br>DATASET=%{x}<br>value=%{y}<extra></extra>",
         "legendgroup": "MED_BAM_DP",
         "line": {
          "color": "rgb(93, 105, 177)",
          "dash": "solid"
         },
         "mode": "lines",
         "name": "MED_BAM_DP",
         "orientation": "v",
         "showlegend": false,
         "type": "scatter",
         "x": [
          5,
          10,
          15,
          20,
          30,
          40,
          50,
          60,
          70,
          80,
          90,
          100
         ],
         "xaxis": "x14",
         "y": [
          5,
          10,
          14,
          19,
          29,
          40,
          50,
          57,
          70,
          78,
          88,
          97
         ],
         "yaxis": "y14"
        },
        {
         "hovertemplate": "variable=MED_BAM_DP<br>TYPE=gyrA<br>DATASET=%{x}<br>value=%{y}<extra></extra>",
         "legendgroup": "MED_BAM_DP",
         "line": {
          "color": "rgb(93, 105, 177)",
          "dash": "solid"
         },
         "mode": "lines",
         "name": "MED_BAM_DP",
         "orientation": "v",
         "showlegend": false,
         "type": "scatter",
         "x": [
          5,
          10,
          15,
          20,
          30,
          40,
          50,
          60,
          70,
          80,
          90,
          100
         ],
         "xaxis": "x15",
         "y": [
          4,
          8,
          13,
          17,
          27,
          38,
          48,
          58,
          70,
          77,
          89,
          96
         ],
         "yaxis": "y15"
        },
        {
         "hovertemplate": "variable=MED_BAM_DP<br>TYPE=rpoB<br>DATASET=%{x}<br>value=%{y}<extra></extra>",
         "legendgroup": "MED_BAM_DP",
         "line": {
          "color": "rgb(93, 105, 177)",
          "dash": "solid"
         },
         "mode": "lines",
         "name": "MED_BAM_DP",
         "orientation": "v",
         "showlegend": false,
         "type": "scatter",
         "x": [
          5,
          10,
          15,
          20,
          30,
          40,
          50,
          60,
          70,
          80,
          90,
          100
         ],
         "xaxis": "x16",
         "y": [
          3,
          8,
          13,
          18,
          29,
          38,
          49,
          59,
          66,
          76,
          84,
          94
         ],
         "yaxis": "y16"
        },
        {
         "hovertemplate": "variable=MED_BAM_DP<br>TYPE=rpsL<br>DATASET=%{x}<br>value=%{y}<extra></extra>",
         "legendgroup": "MED_BAM_DP",
         "line": {
          "color": "rgb(93, 105, 177)",
          "dash": "solid"
         },
         "mode": "lines",
         "name": "MED_BAM_DP",
         "orientation": "v",
         "showlegend": false,
         "type": "scatter",
         "x": [
          5,
          10,
          15,
          20,
          30,
          40,
          50,
          60,
          70,
          80,
          90,
          100
         ],
         "xaxis": "x17",
         "y": [
          10,
          14,
          18,
          23,
          36,
          42,
          45,
          54,
          64,
          73,
          78,
          90
         ],
         "yaxis": "y17"
        },
        {
         "hovertemplate": "variable=MED_BAM_DP<br>TYPE=rrs<br>DATASET=%{x}<br>value=%{y}<extra></extra>",
         "legendgroup": "MED_BAM_DP",
         "line": {
          "color": "rgb(93, 105, 177)",
          "dash": "solid"
         },
         "mode": "lines",
         "name": "MED_BAM_DP",
         "orientation": "v",
         "showlegend": false,
         "type": "scatter",
         "x": [
          5,
          10,
          15,
          20,
          30,
          40,
          50,
          60,
          70,
          80,
          90,
          100
         ],
         "xaxis": "x18",
         "y": [
          4,
          8,
          13,
          19,
          29,
          40,
          51,
          60,
          70,
          86,
          96,
          107
         ],
         "yaxis": "y18"
        },
        {
         "hovertemplate": "variable=MED_BAM_DP<br>TYPE=fabG1<br>DATASET=%{x}<br>value=%{y}<extra></extra>",
         "legendgroup": "MED_BAM_DP",
         "line": {
          "color": "rgb(93, 105, 177)",
          "dash": "solid"
         },
         "mode": "lines",
         "name": "MED_BAM_DP",
         "orientation": "v",
         "showlegend": false,
         "type": "scatter",
         "x": [
          5,
          10,
          15,
          20,
          30,
          40,
          50,
          60,
          70,
          80,
          90,
          100
         ],
         "xaxis": "x7",
         "y": [
          4,
          7,
          11,
          19,
          26,
          38,
          46,
          60,
          69,
          80,
          92,
          101
         ],
         "yaxis": "y7"
        },
        {
         "hovertemplate": "variable=MED_BAM_DP<br>TYPE=inhA<br>DATASET=%{x}<br>value=%{y}<extra></extra>",
         "legendgroup": "MED_BAM_DP",
         "line": {
          "color": "rgb(93, 105, 177)",
          "dash": "solid"
         },
         "mode": "lines",
         "name": "MED_BAM_DP",
         "orientation": "v",
         "showlegend": false,
         "type": "scatter",
         "x": [
          5,
          10,
          15,
          20,
          30,
          40,
          50,
          60,
          70,
          80,
          90,
          100
         ],
         "xaxis": "x8",
         "y": [
          6,
          10,
          15,
          21,
          29,
          40.5,
          45,
          56,
          65,
          76,
          84,
          98
         ],
         "yaxis": "y8"
        },
        {
         "hovertemplate": "variable=MED_BAM_DP<br>TYPE=pncA<br>DATASET=%{x}<br>value=%{y}<extra></extra>",
         "legendgroup": "MED_BAM_DP",
         "line": {
          "color": "rgb(93, 105, 177)",
          "dash": "solid"
         },
         "mode": "lines",
         "name": "MED_BAM_DP",
         "orientation": "v",
         "showlegend": false,
         "type": "scatter",
         "x": [
          5,
          10,
          15,
          20,
          30,
          40,
          50,
          60,
          70,
          80,
          90,
          100
         ],
         "xaxis": "x9",
         "y": [
          3,
          8,
          12,
          17,
          27,
          40,
          50,
          61,
          68,
          80,
          90,
          101
         ],
         "yaxis": "y9"
        },
        {
         "hovertemplate": "variable=MED_BAM_DP<br>TYPE=katG<br>DATASET=%{x}<br>value=%{y}<extra></extra>",
         "legendgroup": "MED_BAM_DP",
         "line": {
          "color": "rgb(93, 105, 177)",
          "dash": "solid"
         },
         "mode": "lines",
         "name": "MED_BAM_DP",
         "orientation": "v",
         "showlegend": false,
         "type": "scatter",
         "x": [
          5,
          10,
          15,
          20,
          30,
          40,
          50,
          60,
          70,
          80,
          90,
          100
         ],
         "xaxis": "x10",
         "y": [
          5,
          11,
          19,
          22,
          33,
          45,
          53,
          64,
          73,
          82,
          91,
          101
         ],
         "yaxis": "y10"
        },
        {
         "hovertemplate": "variable=MED_BAM_DP<br>TYPE=eis<br>DATASET=%{x}<br>value=%{y}<extra></extra>",
         "legendgroup": "MED_BAM_DP",
         "line": {
          "color": "rgb(93, 105, 177)",
          "dash": "solid"
         },
         "mode": "lines",
         "name": "MED_BAM_DP",
         "orientation": "v",
         "showlegend": false,
         "type": "scatter",
         "x": [
          5,
          10,
          15,
          20,
          30,
          40,
          50,
          60,
          70,
          80,
          90,
          100
         ],
         "xaxis": "x11",
         "y": [
          3,
          7,
          13,
          17,
          27,
          39,
          50,
          60,
          68,
          77,
          83,
          91
         ],
         "yaxis": "y11"
        },
        {
         "hovertemplate": "variable=MED_BAM_DP<br>TYPE=ahpC_promoter<br>DATASET=%{x}<br>value=%{y}<extra></extra>",
         "legendgroup": "MED_BAM_DP",
         "line": {
          "color": "rgb(93, 105, 177)",
          "dash": "solid"
         },
         "mode": "lines",
         "name": "MED_BAM_DP",
         "orientation": "v",
         "showlegend": false,
         "type": "scatter",
         "x": [
          5,
          10,
          15,
          20,
          30,
          40,
          50,
          60,
          70,
          80,
          90,
          100
         ],
         "xaxis": "x12",
         "y": [
          6,
          9,
          12,
          17,
          28,
          34,
          45,
          52,
          62,
          74,
          84,
          92
         ],
         "yaxis": "y12"
        },
        {
         "hovertemplate": "variable=MED_BAM_DP<br>TYPE=ahpC<br>DATASET=%{x}<br>value=%{y}<extra></extra>",
         "legendgroup": "MED_BAM_DP",
         "line": {
          "color": "rgb(93, 105, 177)",
          "dash": "solid"
         },
         "mode": "lines",
         "name": "MED_BAM_DP",
         "orientation": "v",
         "showlegend": false,
         "type": "scatter",
         "x": [
          5,
          10,
          15,
          20,
          30,
          40,
          50,
          60,
          70,
          80,
          90,
          100
         ],
         "xaxis": "x",
         "y": [
          5,
          12,
          22,
          28,
          37,
          46,
          62,
          70,
          78,
          88,
          95,
          104
         ],
         "yaxis": "y"
        },
        {
         "hovertemplate": "variable=MED_BAM_DP<br>TYPE=embC<br>DATASET=%{x}<br>value=%{y}<extra></extra>",
         "legendgroup": "MED_BAM_DP",
         "line": {
          "color": "rgb(93, 105, 177)",
          "dash": "solid"
         },
         "mode": "lines",
         "name": "MED_BAM_DP",
         "orientation": "v",
         "showlegend": false,
         "type": "scatter",
         "x": [
          5,
          10,
          15,
          20,
          30,
          40,
          50,
          60,
          70,
          80,
          90,
          100
         ],
         "xaxis": "x2",
         "y": [
          3,
          8,
          13,
          19,
          29,
          41,
          49,
          61,
          72,
          82,
          92,
          99
         ],
         "yaxis": "y2"
        },
        {
         "hovertemplate": "variable=MED_BAM_DP<br>TYPE=embA<br>DATASET=%{x}<br>value=%{y}<extra></extra>",
         "legendgroup": "MED_BAM_DP",
         "line": {
          "color": "rgb(93, 105, 177)",
          "dash": "solid"
         },
         "mode": "lines",
         "name": "MED_BAM_DP",
         "orientation": "v",
         "showlegend": false,
         "type": "scatter",
         "x": [
          5,
          10,
          15,
          20,
          30,
          40,
          50,
          60,
          70,
          80,
          90,
          100
         ],
         "xaxis": "x3",
         "y": [
          5,
          10,
          15,
          20,
          30,
          41,
          49,
          58,
          69,
          80,
          88,
          100
         ],
         "yaxis": "y3"
        },
        {
         "hovertemplate": "variable=MED_BAM_DP<br>TYPE=embB<br>DATASET=%{x}<br>value=%{y}<extra></extra>",
         "legendgroup": "MED_BAM_DP",
         "line": {
          "color": "rgb(93, 105, 177)",
          "dash": "solid"
         },
         "mode": "lines",
         "name": "MED_BAM_DP",
         "orientation": "v",
         "showlegend": false,
         "type": "scatter",
         "x": [
          5,
          10,
          15,
          20,
          30,
          40,
          50,
          60,
          70,
          80,
          90,
          100
         ],
         "xaxis": "x4",
         "y": [
          5,
          10,
          14,
          19,
          28,
          36,
          45,
          55,
          64,
          76,
          85,
          93
         ],
         "yaxis": "y4"
        },
        {
         "hovertemplate": "variable=MED_BAM_DP<br>TYPE=gidB<br>DATASET=%{x}<br>value=%{y}<extra></extra>",
         "legendgroup": "MED_BAM_DP",
         "line": {
          "color": "rgb(93, 105, 177)",
          "dash": "solid"
         },
         "mode": "lines",
         "name": "MED_BAM_DP",
         "orientation": "v",
         "showlegend": false,
         "type": "scatter",
         "x": [
          5,
          10,
          15,
          20,
          30,
          40,
          50,
          60,
          70,
          80,
          90,
          100
         ],
         "xaxis": "x5",
         "y": [
          4,
          9,
          16,
          19,
          27,
          40,
          52,
          63,
          75,
          82,
          91,
          100
         ],
         "yaxis": "y5"
        },
        {
         "hovertemplate": "variable=MED_BAM_DP<br>TYPE=eis_promoter<br>DATASET=%{x}<br>value=%{y}<extra></extra>",
         "legendgroup": "MED_BAM_DP",
         "line": {
          "color": "rgb(93, 105, 177)",
          "dash": "solid"
         },
         "mode": "lines",
         "name": "MED_BAM_DP",
         "orientation": "v",
         "showlegend": false,
         "type": "scatter",
         "x": [
          5,
          10,
          15,
          20,
          30,
          40,
          50,
          60,
          70,
          80,
          90,
          100
         ],
         "xaxis": "x6",
         "y": [
          6,
          12,
          19,
          25,
          35,
          46,
          62,
          71,
          90,
          99,
          107,
          117
         ],
         "yaxis": "y6"
        },
        {
         "hovertemplate": "variable=MAX_BAM_DP<br>TYPE=inhA_promoter<br>DATASET=%{x}<br>value=%{y}<extra></extra>",
         "legendgroup": "MAX_BAM_DP",
         "line": {
          "color": "rgb(82, 188, 163)",
          "dash": "solid"
         },
         "mode": "lines",
         "name": "MAX_BAM_DP",
         "orientation": "v",
         "showlegend": true,
         "type": "scatter",
         "x": [
          5,
          10,
          15,
          20,
          30,
          40,
          50,
          60,
          70,
          80,
          90,
          100
         ],
         "xaxis": "x13",
         "y": [
          7,
          13,
          19,
          22,
          32,
          43,
          69,
          81,
          89,
          96,
          109,
          114
         ],
         "yaxis": "y13"
        },
        {
         "hovertemplate": "variable=MAX_BAM_DP<br>TYPE=gyrB<br>DATASET=%{x}<br>value=%{y}<extra></extra>",
         "legendgroup": "MAX_BAM_DP",
         "line": {
          "color": "rgb(82, 188, 163)",
          "dash": "solid"
         },
         "mode": "lines",
         "name": "MAX_BAM_DP",
         "orientation": "v",
         "showlegend": false,
         "type": "scatter",
         "x": [
          5,
          10,
          15,
          20,
          30,
          40,
          50,
          60,
          70,
          80,
          90,
          100
         ],
         "xaxis": "x14",
         "y": [
          15,
          19,
          27,
          33,
          42,
          55,
          65,
          76,
          91,
          98,
          114,
          128
         ],
         "yaxis": "y14"
        },
        {
         "hovertemplate": "variable=MAX_BAM_DP<br>TYPE=gyrA<br>DATASET=%{x}<br>value=%{y}<extra></extra>",
         "legendgroup": "MAX_BAM_DP",
         "line": {
          "color": "rgb(82, 188, 163)",
          "dash": "solid"
         },
         "mode": "lines",
         "name": "MAX_BAM_DP",
         "orientation": "v",
         "showlegend": false,
         "type": "scatter",
         "x": [
          5,
          10,
          15,
          20,
          30,
          40,
          50,
          60,
          70,
          80,
          90,
          100
         ],
         "xaxis": "x15",
         "y": [
          8,
          12,
          22,
          33,
          39,
          59,
          66,
          81,
          90,
          99,
          110,
          122
         ],
         "yaxis": "y15"
        },
        {
         "hovertemplate": "variable=MAX_BAM_DP<br>TYPE=rpoB<br>DATASET=%{x}<br>value=%{y}<extra></extra>",
         "legendgroup": "MAX_BAM_DP",
         "line": {
          "color": "rgb(82, 188, 163)",
          "dash": "solid"
         },
         "mode": "lines",
         "name": "MAX_BAM_DP",
         "orientation": "v",
         "showlegend": false,
         "type": "scatter",
         "x": [
          5,
          10,
          15,
          20,
          30,
          40,
          50,
          60,
          70,
          80,
          90,
          100
         ],
         "xaxis": "x16",
         "y": [
          12,
          19,
          23,
          34,
          41,
          53,
          68,
          74,
          84,
          97,
          110,
          128
         ],
         "yaxis": "y16"
        },
        {
         "hovertemplate": "variable=MAX_BAM_DP<br>TYPE=rpsL<br>DATASET=%{x}<br>value=%{y}<extra></extra>",
         "legendgroup": "MAX_BAM_DP",
         "line": {
          "color": "rgb(82, 188, 163)",
          "dash": "solid"
         },
         "mode": "lines",
         "name": "MAX_BAM_DP",
         "orientation": "v",
         "showlegend": false,
         "type": "scatter",
         "x": [
          5,
          10,
          15,
          20,
          30,
          40,
          50,
          60,
          70,
          80,
          90,
          100
         ],
         "xaxis": "x17",
         "y": [
          14,
          17,
          24,
          29,
          42,
          47,
          55,
          62,
          73,
          87,
          102,
          104
         ],
         "yaxis": "y17"
        },
        {
         "hovertemplate": "variable=MAX_BAM_DP<br>TYPE=rrs<br>DATASET=%{x}<br>value=%{y}<extra></extra>",
         "legendgroup": "MAX_BAM_DP",
         "line": {
          "color": "rgb(82, 188, 163)",
          "dash": "solid"
         },
         "mode": "lines",
         "name": "MAX_BAM_DP",
         "orientation": "v",
         "showlegend": false,
         "type": "scatter",
         "x": [
          5,
          10,
          15,
          20,
          30,
          40,
          50,
          60,
          70,
          80,
          90,
          100
         ],
         "xaxis": "x18",
         "y": [
          9,
          20,
          25,
          28,
          40,
          55,
          65,
          80,
          91,
          109,
          130,
          139
         ],
         "yaxis": "y18"
        },
        {
         "hovertemplate": "variable=MAX_BAM_DP<br>TYPE=fabG1<br>DATASET=%{x}<br>value=%{y}<extra></extra>",
         "legendgroup": "MAX_BAM_DP",
         "line": {
          "color": "rgb(82, 188, 163)",
          "dash": "solid"
         },
         "mode": "lines",
         "name": "MAX_BAM_DP",
         "orientation": "v",
         "showlegend": false,
         "type": "scatter",
         "x": [
          5,
          10,
          15,
          20,
          30,
          40,
          50,
          60,
          70,
          80,
          90,
          100
         ],
         "xaxis": "x7",
         "y": [
          10,
          11,
          19,
          32,
          36,
          49,
          60,
          70,
          80,
          90,
          107,
          121
         ],
         "yaxis": "y7"
        },
        {
         "hovertemplate": "variable=MAX_BAM_DP<br>TYPE=inhA<br>DATASET=%{x}<br>value=%{y}<extra></extra>",
         "legendgroup": "MAX_BAM_DP",
         "line": {
          "color": "rgb(82, 188, 163)",
          "dash": "solid"
         },
         "mode": "lines",
         "name": "MAX_BAM_DP",
         "orientation": "v",
         "showlegend": false,
         "type": "scatter",
         "x": [
          5,
          10,
          15,
          20,
          30,
          40,
          50,
          60,
          70,
          80,
          90,
          100
         ],
         "xaxis": "x8",
         "y": [
          9,
          17,
          26,
          30,
          39,
          51,
          62,
          73,
          82,
          101,
          111,
          119
         ],
         "yaxis": "y8"
        },
        {
         "hovertemplate": "variable=MAX_BAM_DP<br>TYPE=pncA<br>DATASET=%{x}<br>value=%{y}<extra></extra>",
         "legendgroup": "MAX_BAM_DP",
         "line": {
          "color": "rgb(82, 188, 163)",
          "dash": "solid"
         },
         "mode": "lines",
         "name": "MAX_BAM_DP",
         "orientation": "v",
         "showlegend": false,
         "type": "scatter",
         "x": [
          5,
          10,
          15,
          20,
          30,
          40,
          50,
          60,
          70,
          80,
          90,
          100
         ],
         "xaxis": "x9",
         "y": [
          7,
          13,
          19,
          23,
          40,
          57,
          64,
          79,
          82,
          91,
          100,
          112
         ],
         "yaxis": "y9"
        },
        {
         "hovertemplate": "variable=MAX_BAM_DP<br>TYPE=katG<br>DATASET=%{x}<br>value=%{y}<extra></extra>",
         "legendgroup": "MAX_BAM_DP",
         "line": {
          "color": "rgb(82, 188, 163)",
          "dash": "solid"
         },
         "mode": "lines",
         "name": "MAX_BAM_DP",
         "orientation": "v",
         "showlegend": false,
         "type": "scatter",
         "x": [
          5,
          10,
          15,
          20,
          30,
          40,
          50,
          60,
          70,
          80,
          90,
          100
         ],
         "xaxis": "x10",
         "y": [
          17,
          26,
          36,
          40,
          48,
          64,
          71,
          82,
          97,
          107,
          118,
          130
         ],
         "yaxis": "y10"
        },
        {
         "hovertemplate": "variable=MAX_BAM_DP<br>TYPE=eis<br>DATASET=%{x}<br>value=%{y}<extra></extra>",
         "legendgroup": "MAX_BAM_DP",
         "line": {
          "color": "rgb(82, 188, 163)",
          "dash": "solid"
         },
         "mode": "lines",
         "name": "MAX_BAM_DP",
         "orientation": "v",
         "showlegend": false,
         "type": "scatter",
         "x": [
          5,
          10,
          15,
          20,
          30,
          40,
          50,
          60,
          70,
          80,
          90,
          100
         ],
         "xaxis": "x11",
         "y": [
          7,
          14,
          27,
          38,
          45,
          56,
          68,
          77,
          94,
          101,
          113,
          117
         ],
         "yaxis": "y11"
        },
        {
         "hovertemplate": "variable=MAX_BAM_DP<br>TYPE=ahpC_promoter<br>DATASET=%{x}<br>value=%{y}<extra></extra>",
         "legendgroup": "MAX_BAM_DP",
         "line": {
          "color": "rgb(82, 188, 163)",
          "dash": "solid"
         },
         "mode": "lines",
         "name": "MAX_BAM_DP",
         "orientation": "v",
         "showlegend": false,
         "type": "scatter",
         "x": [
          5,
          10,
          15,
          20,
          30,
          40,
          50,
          60,
          70,
          80,
          90,
          100
         ],
         "xaxis": "x12",
         "y": [
          8,
          12,
          15,
          19,
          30,
          39,
          54,
          60,
          68,
          81,
          93,
          103
         ],
         "yaxis": "y12"
        },
        {
         "hovertemplate": "variable=MAX_BAM_DP<br>TYPE=ahpC<br>DATASET=%{x}<br>value=%{y}<extra></extra>",
         "legendgroup": "MAX_BAM_DP",
         "line": {
          "color": "rgb(82, 188, 163)",
          "dash": "solid"
         },
         "mode": "lines",
         "name": "MAX_BAM_DP",
         "orientation": "v",
         "showlegend": false,
         "type": "scatter",
         "x": [
          5,
          10,
          15,
          20,
          30,
          40,
          50,
          60,
          70,
          80,
          90,
          100
         ],
         "xaxis": "x",
         "y": [
          14,
          22,
          31,
          37,
          45,
          61,
          78,
          86,
          100,
          107,
          115,
          130
         ],
         "yaxis": "y"
        },
        {
         "hovertemplate": "variable=MAX_BAM_DP<br>TYPE=embC<br>DATASET=%{x}<br>value=%{y}<extra></extra>",
         "legendgroup": "MAX_BAM_DP",
         "line": {
          "color": "rgb(82, 188, 163)",
          "dash": "solid"
         },
         "mode": "lines",
         "name": "MAX_BAM_DP",
         "orientation": "v",
         "showlegend": false,
         "type": "scatter",
         "x": [
          5,
          10,
          15,
          20,
          30,
          40,
          50,
          60,
          70,
          80,
          90,
          100
         ],
         "xaxis": "x2",
         "y": [
          10,
          25,
          34,
          39,
          64,
          70,
          75,
          91,
          104,
          116,
          128,
          137
         ],
         "yaxis": "y2"
        },
        {
         "hovertemplate": "variable=MAX_BAM_DP<br>TYPE=embA<br>DATASET=%{x}<br>value=%{y}<extra></extra>",
         "legendgroup": "MAX_BAM_DP",
         "line": {
          "color": "rgb(82, 188, 163)",
          "dash": "solid"
         },
         "mode": "lines",
         "name": "MAX_BAM_DP",
         "orientation": "v",
         "showlegend": false,
         "type": "scatter",
         "x": [
          5,
          10,
          15,
          20,
          30,
          40,
          50,
          60,
          70,
          80,
          90,
          100
         ],
         "xaxis": "x3",
         "y": [
          11,
          18,
          28,
          41,
          55,
          61,
          72,
          84,
          98,
          113,
          130,
          139
         ],
         "yaxis": "y3"
        },
        {
         "hovertemplate": "variable=MAX_BAM_DP<br>TYPE=embB<br>DATASET=%{x}<br>value=%{y}<extra></extra>",
         "legendgroup": "MAX_BAM_DP",
         "line": {
          "color": "rgb(82, 188, 163)",
          "dash": "solid"
         },
         "mode": "lines",
         "name": "MAX_BAM_DP",
         "orientation": "v",
         "showlegend": false,
         "type": "scatter",
         "x": [
          5,
          10,
          15,
          20,
          30,
          40,
          50,
          60,
          70,
          80,
          90,
          100
         ],
         "xaxis": "x4",
         "y": [
          14,
          20,
          25,
          31,
          42,
          54,
          68,
          78,
          98,
          105,
          113,
          122
         ],
         "yaxis": "y4"
        },
        {
         "hovertemplate": "variable=MAX_BAM_DP<br>TYPE=gidB<br>DATASET=%{x}<br>value=%{y}<extra></extra>",
         "legendgroup": "MAX_BAM_DP",
         "line": {
          "color": "rgb(82, 188, 163)",
          "dash": "solid"
         },
         "mode": "lines",
         "name": "MAX_BAM_DP",
         "orientation": "v",
         "showlegend": false,
         "type": "scatter",
         "x": [
          5,
          10,
          15,
          20,
          30,
          40,
          50,
          60,
          70,
          80,
          90,
          100
         ],
         "xaxis": "x5",
         "y": [
          12,
          25,
          29,
          34,
          50,
          60,
          71,
          83,
          87,
          99,
          118,
          121
         ],
         "yaxis": "y5"
        },
        {
         "hovertemplate": "variable=MAX_BAM_DP<br>TYPE=eis_promoter<br>DATASET=%{x}<br>value=%{y}<extra></extra>",
         "legendgroup": "MAX_BAM_DP",
         "line": {
          "color": "rgb(82, 188, 163)",
          "dash": "solid"
         },
         "mode": "lines",
         "name": "MAX_BAM_DP",
         "orientation": "v",
         "showlegend": false,
         "type": "scatter",
         "x": [
          5,
          10,
          15,
          20,
          30,
          40,
          50,
          60,
          70,
          80,
          90,
          100
         ],
         "xaxis": "x6",
         "y": [
          9,
          17,
          24,
          30,
          40,
          55,
          75,
          86,
          106,
          118,
          126,
          138
         ],
         "yaxis": "y6"
        }
       ],
       "layout": {
        "annotations": [
         {
          "font": {},
          "showarrow": false,
          "text": "TYPE=ahpC",
          "x": 0.075,
          "xanchor": "center",
          "xref": "paper",
          "y": 0.2866666666666666,
          "yanchor": "bottom",
          "yref": "paper"
         },
         {
          "font": {},
          "showarrow": false,
          "text": "TYPE=embC",
          "x": 0.24499999999999997,
          "xanchor": "center",
          "xref": "paper",
          "y": 0.2866666666666666,
          "yanchor": "bottom",
          "yref": "paper"
         },
         {
          "font": {},
          "showarrow": false,
          "text": "TYPE=embA",
          "x": 0.415,
          "xanchor": "center",
          "xref": "paper",
          "y": 0.2866666666666666,
          "yanchor": "bottom",
          "yref": "paper"
         },
         {
          "font": {},
          "showarrow": false,
          "text": "TYPE=embB",
          "x": 0.585,
          "xanchor": "center",
          "xref": "paper",
          "y": 0.2866666666666666,
          "yanchor": "bottom",
          "yref": "paper"
         },
         {
          "font": {},
          "showarrow": false,
          "text": "TYPE=gidB",
          "x": 0.7549999999999999,
          "xanchor": "center",
          "xref": "paper",
          "y": 0.2866666666666666,
          "yanchor": "bottom",
          "yref": "paper"
         },
         {
          "font": {},
          "showarrow": false,
          "text": "TYPE=eis_promoter",
          "x": 0.925,
          "xanchor": "center",
          "xref": "paper",
          "y": 0.2866666666666666,
          "yanchor": "bottom",
          "yref": "paper"
         },
         {
          "font": {},
          "showarrow": false,
          "text": "TYPE=fabG1",
          "x": 0.075,
          "xanchor": "center",
          "xref": "paper",
          "y": 0.6433333333333333,
          "yanchor": "bottom",
          "yref": "paper"
         },
         {
          "font": {},
          "showarrow": false,
          "text": "TYPE=inhA",
          "x": 0.24499999999999997,
          "xanchor": "center",
          "xref": "paper",
          "y": 0.6433333333333333,
          "yanchor": "bottom",
          "yref": "paper"
         },
         {
          "font": {},
          "showarrow": false,
          "text": "TYPE=pncA",
          "x": 0.415,
          "xanchor": "center",
          "xref": "paper",
          "y": 0.6433333333333333,
          "yanchor": "bottom",
          "yref": "paper"
         },
         {
          "font": {},
          "showarrow": false,
          "text": "TYPE=katG",
          "x": 0.585,
          "xanchor": "center",
          "xref": "paper",
          "y": 0.6433333333333333,
          "yanchor": "bottom",
          "yref": "paper"
         },
         {
          "font": {},
          "showarrow": false,
          "text": "TYPE=eis",
          "x": 0.7549999999999999,
          "xanchor": "center",
          "xref": "paper",
          "y": 0.6433333333333333,
          "yanchor": "bottom",
          "yref": "paper"
         },
         {
          "font": {},
          "showarrow": false,
          "text": "TYPE=ahpC_promoter",
          "x": 0.925,
          "xanchor": "center",
          "xref": "paper",
          "y": 0.6433333333333333,
          "yanchor": "bottom",
          "yref": "paper"
         },
         {
          "font": {},
          "showarrow": false,
          "text": "TYPE=inhA_promoter",
          "x": 0.075,
          "xanchor": "center",
          "xref": "paper",
          "y": 0.9999999999999999,
          "yanchor": "bottom",
          "yref": "paper"
         },
         {
          "font": {},
          "showarrow": false,
          "text": "TYPE=gyrB",
          "x": 0.24499999999999997,
          "xanchor": "center",
          "xref": "paper",
          "y": 0.9999999999999999,
          "yanchor": "bottom",
          "yref": "paper"
         },
         {
          "font": {},
          "showarrow": false,
          "text": "TYPE=gyrA",
          "x": 0.415,
          "xanchor": "center",
          "xref": "paper",
          "y": 0.9999999999999999,
          "yanchor": "bottom",
          "yref": "paper"
         },
         {
          "font": {},
          "showarrow": false,
          "text": "TYPE=rpoB",
          "x": 0.585,
          "xanchor": "center",
          "xref": "paper",
          "y": 0.9999999999999999,
          "yanchor": "bottom",
          "yref": "paper"
         },
         {
          "font": {},
          "showarrow": false,
          "text": "TYPE=rpsL",
          "x": 0.7549999999999999,
          "xanchor": "center",
          "xref": "paper",
          "y": 0.9999999999999999,
          "yanchor": "bottom",
          "yref": "paper"
         },
         {
          "font": {},
          "showarrow": false,
          "text": "TYPE=rrs",
          "x": 0.925,
          "xanchor": "center",
          "xref": "paper",
          "y": 0.9999999999999999,
          "yanchor": "bottom",
          "yref": "paper"
         }
        ],
        "autosize": true,
        "legend": {
         "title": {
          "text": "variable"
         },
         "tracegroupgap": 0
        },
        "margin": {
         "t": 60
        },
        "template": {
         "data": {
          "bar": [
           {
            "error_x": {
             "color": "#2a3f5f"
            },
            "error_y": {
             "color": "#2a3f5f"
            },
            "marker": {
             "line": {
              "color": "#E5ECF6",
              "width": 0.5
             }
            },
            "type": "bar"
           }
          ],
          "barpolar": [
           {
            "marker": {
             "line": {
              "color": "#E5ECF6",
              "width": 0.5
             }
            },
            "type": "barpolar"
           }
          ],
          "carpet": [
           {
            "aaxis": {
             "endlinecolor": "#2a3f5f",
             "gridcolor": "white",
             "linecolor": "white",
             "minorgridcolor": "white",
             "startlinecolor": "#2a3f5f"
            },
            "baxis": {
             "endlinecolor": "#2a3f5f",
             "gridcolor": "white",
             "linecolor": "white",
             "minorgridcolor": "white",
             "startlinecolor": "#2a3f5f"
            },
            "type": "carpet"
           }
          ],
          "choropleth": [
           {
            "colorbar": {
             "outlinewidth": 0,
             "ticks": ""
            },
            "type": "choropleth"
           }
          ],
          "contour": [
           {
            "colorbar": {
             "outlinewidth": 0,
             "ticks": ""
            },
            "colorscale": [
             [
              0,
              "#0d0887"
             ],
             [
              0.1111111111111111,
              "#46039f"
             ],
             [
              0.2222222222222222,
              "#7201a8"
             ],
             [
              0.3333333333333333,
              "#9c179e"
             ],
             [
              0.4444444444444444,
              "#bd3786"
             ],
             [
              0.5555555555555556,
              "#d8576b"
             ],
             [
              0.6666666666666666,
              "#ed7953"
             ],
             [
              0.7777777777777778,
              "#fb9f3a"
             ],
             [
              0.8888888888888888,
              "#fdca26"
             ],
             [
              1,
              "#f0f921"
             ]
            ],
            "type": "contour"
           }
          ],
          "contourcarpet": [
           {
            "colorbar": {
             "outlinewidth": 0,
             "ticks": ""
            },
            "type": "contourcarpet"
           }
          ],
          "heatmap": [
           {
            "colorbar": {
             "outlinewidth": 0,
             "ticks": ""
            },
            "colorscale": [
             [
              0,
              "#0d0887"
             ],
             [
              0.1111111111111111,
              "#46039f"
             ],
             [
              0.2222222222222222,
              "#7201a8"
             ],
             [
              0.3333333333333333,
              "#9c179e"
             ],
             [
              0.4444444444444444,
              "#bd3786"
             ],
             [
              0.5555555555555556,
              "#d8576b"
             ],
             [
              0.6666666666666666,
              "#ed7953"
             ],
             [
              0.7777777777777778,
              "#fb9f3a"
             ],
             [
              0.8888888888888888,
              "#fdca26"
             ],
             [
              1,
              "#f0f921"
             ]
            ],
            "type": "heatmap"
           }
          ],
          "heatmapgl": [
           {
            "colorbar": {
             "outlinewidth": 0,
             "ticks": ""
            },
            "colorscale": [
             [
              0,
              "#0d0887"
             ],
             [
              0.1111111111111111,
              "#46039f"
             ],
             [
              0.2222222222222222,
              "#7201a8"
             ],
             [
              0.3333333333333333,
              "#9c179e"
             ],
             [
              0.4444444444444444,
              "#bd3786"
             ],
             [
              0.5555555555555556,
              "#d8576b"
             ],
             [
              0.6666666666666666,
              "#ed7953"
             ],
             [
              0.7777777777777778,
              "#fb9f3a"
             ],
             [
              0.8888888888888888,
              "#fdca26"
             ],
             [
              1,
              "#f0f921"
             ]
            ],
            "type": "heatmapgl"
           }
          ],
          "histogram": [
           {
            "marker": {
             "colorbar": {
              "outlinewidth": 0,
              "ticks": ""
             }
            },
            "type": "histogram"
           }
          ],
          "histogram2d": [
           {
            "colorbar": {
             "outlinewidth": 0,
             "ticks": ""
            },
            "colorscale": [
             [
              0,
              "#0d0887"
             ],
             [
              0.1111111111111111,
              "#46039f"
             ],
             [
              0.2222222222222222,
              "#7201a8"
             ],
             [
              0.3333333333333333,
              "#9c179e"
             ],
             [
              0.4444444444444444,
              "#bd3786"
             ],
             [
              0.5555555555555556,
              "#d8576b"
             ],
             [
              0.6666666666666666,
              "#ed7953"
             ],
             [
              0.7777777777777778,
              "#fb9f3a"
             ],
             [
              0.8888888888888888,
              "#fdca26"
             ],
             [
              1,
              "#f0f921"
             ]
            ],
            "type": "histogram2d"
           }
          ],
          "histogram2dcontour": [
           {
            "colorbar": {
             "outlinewidth": 0,
             "ticks": ""
            },
            "colorscale": [
             [
              0,
              "#0d0887"
             ],
             [
              0.1111111111111111,
              "#46039f"
             ],
             [
              0.2222222222222222,
              "#7201a8"
             ],
             [
              0.3333333333333333,
              "#9c179e"
             ],
             [
              0.4444444444444444,
              "#bd3786"
             ],
             [
              0.5555555555555556,
              "#d8576b"
             ],
             [
              0.6666666666666666,
              "#ed7953"
             ],
             [
              0.7777777777777778,
              "#fb9f3a"
             ],
             [
              0.8888888888888888,
              "#fdca26"
             ],
             [
              1,
              "#f0f921"
             ]
            ],
            "type": "histogram2dcontour"
           }
          ],
          "mesh3d": [
           {
            "colorbar": {
             "outlinewidth": 0,
             "ticks": ""
            },
            "type": "mesh3d"
           }
          ],
          "parcoords": [
           {
            "line": {
             "colorbar": {
              "outlinewidth": 0,
              "ticks": ""
             }
            },
            "type": "parcoords"
           }
          ],
          "pie": [
           {
            "automargin": true,
            "type": "pie"
           }
          ],
          "scatter": [
           {
            "marker": {
             "colorbar": {
              "outlinewidth": 0,
              "ticks": ""
             }
            },
            "type": "scatter"
           }
          ],
          "scatter3d": [
           {
            "line": {
             "colorbar": {
              "outlinewidth": 0,
              "ticks": ""
             }
            },
            "marker": {
             "colorbar": {
              "outlinewidth": 0,
              "ticks": ""
             }
            },
            "type": "scatter3d"
           }
          ],
          "scattercarpet": [
           {
            "marker": {
             "colorbar": {
              "outlinewidth": 0,
              "ticks": ""
             }
            },
            "type": "scattercarpet"
           }
          ],
          "scattergeo": [
           {
            "marker": {
             "colorbar": {
              "outlinewidth": 0,
              "ticks": ""
             }
            },
            "type": "scattergeo"
           }
          ],
          "scattergl": [
           {
            "marker": {
             "colorbar": {
              "outlinewidth": 0,
              "ticks": ""
             }
            },
            "type": "scattergl"
           }
          ],
          "scattermapbox": [
           {
            "marker": {
             "colorbar": {
              "outlinewidth": 0,
              "ticks": ""
             }
            },
            "type": "scattermapbox"
           }
          ],
          "scatterpolar": [
           {
            "marker": {
             "colorbar": {
              "outlinewidth": 0,
              "ticks": ""
             }
            },
            "type": "scatterpolar"
           }
          ],
          "scatterpolargl": [
           {
            "marker": {
             "colorbar": {
              "outlinewidth": 0,
              "ticks": ""
             }
            },
            "type": "scatterpolargl"
           }
          ],
          "scatterternary": [
           {
            "marker": {
             "colorbar": {
              "outlinewidth": 0,
              "ticks": ""
             }
            },
            "type": "scatterternary"
           }
          ],
          "surface": [
           {
            "colorbar": {
             "outlinewidth": 0,
             "ticks": ""
            },
            "colorscale": [
             [
              0,
              "#0d0887"
             ],
             [
              0.1111111111111111,
              "#46039f"
             ],
             [
              0.2222222222222222,
              "#7201a8"
             ],
             [
              0.3333333333333333,
              "#9c179e"
             ],
             [
              0.4444444444444444,
              "#bd3786"
             ],
             [
              0.5555555555555556,
              "#d8576b"
             ],
             [
              0.6666666666666666,
              "#ed7953"
             ],
             [
              0.7777777777777778,
              "#fb9f3a"
             ],
             [
              0.8888888888888888,
              "#fdca26"
             ],
             [
              1,
              "#f0f921"
             ]
            ],
            "type": "surface"
           }
          ],
          "table": [
           {
            "cells": {
             "fill": {
              "color": "#EBF0F8"
             },
             "line": {
              "color": "white"
             }
            },
            "header": {
             "fill": {
              "color": "#C8D4E3"
             },
             "line": {
              "color": "white"
             }
            },
            "type": "table"
           }
          ]
         },
         "layout": {
          "annotationdefaults": {
           "arrowcolor": "#2a3f5f",
           "arrowhead": 0,
           "arrowwidth": 1
          },
          "autotypenumbers": "strict",
          "coloraxis": {
           "colorbar": {
            "outlinewidth": 0,
            "ticks": ""
           }
          },
          "colorscale": {
           "diverging": [
            [
             0,
             "#8e0152"
            ],
            [
             0.1,
             "#c51b7d"
            ],
            [
             0.2,
             "#de77ae"
            ],
            [
             0.3,
             "#f1b6da"
            ],
            [
             0.4,
             "#fde0ef"
            ],
            [
             0.5,
             "#f7f7f7"
            ],
            [
             0.6,
             "#e6f5d0"
            ],
            [
             0.7,
             "#b8e186"
            ],
            [
             0.8,
             "#7fbc41"
            ],
            [
             0.9,
             "#4d9221"
            ],
            [
             1,
             "#276419"
            ]
           ],
           "sequential": [
            [
             0,
             "#0d0887"
            ],
            [
             0.1111111111111111,
             "#46039f"
            ],
            [
             0.2222222222222222,
             "#7201a8"
            ],
            [
             0.3333333333333333,
             "#9c179e"
            ],
            [
             0.4444444444444444,
             "#bd3786"
            ],
            [
             0.5555555555555556,
             "#d8576b"
            ],
            [
             0.6666666666666666,
             "#ed7953"
            ],
            [
             0.7777777777777778,
             "#fb9f3a"
            ],
            [
             0.8888888888888888,
             "#fdca26"
            ],
            [
             1,
             "#f0f921"
            ]
           ],
           "sequentialminus": [
            [
             0,
             "#0d0887"
            ],
            [
             0.1111111111111111,
             "#46039f"
            ],
            [
             0.2222222222222222,
             "#7201a8"
            ],
            [
             0.3333333333333333,
             "#9c179e"
            ],
            [
             0.4444444444444444,
             "#bd3786"
            ],
            [
             0.5555555555555556,
             "#d8576b"
            ],
            [
             0.6666666666666666,
             "#ed7953"
            ],
            [
             0.7777777777777778,
             "#fb9f3a"
            ],
            [
             0.8888888888888888,
             "#fdca26"
            ],
            [
             1,
             "#f0f921"
            ]
           ]
          },
          "colorway": [
           "#636efa",
           "#EF553B",
           "#00cc96",
           "#ab63fa",
           "#FFA15A",
           "#19d3f3",
           "#FF6692",
           "#B6E880",
           "#FF97FF",
           "#FECB52"
          ],
          "font": {
           "color": "#2a3f5f"
          },
          "geo": {
           "bgcolor": "white",
           "lakecolor": "white",
           "landcolor": "#E5ECF6",
           "showlakes": true,
           "showland": true,
           "subunitcolor": "white"
          },
          "hoverlabel": {
           "align": "left"
          },
          "hovermode": "closest",
          "mapbox": {
           "style": "light"
          },
          "paper_bgcolor": "white",
          "plot_bgcolor": "#E5ECF6",
          "polar": {
           "angularaxis": {
            "gridcolor": "white",
            "linecolor": "white",
            "ticks": ""
           },
           "bgcolor": "#E5ECF6",
           "radialaxis": {
            "gridcolor": "white",
            "linecolor": "white",
            "ticks": ""
           }
          },
          "scene": {
           "xaxis": {
            "backgroundcolor": "#E5ECF6",
            "gridcolor": "white",
            "gridwidth": 2,
            "linecolor": "white",
            "showbackground": true,
            "ticks": "",
            "zerolinecolor": "white"
           },
           "yaxis": {
            "backgroundcolor": "#E5ECF6",
            "gridcolor": "white",
            "gridwidth": 2,
            "linecolor": "white",
            "showbackground": true,
            "ticks": "",
            "zerolinecolor": "white"
           },
           "zaxis": {
            "backgroundcolor": "#E5ECF6",
            "gridcolor": "white",
            "gridwidth": 2,
            "linecolor": "white",
            "showbackground": true,
            "ticks": "",
            "zerolinecolor": "white"
           }
          },
          "shapedefaults": {
           "line": {
            "color": "#2a3f5f"
           }
          },
          "ternary": {
           "aaxis": {
            "gridcolor": "white",
            "linecolor": "white",
            "ticks": ""
           },
           "baxis": {
            "gridcolor": "white",
            "linecolor": "white",
            "ticks": ""
           },
           "bgcolor": "#E5ECF6",
           "caxis": {
            "gridcolor": "white",
            "linecolor": "white",
            "ticks": ""
           }
          },
          "title": {
           "x": 0.05
          },
          "xaxis": {
           "automargin": true,
           "gridcolor": "white",
           "linecolor": "white",
           "ticks": "",
           "title": {
            "standoff": 15
           },
           "zerolinecolor": "white",
           "zerolinewidth": 2
          },
          "yaxis": {
           "automargin": true,
           "gridcolor": "white",
           "linecolor": "white",
           "ticks": "",
           "title": {
            "standoff": 15
           },
           "zerolinecolor": "white",
           "zerolinewidth": 2
          }
         }
        },
        "xaxis": {
         "anchor": "y",
         "domain": [
          0,
          0.15
         ],
         "range": [
          0,
          110
         ],
         "title": {
          "text": "DATASET"
         },
         "type": "linear"
        },
        "xaxis10": {
         "anchor": "y10",
         "domain": [
          0.51,
          0.66
         ],
         "matches": "x",
         "showticklabels": false,
         "type": "linear"
        },
        "xaxis11": {
         "anchor": "y11",
         "domain": [
          0.6799999999999999,
          0.83
         ],
         "matches": "x",
         "showticklabels": false,
         "type": "linear"
        },
        "xaxis12": {
         "anchor": "y12",
         "domain": [
          0.85,
          1
         ],
         "matches": "x",
         "showticklabels": false,
         "type": "linear"
        },
        "xaxis13": {
         "anchor": "y13",
         "domain": [
          0,
          0.15
         ],
         "matches": "x",
         "showticklabels": false,
         "type": "linear"
        },
        "xaxis14": {
         "anchor": "y14",
         "domain": [
          0.16999999999999998,
          0.31999999999999995
         ],
         "matches": "x",
         "showticklabels": false,
         "type": "linear"
        },
        "xaxis15": {
         "anchor": "y15",
         "domain": [
          0.33999999999999997,
          0.49
         ],
         "matches": "x",
         "showticklabels": false,
         "type": "linear"
        },
        "xaxis16": {
         "anchor": "y16",
         "domain": [
          0.51,
          0.66
         ],
         "matches": "x",
         "showticklabels": false,
         "type": "linear"
        },
        "xaxis17": {
         "anchor": "y17",
         "domain": [
          0.6799999999999999,
          0.83
         ],
         "matches": "x",
         "showticklabels": false,
         "type": "linear"
        },
        "xaxis18": {
         "anchor": "y18",
         "domain": [
          0.85,
          1
         ],
         "matches": "x",
         "showticklabels": false,
         "type": "linear"
        },
        "xaxis2": {
         "anchor": "y2",
         "domain": [
          0.16999999999999998,
          0.31999999999999995
         ],
         "matches": "x",
         "range": [
          0,
          110
         ],
         "title": {
          "text": "DATASET"
         },
         "type": "linear"
        },
        "xaxis3": {
         "anchor": "y3",
         "domain": [
          0.33999999999999997,
          0.49
         ],
         "matches": "x",
         "range": [
          0,
          110
         ],
         "title": {
          "text": "DATASET"
         },
         "type": "linear"
        },
        "xaxis4": {
         "anchor": "y4",
         "domain": [
          0.51,
          0.66
         ],
         "matches": "x",
         "range": [
          0,
          110
         ],
         "title": {
          "text": "DATASET"
         },
         "type": "linear"
        },
        "xaxis5": {
         "anchor": "y5",
         "domain": [
          0.6799999999999999,
          0.83
         ],
         "matches": "x",
         "range": [
          0,
          110
         ],
         "title": {
          "text": "DATASET"
         },
         "type": "linear"
        },
        "xaxis6": {
         "anchor": "y6",
         "domain": [
          0.85,
          1
         ],
         "matches": "x",
         "range": [
          0,
          110
         ],
         "title": {
          "text": "DATASET"
         },
         "type": "linear"
        },
        "xaxis7": {
         "anchor": "y7",
         "domain": [
          0,
          0.15
         ],
         "matches": "x",
         "showticklabels": false,
         "type": "linear"
        },
        "xaxis8": {
         "anchor": "y8",
         "domain": [
          0.16999999999999998,
          0.31999999999999995
         ],
         "matches": "x",
         "showticklabels": false,
         "type": "linear"
        },
        "xaxis9": {
         "anchor": "y9",
         "domain": [
          0.33999999999999997,
          0.49
         ],
         "matches": "x",
         "showticklabels": false,
         "type": "linear"
        },
        "yaxis": {
         "anchor": "x",
         "domain": [
          0,
          0.2866666666666666
         ],
         "range": [
          -10,
          200
         ],
         "title": {
          "text": "value"
         },
         "type": "linear"
        },
        "yaxis10": {
         "anchor": "x10",
         "domain": [
          0.35666666666666663,
          0.6433333333333333
         ],
         "matches": "y",
         "showticklabels": false,
         "type": "linear"
        },
        "yaxis11": {
         "anchor": "x11",
         "domain": [
          0.35666666666666663,
          0.6433333333333333
         ],
         "matches": "y",
         "showticklabels": false,
         "type": "linear"
        },
        "yaxis12": {
         "anchor": "x12",
         "domain": [
          0.35666666666666663,
          0.6433333333333333
         ],
         "matches": "y",
         "showticklabels": false,
         "type": "linear"
        },
        "yaxis13": {
         "anchor": "x13",
         "domain": [
          0.7133333333333333,
          0.9999999999999999
         ],
         "matches": "y",
         "range": [
          -10,
          200
         ],
         "title": {
          "text": "value"
         },
         "type": "linear"
        },
        "yaxis14": {
         "anchor": "x14",
         "domain": [
          0.7133333333333333,
          0.9999999999999999
         ],
         "matches": "y",
         "showticklabels": false,
         "type": "linear"
        },
        "yaxis15": {
         "anchor": "x15",
         "domain": [
          0.7133333333333333,
          0.9999999999999999
         ],
         "matches": "y",
         "showticklabels": false,
         "type": "linear"
        },
        "yaxis16": {
         "anchor": "x16",
         "domain": [
          0.7133333333333333,
          0.9999999999999999
         ],
         "matches": "y",
         "showticklabels": false,
         "type": "linear"
        },
        "yaxis17": {
         "anchor": "x17",
         "domain": [
          0.7133333333333333,
          0.9999999999999999
         ],
         "matches": "y",
         "showticklabels": false,
         "type": "linear"
        },
        "yaxis18": {
         "anchor": "x18",
         "domain": [
          0.7133333333333333,
          0.9999999999999999
         ],
         "matches": "y",
         "showticklabels": false,
         "type": "linear"
        },
        "yaxis2": {
         "anchor": "x2",
         "domain": [
          0,
          0.2866666666666666
         ],
         "matches": "y",
         "showticklabels": false,
         "type": "linear"
        },
        "yaxis3": {
         "anchor": "x3",
         "domain": [
          0,
          0.2866666666666666
         ],
         "matches": "y",
         "showticklabels": false,
         "type": "linear"
        },
        "yaxis4": {
         "anchor": "x4",
         "domain": [
          0,
          0.2866666666666666
         ],
         "matches": "y",
         "showticklabels": false,
         "type": "linear"
        },
        "yaxis5": {
         "anchor": "x5",
         "domain": [
          0,
          0.2866666666666666
         ],
         "matches": "y",
         "showticklabels": false,
         "type": "linear"
        },
        "yaxis6": {
         "anchor": "x6",
         "domain": [
          0,
          0.2866666666666666
         ],
         "matches": "y",
         "showticklabels": false,
         "type": "linear"
        },
        "yaxis7": {
         "anchor": "x7",
         "domain": [
          0.35666666666666663,
          0.6433333333333333
         ],
         "matches": "y",
         "range": [
          -10,
          200
         ],
         "title": {
          "text": "value"
         },
         "type": "linear"
        },
        "yaxis8": {
         "anchor": "x8",
         "domain": [
          0.35666666666666663,
          0.6433333333333333
         ],
         "matches": "y",
         "showticklabels": false,
         "type": "linear"
        },
        "yaxis9": {
         "anchor": "x9",
         "domain": [
          0.35666666666666663,
          0.6433333333333333
         ],
         "matches": "y",
         "showticklabels": false,
         "type": "linear"
        }
       }
      },
      "image/png": "[encoded data removed]",
      "text/html": [
       "<div>                            <div id=\"a0caca8e-a080-4236-8d0e-42295f5f9f5f\" class=\"plotly-graph-div\" style=\"height:525px; width:100%;\"></div>            <script type=\"text/javascript\">                require([\"plotly\"], function(Plotly) {                    window.PLOTLYENV=window.PLOTLYENV || {};                                    if (document.getElementById(\"a0caca8e-a080-4236-8d0e-42295f5f9f5f\")) {                    Plotly.newPlot(                        \"a0caca8e-a080-4236-8d0e-42295f5f9f5f\",                        [{\"hovertemplate\": \"variable=MIN_BAM_DP<br>TYPE=inhA_promoter<br>DATASET=%{x}<br>value=%{y}<extra></extra>\", \"legendgroup\": \"MIN_BAM_DP\", \"line\": {\"color\": \"rgb(229, 134, 6)\", \"dash\": \"solid\"}, \"mode\": \"lines\", \"name\": \"MIN_BAM_DP\", \"orientation\": \"v\", \"showlegend\": true, \"type\": \"scatter\", \"x\": [5, 10, 15, 20, 30, 40, 50, 60, 70, 80, 90, 100], \"xaxis\": \"x13\", \"y\": [4.0, 7.0, 13.0, 15.0, 24.0, 31.0, 50.0, 63.0, 74.0, 81.0, 91.0, 99.0], \"yaxis\": \"y13\"}, {\"hovertemplate\": \"variable=MIN_BAM_DP<br>TYPE=gyrB<br>DATASET=%{x}<br>value=%{y}<extra></extra>\", \"legendgroup\": \"MIN_BAM_DP\", \"line\": {\"color\": \"rgb(229, 134, 6)\", \"dash\": \"solid\"}, \"mode\": \"lines\", \"name\": \"MIN_BAM_DP\", \"orientation\": \"v\", \"showlegend\": false, \"type\": \"scatter\", \"x\": [5, 10, 15, 20, 30, 40, 50, 60, 70, 80, 90, 100], \"xaxis\": \"x14\", \"y\": [0.0, 0.0, 0.0, 0.0, 0.0, 0.0, 0.0, 0.0, 0.0, 0.0, 0.0, 0.0], \"yaxis\": \"y14\"}, {\"hovertemplate\": \"variable=MIN_BAM_DP<br>TYPE=gyrA<br>DATASET=%{x}<br>value=%{y}<extra></extra>\", \"legendgroup\": \"MIN_BAM_DP\", \"line\": {\"color\": \"rgb(229, 134, 6)\", \"dash\": \"solid\"}, \"mode\": \"lines\", \"name\": \"MIN_BAM_DP\", \"orientation\": \"v\", \"showlegend\": false, \"type\": \"scatter\", \"x\": [5, 10, 15, 20, 30, 40, 50, 60, 70, 80, 90, 100], \"xaxis\": \"x15\", \"y\": [0.0, 0.0, 0.0, 0.0, 0.0, 0.0, 0.0, 0.0, 0.0, 0.0, 0.0, 0.0], \"yaxis\": \"y15\"}, {\"hovertemplate\": \"variable=MIN_BAM_DP<br>TYPE=rpoB<br>DATASET=%{x}<br>value=%{y}<extra></extra>\", \"legendgroup\": \"MIN_BAM_DP\", \"line\": {\"color\": \"rgb(229, 134, 6)\", \"dash\": \"solid\"}, \"mode\": \"lines\", \"name\": \"MIN_BAM_DP\", \"orientation\": \"v\", \"showlegend\": false, \"type\": \"scatter\", \"x\": [5, 10, 15, 20, 30, 40, 50, 60, 70, 80, 90, 100], \"xaxis\": \"x16\", \"y\": [0.0, 0.0, 0.0, 0.0, 0.0, 0.0, 0.0, 0.0, 0.0, 0.0, 0.0, 0.0], \"yaxis\": \"y16\"}, {\"hovertemplate\": \"variable=MIN_BAM_DP<br>TYPE=rpsL<br>DATASET=%{x}<br>value=%{y}<extra></extra>\", \"legendgroup\": \"MIN_BAM_DP\", \"line\": {\"color\": \"rgb(229, 134, 6)\", \"dash\": \"solid\"}, \"mode\": \"lines\", \"name\": \"MIN_BAM_DP\", \"orientation\": \"v\", \"showlegend\": false, \"type\": \"scatter\", \"x\": [5, 10, 15, 20, 30, 40, 50, 60, 70, 80, 90, 100], \"xaxis\": \"x17\", \"y\": [6.0, 8.0, 12.0, 17.0, 23.0, 33.0, 38.0, 44.0, 52.0, 58.0, 61.0, 74.0], \"yaxis\": \"y17\"}, {\"hovertemplate\": \"variable=MIN_BAM_DP<br>TYPE=rrs<br>DATASET=%{x}<br>value=%{y}<extra></extra>\", \"legendgroup\": \"MIN_BAM_DP\", \"line\": {\"color\": \"rgb(229, 134, 6)\", \"dash\": \"solid\"}, \"mode\": \"lines\", \"name\": \"MIN_BAM_DP\", \"orientation\": \"v\", \"showlegend\": false, \"type\": \"scatter\", \"x\": [5, 10, 15, 20, 30, 40, 50, 60, 70, 80, 90, 100], \"xaxis\": \"x18\", \"y\": [0.0, 0.0, 0.0, 0.0, 0.0, 0.0, 0.0, 0.0, 0.0, 0.0, 0.0, 0.0], \"yaxis\": \"y18\"}, {\"hovertemplate\": \"variable=MIN_BAM_DP<br>TYPE=fabG1<br>DATASET=%{x}<br>value=%{y}<extra></extra>\", \"legendgroup\": \"MIN_BAM_DP\", \"line\": {\"color\": \"rgb(229, 134, 6)\", \"dash\": \"solid\"}, \"mode\": \"lines\", \"name\": \"MIN_BAM_DP\", \"orientation\": \"v\", \"showlegend\": false, \"type\": \"scatter\", \"x\": [5, 10, 15, 20, 30, 40, 50, 60, 70, 80, 90, 100], \"xaxis\": \"x7\", \"y\": [0.0, 0.0, 0.0, 0.0, 0.0, 0.0, 0.0, 0.0, 0.0, 0.0, 0.0, 0.0], \"yaxis\": \"y7\"}, {\"hovertemplate\": \"variable=MIN_BAM_DP<br>TYPE=inhA<br>DATASET=%{x}<br>value=%{y}<extra></extra>\", \"legendgroup\": \"MIN_BAM_DP\", \"line\": {\"color\": \"rgb(229, 134, 6)\", \"dash\": \"solid\"}, \"mode\": \"lines\", \"name\": \"MIN_BAM_DP\", \"orientation\": \"v\", \"showlegend\": false, \"type\": \"scatter\", \"x\": [5, 10, 15, 20, 30, 40, 50, 60, 70, 80, 90, 100], \"xaxis\": \"x8\", \"y\": [0.0, 0.0, 0.0, 0.0, 0.0, 0.0, 0.0, 0.0, 0.0, 0.0, 0.0, 0.0], \"yaxis\": \"y8\"}, {\"hovertemplate\": \"variable=MIN_BAM_DP<br>TYPE=pncA<br>DATASET=%{x}<br>value=%{y}<extra></extra>\", \"legendgroup\": \"MIN_BAM_DP\", \"line\": {\"color\": \"rgb(229, 134, 6)\", \"dash\": \"solid\"}, \"mode\": \"lines\", \"name\": \"MIN_BAM_DP\", \"orientation\": \"v\", \"showlegend\": false, \"type\": \"scatter\", \"x\": [5, 10, 15, 20, 30, 40, 50, 60, 70, 80, 90, 100], \"xaxis\": \"x9\", \"y\": [0.0, 0.0, 0.0, 0.0, 0.0, 0.0, 0.0, 0.0, 0.0, 0.0, 0.0, 0.0], \"yaxis\": \"y9\"}, {\"hovertemplate\": \"variable=MIN_BAM_DP<br>TYPE=katG<br>DATASET=%{x}<br>value=%{y}<extra></extra>\", \"legendgroup\": \"MIN_BAM_DP\", \"line\": {\"color\": \"rgb(229, 134, 6)\", \"dash\": \"solid\"}, \"mode\": \"lines\", \"name\": \"MIN_BAM_DP\", \"orientation\": \"v\", \"showlegend\": false, \"type\": \"scatter\", \"x\": [5, 10, 15, 20, 30, 40, 50, 60, 70, 80, 90, 100], \"xaxis\": \"x10\", \"y\": [0.0, 0.0, 0.0, 0.0, 0.0, 0.0, 0.0, 0.0, 0.0, 0.0, 0.0, 0.0], \"yaxis\": \"y10\"}, {\"hovertemplate\": \"variable=MIN_BAM_DP<br>TYPE=eis<br>DATASET=%{x}<br>value=%{y}<extra></extra>\", \"legendgroup\": \"MIN_BAM_DP\", \"line\": {\"color\": \"rgb(229, 134, 6)\", \"dash\": \"solid\"}, \"mode\": \"lines\", \"name\": \"MIN_BAM_DP\", \"orientation\": \"v\", \"showlegend\": false, \"type\": \"scatter\", \"x\": [5, 10, 15, 20, 30, 40, 50, 60, 70, 80, 90, 100], \"xaxis\": \"x11\", \"y\": [0.0, 0.0, 0.0, 0.0, 0.0, 0.0, 0.0, 0.0, 0.0, 0.0, 0.0, 0.0], \"yaxis\": \"y11\"}, {\"hovertemplate\": \"variable=MIN_BAM_DP<br>TYPE=ahpC_promoter<br>DATASET=%{x}<br>value=%{y}<extra></extra>\", \"legendgroup\": \"MIN_BAM_DP\", \"line\": {\"color\": \"rgb(229, 134, 6)\", \"dash\": \"solid\"}, \"mode\": \"lines\", \"name\": \"MIN_BAM_DP\", \"orientation\": \"v\", \"showlegend\": false, \"type\": \"scatter\", \"x\": [5, 10, 15, 20, 30, 40, 50, 60, 70, 80, 90, 100], \"xaxis\": \"x12\", \"y\": [4.0, 7.0, 10.0, 15.0, 25.0, 28.0, 35.0, 43.0, 54.0, 65.0, 74.0, 81.0], \"yaxis\": \"y12\"}, {\"hovertemplate\": \"variable=MIN_BAM_DP<br>TYPE=ahpC<br>DATASET=%{x}<br>value=%{y}<extra></extra>\", \"legendgroup\": \"MIN_BAM_DP\", \"line\": {\"color\": \"rgb(229, 134, 6)\", \"dash\": \"solid\"}, \"mode\": \"lines\", \"name\": \"MIN_BAM_DP\", \"orientation\": \"v\", \"showlegend\": false, \"type\": \"scatter\", \"x\": [5, 10, 15, 20, 30, 40, 50, 60, 70, 80, 90, 100], \"xaxis\": \"x\", \"y\": [0.0, 0.0, 0.0, 0.0, 0.0, 0.0, 0.0, 0.0, 0.0, 0.0, 0.0, 0.0], \"yaxis\": \"y\"}, {\"hovertemplate\": \"variable=MIN_BAM_DP<br>TYPE=embC<br>DATASET=%{x}<br>value=%{y}<extra></extra>\", \"legendgroup\": \"MIN_BAM_DP\", \"line\": {\"color\": \"rgb(229, 134, 6)\", \"dash\": \"solid\"}, \"mode\": \"lines\", \"name\": \"MIN_BAM_DP\", \"orientation\": \"v\", \"showlegend\": false, \"type\": \"scatter\", \"x\": [5, 10, 15, 20, 30, 40, 50, 60, 70, 80, 90, 100], \"xaxis\": \"x2\", \"y\": [0.0, 0.0, 0.0, 0.0, 0.0, 0.0, 0.0, 0.0, 0.0, 0.0, 0.0, 0.0], \"yaxis\": \"y2\"}, {\"hovertemplate\": \"variable=MIN_BAM_DP<br>TYPE=embA<br>DATASET=%{x}<br>value=%{y}<extra></extra>\", \"legendgroup\": \"MIN_BAM_DP\", \"line\": {\"color\": \"rgb(229, 134, 6)\", \"dash\": \"solid\"}, \"mode\": \"lines\", \"name\": \"MIN_BAM_DP\", \"orientation\": \"v\", \"showlegend\": false, \"type\": \"scatter\", \"x\": [5, 10, 15, 20, 30, 40, 50, 60, 70, 80, 90, 100], \"xaxis\": \"x3\", \"y\": [0.0, 0.0, 0.0, 0.0, 0.0, 0.0, 0.0, 0.0, 0.0, 0.0, 0.0, 0.0], \"yaxis\": \"y3\"}, {\"hovertemplate\": \"variable=MIN_BAM_DP<br>TYPE=embB<br>DATASET=%{x}<br>value=%{y}<extra></extra>\", \"legendgroup\": \"MIN_BAM_DP\", \"line\": {\"color\": \"rgb(229, 134, 6)\", \"dash\": \"solid\"}, \"mode\": \"lines\", \"name\": \"MIN_BAM_DP\", \"orientation\": \"v\", \"showlegend\": false, \"type\": \"scatter\", \"x\": [5, 10, 15, 20, 30, 40, 50, 60, 70, 80, 90, 100], \"xaxis\": \"x4\", \"y\": [0.0, 0.0, 0.0, 0.0, 0.0, 0.0, 0.0, 0.0, 0.0, 0.0, 0.0, 0.0], \"yaxis\": \"y4\"}, {\"hovertemplate\": \"variable=MIN_BAM_DP<br>TYPE=gidB<br>DATASET=%{x}<br>value=%{y}<extra></extra>\", \"legendgroup\": \"MIN_BAM_DP\", \"line\": {\"color\": \"rgb(229, 134, 6)\", \"dash\": \"solid\"}, \"mode\": \"lines\", \"name\": \"MIN_BAM_DP\", \"orientation\": \"v\", \"showlegend\": false, \"type\": \"scatter\", \"x\": [5, 10, 15, 20, 30, 40, 50, 60, 70, 80, 90, 100], \"xaxis\": \"x5\", \"y\": [0.0, 0.0, 0.0, 0.0, 0.0, 0.0, 0.0, 0.0, 0.0, 0.0, 0.0, 0.0], \"yaxis\": \"y5\"}, {\"hovertemplate\": \"variable=MIN_BAM_DP<br>TYPE=eis_promoter<br>DATASET=%{x}<br>value=%{y}<extra></extra>\", \"legendgroup\": \"MIN_BAM_DP\", \"line\": {\"color\": \"rgb(229, 134, 6)\", \"dash\": \"solid\"}, \"mode\": \"lines\", \"name\": \"MIN_BAM_DP\", \"orientation\": \"v\", \"showlegend\": false, \"type\": \"scatter\", \"x\": [5, 10, 15, 20, 30, 40, 50, 60, 70, 80, 90, 100], \"xaxis\": \"x6\", \"y\": [2.0, 7.0, 9.0, 17.0, 23.0, 35.0, 45.0, 51.0, 65.0, 79.0, 88.0, 101.0], \"yaxis\": \"y6\"}, {\"hovertemplate\": \"variable=MED_BAM_DP<br>TYPE=inhA_promoter<br>DATASET=%{x}<br>value=%{y}<extra></extra>\", \"legendgroup\": \"MED_BAM_DP\", \"line\": {\"color\": \"rgb(93, 105, 177)\", \"dash\": \"solid\"}, \"mode\": \"lines\", \"name\": \"MED_BAM_DP\", \"orientation\": \"v\", \"showlegend\": true, \"type\": \"scatter\", \"x\": [5, 10, 15, 20, 30, 40, 50, 60, 70, 80, 90, 100], \"xaxis\": \"x13\", \"y\": [5.5, 11.0, 15.0, 19.0, 29.0, 38.0, 62.0, 74.0, 83.5, 91.0, 102.0, 109.0], \"yaxis\": \"y13\"}, {\"hovertemplate\": \"variable=MED_BAM_DP<br>TYPE=gyrB<br>DATASET=%{x}<br>value=%{y}<extra></extra>\", \"legendgroup\": \"MED_BAM_DP\", \"line\": {\"color\": \"rgb(93, 105, 177)\", \"dash\": \"solid\"}, \"mode\": \"lines\", \"name\": \"MED_BAM_DP\", \"orientation\": \"v\", \"showlegend\": false, \"type\": \"scatter\", \"x\": [5, 10, 15, 20, 30, 40, 50, 60, 70, 80, 90, 100], \"xaxis\": \"x14\", \"y\": [5.0, 10.0, 14.0, 19.0, 29.0, 40.0, 50.0, 57.0, 70.0, 78.0, 88.0, 97.0], \"yaxis\": \"y14\"}, {\"hovertemplate\": \"variable=MED_BAM_DP<br>TYPE=gyrA<br>DATASET=%{x}<br>value=%{y}<extra></extra>\", \"legendgroup\": \"MED_BAM_DP\", \"line\": {\"color\": \"rgb(93, 105, 177)\", \"dash\": \"solid\"}, \"mode\": \"lines\", \"name\": \"MED_BAM_DP\", \"orientation\": \"v\", \"showlegend\": false, \"type\": \"scatter\", \"x\": [5, 10, 15, 20, 30, 40, 50, 60, 70, 80, 90, 100], \"xaxis\": \"x15\", \"y\": [4.0, 8.0, 13.0, 17.0, 27.0, 38.0, 48.0, 58.0, 70.0, 77.0, 89.0, 96.0], \"yaxis\": \"y15\"}, {\"hovertemplate\": \"variable=MED_BAM_DP<br>TYPE=rpoB<br>DATASET=%{x}<br>value=%{y}<extra></extra>\", \"legendgroup\": \"MED_BAM_DP\", \"line\": {\"color\": \"rgb(93, 105, 177)\", \"dash\": \"solid\"}, \"mode\": \"lines\", \"name\": \"MED_BAM_DP\", \"orientation\": \"v\", \"showlegend\": false, \"type\": \"scatter\", \"x\": [5, 10, 15, 20, 30, 40, 50, 60, 70, 80, 90, 100], \"xaxis\": \"x16\", \"y\": [3.0, 8.0, 13.0, 18.0, 29.0, 38.0, 49.0, 59.0, 66.0, 76.0, 84.0, 94.0], \"yaxis\": \"y16\"}, {\"hovertemplate\": \"variable=MED_BAM_DP<br>TYPE=rpsL<br>DATASET=%{x}<br>value=%{y}<extra></extra>\", \"legendgroup\": \"MED_BAM_DP\", \"line\": {\"color\": \"rgb(93, 105, 177)\", \"dash\": \"solid\"}, \"mode\": \"lines\", \"name\": \"MED_BAM_DP\", \"orientation\": \"v\", \"showlegend\": false, \"type\": \"scatter\", \"x\": [5, 10, 15, 20, 30, 40, 50, 60, 70, 80, 90, 100], \"xaxis\": \"x17\", \"y\": [10.0, 14.0, 18.0, 23.0, 36.0, 42.0, 45.0, 54.0, 64.0, 73.0, 78.0, 90.0], \"yaxis\": \"y17\"}, {\"hovertemplate\": \"variable=MED_BAM_DP<br>TYPE=rrs<br>DATASET=%{x}<br>value=%{y}<extra></extra>\", \"legendgroup\": \"MED_BAM_DP\", \"line\": {\"color\": \"rgb(93, 105, 177)\", \"dash\": \"solid\"}, \"mode\": \"lines\", \"name\": \"MED_BAM_DP\", \"orientation\": \"v\", \"showlegend\": false, \"type\": \"scatter\", \"x\": [5, 10, 15, 20, 30, 40, 50, 60, 70, 80, 90, 100], \"xaxis\": \"x18\", \"y\": [4.0, 8.0, 13.0, 19.0, 29.0, 40.0, 51.0, 60.0, 70.0, 86.0, 96.0, 107.0], \"yaxis\": \"y18\"}, {\"hovertemplate\": \"variable=MED_BAM_DP<br>TYPE=fabG1<br>DATASET=%{x}<br>value=%{y}<extra></extra>\", \"legendgroup\": \"MED_BAM_DP\", \"line\": {\"color\": \"rgb(93, 105, 177)\", \"dash\": \"solid\"}, \"mode\": \"lines\", \"name\": \"MED_BAM_DP\", \"orientation\": \"v\", \"showlegend\": false, \"type\": \"scatter\", \"x\": [5, 10, 15, 20, 30, 40, 50, 60, 70, 80, 90, 100], \"xaxis\": \"x7\", \"y\": [4.0, 7.0, 11.0, 19.0, 26.0, 38.0, 46.0, 60.0, 69.0, 80.0, 92.0, 101.0], \"yaxis\": \"y7\"}, {\"hovertemplate\": \"variable=MED_BAM_DP<br>TYPE=inhA<br>DATASET=%{x}<br>value=%{y}<extra></extra>\", \"legendgroup\": \"MED_BAM_DP\", \"line\": {\"color\": \"rgb(93, 105, 177)\", \"dash\": \"solid\"}, \"mode\": \"lines\", \"name\": \"MED_BAM_DP\", \"orientation\": \"v\", \"showlegend\": false, \"type\": \"scatter\", \"x\": [5, 10, 15, 20, 30, 40, 50, 60, 70, 80, 90, 100], \"xaxis\": \"x8\", \"y\": [6.0, 10.0, 15.0, 21.0, 29.0, 40.5, 45.0, 56.0, 65.0, 76.0, 84.0, 98.0], \"yaxis\": \"y8\"}, {\"hovertemplate\": \"variable=MED_BAM_DP<br>TYPE=pncA<br>DATASET=%{x}<br>value=%{y}<extra></extra>\", \"legendgroup\": \"MED_BAM_DP\", \"line\": {\"color\": \"rgb(93, 105, 177)\", \"dash\": \"solid\"}, \"mode\": \"lines\", \"name\": \"MED_BAM_DP\", \"orientation\": \"v\", \"showlegend\": false, \"type\": \"scatter\", \"x\": [5, 10, 15, 20, 30, 40, 50, 60, 70, 80, 90, 100], \"xaxis\": \"x9\", \"y\": [3.0, 8.0, 12.0, 17.0, 27.0, 40.0, 50.0, 61.0, 68.0, 80.0, 90.0, 101.0], \"yaxis\": \"y9\"}, {\"hovertemplate\": \"variable=MED_BAM_DP<br>TYPE=katG<br>DATASET=%{x}<br>value=%{y}<extra></extra>\", \"legendgroup\": \"MED_BAM_DP\", \"line\": {\"color\": \"rgb(93, 105, 177)\", \"dash\": \"solid\"}, \"mode\": \"lines\", \"name\": \"MED_BAM_DP\", \"orientation\": \"v\", \"showlegend\": false, \"type\": \"scatter\", \"x\": [5, 10, 15, 20, 30, 40, 50, 60, 70, 80, 90, 100], \"xaxis\": \"x10\", \"y\": [5.0, 11.0, 19.0, 22.0, 33.0, 45.0, 53.0, 64.0, 73.0, 82.0, 91.0, 101.0], \"yaxis\": \"y10\"}, {\"hovertemplate\": \"variable=MED_BAM_DP<br>TYPE=eis<br>DATASET=%{x}<br>value=%{y}<extra></extra>\", \"legendgroup\": \"MED_BAM_DP\", \"line\": {\"color\": \"rgb(93, 105, 177)\", \"dash\": \"solid\"}, \"mode\": \"lines\", \"name\": \"MED_BAM_DP\", \"orientation\": \"v\", \"showlegend\": false, \"type\": \"scatter\", \"x\": [5, 10, 15, 20, 30, 40, 50, 60, 70, 80, 90, 100], \"xaxis\": \"x11\", \"y\": [3.0, 7.0, 13.0, 17.0, 27.0, 39.0, 50.0, 60.0, 68.0, 77.0, 83.0, 91.0], \"yaxis\": \"y11\"}, {\"hovertemplate\": \"variable=MED_BAM_DP<br>TYPE=ahpC_promoter<br>DATASET=%{x}<br>value=%{y}<extra></extra>\", \"legendgroup\": \"MED_BAM_DP\", \"line\": {\"color\": \"rgb(93, 105, 177)\", \"dash\": \"solid\"}, \"mode\": \"lines\", \"name\": \"MED_BAM_DP\", \"orientation\": \"v\", \"showlegend\": false, \"type\": \"scatter\", \"x\": [5, 10, 15, 20, 30, 40, 50, 60, 70, 80, 90, 100], \"xaxis\": \"x12\", \"y\": [6.0, 9.0, 12.0, 17.0, 28.0, 34.0, 45.0, 52.0, 62.0, 74.0, 84.0, 92.0], \"yaxis\": \"y12\"}, {\"hovertemplate\": \"variable=MED_BAM_DP<br>TYPE=ahpC<br>DATASET=%{x}<br>value=%{y}<extra></extra>\", \"legendgroup\": \"MED_BAM_DP\", \"line\": {\"color\": \"rgb(93, 105, 177)\", \"dash\": \"solid\"}, \"mode\": \"lines\", \"name\": \"MED_BAM_DP\", \"orientation\": \"v\", \"showlegend\": false, \"type\": \"scatter\", \"x\": [5, 10, 15, 20, 30, 40, 50, 60, 70, 80, 90, 100], \"xaxis\": \"x\", \"y\": [5.0, 12.0, 22.0, 28.0, 37.0, 46.0, 62.0, 70.0, 78.0, 88.0, 95.0, 104.0], \"yaxis\": \"y\"}, {\"hovertemplate\": \"variable=MED_BAM_DP<br>TYPE=embC<br>DATASET=%{x}<br>value=%{y}<extra></extra>\", \"legendgroup\": \"MED_BAM_DP\", \"line\": {\"color\": \"rgb(93, 105, 177)\", \"dash\": \"solid\"}, \"mode\": \"lines\", \"name\": \"MED_BAM_DP\", \"orientation\": \"v\", \"showlegend\": false, \"type\": \"scatter\", \"x\": [5, 10, 15, 20, 30, 40, 50, 60, 70, 80, 90, 100], \"xaxis\": \"x2\", \"y\": [3.0, 8.0, 13.0, 19.0, 29.0, 41.0, 49.0, 61.0, 72.0, 82.0, 92.0, 99.0], \"yaxis\": \"y2\"}, {\"hovertemplate\": \"variable=MED_BAM_DP<br>TYPE=embA<br>DATASET=%{x}<br>value=%{y}<extra></extra>\", \"legendgroup\": \"MED_BAM_DP\", \"line\": {\"color\": \"rgb(93, 105, 177)\", \"dash\": \"solid\"}, \"mode\": \"lines\", \"name\": \"MED_BAM_DP\", \"orientation\": \"v\", \"showlegend\": false, \"type\": \"scatter\", \"x\": [5, 10, 15, 20, 30, 40, 50, 60, 70, 80, 90, 100], \"xaxis\": \"x3\", \"y\": [5.0, 10.0, 15.0, 20.0, 30.0, 41.0, 49.0, 58.0, 69.0, 80.0, 88.0, 100.0], \"yaxis\": \"y3\"}, {\"hovertemplate\": \"variable=MED_BAM_DP<br>TYPE=embB<br>DATASET=%{x}<br>value=%{y}<extra></extra>\", \"legendgroup\": \"MED_BAM_DP\", \"line\": {\"color\": \"rgb(93, 105, 177)\", \"dash\": \"solid\"}, \"mode\": \"lines\", \"name\": \"MED_BAM_DP\", \"orientation\": \"v\", \"showlegend\": false, \"type\": \"scatter\", \"x\": [5, 10, 15, 20, 30, 40, 50, 60, 70, 80, 90, 100], \"xaxis\": \"x4\", \"y\": [5.0, 10.0, 14.0, 19.0, 28.0, 36.0, 45.0, 55.0, 64.0, 76.0, 85.0, 93.0], \"yaxis\": \"y4\"}, {\"hovertemplate\": \"variable=MED_BAM_DP<br>TYPE=gidB<br>DATASET=%{x}<br>value=%{y}<extra></extra>\", \"legendgroup\": \"MED_BAM_DP\", \"line\": {\"color\": \"rgb(93, 105, 177)\", \"dash\": \"solid\"}, \"mode\": \"lines\", \"name\": \"MED_BAM_DP\", \"orientation\": \"v\", \"showlegend\": false, \"type\": \"scatter\", \"x\": [5, 10, 15, 20, 30, 40, 50, 60, 70, 80, 90, 100], \"xaxis\": \"x5\", \"y\": [4.0, 9.0, 16.0, 19.0, 27.0, 40.0, 52.0, 63.0, 75.0, 82.0, 91.0, 100.0], \"yaxis\": \"y5\"}, {\"hovertemplate\": \"variable=MED_BAM_DP<br>TYPE=eis_promoter<br>DATASET=%{x}<br>value=%{y}<extra></extra>\", \"legendgroup\": \"MED_BAM_DP\", \"line\": {\"color\": \"rgb(93, 105, 177)\", \"dash\": \"solid\"}, \"mode\": \"lines\", \"name\": \"MED_BAM_DP\", \"orientation\": \"v\", \"showlegend\": false, \"type\": \"scatter\", \"x\": [5, 10, 15, 20, 30, 40, 50, 60, 70, 80, 90, 100], \"xaxis\": \"x6\", \"y\": [6.0, 12.0, 19.0, 25.0, 35.0, 46.0, 62.0, 71.0, 90.0, 99.0, 107.0, 117.0], \"yaxis\": \"y6\"}, {\"hovertemplate\": \"variable=MAX_BAM_DP<br>TYPE=inhA_promoter<br>DATASET=%{x}<br>value=%{y}<extra></extra>\", \"legendgroup\": \"MAX_BAM_DP\", \"line\": {\"color\": \"rgb(82, 188, 163)\", \"dash\": \"solid\"}, \"mode\": \"lines\", \"name\": \"MAX_BAM_DP\", \"orientation\": \"v\", \"showlegend\": true, \"type\": \"scatter\", \"x\": [5, 10, 15, 20, 30, 40, 50, 60, 70, 80, 90, 100], \"xaxis\": \"x13\", \"y\": [7.0, 13.0, 19.0, 22.0, 32.0, 43.0, 69.0, 81.0, 89.0, 96.0, 109.0, 114.0], \"yaxis\": \"y13\"}, {\"hovertemplate\": \"variable=MAX_BAM_DP<br>TYPE=gyrB<br>DATASET=%{x}<br>value=%{y}<extra></extra>\", \"legendgroup\": \"MAX_BAM_DP\", \"line\": {\"color\": \"rgb(82, 188, 163)\", \"dash\": \"solid\"}, \"mode\": \"lines\", \"name\": \"MAX_BAM_DP\", \"orientation\": \"v\", \"showlegend\": false, \"type\": \"scatter\", \"x\": [5, 10, 15, 20, 30, 40, 50, 60, 70, 80, 90, 100], \"xaxis\": \"x14\", \"y\": [15.0, 19.0, 27.0, 33.0, 42.0, 55.0, 65.0, 76.0, 91.0, 98.0, 114.0, 128.0], \"yaxis\": \"y14\"}, {\"hovertemplate\": \"variable=MAX_BAM_DP<br>TYPE=gyrA<br>DATASET=%{x}<br>value=%{y}<extra></extra>\", \"legendgroup\": \"MAX_BAM_DP\", \"line\": {\"color\": \"rgb(82, 188, 163)\", \"dash\": \"solid\"}, \"mode\": \"lines\", \"name\": \"MAX_BAM_DP\", \"orientation\": \"v\", \"showlegend\": false, \"type\": \"scatter\", \"x\": [5, 10, 15, 20, 30, 40, 50, 60, 70, 80, 90, 100], \"xaxis\": \"x15\", \"y\": [8.0, 12.0, 22.0, 33.0, 39.0, 59.0, 66.0, 81.0, 90.0, 99.0, 110.0, 122.0], \"yaxis\": \"y15\"}, {\"hovertemplate\": \"variable=MAX_BAM_DP<br>TYPE=rpoB<br>DATASET=%{x}<br>value=%{y}<extra></extra>\", \"legendgroup\": \"MAX_BAM_DP\", \"line\": {\"color\": \"rgb(82, 188, 163)\", \"dash\": \"solid\"}, \"mode\": \"lines\", \"name\": \"MAX_BAM_DP\", \"orientation\": \"v\", \"showlegend\": false, \"type\": \"scatter\", \"x\": [5, 10, 15, 20, 30, 40, 50, 60, 70, 80, 90, 100], \"xaxis\": \"x16\", \"y\": [12.0, 19.0, 23.0, 34.0, 41.0, 53.0, 68.0, 74.0, 84.0, 97.0, 110.0, 128.0], \"yaxis\": \"y16\"}, {\"hovertemplate\": \"variable=MAX_BAM_DP<br>TYPE=rpsL<br>DATASET=%{x}<br>value=%{y}<extra></extra>\", \"legendgroup\": \"MAX_BAM_DP\", \"line\": {\"color\": \"rgb(82, 188, 163)\", \"dash\": \"solid\"}, \"mode\": \"lines\", \"name\": \"MAX_BAM_DP\", \"orientation\": \"v\", \"showlegend\": false, \"type\": \"scatter\", \"x\": [5, 10, 15, 20, 30, 40, 50, 60, 70, 80, 90, 100], \"xaxis\": \"x17\", \"y\": [14.0, 17.0, 24.0, 29.0, 42.0, 47.0, 55.0, 62.0, 73.0, 87.0, 102.0, 104.0], \"yaxis\": \"y17\"}, {\"hovertemplate\": \"variable=MAX_BAM_DP<br>TYPE=rrs<br>DATASET=%{x}<br>value=%{y}<extra></extra>\", \"legendgroup\": \"MAX_BAM_DP\", \"line\": {\"color\": \"rgb(82, 188, 163)\", \"dash\": \"solid\"}, \"mode\": \"lines\", \"name\": \"MAX_BAM_DP\", \"orientation\": \"v\", \"showlegend\": false, \"type\": \"scatter\", \"x\": [5, 10, 15, 20, 30, 40, 50, 60, 70, 80, 90, 100], \"xaxis\": \"x18\", \"y\": [9.0, 20.0, 25.0, 28.0, 40.0, 55.0, 65.0, 80.0, 91.0, 109.0, 130.0, 139.0], \"yaxis\": \"y18\"}, {\"hovertemplate\": \"variable=MAX_BAM_DP<br>TYPE=fabG1<br>DATASET=%{x}<br>value=%{y}<extra></extra>\", \"legendgroup\": \"MAX_BAM_DP\", \"line\": {\"color\": \"rgb(82, 188, 163)\", \"dash\": \"solid\"}, \"mode\": \"lines\", \"name\": \"MAX_BAM_DP\", \"orientation\": \"v\", \"showlegend\": false, \"type\": \"scatter\", \"x\": [5, 10, 15, 20, 30, 40, 50, 60, 70, 80, 90, 100], \"xaxis\": \"x7\", \"y\": [10.0, 11.0, 19.0, 32.0, 36.0, 49.0, 60.0, 70.0, 80.0, 90.0, 107.0, 121.0], \"yaxis\": \"y7\"}, {\"hovertemplate\": \"variable=MAX_BAM_DP<br>TYPE=inhA<br>DATASET=%{x}<br>value=%{y}<extra></extra>\", \"legendgroup\": \"MAX_BAM_DP\", \"line\": {\"color\": \"rgb(82, 188, 163)\", \"dash\": \"solid\"}, \"mode\": \"lines\", \"name\": \"MAX_BAM_DP\", \"orientation\": \"v\", \"showlegend\": false, \"type\": \"scatter\", \"x\": [5, 10, 15, 20, 30, 40, 50, 60, 70, 80, 90, 100], \"xaxis\": \"x8\", \"y\": [9.0, 17.0, 26.0, 30.0, 39.0, 51.0, 62.0, 73.0, 82.0, 101.0, 111.0, 119.0], \"yaxis\": \"y8\"}, {\"hovertemplate\": \"variable=MAX_BAM_DP<br>TYPE=pncA<br>DATASET=%{x}<br>value=%{y}<extra></extra>\", \"legendgroup\": \"MAX_BAM_DP\", \"line\": {\"color\": \"rgb(82, 188, 163)\", \"dash\": \"solid\"}, \"mode\": \"lines\", \"name\": \"MAX_BAM_DP\", \"orientation\": \"v\", \"showlegend\": false, \"type\": \"scatter\", \"x\": [5, 10, 15, 20, 30, 40, 50, 60, 70, 80, 90, 100], \"xaxis\": \"x9\", \"y\": [7.0, 13.0, 19.0, 23.0, 40.0, 57.0, 64.0, 79.0, 82.0, 91.0, 100.0, 112.0], \"yaxis\": \"y9\"}, {\"hovertemplate\": \"variable=MAX_BAM_DP<br>TYPE=katG<br>DATASET=%{x}<br>value=%{y}<extra></extra>\", \"legendgroup\": \"MAX_BAM_DP\", \"line\": {\"color\": \"rgb(82, 188, 163)\", \"dash\": \"solid\"}, \"mode\": \"lines\", \"name\": \"MAX_BAM_DP\", \"orientation\": \"v\", \"showlegend\": false, \"type\": \"scatter\", \"x\": [5, 10, 15, 20, 30, 40, 50, 60, 70, 80, 90, 100], \"xaxis\": \"x10\", \"y\": [17.0, 26.0, 36.0, 40.0, 48.0, 64.0, 71.0, 82.0, 97.0, 107.0, 118.0, 130.0], \"yaxis\": \"y10\"}, {\"hovertemplate\": \"variable=MAX_BAM_DP<br>TYPE=eis<br>DATASET=%{x}<br>value=%{y}<extra></extra>\", \"legendgroup\": \"MAX_BAM_DP\", \"line\": {\"color\": \"rgb(82, 188, 163)\", \"dash\": \"solid\"}, \"mode\": \"lines\", \"name\": \"MAX_BAM_DP\", \"orientation\": \"v\", \"showlegend\": false, \"type\": \"scatter\", \"x\": [5, 10, 15, 20, 30, 40, 50, 60, 70, 80, 90, 100], \"xaxis\": \"x11\", \"y\": [7.0, 14.0, 27.0, 38.0, 45.0, 56.0, 68.0, 77.0, 94.0, 101.0, 113.0, 117.0], \"yaxis\": \"y11\"}, {\"hovertemplate\": \"variable=MAX_BAM_DP<br>TYPE=ahpC_promoter<br>DATASET=%{x}<br>value=%{y}<extra></extra>\", \"legendgroup\": \"MAX_BAM_DP\", \"line\": {\"color\": \"rgb(82, 188, 163)\", \"dash\": \"solid\"}, \"mode\": \"lines\", \"name\": \"MAX_BAM_DP\", \"orientation\": \"v\", \"showlegend\": false, \"type\": \"scatter\", \"x\": [5, 10, 15, 20, 30, 40, 50, 60, 70, 80, 90, 100], \"xaxis\": \"x12\", \"y\": [8.0, 12.0, 15.0, 19.0, 30.0, 39.0, 54.0, 60.0, 68.0, 81.0, 93.0, 103.0], \"yaxis\": \"y12\"}, {\"hovertemplate\": \"variable=MAX_BAM_DP<br>TYPE=ahpC<br>DATASET=%{x}<br>value=%{y}<extra></extra>\", \"legendgroup\": \"MAX_BAM_DP\", \"line\": {\"color\": \"rgb(82, 188, 163)\", \"dash\": \"solid\"}, \"mode\": \"lines\", \"name\": \"MAX_BAM_DP\", \"orientation\": \"v\", \"showlegend\": false, \"type\": \"scatter\", \"x\": [5, 10, 15, 20, 30, 40, 50, 60, 70, 80, 90, 100], \"xaxis\": \"x\", \"y\": [14.0, 22.0, 31.0, 37.0, 45.0, 61.0, 78.0, 86.0, 100.0, 107.0, 115.0, 130.0], \"yaxis\": \"y\"}, {\"hovertemplate\": \"variable=MAX_BAM_DP<br>TYPE=embC<br>DATASET=%{x}<br>value=%{y}<extra></extra>\", \"legendgroup\": \"MAX_BAM_DP\", \"line\": {\"color\": \"rgb(82, 188, 163)\", \"dash\": \"solid\"}, \"mode\": \"lines\", \"name\": \"MAX_BAM_DP\", \"orientation\": \"v\", \"showlegend\": false, \"type\": \"scatter\", \"x\": [5, 10, 15, 20, 30, 40, 50, 60, 70, 80, 90, 100], \"xaxis\": \"x2\", \"y\": [10.0, 25.0, 34.0, 39.0, 64.0, 70.0, 75.0, 91.0, 104.0, 116.0, 128.0, 137.0], \"yaxis\": \"y2\"}, {\"hovertemplate\": \"variable=MAX_BAM_DP<br>TYPE=embA<br>DATASET=%{x}<br>value=%{y}<extra></extra>\", \"legendgroup\": \"MAX_BAM_DP\", \"line\": {\"color\": \"rgb(82, 188, 163)\", \"dash\": \"solid\"}, \"mode\": \"lines\", \"name\": \"MAX_BAM_DP\", \"orientation\": \"v\", \"showlegend\": false, \"type\": \"scatter\", \"x\": [5, 10, 15, 20, 30, 40, 50, 60, 70, 80, 90, 100], \"xaxis\": \"x3\", \"y\": [11.0, 18.0, 28.0, 41.0, 55.0, 61.0, 72.0, 84.0, 98.0, 113.0, 130.0, 139.0], \"yaxis\": \"y3\"}, {\"hovertemplate\": \"variable=MAX_BAM_DP<br>TYPE=embB<br>DATASET=%{x}<br>value=%{y}<extra></extra>\", \"legendgroup\": \"MAX_BAM_DP\", \"line\": {\"color\": \"rgb(82, 188, 163)\", \"dash\": \"solid\"}, \"mode\": \"lines\", \"name\": \"MAX_BAM_DP\", \"orientation\": \"v\", \"showlegend\": false, \"type\": \"scatter\", \"x\": [5, 10, 15, 20, 30, 40, 50, 60, 70, 80, 90, 100], \"xaxis\": \"x4\", \"y\": [14.0, 20.0, 25.0, 31.0, 42.0, 54.0, 68.0, 78.0, 98.0, 105.0, 113.0, 122.0], \"yaxis\": \"y4\"}, {\"hovertemplate\": \"variable=MAX_BAM_DP<br>TYPE=gidB<br>DATASET=%{x}<br>value=%{y}<extra></extra>\", \"legendgroup\": \"MAX_BAM_DP\", \"line\": {\"color\": \"rgb(82, 188, 163)\", \"dash\": \"solid\"}, \"mode\": \"lines\", \"name\": \"MAX_BAM_DP\", \"orientation\": \"v\", \"showlegend\": false, \"type\": \"scatter\", \"x\": [5, 10, 15, 20, 30, 40, 50, 60, 70, 80, 90, 100], \"xaxis\": \"x5\", \"y\": [12.0, 25.0, 29.0, 34.0, 50.0, 60.0, 71.0, 83.0, 87.0, 99.0, 118.0, 121.0], \"yaxis\": \"y5\"}, {\"hovertemplate\": \"variable=MAX_BAM_DP<br>TYPE=eis_promoter<br>DATASET=%{x}<br>value=%{y}<extra></extra>\", \"legendgroup\": \"MAX_BAM_DP\", \"line\": {\"color\": \"rgb(82, 188, 163)\", \"dash\": \"solid\"}, \"mode\": \"lines\", \"name\": \"MAX_BAM_DP\", \"orientation\": \"v\", \"showlegend\": false, \"type\": \"scatter\", \"x\": [5, 10, 15, 20, 30, 40, 50, 60, 70, 80, 90, 100], \"xaxis\": \"x6\", \"y\": [9.0, 17.0, 24.0, 30.0, 40.0, 55.0, 75.0, 86.0, 106.0, 118.0, 126.0, 138.0], \"yaxis\": \"y6\"}],                        {\"annotations\": [{\"font\": {}, \"showarrow\": false, \"text\": \"TYPE=ahpC\", \"x\": 0.075, \"xanchor\": \"center\", \"xref\": \"paper\", \"y\": 0.2866666666666666, \"yanchor\": \"bottom\", \"yref\": \"paper\"}, {\"font\": {}, \"showarrow\": false, \"text\": \"TYPE=embC\", \"x\": 0.24499999999999997, \"xanchor\": \"center\", \"xref\": \"paper\", \"y\": 0.2866666666666666, \"yanchor\": \"bottom\", \"yref\": \"paper\"}, {\"font\": {}, \"showarrow\": false, \"text\": \"TYPE=embA\", \"x\": 0.415, \"xanchor\": \"center\", \"xref\": \"paper\", \"y\": 0.2866666666666666, \"yanchor\": \"bottom\", \"yref\": \"paper\"}, {\"font\": {}, \"showarrow\": false, \"text\": \"TYPE=embB\", \"x\": 0.585, \"xanchor\": \"center\", \"xref\": \"paper\", \"y\": 0.2866666666666666, \"yanchor\": \"bottom\", \"yref\": \"paper\"}, {\"font\": {}, \"showarrow\": false, \"text\": \"TYPE=gidB\", \"x\": 0.7549999999999999, \"xanchor\": \"center\", \"xref\": \"paper\", \"y\": 0.2866666666666666, \"yanchor\": \"bottom\", \"yref\": \"paper\"}, {\"font\": {}, \"showarrow\": false, \"text\": \"TYPE=eis_promoter\", \"x\": 0.925, \"xanchor\": \"center\", \"xref\": \"paper\", \"y\": 0.2866666666666666, \"yanchor\": \"bottom\", \"yref\": \"paper\"}, {\"font\": {}, \"showarrow\": false, \"text\": \"TYPE=fabG1\", \"x\": 0.075, \"xanchor\": \"center\", \"xref\": \"paper\", \"y\": 0.6433333333333333, \"yanchor\": \"bottom\", \"yref\": \"paper\"}, {\"font\": {}, \"showarrow\": false, \"text\": \"TYPE=inhA\", \"x\": 0.24499999999999997, \"xanchor\": \"center\", \"xref\": \"paper\", \"y\": 0.6433333333333333, \"yanchor\": \"bottom\", \"yref\": \"paper\"}, {\"font\": {}, \"showarrow\": false, \"text\": \"TYPE=pncA\", \"x\": 0.415, \"xanchor\": \"center\", \"xref\": \"paper\", \"y\": 0.6433333333333333, \"yanchor\": \"bottom\", \"yref\": \"paper\"}, {\"font\": {}, \"showarrow\": false, \"text\": \"TYPE=katG\", \"x\": 0.585, \"xanchor\": \"center\", \"xref\": \"paper\", \"y\": 0.6433333333333333, \"yanchor\": \"bottom\", \"yref\": \"paper\"}, {\"font\": {}, \"showarrow\": false, \"text\": \"TYPE=eis\", \"x\": 0.7549999999999999, \"xanchor\": \"center\", \"xref\": \"paper\", \"y\": 0.6433333333333333, \"yanchor\": \"bottom\", \"yref\": \"paper\"}, {\"font\": {}, \"showarrow\": false, \"text\": \"TYPE=ahpC_promoter\", \"x\": 0.925, \"xanchor\": \"center\", \"xref\": \"paper\", \"y\": 0.6433333333333333, \"yanchor\": \"bottom\", \"yref\": \"paper\"}, {\"font\": {}, \"showarrow\": false, \"text\": \"TYPE=inhA_promoter\", \"x\": 0.075, \"xanchor\": \"center\", \"xref\": \"paper\", \"y\": 0.9999999999999999, \"yanchor\": \"bottom\", \"yref\": \"paper\"}, {\"font\": {}, \"showarrow\": false, \"text\": \"TYPE=gyrB\", \"x\": 0.24499999999999997, \"xanchor\": \"center\", \"xref\": \"paper\", \"y\": 0.9999999999999999, \"yanchor\": \"bottom\", \"yref\": \"paper\"}, {\"font\": {}, \"showarrow\": false, \"text\": \"TYPE=gyrA\", \"x\": 0.415, \"xanchor\": \"center\", \"xref\": \"paper\", \"y\": 0.9999999999999999, \"yanchor\": \"bottom\", \"yref\": \"paper\"}, {\"font\": {}, \"showarrow\": false, \"text\": \"TYPE=rpoB\", \"x\": 0.585, \"xanchor\": \"center\", \"xref\": \"paper\", \"y\": 0.9999999999999999, \"yanchor\": \"bottom\", \"yref\": \"paper\"}, {\"font\": {}, \"showarrow\": false, \"text\": \"TYPE=rpsL\", \"x\": 0.7549999999999999, \"xanchor\": \"center\", \"xref\": \"paper\", \"y\": 0.9999999999999999, \"yanchor\": \"bottom\", \"yref\": \"paper\"}, {\"font\": {}, \"showarrow\": false, \"text\": \"TYPE=rrs\", \"x\": 0.925, \"xanchor\": \"center\", \"xref\": \"paper\", \"y\": 0.9999999999999999, \"yanchor\": \"bottom\", \"yref\": \"paper\"}], \"legend\": {\"title\": {\"text\": \"variable\"}, \"tracegroupgap\": 0}, \"margin\": {\"t\": 60}, \"template\": {\"data\": {\"bar\": [{\"error_x\": {\"color\": \"#2a3f5f\"}, \"error_y\": {\"color\": \"#2a3f5f\"}, \"marker\": {\"line\": {\"color\": \"#E5ECF6\", \"width\": 0.5}}, \"type\": \"bar\"}], \"barpolar\": [{\"marker\": {\"line\": {\"color\": \"#E5ECF6\", \"width\": 0.5}}, \"type\": \"barpolar\"}], \"carpet\": [{\"aaxis\": {\"endlinecolor\": \"#2a3f5f\", \"gridcolor\": \"white\", \"linecolor\": \"white\", \"minorgridcolor\": \"white\", \"startlinecolor\": \"#2a3f5f\"}, \"baxis\": {\"endlinecolor\": \"#2a3f5f\", \"gridcolor\": \"white\", \"linecolor\": \"white\", \"minorgridcolor\": \"white\", \"startlinecolor\": \"#2a3f5f\"}, \"type\": \"carpet\"}], \"choropleth\": [{\"colorbar\": {\"outlinewidth\": 0, \"ticks\": \"\"}, \"type\": \"choropleth\"}], \"contour\": [{\"colorbar\": {\"outlinewidth\": 0, \"ticks\": \"\"}, \"colorscale\": [[0.0, \"#0d0887\"], [0.1111111111111111, \"#46039f\"], [0.2222222222222222, \"#7201a8\"], [0.3333333333333333, \"#9c179e\"], [0.4444444444444444, \"#bd3786\"], [0.5555555555555556, \"#d8576b\"], [0.6666666666666666, \"#ed7953\"], [0.7777777777777778, \"#fb9f3a\"], [0.8888888888888888, \"#fdca26\"], [1.0, \"#f0f921\"]], \"type\": \"contour\"}], \"contourcarpet\": [{\"colorbar\": {\"outlinewidth\": 0, \"ticks\": \"\"}, \"type\": \"contourcarpet\"}], \"heatmap\": [{\"colorbar\": {\"outlinewidth\": 0, \"ticks\": \"\"}, \"colorscale\": [[0.0, \"#0d0887\"], [0.1111111111111111, \"#46039f\"], [0.2222222222222222, \"#7201a8\"], [0.3333333333333333, \"#9c179e\"], [0.4444444444444444, \"#bd3786\"], [0.5555555555555556, \"#d8576b\"], [0.6666666666666666, \"#ed7953\"], [0.7777777777777778, \"#fb9f3a\"], [0.8888888888888888, \"#fdca26\"], [1.0, \"#f0f921\"]], \"type\": \"heatmap\"}], \"heatmapgl\": [{\"colorbar\": {\"outlinewidth\": 0, \"ticks\": \"\"}, \"colorscale\": [[0.0, \"#0d0887\"], [0.1111111111111111, \"#46039f\"], [0.2222222222222222, \"#7201a8\"], [0.3333333333333333, \"#9c179e\"], [0.4444444444444444, \"#bd3786\"], [0.5555555555555556, \"#d8576b\"], [0.6666666666666666, \"#ed7953\"], [0.7777777777777778, \"#fb9f3a\"], [0.8888888888888888, \"#fdca26\"], [1.0, \"#f0f921\"]], \"type\": \"heatmapgl\"}], \"histogram\": [{\"marker\": {\"colorbar\": {\"outlinewidth\": 0, \"ticks\": \"\"}}, \"type\": \"histogram\"}], \"histogram2d\": [{\"colorbar\": {\"outlinewidth\": 0, \"ticks\": \"\"}, \"colorscale\": [[0.0, \"#0d0887\"], [0.1111111111111111, \"#46039f\"], [0.2222222222222222, \"#7201a8\"], [0.3333333333333333, \"#9c179e\"], [0.4444444444444444, \"#bd3786\"], [0.5555555555555556, \"#d8576b\"], [0.6666666666666666, \"#ed7953\"], [0.7777777777777778, \"#fb9f3a\"], [0.8888888888888888, \"#fdca26\"], [1.0, \"#f0f921\"]], \"type\": \"histogram2d\"}], \"histogram2dcontour\": [{\"colorbar\": {\"outlinewidth\": 0, \"ticks\": \"\"}, \"colorscale\": [[0.0, \"#0d0887\"], [0.1111111111111111, \"#46039f\"], [0.2222222222222222, \"#7201a8\"], [0.3333333333333333, \"#9c179e\"], [0.4444444444444444, \"#bd3786\"], [0.5555555555555556, \"#d8576b\"], [0.6666666666666666, \"#ed7953\"], [0.7777777777777778, \"#fb9f3a\"], [0.8888888888888888, \"#fdca26\"], [1.0, \"#f0f921\"]], \"type\": \"histogram2dcontour\"}], \"mesh3d\": [{\"colorbar\": {\"outlinewidth\": 0, \"ticks\": \"\"}, \"type\": \"mesh3d\"}], \"parcoords\": [{\"line\": {\"colorbar\": {\"outlinewidth\": 0, \"ticks\": \"\"}}, \"type\": \"parcoords\"}], \"pie\": [{\"automargin\": true, \"type\": \"pie\"}], \"scatter\": [{\"marker\": {\"colorbar\": {\"outlinewidth\": 0, \"ticks\": \"\"}}, \"type\": \"scatter\"}], \"scatter3d\": [{\"line\": {\"colorbar\": {\"outlinewidth\": 0, \"ticks\": \"\"}}, \"marker\": {\"colorbar\": {\"outlinewidth\": 0, \"ticks\": \"\"}}, \"type\": \"scatter3d\"}], \"scattercarpet\": [{\"marker\": {\"colorbar\": {\"outlinewidth\": 0, \"ticks\": \"\"}}, \"type\": \"scattercarpet\"}], \"scattergeo\": [{\"marker\": {\"colorbar\": {\"outlinewidth\": 0, \"ticks\": \"\"}}, \"type\": \"scattergeo\"}], \"scattergl\": [{\"marker\": {\"colorbar\": {\"outlinewidth\": 0, \"ticks\": \"\"}}, \"type\": \"scattergl\"}], \"scattermapbox\": [{\"marker\": {\"colorbar\": {\"outlinewidth\": 0, \"ticks\": \"\"}}, \"type\": \"scattermapbox\"}], \"scatterpolar\": [{\"marker\": {\"colorbar\": {\"outlinewidth\": 0, \"ticks\": \"\"}}, \"type\": \"scatterpolar\"}], \"scatterpolargl\": [{\"marker\": {\"colorbar\": {\"outlinewidth\": 0, \"ticks\": \"\"}}, \"type\": \"scatterpolargl\"}], \"scatterternary\": [{\"marker\": {\"colorbar\": {\"outlinewidth\": 0, \"ticks\": \"\"}}, \"type\": \"scatterternary\"}], \"surface\": [{\"colorbar\": {\"outlinewidth\": 0, \"ticks\": \"\"}, \"colorscale\": [[0.0, \"#0d0887\"], [0.1111111111111111, \"#46039f\"], [0.2222222222222222, \"#7201a8\"], [0.3333333333333333, \"#9c179e\"], [0.4444444444444444, \"#bd3786\"], [0.5555555555555556, \"#d8576b\"], [0.6666666666666666, \"#ed7953\"], [0.7777777777777778, \"#fb9f3a\"], [0.8888888888888888, \"#fdca26\"], [1.0, \"#f0f921\"]], \"type\": \"surface\"}], \"table\": [{\"cells\": {\"fill\": {\"color\": \"#EBF0F8\"}, \"line\": {\"color\": \"white\"}}, \"header\": {\"fill\": {\"color\": \"#C8D4E3\"}, \"line\": {\"color\": \"white\"}}, \"type\": \"table\"}]}, \"layout\": {\"annotationdefaults\": {\"arrowcolor\": \"#2a3f5f\", \"arrowhead\": 0, \"arrowwidth\": 1}, \"autotypenumbers\": \"strict\", \"coloraxis\": {\"colorbar\": {\"outlinewidth\": 0, \"ticks\": \"\"}}, \"colorscale\": {\"diverging\": [[0, \"#8e0152\"], [0.1, \"#c51b7d\"], [0.2, \"#de77ae\"], [0.3, \"#f1b6da\"], [0.4, \"#fde0ef\"], [0.5, \"#f7f7f7\"], [0.6, \"#e6f5d0\"], [0.7, \"#b8e186\"], [0.8, \"#7fbc41\"], [0.9, \"#4d9221\"], [1, \"#276419\"]], \"sequential\": [[0.0, \"#0d0887\"], [0.1111111111111111, \"#46039f\"], [0.2222222222222222, \"#7201a8\"], [0.3333333333333333, \"#9c179e\"], [0.4444444444444444, \"#bd3786\"], [0.5555555555555556, \"#d8576b\"], [0.6666666666666666, \"#ed7953\"], [0.7777777777777778, \"#fb9f3a\"], [0.8888888888888888, \"#fdca26\"], [1.0, \"#f0f921\"]], \"sequentialminus\": [[0.0, \"#0d0887\"], [0.1111111111111111, \"#46039f\"], [0.2222222222222222, \"#7201a8\"], [0.3333333333333333, \"#9c179e\"], [0.4444444444444444, \"#bd3786\"], [0.5555555555555556, \"#d8576b\"], [0.6666666666666666, \"#ed7953\"], [0.7777777777777778, \"#fb9f3a\"], [0.8888888888888888, \"#fdca26\"], [1.0, \"#f0f921\"]]}, \"colorway\": [\"#636efa\", \"#EF553B\", \"#00cc96\", \"#ab63fa\", \"#FFA15A\", \"#19d3f3\", \"#FF6692\", \"#B6E880\", \"#FF97FF\", \"#FECB52\"], \"font\": {\"color\": \"#2a3f5f\"}, \"geo\": {\"bgcolor\": \"white\", \"lakecolor\": \"white\", \"landcolor\": \"#E5ECF6\", \"showlakes\": true, \"showland\": true, \"subunitcolor\": \"white\"}, \"hoverlabel\": {\"align\": \"left\"}, \"hovermode\": \"closest\", \"mapbox\": {\"style\": \"light\"}, \"paper_bgcolor\": \"white\", \"plot_bgcolor\": \"#E5ECF6\", \"polar\": {\"angularaxis\": {\"gridcolor\": \"white\", \"linecolor\": \"white\", \"ticks\": \"\"}, \"bgcolor\": \"#E5ECF6\", \"radialaxis\": {\"gridcolor\": \"white\", \"linecolor\": \"white\", \"ticks\": \"\"}}, \"scene\": {\"xaxis\": {\"backgroundcolor\": \"#E5ECF6\", \"gridcolor\": \"white\", \"gridwidth\": 2, \"linecolor\": \"white\", \"showbackground\": true, \"ticks\": \"\", \"zerolinecolor\": \"white\"}, \"yaxis\": {\"backgroundcolor\": \"#E5ECF6\", \"gridcolor\": \"white\", \"gridwidth\": 2, \"linecolor\": \"white\", \"showbackground\": true, \"ticks\": \"\", \"zerolinecolor\": \"white\"}, \"zaxis\": {\"backgroundcolor\": \"#E5ECF6\", \"gridcolor\": \"white\", \"gridwidth\": 2, \"linecolor\": \"white\", \"showbackground\": true, \"ticks\": \"\", \"zerolinecolor\": \"white\"}}, \"shapedefaults\": {\"line\": {\"color\": \"#2a3f5f\"}}, \"ternary\": {\"aaxis\": {\"gridcolor\": \"white\", \"linecolor\": \"white\", \"ticks\": \"\"}, \"baxis\": {\"gridcolor\": \"white\", \"linecolor\": \"white\", \"ticks\": \"\"}, \"bgcolor\": \"#E5ECF6\", \"caxis\": {\"gridcolor\": \"white\", \"linecolor\": \"white\", \"ticks\": \"\"}}, \"title\": {\"x\": 0.05}, \"xaxis\": {\"automargin\": true, \"gridcolor\": \"white\", \"linecolor\": \"white\", \"ticks\": \"\", \"title\": {\"standoff\": 15}, \"zerolinecolor\": \"white\", \"zerolinewidth\": 2}, \"yaxis\": {\"automargin\": true, \"gridcolor\": \"white\", \"linecolor\": \"white\", \"ticks\": \"\", \"title\": {\"standoff\": 15}, \"zerolinecolor\": \"white\", \"zerolinewidth\": 2}}}, \"xaxis\": {\"anchor\": \"y\", \"domain\": [0.0, 0.15], \"range\": [0, 110], \"title\": {\"text\": \"DATASET\"}}, \"xaxis10\": {\"anchor\": \"y10\", \"domain\": [0.51, 0.66], \"matches\": \"x\", \"showticklabels\": false}, \"xaxis11\": {\"anchor\": \"y11\", \"domain\": [0.6799999999999999, 0.83], \"matches\": \"x\", \"showticklabels\": false}, \"xaxis12\": {\"anchor\": \"y12\", \"domain\": [0.85, 1.0], \"matches\": \"x\", \"showticklabels\": false}, \"xaxis13\": {\"anchor\": \"y13\", \"domain\": [0.0, 0.15], \"matches\": \"x\", \"showticklabels\": false}, \"xaxis14\": {\"anchor\": \"y14\", \"domain\": [0.16999999999999998, 0.31999999999999995], \"matches\": \"x\", \"showticklabels\": false}, \"xaxis15\": {\"anchor\": \"y15\", \"domain\": [0.33999999999999997, 0.49], \"matches\": \"x\", \"showticklabels\": false}, \"xaxis16\": {\"anchor\": \"y16\", \"domain\": [0.51, 0.66], \"matches\": \"x\", \"showticklabels\": false}, \"xaxis17\": {\"anchor\": \"y17\", \"domain\": [0.6799999999999999, 0.83], \"matches\": \"x\", \"showticklabels\": false}, \"xaxis18\": {\"anchor\": \"y18\", \"domain\": [0.85, 1.0], \"matches\": \"x\", \"showticklabels\": false}, \"xaxis2\": {\"anchor\": \"y2\", \"domain\": [0.16999999999999998, 0.31999999999999995], \"matches\": \"x\", \"range\": [0, 110], \"title\": {\"text\": \"DATASET\"}}, \"xaxis3\": {\"anchor\": \"y3\", \"domain\": [0.33999999999999997, 0.49], \"matches\": \"x\", \"range\": [0, 110], \"title\": {\"text\": \"DATASET\"}}, \"xaxis4\": {\"anchor\": \"y4\", \"domain\": [0.51, 0.66], \"matches\": \"x\", \"range\": [0, 110], \"title\": {\"text\": \"DATASET\"}}, \"xaxis5\": {\"anchor\": \"y5\", \"domain\": [0.6799999999999999, 0.83], \"matches\": \"x\", \"range\": [0, 110], \"title\": {\"text\": \"DATASET\"}}, \"xaxis6\": {\"anchor\": \"y6\", \"domain\": [0.85, 1.0], \"matches\": \"x\", \"range\": [0, 110], \"title\": {\"text\": \"DATASET\"}}, \"xaxis7\": {\"anchor\": \"y7\", \"domain\": [0.0, 0.15], \"matches\": \"x\", \"showticklabels\": false}, \"xaxis8\": {\"anchor\": \"y8\", \"domain\": [0.16999999999999998, 0.31999999999999995], \"matches\": \"x\", \"showticklabels\": false}, \"xaxis9\": {\"anchor\": \"y9\", \"domain\": [0.33999999999999997, 0.49], \"matches\": \"x\", \"showticklabels\": false}, \"yaxis\": {\"anchor\": \"x\", \"domain\": [0.0, 0.2866666666666666], \"range\": [-10, 200], \"title\": {\"text\": \"value\"}}, \"yaxis10\": {\"anchor\": \"x10\", \"domain\": [0.35666666666666663, 0.6433333333333333], \"matches\": \"y\", \"showticklabels\": false}, \"yaxis11\": {\"anchor\": \"x11\", \"domain\": [0.35666666666666663, 0.6433333333333333], \"matches\": \"y\", \"showticklabels\": false}, \"yaxis12\": {\"anchor\": \"x12\", \"domain\": [0.35666666666666663, 0.6433333333333333], \"matches\": \"y\", \"showticklabels\": false}, \"yaxis13\": {\"anchor\": \"x13\", \"domain\": [0.7133333333333333, 0.9999999999999999], \"matches\": \"y\", \"range\": [-10, 200], \"title\": {\"text\": \"value\"}}, \"yaxis14\": {\"anchor\": \"x14\", \"domain\": [0.7133333333333333, 0.9999999999999999], \"matches\": \"y\", \"showticklabels\": false}, \"yaxis15\": {\"anchor\": \"x15\", \"domain\": [0.7133333333333333, 0.9999999999999999], \"matches\": \"y\", \"showticklabels\": false}, \"yaxis16\": {\"anchor\": \"x16\", \"domain\": [0.7133333333333333, 0.9999999999999999], \"matches\": \"y\", \"showticklabels\": false}, \"yaxis17\": {\"anchor\": \"x17\", \"domain\": [0.7133333333333333, 0.9999999999999999], \"matches\": \"y\", \"showticklabels\": false}, \"yaxis18\": {\"anchor\": \"x18\", \"domain\": [0.7133333333333333, 0.9999999999999999], \"matches\": \"y\", \"showticklabels\": false}, \"yaxis2\": {\"anchor\": \"x2\", \"domain\": [0.0, 0.2866666666666666], \"matches\": \"y\", \"showticklabels\": false}, \"yaxis3\": {\"anchor\": \"x3\", \"domain\": [0.0, 0.2866666666666666], \"matches\": \"y\", \"showticklabels\": false}, \"yaxis4\": {\"anchor\": \"x4\", \"domain\": [0.0, 0.2866666666666666], \"matches\": \"y\", \"showticklabels\": false}, \"yaxis5\": {\"anchor\": \"x5\", \"domain\": [0.0, 0.2866666666666666], \"matches\": \"y\", \"showticklabels\": false}, \"yaxis6\": {\"anchor\": \"x6\", \"domain\": [0.0, 0.2866666666666666], \"matches\": \"y\", \"showticklabels\": false}, \"yaxis7\": {\"anchor\": \"x7\", \"domain\": [0.35666666666666663, 0.6433333333333333], \"matches\": \"y\", \"range\": [-10, 200], \"title\": {\"text\": \"value\"}}, \"yaxis8\": {\"anchor\": \"x8\", \"domain\": [0.35666666666666663, 0.6433333333333333], \"matches\": \"y\", \"showticklabels\": false}, \"yaxis9\": {\"anchor\": \"x9\", \"domain\": [0.35666666666666663, 0.6433333333333333], \"matches\": \"y\", \"showticklabels\": false}},                        {\"responsive\": true}                    ).then(function(){\n",
       "                            \n",
       "var gd = document.getElementById('a0caca8e-a080-4236-8d0e-42295f5f9f5f');\n",
       "var x = new MutationObserver(function (mutations, observer) {{\n",
       "        var display = window.getComputedStyle(gd).display;\n",
       "        if (!display || display === 'none') {{\n",
       "            console.log([gd, 'removed!']);\n",
       "            Plotly.purge(gd);\n",
       "            observer.disconnect();\n",
       "        }}\n",
       "}});\n",
       "\n",
       "// Listen for the removal of the full notebook cells\n",
       "var notebookContainer = gd.closest('#notebook-container');\n",
       "if (notebookContainer) {{\n",
       "    x.observe(notebookContainer, {childList: true});\n",
       "}}\n",
       "\n",
       "// Listen for the clearing of the current output cell\n",
       "var outputEl = gd.closest('.output');\n",
       "if (outputEl) {{\n",
       "    x.observe(outputEl, {childList: true});\n",
       "}}\n",
       "\n",
       "                        })                };                });            </script>        </div>"
      ]
     },
     "metadata": {},
     "output_type": "display_data"
    }
   ],
   "source": [
    "fig = px.line(DELsummstats.sort_values(by=['DATASET'], ascending=[True]), x='DATASET', y=['MIN_BAM_DP', 'MED_BAM_DP', 'MAX_BAM_DP'], facet_col='TYPE', facet_col_wrap=6, range_y=(-10, 200), range_x=(0, 110), color_discrete_sequence=px.colors.qualitative.Vivid)\n",
    "fig"
   ]
  },
  {
   "cell_type": "markdown",
   "id": "0fd41dbe-858f-4181-8a21-0f02ba148b2a",
   "metadata": {},
   "source": [
    "#### SNP only"
   ]
  },
  {
   "cell_type": "code",
   "execution_count": 42,
   "id": "df87a56e-4fa8-448f-9d28-7666e7cf3f1f",
   "metadata": {},
   "outputs": [
    {
     "data": {
      "application/vnd.plotly.v1+json": {
       "config": {
        "plotlyServerURL": "https://plot.ly"
       },
       "data": [
        {
         "hovertemplate": "variable=MIN_BAM_DP<br>TYPE=inhA_promoter<br>DATASET=%{x}<br>value=%{y}<extra></extra>",
         "legendgroup": "MIN_BAM_DP",
         "line": {
          "color": "rgb(229, 134, 6)",
          "dash": "solid"
         },
         "mode": "lines",
         "name": "MIN_BAM_DP",
         "orientation": "v",
         "showlegend": true,
         "type": "scatter",
         "x": [
          5,
          10,
          15,
          20,
          30,
          40,
          50,
          60,
          70,
          80,
          90,
          100
         ],
         "xaxis": "x13",
         "y": [
          4,
          7,
          9,
          12,
          17,
          30,
          36,
          41,
          51,
          63,
          69,
          74
         ],
         "yaxis": "y13"
        },
        {
         "hovertemplate": "variable=MIN_BAM_DP<br>TYPE=gyrB<br>DATASET=%{x}<br>value=%{y}<extra></extra>",
         "legendgroup": "MIN_BAM_DP",
         "line": {
          "color": "rgb(229, 134, 6)",
          "dash": "solid"
         },
         "mode": "lines",
         "name": "MIN_BAM_DP",
         "orientation": "v",
         "showlegend": false,
         "type": "scatter",
         "x": [
          5,
          10,
          15,
          20,
          30,
          40,
          50,
          60,
          70,
          80,
          90,
          100
         ],
         "xaxis": "x14",
         "y": [
          0,
          2,
          5,
          10,
          17,
          27,
          35,
          44,
          48,
          51,
          62,
          71
         ],
         "yaxis": "y14"
        },
        {
         "hovertemplate": "variable=MIN_BAM_DP<br>TYPE=gyrA<br>DATASET=%{x}<br>value=%{y}<extra></extra>",
         "legendgroup": "MIN_BAM_DP",
         "line": {
          "color": "rgb(229, 134, 6)",
          "dash": "solid"
         },
         "mode": "lines",
         "name": "MIN_BAM_DP",
         "orientation": "v",
         "showlegend": false,
         "type": "scatter",
         "x": [
          5,
          10,
          15,
          20,
          30,
          40,
          50,
          60,
          70,
          80,
          90,
          100
         ],
         "xaxis": "x15",
         "y": [
          0,
          2,
          3,
          9,
          13,
          15,
          24,
          33,
          39,
          49,
          55,
          68
         ],
         "yaxis": "y15"
        },
        {
         "hovertemplate": "variable=MIN_BAM_DP<br>TYPE=rpoB<br>DATASET=%{x}<br>value=%{y}<extra></extra>",
         "legendgroup": "MIN_BAM_DP",
         "line": {
          "color": "rgb(229, 134, 6)",
          "dash": "solid"
         },
         "mode": "lines",
         "name": "MIN_BAM_DP",
         "orientation": "v",
         "showlegend": false,
         "type": "scatter",
         "x": [
          5,
          10,
          15,
          20,
          30,
          40,
          50,
          60,
          70,
          80,
          90,
          100
         ],
         "xaxis": "x16",
         "y": [
          0,
          1,
          5,
          6,
          9,
          20,
          29,
          37,
          42,
          46,
          51,
          58
         ],
         "yaxis": "y16"
        },
        {
         "hovertemplate": "variable=MIN_BAM_DP<br>TYPE=rpsL<br>DATASET=%{x}<br>value=%{y}<extra></extra>",
         "legendgroup": "MIN_BAM_DP",
         "line": {
          "color": "rgb(229, 134, 6)",
          "dash": "solid"
         },
         "mode": "lines",
         "name": "MIN_BAM_DP",
         "orientation": "v",
         "showlegend": false,
         "type": "scatter",
         "x": [
          5,
          10,
          15,
          20,
          30,
          40,
          50,
          60,
          70,
          80,
          90,
          100
         ],
         "xaxis": "x17",
         "y": [
          1,
          3,
          3,
          9,
          17,
          26,
          32,
          38,
          47,
          56,
          65,
          72
         ],
         "yaxis": "y17"
        },
        {
         "hovertemplate": "variable=MIN_BAM_DP<br>TYPE=rrs<br>DATASET=%{x}<br>value=%{y}<extra></extra>",
         "legendgroup": "MIN_BAM_DP",
         "line": {
          "color": "rgb(229, 134, 6)",
          "dash": "solid"
         },
         "mode": "lines",
         "name": "MIN_BAM_DP",
         "orientation": "v",
         "showlegend": false,
         "type": "scatter",
         "x": [
          5,
          10,
          15,
          20,
          30,
          40,
          50,
          60,
          70,
          80,
          90,
          100
         ],
         "xaxis": "x18",
         "y": [
          0,
          3,
          3,
          6,
          18,
          22,
          29,
          41,
          52,
          61,
          67,
          79
         ],
         "yaxis": "y18"
        },
        {
         "hovertemplate": "variable=MIN_BAM_DP<br>TYPE=fabG1<br>DATASET=%{x}<br>value=%{y}<extra></extra>",
         "legendgroup": "MIN_BAM_DP",
         "line": {
          "color": "rgb(229, 134, 6)",
          "dash": "solid"
         },
         "mode": "lines",
         "name": "MIN_BAM_DP",
         "orientation": "v",
         "showlegend": false,
         "type": "scatter",
         "x": [
          5,
          10,
          15,
          20,
          30,
          40,
          50,
          60,
          70,
          80,
          90,
          100
         ],
         "xaxis": "x7",
         "y": [
          0,
          2,
          7,
          13,
          21,
          28,
          37,
          46,
          53,
          56,
          67,
          71
         ],
         "yaxis": "y7"
        },
        {
         "hovertemplate": "variable=MIN_BAM_DP<br>TYPE=inhA<br>DATASET=%{x}<br>value=%{y}<extra></extra>",
         "legendgroup": "MIN_BAM_DP",
         "line": {
          "color": "rgb(229, 134, 6)",
          "dash": "solid"
         },
         "mode": "lines",
         "name": "MIN_BAM_DP",
         "orientation": "v",
         "showlegend": false,
         "type": "scatter",
         "x": [
          5,
          10,
          15,
          20,
          30,
          40,
          50,
          60,
          70,
          80,
          90,
          100
         ],
         "xaxis": "x8",
         "y": [
          0,
          1,
          5,
          7,
          13,
          19,
          23,
          31,
          43,
          48,
          61,
          74
         ],
         "yaxis": "y8"
        },
        {
         "hovertemplate": "variable=MIN_BAM_DP<br>TYPE=pncA<br>DATASET=%{x}<br>value=%{y}<extra></extra>",
         "legendgroup": "MIN_BAM_DP",
         "line": {
          "color": "rgb(229, 134, 6)",
          "dash": "solid"
         },
         "mode": "lines",
         "name": "MIN_BAM_DP",
         "orientation": "v",
         "showlegend": false,
         "type": "scatter",
         "x": [
          5,
          10,
          15,
          20,
          30,
          40,
          50,
          60,
          70,
          80,
          90,
          100
         ],
         "xaxis": "x9",
         "y": [
          2,
          4,
          7,
          10,
          21,
          27,
          36,
          42,
          52,
          60,
          68,
          77
         ],
         "yaxis": "y9"
        },
        {
         "hovertemplate": "variable=MIN_BAM_DP<br>TYPE=katG<br>DATASET=%{x}<br>value=%{y}<extra></extra>",
         "legendgroup": "MIN_BAM_DP",
         "line": {
          "color": "rgb(229, 134, 6)",
          "dash": "solid"
         },
         "mode": "lines",
         "name": "MIN_BAM_DP",
         "orientation": "v",
         "showlegend": false,
         "type": "scatter",
         "x": [
          5,
          10,
          15,
          20,
          30,
          40,
          50,
          60,
          70,
          80,
          90,
          100
         ],
         "xaxis": "x10",
         "y": [
          0,
          3,
          4,
          9,
          15,
          23,
          30,
          35,
          44,
          53,
          70,
          73
         ],
         "yaxis": "y10"
        },
        {
         "hovertemplate": "variable=MIN_BAM_DP<br>TYPE=eis<br>DATASET=%{x}<br>value=%{y}<extra></extra>",
         "legendgroup": "MIN_BAM_DP",
         "line": {
          "color": "rgb(229, 134, 6)",
          "dash": "solid"
         },
         "mode": "lines",
         "name": "MIN_BAM_DP",
         "orientation": "v",
         "showlegend": false,
         "type": "scatter",
         "x": [
          5,
          10,
          15,
          20,
          30,
          40,
          50,
          60,
          70,
          80,
          90,
          100
         ],
         "xaxis": "x11",
         "y": [
          1,
          1,
          6,
          10,
          16,
          24,
          33,
          48,
          54,
          61,
          68,
          78
         ],
         "yaxis": "y11"
        },
        {
         "hovertemplate": "variable=MIN_BAM_DP<br>TYPE=ahpC_promoter<br>DATASET=%{x}<br>value=%{y}<extra></extra>",
         "legendgroup": "MIN_BAM_DP",
         "line": {
          "color": "rgb(229, 134, 6)",
          "dash": "solid"
         },
         "mode": "lines",
         "name": "MIN_BAM_DP",
         "orientation": "v",
         "showlegend": false,
         "type": "scatter",
         "x": [
          5,
          10,
          15,
          20,
          30,
          40,
          50,
          60,
          70,
          80,
          90,
          100
         ],
         "xaxis": "x12",
         "y": [
          5,
          10,
          16,
          20,
          26,
          33,
          41,
          55,
          67,
          78,
          90,
          95
         ],
         "yaxis": "y12"
        },
        {
         "hovertemplate": "variable=MIN_BAM_DP<br>TYPE=ahpC<br>DATASET=%{x}<br>value=%{y}<extra></extra>",
         "legendgroup": "MIN_BAM_DP",
         "line": {
          "color": "rgb(229, 134, 6)",
          "dash": "solid"
         },
         "mode": "lines",
         "name": "MIN_BAM_DP",
         "orientation": "v",
         "showlegend": false,
         "type": "scatter",
         "x": [
          5,
          10,
          15,
          20,
          30,
          40,
          50,
          60,
          70,
          80,
          90,
          100
         ],
         "xaxis": "x",
         "y": [
          2,
          5,
          10,
          15,
          26,
          29,
          36,
          49,
          57,
          68,
          78,
          82
         ],
         "yaxis": "y"
        },
        {
         "hovertemplate": "variable=MIN_BAM_DP<br>TYPE=embC<br>DATASET=%{x}<br>value=%{y}<extra></extra>",
         "legendgroup": "MIN_BAM_DP",
         "line": {
          "color": "rgb(229, 134, 6)",
          "dash": "solid"
         },
         "mode": "lines",
         "name": "MIN_BAM_DP",
         "orientation": "v",
         "showlegend": false,
         "type": "scatter",
         "x": [
          5,
          10,
          15,
          20,
          30,
          40,
          50,
          60,
          70,
          80,
          90,
          100
         ],
         "xaxis": "x2",
         "y": [
          1,
          3,
          4,
          5,
          9,
          16,
          21,
          29,
          39,
          46,
          54,
          64
         ],
         "yaxis": "y2"
        },
        {
         "hovertemplate": "variable=MIN_BAM_DP<br>TYPE=embA<br>DATASET=%{x}<br>value=%{y}<extra></extra>",
         "legendgroup": "MIN_BAM_DP",
         "line": {
          "color": "rgb(229, 134, 6)",
          "dash": "solid"
         },
         "mode": "lines",
         "name": "MIN_BAM_DP",
         "orientation": "v",
         "showlegend": false,
         "type": "scatter",
         "x": [
          5,
          10,
          15,
          20,
          30,
          40,
          50,
          60,
          70,
          80,
          90,
          100
         ],
         "xaxis": "x3",
         "y": [
          0,
          2,
          5,
          7,
          14,
          23,
          28,
          39,
          44,
          48,
          52,
          66
         ],
         "yaxis": "y3"
        },
        {
         "hovertemplate": "variable=MIN_BAM_DP<br>TYPE=embB<br>DATASET=%{x}<br>value=%{y}<extra></extra>",
         "legendgroup": "MIN_BAM_DP",
         "line": {
          "color": "rgb(229, 134, 6)",
          "dash": "solid"
         },
         "mode": "lines",
         "name": "MIN_BAM_DP",
         "orientation": "v",
         "showlegend": false,
         "type": "scatter",
         "x": [
          5,
          10,
          15,
          20,
          30,
          40,
          50,
          60,
          70,
          80,
          90,
          100
         ],
         "xaxis": "x4",
         "y": [
          0,
          2,
          5,
          10,
          17,
          21,
          28,
          40,
          47,
          51,
          55,
          72
         ],
         "yaxis": "y4"
        },
        {
         "hovertemplate": "variable=MIN_BAM_DP<br>TYPE=gidB<br>DATASET=%{x}<br>value=%{y}<extra></extra>",
         "legendgroup": "MIN_BAM_DP",
         "line": {
          "color": "rgb(229, 134, 6)",
          "dash": "solid"
         },
         "mode": "lines",
         "name": "MIN_BAM_DP",
         "orientation": "v",
         "showlegend": false,
         "type": "scatter",
         "x": [
          5,
          10,
          15,
          20,
          30,
          40,
          50,
          60,
          70,
          80,
          90,
          100
         ],
         "xaxis": "x5",
         "y": [
          3,
          4,
          9,
          15,
          21,
          31,
          40,
          44,
          58,
          63,
          71,
          78
         ],
         "yaxis": "y5"
        },
        {
         "hovertemplate": "variable=MIN_BAM_DP<br>TYPE=eis_promoter<br>DATASET=%{x}<br>value=%{y}<extra></extra>",
         "legendgroup": "MIN_BAM_DP",
         "line": {
          "color": "rgb(229, 134, 6)",
          "dash": "solid"
         },
         "mode": "lines",
         "name": "MIN_BAM_DP",
         "orientation": "v",
         "showlegend": false,
         "type": "scatter",
         "x": [
          5,
          10,
          15,
          20,
          30,
          40,
          50,
          60,
          70,
          80,
          90,
          100
         ],
         "xaxis": "x6",
         "y": [
          1,
          5,
          6,
          8,
          12,
          19,
          27,
          35,
          50,
          60,
          63,
          78
         ],
         "yaxis": "y6"
        },
        {
         "hovertemplate": "variable=MED_BAM_DP<br>TYPE=inhA_promoter<br>DATASET=%{x}<br>value=%{y}<extra></extra>",
         "legendgroup": "MED_BAM_DP",
         "line": {
          "color": "rgb(93, 105, 177)",
          "dash": "solid"
         },
         "mode": "lines",
         "name": "MED_BAM_DP",
         "orientation": "v",
         "showlegend": true,
         "type": "scatter",
         "x": [
          5,
          10,
          15,
          20,
          30,
          40,
          50,
          60,
          70,
          80,
          90,
          100
         ],
         "xaxis": "x13",
         "y": [
          6,
          11,
          16,
          19,
          22,
          37,
          45,
          52,
          58,
          71,
          76,
          84
         ],
         "yaxis": "y13"
        },
        {
         "hovertemplate": "variable=MED_BAM_DP<br>TYPE=gyrB<br>DATASET=%{x}<br>value=%{y}<extra></extra>",
         "legendgroup": "MED_BAM_DP",
         "line": {
          "color": "rgb(93, 105, 177)",
          "dash": "solid"
         },
         "mode": "lines",
         "name": "MED_BAM_DP",
         "orientation": "v",
         "showlegend": false,
         "type": "scatter",
         "x": [
          5,
          10,
          15,
          20,
          30,
          40,
          50,
          60,
          70,
          80,
          90,
          100
         ],
         "xaxis": "x14",
         "y": [
          5,
          10,
          15,
          19,
          30,
          38,
          49,
          56,
          65,
          75,
          86.5,
          97
         ],
         "yaxis": "y14"
        },
        {
         "hovertemplate": "variable=MED_BAM_DP<br>TYPE=gyrA<br>DATASET=%{x}<br>value=%{y}<extra></extra>",
         "legendgroup": "MED_BAM_DP",
         "line": {
          "color": "rgb(93, 105, 177)",
          "dash": "solid"
         },
         "mode": "lines",
         "name": "MED_BAM_DP",
         "orientation": "v",
         "showlegend": false,
         "type": "scatter",
         "x": [
          5,
          10,
          15,
          20,
          30,
          40,
          50,
          60,
          70,
          80,
          90,
          100
         ],
         "xaxis": "x15",
         "y": [
          4,
          9,
          16,
          21,
          32,
          41,
          51,
          61,
          73,
          83,
          92,
          100
         ],
         "yaxis": "y15"
        },
        {
         "hovertemplate": "variable=MED_BAM_DP<br>TYPE=rpoB<br>DATASET=%{x}<br>value=%{y}<extra></extra>",
         "legendgroup": "MED_BAM_DP",
         "line": {
          "color": "rgb(93, 105, 177)",
          "dash": "solid"
         },
         "mode": "lines",
         "name": "MED_BAM_DP",
         "orientation": "v",
         "showlegend": false,
         "type": "scatter",
         "x": [
          5,
          10,
          15,
          20,
          30,
          40,
          50,
          60,
          70,
          80,
          90,
          100
         ],
         "xaxis": "x16",
         "y": [
          4,
          9,
          15,
          20,
          30,
          41,
          51,
          60,
          71,
          81,
          90,
          99
         ],
         "yaxis": "y16"
        },
        {
         "hovertemplate": "variable=MED_BAM_DP<br>TYPE=rpsL<br>DATASET=%{x}<br>value=%{y}<extra></extra>",
         "legendgroup": "MED_BAM_DP",
         "line": {
          "color": "rgb(93, 105, 177)",
          "dash": "solid"
         },
         "mode": "lines",
         "name": "MED_BAM_DP",
         "orientation": "v",
         "showlegend": false,
         "type": "scatter",
         "x": [
          5,
          10,
          15,
          20,
          30,
          40,
          50,
          60,
          70,
          80,
          90,
          100
         ],
         "xaxis": "x17",
         "y": [
          4,
          7,
          10,
          16,
          24,
          34,
          42,
          48,
          63,
          70,
          78,
          83
         ],
         "yaxis": "y17"
        },
        {
         "hovertemplate": "variable=MED_BAM_DP<br>TYPE=rrs<br>DATASET=%{x}<br>value=%{y}<extra></extra>",
         "legendgroup": "MED_BAM_DP",
         "line": {
          "color": "rgb(93, 105, 177)",
          "dash": "solid"
         },
         "mode": "lines",
         "name": "MED_BAM_DP",
         "orientation": "v",
         "showlegend": false,
         "type": "scatter",
         "x": [
          5,
          10,
          15,
          20,
          30,
          40,
          50,
          60,
          70,
          80,
          90,
          100
         ],
         "xaxis": "x18",
         "y": [
          4,
          10,
          18,
          22,
          33,
          42,
          49,
          57,
          69,
          81,
          90,
          101
         ],
         "yaxis": "y18"
        },
        {
         "hovertemplate": "variable=MED_BAM_DP<br>TYPE=fabG1<br>DATASET=%{x}<br>value=%{y}<extra></extra>",
         "legendgroup": "MED_BAM_DP",
         "line": {
          "color": "rgb(93, 105, 177)",
          "dash": "solid"
         },
         "mode": "lines",
         "name": "MED_BAM_DP",
         "orientation": "v",
         "showlegend": false,
         "type": "scatter",
         "x": [
          5,
          10,
          15,
          20,
          30,
          40,
          50,
          60,
          70,
          80,
          90,
          100
         ],
         "xaxis": "x7",
         "y": [
          4,
          8,
          12,
          18,
          28,
          40,
          52,
          64,
          73,
          79,
          88,
          97.5
         ],
         "yaxis": "y7"
        },
        {
         "hovertemplate": "variable=MED_BAM_DP<br>TYPE=inhA<br>DATASET=%{x}<br>value=%{y}<extra></extra>",
         "legendgroup": "MED_BAM_DP",
         "line": {
          "color": "rgb(93, 105, 177)",
          "dash": "solid"
         },
         "mode": "lines",
         "name": "MED_BAM_DP",
         "orientation": "v",
         "showlegend": false,
         "type": "scatter",
         "x": [
          5,
          10,
          15,
          20,
          30,
          40,
          50,
          60,
          70,
          80,
          90,
          100
         ],
         "xaxis": "x8",
         "y": [
          5,
          9,
          14,
          18,
          26,
          37,
          47.5,
          57,
          65,
          77,
          87,
          97.5
         ],
         "yaxis": "y8"
        },
        {
         "hovertemplate": "variable=MED_BAM_DP<br>TYPE=pncA<br>DATASET=%{x}<br>value=%{y}<extra></extra>",
         "legendgroup": "MED_BAM_DP",
         "line": {
          "color": "rgb(93, 105, 177)",
          "dash": "solid"
         },
         "mode": "lines",
         "name": "MED_BAM_DP",
         "orientation": "v",
         "showlegend": false,
         "type": "scatter",
         "x": [
          5,
          10,
          15,
          20,
          30,
          40,
          50,
          60,
          70,
          80,
          90,
          100
         ],
         "xaxis": "x9",
         "y": [
          4,
          8,
          11,
          17,
          27,
          34,
          45,
          53,
          62,
          69,
          78,
          88
         ],
         "yaxis": "y9"
        },
        {
         "hovertemplate": "variable=MED_BAM_DP<br>TYPE=katG<br>DATASET=%{x}<br>value=%{y}<extra></extra>",
         "legendgroup": "MED_BAM_DP",
         "line": {
          "color": "rgb(93, 105, 177)",
          "dash": "solid"
         },
         "mode": "lines",
         "name": "MED_BAM_DP",
         "orientation": "v",
         "showlegend": false,
         "type": "scatter",
         "x": [
          5,
          10,
          15,
          20,
          30,
          40,
          50,
          60,
          70,
          80,
          90,
          100
         ],
         "xaxis": "x10",
         "y": [
          4,
          9,
          15,
          20,
          28,
          40,
          51,
          62,
          74,
          85,
          95,
          105
         ],
         "yaxis": "y10"
        },
        {
         "hovertemplate": "variable=MED_BAM_DP<br>TYPE=eis<br>DATASET=%{x}<br>value=%{y}<extra></extra>",
         "legendgroup": "MED_BAM_DP",
         "line": {
          "color": "rgb(93, 105, 177)",
          "dash": "solid"
         },
         "mode": "lines",
         "name": "MED_BAM_DP",
         "orientation": "v",
         "showlegend": false,
         "type": "scatter",
         "x": [
          5,
          10,
          15,
          20,
          30,
          40,
          50,
          60,
          70,
          80,
          90,
          100
         ],
         "xaxis": "x11",
         "y": [
          5,
          10,
          14,
          19,
          29,
          41,
          49,
          61,
          69,
          81,
          89,
          96
         ],
         "yaxis": "y11"
        },
        {
         "hovertemplate": "variable=MED_BAM_DP<br>TYPE=ahpC_promoter<br>DATASET=%{x}<br>value=%{y}<extra></extra>",
         "legendgroup": "MED_BAM_DP",
         "line": {
          "color": "rgb(93, 105, 177)",
          "dash": "solid"
         },
         "mode": "lines",
         "name": "MED_BAM_DP",
         "orientation": "v",
         "showlegend": false,
         "type": "scatter",
         "x": [
          5,
          10,
          15,
          20,
          30,
          40,
          50,
          60,
          70,
          80,
          90,
          100
         ],
         "xaxis": "x12",
         "y": [
          5,
          12,
          18,
          25,
          32,
          40,
          51,
          63,
          75,
          85,
          96,
          104
         ],
         "yaxis": "y12"
        },
        {
         "hovertemplate": "variable=MED_BAM_DP<br>TYPE=ahpC<br>DATASET=%{x}<br>value=%{y}<extra></extra>",
         "legendgroup": "MED_BAM_DP",
         "line": {
          "color": "rgb(93, 105, 177)",
          "dash": "solid"
         },
         "mode": "lines",
         "name": "MED_BAM_DP",
         "orientation": "v",
         "showlegend": false,
         "type": "scatter",
         "x": [
          5,
          10,
          15,
          20,
          30,
          40,
          50,
          60,
          70,
          80,
          90,
          100
         ],
         "xaxis": "x",
         "y": [
          8,
          11,
          16,
          21,
          32,
          39,
          50,
          62,
          72,
          81,
          90,
          98
         ],
         "yaxis": "y"
        },
        {
         "hovertemplate": "variable=MED_BAM_DP<br>TYPE=embC<br>DATASET=%{x}<br>value=%{y}<extra></extra>",
         "legendgroup": "MED_BAM_DP",
         "line": {
          "color": "rgb(93, 105, 177)",
          "dash": "solid"
         },
         "mode": "lines",
         "name": "MED_BAM_DP",
         "orientation": "v",
         "showlegend": false,
         "type": "scatter",
         "x": [
          5,
          10,
          15,
          20,
          30,
          40,
          50,
          60,
          70,
          80,
          90,
          100
         ],
         "xaxis": "x2",
         "y": [
          5,
          7,
          13,
          17,
          25,
          34,
          44,
          54,
          65,
          75,
          84,
          95
         ],
         "yaxis": "y2"
        },
        {
         "hovertemplate": "variable=MED_BAM_DP<br>TYPE=embA<br>DATASET=%{x}<br>value=%{y}<extra></extra>",
         "legendgroup": "MED_BAM_DP",
         "line": {
          "color": "rgb(93, 105, 177)",
          "dash": "solid"
         },
         "mode": "lines",
         "name": "MED_BAM_DP",
         "orientation": "v",
         "showlegend": false,
         "type": "scatter",
         "x": [
          5,
          10,
          15,
          20,
          30,
          40,
          50,
          60,
          70,
          80,
          90,
          100
         ],
         "xaxis": "x3",
         "y": [
          5,
          9,
          15,
          20,
          30,
          40,
          53,
          65,
          75,
          84,
          93,
          104
         ],
         "yaxis": "y3"
        },
        {
         "hovertemplate": "variable=MED_BAM_DP<br>TYPE=embB<br>DATASET=%{x}<br>value=%{y}<extra></extra>",
         "legendgroup": "MED_BAM_DP",
         "line": {
          "color": "rgb(93, 105, 177)",
          "dash": "solid"
         },
         "mode": "lines",
         "name": "MED_BAM_DP",
         "orientation": "v",
         "showlegend": false,
         "type": "scatter",
         "x": [
          5,
          10,
          15,
          20,
          30,
          40,
          50,
          60,
          70,
          80,
          90,
          100
         ],
         "xaxis": "x4",
         "y": [
          6,
          10,
          14,
          20,
          31,
          42,
          53,
          62,
          74,
          84,
          95,
          105
         ],
         "yaxis": "y4"
        },
        {
         "hovertemplate": "variable=MED_BAM_DP<br>TYPE=gidB<br>DATASET=%{x}<br>value=%{y}<extra></extra>",
         "legendgroup": "MED_BAM_DP",
         "line": {
          "color": "rgb(93, 105, 177)",
          "dash": "solid"
         },
         "mode": "lines",
         "name": "MED_BAM_DP",
         "orientation": "v",
         "showlegend": false,
         "type": "scatter",
         "x": [
          5,
          10,
          15,
          20,
          30,
          40,
          50,
          60,
          70,
          80,
          90,
          100
         ],
         "xaxis": "x5",
         "y": [
          6,
          11,
          13,
          19,
          32,
          43,
          49,
          61,
          68,
          78,
          86,
          95
         ],
         "yaxis": "y5"
        },
        {
         "hovertemplate": "variable=MED_BAM_DP<br>TYPE=eis_promoter<br>DATASET=%{x}<br>value=%{y}<extra></extra>",
         "legendgroup": "MED_BAM_DP",
         "line": {
          "color": "rgb(93, 105, 177)",
          "dash": "solid"
         },
         "mode": "lines",
         "name": "MED_BAM_DP",
         "orientation": "v",
         "showlegend": false,
         "type": "scatter",
         "x": [
          5,
          10,
          15,
          20,
          30,
          40,
          50,
          60,
          70,
          80,
          90,
          100
         ],
         "xaxis": "x6",
         "y": [
          5,
          9,
          11,
          13,
          22,
          29,
          37,
          54,
          66,
          78,
          86,
          95
         ],
         "yaxis": "y6"
        },
        {
         "hovertemplate": "variable=MAX_BAM_DP<br>TYPE=inhA_promoter<br>DATASET=%{x}<br>value=%{y}<extra></extra>",
         "legendgroup": "MAX_BAM_DP",
         "line": {
          "color": "rgb(82, 188, 163)",
          "dash": "solid"
         },
         "mode": "lines",
         "name": "MAX_BAM_DP",
         "orientation": "v",
         "showlegend": true,
         "type": "scatter",
         "x": [
          5,
          10,
          15,
          20,
          30,
          40,
          50,
          60,
          70,
          80,
          90,
          100
         ],
         "xaxis": "x13",
         "y": [
          9,
          14,
          19,
          22,
          25,
          43,
          52,
          61,
          63,
          76,
          82,
          90
         ],
         "yaxis": "y13"
        },
        {
         "hovertemplate": "variable=MAX_BAM_DP<br>TYPE=gyrB<br>DATASET=%{x}<br>value=%{y}<extra></extra>",
         "legendgroup": "MAX_BAM_DP",
         "line": {
          "color": "rgb(82, 188, 163)",
          "dash": "solid"
         },
         "mode": "lines",
         "name": "MAX_BAM_DP",
         "orientation": "v",
         "showlegend": false,
         "type": "scatter",
         "x": [
          5,
          10,
          15,
          20,
          30,
          40,
          50,
          60,
          70,
          80,
          90,
          100
         ],
         "xaxis": "x14",
         "y": [
          11,
          21,
          27,
          30,
          44,
          55,
          59,
          68,
          82,
          94,
          117,
          123
         ],
         "yaxis": "y14"
        },
        {
         "hovertemplate": "variable=MAX_BAM_DP<br>TYPE=gyrA<br>DATASET=%{x}<br>value=%{y}<extra></extra>",
         "legendgroup": "MAX_BAM_DP",
         "line": {
          "color": "rgb(82, 188, 163)",
          "dash": "solid"
         },
         "mode": "lines",
         "name": "MAX_BAM_DP",
         "orientation": "v",
         "showlegend": false,
         "type": "scatter",
         "x": [
          5,
          10,
          15,
          20,
          30,
          40,
          50,
          60,
          70,
          80,
          90,
          100
         ],
         "xaxis": "x15",
         "y": [
          14,
          22,
          29,
          35,
          46,
          58,
          69,
          80,
          89,
          104,
          114,
          120
         ],
         "yaxis": "y15"
        },
        {
         "hovertemplate": "variable=MAX_BAM_DP<br>TYPE=rpoB<br>DATASET=%{x}<br>value=%{y}<extra></extra>",
         "legendgroup": "MAX_BAM_DP",
         "line": {
          "color": "rgb(82, 188, 163)",
          "dash": "solid"
         },
         "mode": "lines",
         "name": "MAX_BAM_DP",
         "orientation": "v",
         "showlegend": false,
         "type": "scatter",
         "x": [
          5,
          10,
          15,
          20,
          30,
          40,
          50,
          60,
          70,
          80,
          90,
          100
         ],
         "xaxis": "x16",
         "y": [
          12,
          18,
          28,
          34,
          44,
          60,
          77,
          92,
          104,
          112,
          122,
          132
         ],
         "yaxis": "y16"
        },
        {
         "hovertemplate": "variable=MAX_BAM_DP<br>TYPE=rpsL<br>DATASET=%{x}<br>value=%{y}<extra></extra>",
         "legendgroup": "MAX_BAM_DP",
         "line": {
          "color": "rgb(82, 188, 163)",
          "dash": "solid"
         },
         "mode": "lines",
         "name": "MAX_BAM_DP",
         "orientation": "v",
         "showlegend": false,
         "type": "scatter",
         "x": [
          5,
          10,
          15,
          20,
          30,
          40,
          50,
          60,
          70,
          80,
          90,
          100
         ],
         "xaxis": "x17",
         "y": [
          12,
          19,
          20,
          25,
          32,
          52,
          56,
          62,
          74,
          90,
          98,
          107
         ],
         "yaxis": "y17"
        },
        {
         "hovertemplate": "variable=MAX_BAM_DP<br>TYPE=rrs<br>DATASET=%{x}<br>value=%{y}<extra></extra>",
         "legendgroup": "MAX_BAM_DP",
         "line": {
          "color": "rgb(82, 188, 163)",
          "dash": "solid"
         },
         "mode": "lines",
         "name": "MAX_BAM_DP",
         "orientation": "v",
         "showlegend": false,
         "type": "scatter",
         "x": [
          5,
          10,
          15,
          20,
          30,
          40,
          50,
          60,
          70,
          80,
          90,
          100
         ],
         "xaxis": "x18",
         "y": [
          12,
          16,
          26,
          35,
          53,
          62,
          75,
          88,
          103,
          109,
          132,
          140
         ],
         "yaxis": "y18"
        },
        {
         "hovertemplate": "variable=MAX_BAM_DP<br>TYPE=fabG1<br>DATASET=%{x}<br>value=%{y}<extra></extra>",
         "legendgroup": "MAX_BAM_DP",
         "line": {
          "color": "rgb(82, 188, 163)",
          "dash": "solid"
         },
         "mode": "lines",
         "name": "MAX_BAM_DP",
         "orientation": "v",
         "showlegend": false,
         "type": "scatter",
         "x": [
          5,
          10,
          15,
          20,
          30,
          40,
          50,
          60,
          70,
          80,
          90,
          100
         ],
         "xaxis": "x7",
         "y": [
          11,
          18,
          20,
          24,
          39,
          47,
          62,
          78,
          89,
          102,
          117,
          128
         ],
         "yaxis": "y7"
        },
        {
         "hovertemplate": "variable=MAX_BAM_DP<br>TYPE=inhA<br>DATASET=%{x}<br>value=%{y}<extra></extra>",
         "legendgroup": "MAX_BAM_DP",
         "line": {
          "color": "rgb(82, 188, 163)",
          "dash": "solid"
         },
         "mode": "lines",
         "name": "MAX_BAM_DP",
         "orientation": "v",
         "showlegend": false,
         "type": "scatter",
         "x": [
          5,
          10,
          15,
          20,
          30,
          40,
          50,
          60,
          70,
          80,
          90,
          100
         ],
         "xaxis": "x8",
         "y": [
          9,
          16,
          22,
          25,
          38,
          51,
          63,
          72,
          86,
          100,
          116,
          122
         ],
         "yaxis": "y8"
        },
        {
         "hovertemplate": "variable=MAX_BAM_DP<br>TYPE=pncA<br>DATASET=%{x}<br>value=%{y}<extra></extra>",
         "legendgroup": "MAX_BAM_DP",
         "line": {
          "color": "rgb(82, 188, 163)",
          "dash": "solid"
         },
         "mode": "lines",
         "name": "MAX_BAM_DP",
         "orientation": "v",
         "showlegend": false,
         "type": "scatter",
         "x": [
          5,
          10,
          15,
          20,
          30,
          40,
          50,
          60,
          70,
          80,
          90,
          100
         ],
         "xaxis": "x9",
         "y": [
          7,
          12,
          18,
          21,
          31,
          42,
          51,
          68,
          77,
          86,
          96,
          102
         ],
         "yaxis": "y9"
        },
        {
         "hovertemplate": "variable=MAX_BAM_DP<br>TYPE=katG<br>DATASET=%{x}<br>value=%{y}<extra></extra>",
         "legendgroup": "MAX_BAM_DP",
         "line": {
          "color": "rgb(82, 188, 163)",
          "dash": "solid"
         },
         "mode": "lines",
         "name": "MAX_BAM_DP",
         "orientation": "v",
         "showlegend": false,
         "type": "scatter",
         "x": [
          5,
          10,
          15,
          20,
          30,
          40,
          50,
          60,
          70,
          80,
          90,
          100
         ],
         "xaxis": "x10",
         "y": [
          13,
          16,
          23,
          30,
          36,
          60,
          70,
          88,
          97,
          107,
          118,
          131
         ],
         "yaxis": "y10"
        },
        {
         "hovertemplate": "variable=MAX_BAM_DP<br>TYPE=eis<br>DATASET=%{x}<br>value=%{y}<extra></extra>",
         "legendgroup": "MAX_BAM_DP",
         "line": {
          "color": "rgb(82, 188, 163)",
          "dash": "solid"
         },
         "mode": "lines",
         "name": "MAX_BAM_DP",
         "orientation": "v",
         "showlegend": false,
         "type": "scatter",
         "x": [
          5,
          10,
          15,
          20,
          30,
          40,
          50,
          60,
          70,
          80,
          90,
          100
         ],
         "xaxis": "x11",
         "y": [
          17,
          21,
          24,
          25,
          38,
          54,
          71,
          81,
          93,
          103,
          112,
          119
         ],
         "yaxis": "y11"
        },
        {
         "hovertemplate": "variable=MAX_BAM_DP<br>TYPE=ahpC_promoter<br>DATASET=%{x}<br>value=%{y}<extra></extra>",
         "legendgroup": "MAX_BAM_DP",
         "line": {
          "color": "rgb(82, 188, 163)",
          "dash": "solid"
         },
         "mode": "lines",
         "name": "MAX_BAM_DP",
         "orientation": "v",
         "showlegend": false,
         "type": "scatter",
         "x": [
          5,
          10,
          15,
          20,
          30,
          40,
          50,
          60,
          70,
          80,
          90,
          100
         ],
         "xaxis": "x12",
         "y": [
          7,
          15,
          20,
          28,
          36,
          46,
          56,
          68,
          80,
          89,
          100,
          109
         ],
         "yaxis": "y12"
        },
        {
         "hovertemplate": "variable=MAX_BAM_DP<br>TYPE=ahpC<br>DATASET=%{x}<br>value=%{y}<extra></extra>",
         "legendgroup": "MAX_BAM_DP",
         "line": {
          "color": "rgb(82, 188, 163)",
          "dash": "solid"
         },
         "mode": "lines",
         "name": "MAX_BAM_DP",
         "orientation": "v",
         "showlegend": false,
         "type": "scatter",
         "x": [
          5,
          10,
          15,
          20,
          30,
          40,
          50,
          60,
          70,
          80,
          90,
          100
         ],
         "xaxis": "x",
         "y": [
          13,
          19,
          21,
          28,
          37,
          46,
          60,
          74,
          88,
          103,
          118,
          128
         ],
         "yaxis": "y"
        },
        {
         "hovertemplate": "variable=MAX_BAM_DP<br>TYPE=embC<br>DATASET=%{x}<br>value=%{y}<extra></extra>",
         "legendgroup": "MAX_BAM_DP",
         "line": {
          "color": "rgb(82, 188, 163)",
          "dash": "solid"
         },
         "mode": "lines",
         "name": "MAX_BAM_DP",
         "orientation": "v",
         "showlegend": false,
         "type": "scatter",
         "x": [
          5,
          10,
          15,
          20,
          30,
          40,
          50,
          60,
          70,
          80,
          90,
          100
         ],
         "xaxis": "x2",
         "y": [
          11,
          20,
          22,
          29,
          45,
          59,
          69,
          84,
          96,
          106,
          114,
          122
         ],
         "yaxis": "y2"
        },
        {
         "hovertemplate": "variable=MAX_BAM_DP<br>TYPE=embA<br>DATASET=%{x}<br>value=%{y}<extra></extra>",
         "legendgroup": "MAX_BAM_DP",
         "line": {
          "color": "rgb(82, 188, 163)",
          "dash": "solid"
         },
         "mode": "lines",
         "name": "MAX_BAM_DP",
         "orientation": "v",
         "showlegend": false,
         "type": "scatter",
         "x": [
          5,
          10,
          15,
          20,
          30,
          40,
          50,
          60,
          70,
          80,
          90,
          100
         ],
         "xaxis": "x3",
         "y": [
          13,
          23,
          27,
          31,
          53,
          66,
          78,
          89,
          104,
          113,
          118,
          131
         ],
         "yaxis": "y3"
        },
        {
         "hovertemplate": "variable=MAX_BAM_DP<br>TYPE=embB<br>DATASET=%{x}<br>value=%{y}<extra></extra>",
         "legendgroup": "MAX_BAM_DP",
         "line": {
          "color": "rgb(82, 188, 163)",
          "dash": "solid"
         },
         "mode": "lines",
         "name": "MAX_BAM_DP",
         "orientation": "v",
         "showlegend": false,
         "type": "scatter",
         "x": [
          5,
          10,
          15,
          20,
          30,
          40,
          50,
          60,
          70,
          80,
          90,
          100
         ],
         "xaxis": "x4",
         "y": [
          16,
          26,
          33,
          38,
          51,
          62,
          71,
          91,
          106,
          119,
          128,
          133
         ],
         "yaxis": "y4"
        },
        {
         "hovertemplate": "variable=MAX_BAM_DP<br>TYPE=gidB<br>DATASET=%{x}<br>value=%{y}<extra></extra>",
         "legendgroup": "MAX_BAM_DP",
         "line": {
          "color": "rgb(82, 188, 163)",
          "dash": "solid"
         },
         "mode": "lines",
         "name": "MAX_BAM_DP",
         "orientation": "v",
         "showlegend": false,
         "type": "scatter",
         "x": [
          5,
          10,
          15,
          20,
          30,
          40,
          50,
          60,
          70,
          80,
          90,
          100
         ],
         "xaxis": "x5",
         "y": [
          9,
          21,
          22,
          25,
          43,
          55,
          72,
          79,
          90,
          98,
          105,
          124
         ],
         "yaxis": "y5"
        },
        {
         "hovertemplate": "variable=MAX_BAM_DP<br>TYPE=eis_promoter<br>DATASET=%{x}<br>value=%{y}<extra></extra>",
         "legendgroup": "MAX_BAM_DP",
         "line": {
          "color": "rgb(82, 188, 163)",
          "dash": "solid"
         },
         "mode": "lines",
         "name": "MAX_BAM_DP",
         "orientation": "v",
         "showlegend": false,
         "type": "scatter",
         "x": [
          5,
          10,
          15,
          20,
          30,
          40,
          50,
          60,
          70,
          80,
          90,
          100
         ],
         "xaxis": "x6",
         "y": [
          9,
          15,
          24,
          25,
          35,
          50,
          56,
          65,
          75,
          91,
          101,
          114
         ],
         "yaxis": "y6"
        }
       ],
       "layout": {
        "annotations": [
         {
          "font": {},
          "showarrow": false,
          "text": "TYPE=ahpC",
          "x": 0.075,
          "xanchor": "center",
          "xref": "paper",
          "y": 0.2866666666666666,
          "yanchor": "bottom",
          "yref": "paper"
         },
         {
          "font": {},
          "showarrow": false,
          "text": "TYPE=embC",
          "x": 0.24499999999999997,
          "xanchor": "center",
          "xref": "paper",
          "y": 0.2866666666666666,
          "yanchor": "bottom",
          "yref": "paper"
         },
         {
          "font": {},
          "showarrow": false,
          "text": "TYPE=embA",
          "x": 0.415,
          "xanchor": "center",
          "xref": "paper",
          "y": 0.2866666666666666,
          "yanchor": "bottom",
          "yref": "paper"
         },
         {
          "font": {},
          "showarrow": false,
          "text": "TYPE=embB",
          "x": 0.585,
          "xanchor": "center",
          "xref": "paper",
          "y": 0.2866666666666666,
          "yanchor": "bottom",
          "yref": "paper"
         },
         {
          "font": {},
          "showarrow": false,
          "text": "TYPE=gidB",
          "x": 0.7549999999999999,
          "xanchor": "center",
          "xref": "paper",
          "y": 0.2866666666666666,
          "yanchor": "bottom",
          "yref": "paper"
         },
         {
          "font": {},
          "showarrow": false,
          "text": "TYPE=eis_promoter",
          "x": 0.925,
          "xanchor": "center",
          "xref": "paper",
          "y": 0.2866666666666666,
          "yanchor": "bottom",
          "yref": "paper"
         },
         {
          "font": {},
          "showarrow": false,
          "text": "TYPE=fabG1",
          "x": 0.075,
          "xanchor": "center",
          "xref": "paper",
          "y": 0.6433333333333333,
          "yanchor": "bottom",
          "yref": "paper"
         },
         {
          "font": {},
          "showarrow": false,
          "text": "TYPE=inhA",
          "x": 0.24499999999999997,
          "xanchor": "center",
          "xref": "paper",
          "y": 0.6433333333333333,
          "yanchor": "bottom",
          "yref": "paper"
         },
         {
          "font": {},
          "showarrow": false,
          "text": "TYPE=pncA",
          "x": 0.415,
          "xanchor": "center",
          "xref": "paper",
          "y": 0.6433333333333333,
          "yanchor": "bottom",
          "yref": "paper"
         },
         {
          "font": {},
          "showarrow": false,
          "text": "TYPE=katG",
          "x": 0.585,
          "xanchor": "center",
          "xref": "paper",
          "y": 0.6433333333333333,
          "yanchor": "bottom",
          "yref": "paper"
         },
         {
          "font": {},
          "showarrow": false,
          "text": "TYPE=eis",
          "x": 0.7549999999999999,
          "xanchor": "center",
          "xref": "paper",
          "y": 0.6433333333333333,
          "yanchor": "bottom",
          "yref": "paper"
         },
         {
          "font": {},
          "showarrow": false,
          "text": "TYPE=ahpC_promoter",
          "x": 0.925,
          "xanchor": "center",
          "xref": "paper",
          "y": 0.6433333333333333,
          "yanchor": "bottom",
          "yref": "paper"
         },
         {
          "font": {},
          "showarrow": false,
          "text": "TYPE=inhA_promoter",
          "x": 0.075,
          "xanchor": "center",
          "xref": "paper",
          "y": 0.9999999999999999,
          "yanchor": "bottom",
          "yref": "paper"
         },
         {
          "font": {},
          "showarrow": false,
          "text": "TYPE=gyrB",
          "x": 0.24499999999999997,
          "xanchor": "center",
          "xref": "paper",
          "y": 0.9999999999999999,
          "yanchor": "bottom",
          "yref": "paper"
         },
         {
          "font": {},
          "showarrow": false,
          "text": "TYPE=gyrA",
          "x": 0.415,
          "xanchor": "center",
          "xref": "paper",
          "y": 0.9999999999999999,
          "yanchor": "bottom",
          "yref": "paper"
         },
         {
          "font": {},
          "showarrow": false,
          "text": "TYPE=rpoB",
          "x": 0.585,
          "xanchor": "center",
          "xref": "paper",
          "y": 0.9999999999999999,
          "yanchor": "bottom",
          "yref": "paper"
         },
         {
          "font": {},
          "showarrow": false,
          "text": "TYPE=rpsL",
          "x": 0.7549999999999999,
          "xanchor": "center",
          "xref": "paper",
          "y": 0.9999999999999999,
          "yanchor": "bottom",
          "yref": "paper"
         },
         {
          "font": {},
          "showarrow": false,
          "text": "TYPE=rrs",
          "x": 0.925,
          "xanchor": "center",
          "xref": "paper",
          "y": 0.9999999999999999,
          "yanchor": "bottom",
          "yref": "paper"
         }
        ],
        "autosize": true,
        "legend": {
         "title": {
          "text": "variable"
         },
         "tracegroupgap": 0
        },
        "margin": {
         "t": 60
        },
        "template": {
         "data": {
          "bar": [
           {
            "error_x": {
             "color": "#2a3f5f"
            },
            "error_y": {
             "color": "#2a3f5f"
            },
            "marker": {
             "line": {
              "color": "#E5ECF6",
              "width": 0.5
             }
            },
            "type": "bar"
           }
          ],
          "barpolar": [
           {
            "marker": {
             "line": {
              "color": "#E5ECF6",
              "width": 0.5
             }
            },
            "type": "barpolar"
           }
          ],
          "carpet": [
           {
            "aaxis": {
             "endlinecolor": "#2a3f5f",
             "gridcolor": "white",
             "linecolor": "white",
             "minorgridcolor": "white",
             "startlinecolor": "#2a3f5f"
            },
            "baxis": {
             "endlinecolor": "#2a3f5f",
             "gridcolor": "white",
             "linecolor": "white",
             "minorgridcolor": "white",
             "startlinecolor": "#2a3f5f"
            },
            "type": "carpet"
           }
          ],
          "choropleth": [
           {
            "colorbar": {
             "outlinewidth": 0,
             "ticks": ""
            },
            "type": "choropleth"
           }
          ],
          "contour": [
           {
            "colorbar": {
             "outlinewidth": 0,
             "ticks": ""
            },
            "colorscale": [
             [
              0,
              "#0d0887"
             ],
             [
              0.1111111111111111,
              "#46039f"
             ],
             [
              0.2222222222222222,
              "#7201a8"
             ],
             [
              0.3333333333333333,
              "#9c179e"
             ],
             [
              0.4444444444444444,
              "#bd3786"
             ],
             [
              0.5555555555555556,
              "#d8576b"
             ],
             [
              0.6666666666666666,
              "#ed7953"
             ],
             [
              0.7777777777777778,
              "#fb9f3a"
             ],
             [
              0.8888888888888888,
              "#fdca26"
             ],
             [
              1,
              "#f0f921"
             ]
            ],
            "type": "contour"
           }
          ],
          "contourcarpet": [
           {
            "colorbar": {
             "outlinewidth": 0,
             "ticks": ""
            },
            "type": "contourcarpet"
           }
          ],
          "heatmap": [
           {
            "colorbar": {
             "outlinewidth": 0,
             "ticks": ""
            },
            "colorscale": [
             [
              0,
              "#0d0887"
             ],
             [
              0.1111111111111111,
              "#46039f"
             ],
             [
              0.2222222222222222,
              "#7201a8"
             ],
             [
              0.3333333333333333,
              "#9c179e"
             ],
             [
              0.4444444444444444,
              "#bd3786"
             ],
             [
              0.5555555555555556,
              "#d8576b"
             ],
             [
              0.6666666666666666,
              "#ed7953"
             ],
             [
              0.7777777777777778,
              "#fb9f3a"
             ],
             [
              0.8888888888888888,
              "#fdca26"
             ],
             [
              1,
              "#f0f921"
             ]
            ],
            "type": "heatmap"
           }
          ],
          "heatmapgl": [
           {
            "colorbar": {
             "outlinewidth": 0,
             "ticks": ""
            },
            "colorscale": [
             [
              0,
              "#0d0887"
             ],
             [
              0.1111111111111111,
              "#46039f"
             ],
             [
              0.2222222222222222,
              "#7201a8"
             ],
             [
              0.3333333333333333,
              "#9c179e"
             ],
             [
              0.4444444444444444,
              "#bd3786"
             ],
             [
              0.5555555555555556,
              "#d8576b"
             ],
             [
              0.6666666666666666,
              "#ed7953"
             ],
             [
              0.7777777777777778,
              "#fb9f3a"
             ],
             [
              0.8888888888888888,
              "#fdca26"
             ],
             [
              1,
              "#f0f921"
             ]
            ],
            "type": "heatmapgl"
           }
          ],
          "histogram": [
           {
            "marker": {
             "colorbar": {
              "outlinewidth": 0,
              "ticks": ""
             }
            },
            "type": "histogram"
           }
          ],
          "histogram2d": [
           {
            "colorbar": {
             "outlinewidth": 0,
             "ticks": ""
            },
            "colorscale": [
             [
              0,
              "#0d0887"
             ],
             [
              0.1111111111111111,
              "#46039f"
             ],
             [
              0.2222222222222222,
              "#7201a8"
             ],
             [
              0.3333333333333333,
              "#9c179e"
             ],
             [
              0.4444444444444444,
              "#bd3786"
             ],
             [
              0.5555555555555556,
              "#d8576b"
             ],
             [
              0.6666666666666666,
              "#ed7953"
             ],
             [
              0.7777777777777778,
              "#fb9f3a"
             ],
             [
              0.8888888888888888,
              "#fdca26"
             ],
             [
              1,
              "#f0f921"
             ]
            ],
            "type": "histogram2d"
           }
          ],
          "histogram2dcontour": [
           {
            "colorbar": {
             "outlinewidth": 0,
             "ticks": ""
            },
            "colorscale": [
             [
              0,
              "#0d0887"
             ],
             [
              0.1111111111111111,
              "#46039f"
             ],
             [
              0.2222222222222222,
              "#7201a8"
             ],
             [
              0.3333333333333333,
              "#9c179e"
             ],
             [
              0.4444444444444444,
              "#bd3786"
             ],
             [
              0.5555555555555556,
              "#d8576b"
             ],
             [
              0.6666666666666666,
              "#ed7953"
             ],
             [
              0.7777777777777778,
              "#fb9f3a"
             ],
             [
              0.8888888888888888,
              "#fdca26"
             ],
             [
              1,
              "#f0f921"
             ]
            ],
            "type": "histogram2dcontour"
           }
          ],
          "mesh3d": [
           {
            "colorbar": {
             "outlinewidth": 0,
             "ticks": ""
            },
            "type": "mesh3d"
           }
          ],
          "parcoords": [
           {
            "line": {
             "colorbar": {
              "outlinewidth": 0,
              "ticks": ""
             }
            },
            "type": "parcoords"
           }
          ],
          "pie": [
           {
            "automargin": true,
            "type": "pie"
           }
          ],
          "scatter": [
           {
            "marker": {
             "colorbar": {
              "outlinewidth": 0,
              "ticks": ""
             }
            },
            "type": "scatter"
           }
          ],
          "scatter3d": [
           {
            "line": {
             "colorbar": {
              "outlinewidth": 0,
              "ticks": ""
             }
            },
            "marker": {
             "colorbar": {
              "outlinewidth": 0,
              "ticks": ""
             }
            },
            "type": "scatter3d"
           }
          ],
          "scattercarpet": [
           {
            "marker": {
             "colorbar": {
              "outlinewidth": 0,
              "ticks": ""
             }
            },
            "type": "scattercarpet"
           }
          ],
          "scattergeo": [
           {
            "marker": {
             "colorbar": {
              "outlinewidth": 0,
              "ticks": ""
             }
            },
            "type": "scattergeo"
           }
          ],
          "scattergl": [
           {
            "marker": {
             "colorbar": {
              "outlinewidth": 0,
              "ticks": ""
             }
            },
            "type": "scattergl"
           }
          ],
          "scattermapbox": [
           {
            "marker": {
             "colorbar": {
              "outlinewidth": 0,
              "ticks": ""
             }
            },
            "type": "scattermapbox"
           }
          ],
          "scatterpolar": [
           {
            "marker": {
             "colorbar": {
              "outlinewidth": 0,
              "ticks": ""
             }
            },
            "type": "scatterpolar"
           }
          ],
          "scatterpolargl": [
           {
            "marker": {
             "colorbar": {
              "outlinewidth": 0,
              "ticks": ""
             }
            },
            "type": "scatterpolargl"
           }
          ],
          "scatterternary": [
           {
            "marker": {
             "colorbar": {
              "outlinewidth": 0,
              "ticks": ""
             }
            },
            "type": "scatterternary"
           }
          ],
          "surface": [
           {
            "colorbar": {
             "outlinewidth": 0,
             "ticks": ""
            },
            "colorscale": [
             [
              0,
              "#0d0887"
             ],
             [
              0.1111111111111111,
              "#46039f"
             ],
             [
              0.2222222222222222,
              "#7201a8"
             ],
             [
              0.3333333333333333,
              "#9c179e"
             ],
             [
              0.4444444444444444,
              "#bd3786"
             ],
             [
              0.5555555555555556,
              "#d8576b"
             ],
             [
              0.6666666666666666,
              "#ed7953"
             ],
             [
              0.7777777777777778,
              "#fb9f3a"
             ],
             [
              0.8888888888888888,
              "#fdca26"
             ],
             [
              1,
              "#f0f921"
             ]
            ],
            "type": "surface"
           }
          ],
          "table": [
           {
            "cells": {
             "fill": {
              "color": "#EBF0F8"
             },
             "line": {
              "color": "white"
             }
            },
            "header": {
             "fill": {
              "color": "#C8D4E3"
             },
             "line": {
              "color": "white"
             }
            },
            "type": "table"
           }
          ]
         },
         "layout": {
          "annotationdefaults": {
           "arrowcolor": "#2a3f5f",
           "arrowhead": 0,
           "arrowwidth": 1
          },
          "autotypenumbers": "strict",
          "coloraxis": {
           "colorbar": {
            "outlinewidth": 0,
            "ticks": ""
           }
          },
          "colorscale": {
           "diverging": [
            [
             0,
             "#8e0152"
            ],
            [
             0.1,
             "#c51b7d"
            ],
            [
             0.2,
             "#de77ae"
            ],
            [
             0.3,
             "#f1b6da"
            ],
            [
             0.4,
             "#fde0ef"
            ],
            [
             0.5,
             "#f7f7f7"
            ],
            [
             0.6,
             "#e6f5d0"
            ],
            [
             0.7,
             "#b8e186"
            ],
            [
             0.8,
             "#7fbc41"
            ],
            [
             0.9,
             "#4d9221"
            ],
            [
             1,
             "#276419"
            ]
           ],
           "sequential": [
            [
             0,
             "#0d0887"
            ],
            [
             0.1111111111111111,
             "#46039f"
            ],
            [
             0.2222222222222222,
             "#7201a8"
            ],
            [
             0.3333333333333333,
             "#9c179e"
            ],
            [
             0.4444444444444444,
             "#bd3786"
            ],
            [
             0.5555555555555556,
             "#d8576b"
            ],
            [
             0.6666666666666666,
             "#ed7953"
            ],
            [
             0.7777777777777778,
             "#fb9f3a"
            ],
            [
             0.8888888888888888,
             "#fdca26"
            ],
            [
             1,
             "#f0f921"
            ]
           ],
           "sequentialminus": [
            [
             0,
             "#0d0887"
            ],
            [
             0.1111111111111111,
             "#46039f"
            ],
            [
             0.2222222222222222,
             "#7201a8"
            ],
            [
             0.3333333333333333,
             "#9c179e"
            ],
            [
             0.4444444444444444,
             "#bd3786"
            ],
            [
             0.5555555555555556,
             "#d8576b"
            ],
            [
             0.6666666666666666,
             "#ed7953"
            ],
            [
             0.7777777777777778,
             "#fb9f3a"
            ],
            [
             0.8888888888888888,
             "#fdca26"
            ],
            [
             1,
             "#f0f921"
            ]
           ]
          },
          "colorway": [
           "#636efa",
           "#EF553B",
           "#00cc96",
           "#ab63fa",
           "#FFA15A",
           "#19d3f3",
           "#FF6692",
           "#B6E880",
           "#FF97FF",
           "#FECB52"
          ],
          "font": {
           "color": "#2a3f5f"
          },
          "geo": {
           "bgcolor": "white",
           "lakecolor": "white",
           "landcolor": "#E5ECF6",
           "showlakes": true,
           "showland": true,
           "subunitcolor": "white"
          },
          "hoverlabel": {
           "align": "left"
          },
          "hovermode": "closest",
          "mapbox": {
           "style": "light"
          },
          "paper_bgcolor": "white",
          "plot_bgcolor": "#E5ECF6",
          "polar": {
           "angularaxis": {
            "gridcolor": "white",
            "linecolor": "white",
            "ticks": ""
           },
           "bgcolor": "#E5ECF6",
           "radialaxis": {
            "gridcolor": "white",
            "linecolor": "white",
            "ticks": ""
           }
          },
          "scene": {
           "xaxis": {
            "backgroundcolor": "#E5ECF6",
            "gridcolor": "white",
            "gridwidth": 2,
            "linecolor": "white",
            "showbackground": true,
            "ticks": "",
            "zerolinecolor": "white"
           },
           "yaxis": {
            "backgroundcolor": "#E5ECF6",
            "gridcolor": "white",
            "gridwidth": 2,
            "linecolor": "white",
            "showbackground": true,
            "ticks": "",
            "zerolinecolor": "white"
           },
           "zaxis": {
            "backgroundcolor": "#E5ECF6",
            "gridcolor": "white",
            "gridwidth": 2,
            "linecolor": "white",
            "showbackground": true,
            "ticks": "",
            "zerolinecolor": "white"
           }
          },
          "shapedefaults": {
           "line": {
            "color": "#2a3f5f"
           }
          },
          "ternary": {
           "aaxis": {
            "gridcolor": "white",
            "linecolor": "white",
            "ticks": ""
           },
           "baxis": {
            "gridcolor": "white",
            "linecolor": "white",
            "ticks": ""
           },
           "bgcolor": "#E5ECF6",
           "caxis": {
            "gridcolor": "white",
            "linecolor": "white",
            "ticks": ""
           }
          },
          "title": {
           "x": 0.05
          },
          "xaxis": {
           "automargin": true,
           "gridcolor": "white",
           "linecolor": "white",
           "ticks": "",
           "title": {
            "standoff": 15
           },
           "zerolinecolor": "white",
           "zerolinewidth": 2
          },
          "yaxis": {
           "automargin": true,
           "gridcolor": "white",
           "linecolor": "white",
           "ticks": "",
           "title": {
            "standoff": 15
           },
           "zerolinecolor": "white",
           "zerolinewidth": 2
          }
         }
        },
        "xaxis": {
         "anchor": "y",
         "domain": [
          0,
          0.15
         ],
         "range": [
          0,
          110
         ],
         "title": {
          "text": "DATASET"
         },
         "type": "linear"
        },
        "xaxis10": {
         "anchor": "y10",
         "domain": [
          0.51,
          0.66
         ],
         "matches": "x",
         "showticklabels": false,
         "type": "linear"
        },
        "xaxis11": {
         "anchor": "y11",
         "domain": [
          0.6799999999999999,
          0.83
         ],
         "matches": "x",
         "showticklabels": false,
         "type": "linear"
        },
        "xaxis12": {
         "anchor": "y12",
         "domain": [
          0.85,
          1
         ],
         "matches": "x",
         "showticklabels": false,
         "type": "linear"
        },
        "xaxis13": {
         "anchor": "y13",
         "domain": [
          0,
          0.15
         ],
         "matches": "x",
         "showticklabels": false,
         "type": "linear"
        },
        "xaxis14": {
         "anchor": "y14",
         "domain": [
          0.16999999999999998,
          0.31999999999999995
         ],
         "matches": "x",
         "showticklabels": false,
         "type": "linear"
        },
        "xaxis15": {
         "anchor": "y15",
         "domain": [
          0.33999999999999997,
          0.49
         ],
         "matches": "x",
         "showticklabels": false,
         "type": "linear"
        },
        "xaxis16": {
         "anchor": "y16",
         "domain": [
          0.51,
          0.66
         ],
         "matches": "x",
         "showticklabels": false,
         "type": "linear"
        },
        "xaxis17": {
         "anchor": "y17",
         "domain": [
          0.6799999999999999,
          0.83
         ],
         "matches": "x",
         "showticklabels": false,
         "type": "linear"
        },
        "xaxis18": {
         "anchor": "y18",
         "domain": [
          0.85,
          1
         ],
         "matches": "x",
         "showticklabels": false,
         "type": "linear"
        },
        "xaxis2": {
         "anchor": "y2",
         "domain": [
          0.16999999999999998,
          0.31999999999999995
         ],
         "matches": "x",
         "range": [
          0,
          110
         ],
         "title": {
          "text": "DATASET"
         },
         "type": "linear"
        },
        "xaxis3": {
         "anchor": "y3",
         "domain": [
          0.33999999999999997,
          0.49
         ],
         "matches": "x",
         "range": [
          0,
          110
         ],
         "title": {
          "text": "DATASET"
         },
         "type": "linear"
        },
        "xaxis4": {
         "anchor": "y4",
         "domain": [
          0.51,
          0.66
         ],
         "matches": "x",
         "range": [
          0,
          110
         ],
         "title": {
          "text": "DATASET"
         },
         "type": "linear"
        },
        "xaxis5": {
         "anchor": "y5",
         "domain": [
          0.6799999999999999,
          0.83
         ],
         "matches": "x",
         "range": [
          0,
          110
         ],
         "title": {
          "text": "DATASET"
         },
         "type": "linear"
        },
        "xaxis6": {
         "anchor": "y6",
         "domain": [
          0.85,
          1
         ],
         "matches": "x",
         "range": [
          0,
          110
         ],
         "title": {
          "text": "DATASET"
         },
         "type": "linear"
        },
        "xaxis7": {
         "anchor": "y7",
         "domain": [
          0,
          0.15
         ],
         "matches": "x",
         "showticklabels": false,
         "type": "linear"
        },
        "xaxis8": {
         "anchor": "y8",
         "domain": [
          0.16999999999999998,
          0.31999999999999995
         ],
         "matches": "x",
         "showticklabels": false,
         "type": "linear"
        },
        "xaxis9": {
         "anchor": "y9",
         "domain": [
          0.33999999999999997,
          0.49
         ],
         "matches": "x",
         "showticklabels": false,
         "type": "linear"
        },
        "yaxis": {
         "anchor": "x",
         "domain": [
          0,
          0.2866666666666666
         ],
         "range": [
          -10,
          200
         ],
         "title": {
          "text": "value"
         },
         "type": "linear"
        },
        "yaxis10": {
         "anchor": "x10",
         "domain": [
          0.35666666666666663,
          0.6433333333333333
         ],
         "matches": "y",
         "showticklabels": false,
         "type": "linear"
        },
        "yaxis11": {
         "anchor": "x11",
         "domain": [
          0.35666666666666663,
          0.6433333333333333
         ],
         "matches": "y",
         "showticklabels": false,
         "type": "linear"
        },
        "yaxis12": {
         "anchor": "x12",
         "domain": [
          0.35666666666666663,
          0.6433333333333333
         ],
         "matches": "y",
         "showticklabels": false,
         "type": "linear"
        },
        "yaxis13": {
         "anchor": "x13",
         "domain": [
          0.7133333333333333,
          0.9999999999999999
         ],
         "matches": "y",
         "range": [
          -10,
          200
         ],
         "title": {
          "text": "value"
         },
         "type": "linear"
        },
        "yaxis14": {
         "anchor": "x14",
         "domain": [
          0.7133333333333333,
          0.9999999999999999
         ],
         "matches": "y",
         "showticklabels": false,
         "type": "linear"
        },
        "yaxis15": {
         "anchor": "x15",
         "domain": [
          0.7133333333333333,
          0.9999999999999999
         ],
         "matches": "y",
         "showticklabels": false,
         "type": "linear"
        },
        "yaxis16": {
         "anchor": "x16",
         "domain": [
          0.7133333333333333,
          0.9999999999999999
         ],
         "matches": "y",
         "showticklabels": false,
         "type": "linear"
        },
        "yaxis17": {
         "anchor": "x17",
         "domain": [
          0.7133333333333333,
          0.9999999999999999
         ],
         "matches": "y",
         "showticklabels": false,
         "type": "linear"
        },
        "yaxis18": {
         "anchor": "x18",
         "domain": [
          0.7133333333333333,
          0.9999999999999999
         ],
         "matches": "y",
         "showticklabels": false,
         "type": "linear"
        },
        "yaxis2": {
         "anchor": "x2",
         "domain": [
          0,
          0.2866666666666666
         ],
         "matches": "y",
         "showticklabels": false,
         "type": "linear"
        },
        "yaxis3": {
         "anchor": "x3",
         "domain": [
          0,
          0.2866666666666666
         ],
         "matches": "y",
         "showticklabels": false,
         "type": "linear"
        },
        "yaxis4": {
         "anchor": "x4",
         "domain": [
          0,
          0.2866666666666666
         ],
         "matches": "y",
         "showticklabels": false,
         "type": "linear"
        },
        "yaxis5": {
         "anchor": "x5",
         "domain": [
          0,
          0.2866666666666666
         ],
         "matches": "y",
         "showticklabels": false,
         "type": "linear"
        },
        "yaxis6": {
         "anchor": "x6",
         "domain": [
          0,
          0.2866666666666666
         ],
         "matches": "y",
         "showticklabels": false,
         "type": "linear"
        },
        "yaxis7": {
         "anchor": "x7",
         "domain": [
          0.35666666666666663,
          0.6433333333333333
         ],
         "matches": "y",
         "range": [
          -10,
          200
         ],
         "title": {
          "text": "value"
         },
         "type": "linear"
        },
        "yaxis8": {
         "anchor": "x8",
         "domain": [
          0.35666666666666663,
          0.6433333333333333
         ],
         "matches": "y",
         "showticklabels": false,
         "type": "linear"
        },
        "yaxis9": {
         "anchor": "x9",
         "domain": [
          0.35666666666666663,
          0.6433333333333333
         ],
         "matches": "y",
         "showticklabels": false,
         "type": "linear"
        }
       }
      },
      "image/png": "[encoded data removed]",
      "text/html": [
       "<div>                            <div id=\"9b5e551f-260c-449f-89eb-4cf5d3d13bbc\" class=\"plotly-graph-div\" style=\"height:525px; width:100%;\"></div>            <script type=\"text/javascript\">                require([\"plotly\"], function(Plotly) {                    window.PLOTLYENV=window.PLOTLYENV || {};                                    if (document.getElementById(\"9b5e551f-260c-449f-89eb-4cf5d3d13bbc\")) {                    Plotly.newPlot(                        \"9b5e551f-260c-449f-89eb-4cf5d3d13bbc\",                        [{\"hovertemplate\": \"variable=MIN_BAM_DP<br>TYPE=inhA_promoter<br>DATASET=%{x}<br>value=%{y}<extra></extra>\", \"legendgroup\": \"MIN_BAM_DP\", \"line\": {\"color\": \"rgb(229, 134, 6)\", \"dash\": \"solid\"}, \"mode\": \"lines\", \"name\": \"MIN_BAM_DP\", \"orientation\": \"v\", \"showlegend\": true, \"type\": \"scatter\", \"x\": [5, 10, 15, 20, 30, 40, 50, 60, 70, 80, 90, 100], \"xaxis\": \"x13\", \"y\": [4.0, 7.0, 9.0, 12.0, 17.0, 30.0, 36.0, 41.0, 51.0, 63.0, 69.0, 74.0], \"yaxis\": \"y13\"}, {\"hovertemplate\": \"variable=MIN_BAM_DP<br>TYPE=gyrB<br>DATASET=%{x}<br>value=%{y}<extra></extra>\", \"legendgroup\": \"MIN_BAM_DP\", \"line\": {\"color\": \"rgb(229, 134, 6)\", \"dash\": \"solid\"}, \"mode\": \"lines\", \"name\": \"MIN_BAM_DP\", \"orientation\": \"v\", \"showlegend\": false, \"type\": \"scatter\", \"x\": [5, 10, 15, 20, 30, 40, 50, 60, 70, 80, 90, 100], \"xaxis\": \"x14\", \"y\": [0.0, 2.0, 5.0, 10.0, 17.0, 27.0, 35.0, 44.0, 48.0, 51.0, 62.0, 71.0], \"yaxis\": \"y14\"}, {\"hovertemplate\": \"variable=MIN_BAM_DP<br>TYPE=gyrA<br>DATASET=%{x}<br>value=%{y}<extra></extra>\", \"legendgroup\": \"MIN_BAM_DP\", \"line\": {\"color\": \"rgb(229, 134, 6)\", \"dash\": \"solid\"}, \"mode\": \"lines\", \"name\": \"MIN_BAM_DP\", \"orientation\": \"v\", \"showlegend\": false, \"type\": \"scatter\", \"x\": [5, 10, 15, 20, 30, 40, 50, 60, 70, 80, 90, 100], \"xaxis\": \"x15\", \"y\": [0.0, 2.0, 3.0, 9.0, 13.0, 15.0, 24.0, 33.0, 39.0, 49.0, 55.0, 68.0], \"yaxis\": \"y15\"}, {\"hovertemplate\": \"variable=MIN_BAM_DP<br>TYPE=rpoB<br>DATASET=%{x}<br>value=%{y}<extra></extra>\", \"legendgroup\": \"MIN_BAM_DP\", \"line\": {\"color\": \"rgb(229, 134, 6)\", \"dash\": \"solid\"}, \"mode\": \"lines\", \"name\": \"MIN_BAM_DP\", \"orientation\": \"v\", \"showlegend\": false, \"type\": \"scatter\", \"x\": [5, 10, 15, 20, 30, 40, 50, 60, 70, 80, 90, 100], \"xaxis\": \"x16\", \"y\": [0.0, 1.0, 5.0, 6.0, 9.0, 20.0, 29.0, 37.0, 42.0, 46.0, 51.0, 58.0], \"yaxis\": \"y16\"}, {\"hovertemplate\": \"variable=MIN_BAM_DP<br>TYPE=rpsL<br>DATASET=%{x}<br>value=%{y}<extra></extra>\", \"legendgroup\": \"MIN_BAM_DP\", \"line\": {\"color\": \"rgb(229, 134, 6)\", \"dash\": \"solid\"}, \"mode\": \"lines\", \"name\": \"MIN_BAM_DP\", \"orientation\": \"v\", \"showlegend\": false, \"type\": \"scatter\", \"x\": [5, 10, 15, 20, 30, 40, 50, 60, 70, 80, 90, 100], \"xaxis\": \"x17\", \"y\": [1.0, 3.0, 3.0, 9.0, 17.0, 26.0, 32.0, 38.0, 47.0, 56.0, 65.0, 72.0], \"yaxis\": \"y17\"}, {\"hovertemplate\": \"variable=MIN_BAM_DP<br>TYPE=rrs<br>DATASET=%{x}<br>value=%{y}<extra></extra>\", \"legendgroup\": \"MIN_BAM_DP\", \"line\": {\"color\": \"rgb(229, 134, 6)\", \"dash\": \"solid\"}, \"mode\": \"lines\", \"name\": \"MIN_BAM_DP\", \"orientation\": \"v\", \"showlegend\": false, \"type\": \"scatter\", \"x\": [5, 10, 15, 20, 30, 40, 50, 60, 70, 80, 90, 100], \"xaxis\": \"x18\", \"y\": [0.0, 3.0, 3.0, 6.0, 18.0, 22.0, 29.0, 41.0, 52.0, 61.0, 67.0, 79.0], \"yaxis\": \"y18\"}, {\"hovertemplate\": \"variable=MIN_BAM_DP<br>TYPE=fabG1<br>DATASET=%{x}<br>value=%{y}<extra></extra>\", \"legendgroup\": \"MIN_BAM_DP\", \"line\": {\"color\": \"rgb(229, 134, 6)\", \"dash\": \"solid\"}, \"mode\": \"lines\", \"name\": \"MIN_BAM_DP\", \"orientation\": \"v\", \"showlegend\": false, \"type\": \"scatter\", \"x\": [5, 10, 15, 20, 30, 40, 50, 60, 70, 80, 90, 100], \"xaxis\": \"x7\", \"y\": [0.0, 2.0, 7.0, 13.0, 21.0, 28.0, 37.0, 46.0, 53.0, 56.0, 67.0, 71.0], \"yaxis\": \"y7\"}, {\"hovertemplate\": \"variable=MIN_BAM_DP<br>TYPE=inhA<br>DATASET=%{x}<br>value=%{y}<extra></extra>\", \"legendgroup\": \"MIN_BAM_DP\", \"line\": {\"color\": \"rgb(229, 134, 6)\", \"dash\": \"solid\"}, \"mode\": \"lines\", \"name\": \"MIN_BAM_DP\", \"orientation\": \"v\", \"showlegend\": false, \"type\": \"scatter\", \"x\": [5, 10, 15, 20, 30, 40, 50, 60, 70, 80, 90, 100], \"xaxis\": \"x8\", \"y\": [0.0, 1.0, 5.0, 7.0, 13.0, 19.0, 23.0, 31.0, 43.0, 48.0, 61.0, 74.0], \"yaxis\": \"y8\"}, {\"hovertemplate\": \"variable=MIN_BAM_DP<br>TYPE=pncA<br>DATASET=%{x}<br>value=%{y}<extra></extra>\", \"legendgroup\": \"MIN_BAM_DP\", \"line\": {\"color\": \"rgb(229, 134, 6)\", \"dash\": \"solid\"}, \"mode\": \"lines\", \"name\": \"MIN_BAM_DP\", \"orientation\": \"v\", \"showlegend\": false, \"type\": \"scatter\", \"x\": [5, 10, 15, 20, 30, 40, 50, 60, 70, 80, 90, 100], \"xaxis\": \"x9\", \"y\": [2.0, 4.0, 7.0, 10.0, 21.0, 27.0, 36.0, 42.0, 52.0, 60.0, 68.0, 77.0], \"yaxis\": \"y9\"}, {\"hovertemplate\": \"variable=MIN_BAM_DP<br>TYPE=katG<br>DATASET=%{x}<br>value=%{y}<extra></extra>\", \"legendgroup\": \"MIN_BAM_DP\", \"line\": {\"color\": \"rgb(229, 134, 6)\", \"dash\": \"solid\"}, \"mode\": \"lines\", \"name\": \"MIN_BAM_DP\", \"orientation\": \"v\", \"showlegend\": false, \"type\": \"scatter\", \"x\": [5, 10, 15, 20, 30, 40, 50, 60, 70, 80, 90, 100], \"xaxis\": \"x10\", \"y\": [0.0, 3.0, 4.0, 9.0, 15.0, 23.0, 30.0, 35.0, 44.0, 53.0, 70.0, 73.0], \"yaxis\": \"y10\"}, {\"hovertemplate\": \"variable=MIN_BAM_DP<br>TYPE=eis<br>DATASET=%{x}<br>value=%{y}<extra></extra>\", \"legendgroup\": \"MIN_BAM_DP\", \"line\": {\"color\": \"rgb(229, 134, 6)\", \"dash\": \"solid\"}, \"mode\": \"lines\", \"name\": \"MIN_BAM_DP\", \"orientation\": \"v\", \"showlegend\": false, \"type\": \"scatter\", \"x\": [5, 10, 15, 20, 30, 40, 50, 60, 70, 80, 90, 100], \"xaxis\": \"x11\", \"y\": [1.0, 1.0, 6.0, 10.0, 16.0, 24.0, 33.0, 48.0, 54.0, 61.0, 68.0, 78.0], \"yaxis\": \"y11\"}, {\"hovertemplate\": \"variable=MIN_BAM_DP<br>TYPE=ahpC_promoter<br>DATASET=%{x}<br>value=%{y}<extra></extra>\", \"legendgroup\": \"MIN_BAM_DP\", \"line\": {\"color\": \"rgb(229, 134, 6)\", \"dash\": \"solid\"}, \"mode\": \"lines\", \"name\": \"MIN_BAM_DP\", \"orientation\": \"v\", \"showlegend\": false, \"type\": \"scatter\", \"x\": [5, 10, 15, 20, 30, 40, 50, 60, 70, 80, 90, 100], \"xaxis\": \"x12\", \"y\": [5.0, 10.0, 16.0, 20.0, 26.0, 33.0, 41.0, 55.0, 67.0, 78.0, 90.0, 95.0], \"yaxis\": \"y12\"}, {\"hovertemplate\": \"variable=MIN_BAM_DP<br>TYPE=ahpC<br>DATASET=%{x}<br>value=%{y}<extra></extra>\", \"legendgroup\": \"MIN_BAM_DP\", \"line\": {\"color\": \"rgb(229, 134, 6)\", \"dash\": \"solid\"}, \"mode\": \"lines\", \"name\": \"MIN_BAM_DP\", \"orientation\": \"v\", \"showlegend\": false, \"type\": \"scatter\", \"x\": [5, 10, 15, 20, 30, 40, 50, 60, 70, 80, 90, 100], \"xaxis\": \"x\", \"y\": [2.0, 5.0, 10.0, 15.0, 26.0, 29.0, 36.0, 49.0, 57.0, 68.0, 78.0, 82.0], \"yaxis\": \"y\"}, {\"hovertemplate\": \"variable=MIN_BAM_DP<br>TYPE=embC<br>DATASET=%{x}<br>value=%{y}<extra></extra>\", \"legendgroup\": \"MIN_BAM_DP\", \"line\": {\"color\": \"rgb(229, 134, 6)\", \"dash\": \"solid\"}, \"mode\": \"lines\", \"name\": \"MIN_BAM_DP\", \"orientation\": \"v\", \"showlegend\": false, \"type\": \"scatter\", \"x\": [5, 10, 15, 20, 30, 40, 50, 60, 70, 80, 90, 100], \"xaxis\": \"x2\", \"y\": [1.0, 3.0, 4.0, 5.0, 9.0, 16.0, 21.0, 29.0, 39.0, 46.0, 54.0, 64.0], \"yaxis\": \"y2\"}, {\"hovertemplate\": \"variable=MIN_BAM_DP<br>TYPE=embA<br>DATASET=%{x}<br>value=%{y}<extra></extra>\", \"legendgroup\": \"MIN_BAM_DP\", \"line\": {\"color\": \"rgb(229, 134, 6)\", \"dash\": \"solid\"}, \"mode\": \"lines\", \"name\": \"MIN_BAM_DP\", \"orientation\": \"v\", \"showlegend\": false, \"type\": \"scatter\", \"x\": [5, 10, 15, 20, 30, 40, 50, 60, 70, 80, 90, 100], \"xaxis\": \"x3\", \"y\": [0.0, 2.0, 5.0, 7.0, 14.0, 23.0, 28.0, 39.0, 44.0, 48.0, 52.0, 66.0], \"yaxis\": \"y3\"}, {\"hovertemplate\": \"variable=MIN_BAM_DP<br>TYPE=embB<br>DATASET=%{x}<br>value=%{y}<extra></extra>\", \"legendgroup\": \"MIN_BAM_DP\", \"line\": {\"color\": \"rgb(229, 134, 6)\", \"dash\": \"solid\"}, \"mode\": \"lines\", \"name\": \"MIN_BAM_DP\", \"orientation\": \"v\", \"showlegend\": false, \"type\": \"scatter\", \"x\": [5, 10, 15, 20, 30, 40, 50, 60, 70, 80, 90, 100], \"xaxis\": \"x4\", \"y\": [0.0, 2.0, 5.0, 10.0, 17.0, 21.0, 28.0, 40.0, 47.0, 51.0, 55.0, 72.0], \"yaxis\": \"y4\"}, {\"hovertemplate\": \"variable=MIN_BAM_DP<br>TYPE=gidB<br>DATASET=%{x}<br>value=%{y}<extra></extra>\", \"legendgroup\": \"MIN_BAM_DP\", \"line\": {\"color\": \"rgb(229, 134, 6)\", \"dash\": \"solid\"}, \"mode\": \"lines\", \"name\": \"MIN_BAM_DP\", \"orientation\": \"v\", \"showlegend\": false, \"type\": \"scatter\", \"x\": [5, 10, 15, 20, 30, 40, 50, 60, 70, 80, 90, 100], \"xaxis\": \"x5\", \"y\": [3.0, 4.0, 9.0, 15.0, 21.0, 31.0, 40.0, 44.0, 58.0, 63.0, 71.0, 78.0], \"yaxis\": \"y5\"}, {\"hovertemplate\": \"variable=MIN_BAM_DP<br>TYPE=eis_promoter<br>DATASET=%{x}<br>value=%{y}<extra></extra>\", \"legendgroup\": \"MIN_BAM_DP\", \"line\": {\"color\": \"rgb(229, 134, 6)\", \"dash\": \"solid\"}, \"mode\": \"lines\", \"name\": \"MIN_BAM_DP\", \"orientation\": \"v\", \"showlegend\": false, \"type\": \"scatter\", \"x\": [5, 10, 15, 20, 30, 40, 50, 60, 70, 80, 90, 100], \"xaxis\": \"x6\", \"y\": [1.0, 5.0, 6.0, 8.0, 12.0, 19.0, 27.0, 35.0, 50.0, 60.0, 63.0, 78.0], \"yaxis\": \"y6\"}, {\"hovertemplate\": \"variable=MED_BAM_DP<br>TYPE=inhA_promoter<br>DATASET=%{x}<br>value=%{y}<extra></extra>\", \"legendgroup\": \"MED_BAM_DP\", \"line\": {\"color\": \"rgb(93, 105, 177)\", \"dash\": \"solid\"}, \"mode\": \"lines\", \"name\": \"MED_BAM_DP\", \"orientation\": \"v\", \"showlegend\": true, \"type\": \"scatter\", \"x\": [5, 10, 15, 20, 30, 40, 50, 60, 70, 80, 90, 100], \"xaxis\": \"x13\", \"y\": [6.0, 11.0, 16.0, 19.0, 22.0, 37.0, 45.0, 52.0, 58.0, 71.0, 76.0, 84.0], \"yaxis\": \"y13\"}, {\"hovertemplate\": \"variable=MED_BAM_DP<br>TYPE=gyrB<br>DATASET=%{x}<br>value=%{y}<extra></extra>\", \"legendgroup\": \"MED_BAM_DP\", \"line\": {\"color\": \"rgb(93, 105, 177)\", \"dash\": \"solid\"}, \"mode\": \"lines\", \"name\": \"MED_BAM_DP\", \"orientation\": \"v\", \"showlegend\": false, \"type\": \"scatter\", \"x\": [5, 10, 15, 20, 30, 40, 50, 60, 70, 80, 90, 100], \"xaxis\": \"x14\", \"y\": [5.0, 10.0, 15.0, 19.0, 30.0, 38.0, 49.0, 56.0, 65.0, 75.0, 86.5, 97.0], \"yaxis\": \"y14\"}, {\"hovertemplate\": \"variable=MED_BAM_DP<br>TYPE=gyrA<br>DATASET=%{x}<br>value=%{y}<extra></extra>\", \"legendgroup\": \"MED_BAM_DP\", \"line\": {\"color\": \"rgb(93, 105, 177)\", \"dash\": \"solid\"}, \"mode\": \"lines\", \"name\": \"MED_BAM_DP\", \"orientation\": \"v\", \"showlegend\": false, \"type\": \"scatter\", \"x\": [5, 10, 15, 20, 30, 40, 50, 60, 70, 80, 90, 100], \"xaxis\": \"x15\", \"y\": [4.0, 9.0, 16.0, 21.0, 32.0, 41.0, 51.0, 61.0, 73.0, 83.0, 92.0, 100.0], \"yaxis\": \"y15\"}, {\"hovertemplate\": \"variable=MED_BAM_DP<br>TYPE=rpoB<br>DATASET=%{x}<br>value=%{y}<extra></extra>\", \"legendgroup\": \"MED_BAM_DP\", \"line\": {\"color\": \"rgb(93, 105, 177)\", \"dash\": \"solid\"}, \"mode\": \"lines\", \"name\": \"MED_BAM_DP\", \"orientation\": \"v\", \"showlegend\": false, \"type\": \"scatter\", \"x\": [5, 10, 15, 20, 30, 40, 50, 60, 70, 80, 90, 100], \"xaxis\": \"x16\", \"y\": [4.0, 9.0, 15.0, 20.0, 30.0, 41.0, 51.0, 60.0, 71.0, 81.0, 90.0, 99.0], \"yaxis\": \"y16\"}, {\"hovertemplate\": \"variable=MED_BAM_DP<br>TYPE=rpsL<br>DATASET=%{x}<br>value=%{y}<extra></extra>\", \"legendgroup\": \"MED_BAM_DP\", \"line\": {\"color\": \"rgb(93, 105, 177)\", \"dash\": \"solid\"}, \"mode\": \"lines\", \"name\": \"MED_BAM_DP\", \"orientation\": \"v\", \"showlegend\": false, \"type\": \"scatter\", \"x\": [5, 10, 15, 20, 30, 40, 50, 60, 70, 80, 90, 100], \"xaxis\": \"x17\", \"y\": [4.0, 7.0, 10.0, 16.0, 24.0, 34.0, 42.0, 48.0, 63.0, 70.0, 78.0, 83.0], \"yaxis\": \"y17\"}, {\"hovertemplate\": \"variable=MED_BAM_DP<br>TYPE=rrs<br>DATASET=%{x}<br>value=%{y}<extra></extra>\", \"legendgroup\": \"MED_BAM_DP\", \"line\": {\"color\": \"rgb(93, 105, 177)\", \"dash\": \"solid\"}, \"mode\": \"lines\", \"name\": \"MED_BAM_DP\", \"orientation\": \"v\", \"showlegend\": false, \"type\": \"scatter\", \"x\": [5, 10, 15, 20, 30, 40, 50, 60, 70, 80, 90, 100], \"xaxis\": \"x18\", \"y\": [4.0, 10.0, 18.0, 22.0, 33.0, 42.0, 49.0, 57.0, 69.0, 81.0, 90.0, 101.0], \"yaxis\": \"y18\"}, {\"hovertemplate\": \"variable=MED_BAM_DP<br>TYPE=fabG1<br>DATASET=%{x}<br>value=%{y}<extra></extra>\", \"legendgroup\": \"MED_BAM_DP\", \"line\": {\"color\": \"rgb(93, 105, 177)\", \"dash\": \"solid\"}, \"mode\": \"lines\", \"name\": \"MED_BAM_DP\", \"orientation\": \"v\", \"showlegend\": false, \"type\": \"scatter\", \"x\": [5, 10, 15, 20, 30, 40, 50, 60, 70, 80, 90, 100], \"xaxis\": \"x7\", \"y\": [4.0, 8.0, 12.0, 18.0, 28.0, 40.0, 52.0, 64.0, 73.0, 79.0, 88.0, 97.5], \"yaxis\": \"y7\"}, {\"hovertemplate\": \"variable=MED_BAM_DP<br>TYPE=inhA<br>DATASET=%{x}<br>value=%{y}<extra></extra>\", \"legendgroup\": \"MED_BAM_DP\", \"line\": {\"color\": \"rgb(93, 105, 177)\", \"dash\": \"solid\"}, \"mode\": \"lines\", \"name\": \"MED_BAM_DP\", \"orientation\": \"v\", \"showlegend\": false, \"type\": \"scatter\", \"x\": [5, 10, 15, 20, 30, 40, 50, 60, 70, 80, 90, 100], \"xaxis\": \"x8\", \"y\": [5.0, 9.0, 14.0, 18.0, 26.0, 37.0, 47.5, 57.0, 65.0, 77.0, 87.0, 97.5], \"yaxis\": \"y8\"}, {\"hovertemplate\": \"variable=MED_BAM_DP<br>TYPE=pncA<br>DATASET=%{x}<br>value=%{y}<extra></extra>\", \"legendgroup\": \"MED_BAM_DP\", \"line\": {\"color\": \"rgb(93, 105, 177)\", \"dash\": \"solid\"}, \"mode\": \"lines\", \"name\": \"MED_BAM_DP\", \"orientation\": \"v\", \"showlegend\": false, \"type\": \"scatter\", \"x\": [5, 10, 15, 20, 30, 40, 50, 60, 70, 80, 90, 100], \"xaxis\": \"x9\", \"y\": [4.0, 8.0, 11.0, 17.0, 27.0, 34.0, 45.0, 53.0, 62.0, 69.0, 78.0, 88.0], \"yaxis\": \"y9\"}, {\"hovertemplate\": \"variable=MED_BAM_DP<br>TYPE=katG<br>DATASET=%{x}<br>value=%{y}<extra></extra>\", \"legendgroup\": \"MED_BAM_DP\", \"line\": {\"color\": \"rgb(93, 105, 177)\", \"dash\": \"solid\"}, \"mode\": \"lines\", \"name\": \"MED_BAM_DP\", \"orientation\": \"v\", \"showlegend\": false, \"type\": \"scatter\", \"x\": [5, 10, 15, 20, 30, 40, 50, 60, 70, 80, 90, 100], \"xaxis\": \"x10\", \"y\": [4.0, 9.0, 15.0, 20.0, 28.0, 40.0, 51.0, 62.0, 74.0, 85.0, 95.0, 105.0], \"yaxis\": \"y10\"}, {\"hovertemplate\": \"variable=MED_BAM_DP<br>TYPE=eis<br>DATASET=%{x}<br>value=%{y}<extra></extra>\", \"legendgroup\": \"MED_BAM_DP\", \"line\": {\"color\": \"rgb(93, 105, 177)\", \"dash\": \"solid\"}, \"mode\": \"lines\", \"name\": \"MED_BAM_DP\", \"orientation\": \"v\", \"showlegend\": false, \"type\": \"scatter\", \"x\": [5, 10, 15, 20, 30, 40, 50, 60, 70, 80, 90, 100], \"xaxis\": \"x11\", \"y\": [5.0, 10.0, 14.0, 19.0, 29.0, 41.0, 49.0, 61.0, 69.0, 81.0, 89.0, 96.0], \"yaxis\": \"y11\"}, {\"hovertemplate\": \"variable=MED_BAM_DP<br>TYPE=ahpC_promoter<br>DATASET=%{x}<br>value=%{y}<extra></extra>\", \"legendgroup\": \"MED_BAM_DP\", \"line\": {\"color\": \"rgb(93, 105, 177)\", \"dash\": \"solid\"}, \"mode\": \"lines\", \"name\": \"MED_BAM_DP\", \"orientation\": \"v\", \"showlegend\": false, \"type\": \"scatter\", \"x\": [5, 10, 15, 20, 30, 40, 50, 60, 70, 80, 90, 100], \"xaxis\": \"x12\", \"y\": [5.0, 12.0, 18.0, 25.0, 32.0, 40.0, 51.0, 63.0, 75.0, 85.0, 96.0, 104.0], \"yaxis\": \"y12\"}, {\"hovertemplate\": \"variable=MED_BAM_DP<br>TYPE=ahpC<br>DATASET=%{x}<br>value=%{y}<extra></extra>\", \"legendgroup\": \"MED_BAM_DP\", \"line\": {\"color\": \"rgb(93, 105, 177)\", \"dash\": \"solid\"}, \"mode\": \"lines\", \"name\": \"MED_BAM_DP\", \"orientation\": \"v\", \"showlegend\": false, \"type\": \"scatter\", \"x\": [5, 10, 15, 20, 30, 40, 50, 60, 70, 80, 90, 100], \"xaxis\": \"x\", \"y\": [8.0, 11.0, 16.0, 21.0, 32.0, 39.0, 50.0, 62.0, 72.0, 81.0, 90.0, 98.0], \"yaxis\": \"y\"}, {\"hovertemplate\": \"variable=MED_BAM_DP<br>TYPE=embC<br>DATASET=%{x}<br>value=%{y}<extra></extra>\", \"legendgroup\": \"MED_BAM_DP\", \"line\": {\"color\": \"rgb(93, 105, 177)\", \"dash\": \"solid\"}, \"mode\": \"lines\", \"name\": \"MED_BAM_DP\", \"orientation\": \"v\", \"showlegend\": false, \"type\": \"scatter\", \"x\": [5, 10, 15, 20, 30, 40, 50, 60, 70, 80, 90, 100], \"xaxis\": \"x2\", \"y\": [5.0, 7.0, 13.0, 17.0, 25.0, 34.0, 44.0, 54.0, 65.0, 75.0, 84.0, 95.0], \"yaxis\": \"y2\"}, {\"hovertemplate\": \"variable=MED_BAM_DP<br>TYPE=embA<br>DATASET=%{x}<br>value=%{y}<extra></extra>\", \"legendgroup\": \"MED_BAM_DP\", \"line\": {\"color\": \"rgb(93, 105, 177)\", \"dash\": \"solid\"}, \"mode\": \"lines\", \"name\": \"MED_BAM_DP\", \"orientation\": \"v\", \"showlegend\": false, \"type\": \"scatter\", \"x\": [5, 10, 15, 20, 30, 40, 50, 60, 70, 80, 90, 100], \"xaxis\": \"x3\", \"y\": [5.0, 9.0, 15.0, 20.0, 30.0, 40.0, 53.0, 65.0, 75.0, 84.0, 93.0, 104.0], \"yaxis\": \"y3\"}, {\"hovertemplate\": \"variable=MED_BAM_DP<br>TYPE=embB<br>DATASET=%{x}<br>value=%{y}<extra></extra>\", \"legendgroup\": \"MED_BAM_DP\", \"line\": {\"color\": \"rgb(93, 105, 177)\", \"dash\": \"solid\"}, \"mode\": \"lines\", \"name\": \"MED_BAM_DP\", \"orientation\": \"v\", \"showlegend\": false, \"type\": \"scatter\", \"x\": [5, 10, 15, 20, 30, 40, 50, 60, 70, 80, 90, 100], \"xaxis\": \"x4\", \"y\": [6.0, 10.0, 14.0, 20.0, 31.0, 42.0, 53.0, 62.0, 74.0, 84.0, 95.0, 105.0], \"yaxis\": \"y4\"}, {\"hovertemplate\": \"variable=MED_BAM_DP<br>TYPE=gidB<br>DATASET=%{x}<br>value=%{y}<extra></extra>\", \"legendgroup\": \"MED_BAM_DP\", \"line\": {\"color\": \"rgb(93, 105, 177)\", \"dash\": \"solid\"}, \"mode\": \"lines\", \"name\": \"MED_BAM_DP\", \"orientation\": \"v\", \"showlegend\": false, \"type\": \"scatter\", \"x\": [5, 10, 15, 20, 30, 40, 50, 60, 70, 80, 90, 100], \"xaxis\": \"x5\", \"y\": [6.0, 11.0, 13.0, 19.0, 32.0, 43.0, 49.0, 61.0, 68.0, 78.0, 86.0, 95.0], \"yaxis\": \"y5\"}, {\"hovertemplate\": \"variable=MED_BAM_DP<br>TYPE=eis_promoter<br>DATASET=%{x}<br>value=%{y}<extra></extra>\", \"legendgroup\": \"MED_BAM_DP\", \"line\": {\"color\": \"rgb(93, 105, 177)\", \"dash\": \"solid\"}, \"mode\": \"lines\", \"name\": \"MED_BAM_DP\", \"orientation\": \"v\", \"showlegend\": false, \"type\": \"scatter\", \"x\": [5, 10, 15, 20, 30, 40, 50, 60, 70, 80, 90, 100], \"xaxis\": \"x6\", \"y\": [5.0, 9.0, 11.0, 13.0, 22.0, 29.0, 37.0, 54.0, 66.0, 78.0, 86.0, 95.0], \"yaxis\": \"y6\"}, {\"hovertemplate\": \"variable=MAX_BAM_DP<br>TYPE=inhA_promoter<br>DATASET=%{x}<br>value=%{y}<extra></extra>\", \"legendgroup\": \"MAX_BAM_DP\", \"line\": {\"color\": \"rgb(82, 188, 163)\", \"dash\": \"solid\"}, \"mode\": \"lines\", \"name\": \"MAX_BAM_DP\", \"orientation\": \"v\", \"showlegend\": true, \"type\": \"scatter\", \"x\": [5, 10, 15, 20, 30, 40, 50, 60, 70, 80, 90, 100], \"xaxis\": \"x13\", \"y\": [9.0, 14.0, 19.0, 22.0, 25.0, 43.0, 52.0, 61.0, 63.0, 76.0, 82.0, 90.0], \"yaxis\": \"y13\"}, {\"hovertemplate\": \"variable=MAX_BAM_DP<br>TYPE=gyrB<br>DATASET=%{x}<br>value=%{y}<extra></extra>\", \"legendgroup\": \"MAX_BAM_DP\", \"line\": {\"color\": \"rgb(82, 188, 163)\", \"dash\": \"solid\"}, \"mode\": \"lines\", \"name\": \"MAX_BAM_DP\", \"orientation\": \"v\", \"showlegend\": false, \"type\": \"scatter\", \"x\": [5, 10, 15, 20, 30, 40, 50, 60, 70, 80, 90, 100], \"xaxis\": \"x14\", \"y\": [11.0, 21.0, 27.0, 30.0, 44.0, 55.0, 59.0, 68.0, 82.0, 94.0, 117.0, 123.0], \"yaxis\": \"y14\"}, {\"hovertemplate\": \"variable=MAX_BAM_DP<br>TYPE=gyrA<br>DATASET=%{x}<br>value=%{y}<extra></extra>\", \"legendgroup\": \"MAX_BAM_DP\", \"line\": {\"color\": \"rgb(82, 188, 163)\", \"dash\": \"solid\"}, \"mode\": \"lines\", \"name\": \"MAX_BAM_DP\", \"orientation\": \"v\", \"showlegend\": false, \"type\": \"scatter\", \"x\": [5, 10, 15, 20, 30, 40, 50, 60, 70, 80, 90, 100], \"xaxis\": \"x15\", \"y\": [14.0, 22.0, 29.0, 35.0, 46.0, 58.0, 69.0, 80.0, 89.0, 104.0, 114.0, 120.0], \"yaxis\": \"y15\"}, {\"hovertemplate\": \"variable=MAX_BAM_DP<br>TYPE=rpoB<br>DATASET=%{x}<br>value=%{y}<extra></extra>\", \"legendgroup\": \"MAX_BAM_DP\", \"line\": {\"color\": \"rgb(82, 188, 163)\", \"dash\": \"solid\"}, \"mode\": \"lines\", \"name\": \"MAX_BAM_DP\", \"orientation\": \"v\", \"showlegend\": false, \"type\": \"scatter\", \"x\": [5, 10, 15, 20, 30, 40, 50, 60, 70, 80, 90, 100], \"xaxis\": \"x16\", \"y\": [12.0, 18.0, 28.0, 34.0, 44.0, 60.0, 77.0, 92.0, 104.0, 112.0, 122.0, 132.0], \"yaxis\": \"y16\"}, {\"hovertemplate\": \"variable=MAX_BAM_DP<br>TYPE=rpsL<br>DATASET=%{x}<br>value=%{y}<extra></extra>\", \"legendgroup\": \"MAX_BAM_DP\", \"line\": {\"color\": \"rgb(82, 188, 163)\", \"dash\": \"solid\"}, \"mode\": \"lines\", \"name\": \"MAX_BAM_DP\", \"orientation\": \"v\", \"showlegend\": false, \"type\": \"scatter\", \"x\": [5, 10, 15, 20, 30, 40, 50, 60, 70, 80, 90, 100], \"xaxis\": \"x17\", \"y\": [12.0, 19.0, 20.0, 25.0, 32.0, 52.0, 56.0, 62.0, 74.0, 90.0, 98.0, 107.0], \"yaxis\": \"y17\"}, {\"hovertemplate\": \"variable=MAX_BAM_DP<br>TYPE=rrs<br>DATASET=%{x}<br>value=%{y}<extra></extra>\", \"legendgroup\": \"MAX_BAM_DP\", \"line\": {\"color\": \"rgb(82, 188, 163)\", \"dash\": \"solid\"}, \"mode\": \"lines\", \"name\": \"MAX_BAM_DP\", \"orientation\": \"v\", \"showlegend\": false, \"type\": \"scatter\", \"x\": [5, 10, 15, 20, 30, 40, 50, 60, 70, 80, 90, 100], \"xaxis\": \"x18\", \"y\": [12.0, 16.0, 26.0, 35.0, 53.0, 62.0, 75.0, 88.0, 103.0, 109.0, 132.0, 140.0], \"yaxis\": \"y18\"}, {\"hovertemplate\": \"variable=MAX_BAM_DP<br>TYPE=fabG1<br>DATASET=%{x}<br>value=%{y}<extra></extra>\", \"legendgroup\": \"MAX_BAM_DP\", \"line\": {\"color\": \"rgb(82, 188, 163)\", \"dash\": \"solid\"}, \"mode\": \"lines\", \"name\": \"MAX_BAM_DP\", \"orientation\": \"v\", \"showlegend\": false, \"type\": \"scatter\", \"x\": [5, 10, 15, 20, 30, 40, 50, 60, 70, 80, 90, 100], \"xaxis\": \"x7\", \"y\": [11.0, 18.0, 20.0, 24.0, 39.0, 47.0, 62.0, 78.0, 89.0, 102.0, 117.0, 128.0], \"yaxis\": \"y7\"}, {\"hovertemplate\": \"variable=MAX_BAM_DP<br>TYPE=inhA<br>DATASET=%{x}<br>value=%{y}<extra></extra>\", \"legendgroup\": \"MAX_BAM_DP\", \"line\": {\"color\": \"rgb(82, 188, 163)\", \"dash\": \"solid\"}, \"mode\": \"lines\", \"name\": \"MAX_BAM_DP\", \"orientation\": \"v\", \"showlegend\": false, \"type\": \"scatter\", \"x\": [5, 10, 15, 20, 30, 40, 50, 60, 70, 80, 90, 100], \"xaxis\": \"x8\", \"y\": [9.0, 16.0, 22.0, 25.0, 38.0, 51.0, 63.0, 72.0, 86.0, 100.0, 116.0, 122.0], \"yaxis\": \"y8\"}, {\"hovertemplate\": \"variable=MAX_BAM_DP<br>TYPE=pncA<br>DATASET=%{x}<br>value=%{y}<extra></extra>\", \"legendgroup\": \"MAX_BAM_DP\", \"line\": {\"color\": \"rgb(82, 188, 163)\", \"dash\": \"solid\"}, \"mode\": \"lines\", \"name\": \"MAX_BAM_DP\", \"orientation\": \"v\", \"showlegend\": false, \"type\": \"scatter\", \"x\": [5, 10, 15, 20, 30, 40, 50, 60, 70, 80, 90, 100], \"xaxis\": \"x9\", \"y\": [7.0, 12.0, 18.0, 21.0, 31.0, 42.0, 51.0, 68.0, 77.0, 86.0, 96.0, 102.0], \"yaxis\": \"y9\"}, {\"hovertemplate\": \"variable=MAX_BAM_DP<br>TYPE=katG<br>DATASET=%{x}<br>value=%{y}<extra></extra>\", \"legendgroup\": \"MAX_BAM_DP\", \"line\": {\"color\": \"rgb(82, 188, 163)\", \"dash\": \"solid\"}, \"mode\": \"lines\", \"name\": \"MAX_BAM_DP\", \"orientation\": \"v\", \"showlegend\": false, \"type\": \"scatter\", \"x\": [5, 10, 15, 20, 30, 40, 50, 60, 70, 80, 90, 100], \"xaxis\": \"x10\", \"y\": [13.0, 16.0, 23.0, 30.0, 36.0, 60.0, 70.0, 88.0, 97.0, 107.0, 118.0, 131.0], \"yaxis\": \"y10\"}, {\"hovertemplate\": \"variable=MAX_BAM_DP<br>TYPE=eis<br>DATASET=%{x}<br>value=%{y}<extra></extra>\", \"legendgroup\": \"MAX_BAM_DP\", \"line\": {\"color\": \"rgb(82, 188, 163)\", \"dash\": \"solid\"}, \"mode\": \"lines\", \"name\": \"MAX_BAM_DP\", \"orientation\": \"v\", \"showlegend\": false, \"type\": \"scatter\", \"x\": [5, 10, 15, 20, 30, 40, 50, 60, 70, 80, 90, 100], \"xaxis\": \"x11\", \"y\": [17.0, 21.0, 24.0, 25.0, 38.0, 54.0, 71.0, 81.0, 93.0, 103.0, 112.0, 119.0], \"yaxis\": \"y11\"}, {\"hovertemplate\": \"variable=MAX_BAM_DP<br>TYPE=ahpC_promoter<br>DATASET=%{x}<br>value=%{y}<extra></extra>\", \"legendgroup\": \"MAX_BAM_DP\", \"line\": {\"color\": \"rgb(82, 188, 163)\", \"dash\": \"solid\"}, \"mode\": \"lines\", \"name\": \"MAX_BAM_DP\", \"orientation\": \"v\", \"showlegend\": false, \"type\": \"scatter\", \"x\": [5, 10, 15, 20, 30, 40, 50, 60, 70, 80, 90, 100], \"xaxis\": \"x12\", \"y\": [7.0, 15.0, 20.0, 28.0, 36.0, 46.0, 56.0, 68.0, 80.0, 89.0, 100.0, 109.0], \"yaxis\": \"y12\"}, {\"hovertemplate\": \"variable=MAX_BAM_DP<br>TYPE=ahpC<br>DATASET=%{x}<br>value=%{y}<extra></extra>\", \"legendgroup\": \"MAX_BAM_DP\", \"line\": {\"color\": \"rgb(82, 188, 163)\", \"dash\": \"solid\"}, \"mode\": \"lines\", \"name\": \"MAX_BAM_DP\", \"orientation\": \"v\", \"showlegend\": false, \"type\": \"scatter\", \"x\": [5, 10, 15, 20, 30, 40, 50, 60, 70, 80, 90, 100], \"xaxis\": \"x\", \"y\": [13.0, 19.0, 21.0, 28.0, 37.0, 46.0, 60.0, 74.0, 88.0, 103.0, 118.0, 128.0], \"yaxis\": \"y\"}, {\"hovertemplate\": \"variable=MAX_BAM_DP<br>TYPE=embC<br>DATASET=%{x}<br>value=%{y}<extra></extra>\", \"legendgroup\": \"MAX_BAM_DP\", \"line\": {\"color\": \"rgb(82, 188, 163)\", \"dash\": \"solid\"}, \"mode\": \"lines\", \"name\": \"MAX_BAM_DP\", \"orientation\": \"v\", \"showlegend\": false, \"type\": \"scatter\", \"x\": [5, 10, 15, 20, 30, 40, 50, 60, 70, 80, 90, 100], \"xaxis\": \"x2\", \"y\": [11.0, 20.0, 22.0, 29.0, 45.0, 59.0, 69.0, 84.0, 96.0, 106.0, 114.0, 122.0], \"yaxis\": \"y2\"}, {\"hovertemplate\": \"variable=MAX_BAM_DP<br>TYPE=embA<br>DATASET=%{x}<br>value=%{y}<extra></extra>\", \"legendgroup\": \"MAX_BAM_DP\", \"line\": {\"color\": \"rgb(82, 188, 163)\", \"dash\": \"solid\"}, \"mode\": \"lines\", \"name\": \"MAX_BAM_DP\", \"orientation\": \"v\", \"showlegend\": false, \"type\": \"scatter\", \"x\": [5, 10, 15, 20, 30, 40, 50, 60, 70, 80, 90, 100], \"xaxis\": \"x3\", \"y\": [13.0, 23.0, 27.0, 31.0, 53.0, 66.0, 78.0, 89.0, 104.0, 113.0, 118.0, 131.0], \"yaxis\": \"y3\"}, {\"hovertemplate\": \"variable=MAX_BAM_DP<br>TYPE=embB<br>DATASET=%{x}<br>value=%{y}<extra></extra>\", \"legendgroup\": \"MAX_BAM_DP\", \"line\": {\"color\": \"rgb(82, 188, 163)\", \"dash\": \"solid\"}, \"mode\": \"lines\", \"name\": \"MAX_BAM_DP\", \"orientation\": \"v\", \"showlegend\": false, \"type\": \"scatter\", \"x\": [5, 10, 15, 20, 30, 40, 50, 60, 70, 80, 90, 100], \"xaxis\": \"x4\", \"y\": [16.0, 26.0, 33.0, 38.0, 51.0, 62.0, 71.0, 91.0, 106.0, 119.0, 128.0, 133.0], \"yaxis\": \"y4\"}, {\"hovertemplate\": \"variable=MAX_BAM_DP<br>TYPE=gidB<br>DATASET=%{x}<br>value=%{y}<extra></extra>\", \"legendgroup\": \"MAX_BAM_DP\", \"line\": {\"color\": \"rgb(82, 188, 163)\", \"dash\": \"solid\"}, \"mode\": \"lines\", \"name\": \"MAX_BAM_DP\", \"orientation\": \"v\", \"showlegend\": false, \"type\": \"scatter\", \"x\": [5, 10, 15, 20, 30, 40, 50, 60, 70, 80, 90, 100], \"xaxis\": \"x5\", \"y\": [9.0, 21.0, 22.0, 25.0, 43.0, 55.0, 72.0, 79.0, 90.0, 98.0, 105.0, 124.0], \"yaxis\": \"y5\"}, {\"hovertemplate\": \"variable=MAX_BAM_DP<br>TYPE=eis_promoter<br>DATASET=%{x}<br>value=%{y}<extra></extra>\", \"legendgroup\": \"MAX_BAM_DP\", \"line\": {\"color\": \"rgb(82, 188, 163)\", \"dash\": \"solid\"}, \"mode\": \"lines\", \"name\": \"MAX_BAM_DP\", \"orientation\": \"v\", \"showlegend\": false, \"type\": \"scatter\", \"x\": [5, 10, 15, 20, 30, 40, 50, 60, 70, 80, 90, 100], \"xaxis\": \"x6\", \"y\": [9.0, 15.0, 24.0, 25.0, 35.0, 50.0, 56.0, 65.0, 75.0, 91.0, 101.0, 114.0], \"yaxis\": \"y6\"}],                        {\"annotations\": [{\"font\": {}, \"showarrow\": false, \"text\": \"TYPE=ahpC\", \"x\": 0.075, \"xanchor\": \"center\", \"xref\": \"paper\", \"y\": 0.2866666666666666, \"yanchor\": \"bottom\", \"yref\": \"paper\"}, {\"font\": {}, \"showarrow\": false, \"text\": \"TYPE=embC\", \"x\": 0.24499999999999997, \"xanchor\": \"center\", \"xref\": \"paper\", \"y\": 0.2866666666666666, \"yanchor\": \"bottom\", \"yref\": \"paper\"}, {\"font\": {}, \"showarrow\": false, \"text\": \"TYPE=embA\", \"x\": 0.415, \"xanchor\": \"center\", \"xref\": \"paper\", \"y\": 0.2866666666666666, \"yanchor\": \"bottom\", \"yref\": \"paper\"}, {\"font\": {}, \"showarrow\": false, \"text\": \"TYPE=embB\", \"x\": 0.585, \"xanchor\": \"center\", \"xref\": \"paper\", \"y\": 0.2866666666666666, \"yanchor\": \"bottom\", \"yref\": \"paper\"}, {\"font\": {}, \"showarrow\": false, \"text\": \"TYPE=gidB\", \"x\": 0.7549999999999999, \"xanchor\": \"center\", \"xref\": \"paper\", \"y\": 0.2866666666666666, \"yanchor\": \"bottom\", \"yref\": \"paper\"}, {\"font\": {}, \"showarrow\": false, \"text\": \"TYPE=eis_promoter\", \"x\": 0.925, \"xanchor\": \"center\", \"xref\": \"paper\", \"y\": 0.2866666666666666, \"yanchor\": \"bottom\", \"yref\": \"paper\"}, {\"font\": {}, \"showarrow\": false, \"text\": \"TYPE=fabG1\", \"x\": 0.075, \"xanchor\": \"center\", \"xref\": \"paper\", \"y\": 0.6433333333333333, \"yanchor\": \"bottom\", \"yref\": \"paper\"}, {\"font\": {}, \"showarrow\": false, \"text\": \"TYPE=inhA\", \"x\": 0.24499999999999997, \"xanchor\": \"center\", \"xref\": \"paper\", \"y\": 0.6433333333333333, \"yanchor\": \"bottom\", \"yref\": \"paper\"}, {\"font\": {}, \"showarrow\": false, \"text\": \"TYPE=pncA\", \"x\": 0.415, \"xanchor\": \"center\", \"xref\": \"paper\", \"y\": 0.6433333333333333, \"yanchor\": \"bottom\", \"yref\": \"paper\"}, {\"font\": {}, \"showarrow\": false, \"text\": \"TYPE=katG\", \"x\": 0.585, \"xanchor\": \"center\", \"xref\": \"paper\", \"y\": 0.6433333333333333, \"yanchor\": \"bottom\", \"yref\": \"paper\"}, {\"font\": {}, \"showarrow\": false, \"text\": \"TYPE=eis\", \"x\": 0.7549999999999999, \"xanchor\": \"center\", \"xref\": \"paper\", \"y\": 0.6433333333333333, \"yanchor\": \"bottom\", \"yref\": \"paper\"}, {\"font\": {}, \"showarrow\": false, \"text\": \"TYPE=ahpC_promoter\", \"x\": 0.925, \"xanchor\": \"center\", \"xref\": \"paper\", \"y\": 0.6433333333333333, \"yanchor\": \"bottom\", \"yref\": \"paper\"}, {\"font\": {}, \"showarrow\": false, \"text\": \"TYPE=inhA_promoter\", \"x\": 0.075, \"xanchor\": \"center\", \"xref\": \"paper\", \"y\": 0.9999999999999999, \"yanchor\": \"bottom\", \"yref\": \"paper\"}, {\"font\": {}, \"showarrow\": false, \"text\": \"TYPE=gyrB\", \"x\": 0.24499999999999997, \"xanchor\": \"center\", \"xref\": \"paper\", \"y\": 0.9999999999999999, \"yanchor\": \"bottom\", \"yref\": \"paper\"}, {\"font\": {}, \"showarrow\": false, \"text\": \"TYPE=gyrA\", \"x\": 0.415, \"xanchor\": \"center\", \"xref\": \"paper\", \"y\": 0.9999999999999999, \"yanchor\": \"bottom\", \"yref\": \"paper\"}, {\"font\": {}, \"showarrow\": false, \"text\": \"TYPE=rpoB\", \"x\": 0.585, \"xanchor\": \"center\", \"xref\": \"paper\", \"y\": 0.9999999999999999, \"yanchor\": \"bottom\", \"yref\": \"paper\"}, {\"font\": {}, \"showarrow\": false, \"text\": \"TYPE=rpsL\", \"x\": 0.7549999999999999, \"xanchor\": \"center\", \"xref\": \"paper\", \"y\": 0.9999999999999999, \"yanchor\": \"bottom\", \"yref\": \"paper\"}, {\"font\": {}, \"showarrow\": false, \"text\": \"TYPE=rrs\", \"x\": 0.925, \"xanchor\": \"center\", \"xref\": \"paper\", \"y\": 0.9999999999999999, \"yanchor\": \"bottom\", \"yref\": \"paper\"}], \"legend\": {\"title\": {\"text\": \"variable\"}, \"tracegroupgap\": 0}, \"margin\": {\"t\": 60}, \"template\": {\"data\": {\"bar\": [{\"error_x\": {\"color\": \"#2a3f5f\"}, \"error_y\": {\"color\": \"#2a3f5f\"}, \"marker\": {\"line\": {\"color\": \"#E5ECF6\", \"width\": 0.5}}, \"type\": \"bar\"}], \"barpolar\": [{\"marker\": {\"line\": {\"color\": \"#E5ECF6\", \"width\": 0.5}}, \"type\": \"barpolar\"}], \"carpet\": [{\"aaxis\": {\"endlinecolor\": \"#2a3f5f\", \"gridcolor\": \"white\", \"linecolor\": \"white\", \"minorgridcolor\": \"white\", \"startlinecolor\": \"#2a3f5f\"}, \"baxis\": {\"endlinecolor\": \"#2a3f5f\", \"gridcolor\": \"white\", \"linecolor\": \"white\", \"minorgridcolor\": \"white\", \"startlinecolor\": \"#2a3f5f\"}, \"type\": \"carpet\"}], \"choropleth\": [{\"colorbar\": {\"outlinewidth\": 0, \"ticks\": \"\"}, \"type\": \"choropleth\"}], \"contour\": [{\"colorbar\": {\"outlinewidth\": 0, \"ticks\": \"\"}, \"colorscale\": [[0.0, \"#0d0887\"], [0.1111111111111111, \"#46039f\"], [0.2222222222222222, \"#7201a8\"], [0.3333333333333333, \"#9c179e\"], [0.4444444444444444, \"#bd3786\"], [0.5555555555555556, \"#d8576b\"], [0.6666666666666666, \"#ed7953\"], [0.7777777777777778, \"#fb9f3a\"], [0.8888888888888888, \"#fdca26\"], [1.0, \"#f0f921\"]], \"type\": \"contour\"}], \"contourcarpet\": [{\"colorbar\": {\"outlinewidth\": 0, \"ticks\": \"\"}, \"type\": \"contourcarpet\"}], \"heatmap\": [{\"colorbar\": {\"outlinewidth\": 0, \"ticks\": \"\"}, \"colorscale\": [[0.0, \"#0d0887\"], [0.1111111111111111, \"#46039f\"], [0.2222222222222222, \"#7201a8\"], [0.3333333333333333, \"#9c179e\"], [0.4444444444444444, \"#bd3786\"], [0.5555555555555556, \"#d8576b\"], [0.6666666666666666, \"#ed7953\"], [0.7777777777777778, \"#fb9f3a\"], [0.8888888888888888, \"#fdca26\"], [1.0, \"#f0f921\"]], \"type\": \"heatmap\"}], \"heatmapgl\": [{\"colorbar\": {\"outlinewidth\": 0, \"ticks\": \"\"}, \"colorscale\": [[0.0, \"#0d0887\"], [0.1111111111111111, \"#46039f\"], [0.2222222222222222, \"#7201a8\"], [0.3333333333333333, \"#9c179e\"], [0.4444444444444444, \"#bd3786\"], [0.5555555555555556, \"#d8576b\"], [0.6666666666666666, \"#ed7953\"], [0.7777777777777778, \"#fb9f3a\"], [0.8888888888888888, \"#fdca26\"], [1.0, \"#f0f921\"]], \"type\": \"heatmapgl\"}], \"histogram\": [{\"marker\": {\"colorbar\": {\"outlinewidth\": 0, \"ticks\": \"\"}}, \"type\": \"histogram\"}], \"histogram2d\": [{\"colorbar\": {\"outlinewidth\": 0, \"ticks\": \"\"}, \"colorscale\": [[0.0, \"#0d0887\"], [0.1111111111111111, \"#46039f\"], [0.2222222222222222, \"#7201a8\"], [0.3333333333333333, \"#9c179e\"], [0.4444444444444444, \"#bd3786\"], [0.5555555555555556, \"#d8576b\"], [0.6666666666666666, \"#ed7953\"], [0.7777777777777778, \"#fb9f3a\"], [0.8888888888888888, \"#fdca26\"], [1.0, \"#f0f921\"]], \"type\": \"histogram2d\"}], \"histogram2dcontour\": [{\"colorbar\": {\"outlinewidth\": 0, \"ticks\": \"\"}, \"colorscale\": [[0.0, \"#0d0887\"], [0.1111111111111111, \"#46039f\"], [0.2222222222222222, \"#7201a8\"], [0.3333333333333333, \"#9c179e\"], [0.4444444444444444, \"#bd3786\"], [0.5555555555555556, \"#d8576b\"], [0.6666666666666666, \"#ed7953\"], [0.7777777777777778, \"#fb9f3a\"], [0.8888888888888888, \"#fdca26\"], [1.0, \"#f0f921\"]], \"type\": \"histogram2dcontour\"}], \"mesh3d\": [{\"colorbar\": {\"outlinewidth\": 0, \"ticks\": \"\"}, \"type\": \"mesh3d\"}], \"parcoords\": [{\"line\": {\"colorbar\": {\"outlinewidth\": 0, \"ticks\": \"\"}}, \"type\": \"parcoords\"}], \"pie\": [{\"automargin\": true, \"type\": \"pie\"}], \"scatter\": [{\"marker\": {\"colorbar\": {\"outlinewidth\": 0, \"ticks\": \"\"}}, \"type\": \"scatter\"}], \"scatter3d\": [{\"line\": {\"colorbar\": {\"outlinewidth\": 0, \"ticks\": \"\"}}, \"marker\": {\"colorbar\": {\"outlinewidth\": 0, \"ticks\": \"\"}}, \"type\": \"scatter3d\"}], \"scattercarpet\": [{\"marker\": {\"colorbar\": {\"outlinewidth\": 0, \"ticks\": \"\"}}, \"type\": \"scattercarpet\"}], \"scattergeo\": [{\"marker\": {\"colorbar\": {\"outlinewidth\": 0, \"ticks\": \"\"}}, \"type\": \"scattergeo\"}], \"scattergl\": [{\"marker\": {\"colorbar\": {\"outlinewidth\": 0, \"ticks\": \"\"}}, \"type\": \"scattergl\"}], \"scattermapbox\": [{\"marker\": {\"colorbar\": {\"outlinewidth\": 0, \"ticks\": \"\"}}, \"type\": \"scattermapbox\"}], \"scatterpolar\": [{\"marker\": {\"colorbar\": {\"outlinewidth\": 0, \"ticks\": \"\"}}, \"type\": \"scatterpolar\"}], \"scatterpolargl\": [{\"marker\": {\"colorbar\": {\"outlinewidth\": 0, \"ticks\": \"\"}}, \"type\": \"scatterpolargl\"}], \"scatterternary\": [{\"marker\": {\"colorbar\": {\"outlinewidth\": 0, \"ticks\": \"\"}}, \"type\": \"scatterternary\"}], \"surface\": [{\"colorbar\": {\"outlinewidth\": 0, \"ticks\": \"\"}, \"colorscale\": [[0.0, \"#0d0887\"], [0.1111111111111111, \"#46039f\"], [0.2222222222222222, \"#7201a8\"], [0.3333333333333333, \"#9c179e\"], [0.4444444444444444, \"#bd3786\"], [0.5555555555555556, \"#d8576b\"], [0.6666666666666666, \"#ed7953\"], [0.7777777777777778, \"#fb9f3a\"], [0.8888888888888888, \"#fdca26\"], [1.0, \"#f0f921\"]], \"type\": \"surface\"}], \"table\": [{\"cells\": {\"fill\": {\"color\": \"#EBF0F8\"}, \"line\": {\"color\": \"white\"}}, \"header\": {\"fill\": {\"color\": \"#C8D4E3\"}, \"line\": {\"color\": \"white\"}}, \"type\": \"table\"}]}, \"layout\": {\"annotationdefaults\": {\"arrowcolor\": \"#2a3f5f\", \"arrowhead\": 0, \"arrowwidth\": 1}, \"autotypenumbers\": \"strict\", \"coloraxis\": {\"colorbar\": {\"outlinewidth\": 0, \"ticks\": \"\"}}, \"colorscale\": {\"diverging\": [[0, \"#8e0152\"], [0.1, \"#c51b7d\"], [0.2, \"#de77ae\"], [0.3, \"#f1b6da\"], [0.4, \"#fde0ef\"], [0.5, \"#f7f7f7\"], [0.6, \"#e6f5d0\"], [0.7, \"#b8e186\"], [0.8, \"#7fbc41\"], [0.9, \"#4d9221\"], [1, \"#276419\"]], \"sequential\": [[0.0, \"#0d0887\"], [0.1111111111111111, \"#46039f\"], [0.2222222222222222, \"#7201a8\"], [0.3333333333333333, \"#9c179e\"], [0.4444444444444444, \"#bd3786\"], [0.5555555555555556, \"#d8576b\"], [0.6666666666666666, \"#ed7953\"], [0.7777777777777778, \"#fb9f3a\"], [0.8888888888888888, \"#fdca26\"], [1.0, \"#f0f921\"]], \"sequentialminus\": [[0.0, \"#0d0887\"], [0.1111111111111111, \"#46039f\"], [0.2222222222222222, \"#7201a8\"], [0.3333333333333333, \"#9c179e\"], [0.4444444444444444, \"#bd3786\"], [0.5555555555555556, \"#d8576b\"], [0.6666666666666666, \"#ed7953\"], [0.7777777777777778, \"#fb9f3a\"], [0.8888888888888888, \"#fdca26\"], [1.0, \"#f0f921\"]]}, \"colorway\": [\"#636efa\", \"#EF553B\", \"#00cc96\", \"#ab63fa\", \"#FFA15A\", \"#19d3f3\", \"#FF6692\", \"#B6E880\", \"#FF97FF\", \"#FECB52\"], \"font\": {\"color\": \"#2a3f5f\"}, \"geo\": {\"bgcolor\": \"white\", \"lakecolor\": \"white\", \"landcolor\": \"#E5ECF6\", \"showlakes\": true, \"showland\": true, \"subunitcolor\": \"white\"}, \"hoverlabel\": {\"align\": \"left\"}, \"hovermode\": \"closest\", \"mapbox\": {\"style\": \"light\"}, \"paper_bgcolor\": \"white\", \"plot_bgcolor\": \"#E5ECF6\", \"polar\": {\"angularaxis\": {\"gridcolor\": \"white\", \"linecolor\": \"white\", \"ticks\": \"\"}, \"bgcolor\": \"#E5ECF6\", \"radialaxis\": {\"gridcolor\": \"white\", \"linecolor\": \"white\", \"ticks\": \"\"}}, \"scene\": {\"xaxis\": {\"backgroundcolor\": \"#E5ECF6\", \"gridcolor\": \"white\", \"gridwidth\": 2, \"linecolor\": \"white\", \"showbackground\": true, \"ticks\": \"\", \"zerolinecolor\": \"white\"}, \"yaxis\": {\"backgroundcolor\": \"#E5ECF6\", \"gridcolor\": \"white\", \"gridwidth\": 2, \"linecolor\": \"white\", \"showbackground\": true, \"ticks\": \"\", \"zerolinecolor\": \"white\"}, \"zaxis\": {\"backgroundcolor\": \"#E5ECF6\", \"gridcolor\": \"white\", \"gridwidth\": 2, \"linecolor\": \"white\", \"showbackground\": true, \"ticks\": \"\", \"zerolinecolor\": \"white\"}}, \"shapedefaults\": {\"line\": {\"color\": \"#2a3f5f\"}}, \"ternary\": {\"aaxis\": {\"gridcolor\": \"white\", \"linecolor\": \"white\", \"ticks\": \"\"}, \"baxis\": {\"gridcolor\": \"white\", \"linecolor\": \"white\", \"ticks\": \"\"}, \"bgcolor\": \"#E5ECF6\", \"caxis\": {\"gridcolor\": \"white\", \"linecolor\": \"white\", \"ticks\": \"\"}}, \"title\": {\"x\": 0.05}, \"xaxis\": {\"automargin\": true, \"gridcolor\": \"white\", \"linecolor\": \"white\", \"ticks\": \"\", \"title\": {\"standoff\": 15}, \"zerolinecolor\": \"white\", \"zerolinewidth\": 2}, \"yaxis\": {\"automargin\": true, \"gridcolor\": \"white\", \"linecolor\": \"white\", \"ticks\": \"\", \"title\": {\"standoff\": 15}, \"zerolinecolor\": \"white\", \"zerolinewidth\": 2}}}, \"xaxis\": {\"anchor\": \"y\", \"domain\": [0.0, 0.15], \"range\": [0, 110], \"title\": {\"text\": \"DATASET\"}}, \"xaxis10\": {\"anchor\": \"y10\", \"domain\": [0.51, 0.66], \"matches\": \"x\", \"showticklabels\": false}, \"xaxis11\": {\"anchor\": \"y11\", \"domain\": [0.6799999999999999, 0.83], \"matches\": \"x\", \"showticklabels\": false}, \"xaxis12\": {\"anchor\": \"y12\", \"domain\": [0.85, 1.0], \"matches\": \"x\", \"showticklabels\": false}, \"xaxis13\": {\"anchor\": \"y13\", \"domain\": [0.0, 0.15], \"matches\": \"x\", \"showticklabels\": false}, \"xaxis14\": {\"anchor\": \"y14\", \"domain\": [0.16999999999999998, 0.31999999999999995], \"matches\": \"x\", \"showticklabels\": false}, \"xaxis15\": {\"anchor\": \"y15\", \"domain\": [0.33999999999999997, 0.49], \"matches\": \"x\", \"showticklabels\": false}, \"xaxis16\": {\"anchor\": \"y16\", \"domain\": [0.51, 0.66], \"matches\": \"x\", \"showticklabels\": false}, \"xaxis17\": {\"anchor\": \"y17\", \"domain\": [0.6799999999999999, 0.83], \"matches\": \"x\", \"showticklabels\": false}, \"xaxis18\": {\"anchor\": \"y18\", \"domain\": [0.85, 1.0], \"matches\": \"x\", \"showticklabels\": false}, \"xaxis2\": {\"anchor\": \"y2\", \"domain\": [0.16999999999999998, 0.31999999999999995], \"matches\": \"x\", \"range\": [0, 110], \"title\": {\"text\": \"DATASET\"}}, \"xaxis3\": {\"anchor\": \"y3\", \"domain\": [0.33999999999999997, 0.49], \"matches\": \"x\", \"range\": [0, 110], \"title\": {\"text\": \"DATASET\"}}, \"xaxis4\": {\"anchor\": \"y4\", \"domain\": [0.51, 0.66], \"matches\": \"x\", \"range\": [0, 110], \"title\": {\"text\": \"DATASET\"}}, \"xaxis5\": {\"anchor\": \"y5\", \"domain\": [0.6799999999999999, 0.83], \"matches\": \"x\", \"range\": [0, 110], \"title\": {\"text\": \"DATASET\"}}, \"xaxis6\": {\"anchor\": \"y6\", \"domain\": [0.85, 1.0], \"matches\": \"x\", \"range\": [0, 110], \"title\": {\"text\": \"DATASET\"}}, \"xaxis7\": {\"anchor\": \"y7\", \"domain\": [0.0, 0.15], \"matches\": \"x\", \"showticklabels\": false}, \"xaxis8\": {\"anchor\": \"y8\", \"domain\": [0.16999999999999998, 0.31999999999999995], \"matches\": \"x\", \"showticklabels\": false}, \"xaxis9\": {\"anchor\": \"y9\", \"domain\": [0.33999999999999997, 0.49], \"matches\": \"x\", \"showticklabels\": false}, \"yaxis\": {\"anchor\": \"x\", \"domain\": [0.0, 0.2866666666666666], \"range\": [-10, 200], \"title\": {\"text\": \"value\"}}, \"yaxis10\": {\"anchor\": \"x10\", \"domain\": [0.35666666666666663, 0.6433333333333333], \"matches\": \"y\", \"showticklabels\": false}, \"yaxis11\": {\"anchor\": \"x11\", \"domain\": [0.35666666666666663, 0.6433333333333333], \"matches\": \"y\", \"showticklabels\": false}, \"yaxis12\": {\"anchor\": \"x12\", \"domain\": [0.35666666666666663, 0.6433333333333333], \"matches\": \"y\", \"showticklabels\": false}, \"yaxis13\": {\"anchor\": \"x13\", \"domain\": [0.7133333333333333, 0.9999999999999999], \"matches\": \"y\", \"range\": [-10, 200], \"title\": {\"text\": \"value\"}}, \"yaxis14\": {\"anchor\": \"x14\", \"domain\": [0.7133333333333333, 0.9999999999999999], \"matches\": \"y\", \"showticklabels\": false}, \"yaxis15\": {\"anchor\": \"x15\", \"domain\": [0.7133333333333333, 0.9999999999999999], \"matches\": \"y\", \"showticklabels\": false}, \"yaxis16\": {\"anchor\": \"x16\", \"domain\": [0.7133333333333333, 0.9999999999999999], \"matches\": \"y\", \"showticklabels\": false}, \"yaxis17\": {\"anchor\": \"x17\", \"domain\": [0.7133333333333333, 0.9999999999999999], \"matches\": \"y\", \"showticklabels\": false}, \"yaxis18\": {\"anchor\": \"x18\", \"domain\": [0.7133333333333333, 0.9999999999999999], \"matches\": \"y\", \"showticklabels\": false}, \"yaxis2\": {\"anchor\": \"x2\", \"domain\": [0.0, 0.2866666666666666], \"matches\": \"y\", \"showticklabels\": false}, \"yaxis3\": {\"anchor\": \"x3\", \"domain\": [0.0, 0.2866666666666666], \"matches\": \"y\", \"showticklabels\": false}, \"yaxis4\": {\"anchor\": \"x4\", \"domain\": [0.0, 0.2866666666666666], \"matches\": \"y\", \"showticklabels\": false}, \"yaxis5\": {\"anchor\": \"x5\", \"domain\": [0.0, 0.2866666666666666], \"matches\": \"y\", \"showticklabels\": false}, \"yaxis6\": {\"anchor\": \"x6\", \"domain\": [0.0, 0.2866666666666666], \"matches\": \"y\", \"showticklabels\": false}, \"yaxis7\": {\"anchor\": \"x7\", \"domain\": [0.35666666666666663, 0.6433333333333333], \"matches\": \"y\", \"range\": [-10, 200], \"title\": {\"text\": \"value\"}}, \"yaxis8\": {\"anchor\": \"x8\", \"domain\": [0.35666666666666663, 0.6433333333333333], \"matches\": \"y\", \"showticklabels\": false}, \"yaxis9\": {\"anchor\": \"x9\", \"domain\": [0.35666666666666663, 0.6433333333333333], \"matches\": \"y\", \"showticklabels\": false}},                        {\"responsive\": true}                    ).then(function(){\n",
       "                            \n",
       "var gd = document.getElementById('9b5e551f-260c-449f-89eb-4cf5d3d13bbc');\n",
       "var x = new MutationObserver(function (mutations, observer) {{\n",
       "        var display = window.getComputedStyle(gd).display;\n",
       "        if (!display || display === 'none') {{\n",
       "            console.log([gd, 'removed!']);\n",
       "            Plotly.purge(gd);\n",
       "            observer.disconnect();\n",
       "        }}\n",
       "}});\n",
       "\n",
       "// Listen for the removal of the full notebook cells\n",
       "var notebookContainer = gd.closest('#notebook-container');\n",
       "if (notebookContainer) {{\n",
       "    x.observe(notebookContainer, {childList: true});\n",
       "}}\n",
       "\n",
       "// Listen for the clearing of the current output cell\n",
       "var outputEl = gd.closest('.output');\n",
       "if (outputEl) {{\n",
       "    x.observe(outputEl, {childList: true});\n",
       "}}\n",
       "\n",
       "                        })                };                });            </script>        </div>"
      ]
     },
     "metadata": {},
     "output_type": "display_data"
    }
   ],
   "source": [
    "fig = px.line(SNPsummstats.sort_values(by=['DATASET'], ascending=[True]), x='DATASET', y=['MIN_BAM_DP', 'MED_BAM_DP', 'MAX_BAM_DP'], facet_col='TYPE', facet_col_wrap=6, range_y=(-10, 200), range_x=(0, 110), color_discrete_sequence=px.colors.qualitative.Vivid)\n",
    "fig"
   ]
  },
  {
   "cell_type": "markdown",
   "id": "baa5c13c-be83-45d1-ab57-09e3cce09135",
   "metadata": {},
   "source": [
    "### Sequenced Isolates"
   ]
  },
  {
   "cell_type": "code",
   "execution_count": 43,
   "id": "aafc5d54-c3e6-453b-a390-4a39b6fafefc",
   "metadata": {},
   "outputs": [],
   "source": [
    "summstats = pd.read_csv('/Users/yeemayseah/Documents/Repos/mtb_amr/sequenced/output/variants/amr_covsummstats_H37Rv.csv')"
   ]
  },
  {
   "cell_type": "markdown",
   "id": "20a7cee5-f20c-4aad-8129-b590b21d4545",
   "metadata": {},
   "source": [
    "#### Minimum read depths, all isolates"
   ]
  },
  {
   "cell_type": "code",
   "execution_count": 44,
   "id": "07bacf65-473c-49d1-9fb4-a4a4890dfa84",
   "metadata": {},
   "outputs": [
    {
     "data": {
      "image/png": "[encoded data removed]",
      "text/plain": [
       "<Figure size 432x288 with 1 Axes>"
      ]
     },
     "metadata": {},
     "output_type": "display_data"
    }
   ],
   "source": [
    "# https://drawingfromdata.com/seaborn/matplotlib/visualization/rotate-axis-labels-matplotlib-seaborn.html\n",
    "sns.set(style=\"ticks\", palette=\"pastel\")\n",
    "chart = sns.boxplot(data=summstats, x=\"TYPE\", y=\"MIN_BAM_DP\")\n",
    "chart.set_xticklabels(chart.get_xticklabels(), rotation = 45, horizontalalignment='right')\n",
    "chart.set_ylim(0,100)\n",
    "plt.show()"
   ]
  },
  {
   "cell_type": "markdown",
   "id": "99f889f6-f427-4d93-bc9f-47e6ddd8f109",
   "metadata": {},
   "source": [
    "#### Median read depths, all isolates"
   ]
  },
  {
   "cell_type": "code",
   "execution_count": 45,
   "id": "f9d5b7b2-9d4f-48b3-b7ac-d5fdb8827ed4",
   "metadata": {},
   "outputs": [
    {
     "data": {
      "image/png": "[encoded data removed]",
      "text/plain": [
       "<Figure size 432x288 with 1 Axes>"
      ]
     },
     "metadata": {},
     "output_type": "display_data"
    }
   ],
   "source": [
    "sns.set(style=\"ticks\", palette=\"pastel\")\n",
    "chart = sns.boxplot(data=summstats, x=\"TYPE\", y=\"MED_BAM_DP\")\n",
    "chart.set_xticklabels(chart.get_xticklabels(), rotation = 45, horizontalalignment='right')\n",
    "chart.set_ylim(0,100)\n",
    "plt.show()"
   ]
  },
  {
   "cell_type": "markdown",
   "id": "d0a00037-cae5-412a-8d51-14a3db788ba4",
   "metadata": {},
   "source": [
    "#### Maximum read depths, all isolates"
   ]
  },
  {
   "cell_type": "code",
   "execution_count": 46,
   "id": "eab04e9c-eed3-4370-9740-8c6d166cd11a",
   "metadata": {},
   "outputs": [
    {
     "data": {
      "image/png": "[encoded data removed]",
      "text/plain": [
       "<Figure size 432x288 with 1 Axes>"
      ]
     },
     "metadata": {},
     "output_type": "display_data"
    }
   ],
   "source": [
    "sns.set(style=\"ticks\", palette=\"pastel\")\n",
    "chart = sns.boxplot(data=summstats, x=\"TYPE\", y=\"MAX_BAM_DP\")\n",
    "chart.set_xticklabels(chart.get_xticklabels(), rotation = 45, horizontalalignment='right')\n",
    "chart.set_ylim(0,100)\n",
    "plt.show()"
   ]
  },
  {
   "cell_type": "code",
   "execution_count": 2,
   "id": "b443ec54",
   "metadata": {},
   "outputs": [],
   "source": [
    "import pandas as pd\n",
    "import numpy as np\n",
    "import seaborn as sns\n",
    "import matplotlib.pyplot as plt"
   ]
  },
  {
   "cell_type": "markdown",
   "id": "5b824b21-ebc8-4a4d-9857-bf4681436de4",
   "metadata": {
    "tags": []
   },
   "source": [
    "### Read depths summary stats\n",
    "\n",
    "Synthetic variants downsampled from 100X"
   ]
  },
  {
   "cell_type": "code",
   "execution_count": 18,
   "id": "a4f49559-bf8b-480d-a5ed-3a2ebf12cbe1",
   "metadata": {
    "tags": []
   },
   "outputs": [],
   "source": [
    "INSsummstats['DATASET'] = 0\n",
    "DELsummstats['DATASET'] = 0\n",
    "SNPsummstats['DATASET'] = 0"
   ]
  },
  {
   "cell_type": "code",
   "execution_count": 22,
   "id": "7d88abd1-3c82-4a26-9605-20ef69e5c4fd",
   "metadata": {},
   "outputs": [],
   "source": [
    "INSsummstats.loc[INSsummstats.SAMPLE == 'H37Rv_10-3INS100X', 'DATASET'] = 100\n",
    "INSsummstats.loc[INSsummstats.SAMPLE == 'H37Rv_10-3INShead90X', 'DATASET'] = 90\n",
    "INSsummstats.loc[INSsummstats.SAMPLE == 'H37Rv_10-3INShead80X', 'DATASET'] = 80\n",
    "INSsummstats.loc[INSsummstats.SAMPLE == 'H37Rv_10-3INShead70X', 'DATASET'] = 70\n",
    "INSsummstats.loc[INSsummstats.SAMPLE == 'H37Rv_10-3INShead60X', 'DATASET'] = 60\n",
    "INSsummstats.loc[INSsummstats.SAMPLE == 'H37Rv_10-3INShead50X', 'DATASET'] = 50\n",
    "INSsummstats.loc[INSsummstats.SAMPLE == 'H37Rv_10-3INShead40X', 'DATASET'] = 40\n",
    "INSsummstats.loc[INSsummstats.SAMPLE == 'H37Rv_10-3INShead30X', 'DATASET'] = 30\n",
    "INSsummstats.loc[INSsummstats.SAMPLE == 'H37Rv_10-3INShead20X', 'DATASET'] = 20\n",
    "INSsummstats.loc[INSsummstats.SAMPLE == 'H37Rv_10-3INShead15X', 'DATASET'] = 15\n",
    "INSsummstats.loc[INSsummstats.SAMPLE == 'H37Rv_10-3INShead10X', 'DATASET'] = 10\n",
    "INSsummstats.loc[INSsummstats.SAMPLE == 'H37Rv_10-3INShead5X', 'DATASET'] = 5"
   ]
  },
  {
   "cell_type": "code",
   "execution_count": 24,
   "id": "1eaacee9-3093-4240-b263-90102a6cb5b8",
   "metadata": {},
   "outputs": [],
   "source": [
    "DELsummstats.loc[DELsummstats.SAMPLE == 'H37Rv_10-3DEL100X', 'DATASET'] = 100\n",
    "DELsummstats.loc[DELsummstats.SAMPLE == 'H37Rv_10-3DELhead90X', 'DATASET'] = 90\n",
    "DELsummstats.loc[DELsummstats.SAMPLE == 'H37Rv_10-3DELhead80X', 'DATASET'] = 80\n",
    "DELsummstats.loc[DELsummstats.SAMPLE == 'H37Rv_10-3DELhead70X', 'DATASET'] = 70\n",
    "DELsummstats.loc[DELsummstats.SAMPLE == 'H37Rv_10-3DELhead60X', 'DATASET'] = 60\n",
    "DELsummstats.loc[DELsummstats.SAMPLE == 'H37Rv_10-3DELhead50X', 'DATASET'] = 50\n",
    "DELsummstats.loc[DELsummstats.SAMPLE == 'H37Rv_10-3DELhead40X', 'DATASET'] = 40\n",
    "DELsummstats.loc[DELsummstats.SAMPLE == 'H37Rv_10-3DELhead30X', 'DATASET'] = 30\n",
    "DELsummstats.loc[DELsummstats.SAMPLE == 'H37Rv_10-3DELhead20X', 'DATASET'] = 20\n",
    "DELsummstats.loc[DELsummstats.SAMPLE == 'H37Rv_10-3DELhead15X', 'DATASET'] = 15\n",
    "DELsummstats.loc[DELsummstats.SAMPLE == 'H37Rv_10-3DELhead10X', 'DATASET'] = 10\n",
    "DELsummstats.loc[DELsummstats.SAMPLE == 'H37Rv_10-3DELhead5X', 'DATASET'] = 5"
   ]
  },
  {
   "cell_type": "code",
   "execution_count": 25,
   "id": "e9b3578b-622c-4110-9753-6ce7f1d8c400",
   "metadata": {},
   "outputs": [],
   "source": [
    "SNPsummstats.loc[SNPsummstats.SAMPLE == 'H37Rv_10-3SNP100X', 'DATASET'] = 100\n",
    "SNPsummstats.loc[SNPsummstats.SAMPLE == 'H37Rv_10-3SNPhead90X', 'DATASET'] = 90\n",
    "SNPsummstats.loc[SNPsummstats.SAMPLE == 'H37Rv_10-3SNPhead80X', 'DATASET'] = 80\n",
    "SNPsummstats.loc[SNPsummstats.SAMPLE == 'H37Rv_10-3SNPhead70X', 'DATASET'] = 70\n",
    "SNPsummstats.loc[SNPsummstats.SAMPLE == 'H37Rv_10-3SNPhead60X', 'DATASET'] = 60\n",
    "SNPsummstats.loc[SNPsummstats.SAMPLE == 'H37Rv_10-3SNPhead50X', 'DATASET'] = 50\n",
    "SNPsummstats.loc[SNPsummstats.SAMPLE == 'H37Rv_10-3SNPhead40X', 'DATASET'] = 40\n",
    "SNPsummstats.loc[SNPsummstats.SAMPLE == 'H37Rv_10-3SNPhead30X', 'DATASET'] = 30\n",
    "SNPsummstats.loc[SNPsummstats.SAMPLE == 'H37Rv_10-3SNPhead20X', 'DATASET'] = 20\n",
    "SNPsummstats.loc[SNPsummstats.SAMPLE == 'H37Rv_10-3SNPhead15X', 'DATASET'] = 15\n",
    "SNPsummstats.loc[SNPsummstats.SAMPLE == 'H37Rv_10-3SNPhead10X', 'DATASET'] = 10\n",
    "SNPsummstats.loc[SNPsummstats.SAMPLE == 'H37Rv_10-3SNPhead5X', 'DATASET'] = 5"
   ]
  },
  {
   "cell_type": "code",
   "execution_count": 28,
   "id": "91b3eed4-d65f-482e-b397-6a875e011a89",
   "metadata": {},
   "outputs": [],
   "source": [
    "import bamboolib as bam\n",
    "import plotly.express as px"
   ]
  },
  {
   "cell_type": "markdown",
   "id": "dc23bcda-d880-4ea6-b959-be461c4a1523",
   "metadata": {},
   "source": [
    "### Generate AMR bed file"
   ]
  },
  {
   "cell_type": "code",
   "execution_count": 32,
   "id": "08c94bda",
   "metadata": {},
   "outputs": [],
   "source": [
    "ahpc_pr = pd.read_csv('amr_sites/masterlist_ahpc_promoter.csv')\n",
    "eis_pr = pd.read_csv('amr_sites/masterlist_eis_promoter.csv')\n",
    "embb = pd.read_csv('amr_sites/masterlist_embb.csv')\n",
    "gyra = pd.read_csv('amr_sites/masterlist_gyra.csv')\n",
    "gyrb = pd.read_csv('amr_sites/masterlist_gyrb.csv')\n",
    "inha_pr = pd.read_csv('amr_sites/masterlist_inha_promoter.csv')\n",
    "katg = pd.read_csv('amr_sites/masterlist_katg.csv')\n",
    "pnca = pd.read_csv('amr_sites/masterlist_pnca.csv')\n",
    "rpob = pd.read_csv('amr_sites/masterlist_rpob.csv')\n",
    "rrs = pd.read_csv('amr_sites/masterlist_rrs.csv')"
   ]
  },
  {
   "cell_type": "code",
   "execution_count": 33,
   "id": "e8356f7d",
   "metadata": {},
   "outputs": [],
   "source": [
    "ahpc_pr.drop(['Support', 'Unnamed: 4', 'Unnamed: 5', 'Unnamed: 6', 'Unnamed: 7', 'Unnamed: 8'], axis=1, inplace=True)\n",
    "ahpc_pr['Locus'] = 'ahpC promoter'\n",
    "# promoter gffStart and gffEnd inferred from GenBank file\n",
    "ahpc_pr['gffStart'] = 2726088\n",
    "ahpc_pr['gffEnd'] = 2726192"
   ]
  },
  {
   "cell_type": "code",
   "execution_count": 35,
   "id": "0f5cc852",
   "metadata": {},
   "outputs": [],
   "source": [
    "eis_pr.drop(['Support', 'Unnamed: 4', 'Unnamed: 5', 'Unnamed: 6', 'Unnamed: 7', 'Unnamed: 8'], axis=1, inplace=True)\n",
    "eis_pr['Locus'] = 'eis promoter'\n",
    "# promoter gffStart and gffEnd inferred from GenBank file\n",
    "eis_pr['gffStart'] = 2713785\n",
    "eis_pr['gffEnd'] = 2714123"
   ]
  },
  {
   "cell_type": "code",
   "execution_count": 37,
   "id": "3809da50",
   "metadata": {},
   "outputs": [],
   "source": [
    "embb.drop(['Support', 'Unnamed: 4', 'Unnamed: 5', 'Unnamed: 6'], axis=1, inplace=True)\n",
    "embb['Locus'] = 'embB'\n",
    "embb['gffStart'] = 4246514\n",
    "embb['gffEnd'] = 4249810"
   ]
  },
  {
   "cell_type": "code",
   "execution_count": 39,
   "id": "9abafc87",
   "metadata": {},
   "outputs": [],
   "source": [
    "gyra.drop(['Support', 'Unnamed: 4', 'Unnamed: 5', 'Unnamed: 6', 'Unnamed: 7'], axis=1, inplace=True)\n",
    "gyra['Locus'] = 'gyrA'\n",
    "gyra['gffStart'] = 7302\n",
    "gyra['gffEnd'] = 9818"
   ]
  },
  {
   "cell_type": "code",
   "execution_count": 41,
   "id": "c37e4f30",
   "metadata": {},
   "outputs": [],
   "source": [
    "gyrb.drop(['Support', 'Unnamed: 4', 'Unnamed: 5'], axis=1, inplace=True)\n",
    "gyrb['Locus'] = 'gyrB'\n",
    "gyrb['gffStart'] = 5240\n",
    "gyrb['gffEnd'] = 7267"
   ]
  },
  {
   "cell_type": "code",
   "execution_count": 43,
   "id": "ec7520aa",
   "metadata": {},
   "outputs": [],
   "source": [
    "inha_pr.drop(['Support', 'Unnamed: 4', 'Unnamed: 5', 'Unnamed: 6', 'Unnamed: 7', 'Unnamed: 8', 'Unnamed: 9', 'Unnamed: 10'], axis=1, inplace=True)\n",
    "inha_pr['Locus'] = 'inhA promoter'\n",
    "# promoter gffStart and gffEnd inferred from GenBank file\n",
    "inha_pr['gffStart'] = 1673300\n",
    "inha_pr['gffEnd'] = 1673439"
   ]
  },
  {
   "cell_type": "code",
   "execution_count": 45,
   "id": "e1be3a46",
   "metadata": {},
   "outputs": [],
   "source": [
    "katg.drop(['Support', 'Unnamed: 4', 'Unnamed: 5', 'Unnamed: 6', 'Unnamed: 7', 'Unnamed: 8', 'Unnamed: 9', 'Unnamed: 10'], axis=1, inplace=True)\n",
    "katg['Locus'] = 'katG'\n",
    "katg['gffStart'] = 2153889\n",
    "katg['gffEnd'] = 2156111"
   ]
  },
  {
   "cell_type": "code",
   "execution_count": 47,
   "id": "a69ed81e",
   "metadata": {},
   "outputs": [],
   "source": [
    "pnca.drop(['Support', 'Unnamed: 4', 'Unnamed: 5', 'Unnamed: 6', 'Unnamed: 7'], axis=1, inplace=True)\n",
    "pnca['Locus'] = 'pncA'\n",
    "pnca['gffStart'] = 2288681\n",
    "pnca['gffEnd'] = 2289241"
   ]
  },
  {
   "cell_type": "code",
   "execution_count": 49,
   "id": "d391d27d",
   "metadata": {},
   "outputs": [],
   "source": [
    "rpob.drop(['Support', 'Unnamed: 4', 'Unnamed: 5', 'Unnamed: 6', 'Unnamed: 7', 'Unnamed: 8', 'Unnamed: 9', 'Unnamed: 10', 'Unnamed: 11'], axis=1, inplace=True)\n",
    "rpob['Locus'] = 'rpoB'\n",
    "rpob['gffStart'] = 759807\n",
    "rpob['gffEnd'] = 763325"
   ]
  },
  {
   "cell_type": "code",
   "execution_count": 53,
   "id": "a0223dd5",
   "metadata": {},
   "outputs": [],
   "source": [
    "rrs.drop(['Support', 'Unnamed: 4', 'Unnamed: 5', 'Unnamed: 6', 'Unnamed: 7', 'Unnamed: 8', 'Unnamed: 9'], axis=1, inplace=True)\n",
    "rrs['Locus'] = 'rrs'\n",
    "rrs['gffStart'] = 1471846\n",
    "rrs['gffEnd'] = 1473382"
   ]
  },
  {
   "cell_type": "code",
   "execution_count": 55,
   "id": "1afe044a",
   "metadata": {},
   "outputs": [],
   "source": [
    "masterlist = pd.concat([ahpc_pr, eis_pr, embb, gyra, gyrb, inha_pr, katg, pnca, rpob, rrs], ignore_index=True)"
   ]
  },
  {
   "cell_type": "code",
   "execution_count": 79,
   "id": "4d4f2aae",
   "metadata": {},
   "outputs": [],
   "source": [
    "masterlist.dropna(subset=['Mutation'], inplace=True)"
   ]
  },
  {
   "cell_type": "code",
   "execution_count": 80,
   "id": "2f52185d",
   "metadata": {},
   "outputs": [
    {
     "data": {
      "text/html": [
       "<div>\n",
       "<style scoped>\n",
       "    .dataframe tbody tr th:only-of-type {\n",
       "        vertical-align: middle;\n",
       "    }\n",
       "\n",
       "    .dataframe tbody tr th {\n",
       "        vertical-align: top;\n",
       "    }\n",
       "\n",
       "    .dataframe thead th {\n",
       "        text-align: right;\n",
       "    }\n",
       "</style>\n",
       "<table border=\"1\" class=\"dataframe\">\n",
       "  <thead>\n",
       "    <tr style=\"text-align: right;\">\n",
       "      <th></th>\n",
       "      <th>Mutation</th>\n",
       "      <th>Phenotype</th>\n",
       "      <th>Category</th>\n",
       "      <th>Locus</th>\n",
       "      <th>gffStart</th>\n",
       "      <th>gffEnd</th>\n",
       "    </tr>\n",
       "  </thead>\n",
       "  <tbody>\n",
       "    <tr>\n",
       "      <th>0</th>\n",
       "      <td>c-10t</td>\n",
       "      <td>INH</td>\n",
       "      <td>B</td>\n",
       "      <td>ahpC promoter</td>\n",
       "      <td>2726088</td>\n",
       "      <td>2726192</td>\n",
       "    </tr>\n",
       "    <tr>\n",
       "      <th>1</th>\n",
       "      <td>c-12t</td>\n",
       "      <td>INH</td>\n",
       "      <td>B</td>\n",
       "      <td>ahpC promoter</td>\n",
       "      <td>2726088</td>\n",
       "      <td>2726192</td>\n",
       "    </tr>\n",
       "    <tr>\n",
       "      <th>2</th>\n",
       "      <td>c-39t</td>\n",
       "      <td>INH</td>\n",
       "      <td>B</td>\n",
       "      <td>ahpC promoter</td>\n",
       "      <td>2726088</td>\n",
       "      <td>2726192</td>\n",
       "    </tr>\n",
       "    <tr>\n",
       "      <th>3</th>\n",
       "      <td>g-48a</td>\n",
       "      <td>INH</td>\n",
       "      <td>B</td>\n",
       "      <td>ahpC promoter</td>\n",
       "      <td>2726088</td>\n",
       "      <td>2726192</td>\n",
       "    </tr>\n",
       "    <tr>\n",
       "      <th>4</th>\n",
       "      <td>g-6a</td>\n",
       "      <td>INH</td>\n",
       "      <td>B</td>\n",
       "      <td>ahpC promoter</td>\n",
       "      <td>2726088</td>\n",
       "      <td>2726192</td>\n",
       "    </tr>\n",
       "    <tr>\n",
       "      <th>...</th>\n",
       "      <td>...</td>\n",
       "      <td>...</td>\n",
       "      <td>...</td>\n",
       "      <td>...</td>\n",
       "      <td>...</td>\n",
       "      <td>...</td>\n",
       "    </tr>\n",
       "    <tr>\n",
       "      <th>2142</th>\n",
       "      <td>g628c</td>\n",
       "      <td>STR</td>\n",
       "      <td>C</td>\n",
       "      <td>rrs</td>\n",
       "      <td>1471846</td>\n",
       "      <td>1473382</td>\n",
       "    </tr>\n",
       "    <tr>\n",
       "      <th>2143</th>\n",
       "      <td>ins1062c</td>\n",
       "      <td>STR</td>\n",
       "      <td>C</td>\n",
       "      <td>rrs</td>\n",
       "      <td>1471846</td>\n",
       "      <td>1473382</td>\n",
       "    </tr>\n",
       "    <tr>\n",
       "      <th>2144</th>\n",
       "      <td>t1239c</td>\n",
       "      <td>STR</td>\n",
       "      <td>D</td>\n",
       "      <td>rrs</td>\n",
       "      <td>1471846</td>\n",
       "      <td>1473382</td>\n",
       "    </tr>\n",
       "    <tr>\n",
       "      <th>2145</th>\n",
       "      <td>t1239c</td>\n",
       "      <td>STR</td>\n",
       "      <td>D</td>\n",
       "      <td>rrs</td>\n",
       "      <td>1471846</td>\n",
       "      <td>1473382</td>\n",
       "    </tr>\n",
       "    <tr>\n",
       "      <th>2146</th>\n",
       "      <td>Δ646</td>\n",
       "      <td>STR</td>\n",
       "      <td>C</td>\n",
       "      <td>rrs</td>\n",
       "      <td>1471846</td>\n",
       "      <td>1473382</td>\n",
       "    </tr>\n",
       "  </tbody>\n",
       "</table>\n",
       "<p>2144 rows × 6 columns</p>\n",
       "</div>"
      ],
      "text/plain": [
       "      Mutation Phenotype Category          Locus  gffStart   gffEnd\n",
       "0        c-10t       INH        B  ahpC promoter   2726088  2726192\n",
       "1        c-12t       INH        B  ahpC promoter   2726088  2726192\n",
       "2        c-39t       INH        B  ahpC promoter   2726088  2726192\n",
       "3        g-48a       INH        B  ahpC promoter   2726088  2726192\n",
       "4         g-6a       INH        B  ahpC promoter   2726088  2726192\n",
       "...        ...       ...      ...            ...       ...      ...\n",
       "2142     g628c       STR        C            rrs   1471846  1473382\n",
       "2143  ins1062c       STR        C            rrs   1471846  1473382\n",
       "2144    t1239c       STR        D            rrs   1471846  1473382\n",
       "2145    t1239c       STR        D            rrs   1471846  1473382\n",
       "2146      Δ646       STR        C            rrs   1471846  1473382\n",
       "\n",
       "[2144 rows x 6 columns]"
      ]
     },
     "execution_count": 80,
     "metadata": {},
     "output_type": "execute_result"
    }
   ],
   "source": [
    "masterlist"
   ]
  },
  {
   "cell_type": "code",
   "execution_count": 89,
   "id": "163392a6",
   "metadata": {},
   "outputs": [],
   "source": [
    "h37rv_coordinates = {'ahpc_pr_gff': (2726088, 2726192),\n",
    "                     'ahpc_gff': (2726193, 2726780),\n",
    "                     'eis_pr_gff': (2713785, 2714123),\n",
    "                     'emba_gff': (4243233, 4246517),\n",
    "                     'embb_gff': (4246514, 4249810),\n",
    "                     'embc_gff': (4239863, 4243147),\n",
    "                     'gyra_gff': (7302, 9818),\n",
    "                     'gyrb_gff': (5240, 7267),\n",
    "                     'inha_pr_gff': (1673300, 1673439),\n",
    "                     'fabg1_gff': (1673440, 1674183),\n",
    "                     'inha_gff': (1674202, 1675011),\n",
    "                     'katg_gff': (2153889, 2156111),\n",
    "                     'pnca_gff': (2288681, 2289241),\n",
    "                     'rpob_gff': (759807, 763325), \n",
    "                     'rrs_gff': (1471846, 1473382)}"
   ]
  },
  {
   "cell_type": "code",
   "execution_count": 90,
   "id": "ba751afb",
   "metadata": {},
   "outputs": [],
   "source": [
    "h37ra_coord = {'ahpc_pr_gff': (2739087, 2739356),\n",
    "               'ahpc_gff': (2739357, 2739944),\n",
    "               'eis_pr_gff': (2727288, 2728514),\n",
    "               'emba_gff': (4257811, 4261095),\n",
    "               'embb_gff': (4261092, 4264388),\n",
    "               'embc_gff': (4254441, 4257725),\n",
    "               'gyra_gff': (7302, 9818),\n",
    "               'gyrb_gff': (5240, 7267),\n",
    "               'fabg1_gff': (1675011, 1675754),\n",
    "               'katg_gff': (2164986, 2167208),\n",
    "               'pnca_gff': (2299779, 2300339),\n",
    "               'rpob_gff': (761167, 764685),\n",
    "               'rrs_gff': (1473213, 1474744)}"
   ]
  },
  {
   "cell_type": "code",
   "execution_count": 8,
   "id": "092365ed",
   "metadata": {},
   "outputs": [],
   "source": [
    "amr_bed = pd.read_csv('/Users/yeemayseah/Documents/Repos/mtb_amr/data/CP016972.1_amr.bed', sep='\\t', header=None)"
   ]
  },
  {
   "cell_type": "code",
   "execution_count": 9,
   "id": "2f1348a8-dc22-4b1f-8356-94859216cb92",
   "metadata": {},
   "outputs": [],
   "source": [
    "amr_bed[3] = 'AMR'\n",
    "amr_bed[4] = 0\n",
    "amr_bed[5] = '.'"
   ]
  },
  {
   "cell_type": "code",
   "execution_count": 11,
   "id": "cf0159be-5cf5-4b85-b962-c98142f066cd",
   "metadata": {},
   "outputs": [],
   "source": [
    "amr_bed.to_csv('/Users/yeemayseah/Documents/Repos/mtb_amr/data/CP016972.1_amr-edit.bed', sep='\\t', header=False, index=False)"
   ]
  },
  {
   "cell_type": "markdown",
   "id": "d27b355a-8dc8-439d-9c81-7ebe2c0c80e9",
   "metadata": {},
   "source": [
    "## Create manifest.csv from Excel sheet"
   ]
  },
  {
   "cell_type": "code",
   "execution_count": 51,
   "id": "a41af0c8-4d65-4ea4-9453-21fe286402ad",
   "metadata": {},
   "outputs": [],
   "source": [
    "mtb_isolates = pd.read_excel('/Users/yeemayseah/Documents/Repos/mtb_amr/sequenced/MTB isolate tracking_LC.xlsx', sheet_name=0)"
   ]
  },
  {
   "cell_type": "code",
   "execution_count": 52,
   "id": "7930669d-95fc-425b-9473-1a18c1d18c84",
   "metadata": {},
   "outputs": [],
   "source": [
    "mtb_isolates.drop(['Sub_date', 'Heat_date', 'Ster_check', 'Patient#', 'Patient', 'Acc#', 'Comments', 'Library', 'Lib Quant ng/uL', 'Pool'], axis=1, inplace=True)"
   ]
  },
  {
   "cell_type": "code",
   "execution_count": 53,
   "id": "c90fc699-569f-4bb3-96e1-aa5136ebea8d",
   "metadata": {},
   "outputs": [],
   "source": [
    "mtb_isolates.dropna(inplace=True)"
   ]
  },
  {
   "cell_type": "code",
   "execution_count": 54,
   "id": "099e0d0e-400c-4108-a55f-e40de90abe7c",
   "metadata": {},
   "outputs": [],
   "source": [
    "mtb_isolates['label'] = 'M' + mtb_isolates['Mtb#'].astype(int).astype(str)\n",
    "mtb_isolates['run_number'] = mtb_isolates['Seq_run'].astype(int)"
   ]
  },
  {
   "cell_type": "code",
   "execution_count": 55,
   "id": "12bfa541-bd4d-41f4-9707-97fe6adfccd4",
   "metadata": {},
   "outputs": [],
   "source": [
    "mtb_isolates.drop(['Mtb#', 'Seq_run'], axis=1, inplace=True)"
   ]
  },
  {
   "cell_type": "code",
   "execution_count": 57,
   "id": "aa8043e1-2075-4555-a9b6-c7770111e9ea",
   "metadata": {},
   "outputs": [],
   "source": [
    "mtb_isolates.rename(columns={'Stock #': 'accession', 'Barcode': 'barcode_id'}, inplace=True)\n",
    "mtb_isolates = mtb_isolates[['label', 'accession', 'run_number', 'barcode_id']]"
   ]
  },
  {
   "cell_type": "code",
   "execution_count": 60,
   "id": "39e3aa60-f8e5-474c-808d-71bd70882003",
   "metadata": {},
   "outputs": [],
   "source": [
    "mtb_isolates.to_csv('/Users/yeemayseah/Documents/Repos/mtb_amr/sequenced/configs/manifest.csv', index=False)"
   ]
  },
  {
   "cell_type": "code",
   "execution_count": null,
   "id": "9761ce31-1789-4c41-b5e2-3cc989591b7a",
   "metadata": {},
   "outputs": [],
   "source": []
  }
 ],
 "metadata": {
  "kernelspec": {
   "display_name": "Python 3 (ipykernel)",
   "language": "python",
   "name": "python3"
  },
  "language_info": {
   "codemirror_mode": {
    "name": "ipython",
    "version": 3
   },
   "file_extension": ".py",
   "mimetype": "text/x-python",
   "name": "python",
   "nbconvert_exporter": "python",
   "pygments_lexer": "ipython3",
   "version": "3.7.11"
  }
 },
 "nbformat": 4,
 "nbformat_minor": 5
}
