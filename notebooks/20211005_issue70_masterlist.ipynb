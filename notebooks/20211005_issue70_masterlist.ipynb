{
 "cells": [
  {
   "cell_type": "markdown",
   "id": "c0de8b17",
   "metadata": {},
   "source": [
    "This notebook is for: \n",
    "1. curating data on M.tb AMR variants, as compiled in Elizabeth Garret's master list, and NEJM.\n",
    "2. analyzing AMR loci in in-house sequenced M.tb isolates"
   ]
  },
  {
   "cell_type": "code",
   "execution_count": 5,
   "id": "b443ec54",
   "metadata": {},
   "outputs": [],
   "source": [
    "import pandas as pd\n",
    "import numpy as np\n",
    "import seaborn as sns\n",
    "import matplotlib.pyplot as plt"
   ]
  },
  {
   "cell_type": "markdown",
   "id": "5b824b21-ebc8-4a4d-9857-bf4681436de4",
   "metadata": {},
   "source": [
    "### Read depths summary stats\n",
    "\n",
    "41 sequenced M.tb isolates"
   ]
  },
  {
   "cell_type": "code",
   "execution_count": 28,
   "id": "aafc5d54-c3e6-453b-a390-4a39b6fafefc",
   "metadata": {},
   "outputs": [],
   "source": [
    "summstats = pd.read_csv('/Users/yeemayseah/Documents/Repos/mtb_amr/sequenced/output/variants/amr_covsummstats_H37Rv.csv')"
   ]
  },
  {
   "cell_type": "markdown",
   "id": "20a7cee5-f20c-4aad-8129-b590b21d4545",
   "metadata": {},
   "source": [
    "#### Minimum read depths, all isolates"
   ]
  },
  {
   "cell_type": "code",
   "execution_count": 24,
   "id": "07bacf65-473c-49d1-9fb4-a4a4890dfa84",
   "metadata": {},
   "outputs": [
    {
     "data": {
      "image/png": "[encoded data removed]",
      "text/plain": [
       "<Figure size 432x288 with 1 Axes>"
      ]
     },
     "metadata": {},
     "output_type": "display_data"
    }
   ],
   "source": [
    "# https://drawingfromdata.com/seaborn/matplotlib/visualization/rotate-axis-labels-matplotlib-seaborn.html\n",
    "sns.set_theme(style=\"ticks\", palette=\"pastel\")\n",
    "chart = sns.boxplot(data=summstats, x=\"TYPE\", y=\"MIN_BAM_DP\")\n",
    "chart.set_xticklabels(chart.get_xticklabels(), rotation = 45, horizontalalignment='right')\n",
    "chart.set_ylim(0,100)\n",
    "plt.show()"
   ]
  },
  {
   "cell_type": "code",
   "execution_count": 39,
   "id": "4fc01d61-f83e-40df-b465-863cfe787201",
   "metadata": {},
   "outputs": [
    {
     "data": {
      "text/plain": [
       "1"
      ]
     },
     "execution_count": 39,
     "metadata": {},
     "output_type": "execute_result"
    }
   ],
   "source": [
    "# Are low MIN_BAM_DP for rpoB and low pncA in the same isolate?\n",
    "min(summstats[summstats.TYPE == 'rpoB'].MIN_BAM_DP)"
   ]
  },
  {
   "cell_type": "code",
   "execution_count": 41,
   "id": "e66e55d2-6aa6-40e1-9c6b-21ac40f1364b",
   "metadata": {},
   "outputs": [
    {
     "data": {
      "text/html": [
       "<div>\n",
       "<style scoped>\n",
       "    .dataframe tbody tr th:only-of-type {\n",
       "        vertical-align: middle;\n",
       "    }\n",
       "\n",
       "    .dataframe tbody tr th {\n",
       "        vertical-align: top;\n",
       "    }\n",
       "\n",
       "    .dataframe thead th {\n",
       "        text-align: right;\n",
       "    }\n",
       "</style>\n",
       "<table border=\"1\" class=\"dataframe\">\n",
       "  <thead>\n",
       "    <tr style=\"text-align: right;\">\n",
       "      <th></th>\n",
       "      <th>SAMPLE</th>\n",
       "      <th>POS</th>\n",
       "      <th>TYPE</th>\n",
       "      <th>MIN_BAM_DP</th>\n",
       "      <th>MAX_BAM_DP</th>\n",
       "      <th>BAM_DP</th>\n",
       "      <th>SD_BAM_DP</th>\n",
       "      <th>1QT_BAM_DP</th>\n",
       "      <th>MED_BAM_DP</th>\n",
       "      <th>3QT_BAM_DP</th>\n",
       "    </tr>\n",
       "  </thead>\n",
       "  <tbody>\n",
       "    <tr>\n",
       "      <th>302</th>\n",
       "      <td>1129-705-503</td>\n",
       "      <td>759807</td>\n",
       "      <td>rpoB</td>\n",
       "      <td>1</td>\n",
       "      <td>51</td>\n",
       "      <td>22</td>\n",
       "      <td>9.4</td>\n",
       "      <td>16.0</td>\n",
       "      <td>22.0</td>\n",
       "      <td>28.0</td>\n",
       "    </tr>\n",
       "  </tbody>\n",
       "</table>\n",
       "</div>"
      ],
      "text/plain": [
       "           SAMPLE     POS  TYPE  MIN_BAM_DP  MAX_BAM_DP  BAM_DP  SD_BAM_DP  \\\n",
       "302  1129-705-503  759807  rpoB           1          51      22        9.4   \n",
       "\n",
       "     1QT_BAM_DP  MED_BAM_DP  3QT_BAM_DP  \n",
       "302        16.0        22.0        28.0  "
      ]
     },
     "execution_count": 41,
     "metadata": {},
     "output_type": "execute_result"
    }
   ],
   "source": [
    "summstats[(summstats.TYPE == 'rpoB') & (summstats.MIN_BAM_DP == 1)]"
   ]
  },
  {
   "cell_type": "code",
   "execution_count": 40,
   "id": "4cadfc34-3d81-4121-b9aa-7171a5ce4775",
   "metadata": {},
   "outputs": [
    {
     "data": {
      "text/plain": [
       "0"
      ]
     },
     "execution_count": 40,
     "metadata": {},
     "output_type": "execute_result"
    }
   ],
   "source": [
    "min(summstats[summstats.TYPE == 'pncA'].MIN_BAM_DP)"
   ]
  },
  {
   "cell_type": "code",
   "execution_count": 42,
   "id": "bc311c11-58e4-4ad9-bade-85d1e6c708c4",
   "metadata": {},
   "outputs": [
    {
     "data": {
      "text/html": [
       "<div>\n",
       "<style scoped>\n",
       "    .dataframe tbody tr th:only-of-type {\n",
       "        vertical-align: middle;\n",
       "    }\n",
       "\n",
       "    .dataframe tbody tr th {\n",
       "        vertical-align: top;\n",
       "    }\n",
       "\n",
       "    .dataframe thead th {\n",
       "        text-align: right;\n",
       "    }\n",
       "</style>\n",
       "<table border=\"1\" class=\"dataframe\">\n",
       "  <thead>\n",
       "    <tr style=\"text-align: right;\">\n",
       "      <th></th>\n",
       "      <th>SAMPLE</th>\n",
       "      <th>POS</th>\n",
       "      <th>TYPE</th>\n",
       "      <th>MIN_BAM_DP</th>\n",
       "      <th>MAX_BAM_DP</th>\n",
       "      <th>BAM_DP</th>\n",
       "      <th>SD_BAM_DP</th>\n",
       "      <th>1QT_BAM_DP</th>\n",
       "      <th>MED_BAM_DP</th>\n",
       "      <th>3QT_BAM_DP</th>\n",
       "    </tr>\n",
       "  </thead>\n",
       "  <tbody>\n",
       "    <tr>\n",
       "      <th>278</th>\n",
       "      <td>1128-714-506</td>\n",
       "      <td>2288681</td>\n",
       "      <td>pncA</td>\n",
       "      <td>0</td>\n",
       "      <td>34</td>\n",
       "      <td>21</td>\n",
       "      <td>7.07</td>\n",
       "      <td>15.0</td>\n",
       "      <td>22.0</td>\n",
       "      <td>27.0</td>\n",
       "    </tr>\n",
       "  </tbody>\n",
       "</table>\n",
       "</div>"
      ],
      "text/plain": [
       "           SAMPLE      POS  TYPE  MIN_BAM_DP  MAX_BAM_DP  BAM_DP  SD_BAM_DP  \\\n",
       "278  1128-714-506  2288681  pncA           0          34      21       7.07   \n",
       "\n",
       "     1QT_BAM_DP  MED_BAM_DP  3QT_BAM_DP  \n",
       "278        15.0        22.0        27.0  "
      ]
     },
     "execution_count": 42,
     "metadata": {},
     "output_type": "execute_result"
    }
   ],
   "source": [
    "summstats[(summstats.TYPE == 'pncA') & (summstats.MIN_BAM_DP == 0)]"
   ]
  },
  {
   "cell_type": "markdown",
   "id": "99f889f6-f427-4d93-bc9f-47e6ddd8f109",
   "metadata": {},
   "source": [
    "#### Median read depths, all isolates"
   ]
  },
  {
   "cell_type": "code",
   "execution_count": 25,
   "id": "f9d5b7b2-9d4f-48b3-b7ac-d5fdb8827ed4",
   "metadata": {},
   "outputs": [
    {
     "data": {
      "image/png": "[encoded data removed]",
      "text/plain": [
       "<Figure size 432x288 with 1 Axes>"
      ]
     },
     "metadata": {},
     "output_type": "display_data"
    }
   ],
   "source": [
    "sns.set_theme(style=\"ticks\", palette=\"pastel\")\n",
    "chart = sns.boxplot(data=summstats, x=\"TYPE\", y=\"MED_BAM_DP\")\n",
    "chart.set_xticklabels(chart.get_xticklabels(), rotation = 45, horizontalalignment='right')\n",
    "chart.set_ylim(0,100)\n",
    "plt.show()"
   ]
  },
  {
   "cell_type": "markdown",
   "id": "d0a00037-cae5-412a-8d51-14a3db788ba4",
   "metadata": {},
   "source": [
    "#### Maximum read depths, all isolates"
   ]
  },
  {
   "cell_type": "code",
   "execution_count": 26,
   "id": "eab04e9c-eed3-4370-9740-8c6d166cd11a",
   "metadata": {},
   "outputs": [
    {
     "data": {
      "image/png": "[encoded data removed]",
      "text/plain": [
       "<Figure size 432x288 with 1 Axes>"
      ]
     },
     "metadata": {},
     "output_type": "display_data"
    }
   ],
   "source": [
    "sns.set_theme(style=\"ticks\", palette=\"pastel\")\n",
    "chart = sns.boxplot(data=summstats, x=\"TYPE\", y=\"MAX_BAM_DP\")\n",
    "chart.set_xticklabels(chart.get_xticklabels(), rotation = 45, horizontalalignment='right')\n",
    "chart.set_ylim(0,100)\n",
    "plt.show()"
   ]
  },
  {
   "cell_type": "markdown",
   "id": "dc23bcda-d880-4ea6-b959-be461c4a1523",
   "metadata": {},
   "source": [
    "### Generate AMR bed file"
   ]
  },
  {
   "cell_type": "code",
   "execution_count": 32,
   "id": "08c94bda",
   "metadata": {},
   "outputs": [],
   "source": [
    "ahpc_pr = pd.read_csv('amr_sites/masterlist_ahpc_promoter.csv')\n",
    "eis_pr = pd.read_csv('amr_sites/masterlist_eis_promoter.csv')\n",
    "embb = pd.read_csv('amr_sites/masterlist_embb.csv')\n",
    "gyra = pd.read_csv('amr_sites/masterlist_gyra.csv')\n",
    "gyrb = pd.read_csv('amr_sites/masterlist_gyrb.csv')\n",
    "inha_pr = pd.read_csv('amr_sites/masterlist_inha_promoter.csv')\n",
    "katg = pd.read_csv('amr_sites/masterlist_katg.csv')\n",
    "pnca = pd.read_csv('amr_sites/masterlist_pnca.csv')\n",
    "rpob = pd.read_csv('amr_sites/masterlist_rpob.csv')\n",
    "rrs = pd.read_csv('amr_sites/masterlist_rrs.csv')"
   ]
  },
  {
   "cell_type": "code",
   "execution_count": 33,
   "id": "e8356f7d",
   "metadata": {},
   "outputs": [],
   "source": [
    "ahpc_pr.drop(['Support', 'Unnamed: 4', 'Unnamed: 5', 'Unnamed: 6', 'Unnamed: 7', 'Unnamed: 8'], axis=1, inplace=True)\n",
    "ahpc_pr['Locus'] = 'ahpC promoter'\n",
    "# promoter gffStart and gffEnd inferred from GenBank file\n",
    "ahpc_pr['gffStart'] = 2726088\n",
    "ahpc_pr['gffEnd'] = 2726192"
   ]
  },
  {
   "cell_type": "code",
   "execution_count": 35,
   "id": "0f5cc852",
   "metadata": {},
   "outputs": [],
   "source": [
    "eis_pr.drop(['Support', 'Unnamed: 4', 'Unnamed: 5', 'Unnamed: 6', 'Unnamed: 7', 'Unnamed: 8'], axis=1, inplace=True)\n",
    "eis_pr['Locus'] = 'eis promoter'\n",
    "# promoter gffStart and gffEnd inferred from GenBank file\n",
    "eis_pr['gffStart'] = 2713785\n",
    "eis_pr['gffEnd'] = 2714123"
   ]
  },
  {
   "cell_type": "code",
   "execution_count": 37,
   "id": "3809da50",
   "metadata": {},
   "outputs": [],
   "source": [
    "embb.drop(['Support', 'Unnamed: 4', 'Unnamed: 5', 'Unnamed: 6'], axis=1, inplace=True)\n",
    "embb['Locus'] = 'embB'\n",
    "embb['gffStart'] = 4246514\n",
    "embb['gffEnd'] = 4249810"
   ]
  },
  {
   "cell_type": "code",
   "execution_count": 39,
   "id": "9abafc87",
   "metadata": {},
   "outputs": [],
   "source": [
    "gyra.drop(['Support', 'Unnamed: 4', 'Unnamed: 5', 'Unnamed: 6', 'Unnamed: 7'], axis=1, inplace=True)\n",
    "gyra['Locus'] = 'gyrA'\n",
    "gyra['gffStart'] = 7302\n",
    "gyra['gffEnd'] = 9818"
   ]
  },
  {
   "cell_type": "code",
   "execution_count": 41,
   "id": "c37e4f30",
   "metadata": {},
   "outputs": [],
   "source": [
    "gyrb.drop(['Support', 'Unnamed: 4', 'Unnamed: 5'], axis=1, inplace=True)\n",
    "gyrb['Locus'] = 'gyrB'\n",
    "gyrb['gffStart'] = 5240\n",
    "gyrb['gffEnd'] = 7267"
   ]
  },
  {
   "cell_type": "code",
   "execution_count": 43,
   "id": "ec7520aa",
   "metadata": {},
   "outputs": [],
   "source": [
    "inha_pr.drop(['Support', 'Unnamed: 4', 'Unnamed: 5', 'Unnamed: 6', 'Unnamed: 7', 'Unnamed: 8', 'Unnamed: 9', 'Unnamed: 10'], axis=1, inplace=True)\n",
    "inha_pr['Locus'] = 'inhA promoter'\n",
    "# promoter gffStart and gffEnd inferred from GenBank file\n",
    "inha_pr['gffStart'] = 1673300\n",
    "inha_pr['gffEnd'] = 1673439"
   ]
  },
  {
   "cell_type": "code",
   "execution_count": 45,
   "id": "e1be3a46",
   "metadata": {},
   "outputs": [],
   "source": [
    "katg.drop(['Support', 'Unnamed: 4', 'Unnamed: 5', 'Unnamed: 6', 'Unnamed: 7', 'Unnamed: 8', 'Unnamed: 9', 'Unnamed: 10'], axis=1, inplace=True)\n",
    "katg['Locus'] = 'katG'\n",
    "katg['gffStart'] = 2153889\n",
    "katg['gffEnd'] = 2156111"
   ]
  },
  {
   "cell_type": "code",
   "execution_count": 47,
   "id": "a69ed81e",
   "metadata": {},
   "outputs": [],
   "source": [
    "pnca.drop(['Support', 'Unnamed: 4', 'Unnamed: 5', 'Unnamed: 6', 'Unnamed: 7'], axis=1, inplace=True)\n",
    "pnca['Locus'] = 'pncA'\n",
    "pnca['gffStart'] = 2288681\n",
    "pnca['gffEnd'] = 2289241"
   ]
  },
  {
   "cell_type": "code",
   "execution_count": 49,
   "id": "d391d27d",
   "metadata": {},
   "outputs": [],
   "source": [
    "rpob.drop(['Support', 'Unnamed: 4', 'Unnamed: 5', 'Unnamed: 6', 'Unnamed: 7', 'Unnamed: 8', 'Unnamed: 9', 'Unnamed: 10', 'Unnamed: 11'], axis=1, inplace=True)\n",
    "rpob['Locus'] = 'rpoB'\n",
    "rpob['gffStart'] = 759807\n",
    "rpob['gffEnd'] = 763325"
   ]
  },
  {
   "cell_type": "code",
   "execution_count": 53,
   "id": "a0223dd5",
   "metadata": {},
   "outputs": [],
   "source": [
    "rrs.drop(['Support', 'Unnamed: 4', 'Unnamed: 5', 'Unnamed: 6', 'Unnamed: 7', 'Unnamed: 8', 'Unnamed: 9'], axis=1, inplace=True)\n",
    "rrs['Locus'] = 'rrs'\n",
    "rrs['gffStart'] = 1471846\n",
    "rrs['gffEnd'] = 1473382"
   ]
  },
  {
   "cell_type": "code",
   "execution_count": 55,
   "id": "1afe044a",
   "metadata": {},
   "outputs": [],
   "source": [
    "masterlist = pd.concat([ahpc_pr, eis_pr, embb, gyra, gyrb, inha_pr, katg, pnca, rpob, rrs], ignore_index=True)"
   ]
  },
  {
   "cell_type": "code",
   "execution_count": 79,
   "id": "4d4f2aae",
   "metadata": {},
   "outputs": [],
   "source": [
    "masterlist.dropna(subset=['Mutation'], inplace=True)"
   ]
  },
  {
   "cell_type": "code",
   "execution_count": 80,
   "id": "2f52185d",
   "metadata": {},
   "outputs": [
    {
     "data": {
      "text/html": [
       "<div>\n",
       "<style scoped>\n",
       "    .dataframe tbody tr th:only-of-type {\n",
       "        vertical-align: middle;\n",
       "    }\n",
       "\n",
       "    .dataframe tbody tr th {\n",
       "        vertical-align: top;\n",
       "    }\n",
       "\n",
       "    .dataframe thead th {\n",
       "        text-align: right;\n",
       "    }\n",
       "</style>\n",
       "<table border=\"1\" class=\"dataframe\">\n",
       "  <thead>\n",
       "    <tr style=\"text-align: right;\">\n",
       "      <th></th>\n",
       "      <th>Mutation</th>\n",
       "      <th>Phenotype</th>\n",
       "      <th>Category</th>\n",
       "      <th>Locus</th>\n",
       "      <th>gffStart</th>\n",
       "      <th>gffEnd</th>\n",
       "    </tr>\n",
       "  </thead>\n",
       "  <tbody>\n",
       "    <tr>\n",
       "      <th>0</th>\n",
       "      <td>c-10t</td>\n",
       "      <td>INH</td>\n",
       "      <td>B</td>\n",
       "      <td>ahpC promoter</td>\n",
       "      <td>2726088</td>\n",
       "      <td>2726192</td>\n",
       "    </tr>\n",
       "    <tr>\n",
       "      <th>1</th>\n",
       "      <td>c-12t</td>\n",
       "      <td>INH</td>\n",
       "      <td>B</td>\n",
       "      <td>ahpC promoter</td>\n",
       "      <td>2726088</td>\n",
       "      <td>2726192</td>\n",
       "    </tr>\n",
       "    <tr>\n",
       "      <th>2</th>\n",
       "      <td>c-39t</td>\n",
       "      <td>INH</td>\n",
       "      <td>B</td>\n",
       "      <td>ahpC promoter</td>\n",
       "      <td>2726088</td>\n",
       "      <td>2726192</td>\n",
       "    </tr>\n",
       "    <tr>\n",
       "      <th>3</th>\n",
       "      <td>g-48a</td>\n",
       "      <td>INH</td>\n",
       "      <td>B</td>\n",
       "      <td>ahpC promoter</td>\n",
       "      <td>2726088</td>\n",
       "      <td>2726192</td>\n",
       "    </tr>\n",
       "    <tr>\n",
       "      <th>4</th>\n",
       "      <td>g-6a</td>\n",
       "      <td>INH</td>\n",
       "      <td>B</td>\n",
       "      <td>ahpC promoter</td>\n",
       "      <td>2726088</td>\n",
       "      <td>2726192</td>\n",
       "    </tr>\n",
       "    <tr>\n",
       "      <th>...</th>\n",
       "      <td>...</td>\n",
       "      <td>...</td>\n",
       "      <td>...</td>\n",
       "      <td>...</td>\n",
       "      <td>...</td>\n",
       "      <td>...</td>\n",
       "    </tr>\n",
       "    <tr>\n",
       "      <th>2142</th>\n",
       "      <td>g628c</td>\n",
       "      <td>STR</td>\n",
       "      <td>C</td>\n",
       "      <td>rrs</td>\n",
       "      <td>1471846</td>\n",
       "      <td>1473382</td>\n",
       "    </tr>\n",
       "    <tr>\n",
       "      <th>2143</th>\n",
       "      <td>ins1062c</td>\n",
       "      <td>STR</td>\n",
       "      <td>C</td>\n",
       "      <td>rrs</td>\n",
       "      <td>1471846</td>\n",
       "      <td>1473382</td>\n",
       "    </tr>\n",
       "    <tr>\n",
       "      <th>2144</th>\n",
       "      <td>t1239c</td>\n",
       "      <td>STR</td>\n",
       "      <td>D</td>\n",
       "      <td>rrs</td>\n",
       "      <td>1471846</td>\n",
       "      <td>1473382</td>\n",
       "    </tr>\n",
       "    <tr>\n",
       "      <th>2145</th>\n",
       "      <td>t1239c</td>\n",
       "      <td>STR</td>\n",
       "      <td>D</td>\n",
       "      <td>rrs</td>\n",
       "      <td>1471846</td>\n",
       "      <td>1473382</td>\n",
       "    </tr>\n",
       "    <tr>\n",
       "      <th>2146</th>\n",
       "      <td>Δ646</td>\n",
       "      <td>STR</td>\n",
       "      <td>C</td>\n",
       "      <td>rrs</td>\n",
       "      <td>1471846</td>\n",
       "      <td>1473382</td>\n",
       "    </tr>\n",
       "  </tbody>\n",
       "</table>\n",
       "<p>2144 rows × 6 columns</p>\n",
       "</div>"
      ],
      "text/plain": [
       "      Mutation Phenotype Category          Locus  gffStart   gffEnd\n",
       "0        c-10t       INH        B  ahpC promoter   2726088  2726192\n",
       "1        c-12t       INH        B  ahpC promoter   2726088  2726192\n",
       "2        c-39t       INH        B  ahpC promoter   2726088  2726192\n",
       "3        g-48a       INH        B  ahpC promoter   2726088  2726192\n",
       "4         g-6a       INH        B  ahpC promoter   2726088  2726192\n",
       "...        ...       ...      ...            ...       ...      ...\n",
       "2142     g628c       STR        C            rrs   1471846  1473382\n",
       "2143  ins1062c       STR        C            rrs   1471846  1473382\n",
       "2144    t1239c       STR        D            rrs   1471846  1473382\n",
       "2145    t1239c       STR        D            rrs   1471846  1473382\n",
       "2146      Δ646       STR        C            rrs   1471846  1473382\n",
       "\n",
       "[2144 rows x 6 columns]"
      ]
     },
     "execution_count": 80,
     "metadata": {},
     "output_type": "execute_result"
    }
   ],
   "source": [
    "masterlist"
   ]
  },
  {
   "cell_type": "code",
   "execution_count": 89,
   "id": "163392a6",
   "metadata": {},
   "outputs": [],
   "source": [
    "h37rv_coordinates = {'ahpc_pr_gff': (2726088, 2726192),\n",
    "                     'ahpc_gff': (2726193, 2726780),\n",
    "                     'eis_pr_gff': (2713785, 2714123),\n",
    "                     'emba_gff': (4243233, 4246517),\n",
    "                     'embb_gff': (4246514, 4249810),\n",
    "                     'embc_gff': (4239863, 4243147),\n",
    "                     'gyra_gff': (7302, 9818),\n",
    "                     'gyrb_gff': (5240, 7267),\n",
    "                     'inha_pr_gff': (1673300, 1673439),\n",
    "                     'fabg1_gff': (1673440, 1674183),\n",
    "                     'inha_gff': (1674202, 1675011),\n",
    "                     'katg_gff': (2153889, 2156111),\n",
    "                     'pnca_gff': (2288681, 2289241),\n",
    "                     'rpob_gff': (759807, 763325), \n",
    "                     'rrs_gff': (1471846, 1473382)}"
   ]
  },
  {
   "cell_type": "code",
   "execution_count": 90,
   "id": "ba751afb",
   "metadata": {},
   "outputs": [],
   "source": [
    "h37ra_coord = {'ahpc_pr_gff': (2739087, 2739356),\n",
    "               'ahpc_gff': (2739357, 2739944),\n",
    "               'eis_pr_gff': (2727288, 2728514),\n",
    "               'emba_gff': (4257811, 4261095),\n",
    "               'embb_gff': (4261092, 4264388),\n",
    "               'embc_gff': (4254441, 4257725),\n",
    "               'gyra_gff': (7302, 9818),\n",
    "               'gyrb_gff': (5240, 7267),\n",
    "               'fabg1_gff': (1675011, 1675754),\n",
    "               'katg_gff': (2164986, 2167208),\n",
    "               'pnca_gff': (2299779, 2300339),\n",
    "               'rpob_gff': (761167, 764685),\n",
    "               'rrs_gff': (1473213, 1474744)}"
   ]
  },
  {
   "cell_type": "code",
   "execution_count": 8,
   "id": "092365ed",
   "metadata": {},
   "outputs": [],
   "source": [
    "amr_bed = pd.read_csv('/Users/yeemayseah/Documents/Repos/mtb_amr/data/CP016972.1_amr.bed', sep='\\t', header=None)"
   ]
  },
  {
   "cell_type": "code",
   "execution_count": 9,
   "id": "2f1348a8-dc22-4b1f-8356-94859216cb92",
   "metadata": {},
   "outputs": [],
   "source": [
    "amr_bed[3] = 'AMR'\n",
    "amr_bed[4] = 0\n",
    "amr_bed[5] = '.'"
   ]
  },
  {
   "cell_type": "code",
   "execution_count": 11,
   "id": "cf0159be-5cf5-4b85-b962-c98142f066cd",
   "metadata": {},
   "outputs": [],
   "source": [
    "amr_bed.to_csv('/Users/yeemayseah/Documents/Repos/mtb_amr/data/CP016972.1_amr-edit.bed', sep='\\t', header=False, index=False)"
   ]
  },
  {
   "cell_type": "markdown",
   "id": "d27b355a-8dc8-439d-9c81-7ebe2c0c80e9",
   "metadata": {},
   "source": [
    "## Create manifest.csv from Excel sheet"
   ]
  },
  {
   "cell_type": "code",
   "execution_count": 51,
   "id": "a41af0c8-4d65-4ea4-9453-21fe286402ad",
   "metadata": {},
   "outputs": [],
   "source": [
    "mtb_isolates = pd.read_excel('/Users/yeemayseah/Documents/Repos/mtb_amr/sequenced/MTB isolate tracking_LC.xlsx', sheet_name=0)"
   ]
  },
  {
   "cell_type": "code",
   "execution_count": 52,
   "id": "7930669d-95fc-425b-9473-1a18c1d18c84",
   "metadata": {},
   "outputs": [],
   "source": [
    "mtb_isolates.drop(['Sub_date', 'Heat_date', 'Ster_check', 'Patient#', 'Patient', 'Acc#', 'Comments', 'Library', 'Lib Quant ng/uL', 'Pool'], axis=1, inplace=True)"
   ]
  },
  {
   "cell_type": "code",
   "execution_count": 53,
   "id": "c90fc699-569f-4bb3-96e1-aa5136ebea8d",
   "metadata": {},
   "outputs": [],
   "source": [
    "mtb_isolates.dropna(inplace=True)"
   ]
  },
  {
   "cell_type": "code",
   "execution_count": 54,
   "id": "099e0d0e-400c-4108-a55f-e40de90abe7c",
   "metadata": {},
   "outputs": [],
   "source": [
    "mtb_isolates['label'] = 'M' + mtb_isolates['Mtb#'].astype(int).astype(str)\n",
    "mtb_isolates['run_number'] = mtb_isolates['Seq_run'].astype(int)"
   ]
  },
  {
   "cell_type": "code",
   "execution_count": 55,
   "id": "12bfa541-bd4d-41f4-9707-97fe6adfccd4",
   "metadata": {},
   "outputs": [],
   "source": [
    "mtb_isolates.drop(['Mtb#', 'Seq_run'], axis=1, inplace=True)"
   ]
  },
  {
   "cell_type": "code",
   "execution_count": 57,
   "id": "aa8043e1-2075-4555-a9b6-c7770111e9ea",
   "metadata": {},
   "outputs": [],
   "source": [
    "mtb_isolates.rename(columns={'Stock #': 'accession', 'Barcode': 'barcode_id'}, inplace=True)\n",
    "mtb_isolates = mtb_isolates[['label', 'accession', 'run_number', 'barcode_id']]"
   ]
  },
  {
   "cell_type": "code",
   "execution_count": 60,
   "id": "39e3aa60-f8e5-474c-808d-71bd70882003",
   "metadata": {},
   "outputs": [],
   "source": [
    "mtb_isolates.to_csv('/Users/yeemayseah/Documents/Repos/mtb_amr/sequenced/configs/manifest.csv', index=False)"
   ]
  },
  {
   "cell_type": "code",
   "execution_count": null,
   "id": "9761ce31-1789-4c41-b5e2-3cc989591b7a",
   "metadata": {},
   "outputs": [],
   "source": []
  }
 ],
 "metadata": {
  "kernelspec": {
   "display_name": "Python 3 (ipykernel)",
   "language": "python",
   "name": "python3"
  },
  "language_info": {
   "codemirror_mode": {
    "name": "ipython",
    "version": 3
   },
   "file_extension": ".py",
   "mimetype": "text/x-python",
   "name": "python",
   "nbconvert_exporter": "python",
   "pygments_lexer": "ipython3",
   "version": "3.8.5"
  }
 },
 "nbformat": 4,
 "nbformat_minor": 5
}
