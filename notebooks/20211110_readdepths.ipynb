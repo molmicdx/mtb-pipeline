{
 "cells": [
  {
   "cell_type": "markdown",
   "id": "0cd8e7a4-3449-449b-bcd8-02194785874a",
   "metadata": {},
   "source": [
    "This notebook is for:\n",
    "1. analyzing downsampled synthetic SNP, INS, and DEL datasets.\n",
    "2. analyzing downsampled sequenced isolates.\n",
    "\n",
    "**To Do**\n",
    "\n",
    "DONE ~~Correct DiscoSNP `variant_fof`, which currently points to 100X reads.~~"
   ]
  },
  {
   "cell_type": "markdown",
   "id": "90bb1cde-fddb-4d42-bef6-14fdae9056b4",
   "metadata": {},
   "source": [
    "### SNPs only\n",
    "**'dataset'** on the x-axis refers to downsampled coverages: 5x, 10x, 15x, 20x, 30x, 40x, 50x, 60x, 70x, 80, 90x. These are downsampled with `head -n [number of reads*4]` from the original 100x datasets."
   ]
  },
  {
   "cell_type": "code",
   "execution_count": 30,
   "id": "14b10d91-738a-412c-8482-f6459ae565dd",
   "metadata": {},
   "outputs": [
    {
     "data": {
      "application/vnd.plotly.v1+json": {
       "config": {
        "plotlyServerURL": "https://plot.ly"
       },
       "data": [
        {
         "hovertemplate": "variable=recall<br>caller=bcftools<br>dataset=%{x}<br>value=%{y}<extra></extra>",
         "legendgroup": "recall",
         "marker": {
          "color": "#636efa",
          "symbol": "circle"
         },
         "mode": "markers",
         "name": "recall",
         "orientation": "v",
         "showlegend": true,
         "type": "scatter",
         "x": [
          5,
          10,
          15,
          20,
          30,
          40,
          50,
          60,
          70,
          80,
          90,
          100
         ],
         "xaxis": "x",
         "y": [
          0.9440654843110505,
          0.98681218735789,
          0.9890859481582538,
          0.9895407003183265,
          0.9897680763983628,
          0.9899954524783993,
          0.9902228285584357,
          0.9902228285584357,
          0.9902228285584357,
          0.990450204638472,
          0.990450204638472,
          0.990450204638472
         ],
         "yaxis": "y"
        },
        {
         "hovertemplate": "variable=recall<br>caller=deepvariant<br>dataset=%{x}<br>value=%{y}<extra></extra>",
         "legendgroup": "recall",
         "marker": {
          "color": "#636efa",
          "symbol": "circle"
         },
         "mode": "markers",
         "name": "recall",
         "orientation": "v",
         "showlegend": false,
         "type": "scatter",
         "x": [
          5,
          10,
          15,
          20,
          30,
          40,
          50,
          60,
          70,
          80,
          90,
          100
         ],
         "xaxis": "x2",
         "y": [
          0.8906321055025012,
          0.9813551614370168,
          0.9879490677580719,
          0.9890859481582538,
          0.9893133242382901,
          0.9897680763983628,
          0.9897680763983628,
          0.9899954524783993,
          0.9899954524783993,
          0.9902228285584357,
          0.9902228285584357,
          0.9902228285584357
         ],
         "yaxis": "y2"
        },
        {
         "hovertemplate": "variable=recall<br>caller=discosnp<br>dataset=%{x}<br>value=%{y}<extra></extra>",
         "legendgroup": "recall",
         "marker": {
          "color": "#636efa",
          "symbol": "circle"
         },
         "mode": "markers",
         "name": "recall",
         "orientation": "v",
         "showlegend": false,
         "type": "scatter",
         "x": [
          5,
          10,
          15,
          20,
          30,
          40,
          50,
          60,
          70,
          80,
          90,
          100
         ],
         "xaxis": "x3",
         "y": [
          0.2994542974079127,
          0.852887676216462,
          0.9486130059117781,
          0.9631650750341064,
          0.9649840836743975,
          0.9654388358344702,
          0.9654388358344702,
          0.9654388358344702,
          0.9654388358344702,
          0.9654388358344702,
          0.9654388358344702,
          0.9654388358344702
         ],
         "yaxis": "y3"
        },
        {
         "hovertemplate": "variable=recall<br>caller=freebayes<br>dataset=%{x}<br>value=%{y}<extra></extra>",
         "legendgroup": "recall",
         "marker": {
          "color": "#636efa",
          "symbol": "circle"
         },
         "mode": "markers",
         "name": "recall",
         "orientation": "v",
         "showlegend": false,
         "type": "scatter",
         "x": [
          5,
          10,
          15,
          20,
          30,
          40,
          50,
          60,
          70,
          80,
          90,
          100
         ],
         "xaxis": "x4",
         "y": [
          0.8913142337426103,
          0.9813551614370168,
          0.9879490677580719,
          0.9890859481582538,
          0.9893133242382901,
          0.9897680763983628,
          0.9897680763983628,
          0.9899954524783993,
          0.9899954524783993,
          0.9902228285584357,
          0.9902228285584357,
          0.9902228285584357
         ],
         "yaxis": "y4"
        },
        {
         "hovertemplate": "variable=recall<br>caller=gatk<br>dataset=%{x}<br>value=%{y}<extra></extra>",
         "legendgroup": "recall",
         "marker": {
          "color": "#636efa",
          "symbol": "circle"
         },
         "mode": "markers",
         "name": "recall",
         "orientation": "v",
         "showlegend": false,
         "type": "scatter",
         "x": [
          5,
          10,
          15,
          20,
          30,
          40,
          50,
          60,
          70,
          80,
          90,
          100
         ],
         "xaxis": "x5",
         "y": [
          0.8603910868576625,
          0.9786266484765803,
          0.987494315597999,
          0.988631195998181,
          0.9884038199181446,
          0.9888585720782174,
          0.9890859481582538,
          0.9893133242382901,
          0.9893133242382901,
          0.9895407003183265,
          0.9895407003183265,
          0.9895407003183265
         ],
         "yaxis": "y5"
        },
        {
         "hovertemplate": "variable=recall<br>caller=lancet<br>dataset=%{x}<br>value=%{y}<extra></extra>",
         "legendgroup": "recall",
         "marker": {
          "color": "#636efa",
          "symbol": "circle"
         },
         "mode": "markers",
         "name": "recall",
         "orientation": "v",
         "showlegend": false,
         "type": "scatter",
         "x": [
          5,
          10,
          15,
          20,
          30,
          40,
          50,
          60,
          70,
          80,
          90,
          100
         ],
         "xaxis": "x6",
         "y": [
          0.3758526603001364,
          0.8219645293315143,
          0.9477035015916325,
          0.9702137335152342,
          0.9729422464756707,
          0.9729422464756707,
          0.9736243747157799,
          0.9736243747157799,
          0.9736243747157799,
          0.9736243747157799,
          0.9740791268758526,
          0.9738517507958163
         ],
         "yaxis": "y6"
        },
        {
         "hovertemplate": "variable=recall<br>caller=vardict<br>dataset=%{x}<br>value=%{y}<extra></extra>",
         "legendgroup": "recall",
         "marker": {
          "color": "#636efa",
          "symbol": "circle"
         },
         "mode": "markers",
         "name": "recall",
         "orientation": "v",
         "showlegend": false,
         "type": "scatter",
         "x": [
          5,
          10,
          15,
          20,
          30,
          40,
          50,
          60,
          70,
          80,
          90,
          100
         ],
         "xaxis": "x7",
         "y": [
          0.8549340609367895,
          0.972487494315598,
          0.9854479308776717,
          0.9884038199181446,
          0.9890859481582538,
          0.9897680763983628,
          0.9897680763983628,
          0.9899954524783993,
          0.9899954524783993,
          0.9902228285584357,
          0.9902228285584357,
          0.9902228285584357
         ],
         "yaxis": "y7"
        },
        {
         "hovertemplate": "variable=precision<br>caller=bcftools<br>dataset=%{x}<br>value=%{y}<extra></extra>",
         "legendgroup": "precision",
         "marker": {
          "color": "#EF553B",
          "symbol": "circle"
         },
         "mode": "markers",
         "name": "precision",
         "orientation": "v",
         "showlegend": true,
         "type": "scatter",
         "x": [
          5,
          10,
          15,
          20,
          30,
          40,
          50,
          60,
          70,
          80,
          90,
          100
         ],
         "xaxis": "x",
         "y": [
          0.9804014167650531,
          0.998389694041868,
          0.9997701677775224,
          0.9997702733746842,
          0.9997703261368857,
          0.9997703788748565,
          1,
          1,
          1,
          1,
          0.999770484278173,
          0.999770484278173
         ],
         "yaxis": "y"
        },
        {
         "hovertemplate": "variable=precision<br>caller=deepvariant<br>dataset=%{x}<br>value=%{y}<extra></extra>",
         "legendgroup": "precision",
         "marker": {
          "color": "#EF553B",
          "symbol": "circle"
         },
         "mode": "markers",
         "name": "precision",
         "orientation": "v",
         "showlegend": false,
         "type": "scatter",
         "x": [
          5,
          10,
          15,
          20,
          30,
          40,
          50,
          60,
          70,
          80,
          90,
          100
         ],
         "xaxis": "x2",
         "y": [
          0.9956786985256736,
          0.9963065558633426,
          0.9979329352319706,
          0.9993108201240524,
          1,
          1,
          1,
          1,
          0.9997703788748565,
          0.9995409685563461,
          0.9995409685563461,
          0.9995409685563461
         ],
         "yaxis": "y2"
        },
        {
         "hovertemplate": "variable=precision<br>caller=discosnp<br>dataset=%{x}<br>value=%{y}<extra></extra>",
         "legendgroup": "precision",
         "marker": {
          "color": "#EF553B",
          "symbol": "circle"
         },
         "mode": "markers",
         "name": "precision",
         "orientation": "v",
         "showlegend": false,
         "type": "scatter",
         "x": [
          5,
          10,
          15,
          20,
          30,
          40,
          50,
          60,
          70,
          80,
          90,
          100
         ],
         "xaxis": "x3",
         "y": [
          0.9962178517397882,
          0.998402981101943,
          0.998324958123953,
          0.9985855728429985,
          0.9985882352941177,
          0.9985888993414863,
          0.9985888993414863,
          0.9985888993414863,
          0.9985888993414863,
          0.9985888993414863,
          0.9985888993414863,
          0.9985888993414863
         ],
         "yaxis": "y3"
        },
        {
         "hovertemplate": "variable=precision<br>caller=freebayes<br>dataset=%{x}<br>value=%{y}<extra></extra>",
         "legendgroup": "precision",
         "marker": {
          "color": "#EF553B",
          "symbol": "circle"
         },
         "mode": "markers",
         "name": "precision",
         "orientation": "v",
         "showlegend": false,
         "type": "scatter",
         "x": [
          5,
          10,
          15,
          20,
          30,
          40,
          50,
          60,
          70,
          80,
          90,
          100
         ],
         "xaxis": "x4",
         "y": [
          0.9994900560938297,
          1,
          1,
          1,
          1,
          0.9997703261368857,
          1,
          1,
          1,
          1,
          1,
          1
         ],
         "yaxis": "y4"
        },
        {
         "hovertemplate": "variable=precision<br>caller=gatk<br>dataset=%{x}<br>value=%{y}<extra></extra>",
         "legendgroup": "precision",
         "marker": {
          "color": "#EF553B",
          "symbol": "circle"
         },
         "mode": "markers",
         "name": "precision",
         "orientation": "v",
         "showlegend": false,
         "type": "scatter",
         "x": [
          5,
          10,
          15,
          20,
          30,
          40,
          50,
          60,
          70,
          80,
          90,
          100
         ],
         "xaxis": "x5",
         "y": [
          0.9989440337909187,
          0.9997677119628339,
          1,
          1,
          1,
          1,
          1,
          1,
          1,
          1,
          1,
          0.9997702733746842
         ],
         "yaxis": "y5"
        },
        {
         "hovertemplate": "variable=precision<br>caller=lancet<br>dataset=%{x}<br>value=%{y}<extra></extra>",
         "legendgroup": "precision",
         "marker": {
          "color": "#EF553B",
          "symbol": "circle"
         },
         "mode": "markers",
         "name": "precision",
         "orientation": "v",
         "showlegend": false,
         "type": "scatter",
         "x": [
          5,
          10,
          15,
          20,
          30,
          40,
          50,
          60,
          70,
          80,
          90,
          100
         ],
         "xaxis": "x6",
         "y": [
          1,
          1,
          1,
          1,
          1,
          1,
          1,
          1,
          1,
          1,
          1,
          1
         ],
         "yaxis": "y6"
        },
        {
         "hovertemplate": "variable=precision<br>caller=vardict<br>dataset=%{x}<br>value=%{y}<extra></extra>",
         "legendgroup": "precision",
         "marker": {
          "color": "#EF553B",
          "symbol": "circle"
         },
         "mode": "markers",
         "name": "precision",
         "orientation": "v",
         "showlegend": false,
         "type": "scatter",
         "x": [
          5,
          10,
          15,
          20,
          30,
          40,
          50,
          60,
          70,
          80,
          90,
          100
         ],
         "xaxis": "x7",
         "y": [
          1,
          0.9997662459093034,
          1,
          1,
          1,
          1,
          1,
          1,
          1,
          1,
          1,
          1
         ],
         "yaxis": "y7"
        }
       ],
       "layout": {
        "annotations": [
         {
          "font": {},
          "showarrow": false,
          "text": "caller=bcftools",
          "x": 0.06285714285714285,
          "xanchor": "center",
          "xref": "paper",
          "y": 1,
          "yanchor": "bottom",
          "yref": "paper"
         },
         {
          "font": {},
          "showarrow": false,
          "text": "caller=deepvariant",
          "x": 0.20857142857142852,
          "xanchor": "center",
          "xref": "paper",
          "y": 1,
          "yanchor": "bottom",
          "yref": "paper"
         },
         {
          "font": {},
          "showarrow": false,
          "text": "caller=discosnp",
          "x": 0.3542857142857142,
          "xanchor": "center",
          "xref": "paper",
          "y": 1,
          "yanchor": "bottom",
          "yref": "paper"
         },
         {
          "font": {},
          "showarrow": false,
          "text": "caller=freebayes",
          "x": 0.5,
          "xanchor": "center",
          "xref": "paper",
          "y": 1,
          "yanchor": "bottom",
          "yref": "paper"
         },
         {
          "font": {},
          "showarrow": false,
          "text": "caller=gatk",
          "x": 0.6457142857142856,
          "xanchor": "center",
          "xref": "paper",
          "y": 1,
          "yanchor": "bottom",
          "yref": "paper"
         },
         {
          "font": {},
          "showarrow": false,
          "text": "caller=lancet",
          "x": 0.7914285714285713,
          "xanchor": "center",
          "xref": "paper",
          "y": 1,
          "yanchor": "bottom",
          "yref": "paper"
         },
         {
          "font": {},
          "showarrow": false,
          "text": "caller=vardict",
          "x": 0.9371428571428569,
          "xanchor": "center",
          "xref": "paper",
          "y": 1,
          "yanchor": "bottom",
          "yref": "paper"
         }
        ],
        "autosize": true,
        "legend": {
         "title": {
          "text": "variable"
         },
         "tracegroupgap": 0
        },
        "margin": {
         "t": 60
        },
        "template": {
         "data": {
          "bar": [
           {
            "error_x": {
             "color": "#2a3f5f"
            },
            "error_y": {
             "color": "#2a3f5f"
            },
            "marker": {
             "line": {
              "color": "#E5ECF6",
              "width": 0.5
             },
             "pattern": {
              "fillmode": "overlay",
              "size": 10,
              "solidity": 0.2
             }
            },
            "type": "bar"
           }
          ],
          "barpolar": [
           {
            "marker": {
             "line": {
              "color": "#E5ECF6",
              "width": 0.5
             },
             "pattern": {
              "fillmode": "overlay",
              "size": 10,
              "solidity": 0.2
             }
            },
            "type": "barpolar"
           }
          ],
          "carpet": [
           {
            "aaxis": {
             "endlinecolor": "#2a3f5f",
             "gridcolor": "white",
             "linecolor": "white",
             "minorgridcolor": "white",
             "startlinecolor": "#2a3f5f"
            },
            "baxis": {
             "endlinecolor": "#2a3f5f",
             "gridcolor": "white",
             "linecolor": "white",
             "minorgridcolor": "white",
             "startlinecolor": "#2a3f5f"
            },
            "type": "carpet"
           }
          ],
          "choropleth": [
           {
            "colorbar": {
             "outlinewidth": 0,
             "ticks": ""
            },
            "type": "choropleth"
           }
          ],
          "contour": [
           {
            "colorbar": {
             "outlinewidth": 0,
             "ticks": ""
            },
            "colorscale": [
             [
              0,
              "#0d0887"
             ],
             [
              0.1111111111111111,
              "#46039f"
             ],
             [
              0.2222222222222222,
              "#7201a8"
             ],
             [
              0.3333333333333333,
              "#9c179e"
             ],
             [
              0.4444444444444444,
              "#bd3786"
             ],
             [
              0.5555555555555556,
              "#d8576b"
             ],
             [
              0.6666666666666666,
              "#ed7953"
             ],
             [
              0.7777777777777778,
              "#fb9f3a"
             ],
             [
              0.8888888888888888,
              "#fdca26"
             ],
             [
              1,
              "#f0f921"
             ]
            ],
            "type": "contour"
           }
          ],
          "contourcarpet": [
           {
            "colorbar": {
             "outlinewidth": 0,
             "ticks": ""
            },
            "type": "contourcarpet"
           }
          ],
          "heatmap": [
           {
            "colorbar": {
             "outlinewidth": 0,
             "ticks": ""
            },
            "colorscale": [
             [
              0,
              "#0d0887"
             ],
             [
              0.1111111111111111,
              "#46039f"
             ],
             [
              0.2222222222222222,
              "#7201a8"
             ],
             [
              0.3333333333333333,
              "#9c179e"
             ],
             [
              0.4444444444444444,
              "#bd3786"
             ],
             [
              0.5555555555555556,
              "#d8576b"
             ],
             [
              0.6666666666666666,
              "#ed7953"
             ],
             [
              0.7777777777777778,
              "#fb9f3a"
             ],
             [
              0.8888888888888888,
              "#fdca26"
             ],
             [
              1,
              "#f0f921"
             ]
            ],
            "type": "heatmap"
           }
          ],
          "heatmapgl": [
           {
            "colorbar": {
             "outlinewidth": 0,
             "ticks": ""
            },
            "colorscale": [
             [
              0,
              "#0d0887"
             ],
             [
              0.1111111111111111,
              "#46039f"
             ],
             [
              0.2222222222222222,
              "#7201a8"
             ],
             [
              0.3333333333333333,
              "#9c179e"
             ],
             [
              0.4444444444444444,
              "#bd3786"
             ],
             [
              0.5555555555555556,
              "#d8576b"
             ],
             [
              0.6666666666666666,
              "#ed7953"
             ],
             [
              0.7777777777777778,
              "#fb9f3a"
             ],
             [
              0.8888888888888888,
              "#fdca26"
             ],
             [
              1,
              "#f0f921"
             ]
            ],
            "type": "heatmapgl"
           }
          ],
          "histogram": [
           {
            "marker": {
             "pattern": {
              "fillmode": "overlay",
              "size": 10,
              "solidity": 0.2
             }
            },
            "type": "histogram"
           }
          ],
          "histogram2d": [
           {
            "colorbar": {
             "outlinewidth": 0,
             "ticks": ""
            },
            "colorscale": [
             [
              0,
              "#0d0887"
             ],
             [
              0.1111111111111111,
              "#46039f"
             ],
             [
              0.2222222222222222,
              "#7201a8"
             ],
             [
              0.3333333333333333,
              "#9c179e"
             ],
             [
              0.4444444444444444,
              "#bd3786"
             ],
             [
              0.5555555555555556,
              "#d8576b"
             ],
             [
              0.6666666666666666,
              "#ed7953"
             ],
             [
              0.7777777777777778,
              "#fb9f3a"
             ],
             [
              0.8888888888888888,
              "#fdca26"
             ],
             [
              1,
              "#f0f921"
             ]
            ],
            "type": "histogram2d"
           }
          ],
          "histogram2dcontour": [
           {
            "colorbar": {
             "outlinewidth": 0,
             "ticks": ""
            },
            "colorscale": [
             [
              0,
              "#0d0887"
             ],
             [
              0.1111111111111111,
              "#46039f"
             ],
             [
              0.2222222222222222,
              "#7201a8"
             ],
             [
              0.3333333333333333,
              "#9c179e"
             ],
             [
              0.4444444444444444,
              "#bd3786"
             ],
             [
              0.5555555555555556,
              "#d8576b"
             ],
             [
              0.6666666666666666,
              "#ed7953"
             ],
             [
              0.7777777777777778,
              "#fb9f3a"
             ],
             [
              0.8888888888888888,
              "#fdca26"
             ],
             [
              1,
              "#f0f921"
             ]
            ],
            "type": "histogram2dcontour"
           }
          ],
          "mesh3d": [
           {
            "colorbar": {
             "outlinewidth": 0,
             "ticks": ""
            },
            "type": "mesh3d"
           }
          ],
          "parcoords": [
           {
            "line": {
             "colorbar": {
              "outlinewidth": 0,
              "ticks": ""
             }
            },
            "type": "parcoords"
           }
          ],
          "pie": [
           {
            "automargin": true,
            "type": "pie"
           }
          ],
          "scatter": [
           {
            "marker": {
             "colorbar": {
              "outlinewidth": 0,
              "ticks": ""
             }
            },
            "type": "scatter"
           }
          ],
          "scatter3d": [
           {
            "line": {
             "colorbar": {
              "outlinewidth": 0,
              "ticks": ""
             }
            },
            "marker": {
             "colorbar": {
              "outlinewidth": 0,
              "ticks": ""
             }
            },
            "type": "scatter3d"
           }
          ],
          "scattercarpet": [
           {
            "marker": {
             "colorbar": {
              "outlinewidth": 0,
              "ticks": ""
             }
            },
            "type": "scattercarpet"
           }
          ],
          "scattergeo": [
           {
            "marker": {
             "colorbar": {
              "outlinewidth": 0,
              "ticks": ""
             }
            },
            "type": "scattergeo"
           }
          ],
          "scattergl": [
           {
            "marker": {
             "colorbar": {
              "outlinewidth": 0,
              "ticks": ""
             }
            },
            "type": "scattergl"
           }
          ],
          "scattermapbox": [
           {
            "marker": {
             "colorbar": {
              "outlinewidth": 0,
              "ticks": ""
             }
            },
            "type": "scattermapbox"
           }
          ],
          "scatterpolar": [
           {
            "marker": {
             "colorbar": {
              "outlinewidth": 0,
              "ticks": ""
             }
            },
            "type": "scatterpolar"
           }
          ],
          "scatterpolargl": [
           {
            "marker": {
             "colorbar": {
              "outlinewidth": 0,
              "ticks": ""
             }
            },
            "type": "scatterpolargl"
           }
          ],
          "scatterternary": [
           {
            "marker": {
             "colorbar": {
              "outlinewidth": 0,
              "ticks": ""
             }
            },
            "type": "scatterternary"
           }
          ],
          "surface": [
           {
            "colorbar": {
             "outlinewidth": 0,
             "ticks": ""
            },
            "colorscale": [
             [
              0,
              "#0d0887"
             ],
             [
              0.1111111111111111,
              "#46039f"
             ],
             [
              0.2222222222222222,
              "#7201a8"
             ],
             [
              0.3333333333333333,
              "#9c179e"
             ],
             [
              0.4444444444444444,
              "#bd3786"
             ],
             [
              0.5555555555555556,
              "#d8576b"
             ],
             [
              0.6666666666666666,
              "#ed7953"
             ],
             [
              0.7777777777777778,
              "#fb9f3a"
             ],
             [
              0.8888888888888888,
              "#fdca26"
             ],
             [
              1,
              "#f0f921"
             ]
            ],
            "type": "surface"
           }
          ],
          "table": [
           {
            "cells": {
             "fill": {
              "color": "#EBF0F8"
             },
             "line": {
              "color": "white"
             }
            },
            "header": {
             "fill": {
              "color": "#C8D4E3"
             },
             "line": {
              "color": "white"
             }
            },
            "type": "table"
           }
          ]
         },
         "layout": {
          "annotationdefaults": {
           "arrowcolor": "#2a3f5f",
           "arrowhead": 0,
           "arrowwidth": 1
          },
          "autotypenumbers": "strict",
          "coloraxis": {
           "colorbar": {
            "outlinewidth": 0,
            "ticks": ""
           }
          },
          "colorscale": {
           "diverging": [
            [
             0,
             "#8e0152"
            ],
            [
             0.1,
             "#c51b7d"
            ],
            [
             0.2,
             "#de77ae"
            ],
            [
             0.3,
             "#f1b6da"
            ],
            [
             0.4,
             "#fde0ef"
            ],
            [
             0.5,
             "#f7f7f7"
            ],
            [
             0.6,
             "#e6f5d0"
            ],
            [
             0.7,
             "#b8e186"
            ],
            [
             0.8,
             "#7fbc41"
            ],
            [
             0.9,
             "#4d9221"
            ],
            [
             1,
             "#276419"
            ]
           ],
           "sequential": [
            [
             0,
             "#0d0887"
            ],
            [
             0.1111111111111111,
             "#46039f"
            ],
            [
             0.2222222222222222,
             "#7201a8"
            ],
            [
             0.3333333333333333,
             "#9c179e"
            ],
            [
             0.4444444444444444,
             "#bd3786"
            ],
            [
             0.5555555555555556,
             "#d8576b"
            ],
            [
             0.6666666666666666,
             "#ed7953"
            ],
            [
             0.7777777777777778,
             "#fb9f3a"
            ],
            [
             0.8888888888888888,
             "#fdca26"
            ],
            [
             1,
             "#f0f921"
            ]
           ],
           "sequentialminus": [
            [
             0,
             "#0d0887"
            ],
            [
             0.1111111111111111,
             "#46039f"
            ],
            [
             0.2222222222222222,
             "#7201a8"
            ],
            [
             0.3333333333333333,
             "#9c179e"
            ],
            [
             0.4444444444444444,
             "#bd3786"
            ],
            [
             0.5555555555555556,
             "#d8576b"
            ],
            [
             0.6666666666666666,
             "#ed7953"
            ],
            [
             0.7777777777777778,
             "#fb9f3a"
            ],
            [
             0.8888888888888888,
             "#fdca26"
            ],
            [
             1,
             "#f0f921"
            ]
           ]
          },
          "colorway": [
           "#636efa",
           "#EF553B",
           "#00cc96",
           "#ab63fa",
           "#FFA15A",
           "#19d3f3",
           "#FF6692",
           "#B6E880",
           "#FF97FF",
           "#FECB52"
          ],
          "font": {
           "color": "#2a3f5f"
          },
          "geo": {
           "bgcolor": "white",
           "lakecolor": "white",
           "landcolor": "#E5ECF6",
           "showlakes": true,
           "showland": true,
           "subunitcolor": "white"
          },
          "hoverlabel": {
           "align": "left"
          },
          "hovermode": "closest",
          "mapbox": {
           "style": "light"
          },
          "paper_bgcolor": "white",
          "plot_bgcolor": "#E5ECF6",
          "polar": {
           "angularaxis": {
            "gridcolor": "white",
            "linecolor": "white",
            "ticks": ""
           },
           "bgcolor": "#E5ECF6",
           "radialaxis": {
            "gridcolor": "white",
            "linecolor": "white",
            "ticks": ""
           }
          },
          "scene": {
           "xaxis": {
            "backgroundcolor": "#E5ECF6",
            "gridcolor": "white",
            "gridwidth": 2,
            "linecolor": "white",
            "showbackground": true,
            "ticks": "",
            "zerolinecolor": "white"
           },
           "yaxis": {
            "backgroundcolor": "#E5ECF6",
            "gridcolor": "white",
            "gridwidth": 2,
            "linecolor": "white",
            "showbackground": true,
            "ticks": "",
            "zerolinecolor": "white"
           },
           "zaxis": {
            "backgroundcolor": "#E5ECF6",
            "gridcolor": "white",
            "gridwidth": 2,
            "linecolor": "white",
            "showbackground": true,
            "ticks": "",
            "zerolinecolor": "white"
           }
          },
          "shapedefaults": {
           "line": {
            "color": "#2a3f5f"
           }
          },
          "ternary": {
           "aaxis": {
            "gridcolor": "white",
            "linecolor": "white",
            "ticks": ""
           },
           "baxis": {
            "gridcolor": "white",
            "linecolor": "white",
            "ticks": ""
           },
           "bgcolor": "#E5ECF6",
           "caxis": {
            "gridcolor": "white",
            "linecolor": "white",
            "ticks": ""
           }
          },
          "title": {
           "x": 0.05
          },
          "xaxis": {
           "automargin": true,
           "gridcolor": "white",
           "linecolor": "white",
           "ticks": "",
           "title": {
            "standoff": 15
           },
           "zerolinecolor": "white",
           "zerolinewidth": 2
          },
          "yaxis": {
           "automargin": true,
           "gridcolor": "white",
           "linecolor": "white",
           "ticks": "",
           "title": {
            "standoff": 15
           },
           "zerolinecolor": "white",
           "zerolinewidth": 2
          }
         }
        },
        "xaxis": {
         "anchor": "y",
         "autorange": true,
         "domain": [
          0,
          0.1257142857142857
         ],
         "range": [
          -5.763837740660668,
          110.76383774066066
         ],
         "title": {
          "text": "dataset"
         },
         "type": "linear"
        },
        "xaxis2": {
         "anchor": "y2",
         "autorange": true,
         "domain": [
          0.14571428571428569,
          0.27142857142857135
         ],
         "matches": "x",
         "range": [
          -5.763837740660668,
          110.76383774066066
         ],
         "title": {
          "text": "dataset"
         },
         "type": "linear"
        },
        "xaxis3": {
         "anchor": "y3",
         "autorange": true,
         "domain": [
          0.29142857142857137,
          0.41714285714285704
         ],
         "matches": "x",
         "range": [
          -5.763837740660668,
          110.76383774066066
         ],
         "title": {
          "text": "dataset"
         },
         "type": "linear"
        },
        "xaxis4": {
         "anchor": "y4",
         "autorange": true,
         "domain": [
          0.4371428571428571,
          0.5628571428571428
         ],
         "matches": "x",
         "range": [
          -5.763837740660668,
          110.76383774066066
         ],
         "title": {
          "text": "dataset"
         },
         "type": "linear"
        },
        "xaxis5": {
         "anchor": "y5",
         "autorange": true,
         "domain": [
          0.5828571428571427,
          0.7085714285714284
         ],
         "matches": "x",
         "range": [
          -5.763837740660668,
          110.76383774066066
         ],
         "title": {
          "text": "dataset"
         },
         "type": "linear"
        },
        "xaxis6": {
         "anchor": "y6",
         "autorange": true,
         "domain": [
          0.7285714285714284,
          0.8542857142857141
         ],
         "matches": "x",
         "range": [
          -5.763837740660668,
          110.76383774066066
         ],
         "title": {
          "text": "dataset"
         },
         "type": "linear"
        },
        "xaxis7": {
         "anchor": "y7",
         "autorange": true,
         "domain": [
          0.8742857142857141,
          0.9999999999999998
         ],
         "matches": "x",
         "range": [
          -5.763837740660668,
          110.76383774066066
         ],
         "title": {
          "text": "dataset"
         },
         "type": "linear"
        },
        "yaxis": {
         "anchor": "x",
         "autorange": true,
         "domain": [
          0,
          1
         ],
         "range": [
          0.2452125697793915,
          1.0542417276285212
         ],
         "title": {
          "text": "value"
         },
         "type": "linear"
        },
        "yaxis2": {
         "anchor": "x2",
         "autorange": true,
         "domain": [
          0,
          1
         ],
         "matches": "y",
         "range": [
          0.2452125697793915,
          1.0542417276285212
         ],
         "showticklabels": false,
         "type": "linear"
        },
        "yaxis3": {
         "anchor": "x3",
         "autorange": true,
         "domain": [
          0,
          1
         ],
         "matches": "y",
         "range": [
          0.2452125697793915,
          1.0542417276285212
         ],
         "showticklabels": false,
         "type": "linear"
        },
        "yaxis4": {
         "anchor": "x4",
         "autorange": true,
         "domain": [
          0,
          1
         ],
         "matches": "y",
         "range": [
          0.2452125697793915,
          1.0542417276285212
         ],
         "showticklabels": false,
         "type": "linear"
        },
        "yaxis5": {
         "anchor": "x5",
         "autorange": true,
         "domain": [
          0,
          1
         ],
         "matches": "y",
         "range": [
          0.2452125697793915,
          1.0542417276285212
         ],
         "showticklabels": false,
         "type": "linear"
        },
        "yaxis6": {
         "anchor": "x6",
         "autorange": true,
         "domain": [
          0,
          1
         ],
         "matches": "y",
         "range": [
          0.2452125697793915,
          1.0542417276285212
         ],
         "showticklabels": false,
         "type": "linear"
        },
        "yaxis7": {
         "anchor": "x7",
         "autorange": true,
         "domain": [
          0,
          1
         ],
         "matches": "y",
         "range": [
          0.2452125697793915,
          1.0542417276285212
         ],
         "showticklabels": false,
         "type": "linear"
        }
       }
      },
      "image/png": "[encoded data removed]",
      "text/html": [
       "<div>                            <div id=\"fb0429fc-54e4-4933-8a2f-f145e3e80c41\" class=\"plotly-graph-div\" style=\"height:525px; width:100%;\"></div>            <script type=\"text/javascript\">                require([\"plotly\"], function(Plotly) {                    window.PLOTLYENV=window.PLOTLYENV || {};                                    if (document.getElementById(\"fb0429fc-54e4-4933-8a2f-f145e3e80c41\")) {                    Plotly.newPlot(                        \"fb0429fc-54e4-4933-8a2f-f145e3e80c41\",                        [{\"hovertemplate\":\"variable=recall<br>caller=bcftools<br>dataset=%{x}<br>value=%{y}<extra></extra>\",\"legendgroup\":\"recall\",\"marker\":{\"color\":\"#636efa\",\"symbol\":\"circle\"},\"mode\":\"markers\",\"name\":\"recall\",\"orientation\":\"v\",\"showlegend\":true,\"type\":\"scatter\",\"x\":[5,10,15,20,30,40,50,60,70,80,90,100],\"xaxis\":\"x\",\"y\":[0.9440654843110505,0.98681218735789,0.9890859481582538,0.9895407003183265,0.9897680763983628,0.9899954524783993,0.9902228285584357,0.9902228285584357,0.9902228285584357,0.990450204638472,0.990450204638472,0.990450204638472],\"yaxis\":\"y\"},{\"hovertemplate\":\"variable=recall<br>caller=deepvariant<br>dataset=%{x}<br>value=%{y}<extra></extra>\",\"legendgroup\":\"recall\",\"marker\":{\"color\":\"#636efa\",\"symbol\":\"circle\"},\"mode\":\"markers\",\"name\":\"recall\",\"orientation\":\"v\",\"showlegend\":false,\"type\":\"scatter\",\"x\":[5,10,15,20,30,40,50,60,70,80,90,100],\"xaxis\":\"x2\",\"y\":[0.8906321055025012,0.9813551614370168,0.9879490677580719,0.9890859481582538,0.9893133242382901,0.9897680763983628,0.9897680763983628,0.9899954524783993,0.9899954524783993,0.9902228285584357,0.9902228285584357,0.9902228285584357],\"yaxis\":\"y2\"},{\"hovertemplate\":\"variable=recall<br>caller=discosnp<br>dataset=%{x}<br>value=%{y}<extra></extra>\",\"legendgroup\":\"recall\",\"marker\":{\"color\":\"#636efa\",\"symbol\":\"circle\"},\"mode\":\"markers\",\"name\":\"recall\",\"orientation\":\"v\",\"showlegend\":false,\"type\":\"scatter\",\"x\":[5,10,15,20,30,40,50,60,70,80,90,100],\"xaxis\":\"x3\",\"y\":[0.2994542974079127,0.852887676216462,0.9486130059117781,0.9631650750341064,0.9649840836743975,0.9654388358344702,0.9654388358344702,0.9654388358344702,0.9654388358344702,0.9654388358344702,0.9654388358344702,0.9654388358344702],\"yaxis\":\"y3\"},{\"hovertemplate\":\"variable=recall<br>caller=freebayes<br>dataset=%{x}<br>value=%{y}<extra></extra>\",\"legendgroup\":\"recall\",\"marker\":{\"color\":\"#636efa\",\"symbol\":\"circle\"},\"mode\":\"markers\",\"name\":\"recall\",\"orientation\":\"v\",\"showlegend\":false,\"type\":\"scatter\",\"x\":[5,10,15,20,30,40,50,60,70,80,90,100],\"xaxis\":\"x4\",\"y\":[0.8913142337426103,0.9813551614370168,0.9879490677580719,0.9890859481582538,0.9893133242382901,0.9897680763983628,0.9897680763983628,0.9899954524783993,0.9899954524783993,0.9902228285584357,0.9902228285584357,0.9902228285584357],\"yaxis\":\"y4\"},{\"hovertemplate\":\"variable=recall<br>caller=gatk<br>dataset=%{x}<br>value=%{y}<extra></extra>\",\"legendgroup\":\"recall\",\"marker\":{\"color\":\"#636efa\",\"symbol\":\"circle\"},\"mode\":\"markers\",\"name\":\"recall\",\"orientation\":\"v\",\"showlegend\":false,\"type\":\"scatter\",\"x\":[5,10,15,20,30,40,50,60,70,80,90,100],\"xaxis\":\"x5\",\"y\":[0.8603910868576625,0.9786266484765803,0.987494315597999,0.988631195998181,0.9884038199181446,0.9888585720782174,0.9890859481582538,0.9893133242382901,0.9893133242382901,0.9895407003183265,0.9895407003183265,0.9895407003183265],\"yaxis\":\"y5\"},{\"hovertemplate\":\"variable=recall<br>caller=lancet<br>dataset=%{x}<br>value=%{y}<extra></extra>\",\"legendgroup\":\"recall\",\"marker\":{\"color\":\"#636efa\",\"symbol\":\"circle\"},\"mode\":\"markers\",\"name\":\"recall\",\"orientation\":\"v\",\"showlegend\":false,\"type\":\"scatter\",\"x\":[5,10,15,20,30,40,50,60,70,80,90,100],\"xaxis\":\"x6\",\"y\":[0.3758526603001364,0.8219645293315143,0.9477035015916325,0.9702137335152342,0.9729422464756707,0.9729422464756707,0.9736243747157799,0.9736243747157799,0.9736243747157799,0.9736243747157799,0.9740791268758526,0.9738517507958163],\"yaxis\":\"y6\"},{\"hovertemplate\":\"variable=recall<br>caller=vardict<br>dataset=%{x}<br>value=%{y}<extra></extra>\",\"legendgroup\":\"recall\",\"marker\":{\"color\":\"#636efa\",\"symbol\":\"circle\"},\"mode\":\"markers\",\"name\":\"recall\",\"orientation\":\"v\",\"showlegend\":false,\"type\":\"scatter\",\"x\":[5,10,15,20,30,40,50,60,70,80,90,100],\"xaxis\":\"x7\",\"y\":[0.8549340609367895,0.972487494315598,0.9854479308776717,0.9884038199181446,0.9890859481582538,0.9897680763983628,0.9897680763983628,0.9899954524783993,0.9899954524783993,0.9902228285584357,0.9902228285584357,0.9902228285584357],\"yaxis\":\"y7\"},{\"hovertemplate\":\"variable=precision<br>caller=bcftools<br>dataset=%{x}<br>value=%{y}<extra></extra>\",\"legendgroup\":\"precision\",\"marker\":{\"color\":\"#EF553B\",\"symbol\":\"circle\"},\"mode\":\"markers\",\"name\":\"precision\",\"orientation\":\"v\",\"showlegend\":true,\"type\":\"scatter\",\"x\":[5,10,15,20,30,40,50,60,70,80,90,100],\"xaxis\":\"x\",\"y\":[0.9804014167650531,0.998389694041868,0.9997701677775224,0.9997702733746842,0.9997703261368857,0.9997703788748565,1.0,1.0,1.0,1.0,0.999770484278173,0.999770484278173],\"yaxis\":\"y\"},{\"hovertemplate\":\"variable=precision<br>caller=deepvariant<br>dataset=%{x}<br>value=%{y}<extra></extra>\",\"legendgroup\":\"precision\",\"marker\":{\"color\":\"#EF553B\",\"symbol\":\"circle\"},\"mode\":\"markers\",\"name\":\"precision\",\"orientation\":\"v\",\"showlegend\":false,\"type\":\"scatter\",\"x\":[5,10,15,20,30,40,50,60,70,80,90,100],\"xaxis\":\"x2\",\"y\":[0.9956786985256736,0.9963065558633426,0.9979329352319706,0.9993108201240524,1.0,1.0,1.0,1.0,0.9997703788748565,0.9995409685563461,0.9995409685563461,0.9995409685563461],\"yaxis\":\"y2\"},{\"hovertemplate\":\"variable=precision<br>caller=discosnp<br>dataset=%{x}<br>value=%{y}<extra></extra>\",\"legendgroup\":\"precision\",\"marker\":{\"color\":\"#EF553B\",\"symbol\":\"circle\"},\"mode\":\"markers\",\"name\":\"precision\",\"orientation\":\"v\",\"showlegend\":false,\"type\":\"scatter\",\"x\":[5,10,15,20,30,40,50,60,70,80,90,100],\"xaxis\":\"x3\",\"y\":[0.9962178517397882,0.998402981101943,0.998324958123953,0.9985855728429985,0.9985882352941177,0.9985888993414863,0.9985888993414863,0.9985888993414863,0.9985888993414863,0.9985888993414863,0.9985888993414863,0.9985888993414863],\"yaxis\":\"y3\"},{\"hovertemplate\":\"variable=precision<br>caller=freebayes<br>dataset=%{x}<br>value=%{y}<extra></extra>\",\"legendgroup\":\"precision\",\"marker\":{\"color\":\"#EF553B\",\"symbol\":\"circle\"},\"mode\":\"markers\",\"name\":\"precision\",\"orientation\":\"v\",\"showlegend\":false,\"type\":\"scatter\",\"x\":[5,10,15,20,30,40,50,60,70,80,90,100],\"xaxis\":\"x4\",\"y\":[0.9994900560938297,1.0,1.0,1.0,1.0,0.9997703261368857,1.0,1.0,1.0,1.0,1.0,1.0],\"yaxis\":\"y4\"},{\"hovertemplate\":\"variable=precision<br>caller=gatk<br>dataset=%{x}<br>value=%{y}<extra></extra>\",\"legendgroup\":\"precision\",\"marker\":{\"color\":\"#EF553B\",\"symbol\":\"circle\"},\"mode\":\"markers\",\"name\":\"precision\",\"orientation\":\"v\",\"showlegend\":false,\"type\":\"scatter\",\"x\":[5,10,15,20,30,40,50,60,70,80,90,100],\"xaxis\":\"x5\",\"y\":[0.9989440337909187,0.9997677119628339,1.0,1.0,1.0,1.0,1.0,1.0,1.0,1.0,1.0,0.9997702733746842],\"yaxis\":\"y5\"},{\"hovertemplate\":\"variable=precision<br>caller=lancet<br>dataset=%{x}<br>value=%{y}<extra></extra>\",\"legendgroup\":\"precision\",\"marker\":{\"color\":\"#EF553B\",\"symbol\":\"circle\"},\"mode\":\"markers\",\"name\":\"precision\",\"orientation\":\"v\",\"showlegend\":false,\"type\":\"scatter\",\"x\":[5,10,15,20,30,40,50,60,70,80,90,100],\"xaxis\":\"x6\",\"y\":[1.0,1.0,1.0,1.0,1.0,1.0,1.0,1.0,1.0,1.0,1.0,1.0],\"yaxis\":\"y6\"},{\"hovertemplate\":\"variable=precision<br>caller=vardict<br>dataset=%{x}<br>value=%{y}<extra></extra>\",\"legendgroup\":\"precision\",\"marker\":{\"color\":\"#EF553B\",\"symbol\":\"circle\"},\"mode\":\"markers\",\"name\":\"precision\",\"orientation\":\"v\",\"showlegend\":false,\"type\":\"scatter\",\"x\":[5,10,15,20,30,40,50,60,70,80,90,100],\"xaxis\":\"x7\",\"y\":[1.0,0.9997662459093034,1.0,1.0,1.0,1.0,1.0,1.0,1.0,1.0,1.0,1.0],\"yaxis\":\"y7\"}],                        {\"annotations\":[{\"font\":{},\"showarrow\":false,\"text\":\"caller=bcftools\",\"x\":0.06285714285714285,\"xanchor\":\"center\",\"xref\":\"paper\",\"y\":1.0,\"yanchor\":\"bottom\",\"yref\":\"paper\"},{\"font\":{},\"showarrow\":false,\"text\":\"caller=deepvariant\",\"x\":0.20857142857142852,\"xanchor\":\"center\",\"xref\":\"paper\",\"y\":1.0,\"yanchor\":\"bottom\",\"yref\":\"paper\"},{\"font\":{},\"showarrow\":false,\"text\":\"caller=discosnp\",\"x\":0.3542857142857142,\"xanchor\":\"center\",\"xref\":\"paper\",\"y\":1.0,\"yanchor\":\"bottom\",\"yref\":\"paper\"},{\"font\":{},\"showarrow\":false,\"text\":\"caller=freebayes\",\"x\":0.5,\"xanchor\":\"center\",\"xref\":\"paper\",\"y\":1.0,\"yanchor\":\"bottom\",\"yref\":\"paper\"},{\"font\":{},\"showarrow\":false,\"text\":\"caller=gatk\",\"x\":0.6457142857142856,\"xanchor\":\"center\",\"xref\":\"paper\",\"y\":1.0,\"yanchor\":\"bottom\",\"yref\":\"paper\"},{\"font\":{},\"showarrow\":false,\"text\":\"caller=lancet\",\"x\":0.7914285714285713,\"xanchor\":\"center\",\"xref\":\"paper\",\"y\":1.0,\"yanchor\":\"bottom\",\"yref\":\"paper\"},{\"font\":{},\"showarrow\":false,\"text\":\"caller=vardict\",\"x\":0.9371428571428569,\"xanchor\":\"center\",\"xref\":\"paper\",\"y\":1.0,\"yanchor\":\"bottom\",\"yref\":\"paper\"}],\"legend\":{\"title\":{\"text\":\"variable\"},\"tracegroupgap\":0},\"margin\":{\"t\":60},\"template\":{\"data\":{\"bar\":[{\"error_x\":{\"color\":\"#2a3f5f\"},\"error_y\":{\"color\":\"#2a3f5f\"},\"marker\":{\"line\":{\"color\":\"#E5ECF6\",\"width\":0.5},\"pattern\":{\"fillmode\":\"overlay\",\"size\":10,\"solidity\":0.2}},\"type\":\"bar\"}],\"barpolar\":[{\"marker\":{\"line\":{\"color\":\"#E5ECF6\",\"width\":0.5},\"pattern\":{\"fillmode\":\"overlay\",\"size\":10,\"solidity\":0.2}},\"type\":\"barpolar\"}],\"carpet\":[{\"aaxis\":{\"endlinecolor\":\"#2a3f5f\",\"gridcolor\":\"white\",\"linecolor\":\"white\",\"minorgridcolor\":\"white\",\"startlinecolor\":\"#2a3f5f\"},\"baxis\":{\"endlinecolor\":\"#2a3f5f\",\"gridcolor\":\"white\",\"linecolor\":\"white\",\"minorgridcolor\":\"white\",\"startlinecolor\":\"#2a3f5f\"},\"type\":\"carpet\"}],\"choropleth\":[{\"colorbar\":{\"outlinewidth\":0,\"ticks\":\"\"},\"type\":\"choropleth\"}],\"contour\":[{\"colorbar\":{\"outlinewidth\":0,\"ticks\":\"\"},\"colorscale\":[[0.0,\"#0d0887\"],[0.1111111111111111,\"#46039f\"],[0.2222222222222222,\"#7201a8\"],[0.3333333333333333,\"#9c179e\"],[0.4444444444444444,\"#bd3786\"],[0.5555555555555556,\"#d8576b\"],[0.6666666666666666,\"#ed7953\"],[0.7777777777777778,\"#fb9f3a\"],[0.8888888888888888,\"#fdca26\"],[1.0,\"#f0f921\"]],\"type\":\"contour\"}],\"contourcarpet\":[{\"colorbar\":{\"outlinewidth\":0,\"ticks\":\"\"},\"type\":\"contourcarpet\"}],\"heatmap\":[{\"colorbar\":{\"outlinewidth\":0,\"ticks\":\"\"},\"colorscale\":[[0.0,\"#0d0887\"],[0.1111111111111111,\"#46039f\"],[0.2222222222222222,\"#7201a8\"],[0.3333333333333333,\"#9c179e\"],[0.4444444444444444,\"#bd3786\"],[0.5555555555555556,\"#d8576b\"],[0.6666666666666666,\"#ed7953\"],[0.7777777777777778,\"#fb9f3a\"],[0.8888888888888888,\"#fdca26\"],[1.0,\"#f0f921\"]],\"type\":\"heatmap\"}],\"heatmapgl\":[{\"colorbar\":{\"outlinewidth\":0,\"ticks\":\"\"},\"colorscale\":[[0.0,\"#0d0887\"],[0.1111111111111111,\"#46039f\"],[0.2222222222222222,\"#7201a8\"],[0.3333333333333333,\"#9c179e\"],[0.4444444444444444,\"#bd3786\"],[0.5555555555555556,\"#d8576b\"],[0.6666666666666666,\"#ed7953\"],[0.7777777777777778,\"#fb9f3a\"],[0.8888888888888888,\"#fdca26\"],[1.0,\"#f0f921\"]],\"type\":\"heatmapgl\"}],\"histogram\":[{\"marker\":{\"pattern\":{\"fillmode\":\"overlay\",\"size\":10,\"solidity\":0.2}},\"type\":\"histogram\"}],\"histogram2d\":[{\"colorbar\":{\"outlinewidth\":0,\"ticks\":\"\"},\"colorscale\":[[0.0,\"#0d0887\"],[0.1111111111111111,\"#46039f\"],[0.2222222222222222,\"#7201a8\"],[0.3333333333333333,\"#9c179e\"],[0.4444444444444444,\"#bd3786\"],[0.5555555555555556,\"#d8576b\"],[0.6666666666666666,\"#ed7953\"],[0.7777777777777778,\"#fb9f3a\"],[0.8888888888888888,\"#fdca26\"],[1.0,\"#f0f921\"]],\"type\":\"histogram2d\"}],\"histogram2dcontour\":[{\"colorbar\":{\"outlinewidth\":0,\"ticks\":\"\"},\"colorscale\":[[0.0,\"#0d0887\"],[0.1111111111111111,\"#46039f\"],[0.2222222222222222,\"#7201a8\"],[0.3333333333333333,\"#9c179e\"],[0.4444444444444444,\"#bd3786\"],[0.5555555555555556,\"#d8576b\"],[0.6666666666666666,\"#ed7953\"],[0.7777777777777778,\"#fb9f3a\"],[0.8888888888888888,\"#fdca26\"],[1.0,\"#f0f921\"]],\"type\":\"histogram2dcontour\"}],\"mesh3d\":[{\"colorbar\":{\"outlinewidth\":0,\"ticks\":\"\"},\"type\":\"mesh3d\"}],\"parcoords\":[{\"line\":{\"colorbar\":{\"outlinewidth\":0,\"ticks\":\"\"}},\"type\":\"parcoords\"}],\"pie\":[{\"automargin\":true,\"type\":\"pie\"}],\"scatter\":[{\"marker\":{\"colorbar\":{\"outlinewidth\":0,\"ticks\":\"\"}},\"type\":\"scatter\"}],\"scatter3d\":[{\"line\":{\"colorbar\":{\"outlinewidth\":0,\"ticks\":\"\"}},\"marker\":{\"colorbar\":{\"outlinewidth\":0,\"ticks\":\"\"}},\"type\":\"scatter3d\"}],\"scattercarpet\":[{\"marker\":{\"colorbar\":{\"outlinewidth\":0,\"ticks\":\"\"}},\"type\":\"scattercarpet\"}],\"scattergeo\":[{\"marker\":{\"colorbar\":{\"outlinewidth\":0,\"ticks\":\"\"}},\"type\":\"scattergeo\"}],\"scattergl\":[{\"marker\":{\"colorbar\":{\"outlinewidth\":0,\"ticks\":\"\"}},\"type\":\"scattergl\"}],\"scattermapbox\":[{\"marker\":{\"colorbar\":{\"outlinewidth\":0,\"ticks\":\"\"}},\"type\":\"scattermapbox\"}],\"scatterpolar\":[{\"marker\":{\"colorbar\":{\"outlinewidth\":0,\"ticks\":\"\"}},\"type\":\"scatterpolar\"}],\"scatterpolargl\":[{\"marker\":{\"colorbar\":{\"outlinewidth\":0,\"ticks\":\"\"}},\"type\":\"scatterpolargl\"}],\"scatterternary\":[{\"marker\":{\"colorbar\":{\"outlinewidth\":0,\"ticks\":\"\"}},\"type\":\"scatterternary\"}],\"surface\":[{\"colorbar\":{\"outlinewidth\":0,\"ticks\":\"\"},\"colorscale\":[[0.0,\"#0d0887\"],[0.1111111111111111,\"#46039f\"],[0.2222222222222222,\"#7201a8\"],[0.3333333333333333,\"#9c179e\"],[0.4444444444444444,\"#bd3786\"],[0.5555555555555556,\"#d8576b\"],[0.6666666666666666,\"#ed7953\"],[0.7777777777777778,\"#fb9f3a\"],[0.8888888888888888,\"#fdca26\"],[1.0,\"#f0f921\"]],\"type\":\"surface\"}],\"table\":[{\"cells\":{\"fill\":{\"color\":\"#EBF0F8\"},\"line\":{\"color\":\"white\"}},\"header\":{\"fill\":{\"color\":\"#C8D4E3\"},\"line\":{\"color\":\"white\"}},\"type\":\"table\"}]},\"layout\":{\"annotationdefaults\":{\"arrowcolor\":\"#2a3f5f\",\"arrowhead\":0,\"arrowwidth\":1},\"autotypenumbers\":\"strict\",\"coloraxis\":{\"colorbar\":{\"outlinewidth\":0,\"ticks\":\"\"}},\"colorscale\":{\"diverging\":[[0,\"#8e0152\"],[0.1,\"#c51b7d\"],[0.2,\"#de77ae\"],[0.3,\"#f1b6da\"],[0.4,\"#fde0ef\"],[0.5,\"#f7f7f7\"],[0.6,\"#e6f5d0\"],[0.7,\"#b8e186\"],[0.8,\"#7fbc41\"],[0.9,\"#4d9221\"],[1,\"#276419\"]],\"sequential\":[[0.0,\"#0d0887\"],[0.1111111111111111,\"#46039f\"],[0.2222222222222222,\"#7201a8\"],[0.3333333333333333,\"#9c179e\"],[0.4444444444444444,\"#bd3786\"],[0.5555555555555556,\"#d8576b\"],[0.6666666666666666,\"#ed7953\"],[0.7777777777777778,\"#fb9f3a\"],[0.8888888888888888,\"#fdca26\"],[1.0,\"#f0f921\"]],\"sequentialminus\":[[0.0,\"#0d0887\"],[0.1111111111111111,\"#46039f\"],[0.2222222222222222,\"#7201a8\"],[0.3333333333333333,\"#9c179e\"],[0.4444444444444444,\"#bd3786\"],[0.5555555555555556,\"#d8576b\"],[0.6666666666666666,\"#ed7953\"],[0.7777777777777778,\"#fb9f3a\"],[0.8888888888888888,\"#fdca26\"],[1.0,\"#f0f921\"]]},\"colorway\":[\"#636efa\",\"#EF553B\",\"#00cc96\",\"#ab63fa\",\"#FFA15A\",\"#19d3f3\",\"#FF6692\",\"#B6E880\",\"#FF97FF\",\"#FECB52\"],\"font\":{\"color\":\"#2a3f5f\"},\"geo\":{\"bgcolor\":\"white\",\"lakecolor\":\"white\",\"landcolor\":\"#E5ECF6\",\"showlakes\":true,\"showland\":true,\"subunitcolor\":\"white\"},\"hoverlabel\":{\"align\":\"left\"},\"hovermode\":\"closest\",\"mapbox\":{\"style\":\"light\"},\"paper_bgcolor\":\"white\",\"plot_bgcolor\":\"#E5ECF6\",\"polar\":{\"angularaxis\":{\"gridcolor\":\"white\",\"linecolor\":\"white\",\"ticks\":\"\"},\"bgcolor\":\"#E5ECF6\",\"radialaxis\":{\"gridcolor\":\"white\",\"linecolor\":\"white\",\"ticks\":\"\"}},\"scene\":{\"xaxis\":{\"backgroundcolor\":\"#E5ECF6\",\"gridcolor\":\"white\",\"gridwidth\":2,\"linecolor\":\"white\",\"showbackground\":true,\"ticks\":\"\",\"zerolinecolor\":\"white\"},\"yaxis\":{\"backgroundcolor\":\"#E5ECF6\",\"gridcolor\":\"white\",\"gridwidth\":2,\"linecolor\":\"white\",\"showbackground\":true,\"ticks\":\"\",\"zerolinecolor\":\"white\"},\"zaxis\":{\"backgroundcolor\":\"#E5ECF6\",\"gridcolor\":\"white\",\"gridwidth\":2,\"linecolor\":\"white\",\"showbackground\":true,\"ticks\":\"\",\"zerolinecolor\":\"white\"}},\"shapedefaults\":{\"line\":{\"color\":\"#2a3f5f\"}},\"ternary\":{\"aaxis\":{\"gridcolor\":\"white\",\"linecolor\":\"white\",\"ticks\":\"\"},\"baxis\":{\"gridcolor\":\"white\",\"linecolor\":\"white\",\"ticks\":\"\"},\"bgcolor\":\"#E5ECF6\",\"caxis\":{\"gridcolor\":\"white\",\"linecolor\":\"white\",\"ticks\":\"\"}},\"title\":{\"x\":0.05},\"xaxis\":{\"automargin\":true,\"gridcolor\":\"white\",\"linecolor\":\"white\",\"ticks\":\"\",\"title\":{\"standoff\":15},\"zerolinecolor\":\"white\",\"zerolinewidth\":2},\"yaxis\":{\"automargin\":true,\"gridcolor\":\"white\",\"linecolor\":\"white\",\"ticks\":\"\",\"title\":{\"standoff\":15},\"zerolinecolor\":\"white\",\"zerolinewidth\":2}}},\"xaxis\":{\"anchor\":\"y\",\"domain\":[0.0,0.1257142857142857],\"title\":{\"text\":\"dataset\"}},\"xaxis2\":{\"anchor\":\"y2\",\"domain\":[0.14571428571428569,0.27142857142857135],\"matches\":\"x\",\"title\":{\"text\":\"dataset\"}},\"xaxis3\":{\"anchor\":\"y3\",\"domain\":[0.29142857142857137,0.41714285714285704],\"matches\":\"x\",\"title\":{\"text\":\"dataset\"}},\"xaxis4\":{\"anchor\":\"y4\",\"domain\":[0.4371428571428571,0.5628571428571428],\"matches\":\"x\",\"title\":{\"text\":\"dataset\"}},\"xaxis5\":{\"anchor\":\"y5\",\"domain\":[0.5828571428571427,0.7085714285714284],\"matches\":\"x\",\"title\":{\"text\":\"dataset\"}},\"xaxis6\":{\"anchor\":\"y6\",\"domain\":[0.7285714285714284,0.8542857142857141],\"matches\":\"x\",\"title\":{\"text\":\"dataset\"}},\"xaxis7\":{\"anchor\":\"y7\",\"domain\":[0.8742857142857141,0.9999999999999998],\"matches\":\"x\",\"title\":{\"text\":\"dataset\"}},\"yaxis\":{\"anchor\":\"x\",\"domain\":[0.0,1.0],\"title\":{\"text\":\"value\"}},\"yaxis2\":{\"anchor\":\"x2\",\"domain\":[0.0,1.0],\"matches\":\"y\",\"showticklabels\":false},\"yaxis3\":{\"anchor\":\"x3\",\"domain\":[0.0,1.0],\"matches\":\"y\",\"showticklabels\":false},\"yaxis4\":{\"anchor\":\"x4\",\"domain\":[0.0,1.0],\"matches\":\"y\",\"showticklabels\":false},\"yaxis5\":{\"anchor\":\"x5\",\"domain\":[0.0,1.0],\"matches\":\"y\",\"showticklabels\":false},\"yaxis6\":{\"anchor\":\"x6\",\"domain\":[0.0,1.0],\"matches\":\"y\",\"showticklabels\":false},\"yaxis7\":{\"anchor\":\"x7\",\"domain\":[0.0,1.0],\"matches\":\"y\",\"showticklabels\":false}},                        {\"responsive\": true}                    ).then(function(){\n",
       "                            \n",
       "var gd = document.getElementById('fb0429fc-54e4-4933-8a2f-f145e3e80c41');\n",
       "var x = new MutationObserver(function (mutations, observer) {{\n",
       "        var display = window.getComputedStyle(gd).display;\n",
       "        if (!display || display === 'none') {{\n",
       "            console.log([gd, 'removed!']);\n",
       "            Plotly.purge(gd);\n",
       "            observer.disconnect();\n",
       "        }}\n",
       "}});\n",
       "\n",
       "// Listen for the removal of the full notebook cells\n",
       "var notebookContainer = gd.closest('#notebook-container');\n",
       "if (notebookContainer) {{\n",
       "    x.observe(notebookContainer, {childList: true});\n",
       "}}\n",
       "\n",
       "// Listen for the clearing of the current output cell\n",
       "var outputEl = gd.closest('.output');\n",
       "if (outputEl) {{\n",
       "    x.observe(outputEl, {childList: true});\n",
       "}}\n",
       "\n",
       "                        })                };                });            </script>        </div>"
      ]
     },
     "metadata": {},
     "output_type": "display_data"
    }
   ],
   "source": [
    "# Plot \n",
    "combinedsnpreads['dataset'] = pd.to_numeric(combinedsnpreads['dataset'], downcast='integer', errors='coerce')\n",
    "fig = px.scatter(combinedsnpreads, x='dataset', y=['recall', 'precision'], facet_col='caller', \n",
    "                 category_orders={'caller': ['bcftools', 'deepvariant', 'discosnp', 'freebayes', \n",
    "                                             'gatk', 'lancet', 'vardict']})\n",
    "fig"
   ]
  },
  {
   "cell_type": "markdown",
   "id": "3948436f-7f4e-49d5-bb18-281473d2e3c3",
   "metadata": {},
   "source": [
    "### INS only\n",
    "**'dataset'** on the x-axis refers to downsampled coverages: 5x, 10x, 15x, 20x, 30x, 40x, 50x, 60x, 70x, 80, 90x. These are downsampled with `head -n [number of reads*4]` from the original 100x datasets."
   ]
  },
  {
   "cell_type": "code",
   "execution_count": 12,
   "id": "97e90c46-6341-4bf9-9594-1ec2de1ad19e",
   "metadata": {},
   "outputs": [
    {
     "data": {
      "application/vnd.plotly.v1+json": {
       "config": {
        "plotlyServerURL": "https://plot.ly"
       },
       "data": [
        {
         "hovertemplate": "variable=recall<br>caller=bcftools<br>dataset=%{x}<br>value=%{y}<extra></extra>",
         "legendgroup": "recall",
         "marker": {
          "color": "#636efa",
          "symbol": "circle"
         },
         "mode": "markers",
         "name": "recall",
         "orientation": "v",
         "showlegend": true,
         "type": "scatter",
         "x": [
          5,
          10,
          15,
          20,
          30,
          40,
          50,
          60,
          70,
          80,
          90,
          100
         ],
         "xaxis": "x",
         "y": [
          0.4287369640787949,
          0.6085747392815759,
          0.6762456546929316,
          0.7066048667439165,
          0.7409038238702201,
          0.756199304750869,
          0.7640787949015063,
          0.7659327925840093,
          0.7712630359212052,
          0.7728852838933952,
          0.7738122827346465,
          0.7738122827346465
         ],
         "yaxis": "y"
        },
        {
         "hovertemplate": "variable=recall<br>caller=deepvariant<br>dataset=%{x}<br>value=%{y}<extra></extra>",
         "legendgroup": "recall",
         "marker": {
          "color": "#636efa",
          "symbol": "circle"
         },
         "mode": "markers",
         "name": "recall",
         "orientation": "v",
         "showlegend": false,
         "type": "scatter",
         "x": [
          5,
          10,
          15,
          20,
          30,
          40,
          50,
          60,
          70,
          80,
          90,
          100
         ],
         "xaxis": "x2",
         "y": [
          0.5719582850521436,
          0.8349942062572422,
          0.9223638470451911,
          0.959675550405562,
          0.9789107763615296,
          0.9826187717265353,
          0.9835457705677868,
          0.9830822711471611,
          0.9826187717265353,
          0.9812282734646581,
          0.9809965237543453,
          0.9826187717265353
         ],
         "yaxis": "y2"
        },
        {
         "hovertemplate": "variable=recall<br>caller=discosnp<br>dataset=%{x}<br>value=%{y}<extra></extra>",
         "legendgroup": "recall",
         "marker": {
          "color": "#636efa",
          "symbol": "circle"
         },
         "mode": "markers",
         "name": "recall",
         "orientation": "v",
         "showlegend": false,
         "type": "scatter",
         "x": [
          5,
          10,
          15,
          20,
          30,
          40,
          50,
          60,
          70,
          80,
          90,
          100
         ],
         "xaxis": "x3",
         "y": [
          0.09385863267670916,
          0.2831981460023175,
          0.3212050984936269,
          0.2551564310544612,
          0.3283893395133256,
          0.3290845886442642,
          0.3290845886442642,
          0.3290845886442642,
          0.3290845886442642,
          0.3290845886442642,
          0.32885283893395134,
          0.32885283893395134
         ],
         "yaxis": "y3"
        },
        {
         "hovertemplate": "variable=recall<br>caller=freebayes<br>dataset=%{x}<br>value=%{y}<extra></extra>",
         "legendgroup": "recall",
         "marker": {
          "color": "#636efa",
          "symbol": "circle"
         },
         "mode": "markers",
         "name": "recall",
         "orientation": "v",
         "showlegend": false,
         "type": "scatter",
         "x": [
          5,
          10,
          15,
          20,
          30,
          40,
          50,
          60,
          70,
          80,
          90,
          100
         ],
         "xaxis": "x4",
         "y": [
          0.3976825028968714,
          0.5453070683661645,
          0.5812282734646582,
          0.5860950173812283,
          0.5888760139049826,
          0.5877172653534183,
          0.5925840092699884,
          0.5928157589803013,
          0.5928157589803013,
          0.5935110081112399,
          0.5925840092699884,
          0.5918887601390498
         ],
         "yaxis": "y4"
        },
        {
         "hovertemplate": "variable=recall<br>caller=gatk<br>dataset=%{x}<br>value=%{y}<extra></extra>",
         "legendgroup": "recall",
         "marker": {
          "color": "#636efa",
          "symbol": "circle"
         },
         "mode": "markers",
         "name": "recall",
         "orientation": "v",
         "showlegend": false,
         "type": "scatter",
         "x": [
          5,
          10,
          15,
          20,
          30,
          40,
          50,
          60,
          70,
          80,
          90,
          100
         ],
         "xaxis": "x5",
         "y": [
          0.6614136732329085,
          0.8971031286210892,
          0.959675550405562,
          0.9745075318655851,
          0.9826187717265353,
          0.9842410196987254,
          0.9847045191193511,
          0.9847045191193511,
          0.984936268829664,
          0.984936268829664,
          0.9851680185399768,
          0.9851680185399768
         ],
         "yaxis": "y5"
        },
        {
         "hovertemplate": "variable=recall<br>caller=lancet<br>dataset=%{x}<br>value=%{y}<extra></extra>",
         "legendgroup": "recall",
         "marker": {
          "color": "#636efa",
          "symbol": "circle"
         },
         "mode": "markers",
         "name": "recall",
         "orientation": "v",
         "showlegend": false,
         "type": "scatter",
         "x": [
          5,
          10,
          15,
          20,
          30,
          40,
          50,
          60,
          70,
          80,
          90,
          100
         ],
         "xaxis": "x6",
         "y": [
          0.1186558516801854,
          0.4060254924681344,
          0.6146002317497103,
          0.7216685979142526,
          0.8062572421784473,
          0.8451911935110081,
          0.8683661645422943,
          0.8813441483198146,
          0.892468134414832,
          0.8994206257242179,
          0.9001158748551564,
          0.9028968713789107
         ],
         "yaxis": "y6"
        },
        {
         "hovertemplate": "variable=recall<br>caller=vardict<br>dataset=%{x}<br>value=%{y}<extra></extra>",
         "legendgroup": "recall",
         "marker": {
          "color": "#636efa",
          "symbol": "circle"
         },
         "mode": "markers",
         "name": "recall",
         "orientation": "v",
         "showlegend": false,
         "type": "scatter",
         "x": [
          5,
          10,
          15,
          20,
          30,
          40,
          50,
          60,
          70,
          80,
          90,
          100
         ],
         "xaxis": "x7",
         "y": [
          0.7469293163383546,
          0.8968713789107764,
          0.9232908458864426,
          0.9316338354577057,
          0.9402085747392815,
          0.941135573580533,
          0.9432213209733488,
          0.9436848203939745,
          0.9448435689455388,
          0.9439165701042874,
          0.9422943221320973,
          0.9432213209733488
         ],
         "yaxis": "y7"
        },
        {
         "hovertemplate": "variable=precision<br>caller=bcftools<br>dataset=%{x}<br>value=%{y}<extra></extra>",
         "legendgroup": "precision",
         "marker": {
          "color": "#EF553B",
          "symbol": "circle"
         },
         "mode": "markers",
         "name": "precision",
         "orientation": "v",
         "showlegend": true,
         "type": "scatter",
         "x": [
          5,
          10,
          15,
          20,
          30,
          40,
          50,
          60,
          70,
          80,
          90,
          100
         ],
         "xaxis": "x",
         "y": [
          0.9226932668329177,
          0.9787551248602311,
          0.9874788494077834,
          0.9902565768106528,
          0.9944012441679627,
          0.9948170731707318,
          0.9960725075528701,
          0.9966827503015682,
          0.9967056004791854,
          0.9970104633781763,
          0.9967164179104477,
          0.997014034040012
         ],
         "yaxis": "y"
        },
        {
         "hovertemplate": "variable=precision<br>caller=deepvariant<br>dataset=%{x}<br>value=%{y}<extra></extra>",
         "legendgroup": "precision",
         "marker": {
          "color": "#EF553B",
          "symbol": "circle"
         },
         "mode": "markers",
         "name": "precision",
         "orientation": "v",
         "showlegend": false,
         "type": "scatter",
         "x": [
          5,
          10,
          15,
          20,
          30,
          40,
          50,
          60,
          70,
          80,
          90,
          100
         ],
         "xaxis": "x2",
         "y": [
          0.9774257425742574,
          0.9922886257229413,
          0.995,
          0.9973506743737958,
          0.998109640831758,
          0.9988221436984688,
          0.998823252530007,
          0.9988226983753238,
          0.9990574929311969,
          0.9988204765274828,
          0.9990559358036346,
          0.9992929530992223
         ],
         "yaxis": "y2"
        },
        {
         "hovertemplate": "variable=precision<br>caller=discosnp<br>dataset=%{x}<br>value=%{y}<extra></extra>",
         "legendgroup": "precision",
         "marker": {
          "color": "#EF553B",
          "symbol": "circle"
         },
         "mode": "markers",
         "name": "precision",
         "orientation": "v",
         "showlegend": false,
         "type": "scatter",
         "x": [
          5,
          10,
          15,
          20,
          30,
          40,
          50,
          60,
          70,
          80,
          90,
          100
         ],
         "xaxis": "x3",
         "y": [
          0.9902200488997555,
          0.995114006514658,
          0.994261119081779,
          0.9990925589836661,
          0.9950842696629213,
          0.9950946040644709,
          0.9950946040644709,
          0.9950946040644709,
          0.9950946040644709,
          0.9957924263674615,
          0.9957894736842106,
          0.9957894736842106
         ],
         "yaxis": "y3"
        },
        {
         "hovertemplate": "variable=precision<br>caller=freebayes<br>dataset=%{x}<br>value=%{y}<extra></extra>",
         "legendgroup": "precision",
         "marker": {
          "color": "#EF553B",
          "symbol": "circle"
         },
         "mode": "markers",
         "name": "precision",
         "orientation": "v",
         "showlegend": false,
         "type": "scatter",
         "x": [
          5,
          10,
          15,
          20,
          30,
          40,
          50,
          60,
          70,
          80,
          90,
          100
         ],
         "xaxis": "x4",
         "y": [
          0.988479262672811,
          0.9940853400929447,
          0.9964243146603099,
          0.9968466692944422,
          0.9968615143193409,
          0.997639653815893,
          0.998048399687744,
          0.9968823070927514,
          0.9964939618231399,
          0.9964980544747082,
          0.9964925954793453,
          0.9968774395003903
         ],
         "yaxis": "y4"
        },
        {
         "hovertemplate": "variable=precision<br>caller=gatk<br>dataset=%{x}<br>value=%{y}<extra></extra>",
         "legendgroup": "precision",
         "marker": {
          "color": "#EF553B",
          "symbol": "circle"
         },
         "mode": "markers",
         "name": "precision",
         "orientation": "v",
         "showlegend": false,
         "type": "scatter",
         "x": [
          5,
          10,
          15,
          20,
          30,
          40,
          50,
          60,
          70,
          80,
          90,
          100
         ],
         "xaxis": "x5",
         "y": [
          0.9868603042876902,
          0.994348831235551,
          0.9961510704835218,
          0.9976275207591934,
          0.9983517777254532,
          0.9978853383458647,
          0.9969497888315345,
          0.9964821763602252,
          0.9964830011723329,
          0.9962494139709329,
          0.9967174677608441,
          0.9967174677608441
         ],
         "yaxis": "y5"
        },
        {
         "hovertemplate": "variable=precision<br>caller=lancet<br>dataset=%{x}<br>value=%{y}<extra></extra>",
         "legendgroup": "precision",
         "marker": {
          "color": "#EF553B",
          "symbol": "circle"
         },
         "mode": "markers",
         "name": "precision",
         "orientation": "v",
         "showlegend": false,
         "type": "scatter",
         "x": [
          5,
          10,
          15,
          20,
          30,
          40,
          50,
          60,
          70,
          80,
          90,
          100
         ],
         "xaxis": "x6",
         "y": [
          0.9980506822612085,
          0.9977220956719818,
          0.9966178128523112,
          0.9967989756722151,
          0.99713384924047,
          0.9969928922908693,
          0.9965425531914893,
          0.9960712414876899,
          0.9930376482723053,
          0.9930910951893551,
          0.9961528597076174,
          0.9974398361495136
         ],
         "yaxis": "y6"
        },
        {
         "hovertemplate": "variable=precision<br>caller=vardict<br>dataset=%{x}<br>value=%{y}<extra></extra>",
         "legendgroup": "precision",
         "marker": {
          "color": "#EF553B",
          "symbol": "circle"
         },
         "mode": "markers",
         "name": "precision",
         "orientation": "v",
         "showlegend": false,
         "type": "scatter",
         "x": [
          5,
          10,
          15,
          20,
          30,
          40,
          50,
          60,
          70,
          80,
          90,
          100
         ],
         "xaxis": "x7",
         "y": [
          0.9344737605102929,
          0.9249521988527725,
          0.9207302981280333,
          0.9082693176683235,
          0.8852280165830242,
          0.8504712041884817,
          0.8267316676823075,
          0.8025226645644462,
          0.7761279268989149,
          0.7563602599814299,
          0.7347307553306831,
          0.7136594774679993
         ],
         "yaxis": "y7"
        }
       ],
       "layout": {
        "annotations": [
         {
          "font": {},
          "showarrow": false,
          "text": "caller=bcftools",
          "x": 0.06285714285714285,
          "xanchor": "center",
          "xref": "paper",
          "y": 1,
          "yanchor": "bottom",
          "yref": "paper"
         },
         {
          "font": {},
          "showarrow": false,
          "text": "caller=deepvariant",
          "x": 0.20857142857142852,
          "xanchor": "center",
          "xref": "paper",
          "y": 1,
          "yanchor": "bottom",
          "yref": "paper"
         },
         {
          "font": {},
          "showarrow": false,
          "text": "caller=discosnp",
          "x": 0.3542857142857142,
          "xanchor": "center",
          "xref": "paper",
          "y": 1,
          "yanchor": "bottom",
          "yref": "paper"
         },
         {
          "font": {},
          "showarrow": false,
          "text": "caller=freebayes",
          "x": 0.5,
          "xanchor": "center",
          "xref": "paper",
          "y": 1,
          "yanchor": "bottom",
          "yref": "paper"
         },
         {
          "font": {},
          "showarrow": false,
          "text": "caller=gatk",
          "x": 0.6457142857142856,
          "xanchor": "center",
          "xref": "paper",
          "y": 1,
          "yanchor": "bottom",
          "yref": "paper"
         },
         {
          "font": {},
          "showarrow": false,
          "text": "caller=lancet",
          "x": 0.7914285714285713,
          "xanchor": "center",
          "xref": "paper",
          "y": 1,
          "yanchor": "bottom",
          "yref": "paper"
         },
         {
          "font": {},
          "showarrow": false,
          "text": "caller=vardict",
          "x": 0.9371428571428569,
          "xanchor": "center",
          "xref": "paper",
          "y": 1,
          "yanchor": "bottom",
          "yref": "paper"
         }
        ],
        "autosize": true,
        "legend": {
         "title": {
          "text": "variable"
         },
         "tracegroupgap": 0
        },
        "margin": {
         "t": 60
        },
        "template": {
         "data": {
          "bar": [
           {
            "error_x": {
             "color": "#2a3f5f"
            },
            "error_y": {
             "color": "#2a3f5f"
            },
            "marker": {
             "line": {
              "color": "#E5ECF6",
              "width": 0.5
             },
             "pattern": {
              "fillmode": "overlay",
              "size": 10,
              "solidity": 0.2
             }
            },
            "type": "bar"
           }
          ],
          "barpolar": [
           {
            "marker": {
             "line": {
              "color": "#E5ECF6",
              "width": 0.5
             },
             "pattern": {
              "fillmode": "overlay",
              "size": 10,
              "solidity": 0.2
             }
            },
            "type": "barpolar"
           }
          ],
          "carpet": [
           {
            "aaxis": {
             "endlinecolor": "#2a3f5f",
             "gridcolor": "white",
             "linecolor": "white",
             "minorgridcolor": "white",
             "startlinecolor": "#2a3f5f"
            },
            "baxis": {
             "endlinecolor": "#2a3f5f",
             "gridcolor": "white",
             "linecolor": "white",
             "minorgridcolor": "white",
             "startlinecolor": "#2a3f5f"
            },
            "type": "carpet"
           }
          ],
          "choropleth": [
           {
            "colorbar": {
             "outlinewidth": 0,
             "ticks": ""
            },
            "type": "choropleth"
           }
          ],
          "contour": [
           {
            "colorbar": {
             "outlinewidth": 0,
             "ticks": ""
            },
            "colorscale": [
             [
              0,
              "#0d0887"
             ],
             [
              0.1111111111111111,
              "#46039f"
             ],
             [
              0.2222222222222222,
              "#7201a8"
             ],
             [
              0.3333333333333333,
              "#9c179e"
             ],
             [
              0.4444444444444444,
              "#bd3786"
             ],
             [
              0.5555555555555556,
              "#d8576b"
             ],
             [
              0.6666666666666666,
              "#ed7953"
             ],
             [
              0.7777777777777778,
              "#fb9f3a"
             ],
             [
              0.8888888888888888,
              "#fdca26"
             ],
             [
              1,
              "#f0f921"
             ]
            ],
            "type": "contour"
           }
          ],
          "contourcarpet": [
           {
            "colorbar": {
             "outlinewidth": 0,
             "ticks": ""
            },
            "type": "contourcarpet"
           }
          ],
          "heatmap": [
           {
            "colorbar": {
             "outlinewidth": 0,
             "ticks": ""
            },
            "colorscale": [
             [
              0,
              "#0d0887"
             ],
             [
              0.1111111111111111,
              "#46039f"
             ],
             [
              0.2222222222222222,
              "#7201a8"
             ],
             [
              0.3333333333333333,
              "#9c179e"
             ],
             [
              0.4444444444444444,
              "#bd3786"
             ],
             [
              0.5555555555555556,
              "#d8576b"
             ],
             [
              0.6666666666666666,
              "#ed7953"
             ],
             [
              0.7777777777777778,
              "#fb9f3a"
             ],
             [
              0.8888888888888888,
              "#fdca26"
             ],
             [
              1,
              "#f0f921"
             ]
            ],
            "type": "heatmap"
           }
          ],
          "heatmapgl": [
           {
            "colorbar": {
             "outlinewidth": 0,
             "ticks": ""
            },
            "colorscale": [
             [
              0,
              "#0d0887"
             ],
             [
              0.1111111111111111,
              "#46039f"
             ],
             [
              0.2222222222222222,
              "#7201a8"
             ],
             [
              0.3333333333333333,
              "#9c179e"
             ],
             [
              0.4444444444444444,
              "#bd3786"
             ],
             [
              0.5555555555555556,
              "#d8576b"
             ],
             [
              0.6666666666666666,
              "#ed7953"
             ],
             [
              0.7777777777777778,
              "#fb9f3a"
             ],
             [
              0.8888888888888888,
              "#fdca26"
             ],
             [
              1,
              "#f0f921"
             ]
            ],
            "type": "heatmapgl"
           }
          ],
          "histogram": [
           {
            "marker": {
             "pattern": {
              "fillmode": "overlay",
              "size": 10,
              "solidity": 0.2
             }
            },
            "type": "histogram"
           }
          ],
          "histogram2d": [
           {
            "colorbar": {
             "outlinewidth": 0,
             "ticks": ""
            },
            "colorscale": [
             [
              0,
              "#0d0887"
             ],
             [
              0.1111111111111111,
              "#46039f"
             ],
             [
              0.2222222222222222,
              "#7201a8"
             ],
             [
              0.3333333333333333,
              "#9c179e"
             ],
             [
              0.4444444444444444,
              "#bd3786"
             ],
             [
              0.5555555555555556,
              "#d8576b"
             ],
             [
              0.6666666666666666,
              "#ed7953"
             ],
             [
              0.7777777777777778,
              "#fb9f3a"
             ],
             [
              0.8888888888888888,
              "#fdca26"
             ],
             [
              1,
              "#f0f921"
             ]
            ],
            "type": "histogram2d"
           }
          ],
          "histogram2dcontour": [
           {
            "colorbar": {
             "outlinewidth": 0,
             "ticks": ""
            },
            "colorscale": [
             [
              0,
              "#0d0887"
             ],
             [
              0.1111111111111111,
              "#46039f"
             ],
             [
              0.2222222222222222,
              "#7201a8"
             ],
             [
              0.3333333333333333,
              "#9c179e"
             ],
             [
              0.4444444444444444,
              "#bd3786"
             ],
             [
              0.5555555555555556,
              "#d8576b"
             ],
             [
              0.6666666666666666,
              "#ed7953"
             ],
             [
              0.7777777777777778,
              "#fb9f3a"
             ],
             [
              0.8888888888888888,
              "#fdca26"
             ],
             [
              1,
              "#f0f921"
             ]
            ],
            "type": "histogram2dcontour"
           }
          ],
          "mesh3d": [
           {
            "colorbar": {
             "outlinewidth": 0,
             "ticks": ""
            },
            "type": "mesh3d"
           }
          ],
          "parcoords": [
           {
            "line": {
             "colorbar": {
              "outlinewidth": 0,
              "ticks": ""
             }
            },
            "type": "parcoords"
           }
          ],
          "pie": [
           {
            "automargin": true,
            "type": "pie"
           }
          ],
          "scatter": [
           {
            "marker": {
             "colorbar": {
              "outlinewidth": 0,
              "ticks": ""
             }
            },
            "type": "scatter"
           }
          ],
          "scatter3d": [
           {
            "line": {
             "colorbar": {
              "outlinewidth": 0,
              "ticks": ""
             }
            },
            "marker": {
             "colorbar": {
              "outlinewidth": 0,
              "ticks": ""
             }
            },
            "type": "scatter3d"
           }
          ],
          "scattercarpet": [
           {
            "marker": {
             "colorbar": {
              "outlinewidth": 0,
              "ticks": ""
             }
            },
            "type": "scattercarpet"
           }
          ],
          "scattergeo": [
           {
            "marker": {
             "colorbar": {
              "outlinewidth": 0,
              "ticks": ""
             }
            },
            "type": "scattergeo"
           }
          ],
          "scattergl": [
           {
            "marker": {
             "colorbar": {
              "outlinewidth": 0,
              "ticks": ""
             }
            },
            "type": "scattergl"
           }
          ],
          "scattermapbox": [
           {
            "marker": {
             "colorbar": {
              "outlinewidth": 0,
              "ticks": ""
             }
            },
            "type": "scattermapbox"
           }
          ],
          "scatterpolar": [
           {
            "marker": {
             "colorbar": {
              "outlinewidth": 0,
              "ticks": ""
             }
            },
            "type": "scatterpolar"
           }
          ],
          "scatterpolargl": [
           {
            "marker": {
             "colorbar": {
              "outlinewidth": 0,
              "ticks": ""
             }
            },
            "type": "scatterpolargl"
           }
          ],
          "scatterternary": [
           {
            "marker": {
             "colorbar": {
              "outlinewidth": 0,
              "ticks": ""
             }
            },
            "type": "scatterternary"
           }
          ],
          "surface": [
           {
            "colorbar": {
             "outlinewidth": 0,
             "ticks": ""
            },
            "colorscale": [
             [
              0,
              "#0d0887"
             ],
             [
              0.1111111111111111,
              "#46039f"
             ],
             [
              0.2222222222222222,
              "#7201a8"
             ],
             [
              0.3333333333333333,
              "#9c179e"
             ],
             [
              0.4444444444444444,
              "#bd3786"
             ],
             [
              0.5555555555555556,
              "#d8576b"
             ],
             [
              0.6666666666666666,
              "#ed7953"
             ],
             [
              0.7777777777777778,
              "#fb9f3a"
             ],
             [
              0.8888888888888888,
              "#fdca26"
             ],
             [
              1,
              "#f0f921"
             ]
            ],
            "type": "surface"
           }
          ],
          "table": [
           {
            "cells": {
             "fill": {
              "color": "#EBF0F8"
             },
             "line": {
              "color": "white"
             }
            },
            "header": {
             "fill": {
              "color": "#C8D4E3"
             },
             "line": {
              "color": "white"
             }
            },
            "type": "table"
           }
          ]
         },
         "layout": {
          "annotationdefaults": {
           "arrowcolor": "#2a3f5f",
           "arrowhead": 0,
           "arrowwidth": 1
          },
          "autotypenumbers": "strict",
          "coloraxis": {
           "colorbar": {
            "outlinewidth": 0,
            "ticks": ""
           }
          },
          "colorscale": {
           "diverging": [
            [
             0,
             "#8e0152"
            ],
            [
             0.1,
             "#c51b7d"
            ],
            [
             0.2,
             "#de77ae"
            ],
            [
             0.3,
             "#f1b6da"
            ],
            [
             0.4,
             "#fde0ef"
            ],
            [
             0.5,
             "#f7f7f7"
            ],
            [
             0.6,
             "#e6f5d0"
            ],
            [
             0.7,
             "#b8e186"
            ],
            [
             0.8,
             "#7fbc41"
            ],
            [
             0.9,
             "#4d9221"
            ],
            [
             1,
             "#276419"
            ]
           ],
           "sequential": [
            [
             0,
             "#0d0887"
            ],
            [
             0.1111111111111111,
             "#46039f"
            ],
            [
             0.2222222222222222,
             "#7201a8"
            ],
            [
             0.3333333333333333,
             "#9c179e"
            ],
            [
             0.4444444444444444,
             "#bd3786"
            ],
            [
             0.5555555555555556,
             "#d8576b"
            ],
            [
             0.6666666666666666,
             "#ed7953"
            ],
            [
             0.7777777777777778,
             "#fb9f3a"
            ],
            [
             0.8888888888888888,
             "#fdca26"
            ],
            [
             1,
             "#f0f921"
            ]
           ],
           "sequentialminus": [
            [
             0,
             "#0d0887"
            ],
            [
             0.1111111111111111,
             "#46039f"
            ],
            [
             0.2222222222222222,
             "#7201a8"
            ],
            [
             0.3333333333333333,
             "#9c179e"
            ],
            [
             0.4444444444444444,
             "#bd3786"
            ],
            [
             0.5555555555555556,
             "#d8576b"
            ],
            [
             0.6666666666666666,
             "#ed7953"
            ],
            [
             0.7777777777777778,
             "#fb9f3a"
            ],
            [
             0.8888888888888888,
             "#fdca26"
            ],
            [
             1,
             "#f0f921"
            ]
           ]
          },
          "colorway": [
           "#636efa",
           "#EF553B",
           "#00cc96",
           "#ab63fa",
           "#FFA15A",
           "#19d3f3",
           "#FF6692",
           "#B6E880",
           "#FF97FF",
           "#FECB52"
          ],
          "font": {
           "color": "#2a3f5f"
          },
          "geo": {
           "bgcolor": "white",
           "lakecolor": "white",
           "landcolor": "#E5ECF6",
           "showlakes": true,
           "showland": true,
           "subunitcolor": "white"
          },
          "hoverlabel": {
           "align": "left"
          },
          "hovermode": "closest",
          "mapbox": {
           "style": "light"
          },
          "paper_bgcolor": "white",
          "plot_bgcolor": "#E5ECF6",
          "polar": {
           "angularaxis": {
            "gridcolor": "white",
            "linecolor": "white",
            "ticks": ""
           },
           "bgcolor": "#E5ECF6",
           "radialaxis": {
            "gridcolor": "white",
            "linecolor": "white",
            "ticks": ""
           }
          },
          "scene": {
           "xaxis": {
            "backgroundcolor": "#E5ECF6",
            "gridcolor": "white",
            "gridwidth": 2,
            "linecolor": "white",
            "showbackground": true,
            "ticks": "",
            "zerolinecolor": "white"
           },
           "yaxis": {
            "backgroundcolor": "#E5ECF6",
            "gridcolor": "white",
            "gridwidth": 2,
            "linecolor": "white",
            "showbackground": true,
            "ticks": "",
            "zerolinecolor": "white"
           },
           "zaxis": {
            "backgroundcolor": "#E5ECF6",
            "gridcolor": "white",
            "gridwidth": 2,
            "linecolor": "white",
            "showbackground": true,
            "ticks": "",
            "zerolinecolor": "white"
           }
          },
          "shapedefaults": {
           "line": {
            "color": "#2a3f5f"
           }
          },
          "ternary": {
           "aaxis": {
            "gridcolor": "white",
            "linecolor": "white",
            "ticks": ""
           },
           "baxis": {
            "gridcolor": "white",
            "linecolor": "white",
            "ticks": ""
           },
           "bgcolor": "#E5ECF6",
           "caxis": {
            "gridcolor": "white",
            "linecolor": "white",
            "ticks": ""
           }
          },
          "title": {
           "x": 0.05
          },
          "xaxis": {
           "automargin": true,
           "gridcolor": "white",
           "linecolor": "white",
           "ticks": "",
           "title": {
            "standoff": 15
           },
           "zerolinecolor": "white",
           "zerolinewidth": 2
          },
          "yaxis": {
           "automargin": true,
           "gridcolor": "white",
           "linecolor": "white",
           "ticks": "",
           "title": {
            "standoff": 15
           },
           "zerolinecolor": "white",
           "zerolinewidth": 2
          }
         }
        },
        "xaxis": {
         "anchor": "y",
         "autorange": true,
         "domain": [
          0,
          0.1257142857142857
         ],
         "range": [
          -5.763837740660668,
          110.76383774066066
         ],
         "title": {
          "text": "dataset"
         },
         "type": "linear"
        },
        "xaxis2": {
         "anchor": "y2",
         "autorange": true,
         "domain": [
          0.14571428571428569,
          0.27142857142857135
         ],
         "matches": "x",
         "range": [
          -5.763837740660668,
          110.76383774066066
         ],
         "title": {
          "text": "dataset"
         },
         "type": "linear"
        },
        "xaxis3": {
         "anchor": "y3",
         "autorange": true,
         "domain": [
          0.29142857142857137,
          0.41714285714285704
         ],
         "matches": "x",
         "range": [
          -5.763837740660668,
          110.76383774066066
         ],
         "title": {
          "text": "dataset"
         },
         "type": "linear"
        },
        "xaxis4": {
         "anchor": "y4",
         "autorange": true,
         "domain": [
          0.4371428571428571,
          0.5628571428571428
         ],
         "matches": "x",
         "range": [
          -5.763837740660668,
          110.76383774066066
         ],
         "title": {
          "text": "dataset"
         },
         "type": "linear"
        },
        "xaxis5": {
         "anchor": "y5",
         "autorange": true,
         "domain": [
          0.5828571428571427,
          0.7085714285714284
         ],
         "matches": "x",
         "range": [
          -5.763837740660668,
          110.76383774066066
         ],
         "title": {
          "text": "dataset"
         },
         "type": "linear"
        },
        "xaxis6": {
         "anchor": "y6",
         "autorange": true,
         "domain": [
          0.7285714285714284,
          0.8542857142857141
         ],
         "matches": "x",
         "range": [
          -5.763837740660668,
          110.76383774066066
         ],
         "title": {
          "text": "dataset"
         },
         "type": "linear"
        },
        "xaxis7": {
         "anchor": "y7",
         "autorange": true,
         "domain": [
          0.8742857142857141,
          0.9999999999999998
         ],
         "matches": "x",
         "range": [
          -5.763837740660668,
          110.76383774066066
         ],
         "title": {
          "text": "dataset"
         },
         "type": "linear"
        },
        "yaxis": {
         "anchor": "x",
         "autorange": true,
         "domain": [
          0,
          1
         ],
         "range": [
          0.023752825714861037,
          1.0693987600610704
         ],
         "title": {
          "text": "value"
         },
         "type": "linear"
        },
        "yaxis2": {
         "anchor": "x2",
         "autorange": true,
         "domain": [
          0,
          1
         ],
         "matches": "y",
         "range": [
          0.023752825714861037,
          1.0693987600610704
         ],
         "showticklabels": false,
         "type": "linear"
        },
        "yaxis3": {
         "anchor": "x3",
         "autorange": true,
         "domain": [
          0,
          1
         ],
         "matches": "y",
         "range": [
          0.023752825714861037,
          1.0693987600610704
         ],
         "showticklabels": false,
         "type": "linear"
        },
        "yaxis4": {
         "anchor": "x4",
         "autorange": true,
         "domain": [
          0,
          1
         ],
         "matches": "y",
         "range": [
          0.023752825714861037,
          1.0693987600610704
         ],
         "showticklabels": false,
         "type": "linear"
        },
        "yaxis5": {
         "anchor": "x5",
         "autorange": true,
         "domain": [
          0,
          1
         ],
         "matches": "y",
         "range": [
          0.023752825714861037,
          1.0693987600610704
         ],
         "showticklabels": false,
         "type": "linear"
        },
        "yaxis6": {
         "anchor": "x6",
         "autorange": true,
         "domain": [
          0,
          1
         ],
         "matches": "y",
         "range": [
          0.023752825714861037,
          1.0693987600610704
         ],
         "showticklabels": false,
         "type": "linear"
        },
        "yaxis7": {
         "anchor": "x7",
         "autorange": true,
         "domain": [
          0,
          1
         ],
         "matches": "y",
         "range": [
          0.023752825714861037,
          1.0693987600610704
         ],
         "showticklabels": false,
         "type": "linear"
        }
       }
      },
      "image/png": "[encoded data removed]",
      "text/html": [
       "<div>                            <div id=\"2473d5b7-a6be-44d2-a603-de6e591ae934\" class=\"plotly-graph-div\" style=\"height:525px; width:100%;\"></div>            <script type=\"text/javascript\">                require([\"plotly\"], function(Plotly) {                    window.PLOTLYENV=window.PLOTLYENV || {};                                    if (document.getElementById(\"2473d5b7-a6be-44d2-a603-de6e591ae934\")) {                    Plotly.newPlot(                        \"2473d5b7-a6be-44d2-a603-de6e591ae934\",                        [{\"hovertemplate\":\"variable=recall<br>caller=bcftools<br>dataset=%{x}<br>value=%{y}<extra></extra>\",\"legendgroup\":\"recall\",\"marker\":{\"color\":\"#636efa\",\"symbol\":\"circle\"},\"mode\":\"markers\",\"name\":\"recall\",\"orientation\":\"v\",\"showlegend\":true,\"type\":\"scatter\",\"x\":[5,10,15,20,30,40,50,60,70,80,90,100],\"xaxis\":\"x\",\"y\":[0.4287369640787949,0.6085747392815759,0.6762456546929316,0.7066048667439165,0.7409038238702201,0.756199304750869,0.7640787949015063,0.7659327925840093,0.7712630359212052,0.7728852838933952,0.7738122827346465,0.7738122827346465],\"yaxis\":\"y\"},{\"hovertemplate\":\"variable=recall<br>caller=deepvariant<br>dataset=%{x}<br>value=%{y}<extra></extra>\",\"legendgroup\":\"recall\",\"marker\":{\"color\":\"#636efa\",\"symbol\":\"circle\"},\"mode\":\"markers\",\"name\":\"recall\",\"orientation\":\"v\",\"showlegend\":false,\"type\":\"scatter\",\"x\":[5,10,15,20,30,40,50,60,70,80,90,100],\"xaxis\":\"x2\",\"y\":[0.5719582850521436,0.8349942062572422,0.9223638470451911,0.959675550405562,0.9789107763615296,0.9826187717265353,0.9835457705677868,0.9830822711471611,0.9826187717265353,0.9812282734646581,0.9809965237543453,0.9826187717265353],\"yaxis\":\"y2\"},{\"hovertemplate\":\"variable=recall<br>caller=discosnp<br>dataset=%{x}<br>value=%{y}<extra></extra>\",\"legendgroup\":\"recall\",\"marker\":{\"color\":\"#636efa\",\"symbol\":\"circle\"},\"mode\":\"markers\",\"name\":\"recall\",\"orientation\":\"v\",\"showlegend\":false,\"type\":\"scatter\",\"x\":[5,10,15,20,30,40,50,60,70,80,90,100],\"xaxis\":\"x3\",\"y\":[0.09385863267670916,0.2831981460023175,0.3212050984936269,0.2551564310544612,0.3283893395133256,0.3290845886442642,0.3290845886442642,0.3290845886442642,0.3290845886442642,0.3290845886442642,0.32885283893395134,0.32885283893395134],\"yaxis\":\"y3\"},{\"hovertemplate\":\"variable=recall<br>caller=freebayes<br>dataset=%{x}<br>value=%{y}<extra></extra>\",\"legendgroup\":\"recall\",\"marker\":{\"color\":\"#636efa\",\"symbol\":\"circle\"},\"mode\":\"markers\",\"name\":\"recall\",\"orientation\":\"v\",\"showlegend\":false,\"type\":\"scatter\",\"x\":[5,10,15,20,30,40,50,60,70,80,90,100],\"xaxis\":\"x4\",\"y\":[0.3976825028968714,0.5453070683661645,0.5812282734646582,0.5860950173812283,0.5888760139049826,0.5877172653534183,0.5925840092699884,0.5928157589803013,0.5928157589803013,0.5935110081112399,0.5925840092699884,0.5918887601390498],\"yaxis\":\"y4\"},{\"hovertemplate\":\"variable=recall<br>caller=gatk<br>dataset=%{x}<br>value=%{y}<extra></extra>\",\"legendgroup\":\"recall\",\"marker\":{\"color\":\"#636efa\",\"symbol\":\"circle\"},\"mode\":\"markers\",\"name\":\"recall\",\"orientation\":\"v\",\"showlegend\":false,\"type\":\"scatter\",\"x\":[5,10,15,20,30,40,50,60,70,80,90,100],\"xaxis\":\"x5\",\"y\":[0.6614136732329085,0.8971031286210892,0.959675550405562,0.9745075318655851,0.9826187717265353,0.9842410196987254,0.9847045191193511,0.9847045191193511,0.984936268829664,0.984936268829664,0.9851680185399768,0.9851680185399768],\"yaxis\":\"y5\"},{\"hovertemplate\":\"variable=recall<br>caller=lancet<br>dataset=%{x}<br>value=%{y}<extra></extra>\",\"legendgroup\":\"recall\",\"marker\":{\"color\":\"#636efa\",\"symbol\":\"circle\"},\"mode\":\"markers\",\"name\":\"recall\",\"orientation\":\"v\",\"showlegend\":false,\"type\":\"scatter\",\"x\":[5,10,15,20,30,40,50,60,70,80,90,100],\"xaxis\":\"x6\",\"y\":[0.1186558516801854,0.4060254924681344,0.6146002317497103,0.7216685979142526,0.8062572421784473,0.8451911935110081,0.8683661645422943,0.8813441483198146,0.892468134414832,0.8994206257242179,0.9001158748551564,0.9028968713789107],\"yaxis\":\"y6\"},{\"hovertemplate\":\"variable=recall<br>caller=vardict<br>dataset=%{x}<br>value=%{y}<extra></extra>\",\"legendgroup\":\"recall\",\"marker\":{\"color\":\"#636efa\",\"symbol\":\"circle\"},\"mode\":\"markers\",\"name\":\"recall\",\"orientation\":\"v\",\"showlegend\":false,\"type\":\"scatter\",\"x\":[5,10,15,20,30,40,50,60,70,80,90,100],\"xaxis\":\"x7\",\"y\":[0.7469293163383546,0.8968713789107764,0.9232908458864426,0.9316338354577057,0.9402085747392815,0.941135573580533,0.9432213209733488,0.9436848203939745,0.9448435689455388,0.9439165701042874,0.9422943221320973,0.9432213209733488],\"yaxis\":\"y7\"},{\"hovertemplate\":\"variable=precision<br>caller=bcftools<br>dataset=%{x}<br>value=%{y}<extra></extra>\",\"legendgroup\":\"precision\",\"marker\":{\"color\":\"#EF553B\",\"symbol\":\"circle\"},\"mode\":\"markers\",\"name\":\"precision\",\"orientation\":\"v\",\"showlegend\":true,\"type\":\"scatter\",\"x\":[5,10,15,20,30,40,50,60,70,80,90,100],\"xaxis\":\"x\",\"y\":[0.9226932668329177,0.9787551248602311,0.9874788494077834,0.9902565768106528,0.9944012441679627,0.9948170731707318,0.9960725075528701,0.9966827503015682,0.9967056004791854,0.9970104633781763,0.9967164179104477,0.997014034040012],\"yaxis\":\"y\"},{\"hovertemplate\":\"variable=precision<br>caller=deepvariant<br>dataset=%{x}<br>value=%{y}<extra></extra>\",\"legendgroup\":\"precision\",\"marker\":{\"color\":\"#EF553B\",\"symbol\":\"circle\"},\"mode\":\"markers\",\"name\":\"precision\",\"orientation\":\"v\",\"showlegend\":false,\"type\":\"scatter\",\"x\":[5,10,15,20,30,40,50,60,70,80,90,100],\"xaxis\":\"x2\",\"y\":[0.9774257425742574,0.9922886257229413,0.995,0.9973506743737958,0.998109640831758,0.9988221436984688,0.998823252530007,0.9988226983753238,0.9990574929311969,0.9988204765274828,0.9990559358036346,0.9992929530992223],\"yaxis\":\"y2\"},{\"hovertemplate\":\"variable=precision<br>caller=discosnp<br>dataset=%{x}<br>value=%{y}<extra></extra>\",\"legendgroup\":\"precision\",\"marker\":{\"color\":\"#EF553B\",\"symbol\":\"circle\"},\"mode\":\"markers\",\"name\":\"precision\",\"orientation\":\"v\",\"showlegend\":false,\"type\":\"scatter\",\"x\":[5,10,15,20,30,40,50,60,70,80,90,100],\"xaxis\":\"x3\",\"y\":[0.9902200488997555,0.995114006514658,0.994261119081779,0.9990925589836661,0.9950842696629213,0.9950946040644709,0.9950946040644709,0.9950946040644709,0.9950946040644709,0.9957924263674615,0.9957894736842106,0.9957894736842106],\"yaxis\":\"y3\"},{\"hovertemplate\":\"variable=precision<br>caller=freebayes<br>dataset=%{x}<br>value=%{y}<extra></extra>\",\"legendgroup\":\"precision\",\"marker\":{\"color\":\"#EF553B\",\"symbol\":\"circle\"},\"mode\":\"markers\",\"name\":\"precision\",\"orientation\":\"v\",\"showlegend\":false,\"type\":\"scatter\",\"x\":[5,10,15,20,30,40,50,60,70,80,90,100],\"xaxis\":\"x4\",\"y\":[0.988479262672811,0.9940853400929447,0.9964243146603099,0.9968466692944422,0.9968615143193409,0.997639653815893,0.998048399687744,0.9968823070927514,0.9964939618231399,0.9964980544747082,0.9964925954793453,0.9968774395003903],\"yaxis\":\"y4\"},{\"hovertemplate\":\"variable=precision<br>caller=gatk<br>dataset=%{x}<br>value=%{y}<extra></extra>\",\"legendgroup\":\"precision\",\"marker\":{\"color\":\"#EF553B\",\"symbol\":\"circle\"},\"mode\":\"markers\",\"name\":\"precision\",\"orientation\":\"v\",\"showlegend\":false,\"type\":\"scatter\",\"x\":[5,10,15,20,30,40,50,60,70,80,90,100],\"xaxis\":\"x5\",\"y\":[0.9868603042876902,0.994348831235551,0.9961510704835218,0.9976275207591934,0.9983517777254532,0.9978853383458647,0.9969497888315345,0.9964821763602252,0.9964830011723329,0.9962494139709329,0.9967174677608441,0.9967174677608441],\"yaxis\":\"y5\"},{\"hovertemplate\":\"variable=precision<br>caller=lancet<br>dataset=%{x}<br>value=%{y}<extra></extra>\",\"legendgroup\":\"precision\",\"marker\":{\"color\":\"#EF553B\",\"symbol\":\"circle\"},\"mode\":\"markers\",\"name\":\"precision\",\"orientation\":\"v\",\"showlegend\":false,\"type\":\"scatter\",\"x\":[5,10,15,20,30,40,50,60,70,80,90,100],\"xaxis\":\"x6\",\"y\":[0.9980506822612085,0.9977220956719818,0.9966178128523112,0.9967989756722151,0.99713384924047,0.9969928922908693,0.9965425531914893,0.9960712414876899,0.9930376482723053,0.9930910951893551,0.9961528597076174,0.9974398361495136],\"yaxis\":\"y6\"},{\"hovertemplate\":\"variable=precision<br>caller=vardict<br>dataset=%{x}<br>value=%{y}<extra></extra>\",\"legendgroup\":\"precision\",\"marker\":{\"color\":\"#EF553B\",\"symbol\":\"circle\"},\"mode\":\"markers\",\"name\":\"precision\",\"orientation\":\"v\",\"showlegend\":false,\"type\":\"scatter\",\"x\":[5,10,15,20,30,40,50,60,70,80,90,100],\"xaxis\":\"x7\",\"y\":[0.9344737605102929,0.9249521988527725,0.9207302981280333,0.9082693176683235,0.8852280165830242,0.8504712041884817,0.8267316676823075,0.8025226645644462,0.7761279268989149,0.7563602599814299,0.7347307553306831,0.7136594774679993],\"yaxis\":\"y7\"}],                        {\"annotations\":[{\"font\":{},\"showarrow\":false,\"text\":\"caller=bcftools\",\"x\":0.06285714285714285,\"xanchor\":\"center\",\"xref\":\"paper\",\"y\":1.0,\"yanchor\":\"bottom\",\"yref\":\"paper\"},{\"font\":{},\"showarrow\":false,\"text\":\"caller=deepvariant\",\"x\":0.20857142857142852,\"xanchor\":\"center\",\"xref\":\"paper\",\"y\":1.0,\"yanchor\":\"bottom\",\"yref\":\"paper\"},{\"font\":{},\"showarrow\":false,\"text\":\"caller=discosnp\",\"x\":0.3542857142857142,\"xanchor\":\"center\",\"xref\":\"paper\",\"y\":1.0,\"yanchor\":\"bottom\",\"yref\":\"paper\"},{\"font\":{},\"showarrow\":false,\"text\":\"caller=freebayes\",\"x\":0.5,\"xanchor\":\"center\",\"xref\":\"paper\",\"y\":1.0,\"yanchor\":\"bottom\",\"yref\":\"paper\"},{\"font\":{},\"showarrow\":false,\"text\":\"caller=gatk\",\"x\":0.6457142857142856,\"xanchor\":\"center\",\"xref\":\"paper\",\"y\":1.0,\"yanchor\":\"bottom\",\"yref\":\"paper\"},{\"font\":{},\"showarrow\":false,\"text\":\"caller=lancet\",\"x\":0.7914285714285713,\"xanchor\":\"center\",\"xref\":\"paper\",\"y\":1.0,\"yanchor\":\"bottom\",\"yref\":\"paper\"},{\"font\":{},\"showarrow\":false,\"text\":\"caller=vardict\",\"x\":0.9371428571428569,\"xanchor\":\"center\",\"xref\":\"paper\",\"y\":1.0,\"yanchor\":\"bottom\",\"yref\":\"paper\"}],\"legend\":{\"title\":{\"text\":\"variable\"},\"tracegroupgap\":0},\"margin\":{\"t\":60},\"template\":{\"data\":{\"bar\":[{\"error_x\":{\"color\":\"#2a3f5f\"},\"error_y\":{\"color\":\"#2a3f5f\"},\"marker\":{\"line\":{\"color\":\"#E5ECF6\",\"width\":0.5},\"pattern\":{\"fillmode\":\"overlay\",\"size\":10,\"solidity\":0.2}},\"type\":\"bar\"}],\"barpolar\":[{\"marker\":{\"line\":{\"color\":\"#E5ECF6\",\"width\":0.5},\"pattern\":{\"fillmode\":\"overlay\",\"size\":10,\"solidity\":0.2}},\"type\":\"barpolar\"}],\"carpet\":[{\"aaxis\":{\"endlinecolor\":\"#2a3f5f\",\"gridcolor\":\"white\",\"linecolor\":\"white\",\"minorgridcolor\":\"white\",\"startlinecolor\":\"#2a3f5f\"},\"baxis\":{\"endlinecolor\":\"#2a3f5f\",\"gridcolor\":\"white\",\"linecolor\":\"white\",\"minorgridcolor\":\"white\",\"startlinecolor\":\"#2a3f5f\"},\"type\":\"carpet\"}],\"choropleth\":[{\"colorbar\":{\"outlinewidth\":0,\"ticks\":\"\"},\"type\":\"choropleth\"}],\"contour\":[{\"colorbar\":{\"outlinewidth\":0,\"ticks\":\"\"},\"colorscale\":[[0.0,\"#0d0887\"],[0.1111111111111111,\"#46039f\"],[0.2222222222222222,\"#7201a8\"],[0.3333333333333333,\"#9c179e\"],[0.4444444444444444,\"#bd3786\"],[0.5555555555555556,\"#d8576b\"],[0.6666666666666666,\"#ed7953\"],[0.7777777777777778,\"#fb9f3a\"],[0.8888888888888888,\"#fdca26\"],[1.0,\"#f0f921\"]],\"type\":\"contour\"}],\"contourcarpet\":[{\"colorbar\":{\"outlinewidth\":0,\"ticks\":\"\"},\"type\":\"contourcarpet\"}],\"heatmap\":[{\"colorbar\":{\"outlinewidth\":0,\"ticks\":\"\"},\"colorscale\":[[0.0,\"#0d0887\"],[0.1111111111111111,\"#46039f\"],[0.2222222222222222,\"#7201a8\"],[0.3333333333333333,\"#9c179e\"],[0.4444444444444444,\"#bd3786\"],[0.5555555555555556,\"#d8576b\"],[0.6666666666666666,\"#ed7953\"],[0.7777777777777778,\"#fb9f3a\"],[0.8888888888888888,\"#fdca26\"],[1.0,\"#f0f921\"]],\"type\":\"heatmap\"}],\"heatmapgl\":[{\"colorbar\":{\"outlinewidth\":0,\"ticks\":\"\"},\"colorscale\":[[0.0,\"#0d0887\"],[0.1111111111111111,\"#46039f\"],[0.2222222222222222,\"#7201a8\"],[0.3333333333333333,\"#9c179e\"],[0.4444444444444444,\"#bd3786\"],[0.5555555555555556,\"#d8576b\"],[0.6666666666666666,\"#ed7953\"],[0.7777777777777778,\"#fb9f3a\"],[0.8888888888888888,\"#fdca26\"],[1.0,\"#f0f921\"]],\"type\":\"heatmapgl\"}],\"histogram\":[{\"marker\":{\"pattern\":{\"fillmode\":\"overlay\",\"size\":10,\"solidity\":0.2}},\"type\":\"histogram\"}],\"histogram2d\":[{\"colorbar\":{\"outlinewidth\":0,\"ticks\":\"\"},\"colorscale\":[[0.0,\"#0d0887\"],[0.1111111111111111,\"#46039f\"],[0.2222222222222222,\"#7201a8\"],[0.3333333333333333,\"#9c179e\"],[0.4444444444444444,\"#bd3786\"],[0.5555555555555556,\"#d8576b\"],[0.6666666666666666,\"#ed7953\"],[0.7777777777777778,\"#fb9f3a\"],[0.8888888888888888,\"#fdca26\"],[1.0,\"#f0f921\"]],\"type\":\"histogram2d\"}],\"histogram2dcontour\":[{\"colorbar\":{\"outlinewidth\":0,\"ticks\":\"\"},\"colorscale\":[[0.0,\"#0d0887\"],[0.1111111111111111,\"#46039f\"],[0.2222222222222222,\"#7201a8\"],[0.3333333333333333,\"#9c179e\"],[0.4444444444444444,\"#bd3786\"],[0.5555555555555556,\"#d8576b\"],[0.6666666666666666,\"#ed7953\"],[0.7777777777777778,\"#fb9f3a\"],[0.8888888888888888,\"#fdca26\"],[1.0,\"#f0f921\"]],\"type\":\"histogram2dcontour\"}],\"mesh3d\":[{\"colorbar\":{\"outlinewidth\":0,\"ticks\":\"\"},\"type\":\"mesh3d\"}],\"parcoords\":[{\"line\":{\"colorbar\":{\"outlinewidth\":0,\"ticks\":\"\"}},\"type\":\"parcoords\"}],\"pie\":[{\"automargin\":true,\"type\":\"pie\"}],\"scatter\":[{\"marker\":{\"colorbar\":{\"outlinewidth\":0,\"ticks\":\"\"}},\"type\":\"scatter\"}],\"scatter3d\":[{\"line\":{\"colorbar\":{\"outlinewidth\":0,\"ticks\":\"\"}},\"marker\":{\"colorbar\":{\"outlinewidth\":0,\"ticks\":\"\"}},\"type\":\"scatter3d\"}],\"scattercarpet\":[{\"marker\":{\"colorbar\":{\"outlinewidth\":0,\"ticks\":\"\"}},\"type\":\"scattercarpet\"}],\"scattergeo\":[{\"marker\":{\"colorbar\":{\"outlinewidth\":0,\"ticks\":\"\"}},\"type\":\"scattergeo\"}],\"scattergl\":[{\"marker\":{\"colorbar\":{\"outlinewidth\":0,\"ticks\":\"\"}},\"type\":\"scattergl\"}],\"scattermapbox\":[{\"marker\":{\"colorbar\":{\"outlinewidth\":0,\"ticks\":\"\"}},\"type\":\"scattermapbox\"}],\"scatterpolar\":[{\"marker\":{\"colorbar\":{\"outlinewidth\":0,\"ticks\":\"\"}},\"type\":\"scatterpolar\"}],\"scatterpolargl\":[{\"marker\":{\"colorbar\":{\"outlinewidth\":0,\"ticks\":\"\"}},\"type\":\"scatterpolargl\"}],\"scatterternary\":[{\"marker\":{\"colorbar\":{\"outlinewidth\":0,\"ticks\":\"\"}},\"type\":\"scatterternary\"}],\"surface\":[{\"colorbar\":{\"outlinewidth\":0,\"ticks\":\"\"},\"colorscale\":[[0.0,\"#0d0887\"],[0.1111111111111111,\"#46039f\"],[0.2222222222222222,\"#7201a8\"],[0.3333333333333333,\"#9c179e\"],[0.4444444444444444,\"#bd3786\"],[0.5555555555555556,\"#d8576b\"],[0.6666666666666666,\"#ed7953\"],[0.7777777777777778,\"#fb9f3a\"],[0.8888888888888888,\"#fdca26\"],[1.0,\"#f0f921\"]],\"type\":\"surface\"}],\"table\":[{\"cells\":{\"fill\":{\"color\":\"#EBF0F8\"},\"line\":{\"color\":\"white\"}},\"header\":{\"fill\":{\"color\":\"#C8D4E3\"},\"line\":{\"color\":\"white\"}},\"type\":\"table\"}]},\"layout\":{\"annotationdefaults\":{\"arrowcolor\":\"#2a3f5f\",\"arrowhead\":0,\"arrowwidth\":1},\"autotypenumbers\":\"strict\",\"coloraxis\":{\"colorbar\":{\"outlinewidth\":0,\"ticks\":\"\"}},\"colorscale\":{\"diverging\":[[0,\"#8e0152\"],[0.1,\"#c51b7d\"],[0.2,\"#de77ae\"],[0.3,\"#f1b6da\"],[0.4,\"#fde0ef\"],[0.5,\"#f7f7f7\"],[0.6,\"#e6f5d0\"],[0.7,\"#b8e186\"],[0.8,\"#7fbc41\"],[0.9,\"#4d9221\"],[1,\"#276419\"]],\"sequential\":[[0.0,\"#0d0887\"],[0.1111111111111111,\"#46039f\"],[0.2222222222222222,\"#7201a8\"],[0.3333333333333333,\"#9c179e\"],[0.4444444444444444,\"#bd3786\"],[0.5555555555555556,\"#d8576b\"],[0.6666666666666666,\"#ed7953\"],[0.7777777777777778,\"#fb9f3a\"],[0.8888888888888888,\"#fdca26\"],[1.0,\"#f0f921\"]],\"sequentialminus\":[[0.0,\"#0d0887\"],[0.1111111111111111,\"#46039f\"],[0.2222222222222222,\"#7201a8\"],[0.3333333333333333,\"#9c179e\"],[0.4444444444444444,\"#bd3786\"],[0.5555555555555556,\"#d8576b\"],[0.6666666666666666,\"#ed7953\"],[0.7777777777777778,\"#fb9f3a\"],[0.8888888888888888,\"#fdca26\"],[1.0,\"#f0f921\"]]},\"colorway\":[\"#636efa\",\"#EF553B\",\"#00cc96\",\"#ab63fa\",\"#FFA15A\",\"#19d3f3\",\"#FF6692\",\"#B6E880\",\"#FF97FF\",\"#FECB52\"],\"font\":{\"color\":\"#2a3f5f\"},\"geo\":{\"bgcolor\":\"white\",\"lakecolor\":\"white\",\"landcolor\":\"#E5ECF6\",\"showlakes\":true,\"showland\":true,\"subunitcolor\":\"white\"},\"hoverlabel\":{\"align\":\"left\"},\"hovermode\":\"closest\",\"mapbox\":{\"style\":\"light\"},\"paper_bgcolor\":\"white\",\"plot_bgcolor\":\"#E5ECF6\",\"polar\":{\"angularaxis\":{\"gridcolor\":\"white\",\"linecolor\":\"white\",\"ticks\":\"\"},\"bgcolor\":\"#E5ECF6\",\"radialaxis\":{\"gridcolor\":\"white\",\"linecolor\":\"white\",\"ticks\":\"\"}},\"scene\":{\"xaxis\":{\"backgroundcolor\":\"#E5ECF6\",\"gridcolor\":\"white\",\"gridwidth\":2,\"linecolor\":\"white\",\"showbackground\":true,\"ticks\":\"\",\"zerolinecolor\":\"white\"},\"yaxis\":{\"backgroundcolor\":\"#E5ECF6\",\"gridcolor\":\"white\",\"gridwidth\":2,\"linecolor\":\"white\",\"showbackground\":true,\"ticks\":\"\",\"zerolinecolor\":\"white\"},\"zaxis\":{\"backgroundcolor\":\"#E5ECF6\",\"gridcolor\":\"white\",\"gridwidth\":2,\"linecolor\":\"white\",\"showbackground\":true,\"ticks\":\"\",\"zerolinecolor\":\"white\"}},\"shapedefaults\":{\"line\":{\"color\":\"#2a3f5f\"}},\"ternary\":{\"aaxis\":{\"gridcolor\":\"white\",\"linecolor\":\"white\",\"ticks\":\"\"},\"baxis\":{\"gridcolor\":\"white\",\"linecolor\":\"white\",\"ticks\":\"\"},\"bgcolor\":\"#E5ECF6\",\"caxis\":{\"gridcolor\":\"white\",\"linecolor\":\"white\",\"ticks\":\"\"}},\"title\":{\"x\":0.05},\"xaxis\":{\"automargin\":true,\"gridcolor\":\"white\",\"linecolor\":\"white\",\"ticks\":\"\",\"title\":{\"standoff\":15},\"zerolinecolor\":\"white\",\"zerolinewidth\":2},\"yaxis\":{\"automargin\":true,\"gridcolor\":\"white\",\"linecolor\":\"white\",\"ticks\":\"\",\"title\":{\"standoff\":15},\"zerolinecolor\":\"white\",\"zerolinewidth\":2}}},\"xaxis\":{\"anchor\":\"y\",\"domain\":[0.0,0.1257142857142857],\"title\":{\"text\":\"dataset\"}},\"xaxis2\":{\"anchor\":\"y2\",\"domain\":[0.14571428571428569,0.27142857142857135],\"matches\":\"x\",\"title\":{\"text\":\"dataset\"}},\"xaxis3\":{\"anchor\":\"y3\",\"domain\":[0.29142857142857137,0.41714285714285704],\"matches\":\"x\",\"title\":{\"text\":\"dataset\"}},\"xaxis4\":{\"anchor\":\"y4\",\"domain\":[0.4371428571428571,0.5628571428571428],\"matches\":\"x\",\"title\":{\"text\":\"dataset\"}},\"xaxis5\":{\"anchor\":\"y5\",\"domain\":[0.5828571428571427,0.7085714285714284],\"matches\":\"x\",\"title\":{\"text\":\"dataset\"}},\"xaxis6\":{\"anchor\":\"y6\",\"domain\":[0.7285714285714284,0.8542857142857141],\"matches\":\"x\",\"title\":{\"text\":\"dataset\"}},\"xaxis7\":{\"anchor\":\"y7\",\"domain\":[0.8742857142857141,0.9999999999999998],\"matches\":\"x\",\"title\":{\"text\":\"dataset\"}},\"yaxis\":{\"anchor\":\"x\",\"domain\":[0.0,1.0],\"title\":{\"text\":\"value\"}},\"yaxis2\":{\"anchor\":\"x2\",\"domain\":[0.0,1.0],\"matches\":\"y\",\"showticklabels\":false},\"yaxis3\":{\"anchor\":\"x3\",\"domain\":[0.0,1.0],\"matches\":\"y\",\"showticklabels\":false},\"yaxis4\":{\"anchor\":\"x4\",\"domain\":[0.0,1.0],\"matches\":\"y\",\"showticklabels\":false},\"yaxis5\":{\"anchor\":\"x5\",\"domain\":[0.0,1.0],\"matches\":\"y\",\"showticklabels\":false},\"yaxis6\":{\"anchor\":\"x6\",\"domain\":[0.0,1.0],\"matches\":\"y\",\"showticklabels\":false},\"yaxis7\":{\"anchor\":\"x7\",\"domain\":[0.0,1.0],\"matches\":\"y\",\"showticklabels\":false}},                        {\"responsive\": true}                    ).then(function(){\n",
       "                            \n",
       "var gd = document.getElementById('2473d5b7-a6be-44d2-a603-de6e591ae934');\n",
       "var x = new MutationObserver(function (mutations, observer) {{\n",
       "        var display = window.getComputedStyle(gd).display;\n",
       "        if (!display || display === 'none') {{\n",
       "            console.log([gd, 'removed!']);\n",
       "            Plotly.purge(gd);\n",
       "            observer.disconnect();\n",
       "        }}\n",
       "}});\n",
       "\n",
       "// Listen for the removal of the full notebook cells\n",
       "var notebookContainer = gd.closest('#notebook-container');\n",
       "if (notebookContainer) {{\n",
       "    x.observe(notebookContainer, {childList: true});\n",
       "}}\n",
       "\n",
       "// Listen for the clearing of the current output cell\n",
       "var outputEl = gd.closest('.output');\n",
       "if (outputEl) {{\n",
       "    x.observe(outputEl, {childList: true});\n",
       "}}\n",
       "\n",
       "                        })                };                });            </script>        </div>"
      ]
     },
     "metadata": {},
     "output_type": "display_data"
    }
   ],
   "source": [
    "# Plot\n",
    "fig = px.scatter(combinedINSreads, x='dataset', y=['recall', 'precision'], facet_col='caller', \n",
    "                 category_orders={'caller': ['bcftools', 'deepvariant', 'discosnp', 'freebayes', \n",
    "                                             'gatk', 'lancet', 'vardict']})\n",
    "fig"
   ]
  },
  {
   "cell_type": "markdown",
   "id": "629638f8-4b73-4c4c-844d-a1c0d979b054",
   "metadata": {},
   "source": [
    "### DEL only\n",
    "**'dataset'** on the x-axis refers to downsampled coverages: 5x, 10x, 15x, 20x, 30x, 40x, 50x, 60x, 70x, 80, 90x. These are downsampled with `head -n [number of reads*4]` from the original 100x datasets."
   ]
  },
  {
   "cell_type": "code",
   "execution_count": 23,
   "id": "9675e64f-ae51-4f86-b900-4dd238c3ee00",
   "metadata": {},
   "outputs": [
    {
     "data": {
      "application/vnd.plotly.v1+json": {
       "config": {
        "plotlyServerURL": "https://plot.ly"
       },
       "data": [
        {
         "hovertemplate": "variable=recall<br>caller=bcftools<br>dataset=%{x}<br>value=%{y}<extra></extra>",
         "legendgroup": "recall",
         "marker": {
          "color": "#636efa",
          "symbol": "circle"
         },
         "mode": "markers",
         "name": "recall",
         "orientation": "v",
         "showlegend": true,
         "type": "scatter",
         "x": [
          5,
          10,
          15,
          20,
          30,
          40,
          50,
          60,
          70,
          80,
          90,
          100
         ],
         "xaxis": "x",
         "y": [
          0.6775404834545882,
          0.9002581553625909,
          0.9554095282797466,
          0.971837596808261,
          0.9774700774466087,
          0.9784088242196668,
          0.9791128842994602,
          0.9791128842994602,
          0.9791128842994602,
          0.9793475709927247,
          0.9795822576859892,
          0.9795822576859892
         ],
         "yaxis": "y"
        },
        {
         "hovertemplate": "variable=recall<br>caller=deepvariant<br>dataset=%{x}<br>value=%{y}<extra></extra>",
         "legendgroup": "recall",
         "marker": {
          "color": "#636efa",
          "symbol": "circle"
         },
         "mode": "markers",
         "name": "recall",
         "orientation": "v",
         "showlegend": false,
         "type": "scatter",
         "x": [
          5,
          10,
          15,
          20,
          30,
          40,
          50,
          60,
          70,
          80,
          90,
          100
         ],
         "xaxis": "x2",
         "y": [
          0.8035672377376203,
          0.9652663693968552,
          0.9847453649378081,
          0.986622858483924,
          0.9868575451771885,
          0.9870922318704529,
          0.9870922318704529,
          0.9880309786435109,
          0.9880309786435109,
          0.9882656653367754,
          0.9880309786435109,
          0.9880309786435109
         ],
         "yaxis": "y2"
        },
        {
         "hovertemplate": "variable=recall<br>caller=discosnp<br>dataset=%{x}<br>value=%{y}<extra></extra>",
         "legendgroup": "recall",
         "marker": {
          "color": "#636efa",
          "symbol": "circle"
         },
         "mode": "markers",
         "name": "recall",
         "orientation": "v",
         "showlegend": false,
         "type": "scatter",
         "x": [
          5,
          10,
          15,
          20,
          30,
          40,
          50,
          60,
          70,
          80,
          90,
          100
         ],
         "xaxis": "x3",
         "y": [
          0.22412579206758976,
          0.6134710161933818,
          0.6751936165219432,
          0.6899788781976062,
          0.6923257451302511,
          0.6852851443323164,
          0.697019478995541,
          0.7042947664867402,
          0.7003050927012439,
          0.6967847923022764,
          0.6857545177188453,
          0.695611358835954
         ],
         "yaxis": "y3"
        },
        {
         "hovertemplate": "variable=recall<br>caller=freebayes<br>dataset=%{x}<br>value=%{y}<extra></extra>",
         "legendgroup": "recall",
         "marker": {
          "color": "#636efa",
          "symbol": "circle"
         },
         "mode": "markers",
         "name": "recall",
         "orientation": "v",
         "showlegend": false,
         "type": "scatter",
         "x": [
          5,
          10,
          15,
          20,
          30,
          40,
          50,
          60,
          70,
          80,
          90,
          100
         ],
         "xaxis": "x4",
         "y": [
          0.6906829382773997,
          0.9141046702651959,
          0.9636235625440037,
          0.9755925839004929,
          0.9795822576859892,
          0.9826331846984276,
          0.9831025580849566,
          0.9831025580849566,
          0.983337244778221,
          0.9835719314714856,
          0.98380661816475,
          0.9840413048580146
         ],
         "yaxis": "y4"
        },
        {
         "hovertemplate": "variable=recall<br>caller=gatk<br>dataset=%{x}<br>value=%{y}<extra></extra>",
         "legendgroup": "recall",
         "marker": {
          "color": "#636efa",
          "symbol": "circle"
         },
         "mode": "markers",
         "name": "recall",
         "orientation": "v",
         "showlegend": false,
         "type": "scatter",
         "x": [
          5,
          10,
          15,
          20,
          30,
          40,
          50,
          60,
          70,
          80,
          90,
          100
         ],
         "xaxis": "x5",
         "y": [
          0.8002816240319174,
          0.9624501290776813,
          0.9840413048580146,
          0.9873269185637175,
          0.9875616052569819,
          0.9877962919502464,
          0.9877962919502464,
          0.9882656653367754,
          0.9882656653367754,
          0.9882656653367754,
          0.9882656653367754,
          0.9882656653367754
         ],
         "yaxis": "y5"
        },
        {
         "hovertemplate": "variable=recall<br>caller=lancet<br>dataset=%{x}<br>value=%{y}<extra></extra>",
         "legendgroup": "recall",
         "marker": {
          "color": "#636efa",
          "symbol": "circle"
         },
         "mode": "markers",
         "name": "recall",
         "orientation": "v",
         "showlegend": false,
         "type": "scatter",
         "x": [
          5,
          10,
          15,
          20,
          30,
          40,
          50,
          60,
          70,
          80,
          90,
          100
         ],
         "xaxis": "x6",
         "y": [
          0.21591175780333255,
          0.651255573808965,
          0.8699835719314715,
          0.9378080262849097,
          0.9680826097160291,
          0.970898850035203,
          0.9732457169678479,
          0.9744191504341704,
          0.9748885238206993,
          0.9753578972072283,
          0.9760619572870218,
          0.9762966439802864
         ],
         "yaxis": "y6"
        },
        {
         "hovertemplate": "variable=recall<br>caller=vardict<br>dataset=%{x}<br>value=%{y}<extra></extra>",
         "legendgroup": "recall",
         "marker": {
          "color": "#636efa",
          "symbol": "circle"
         },
         "mode": "markers",
         "name": "recall",
         "orientation": "v",
         "showlegend": false,
         "type": "scatter",
         "x": [
          5,
          10,
          15,
          20,
          30,
          40,
          50,
          60,
          70,
          80,
          90,
          100
         ],
         "xaxis": "x7",
         "y": [
          0.8444027223656418,
          0.9643276226237972,
          0.9795822576859892,
          0.9823984980051631,
          0.9845106782445435,
          0.9849800516310725,
          0.9849800516310725,
          0.985684111710866,
          0.9859187984041304,
          0.986153485097395,
          0.986153485097395,
          0.986153485097395
         ],
         "yaxis": "y7"
        },
        {
         "hovertemplate": "variable=precision<br>caller=bcftools<br>dataset=%{x}<br>value=%{y}<extra></extra>",
         "legendgroup": "precision",
         "marker": {
          "color": "#EF553B",
          "symbol": "circle"
         },
         "mode": "markers",
         "name": "precision",
         "orientation": "v",
         "showlegend": true,
         "type": "scatter",
         "x": [
          5,
          10,
          15,
          20,
          30,
          40,
          50,
          60,
          70,
          80,
          90,
          100
         ],
         "xaxis": "x",
         "y": [
          0.948111658456486,
          0.9788211278387343,
          0.9779005524861878,
          0.9755005889281507,
          0.9625606655881673,
          0.9475,
          0.9366861248316121,
          0.9281423804226919,
          0.9199558985667035,
          0.9117325759230938,
          0.9013172101058087,
          0.8934075342465754
         ],
         "yaxis": "y"
        },
        {
         "hovertemplate": "variable=precision<br>caller=deepvariant<br>dataset=%{x}<br>value=%{y}<extra></extra>",
         "legendgroup": "precision",
         "marker": {
          "color": "#EF553B",
          "symbol": "circle"
         },
         "mode": "markers",
         "name": "precision",
         "orientation": "v",
         "showlegend": false,
         "type": "scatter",
         "x": [
          5,
          10,
          15,
          20,
          30,
          40,
          50,
          60,
          70,
          80,
          90,
          100
         ],
         "xaxis": "x2",
         "y": [
          0.9907407407407407,
          0.996124969726326,
          0.997622444127437,
          0.9983376870102113,
          0.9990496555001188,
          0.9992872416250891,
          0.9990498812351544,
          0.9985768500948766,
          0.9988137603795967,
          0.9988140417457305,
          0.9983400521697889,
          0.9983400521697889
         ],
         "yaxis": "y2"
        },
        {
         "hovertemplate": "variable=precision<br>caller=discosnp<br>dataset=%{x}<br>value=%{y}<extra></extra>",
         "legendgroup": "precision",
         "marker": {
          "color": "#EF553B",
          "symbol": "circle"
         },
         "mode": "markers",
         "name": "precision",
         "orientation": "v",
         "showlegend": false,
         "type": "scatter",
         "x": [
          5,
          10,
          15,
          20,
          30,
          40,
          50,
          60,
          70,
          80,
          90,
          100
         ],
         "xaxis": "x3",
         "y": [
          0.9979101358411703,
          0.9992354740061162,
          0.9986115931968067,
          0.998641304347826,
          0.998645903859174,
          0.999315537303217,
          0.9993270524899058,
          0.9993339993339994,
          0.998661311914324,
          0.9989905787348586,
          0.9989743589743589,
          0.9989888776541962
         ],
         "yaxis": "y3"
        },
        {
         "hovertemplate": "variable=precision<br>caller=freebayes<br>dataset=%{x}<br>value=%{y}<extra></extra>",
         "legendgroup": "precision",
         "marker": {
          "color": "#EF553B",
          "symbol": "circle"
         },
         "mode": "markers",
         "name": "precision",
         "orientation": "v",
         "showlegend": false,
         "type": "scatter",
         "x": [
          5,
          10,
          15,
          20,
          30,
          40,
          50,
          60,
          70,
          80,
          90,
          100
         ],
         "xaxis": "x4",
         "y": [
          0.9952654717619208,
          0.9979502946451447,
          0.997812879708384,
          0.9980792316926771,
          0.9983257593877063,
          0.9983309489747259,
          0.9983317445185891,
          0.9983317445185891,
          0.9980943306336351,
          0.9976196143775291,
          0.9976201808662541,
          0.9971462544589774
         ],
         "yaxis": "y4"
        },
        {
         "hovertemplate": "variable=precision<br>caller=gatk<br>dataset=%{x}<br>value=%{y}<extra></extra>",
         "legendgroup": "precision",
         "marker": {
          "color": "#EF553B",
          "symbol": "circle"
         },
         "mode": "markers",
         "name": "precision",
         "orientation": "v",
         "showlegend": false,
         "type": "scatter",
         "x": [
          5,
          10,
          15,
          20,
          30,
          40,
          50,
          60,
          70,
          80,
          90,
          100
         ],
         "xaxis": "x5",
         "y": [
          0.9959112149532711,
          0.9992690058479532,
          1,
          0.9997623574144486,
          0.9997624138750297,
          0.9997624703087886,
          0.9997624703087886,
          0.9995252788986471,
          0.9995252788986471,
          0.9995252788986471,
          0.9992880873279545,
          0.9992880873279545
         ],
         "yaxis": "y5"
        },
        {
         "hovertemplate": "variable=precision<br>caller=lancet<br>dataset=%{x}<br>value=%{y}<extra></extra>",
         "legendgroup": "precision",
         "marker": {
          "color": "#EF553B",
          "symbol": "circle"
         },
         "mode": "markers",
         "name": "precision",
         "orientation": "v",
         "showlegend": false,
         "type": "scatter",
         "x": [
          5,
          10,
          15,
          20,
          30,
          40,
          50,
          60,
          70,
          80,
          90,
          100
         ],
         "xaxis": "x6",
         "y": [
          1,
          0.9996397694524496,
          0.999730312837109,
          0.9997498123592694,
          0.9997576345128454,
          0.999758337361044,
          0.9997589199614272,
          0.9997592102094871,
          0.9997593261131167,
          0.9997594419052201,
          0.9997596153846153,
          0.9997596731554914
         ],
         "yaxis": "y6"
        },
        {
         "hovertemplate": "variable=precision<br>caller=vardict<br>dataset=%{x}<br>value=%{y}<extra></extra>",
         "legendgroup": "precision",
         "marker": {
          "color": "#EF553B",
          "symbol": "circle"
         },
         "mode": "markers",
         "name": "precision",
         "orientation": "v",
         "showlegend": false,
         "type": "scatter",
         "x": [
          5,
          10,
          15,
          20,
          30,
          40,
          50,
          60,
          70,
          80,
          90,
          100
         ],
         "xaxis": "x7",
         "y": [
          0.9952973720608576,
          0.9937122128174123,
          0.9919201520912547,
          0.9905347846663511,
          0.9884542884071631,
          0.9879943502824858,
          0.9872971065631616,
          0.9873060648801129,
          0.9868451961475218,
          0.9877762106252939,
          0.9870801033591732,
          0.9877762106252939
         ],
         "yaxis": "y7"
        }
       ],
       "layout": {
        "annotations": [
         {
          "font": {},
          "showarrow": false,
          "text": "caller=bcftools",
          "x": 0.06285714285714285,
          "xanchor": "center",
          "xref": "paper",
          "y": 1,
          "yanchor": "bottom",
          "yref": "paper"
         },
         {
          "font": {},
          "showarrow": false,
          "text": "caller=deepvariant",
          "x": 0.20857142857142852,
          "xanchor": "center",
          "xref": "paper",
          "y": 1,
          "yanchor": "bottom",
          "yref": "paper"
         },
         {
          "font": {},
          "showarrow": false,
          "text": "caller=discosnp",
          "x": 0.3542857142857142,
          "xanchor": "center",
          "xref": "paper",
          "y": 1,
          "yanchor": "bottom",
          "yref": "paper"
         },
         {
          "font": {},
          "showarrow": false,
          "text": "caller=freebayes",
          "x": 0.5,
          "xanchor": "center",
          "xref": "paper",
          "y": 1,
          "yanchor": "bottom",
          "yref": "paper"
         },
         {
          "font": {},
          "showarrow": false,
          "text": "caller=gatk",
          "x": 0.6457142857142856,
          "xanchor": "center",
          "xref": "paper",
          "y": 1,
          "yanchor": "bottom",
          "yref": "paper"
         },
         {
          "font": {},
          "showarrow": false,
          "text": "caller=lancet",
          "x": 0.7914285714285713,
          "xanchor": "center",
          "xref": "paper",
          "y": 1,
          "yanchor": "bottom",
          "yref": "paper"
         },
         {
          "font": {},
          "showarrow": false,
          "text": "caller=vardict",
          "x": 0.9371428571428569,
          "xanchor": "center",
          "xref": "paper",
          "y": 1,
          "yanchor": "bottom",
          "yref": "paper"
         }
        ],
        "autosize": true,
        "legend": {
         "title": {
          "text": "variable"
         },
         "tracegroupgap": 0
        },
        "margin": {
         "t": 60
        },
        "template": {
         "data": {
          "bar": [
           {
            "error_x": {
             "color": "#2a3f5f"
            },
            "error_y": {
             "color": "#2a3f5f"
            },
            "marker": {
             "line": {
              "color": "#E5ECF6",
              "width": 0.5
             },
             "pattern": {
              "fillmode": "overlay",
              "size": 10,
              "solidity": 0.2
             }
            },
            "type": "bar"
           }
          ],
          "barpolar": [
           {
            "marker": {
             "line": {
              "color": "#E5ECF6",
              "width": 0.5
             },
             "pattern": {
              "fillmode": "overlay",
              "size": 10,
              "solidity": 0.2
             }
            },
            "type": "barpolar"
           }
          ],
          "carpet": [
           {
            "aaxis": {
             "endlinecolor": "#2a3f5f",
             "gridcolor": "white",
             "linecolor": "white",
             "minorgridcolor": "white",
             "startlinecolor": "#2a3f5f"
            },
            "baxis": {
             "endlinecolor": "#2a3f5f",
             "gridcolor": "white",
             "linecolor": "white",
             "minorgridcolor": "white",
             "startlinecolor": "#2a3f5f"
            },
            "type": "carpet"
           }
          ],
          "choropleth": [
           {
            "colorbar": {
             "outlinewidth": 0,
             "ticks": ""
            },
            "type": "choropleth"
           }
          ],
          "contour": [
           {
            "colorbar": {
             "outlinewidth": 0,
             "ticks": ""
            },
            "colorscale": [
             [
              0,
              "#0d0887"
             ],
             [
              0.1111111111111111,
              "#46039f"
             ],
             [
              0.2222222222222222,
              "#7201a8"
             ],
             [
              0.3333333333333333,
              "#9c179e"
             ],
             [
              0.4444444444444444,
              "#bd3786"
             ],
             [
              0.5555555555555556,
              "#d8576b"
             ],
             [
              0.6666666666666666,
              "#ed7953"
             ],
             [
              0.7777777777777778,
              "#fb9f3a"
             ],
             [
              0.8888888888888888,
              "#fdca26"
             ],
             [
              1,
              "#f0f921"
             ]
            ],
            "type": "contour"
           }
          ],
          "contourcarpet": [
           {
            "colorbar": {
             "outlinewidth": 0,
             "ticks": ""
            },
            "type": "contourcarpet"
           }
          ],
          "heatmap": [
           {
            "colorbar": {
             "outlinewidth": 0,
             "ticks": ""
            },
            "colorscale": [
             [
              0,
              "#0d0887"
             ],
             [
              0.1111111111111111,
              "#46039f"
             ],
             [
              0.2222222222222222,
              "#7201a8"
             ],
             [
              0.3333333333333333,
              "#9c179e"
             ],
             [
              0.4444444444444444,
              "#bd3786"
             ],
             [
              0.5555555555555556,
              "#d8576b"
             ],
             [
              0.6666666666666666,
              "#ed7953"
             ],
             [
              0.7777777777777778,
              "#fb9f3a"
             ],
             [
              0.8888888888888888,
              "#fdca26"
             ],
             [
              1,
              "#f0f921"
             ]
            ],
            "type": "heatmap"
           }
          ],
          "heatmapgl": [
           {
            "colorbar": {
             "outlinewidth": 0,
             "ticks": ""
            },
            "colorscale": [
             [
              0,
              "#0d0887"
             ],
             [
              0.1111111111111111,
              "#46039f"
             ],
             [
              0.2222222222222222,
              "#7201a8"
             ],
             [
              0.3333333333333333,
              "#9c179e"
             ],
             [
              0.4444444444444444,
              "#bd3786"
             ],
             [
              0.5555555555555556,
              "#d8576b"
             ],
             [
              0.6666666666666666,
              "#ed7953"
             ],
             [
              0.7777777777777778,
              "#fb9f3a"
             ],
             [
              0.8888888888888888,
              "#fdca26"
             ],
             [
              1,
              "#f0f921"
             ]
            ],
            "type": "heatmapgl"
           }
          ],
          "histogram": [
           {
            "marker": {
             "pattern": {
              "fillmode": "overlay",
              "size": 10,
              "solidity": 0.2
             }
            },
            "type": "histogram"
           }
          ],
          "histogram2d": [
           {
            "colorbar": {
             "outlinewidth": 0,
             "ticks": ""
            },
            "colorscale": [
             [
              0,
              "#0d0887"
             ],
             [
              0.1111111111111111,
              "#46039f"
             ],
             [
              0.2222222222222222,
              "#7201a8"
             ],
             [
              0.3333333333333333,
              "#9c179e"
             ],
             [
              0.4444444444444444,
              "#bd3786"
             ],
             [
              0.5555555555555556,
              "#d8576b"
             ],
             [
              0.6666666666666666,
              "#ed7953"
             ],
             [
              0.7777777777777778,
              "#fb9f3a"
             ],
             [
              0.8888888888888888,
              "#fdca26"
             ],
             [
              1,
              "#f0f921"
             ]
            ],
            "type": "histogram2d"
           }
          ],
          "histogram2dcontour": [
           {
            "colorbar": {
             "outlinewidth": 0,
             "ticks": ""
            },
            "colorscale": [
             [
              0,
              "#0d0887"
             ],
             [
              0.1111111111111111,
              "#46039f"
             ],
             [
              0.2222222222222222,
              "#7201a8"
             ],
             [
              0.3333333333333333,
              "#9c179e"
             ],
             [
              0.4444444444444444,
              "#bd3786"
             ],
             [
              0.5555555555555556,
              "#d8576b"
             ],
             [
              0.6666666666666666,
              "#ed7953"
             ],
             [
              0.7777777777777778,
              "#fb9f3a"
             ],
             [
              0.8888888888888888,
              "#fdca26"
             ],
             [
              1,
              "#f0f921"
             ]
            ],
            "type": "histogram2dcontour"
           }
          ],
          "mesh3d": [
           {
            "colorbar": {
             "outlinewidth": 0,
             "ticks": ""
            },
            "type": "mesh3d"
           }
          ],
          "parcoords": [
           {
            "line": {
             "colorbar": {
              "outlinewidth": 0,
              "ticks": ""
             }
            },
            "type": "parcoords"
           }
          ],
          "pie": [
           {
            "automargin": true,
            "type": "pie"
           }
          ],
          "scatter": [
           {
            "marker": {
             "colorbar": {
              "outlinewidth": 0,
              "ticks": ""
             }
            },
            "type": "scatter"
           }
          ],
          "scatter3d": [
           {
            "line": {
             "colorbar": {
              "outlinewidth": 0,
              "ticks": ""
             }
            },
            "marker": {
             "colorbar": {
              "outlinewidth": 0,
              "ticks": ""
             }
            },
            "type": "scatter3d"
           }
          ],
          "scattercarpet": [
           {
            "marker": {
             "colorbar": {
              "outlinewidth": 0,
              "ticks": ""
             }
            },
            "type": "scattercarpet"
           }
          ],
          "scattergeo": [
           {
            "marker": {
             "colorbar": {
              "outlinewidth": 0,
              "ticks": ""
             }
            },
            "type": "scattergeo"
           }
          ],
          "scattergl": [
           {
            "marker": {
             "colorbar": {
              "outlinewidth": 0,
              "ticks": ""
             }
            },
            "type": "scattergl"
           }
          ],
          "scattermapbox": [
           {
            "marker": {
             "colorbar": {
              "outlinewidth": 0,
              "ticks": ""
             }
            },
            "type": "scattermapbox"
           }
          ],
          "scatterpolar": [
           {
            "marker": {
             "colorbar": {
              "outlinewidth": 0,
              "ticks": ""
             }
            },
            "type": "scatterpolar"
           }
          ],
          "scatterpolargl": [
           {
            "marker": {
             "colorbar": {
              "outlinewidth": 0,
              "ticks": ""
             }
            },
            "type": "scatterpolargl"
           }
          ],
          "scatterternary": [
           {
            "marker": {
             "colorbar": {
              "outlinewidth": 0,
              "ticks": ""
             }
            },
            "type": "scatterternary"
           }
          ],
          "surface": [
           {
            "colorbar": {
             "outlinewidth": 0,
             "ticks": ""
            },
            "colorscale": [
             [
              0,
              "#0d0887"
             ],
             [
              0.1111111111111111,
              "#46039f"
             ],
             [
              0.2222222222222222,
              "#7201a8"
             ],
             [
              0.3333333333333333,
              "#9c179e"
             ],
             [
              0.4444444444444444,
              "#bd3786"
             ],
             [
              0.5555555555555556,
              "#d8576b"
             ],
             [
              0.6666666666666666,
              "#ed7953"
             ],
             [
              0.7777777777777778,
              "#fb9f3a"
             ],
             [
              0.8888888888888888,
              "#fdca26"
             ],
             [
              1,
              "#f0f921"
             ]
            ],
            "type": "surface"
           }
          ],
          "table": [
           {
            "cells": {
             "fill": {
              "color": "#EBF0F8"
             },
             "line": {
              "color": "white"
             }
            },
            "header": {
             "fill": {
              "color": "#C8D4E3"
             },
             "line": {
              "color": "white"
             }
            },
            "type": "table"
           }
          ]
         },
         "layout": {
          "annotationdefaults": {
           "arrowcolor": "#2a3f5f",
           "arrowhead": 0,
           "arrowwidth": 1
          },
          "autotypenumbers": "strict",
          "coloraxis": {
           "colorbar": {
            "outlinewidth": 0,
            "ticks": ""
           }
          },
          "colorscale": {
           "diverging": [
            [
             0,
             "#8e0152"
            ],
            [
             0.1,
             "#c51b7d"
            ],
            [
             0.2,
             "#de77ae"
            ],
            [
             0.3,
             "#f1b6da"
            ],
            [
             0.4,
             "#fde0ef"
            ],
            [
             0.5,
             "#f7f7f7"
            ],
            [
             0.6,
             "#e6f5d0"
            ],
            [
             0.7,
             "#b8e186"
            ],
            [
             0.8,
             "#7fbc41"
            ],
            [
             0.9,
             "#4d9221"
            ],
            [
             1,
             "#276419"
            ]
           ],
           "sequential": [
            [
             0,
             "#0d0887"
            ],
            [
             0.1111111111111111,
             "#46039f"
            ],
            [
             0.2222222222222222,
             "#7201a8"
            ],
            [
             0.3333333333333333,
             "#9c179e"
            ],
            [
             0.4444444444444444,
             "#bd3786"
            ],
            [
             0.5555555555555556,
             "#d8576b"
            ],
            [
             0.6666666666666666,
             "#ed7953"
            ],
            [
             0.7777777777777778,
             "#fb9f3a"
            ],
            [
             0.8888888888888888,
             "#fdca26"
            ],
            [
             1,
             "#f0f921"
            ]
           ],
           "sequentialminus": [
            [
             0,
             "#0d0887"
            ],
            [
             0.1111111111111111,
             "#46039f"
            ],
            [
             0.2222222222222222,
             "#7201a8"
            ],
            [
             0.3333333333333333,
             "#9c179e"
            ],
            [
             0.4444444444444444,
             "#bd3786"
            ],
            [
             0.5555555555555556,
             "#d8576b"
            ],
            [
             0.6666666666666666,
             "#ed7953"
            ],
            [
             0.7777777777777778,
             "#fb9f3a"
            ],
            [
             0.8888888888888888,
             "#fdca26"
            ],
            [
             1,
             "#f0f921"
            ]
           ]
          },
          "colorway": [
           "#636efa",
           "#EF553B",
           "#00cc96",
           "#ab63fa",
           "#FFA15A",
           "#19d3f3",
           "#FF6692",
           "#B6E880",
           "#FF97FF",
           "#FECB52"
          ],
          "font": {
           "color": "#2a3f5f"
          },
          "geo": {
           "bgcolor": "white",
           "lakecolor": "white",
           "landcolor": "#E5ECF6",
           "showlakes": true,
           "showland": true,
           "subunitcolor": "white"
          },
          "hoverlabel": {
           "align": "left"
          },
          "hovermode": "closest",
          "mapbox": {
           "style": "light"
          },
          "paper_bgcolor": "white",
          "plot_bgcolor": "#E5ECF6",
          "polar": {
           "angularaxis": {
            "gridcolor": "white",
            "linecolor": "white",
            "ticks": ""
           },
           "bgcolor": "#E5ECF6",
           "radialaxis": {
            "gridcolor": "white",
            "linecolor": "white",
            "ticks": ""
           }
          },
          "scene": {
           "xaxis": {
            "backgroundcolor": "#E5ECF6",
            "gridcolor": "white",
            "gridwidth": 2,
            "linecolor": "white",
            "showbackground": true,
            "ticks": "",
            "zerolinecolor": "white"
           },
           "yaxis": {
            "backgroundcolor": "#E5ECF6",
            "gridcolor": "white",
            "gridwidth": 2,
            "linecolor": "white",
            "showbackground": true,
            "ticks": "",
            "zerolinecolor": "white"
           },
           "zaxis": {
            "backgroundcolor": "#E5ECF6",
            "gridcolor": "white",
            "gridwidth": 2,
            "linecolor": "white",
            "showbackground": true,
            "ticks": "",
            "zerolinecolor": "white"
           }
          },
          "shapedefaults": {
           "line": {
            "color": "#2a3f5f"
           }
          },
          "ternary": {
           "aaxis": {
            "gridcolor": "white",
            "linecolor": "white",
            "ticks": ""
           },
           "baxis": {
            "gridcolor": "white",
            "linecolor": "white",
            "ticks": ""
           },
           "bgcolor": "#E5ECF6",
           "caxis": {
            "gridcolor": "white",
            "linecolor": "white",
            "ticks": ""
           }
          },
          "title": {
           "x": 0.05
          },
          "xaxis": {
           "automargin": true,
           "gridcolor": "white",
           "linecolor": "white",
           "ticks": "",
           "title": {
            "standoff": 15
           },
           "zerolinecolor": "white",
           "zerolinewidth": 2
          },
          "yaxis": {
           "automargin": true,
           "gridcolor": "white",
           "linecolor": "white",
           "ticks": "",
           "title": {
            "standoff": 15
           },
           "zerolinecolor": "white",
           "zerolinewidth": 2
          }
         }
        },
        "xaxis": {
         "anchor": "y",
         "autorange": true,
         "domain": [
          0,
          0.1257142857142857
         ],
         "range": [
          -5.763837740660668,
          110.76383774066066
         ],
         "title": {
          "text": "dataset"
         },
         "type": "linear"
        },
        "xaxis2": {
         "anchor": "y2",
         "autorange": true,
         "domain": [
          0.14571428571428569,
          0.27142857142857135
         ],
         "matches": "x",
         "range": [
          -5.763837740660668,
          110.76383774066066
         ],
         "title": {
          "text": "dataset"
         },
         "type": "linear"
        },
        "xaxis3": {
         "anchor": "y3",
         "autorange": true,
         "domain": [
          0.29142857142857137,
          0.41714285714285704
         ],
         "matches": "x",
         "range": [
          -5.763837740660668,
          110.76383774066066
         ],
         "title": {
          "text": "dataset"
         },
         "type": "linear"
        },
        "xaxis4": {
         "anchor": "y4",
         "autorange": true,
         "domain": [
          0.4371428571428571,
          0.5628571428571428
         ],
         "matches": "x",
         "range": [
          -5.763837740660668,
          110.76383774066066
         ],
         "title": {
          "text": "dataset"
         },
         "type": "linear"
        },
        "xaxis5": {
         "anchor": "y5",
         "autorange": true,
         "domain": [
          0.5828571428571427,
          0.7085714285714284
         ],
         "matches": "x",
         "range": [
          -5.763837740660668,
          110.76383774066066
         ],
         "title": {
          "text": "dataset"
         },
         "type": "linear"
        },
        "xaxis6": {
         "anchor": "y6",
         "autorange": true,
         "domain": [
          0.7285714285714284,
          0.8542857142857141
         ],
         "matches": "x",
         "range": [
          -5.763837740660668,
          110.76383774066066
         ],
         "title": {
          "text": "dataset"
         },
         "type": "linear"
        },
        "xaxis7": {
         "anchor": "y7",
         "autorange": true,
         "domain": [
          0.8742857142857141,
          0.9999999999999998
         ],
         "matches": "x",
         "range": [
          -5.763837740660668,
          110.76383774066066
         ],
         "title": {
          "text": "dataset"
         },
         "type": "linear"
        },
        "yaxis": {
         "anchor": "x",
         "autorange": true,
         "domain": [
          0,
          1
         ],
         "range": [
          0.15520151332878743,
          1.060710244474545
         ],
         "title": {
          "text": "value"
         },
         "type": "linear"
        },
        "yaxis2": {
         "anchor": "x2",
         "autorange": true,
         "domain": [
          0,
          1
         ],
         "matches": "y",
         "range": [
          0.15520151332878743,
          1.060710244474545
         ],
         "showticklabels": false,
         "type": "linear"
        },
        "yaxis3": {
         "anchor": "x3",
         "autorange": true,
         "domain": [
          0,
          1
         ],
         "matches": "y",
         "range": [
          0.15520151332878743,
          1.060710244474545
         ],
         "showticklabels": false,
         "type": "linear"
        },
        "yaxis4": {
         "anchor": "x4",
         "autorange": true,
         "domain": [
          0,
          1
         ],
         "matches": "y",
         "range": [
          0.15520151332878743,
          1.060710244474545
         ],
         "showticklabels": false,
         "type": "linear"
        },
        "yaxis5": {
         "anchor": "x5",
         "autorange": true,
         "domain": [
          0,
          1
         ],
         "matches": "y",
         "range": [
          0.15520151332878743,
          1.060710244474545
         ],
         "showticklabels": false,
         "type": "linear"
        },
        "yaxis6": {
         "anchor": "x6",
         "autorange": true,
         "domain": [
          0,
          1
         ],
         "matches": "y",
         "range": [
          0.15520151332878743,
          1.060710244474545
         ],
         "showticklabels": false,
         "type": "linear"
        },
        "yaxis7": {
         "anchor": "x7",
         "autorange": true,
         "domain": [
          0,
          1
         ],
         "matches": "y",
         "range": [
          0.15520151332878743,
          1.060710244474545
         ],
         "showticklabels": false,
         "type": "linear"
        }
       }
      },
      "image/png": "[encoded data removed]",
      "text/html": [
       "<div>                            <div id=\"dc34ff3d-b981-4e1c-9360-c011c2c060d5\" class=\"plotly-graph-div\" style=\"height:525px; width:100%;\"></div>            <script type=\"text/javascript\">                require([\"plotly\"], function(Plotly) {                    window.PLOTLYENV=window.PLOTLYENV || {};                                    if (document.getElementById(\"dc34ff3d-b981-4e1c-9360-c011c2c060d5\")) {                    Plotly.newPlot(                        \"dc34ff3d-b981-4e1c-9360-c011c2c060d5\",                        [{\"hovertemplate\":\"variable=recall<br>caller=bcftools<br>dataset=%{x}<br>value=%{y}<extra></extra>\",\"legendgroup\":\"recall\",\"marker\":{\"color\":\"#636efa\",\"symbol\":\"circle\"},\"mode\":\"markers\",\"name\":\"recall\",\"orientation\":\"v\",\"showlegend\":true,\"type\":\"scatter\",\"x\":[5,10,15,20,30,40,50,60,70,80,90,100],\"xaxis\":\"x\",\"y\":[0.6775404834545882,0.9002581553625909,0.9554095282797466,0.971837596808261,0.9774700774466087,0.9784088242196668,0.9791128842994602,0.9791128842994602,0.9791128842994602,0.9793475709927247,0.9795822576859892,0.9795822576859892],\"yaxis\":\"y\"},{\"hovertemplate\":\"variable=recall<br>caller=deepvariant<br>dataset=%{x}<br>value=%{y}<extra></extra>\",\"legendgroup\":\"recall\",\"marker\":{\"color\":\"#636efa\",\"symbol\":\"circle\"},\"mode\":\"markers\",\"name\":\"recall\",\"orientation\":\"v\",\"showlegend\":false,\"type\":\"scatter\",\"x\":[5,10,15,20,30,40,50,60,70,80,90,100],\"xaxis\":\"x2\",\"y\":[0.8035672377376203,0.9652663693968552,0.9847453649378081,0.986622858483924,0.9868575451771885,0.9870922318704529,0.9870922318704529,0.9880309786435109,0.9880309786435109,0.9882656653367754,0.9880309786435109,0.9880309786435109],\"yaxis\":\"y2\"},{\"hovertemplate\":\"variable=recall<br>caller=discosnp<br>dataset=%{x}<br>value=%{y}<extra></extra>\",\"legendgroup\":\"recall\",\"marker\":{\"color\":\"#636efa\",\"symbol\":\"circle\"},\"mode\":\"markers\",\"name\":\"recall\",\"orientation\":\"v\",\"showlegend\":false,\"type\":\"scatter\",\"x\":[5,10,15,20,30,40,50,60,70,80,90,100],\"xaxis\":\"x3\",\"y\":[0.22412579206758976,0.6134710161933818,0.6751936165219432,0.6899788781976062,0.6923257451302511,0.6852851443323164,0.697019478995541,0.7042947664867402,0.7003050927012439,0.6967847923022764,0.6857545177188453,0.695611358835954],\"yaxis\":\"y3\"},{\"hovertemplate\":\"variable=recall<br>caller=freebayes<br>dataset=%{x}<br>value=%{y}<extra></extra>\",\"legendgroup\":\"recall\",\"marker\":{\"color\":\"#636efa\",\"symbol\":\"circle\"},\"mode\":\"markers\",\"name\":\"recall\",\"orientation\":\"v\",\"showlegend\":false,\"type\":\"scatter\",\"x\":[5,10,15,20,30,40,50,60,70,80,90,100],\"xaxis\":\"x4\",\"y\":[0.6906829382773997,0.9141046702651959,0.9636235625440037,0.9755925839004929,0.9795822576859892,0.9826331846984276,0.9831025580849566,0.9831025580849566,0.983337244778221,0.9835719314714856,0.98380661816475,0.9840413048580146],\"yaxis\":\"y4\"},{\"hovertemplate\":\"variable=recall<br>caller=gatk<br>dataset=%{x}<br>value=%{y}<extra></extra>\",\"legendgroup\":\"recall\",\"marker\":{\"color\":\"#636efa\",\"symbol\":\"circle\"},\"mode\":\"markers\",\"name\":\"recall\",\"orientation\":\"v\",\"showlegend\":false,\"type\":\"scatter\",\"x\":[5,10,15,20,30,40,50,60,70,80,90,100],\"xaxis\":\"x5\",\"y\":[0.8002816240319174,0.9624501290776813,0.9840413048580146,0.9873269185637175,0.9875616052569819,0.9877962919502464,0.9877962919502464,0.9882656653367754,0.9882656653367754,0.9882656653367754,0.9882656653367754,0.9882656653367754],\"yaxis\":\"y5\"},{\"hovertemplate\":\"variable=recall<br>caller=lancet<br>dataset=%{x}<br>value=%{y}<extra></extra>\",\"legendgroup\":\"recall\",\"marker\":{\"color\":\"#636efa\",\"symbol\":\"circle\"},\"mode\":\"markers\",\"name\":\"recall\",\"orientation\":\"v\",\"showlegend\":false,\"type\":\"scatter\",\"x\":[5,10,15,20,30,40,50,60,70,80,90,100],\"xaxis\":\"x6\",\"y\":[0.21591175780333255,0.651255573808965,0.8699835719314715,0.9378080262849097,0.9680826097160291,0.970898850035203,0.9732457169678479,0.9744191504341704,0.9748885238206993,0.9753578972072283,0.9760619572870218,0.9762966439802864],\"yaxis\":\"y6\"},{\"hovertemplate\":\"variable=recall<br>caller=vardict<br>dataset=%{x}<br>value=%{y}<extra></extra>\",\"legendgroup\":\"recall\",\"marker\":{\"color\":\"#636efa\",\"symbol\":\"circle\"},\"mode\":\"markers\",\"name\":\"recall\",\"orientation\":\"v\",\"showlegend\":false,\"type\":\"scatter\",\"x\":[5,10,15,20,30,40,50,60,70,80,90,100],\"xaxis\":\"x7\",\"y\":[0.8444027223656418,0.9643276226237972,0.9795822576859892,0.9823984980051631,0.9845106782445435,0.9849800516310725,0.9849800516310725,0.985684111710866,0.9859187984041304,0.986153485097395,0.986153485097395,0.986153485097395],\"yaxis\":\"y7\"},{\"hovertemplate\":\"variable=precision<br>caller=bcftools<br>dataset=%{x}<br>value=%{y}<extra></extra>\",\"legendgroup\":\"precision\",\"marker\":{\"color\":\"#EF553B\",\"symbol\":\"circle\"},\"mode\":\"markers\",\"name\":\"precision\",\"orientation\":\"v\",\"showlegend\":true,\"type\":\"scatter\",\"x\":[5,10,15,20,30,40,50,60,70,80,90,100],\"xaxis\":\"x\",\"y\":[0.948111658456486,0.9788211278387343,0.9779005524861878,0.9755005889281507,0.9625606655881673,0.9475,0.9366861248316121,0.9281423804226919,0.9199558985667035,0.9117325759230938,0.9013172101058087,0.8934075342465754],\"yaxis\":\"y\"},{\"hovertemplate\":\"variable=precision<br>caller=deepvariant<br>dataset=%{x}<br>value=%{y}<extra></extra>\",\"legendgroup\":\"precision\",\"marker\":{\"color\":\"#EF553B\",\"symbol\":\"circle\"},\"mode\":\"markers\",\"name\":\"precision\",\"orientation\":\"v\",\"showlegend\":false,\"type\":\"scatter\",\"x\":[5,10,15,20,30,40,50,60,70,80,90,100],\"xaxis\":\"x2\",\"y\":[0.9907407407407407,0.996124969726326,0.997622444127437,0.9983376870102113,0.9990496555001188,0.9992872416250891,0.9990498812351544,0.9985768500948766,0.9988137603795967,0.9988140417457305,0.9983400521697889,0.9983400521697889],\"yaxis\":\"y2\"},{\"hovertemplate\":\"variable=precision<br>caller=discosnp<br>dataset=%{x}<br>value=%{y}<extra></extra>\",\"legendgroup\":\"precision\",\"marker\":{\"color\":\"#EF553B\",\"symbol\":\"circle\"},\"mode\":\"markers\",\"name\":\"precision\",\"orientation\":\"v\",\"showlegend\":false,\"type\":\"scatter\",\"x\":[5,10,15,20,30,40,50,60,70,80,90,100],\"xaxis\":\"x3\",\"y\":[0.9979101358411703,0.9992354740061162,0.9986115931968067,0.998641304347826,0.998645903859174,0.999315537303217,0.9993270524899058,0.9993339993339994,0.998661311914324,0.9989905787348586,0.9989743589743589,0.9989888776541962],\"yaxis\":\"y3\"},{\"hovertemplate\":\"variable=precision<br>caller=freebayes<br>dataset=%{x}<br>value=%{y}<extra></extra>\",\"legendgroup\":\"precision\",\"marker\":{\"color\":\"#EF553B\",\"symbol\":\"circle\"},\"mode\":\"markers\",\"name\":\"precision\",\"orientation\":\"v\",\"showlegend\":false,\"type\":\"scatter\",\"x\":[5,10,15,20,30,40,50,60,70,80,90,100],\"xaxis\":\"x4\",\"y\":[0.9952654717619208,0.9979502946451447,0.997812879708384,0.9980792316926771,0.9983257593877063,0.9983309489747259,0.9983317445185891,0.9983317445185891,0.9980943306336351,0.9976196143775291,0.9976201808662541,0.9971462544589774],\"yaxis\":\"y4\"},{\"hovertemplate\":\"variable=precision<br>caller=gatk<br>dataset=%{x}<br>value=%{y}<extra></extra>\",\"legendgroup\":\"precision\",\"marker\":{\"color\":\"#EF553B\",\"symbol\":\"circle\"},\"mode\":\"markers\",\"name\":\"precision\",\"orientation\":\"v\",\"showlegend\":false,\"type\":\"scatter\",\"x\":[5,10,15,20,30,40,50,60,70,80,90,100],\"xaxis\":\"x5\",\"y\":[0.9959112149532711,0.9992690058479532,1.0,0.9997623574144486,0.9997624138750297,0.9997624703087886,0.9997624703087886,0.9995252788986471,0.9995252788986471,0.9995252788986471,0.9992880873279545,0.9992880873279545],\"yaxis\":\"y5\"},{\"hovertemplate\":\"variable=precision<br>caller=lancet<br>dataset=%{x}<br>value=%{y}<extra></extra>\",\"legendgroup\":\"precision\",\"marker\":{\"color\":\"#EF553B\",\"symbol\":\"circle\"},\"mode\":\"markers\",\"name\":\"precision\",\"orientation\":\"v\",\"showlegend\":false,\"type\":\"scatter\",\"x\":[5,10,15,20,30,40,50,60,70,80,90,100],\"xaxis\":\"x6\",\"y\":[1.0,0.9996397694524496,0.999730312837109,0.9997498123592694,0.9997576345128454,0.999758337361044,0.9997589199614272,0.9997592102094871,0.9997593261131167,0.9997594419052201,0.9997596153846153,0.9997596731554914],\"yaxis\":\"y6\"},{\"hovertemplate\":\"variable=precision<br>caller=vardict<br>dataset=%{x}<br>value=%{y}<extra></extra>\",\"legendgroup\":\"precision\",\"marker\":{\"color\":\"#EF553B\",\"symbol\":\"circle\"},\"mode\":\"markers\",\"name\":\"precision\",\"orientation\":\"v\",\"showlegend\":false,\"type\":\"scatter\",\"x\":[5,10,15,20,30,40,50,60,70,80,90,100],\"xaxis\":\"x7\",\"y\":[0.9952973720608576,0.9937122128174123,0.9919201520912547,0.9905347846663511,0.9884542884071631,0.9879943502824858,0.9872971065631616,0.9873060648801129,0.9868451961475218,0.9877762106252939,0.9870801033591732,0.9877762106252939],\"yaxis\":\"y7\"}],                        {\"annotations\":[{\"font\":{},\"showarrow\":false,\"text\":\"caller=bcftools\",\"x\":0.06285714285714285,\"xanchor\":\"center\",\"xref\":\"paper\",\"y\":1.0,\"yanchor\":\"bottom\",\"yref\":\"paper\"},{\"font\":{},\"showarrow\":false,\"text\":\"caller=deepvariant\",\"x\":0.20857142857142852,\"xanchor\":\"center\",\"xref\":\"paper\",\"y\":1.0,\"yanchor\":\"bottom\",\"yref\":\"paper\"},{\"font\":{},\"showarrow\":false,\"text\":\"caller=discosnp\",\"x\":0.3542857142857142,\"xanchor\":\"center\",\"xref\":\"paper\",\"y\":1.0,\"yanchor\":\"bottom\",\"yref\":\"paper\"},{\"font\":{},\"showarrow\":false,\"text\":\"caller=freebayes\",\"x\":0.5,\"xanchor\":\"center\",\"xref\":\"paper\",\"y\":1.0,\"yanchor\":\"bottom\",\"yref\":\"paper\"},{\"font\":{},\"showarrow\":false,\"text\":\"caller=gatk\",\"x\":0.6457142857142856,\"xanchor\":\"center\",\"xref\":\"paper\",\"y\":1.0,\"yanchor\":\"bottom\",\"yref\":\"paper\"},{\"font\":{},\"showarrow\":false,\"text\":\"caller=lancet\",\"x\":0.7914285714285713,\"xanchor\":\"center\",\"xref\":\"paper\",\"y\":1.0,\"yanchor\":\"bottom\",\"yref\":\"paper\"},{\"font\":{},\"showarrow\":false,\"text\":\"caller=vardict\",\"x\":0.9371428571428569,\"xanchor\":\"center\",\"xref\":\"paper\",\"y\":1.0,\"yanchor\":\"bottom\",\"yref\":\"paper\"}],\"legend\":{\"title\":{\"text\":\"variable\"},\"tracegroupgap\":0},\"margin\":{\"t\":60},\"template\":{\"data\":{\"bar\":[{\"error_x\":{\"color\":\"#2a3f5f\"},\"error_y\":{\"color\":\"#2a3f5f\"},\"marker\":{\"line\":{\"color\":\"#E5ECF6\",\"width\":0.5},\"pattern\":{\"fillmode\":\"overlay\",\"size\":10,\"solidity\":0.2}},\"type\":\"bar\"}],\"barpolar\":[{\"marker\":{\"line\":{\"color\":\"#E5ECF6\",\"width\":0.5},\"pattern\":{\"fillmode\":\"overlay\",\"size\":10,\"solidity\":0.2}},\"type\":\"barpolar\"}],\"carpet\":[{\"aaxis\":{\"endlinecolor\":\"#2a3f5f\",\"gridcolor\":\"white\",\"linecolor\":\"white\",\"minorgridcolor\":\"white\",\"startlinecolor\":\"#2a3f5f\"},\"baxis\":{\"endlinecolor\":\"#2a3f5f\",\"gridcolor\":\"white\",\"linecolor\":\"white\",\"minorgridcolor\":\"white\",\"startlinecolor\":\"#2a3f5f\"},\"type\":\"carpet\"}],\"choropleth\":[{\"colorbar\":{\"outlinewidth\":0,\"ticks\":\"\"},\"type\":\"choropleth\"}],\"contour\":[{\"colorbar\":{\"outlinewidth\":0,\"ticks\":\"\"},\"colorscale\":[[0.0,\"#0d0887\"],[0.1111111111111111,\"#46039f\"],[0.2222222222222222,\"#7201a8\"],[0.3333333333333333,\"#9c179e\"],[0.4444444444444444,\"#bd3786\"],[0.5555555555555556,\"#d8576b\"],[0.6666666666666666,\"#ed7953\"],[0.7777777777777778,\"#fb9f3a\"],[0.8888888888888888,\"#fdca26\"],[1.0,\"#f0f921\"]],\"type\":\"contour\"}],\"contourcarpet\":[{\"colorbar\":{\"outlinewidth\":0,\"ticks\":\"\"},\"type\":\"contourcarpet\"}],\"heatmap\":[{\"colorbar\":{\"outlinewidth\":0,\"ticks\":\"\"},\"colorscale\":[[0.0,\"#0d0887\"],[0.1111111111111111,\"#46039f\"],[0.2222222222222222,\"#7201a8\"],[0.3333333333333333,\"#9c179e\"],[0.4444444444444444,\"#bd3786\"],[0.5555555555555556,\"#d8576b\"],[0.6666666666666666,\"#ed7953\"],[0.7777777777777778,\"#fb9f3a\"],[0.8888888888888888,\"#fdca26\"],[1.0,\"#f0f921\"]],\"type\":\"heatmap\"}],\"heatmapgl\":[{\"colorbar\":{\"outlinewidth\":0,\"ticks\":\"\"},\"colorscale\":[[0.0,\"#0d0887\"],[0.1111111111111111,\"#46039f\"],[0.2222222222222222,\"#7201a8\"],[0.3333333333333333,\"#9c179e\"],[0.4444444444444444,\"#bd3786\"],[0.5555555555555556,\"#d8576b\"],[0.6666666666666666,\"#ed7953\"],[0.7777777777777778,\"#fb9f3a\"],[0.8888888888888888,\"#fdca26\"],[1.0,\"#f0f921\"]],\"type\":\"heatmapgl\"}],\"histogram\":[{\"marker\":{\"pattern\":{\"fillmode\":\"overlay\",\"size\":10,\"solidity\":0.2}},\"type\":\"histogram\"}],\"histogram2d\":[{\"colorbar\":{\"outlinewidth\":0,\"ticks\":\"\"},\"colorscale\":[[0.0,\"#0d0887\"],[0.1111111111111111,\"#46039f\"],[0.2222222222222222,\"#7201a8\"],[0.3333333333333333,\"#9c179e\"],[0.4444444444444444,\"#bd3786\"],[0.5555555555555556,\"#d8576b\"],[0.6666666666666666,\"#ed7953\"],[0.7777777777777778,\"#fb9f3a\"],[0.8888888888888888,\"#fdca26\"],[1.0,\"#f0f921\"]],\"type\":\"histogram2d\"}],\"histogram2dcontour\":[{\"colorbar\":{\"outlinewidth\":0,\"ticks\":\"\"},\"colorscale\":[[0.0,\"#0d0887\"],[0.1111111111111111,\"#46039f\"],[0.2222222222222222,\"#7201a8\"],[0.3333333333333333,\"#9c179e\"],[0.4444444444444444,\"#bd3786\"],[0.5555555555555556,\"#d8576b\"],[0.6666666666666666,\"#ed7953\"],[0.7777777777777778,\"#fb9f3a\"],[0.8888888888888888,\"#fdca26\"],[1.0,\"#f0f921\"]],\"type\":\"histogram2dcontour\"}],\"mesh3d\":[{\"colorbar\":{\"outlinewidth\":0,\"ticks\":\"\"},\"type\":\"mesh3d\"}],\"parcoords\":[{\"line\":{\"colorbar\":{\"outlinewidth\":0,\"ticks\":\"\"}},\"type\":\"parcoords\"}],\"pie\":[{\"automargin\":true,\"type\":\"pie\"}],\"scatter\":[{\"marker\":{\"colorbar\":{\"outlinewidth\":0,\"ticks\":\"\"}},\"type\":\"scatter\"}],\"scatter3d\":[{\"line\":{\"colorbar\":{\"outlinewidth\":0,\"ticks\":\"\"}},\"marker\":{\"colorbar\":{\"outlinewidth\":0,\"ticks\":\"\"}},\"type\":\"scatter3d\"}],\"scattercarpet\":[{\"marker\":{\"colorbar\":{\"outlinewidth\":0,\"ticks\":\"\"}},\"type\":\"scattercarpet\"}],\"scattergeo\":[{\"marker\":{\"colorbar\":{\"outlinewidth\":0,\"ticks\":\"\"}},\"type\":\"scattergeo\"}],\"scattergl\":[{\"marker\":{\"colorbar\":{\"outlinewidth\":0,\"ticks\":\"\"}},\"type\":\"scattergl\"}],\"scattermapbox\":[{\"marker\":{\"colorbar\":{\"outlinewidth\":0,\"ticks\":\"\"}},\"type\":\"scattermapbox\"}],\"scatterpolar\":[{\"marker\":{\"colorbar\":{\"outlinewidth\":0,\"ticks\":\"\"}},\"type\":\"scatterpolar\"}],\"scatterpolargl\":[{\"marker\":{\"colorbar\":{\"outlinewidth\":0,\"ticks\":\"\"}},\"type\":\"scatterpolargl\"}],\"scatterternary\":[{\"marker\":{\"colorbar\":{\"outlinewidth\":0,\"ticks\":\"\"}},\"type\":\"scatterternary\"}],\"surface\":[{\"colorbar\":{\"outlinewidth\":0,\"ticks\":\"\"},\"colorscale\":[[0.0,\"#0d0887\"],[0.1111111111111111,\"#46039f\"],[0.2222222222222222,\"#7201a8\"],[0.3333333333333333,\"#9c179e\"],[0.4444444444444444,\"#bd3786\"],[0.5555555555555556,\"#d8576b\"],[0.6666666666666666,\"#ed7953\"],[0.7777777777777778,\"#fb9f3a\"],[0.8888888888888888,\"#fdca26\"],[1.0,\"#f0f921\"]],\"type\":\"surface\"}],\"table\":[{\"cells\":{\"fill\":{\"color\":\"#EBF0F8\"},\"line\":{\"color\":\"white\"}},\"header\":{\"fill\":{\"color\":\"#C8D4E3\"},\"line\":{\"color\":\"white\"}},\"type\":\"table\"}]},\"layout\":{\"annotationdefaults\":{\"arrowcolor\":\"#2a3f5f\",\"arrowhead\":0,\"arrowwidth\":1},\"autotypenumbers\":\"strict\",\"coloraxis\":{\"colorbar\":{\"outlinewidth\":0,\"ticks\":\"\"}},\"colorscale\":{\"diverging\":[[0,\"#8e0152\"],[0.1,\"#c51b7d\"],[0.2,\"#de77ae\"],[0.3,\"#f1b6da\"],[0.4,\"#fde0ef\"],[0.5,\"#f7f7f7\"],[0.6,\"#e6f5d0\"],[0.7,\"#b8e186\"],[0.8,\"#7fbc41\"],[0.9,\"#4d9221\"],[1,\"#276419\"]],\"sequential\":[[0.0,\"#0d0887\"],[0.1111111111111111,\"#46039f\"],[0.2222222222222222,\"#7201a8\"],[0.3333333333333333,\"#9c179e\"],[0.4444444444444444,\"#bd3786\"],[0.5555555555555556,\"#d8576b\"],[0.6666666666666666,\"#ed7953\"],[0.7777777777777778,\"#fb9f3a\"],[0.8888888888888888,\"#fdca26\"],[1.0,\"#f0f921\"]],\"sequentialminus\":[[0.0,\"#0d0887\"],[0.1111111111111111,\"#46039f\"],[0.2222222222222222,\"#7201a8\"],[0.3333333333333333,\"#9c179e\"],[0.4444444444444444,\"#bd3786\"],[0.5555555555555556,\"#d8576b\"],[0.6666666666666666,\"#ed7953\"],[0.7777777777777778,\"#fb9f3a\"],[0.8888888888888888,\"#fdca26\"],[1.0,\"#f0f921\"]]},\"colorway\":[\"#636efa\",\"#EF553B\",\"#00cc96\",\"#ab63fa\",\"#FFA15A\",\"#19d3f3\",\"#FF6692\",\"#B6E880\",\"#FF97FF\",\"#FECB52\"],\"font\":{\"color\":\"#2a3f5f\"},\"geo\":{\"bgcolor\":\"white\",\"lakecolor\":\"white\",\"landcolor\":\"#E5ECF6\",\"showlakes\":true,\"showland\":true,\"subunitcolor\":\"white\"},\"hoverlabel\":{\"align\":\"left\"},\"hovermode\":\"closest\",\"mapbox\":{\"style\":\"light\"},\"paper_bgcolor\":\"white\",\"plot_bgcolor\":\"#E5ECF6\",\"polar\":{\"angularaxis\":{\"gridcolor\":\"white\",\"linecolor\":\"white\",\"ticks\":\"\"},\"bgcolor\":\"#E5ECF6\",\"radialaxis\":{\"gridcolor\":\"white\",\"linecolor\":\"white\",\"ticks\":\"\"}},\"scene\":{\"xaxis\":{\"backgroundcolor\":\"#E5ECF6\",\"gridcolor\":\"white\",\"gridwidth\":2,\"linecolor\":\"white\",\"showbackground\":true,\"ticks\":\"\",\"zerolinecolor\":\"white\"},\"yaxis\":{\"backgroundcolor\":\"#E5ECF6\",\"gridcolor\":\"white\",\"gridwidth\":2,\"linecolor\":\"white\",\"showbackground\":true,\"ticks\":\"\",\"zerolinecolor\":\"white\"},\"zaxis\":{\"backgroundcolor\":\"#E5ECF6\",\"gridcolor\":\"white\",\"gridwidth\":2,\"linecolor\":\"white\",\"showbackground\":true,\"ticks\":\"\",\"zerolinecolor\":\"white\"}},\"shapedefaults\":{\"line\":{\"color\":\"#2a3f5f\"}},\"ternary\":{\"aaxis\":{\"gridcolor\":\"white\",\"linecolor\":\"white\",\"ticks\":\"\"},\"baxis\":{\"gridcolor\":\"white\",\"linecolor\":\"white\",\"ticks\":\"\"},\"bgcolor\":\"#E5ECF6\",\"caxis\":{\"gridcolor\":\"white\",\"linecolor\":\"white\",\"ticks\":\"\"}},\"title\":{\"x\":0.05},\"xaxis\":{\"automargin\":true,\"gridcolor\":\"white\",\"linecolor\":\"white\",\"ticks\":\"\",\"title\":{\"standoff\":15},\"zerolinecolor\":\"white\",\"zerolinewidth\":2},\"yaxis\":{\"automargin\":true,\"gridcolor\":\"white\",\"linecolor\":\"white\",\"ticks\":\"\",\"title\":{\"standoff\":15},\"zerolinecolor\":\"white\",\"zerolinewidth\":2}}},\"xaxis\":{\"anchor\":\"y\",\"domain\":[0.0,0.1257142857142857],\"title\":{\"text\":\"dataset\"}},\"xaxis2\":{\"anchor\":\"y2\",\"domain\":[0.14571428571428569,0.27142857142857135],\"matches\":\"x\",\"title\":{\"text\":\"dataset\"}},\"xaxis3\":{\"anchor\":\"y3\",\"domain\":[0.29142857142857137,0.41714285714285704],\"matches\":\"x\",\"title\":{\"text\":\"dataset\"}},\"xaxis4\":{\"anchor\":\"y4\",\"domain\":[0.4371428571428571,0.5628571428571428],\"matches\":\"x\",\"title\":{\"text\":\"dataset\"}},\"xaxis5\":{\"anchor\":\"y5\",\"domain\":[0.5828571428571427,0.7085714285714284],\"matches\":\"x\",\"title\":{\"text\":\"dataset\"}},\"xaxis6\":{\"anchor\":\"y6\",\"domain\":[0.7285714285714284,0.8542857142857141],\"matches\":\"x\",\"title\":{\"text\":\"dataset\"}},\"xaxis7\":{\"anchor\":\"y7\",\"domain\":[0.8742857142857141,0.9999999999999998],\"matches\":\"x\",\"title\":{\"text\":\"dataset\"}},\"yaxis\":{\"anchor\":\"x\",\"domain\":[0.0,1.0],\"title\":{\"text\":\"value\"}},\"yaxis2\":{\"anchor\":\"x2\",\"domain\":[0.0,1.0],\"matches\":\"y\",\"showticklabels\":false},\"yaxis3\":{\"anchor\":\"x3\",\"domain\":[0.0,1.0],\"matches\":\"y\",\"showticklabels\":false},\"yaxis4\":{\"anchor\":\"x4\",\"domain\":[0.0,1.0],\"matches\":\"y\",\"showticklabels\":false},\"yaxis5\":{\"anchor\":\"x5\",\"domain\":[0.0,1.0],\"matches\":\"y\",\"showticklabels\":false},\"yaxis6\":{\"anchor\":\"x6\",\"domain\":[0.0,1.0],\"matches\":\"y\",\"showticklabels\":false},\"yaxis7\":{\"anchor\":\"x7\",\"domain\":[0.0,1.0],\"matches\":\"y\",\"showticklabels\":false}},                        {\"responsive\": true}                    ).then(function(){\n",
       "                            \n",
       "var gd = document.getElementById('dc34ff3d-b981-4e1c-9360-c011c2c060d5');\n",
       "var x = new MutationObserver(function (mutations, observer) {{\n",
       "        var display = window.getComputedStyle(gd).display;\n",
       "        if (!display || display === 'none') {{\n",
       "            console.log([gd, 'removed!']);\n",
       "            Plotly.purge(gd);\n",
       "            observer.disconnect();\n",
       "        }}\n",
       "}});\n",
       "\n",
       "// Listen for the removal of the full notebook cells\n",
       "var notebookContainer = gd.closest('#notebook-container');\n",
       "if (notebookContainer) {{\n",
       "    x.observe(notebookContainer, {childList: true});\n",
       "}}\n",
       "\n",
       "// Listen for the clearing of the current output cell\n",
       "var outputEl = gd.closest('.output');\n",
       "if (outputEl) {{\n",
       "    x.observe(outputEl, {childList: true});\n",
       "}}\n",
       "\n",
       "                        })                };                });            </script>        </div>"
      ]
     },
     "metadata": {},
     "output_type": "display_data"
    }
   ],
   "source": [
    "combinedDELreads['dataset'] = pd.to_numeric(combinedDELreads['dataset'], downcast='integer', errors='coerce')\n",
    "fig = px.scatter(combinedDELreads, x='dataset', y=['recall', 'precision'], facet_col='caller', \n",
    "                 category_orders={'caller': ['bcftools', 'deepvariant', 'discosnp', 'freebayes', \n",
    "                                             'gatk', 'lancet', 'vardict']})\n",
    "fig"
   ]
  },
  {
   "cell_type": "code",
   "execution_count": 1,
   "id": "876b88a7-d992-4605-bb65-8dbd7a8f2713",
   "metadata": {},
   "outputs": [],
   "source": [
    "import pandas as pd\n",
    "import numpy as np\n",
    "import matplotlib.pyplot as plt\n",
    "import seaborn as sns"
   ]
  },
  {
   "cell_type": "code",
   "execution_count": 2,
   "id": "1f6cd402-1433-4db6-8629-863bcf01b56c",
   "metadata": {},
   "outputs": [],
   "source": [
    "import bamboolib as bam\n",
    "import plotly.express as px"
   ]
  },
  {
   "cell_type": "code",
   "execution_count": 3,
   "id": "b2a6d252-8e9d-4534-b23e-1a08d8422865",
   "metadata": {},
   "outputs": [],
   "source": [
    "def filter_df(df, filter_column=None, min_value=None):\n",
    "    '''\n",
    "    df: from csv generated by testing pipeline, via checker.py\n",
    "    filter_column: string of column name to filter by\n",
    "    min_value: minimum threshold for values to retain when filtering by filter_column\n",
    "    '''\n",
    "    if filter_column == 'DP':\n",
    "        filtered = df[(df[filter_column] >= min_value) | df[filter_column].isna() & (df['BAM_DP'] >= min_value)]\n",
    "        filtered['dataset'] = filter_column + '>=' + str(min_value)\n",
    "    elif filter_column != None:\n",
    "        filtered = df[(df[filter_column] >= min_value) | (df[filter_column].isna())]\n",
    "        filtered['dataset'] = filter_column + '>=' + str(min_value)\n",
    "    else:\n",
    "        filtered = df\n",
    "        filtered['dataset'] = np.nan\n",
    "    return filtered\n",
    "\n",
    "def sum_filtered(filtered, variantlog=None, logrow=2):\n",
    "    '''\n",
    "    filtered: from csv generated by testing pipeline, via checker.py, or from filter_df\n",
    "    variantlog: variant output log generated by testing pipeline, via variants.py\n",
    "    logrow: row to get total mutations from (0-start)\n",
    "    '''\n",
    "    sums = {}\n",
    "    for tool in set(filtered['TOOL']):\n",
    "        sums[tool] = [sum(filtered.loc[filtered['TOOL'] == tool, 'TRUE_POS']),\n",
    "                      sum(filtered.loc[filtered['TOOL'] == tool, 'FALSE_POS']),\n",
    "                      sum(filtered.loc[filtered['TOOL'] == tool, 'FALSE_NEG'])]\n",
    "    filtered_sums = pd.DataFrame(data=sums).T\n",
    "    filtered_sums.reset_index(inplace=True)\n",
    "    filtered_sums.rename(columns={'index': 'caller', 0:'true_pos', 1:'false_pos', 2: 'false_neg'}, inplace=True)\n",
    "    filtered_sums['recall'] = filtered_sums['true_pos'] / (filtered_sums['true_pos'] + filtered_sums['false_neg'])\n",
    "    filtered_sums['precision'] = filtered_sums['true_pos'] / (filtered_sums['true_pos'] + filtered_sums['false_pos'])\n",
    "    filtered_sums['dataset'] = filtered['dataset']\n",
    "    \n",
    "    # Sanity check: When min_value = 0, introduced mutations == postfilter mutations\n",
    "    if variantlog is not None:\n",
    "        with open(variantlog, 'r') as log:\n",
    "            varsettings = log.readlines()\n",
    "        filtered_sums['total_mut_intro'] = int(varsettings[logrow].split(':')[-1].strip())\n",
    "        filtered_sums['total_mut_postfilter'] = filtered_sums['true_pos'] + filtered_sums['false_neg']\n",
    "    else:\n",
    "        filtered_sums['total_mut_intro'] = np.nan\n",
    "        filtered_sums['total_mut_postfilter'] = np.nan\n",
    "    \n",
    "    return filtered_sums\n",
    "\n",
    "def combine_filtered(df, filter_column, filter_min, filter_max, filter_step, variantlog=None, logrow=2):\n",
    "    filtered_dfs = []\n",
    "    for threshold in range(filter_min, filter_max + filter_step, filter_step):\n",
    "        summarydf = sum_filtered(filter_df(df, filter_column, filter_min), variantlog, logrow)\n",
    "        filtered_dfs.append(summarydf)\n",
    "    combined_summaries = pd.concat(filtered_dfs, ignore_index=True)\n",
    "    return combined_summaries"
   ]
  },
  {
   "cell_type": "markdown",
   "id": "8c586664-0d1c-4726-9d70-3e939744a409",
   "metadata": {},
   "source": [
    "### Import datasets - 100X"
   ]
  },
  {
   "cell_type": "code",
   "execution_count": 4,
   "id": "a0929644-3f32-409c-aa26-b1e907075fd9",
   "metadata": {},
   "outputs": [],
   "source": [
    "# Called datasets - 100X average read depths\n",
    "snp100x = pd.read_csv('/Users/yeemayseah/Documents/Repos/mtb_amr/output/checked/H37Rv_10-3SNP100X_alltools_normalized_dp0_H37Rv_checked.csv')\n",
    "ins100x = pd.read_csv('/Users/yeemayseah/Documents/Repos/mtb_amr/output/checked/H37Rv_10-3INS100X_alltools_normalized_dp0_H37Rv_checked.csv')\n",
    "del100x = pd.read_csv('/Users/yeemayseah/Documents/Repos/mtb_amr/output/checked/H37Rv_10-3DEL100X_alltools_normalized_dp0_H37Rv_checked.csv')"
   ]
  },
  {
   "cell_type": "markdown",
   "id": "6ce1b72e-4ef4-41c5-8a8f-0c7c69a14010",
   "metadata": {},
   "source": [
    "#### SNPs only"
   ]
  },
  {
   "cell_type": "code",
   "execution_count": 24,
   "id": "1cc86a73-e207-4a86-a66f-f0e02b3776d3",
   "metadata": {
    "tags": []
   },
   "outputs": [],
   "source": [
    "# Downsampled reads from SNP 100X\n",
    "snp90xreads = pd.read_csv('/Users/yeemayseah/Documents/Repos/mtb_amr/output/checked/H37Rv_10-3SNPhead90X_alltools_normalized_dp0_H37Rv_checked.csv')\n",
    "snp80xreads = pd.read_csv('/Users/yeemayseah/Documents/Repos/mtb_amr/output/checked/H37Rv_10-3SNPhead80X_alltools_normalized_dp0_H37Rv_checked.csv')\n",
    "snp70xreads = pd.read_csv('/Users/yeemayseah/Documents/Repos/mtb_amr/output/checked/H37Rv_10-3SNPhead70X_alltools_normalized_dp0_H37Rv_checked.csv')\n",
    "snp60xreads = pd.read_csv('/Users/yeemayseah/Documents/Repos/mtb_amr/output/checked/H37Rv_10-3SNPhead60X_alltools_normalized_dp0_H37Rv_checked.csv')\n",
    "snp50xreads = pd.read_csv('/Users/yeemayseah/Documents/Repos/mtb_amr/output/checked/H37Rv_10-3SNPhead50X_alltools_normalized_dp0_H37Rv_checked.csv')\n",
    "snp40xreads = pd.read_csv('/Users/yeemayseah/Documents/Repos/mtb_amr/output/checked/H37Rv_10-3SNPhead40X_alltools_normalized_dp0_H37Rv_checked.csv')\n",
    "snp30xreads = pd.read_csv('/Users/yeemayseah/Documents/Repos/mtb_amr/output/checked/H37Rv_10-3SNPhead30X_alltools_normalized_dp0_H37Rv_checked.csv')\n",
    "snp20xreads = pd.read_csv('/Users/yeemayseah/Documents/Repos/mtb_amr/output/checked/H37Rv_10-3SNPhead20X_alltools_normalized_dp0_H37Rv_checked.csv')\n",
    "snp15xreads = pd.read_csv('/Users/yeemayseah/Documents/Repos/mtb_amr/output/checked/H37Rv_10-3SNPhead15X_alltools_normalized_dp0_H37Rv_checked.csv')\n",
    "snp10xreads = pd.read_csv('/Users/yeemayseah/Documents/Repos/mtb_amr/output/checked/H37Rv_10-3SNPhead10X_alltools_normalized_dp0_H37Rv_checked.csv')\n",
    "snp5xreads = pd.read_csv('/Users/yeemayseah/Documents/Repos/mtb_amr/output/checked/H37Rv_10-3SNPhead5X_alltools_normalized_dp0_H37Rv_checked.csv')"
   ]
  },
  {
   "cell_type": "code",
   "execution_count": 25,
   "id": "c755038d-b848-45d1-b888-c0b6a736457a",
   "metadata": {},
   "outputs": [],
   "source": [
    "snp100xsummary = sum_filtered(filter_df(snp100x), '/Users/yeemayseah/Documents/Repos/mtb_amr/logs/variants/H37Rv_10-3SNP100X.log')\n",
    "snp90xreadssummary = sum_filtered(filter_df(snp90xreads), '/Users/yeemayseah/Documents/Repos/mtb_amr/logs/variants/H37Rv_10-3SNP100X.log')\n",
    "snp80xreadssummary = sum_filtered(filter_df(snp80xreads), '/Users/yeemayseah/Documents/Repos/mtb_amr/logs/variants/H37Rv_10-3SNP100X.log')\n",
    "snp70xreadssummary = sum_filtered(filter_df(snp70xreads), '/Users/yeemayseah/Documents/Repos/mtb_amr/logs/variants/H37Rv_10-3SNP100X.log')\n",
    "snp60xreadssummary = sum_filtered(filter_df(snp60xreads), '/Users/yeemayseah/Documents/Repos/mtb_amr/logs/variants/H37Rv_10-3SNP100X.log')\n",
    "snp50xreadssummary = sum_filtered(filter_df(snp50xreads), '/Users/yeemayseah/Documents/Repos/mtb_amr/logs/variants/H37Rv_10-3SNP100X.log')\n",
    "snp40xreadssummary = sum_filtered(filter_df(snp40xreads), '/Users/yeemayseah/Documents/Repos/mtb_amr/logs/variants/H37Rv_10-3SNP100X.log')\n",
    "snp30xreadssummary = sum_filtered(filter_df(snp30xreads), '/Users/yeemayseah/Documents/Repos/mtb_amr/logs/variants/H37Rv_10-3SNP100X.log')\n",
    "snp20xreadssummary = sum_filtered(filter_df(snp20xreads), '/Users/yeemayseah/Documents/Repos/mtb_amr/logs/variants/H37Rv_10-3SNP100X.log')\n",
    "snp15xreadssummary = sum_filtered(filter_df(snp15xreads), '/Users/yeemayseah/Documents/Repos/mtb_amr/logs/variants/H37Rv_10-3SNP100X.log')\n",
    "snp10xreadssummary = sum_filtered(filter_df(snp10xreads), '/Users/yeemayseah/Documents/Repos/mtb_amr/logs/variants/H37Rv_10-3SNP100X.log')\n",
    "snp5xreadssummary = sum_filtered(filter_df(snp5xreads), '/Users/yeemayseah/Documents/Repos/mtb_amr/logs/variants/H37Rv_10-3SNP100X.log')"
   ]
  },
  {
   "cell_type": "code",
   "execution_count": 26,
   "id": "fbb5257d-a42f-40ea-aaf9-5b8303407c7a",
   "metadata": {},
   "outputs": [],
   "source": [
    "datasets = [snp5xreadssummary, snp10xreadssummary, snp15xreadssummary, snp20xreadssummary, \n",
    "            snp30xreadssummary, snp40xreadssummary, snp50xreadssummary, snp60xreadssummary, \n",
    "            snp70xreadssummary, snp80xreadssummary, snp90xreadssummary, snp100xsummary]"
   ]
  },
  {
   "cell_type": "code",
   "execution_count": 27,
   "id": "8c760923-5bac-44a0-a52e-03eec29614f6",
   "metadata": {},
   "outputs": [],
   "source": [
    "snp5xreadssummary[['dataset']] = snp5xreadssummary[['dataset']].fillna(5)\n",
    "snp10xreadssummary[['dataset']] = snp10xreadssummary[['dataset']].fillna(10)\n",
    "snp15xreadssummary[['dataset']] = snp15xreadssummary[['dataset']].fillna(15)\n",
    "snp20xreadssummary[['dataset']] = snp20xreadssummary[['dataset']].fillna(20)\n",
    "snp30xreadssummary[['dataset']] = snp30xreadssummary[['dataset']].fillna(30)\n",
    "snp40xreadssummary[['dataset']] = snp40xreadssummary[['dataset']].fillna(40)\n",
    "snp50xreadssummary[['dataset']] = snp50xreadssummary[['dataset']].fillna(50)\n",
    "snp60xreadssummary[['dataset']] = snp60xreadssummary[['dataset']].fillna(60)\n",
    "snp70xreadssummary[['dataset']] = snp70xreadssummary[['dataset']].fillna(70)\n",
    "snp80xreadssummary[['dataset']] = snp80xreadssummary[['dataset']].fillna(80)\n",
    "snp90xreadssummary[['dataset']] = snp90xreadssummary[['dataset']].fillna(90)\n",
    "snp100xsummary[['dataset']] = snp100xsummary[['dataset']].fillna(100)"
   ]
  },
  {
   "cell_type": "code",
   "execution_count": 28,
   "id": "826081e4-1941-4c67-80c3-13144d48c6e6",
   "metadata": {},
   "outputs": [],
   "source": [
    "combinedsnpreads = pd.concat(datasets, ignore_index=True)"
   ]
  },
  {
   "cell_type": "code",
   "execution_count": 29,
   "id": "8a016be2-bf6e-4723-9362-d729f447030f",
   "metadata": {},
   "outputs": [
    {
     "data": {
      "application/vnd.plotly.v1+json": {
       "config": {
        "plotlyServerURL": "https://plot.ly"
       },
       "data": [
        {
         "hovertemplate": "caller=gatk<br>precision=%{x}<br>recall=%{y}<br>dataset=%{marker.size}<extra></extra>",
         "legendgroup": "gatk",
         "marker": {
          "color": "#636efa",
          "size": [
           5,
           10,
           15,
           20,
           30,
           40,
           50,
           60,
           70,
           80,
           90,
           100
          ],
          "sizemode": "area",
          "sizeref": 0.25,
          "symbol": "circle"
         },
         "mode": "markers",
         "name": "gatk",
         "orientation": "v",
         "showlegend": true,
         "type": "scatter",
         "x": [
          0.9989440337909187,
          0.9997677119628339,
          1,
          1,
          1,
          1,
          1,
          1,
          1,
          1,
          1,
          0.9997702733746842
         ],
         "xaxis": "x",
         "y": [
          0.8603910868576625,
          0.9786266484765803,
          0.987494315597999,
          0.988631195998181,
          0.9884038199181446,
          0.9888585720782174,
          0.9890859481582538,
          0.9893133242382901,
          0.9893133242382901,
          0.9895407003183265,
          0.9895407003183265,
          0.9895407003183265
         ],
         "yaxis": "y"
        },
        {
         "hovertemplate": "caller=freebayes<br>precision=%{x}<br>recall=%{y}<br>dataset=%{marker.size}<extra></extra>",
         "legendgroup": "freebayes",
         "marker": {
          "color": "#EF553B",
          "size": [
           5,
           10,
           15,
           20,
           30,
           40,
           50,
           60,
           70,
           80,
           90,
           100
          ],
          "sizemode": "area",
          "sizeref": 0.25,
          "symbol": "circle"
         },
         "mode": "markers",
         "name": "freebayes",
         "orientation": "v",
         "showlegend": true,
         "type": "scatter",
         "x": [
          0.9994900560938297,
          1,
          1,
          1,
          1,
          0.9997703261368857,
          1,
          1,
          1,
          1,
          1,
          1
         ],
         "xaxis": "x2",
         "y": [
          0.8913142337426103,
          0.9813551614370168,
          0.9879490677580719,
          0.9890859481582538,
          0.9893133242382901,
          0.9897680763983628,
          0.9897680763983628,
          0.9899954524783993,
          0.9899954524783993,
          0.9902228285584357,
          0.9902228285584357,
          0.9902228285584357
         ],
         "yaxis": "y2"
        },
        {
         "hovertemplate": "caller=bcftools<br>precision=%{x}<br>recall=%{y}<br>dataset=%{marker.size}<extra></extra>",
         "legendgroup": "bcftools",
         "marker": {
          "color": "#00cc96",
          "size": [
           5,
           10,
           15,
           20,
           30,
           40,
           50,
           60,
           70,
           80,
           90,
           100
          ],
          "sizemode": "area",
          "sizeref": 0.25,
          "symbol": "circle"
         },
         "mode": "markers",
         "name": "bcftools",
         "orientation": "v",
         "showlegend": true,
         "type": "scatter",
         "x": [
          0.9804014167650531,
          0.998389694041868,
          0.9997701677775224,
          0.9997702733746842,
          0.9997703261368857,
          0.9997703788748565,
          1,
          1,
          1,
          1,
          0.999770484278173,
          0.999770484278173
         ],
         "xaxis": "x3",
         "y": [
          0.9440654843110505,
          0.98681218735789,
          0.9890859481582538,
          0.9895407003183265,
          0.9897680763983628,
          0.9899954524783993,
          0.9902228285584357,
          0.9902228285584357,
          0.9902228285584357,
          0.990450204638472,
          0.990450204638472,
          0.990450204638472
         ],
         "yaxis": "y3"
        },
        {
         "hovertemplate": "caller=lancet<br>precision=%{x}<br>recall=%{y}<br>dataset=%{marker.size}<extra></extra>",
         "legendgroup": "lancet",
         "marker": {
          "color": "#ab63fa",
          "size": [
           5,
           10,
           15,
           20,
           30,
           40,
           50,
           60,
           70,
           80,
           90,
           100
          ],
          "sizemode": "area",
          "sizeref": 0.25,
          "symbol": "circle"
         },
         "mode": "markers",
         "name": "lancet",
         "orientation": "v",
         "showlegend": true,
         "type": "scatter",
         "x": [
          1,
          1,
          1,
          1,
          1,
          1,
          1,
          1,
          1,
          1,
          1,
          1
         ],
         "xaxis": "x4",
         "y": [
          0.3758526603001364,
          0.8219645293315143,
          0.9477035015916325,
          0.9702137335152342,
          0.9729422464756707,
          0.9729422464756707,
          0.9736243747157799,
          0.9736243747157799,
          0.9736243747157799,
          0.9736243747157799,
          0.9740791268758526,
          0.9738517507958163
         ],
         "yaxis": "y4"
        },
        {
         "hovertemplate": "caller=vardict<br>precision=%{x}<br>recall=%{y}<br>dataset=%{marker.size}<extra></extra>",
         "legendgroup": "vardict",
         "marker": {
          "color": "#FFA15A",
          "size": [
           5,
           10,
           15,
           20,
           30,
           40,
           50,
           60,
           70,
           80,
           90,
           100
          ],
          "sizemode": "area",
          "sizeref": 0.25,
          "symbol": "circle"
         },
         "mode": "markers",
         "name": "vardict",
         "orientation": "v",
         "showlegend": true,
         "type": "scatter",
         "x": [
          1,
          0.9997662459093034,
          1,
          1,
          1,
          1,
          1,
          1,
          1,
          1,
          1,
          1
         ],
         "xaxis": "x5",
         "y": [
          0.8549340609367895,
          0.972487494315598,
          0.9854479308776717,
          0.9884038199181446,
          0.9890859481582538,
          0.9897680763983628,
          0.9897680763983628,
          0.9899954524783993,
          0.9899954524783993,
          0.9902228285584357,
          0.9902228285584357,
          0.9902228285584357
         ],
         "yaxis": "y5"
        },
        {
         "hovertemplate": "caller=discosnp<br>precision=%{x}<br>recall=%{y}<br>dataset=%{marker.size}<extra></extra>",
         "legendgroup": "discosnp",
         "marker": {
          "color": "#19d3f3",
          "size": [
           5,
           10,
           15,
           20,
           30,
           40,
           50,
           60,
           70,
           80,
           90,
           100
          ],
          "sizemode": "area",
          "sizeref": 0.25,
          "symbol": "circle"
         },
         "mode": "markers",
         "name": "discosnp",
         "orientation": "v",
         "showlegend": true,
         "type": "scatter",
         "x": [
          0.9962178517397882,
          0.998402981101943,
          0.998324958123953,
          0.9985855728429985,
          0.9985882352941177,
          0.9985888993414863,
          0.9985888993414863,
          0.9985888993414863,
          0.9985888993414863,
          0.9985888993414863,
          0.9985888993414863,
          0.9985888993414863
         ],
         "xaxis": "x6",
         "y": [
          0.2994542974079127,
          0.852887676216462,
          0.9486130059117781,
          0.9631650750341064,
          0.9649840836743975,
          0.9654388358344702,
          0.9654388358344702,
          0.9654388358344702,
          0.9654388358344702,
          0.9654388358344702,
          0.9654388358344702,
          0.9654388358344702
         ],
         "yaxis": "y6"
        },
        {
         "hovertemplate": "caller=deepvariant<br>precision=%{x}<br>recall=%{y}<br>dataset=%{marker.size}<extra></extra>",
         "legendgroup": "deepvariant",
         "marker": {
          "color": "#FF6692",
          "size": [
           5,
           10,
           15,
           20,
           30,
           40,
           50,
           60,
           70,
           80,
           90,
           100
          ],
          "sizemode": "area",
          "sizeref": 0.25,
          "symbol": "circle"
         },
         "mode": "markers",
         "name": "deepvariant",
         "orientation": "v",
         "showlegend": true,
         "type": "scatter",
         "x": [
          0.9956786985256736,
          0.9963065558633426,
          0.9979329352319706,
          0.9993108201240524,
          1,
          1,
          1,
          1,
          0.9997703788748565,
          0.9995409685563461,
          0.9995409685563461,
          0.9995409685563461
         ],
         "xaxis": "x7",
         "y": [
          0.8906321055025012,
          0.9813551614370168,
          0.9879490677580719,
          0.9890859481582538,
          0.9893133242382901,
          0.9897680763983628,
          0.9897680763983628,
          0.9899954524783993,
          0.9899954524783993,
          0.9902228285584357,
          0.9902228285584357,
          0.9902228285584357
         ],
         "yaxis": "y7"
        }
       ],
       "layout": {
        "annotations": [
         {
          "font": {},
          "showarrow": false,
          "text": "caller=gatk",
          "x": 0.06285714285714285,
          "xanchor": "center",
          "xref": "paper",
          "y": 1,
          "yanchor": "bottom",
          "yref": "paper"
         },
         {
          "font": {},
          "showarrow": false,
          "text": "caller=freebayes",
          "x": 0.20857142857142852,
          "xanchor": "center",
          "xref": "paper",
          "y": 1,
          "yanchor": "bottom",
          "yref": "paper"
         },
         {
          "font": {},
          "showarrow": false,
          "text": "caller=bcftools",
          "x": 0.3542857142857142,
          "xanchor": "center",
          "xref": "paper",
          "y": 1,
          "yanchor": "bottom",
          "yref": "paper"
         },
         {
          "font": {},
          "showarrow": false,
          "text": "caller=lancet",
          "x": 0.5,
          "xanchor": "center",
          "xref": "paper",
          "y": 1,
          "yanchor": "bottom",
          "yref": "paper"
         },
         {
          "font": {},
          "showarrow": false,
          "text": "caller=vardict",
          "x": 0.6457142857142856,
          "xanchor": "center",
          "xref": "paper",
          "y": 1,
          "yanchor": "bottom",
          "yref": "paper"
         },
         {
          "font": {},
          "showarrow": false,
          "text": "caller=discosnp",
          "x": 0.7914285714285713,
          "xanchor": "center",
          "xref": "paper",
          "y": 1,
          "yanchor": "bottom",
          "yref": "paper"
         },
         {
          "font": {},
          "showarrow": false,
          "text": "caller=deepvariant",
          "x": 0.9371428571428569,
          "xanchor": "center",
          "xref": "paper",
          "y": 1,
          "yanchor": "bottom",
          "yref": "paper"
         }
        ],
        "autosize": true,
        "legend": {
         "itemsizing": "constant",
         "title": {
          "text": "caller"
         },
         "tracegroupgap": 0
        },
        "margin": {
         "t": 60
        },
        "template": {
         "data": {
          "bar": [
           {
            "error_x": {
             "color": "#2a3f5f"
            },
            "error_y": {
             "color": "#2a3f5f"
            },
            "marker": {
             "line": {
              "color": "#E5ECF6",
              "width": 0.5
             },
             "pattern": {
              "fillmode": "overlay",
              "size": 10,
              "solidity": 0.2
             }
            },
            "type": "bar"
           }
          ],
          "barpolar": [
           {
            "marker": {
             "line": {
              "color": "#E5ECF6",
              "width": 0.5
             },
             "pattern": {
              "fillmode": "overlay",
              "size": 10,
              "solidity": 0.2
             }
            },
            "type": "barpolar"
           }
          ],
          "carpet": [
           {
            "aaxis": {
             "endlinecolor": "#2a3f5f",
             "gridcolor": "white",
             "linecolor": "white",
             "minorgridcolor": "white",
             "startlinecolor": "#2a3f5f"
            },
            "baxis": {
             "endlinecolor": "#2a3f5f",
             "gridcolor": "white",
             "linecolor": "white",
             "minorgridcolor": "white",
             "startlinecolor": "#2a3f5f"
            },
            "type": "carpet"
           }
          ],
          "choropleth": [
           {
            "colorbar": {
             "outlinewidth": 0,
             "ticks": ""
            },
            "type": "choropleth"
           }
          ],
          "contour": [
           {
            "colorbar": {
             "outlinewidth": 0,
             "ticks": ""
            },
            "colorscale": [
             [
              0,
              "#0d0887"
             ],
             [
              0.1111111111111111,
              "#46039f"
             ],
             [
              0.2222222222222222,
              "#7201a8"
             ],
             [
              0.3333333333333333,
              "#9c179e"
             ],
             [
              0.4444444444444444,
              "#bd3786"
             ],
             [
              0.5555555555555556,
              "#d8576b"
             ],
             [
              0.6666666666666666,
              "#ed7953"
             ],
             [
              0.7777777777777778,
              "#fb9f3a"
             ],
             [
              0.8888888888888888,
              "#fdca26"
             ],
             [
              1,
              "#f0f921"
             ]
            ],
            "type": "contour"
           }
          ],
          "contourcarpet": [
           {
            "colorbar": {
             "outlinewidth": 0,
             "ticks": ""
            },
            "type": "contourcarpet"
           }
          ],
          "heatmap": [
           {
            "colorbar": {
             "outlinewidth": 0,
             "ticks": ""
            },
            "colorscale": [
             [
              0,
              "#0d0887"
             ],
             [
              0.1111111111111111,
              "#46039f"
             ],
             [
              0.2222222222222222,
              "#7201a8"
             ],
             [
              0.3333333333333333,
              "#9c179e"
             ],
             [
              0.4444444444444444,
              "#bd3786"
             ],
             [
              0.5555555555555556,
              "#d8576b"
             ],
             [
              0.6666666666666666,
              "#ed7953"
             ],
             [
              0.7777777777777778,
              "#fb9f3a"
             ],
             [
              0.8888888888888888,
              "#fdca26"
             ],
             [
              1,
              "#f0f921"
             ]
            ],
            "type": "heatmap"
           }
          ],
          "heatmapgl": [
           {
            "colorbar": {
             "outlinewidth": 0,
             "ticks": ""
            },
            "colorscale": [
             [
              0,
              "#0d0887"
             ],
             [
              0.1111111111111111,
              "#46039f"
             ],
             [
              0.2222222222222222,
              "#7201a8"
             ],
             [
              0.3333333333333333,
              "#9c179e"
             ],
             [
              0.4444444444444444,
              "#bd3786"
             ],
             [
              0.5555555555555556,
              "#d8576b"
             ],
             [
              0.6666666666666666,
              "#ed7953"
             ],
             [
              0.7777777777777778,
              "#fb9f3a"
             ],
             [
              0.8888888888888888,
              "#fdca26"
             ],
             [
              1,
              "#f0f921"
             ]
            ],
            "type": "heatmapgl"
           }
          ],
          "histogram": [
           {
            "marker": {
             "pattern": {
              "fillmode": "overlay",
              "size": 10,
              "solidity": 0.2
             }
            },
            "type": "histogram"
           }
          ],
          "histogram2d": [
           {
            "colorbar": {
             "outlinewidth": 0,
             "ticks": ""
            },
            "colorscale": [
             [
              0,
              "#0d0887"
             ],
             [
              0.1111111111111111,
              "#46039f"
             ],
             [
              0.2222222222222222,
              "#7201a8"
             ],
             [
              0.3333333333333333,
              "#9c179e"
             ],
             [
              0.4444444444444444,
              "#bd3786"
             ],
             [
              0.5555555555555556,
              "#d8576b"
             ],
             [
              0.6666666666666666,
              "#ed7953"
             ],
             [
              0.7777777777777778,
              "#fb9f3a"
             ],
             [
              0.8888888888888888,
              "#fdca26"
             ],
             [
              1,
              "#f0f921"
             ]
            ],
            "type": "histogram2d"
           }
          ],
          "histogram2dcontour": [
           {
            "colorbar": {
             "outlinewidth": 0,
             "ticks": ""
            },
            "colorscale": [
             [
              0,
              "#0d0887"
             ],
             [
              0.1111111111111111,
              "#46039f"
             ],
             [
              0.2222222222222222,
              "#7201a8"
             ],
             [
              0.3333333333333333,
              "#9c179e"
             ],
             [
              0.4444444444444444,
              "#bd3786"
             ],
             [
              0.5555555555555556,
              "#d8576b"
             ],
             [
              0.6666666666666666,
              "#ed7953"
             ],
             [
              0.7777777777777778,
              "#fb9f3a"
             ],
             [
              0.8888888888888888,
              "#fdca26"
             ],
             [
              1,
              "#f0f921"
             ]
            ],
            "type": "histogram2dcontour"
           }
          ],
          "mesh3d": [
           {
            "colorbar": {
             "outlinewidth": 0,
             "ticks": ""
            },
            "type": "mesh3d"
           }
          ],
          "parcoords": [
           {
            "line": {
             "colorbar": {
              "outlinewidth": 0,
              "ticks": ""
             }
            },
            "type": "parcoords"
           }
          ],
          "pie": [
           {
            "automargin": true,
            "type": "pie"
           }
          ],
          "scatter": [
           {
            "marker": {
             "colorbar": {
              "outlinewidth": 0,
              "ticks": ""
             }
            },
            "type": "scatter"
           }
          ],
          "scatter3d": [
           {
            "line": {
             "colorbar": {
              "outlinewidth": 0,
              "ticks": ""
             }
            },
            "marker": {
             "colorbar": {
              "outlinewidth": 0,
              "ticks": ""
             }
            },
            "type": "scatter3d"
           }
          ],
          "scattercarpet": [
           {
            "marker": {
             "colorbar": {
              "outlinewidth": 0,
              "ticks": ""
             }
            },
            "type": "scattercarpet"
           }
          ],
          "scattergeo": [
           {
            "marker": {
             "colorbar": {
              "outlinewidth": 0,
              "ticks": ""
             }
            },
            "type": "scattergeo"
           }
          ],
          "scattergl": [
           {
            "marker": {
             "colorbar": {
              "outlinewidth": 0,
              "ticks": ""
             }
            },
            "type": "scattergl"
           }
          ],
          "scattermapbox": [
           {
            "marker": {
             "colorbar": {
              "outlinewidth": 0,
              "ticks": ""
             }
            },
            "type": "scattermapbox"
           }
          ],
          "scatterpolar": [
           {
            "marker": {
             "colorbar": {
              "outlinewidth": 0,
              "ticks": ""
             }
            },
            "type": "scatterpolar"
           }
          ],
          "scatterpolargl": [
           {
            "marker": {
             "colorbar": {
              "outlinewidth": 0,
              "ticks": ""
             }
            },
            "type": "scatterpolargl"
           }
          ],
          "scatterternary": [
           {
            "marker": {
             "colorbar": {
              "outlinewidth": 0,
              "ticks": ""
             }
            },
            "type": "scatterternary"
           }
          ],
          "surface": [
           {
            "colorbar": {
             "outlinewidth": 0,
             "ticks": ""
            },
            "colorscale": [
             [
              0,
              "#0d0887"
             ],
             [
              0.1111111111111111,
              "#46039f"
             ],
             [
              0.2222222222222222,
              "#7201a8"
             ],
             [
              0.3333333333333333,
              "#9c179e"
             ],
             [
              0.4444444444444444,
              "#bd3786"
             ],
             [
              0.5555555555555556,
              "#d8576b"
             ],
             [
              0.6666666666666666,
              "#ed7953"
             ],
             [
              0.7777777777777778,
              "#fb9f3a"
             ],
             [
              0.8888888888888888,
              "#fdca26"
             ],
             [
              1,
              "#f0f921"
             ]
            ],
            "type": "surface"
           }
          ],
          "table": [
           {
            "cells": {
             "fill": {
              "color": "#EBF0F8"
             },
             "line": {
              "color": "white"
             }
            },
            "header": {
             "fill": {
              "color": "#C8D4E3"
             },
             "line": {
              "color": "white"
             }
            },
            "type": "table"
           }
          ]
         },
         "layout": {
          "annotationdefaults": {
           "arrowcolor": "#2a3f5f",
           "arrowhead": 0,
           "arrowwidth": 1
          },
          "autotypenumbers": "strict",
          "coloraxis": {
           "colorbar": {
            "outlinewidth": 0,
            "ticks": ""
           }
          },
          "colorscale": {
           "diverging": [
            [
             0,
             "#8e0152"
            ],
            [
             0.1,
             "#c51b7d"
            ],
            [
             0.2,
             "#de77ae"
            ],
            [
             0.3,
             "#f1b6da"
            ],
            [
             0.4,
             "#fde0ef"
            ],
            [
             0.5,
             "#f7f7f7"
            ],
            [
             0.6,
             "#e6f5d0"
            ],
            [
             0.7,
             "#b8e186"
            ],
            [
             0.8,
             "#7fbc41"
            ],
            [
             0.9,
             "#4d9221"
            ],
            [
             1,
             "#276419"
            ]
           ],
           "sequential": [
            [
             0,
             "#0d0887"
            ],
            [
             0.1111111111111111,
             "#46039f"
            ],
            [
             0.2222222222222222,
             "#7201a8"
            ],
            [
             0.3333333333333333,
             "#9c179e"
            ],
            [
             0.4444444444444444,
             "#bd3786"
            ],
            [
             0.5555555555555556,
             "#d8576b"
            ],
            [
             0.6666666666666666,
             "#ed7953"
            ],
            [
             0.7777777777777778,
             "#fb9f3a"
            ],
            [
             0.8888888888888888,
             "#fdca26"
            ],
            [
             1,
             "#f0f921"
            ]
           ],
           "sequentialminus": [
            [
             0,
             "#0d0887"
            ],
            [
             0.1111111111111111,
             "#46039f"
            ],
            [
             0.2222222222222222,
             "#7201a8"
            ],
            [
             0.3333333333333333,
             "#9c179e"
            ],
            [
             0.4444444444444444,
             "#bd3786"
            ],
            [
             0.5555555555555556,
             "#d8576b"
            ],
            [
             0.6666666666666666,
             "#ed7953"
            ],
            [
             0.7777777777777778,
             "#fb9f3a"
            ],
            [
             0.8888888888888888,
             "#fdca26"
            ],
            [
             1,
             "#f0f921"
            ]
           ]
          },
          "colorway": [
           "#636efa",
           "#EF553B",
           "#00cc96",
           "#ab63fa",
           "#FFA15A",
           "#19d3f3",
           "#FF6692",
           "#B6E880",
           "#FF97FF",
           "#FECB52"
          ],
          "font": {
           "color": "#2a3f5f"
          },
          "geo": {
           "bgcolor": "white",
           "lakecolor": "white",
           "landcolor": "#E5ECF6",
           "showlakes": true,
           "showland": true,
           "subunitcolor": "white"
          },
          "hoverlabel": {
           "align": "left"
          },
          "hovermode": "closest",
          "mapbox": {
           "style": "light"
          },
          "paper_bgcolor": "white",
          "plot_bgcolor": "#E5ECF6",
          "polar": {
           "angularaxis": {
            "gridcolor": "white",
            "linecolor": "white",
            "ticks": ""
           },
           "bgcolor": "#E5ECF6",
           "radialaxis": {
            "gridcolor": "white",
            "linecolor": "white",
            "ticks": ""
           }
          },
          "scene": {
           "xaxis": {
            "backgroundcolor": "#E5ECF6",
            "gridcolor": "white",
            "gridwidth": 2,
            "linecolor": "white",
            "showbackground": true,
            "ticks": "",
            "zerolinecolor": "white"
           },
           "yaxis": {
            "backgroundcolor": "#E5ECF6",
            "gridcolor": "white",
            "gridwidth": 2,
            "linecolor": "white",
            "showbackground": true,
            "ticks": "",
            "zerolinecolor": "white"
           },
           "zaxis": {
            "backgroundcolor": "#E5ECF6",
            "gridcolor": "white",
            "gridwidth": 2,
            "linecolor": "white",
            "showbackground": true,
            "ticks": "",
            "zerolinecolor": "white"
           }
          },
          "shapedefaults": {
           "line": {
            "color": "#2a3f5f"
           }
          },
          "ternary": {
           "aaxis": {
            "gridcolor": "white",
            "linecolor": "white",
            "ticks": ""
           },
           "baxis": {
            "gridcolor": "white",
            "linecolor": "white",
            "ticks": ""
           },
           "bgcolor": "#E5ECF6",
           "caxis": {
            "gridcolor": "white",
            "linecolor": "white",
            "ticks": ""
           }
          },
          "title": {
           "x": 0.05
          },
          "xaxis": {
           "automargin": true,
           "gridcolor": "white",
           "linecolor": "white",
           "ticks": "",
           "title": {
            "standoff": 15
           },
           "zerolinecolor": "white",
           "zerolinewidth": 2
          },
          "yaxis": {
           "automargin": true,
           "gridcolor": "white",
           "linecolor": "white",
           "ticks": "",
           "title": {
            "standoff": 15
           },
           "zerolinecolor": "white",
           "zerolinewidth": 2
          }
         }
        },
        "xaxis": {
         "anchor": "y",
         "domain": [
          0,
          0.1257142857142857
         ],
         "range": [
          -0.1,
          1.1
         ],
         "title": {
          "text": "precision"
         },
         "type": "linear"
        },
        "xaxis2": {
         "anchor": "y2",
         "domain": [
          0.14571428571428569,
          0.27142857142857135
         ],
         "matches": "x",
         "range": [
          -0.1,
          1.1
         ],
         "title": {
          "text": "precision"
         },
         "type": "linear"
        },
        "xaxis3": {
         "anchor": "y3",
         "domain": [
          0.29142857142857137,
          0.41714285714285704
         ],
         "matches": "x",
         "range": [
          -0.1,
          1.1
         ],
         "title": {
          "text": "precision"
         },
         "type": "linear"
        },
        "xaxis4": {
         "anchor": "y4",
         "domain": [
          0.4371428571428571,
          0.5628571428571428
         ],
         "matches": "x",
         "range": [
          -0.1,
          1.1
         ],
         "title": {
          "text": "precision"
         },
         "type": "linear"
        },
        "xaxis5": {
         "anchor": "y5",
         "domain": [
          0.5828571428571427,
          0.7085714285714284
         ],
         "matches": "x",
         "range": [
          -0.1,
          1.1
         ],
         "title": {
          "text": "precision"
         },
         "type": "linear"
        },
        "xaxis6": {
         "anchor": "y6",
         "domain": [
          0.7285714285714284,
          0.8542857142857141
         ],
         "matches": "x",
         "range": [
          -0.1,
          1.1
         ],
         "title": {
          "text": "precision"
         },
         "type": "linear"
        },
        "xaxis7": {
         "anchor": "y7",
         "domain": [
          0.8742857142857141,
          0.9999999999999998
         ],
         "matches": "x",
         "range": [
          -0.1,
          1.1
         ],
         "title": {
          "text": "precision"
         },
         "type": "linear"
        },
        "yaxis": {
         "anchor": "x",
         "domain": [
          0,
          1
         ],
         "range": [
          -0.1,
          1.1
         ],
         "title": {
          "text": "recall"
         },
         "type": "linear"
        },
        "yaxis2": {
         "anchor": "x2",
         "domain": [
          0,
          1
         ],
         "matches": "y",
         "showticklabels": false,
         "type": "linear"
        },
        "yaxis3": {
         "anchor": "x3",
         "domain": [
          0,
          1
         ],
         "matches": "y",
         "showticklabels": false,
         "type": "linear"
        },
        "yaxis4": {
         "anchor": "x4",
         "domain": [
          0,
          1
         ],
         "matches": "y",
         "showticklabels": false,
         "type": "linear"
        },
        "yaxis5": {
         "anchor": "x5",
         "domain": [
          0,
          1
         ],
         "matches": "y",
         "showticklabels": false,
         "type": "linear"
        },
        "yaxis6": {
         "anchor": "x6",
         "domain": [
          0,
          1
         ],
         "matches": "y",
         "showticklabels": false,
         "type": "linear"
        },
        "yaxis7": {
         "anchor": "x7",
         "domain": [
          0,
          1
         ],
         "matches": "y",
         "showticklabels": false,
         "type": "linear"
        }
       }
      },
      "image/png": "[encoded data removed]",
      "text/html": [
       "<div>                            <div id=\"02cf4e9d-933b-452b-bc44-df1e59dfe2b7\" class=\"plotly-graph-div\" style=\"height:525px; width:100%;\"></div>            <script type=\"text/javascript\">                require([\"plotly\"], function(Plotly) {                    window.PLOTLYENV=window.PLOTLYENV || {};                                    if (document.getElementById(\"02cf4e9d-933b-452b-bc44-df1e59dfe2b7\")) {                    Plotly.newPlot(                        \"02cf4e9d-933b-452b-bc44-df1e59dfe2b7\",                        [{\"hovertemplate\":\"caller=gatk<br>precision=%{x}<br>recall=%{y}<br>dataset=%{marker.size}<extra></extra>\",\"legendgroup\":\"gatk\",\"marker\":{\"color\":\"#636efa\",\"size\":[5.0,10.0,15.0,20.0,30.0,40.0,50.0,60.0,70.0,80.0,90.0,100.0],\"sizemode\":\"area\",\"sizeref\":0.25,\"symbol\":\"circle\"},\"mode\":\"markers\",\"name\":\"gatk\",\"orientation\":\"v\",\"showlegend\":true,\"type\":\"scatter\",\"x\":[0.9989440337909187,0.9997677119628339,1.0,1.0,1.0,1.0,1.0,1.0,1.0,1.0,1.0,0.9997702733746842],\"xaxis\":\"x\",\"y\":[0.8603910868576625,0.9786266484765803,0.987494315597999,0.988631195998181,0.9884038199181446,0.9888585720782174,0.9890859481582538,0.9893133242382901,0.9893133242382901,0.9895407003183265,0.9895407003183265,0.9895407003183265],\"yaxis\":\"y\"},{\"hovertemplate\":\"caller=freebayes<br>precision=%{x}<br>recall=%{y}<br>dataset=%{marker.size}<extra></extra>\",\"legendgroup\":\"freebayes\",\"marker\":{\"color\":\"#EF553B\",\"size\":[5.0,10.0,15.0,20.0,30.0,40.0,50.0,60.0,70.0,80.0,90.0,100.0],\"sizemode\":\"area\",\"sizeref\":0.25,\"symbol\":\"circle\"},\"mode\":\"markers\",\"name\":\"freebayes\",\"orientation\":\"v\",\"showlegend\":true,\"type\":\"scatter\",\"x\":[0.9994900560938297,1.0,1.0,1.0,1.0,0.9997703261368857,1.0,1.0,1.0,1.0,1.0,1.0],\"xaxis\":\"x2\",\"y\":[0.8913142337426103,0.9813551614370168,0.9879490677580719,0.9890859481582538,0.9893133242382901,0.9897680763983628,0.9897680763983628,0.9899954524783993,0.9899954524783993,0.9902228285584357,0.9902228285584357,0.9902228285584357],\"yaxis\":\"y2\"},{\"hovertemplate\":\"caller=bcftools<br>precision=%{x}<br>recall=%{y}<br>dataset=%{marker.size}<extra></extra>\",\"legendgroup\":\"bcftools\",\"marker\":{\"color\":\"#00cc96\",\"size\":[5.0,10.0,15.0,20.0,30.0,40.0,50.0,60.0,70.0,80.0,90.0,100.0],\"sizemode\":\"area\",\"sizeref\":0.25,\"symbol\":\"circle\"},\"mode\":\"markers\",\"name\":\"bcftools\",\"orientation\":\"v\",\"showlegend\":true,\"type\":\"scatter\",\"x\":[0.9804014167650531,0.998389694041868,0.9997701677775224,0.9997702733746842,0.9997703261368857,0.9997703788748565,1.0,1.0,1.0,1.0,0.999770484278173,0.999770484278173],\"xaxis\":\"x3\",\"y\":[0.9440654843110505,0.98681218735789,0.9890859481582538,0.9895407003183265,0.9897680763983628,0.9899954524783993,0.9902228285584357,0.9902228285584357,0.9902228285584357,0.990450204638472,0.990450204638472,0.990450204638472],\"yaxis\":\"y3\"},{\"hovertemplate\":\"caller=lancet<br>precision=%{x}<br>recall=%{y}<br>dataset=%{marker.size}<extra></extra>\",\"legendgroup\":\"lancet\",\"marker\":{\"color\":\"#ab63fa\",\"size\":[5.0,10.0,15.0,20.0,30.0,40.0,50.0,60.0,70.0,80.0,90.0,100.0],\"sizemode\":\"area\",\"sizeref\":0.25,\"symbol\":\"circle\"},\"mode\":\"markers\",\"name\":\"lancet\",\"orientation\":\"v\",\"showlegend\":true,\"type\":\"scatter\",\"x\":[1.0,1.0,1.0,1.0,1.0,1.0,1.0,1.0,1.0,1.0,1.0,1.0],\"xaxis\":\"x4\",\"y\":[0.3758526603001364,0.8219645293315143,0.9477035015916325,0.9702137335152342,0.9729422464756707,0.9729422464756707,0.9736243747157799,0.9736243747157799,0.9736243747157799,0.9736243747157799,0.9740791268758526,0.9738517507958163],\"yaxis\":\"y4\"},{\"hovertemplate\":\"caller=vardict<br>precision=%{x}<br>recall=%{y}<br>dataset=%{marker.size}<extra></extra>\",\"legendgroup\":\"vardict\",\"marker\":{\"color\":\"#FFA15A\",\"size\":[5.0,10.0,15.0,20.0,30.0,40.0,50.0,60.0,70.0,80.0,90.0,100.0],\"sizemode\":\"area\",\"sizeref\":0.25,\"symbol\":\"circle\"},\"mode\":\"markers\",\"name\":\"vardict\",\"orientation\":\"v\",\"showlegend\":true,\"type\":\"scatter\",\"x\":[1.0,0.9997662459093034,1.0,1.0,1.0,1.0,1.0,1.0,1.0,1.0,1.0,1.0],\"xaxis\":\"x5\",\"y\":[0.8549340609367895,0.972487494315598,0.9854479308776717,0.9884038199181446,0.9890859481582538,0.9897680763983628,0.9897680763983628,0.9899954524783993,0.9899954524783993,0.9902228285584357,0.9902228285584357,0.9902228285584357],\"yaxis\":\"y5\"},{\"hovertemplate\":\"caller=discosnp<br>precision=%{x}<br>recall=%{y}<br>dataset=%{marker.size}<extra></extra>\",\"legendgroup\":\"discosnp\",\"marker\":{\"color\":\"#19d3f3\",\"size\":[5.0,10.0,15.0,20.0,30.0,40.0,50.0,60.0,70.0,80.0,90.0,100.0],\"sizemode\":\"area\",\"sizeref\":0.25,\"symbol\":\"circle\"},\"mode\":\"markers\",\"name\":\"discosnp\",\"orientation\":\"v\",\"showlegend\":true,\"type\":\"scatter\",\"x\":[0.9962178517397882,0.998402981101943,0.998324958123953,0.9985855728429985,0.9985882352941177,0.9985888993414863,0.9985888993414863,0.9985888993414863,0.9985888993414863,0.9985888993414863,0.9985888993414863,0.9985888993414863],\"xaxis\":\"x6\",\"y\":[0.2994542974079127,0.852887676216462,0.9486130059117781,0.9631650750341064,0.9649840836743975,0.9654388358344702,0.9654388358344702,0.9654388358344702,0.9654388358344702,0.9654388358344702,0.9654388358344702,0.9654388358344702],\"yaxis\":\"y6\"},{\"hovertemplate\":\"caller=deepvariant<br>precision=%{x}<br>recall=%{y}<br>dataset=%{marker.size}<extra></extra>\",\"legendgroup\":\"deepvariant\",\"marker\":{\"color\":\"#FF6692\",\"size\":[5.0,10.0,15.0,20.0,30.0,40.0,50.0,60.0,70.0,80.0,90.0,100.0],\"sizemode\":\"area\",\"sizeref\":0.25,\"symbol\":\"circle\"},\"mode\":\"markers\",\"name\":\"deepvariant\",\"orientation\":\"v\",\"showlegend\":true,\"type\":\"scatter\",\"x\":[0.9956786985256736,0.9963065558633426,0.9979329352319706,0.9993108201240524,1.0,1.0,1.0,1.0,0.9997703788748565,0.9995409685563461,0.9995409685563461,0.9995409685563461],\"xaxis\":\"x7\",\"y\":[0.8906321055025012,0.9813551614370168,0.9879490677580719,0.9890859481582538,0.9893133242382901,0.9897680763983628,0.9897680763983628,0.9899954524783993,0.9899954524783993,0.9902228285584357,0.9902228285584357,0.9902228285584357],\"yaxis\":\"y7\"}],                        {\"annotations\":[{\"font\":{},\"showarrow\":false,\"text\":\"caller=gatk\",\"x\":0.06285714285714285,\"xanchor\":\"center\",\"xref\":\"paper\",\"y\":1.0,\"yanchor\":\"bottom\",\"yref\":\"paper\"},{\"font\":{},\"showarrow\":false,\"text\":\"caller=freebayes\",\"x\":0.20857142857142852,\"xanchor\":\"center\",\"xref\":\"paper\",\"y\":1.0,\"yanchor\":\"bottom\",\"yref\":\"paper\"},{\"font\":{},\"showarrow\":false,\"text\":\"caller=bcftools\",\"x\":0.3542857142857142,\"xanchor\":\"center\",\"xref\":\"paper\",\"y\":1.0,\"yanchor\":\"bottom\",\"yref\":\"paper\"},{\"font\":{},\"showarrow\":false,\"text\":\"caller=lancet\",\"x\":0.5,\"xanchor\":\"center\",\"xref\":\"paper\",\"y\":1.0,\"yanchor\":\"bottom\",\"yref\":\"paper\"},{\"font\":{},\"showarrow\":false,\"text\":\"caller=vardict\",\"x\":0.6457142857142856,\"xanchor\":\"center\",\"xref\":\"paper\",\"y\":1.0,\"yanchor\":\"bottom\",\"yref\":\"paper\"},{\"font\":{},\"showarrow\":false,\"text\":\"caller=discosnp\",\"x\":0.7914285714285713,\"xanchor\":\"center\",\"xref\":\"paper\",\"y\":1.0,\"yanchor\":\"bottom\",\"yref\":\"paper\"},{\"font\":{},\"showarrow\":false,\"text\":\"caller=deepvariant\",\"x\":0.9371428571428569,\"xanchor\":\"center\",\"xref\":\"paper\",\"y\":1.0,\"yanchor\":\"bottom\",\"yref\":\"paper\"}],\"legend\":{\"itemsizing\":\"constant\",\"title\":{\"text\":\"caller\"},\"tracegroupgap\":0},\"margin\":{\"t\":60},\"template\":{\"data\":{\"bar\":[{\"error_x\":{\"color\":\"#2a3f5f\"},\"error_y\":{\"color\":\"#2a3f5f\"},\"marker\":{\"line\":{\"color\":\"#E5ECF6\",\"width\":0.5},\"pattern\":{\"fillmode\":\"overlay\",\"size\":10,\"solidity\":0.2}},\"type\":\"bar\"}],\"barpolar\":[{\"marker\":{\"line\":{\"color\":\"#E5ECF6\",\"width\":0.5},\"pattern\":{\"fillmode\":\"overlay\",\"size\":10,\"solidity\":0.2}},\"type\":\"barpolar\"}],\"carpet\":[{\"aaxis\":{\"endlinecolor\":\"#2a3f5f\",\"gridcolor\":\"white\",\"linecolor\":\"white\",\"minorgridcolor\":\"white\",\"startlinecolor\":\"#2a3f5f\"},\"baxis\":{\"endlinecolor\":\"#2a3f5f\",\"gridcolor\":\"white\",\"linecolor\":\"white\",\"minorgridcolor\":\"white\",\"startlinecolor\":\"#2a3f5f\"},\"type\":\"carpet\"}],\"choropleth\":[{\"colorbar\":{\"outlinewidth\":0,\"ticks\":\"\"},\"type\":\"choropleth\"}],\"contour\":[{\"colorbar\":{\"outlinewidth\":0,\"ticks\":\"\"},\"colorscale\":[[0.0,\"#0d0887\"],[0.1111111111111111,\"#46039f\"],[0.2222222222222222,\"#7201a8\"],[0.3333333333333333,\"#9c179e\"],[0.4444444444444444,\"#bd3786\"],[0.5555555555555556,\"#d8576b\"],[0.6666666666666666,\"#ed7953\"],[0.7777777777777778,\"#fb9f3a\"],[0.8888888888888888,\"#fdca26\"],[1.0,\"#f0f921\"]],\"type\":\"contour\"}],\"contourcarpet\":[{\"colorbar\":{\"outlinewidth\":0,\"ticks\":\"\"},\"type\":\"contourcarpet\"}],\"heatmap\":[{\"colorbar\":{\"outlinewidth\":0,\"ticks\":\"\"},\"colorscale\":[[0.0,\"#0d0887\"],[0.1111111111111111,\"#46039f\"],[0.2222222222222222,\"#7201a8\"],[0.3333333333333333,\"#9c179e\"],[0.4444444444444444,\"#bd3786\"],[0.5555555555555556,\"#d8576b\"],[0.6666666666666666,\"#ed7953\"],[0.7777777777777778,\"#fb9f3a\"],[0.8888888888888888,\"#fdca26\"],[1.0,\"#f0f921\"]],\"type\":\"heatmap\"}],\"heatmapgl\":[{\"colorbar\":{\"outlinewidth\":0,\"ticks\":\"\"},\"colorscale\":[[0.0,\"#0d0887\"],[0.1111111111111111,\"#46039f\"],[0.2222222222222222,\"#7201a8\"],[0.3333333333333333,\"#9c179e\"],[0.4444444444444444,\"#bd3786\"],[0.5555555555555556,\"#d8576b\"],[0.6666666666666666,\"#ed7953\"],[0.7777777777777778,\"#fb9f3a\"],[0.8888888888888888,\"#fdca26\"],[1.0,\"#f0f921\"]],\"type\":\"heatmapgl\"}],\"histogram\":[{\"marker\":{\"pattern\":{\"fillmode\":\"overlay\",\"size\":10,\"solidity\":0.2}},\"type\":\"histogram\"}],\"histogram2d\":[{\"colorbar\":{\"outlinewidth\":0,\"ticks\":\"\"},\"colorscale\":[[0.0,\"#0d0887\"],[0.1111111111111111,\"#46039f\"],[0.2222222222222222,\"#7201a8\"],[0.3333333333333333,\"#9c179e\"],[0.4444444444444444,\"#bd3786\"],[0.5555555555555556,\"#d8576b\"],[0.6666666666666666,\"#ed7953\"],[0.7777777777777778,\"#fb9f3a\"],[0.8888888888888888,\"#fdca26\"],[1.0,\"#f0f921\"]],\"type\":\"histogram2d\"}],\"histogram2dcontour\":[{\"colorbar\":{\"outlinewidth\":0,\"ticks\":\"\"},\"colorscale\":[[0.0,\"#0d0887\"],[0.1111111111111111,\"#46039f\"],[0.2222222222222222,\"#7201a8\"],[0.3333333333333333,\"#9c179e\"],[0.4444444444444444,\"#bd3786\"],[0.5555555555555556,\"#d8576b\"],[0.6666666666666666,\"#ed7953\"],[0.7777777777777778,\"#fb9f3a\"],[0.8888888888888888,\"#fdca26\"],[1.0,\"#f0f921\"]],\"type\":\"histogram2dcontour\"}],\"mesh3d\":[{\"colorbar\":{\"outlinewidth\":0,\"ticks\":\"\"},\"type\":\"mesh3d\"}],\"parcoords\":[{\"line\":{\"colorbar\":{\"outlinewidth\":0,\"ticks\":\"\"}},\"type\":\"parcoords\"}],\"pie\":[{\"automargin\":true,\"type\":\"pie\"}],\"scatter\":[{\"marker\":{\"colorbar\":{\"outlinewidth\":0,\"ticks\":\"\"}},\"type\":\"scatter\"}],\"scatter3d\":[{\"line\":{\"colorbar\":{\"outlinewidth\":0,\"ticks\":\"\"}},\"marker\":{\"colorbar\":{\"outlinewidth\":0,\"ticks\":\"\"}},\"type\":\"scatter3d\"}],\"scattercarpet\":[{\"marker\":{\"colorbar\":{\"outlinewidth\":0,\"ticks\":\"\"}},\"type\":\"scattercarpet\"}],\"scattergeo\":[{\"marker\":{\"colorbar\":{\"outlinewidth\":0,\"ticks\":\"\"}},\"type\":\"scattergeo\"}],\"scattergl\":[{\"marker\":{\"colorbar\":{\"outlinewidth\":0,\"ticks\":\"\"}},\"type\":\"scattergl\"}],\"scattermapbox\":[{\"marker\":{\"colorbar\":{\"outlinewidth\":0,\"ticks\":\"\"}},\"type\":\"scattermapbox\"}],\"scatterpolar\":[{\"marker\":{\"colorbar\":{\"outlinewidth\":0,\"ticks\":\"\"}},\"type\":\"scatterpolar\"}],\"scatterpolargl\":[{\"marker\":{\"colorbar\":{\"outlinewidth\":0,\"ticks\":\"\"}},\"type\":\"scatterpolargl\"}],\"scatterternary\":[{\"marker\":{\"colorbar\":{\"outlinewidth\":0,\"ticks\":\"\"}},\"type\":\"scatterternary\"}],\"surface\":[{\"colorbar\":{\"outlinewidth\":0,\"ticks\":\"\"},\"colorscale\":[[0.0,\"#0d0887\"],[0.1111111111111111,\"#46039f\"],[0.2222222222222222,\"#7201a8\"],[0.3333333333333333,\"#9c179e\"],[0.4444444444444444,\"#bd3786\"],[0.5555555555555556,\"#d8576b\"],[0.6666666666666666,\"#ed7953\"],[0.7777777777777778,\"#fb9f3a\"],[0.8888888888888888,\"#fdca26\"],[1.0,\"#f0f921\"]],\"type\":\"surface\"}],\"table\":[{\"cells\":{\"fill\":{\"color\":\"#EBF0F8\"},\"line\":{\"color\":\"white\"}},\"header\":{\"fill\":{\"color\":\"#C8D4E3\"},\"line\":{\"color\":\"white\"}},\"type\":\"table\"}]},\"layout\":{\"annotationdefaults\":{\"arrowcolor\":\"#2a3f5f\",\"arrowhead\":0,\"arrowwidth\":1},\"autotypenumbers\":\"strict\",\"coloraxis\":{\"colorbar\":{\"outlinewidth\":0,\"ticks\":\"\"}},\"colorscale\":{\"diverging\":[[0,\"#8e0152\"],[0.1,\"#c51b7d\"],[0.2,\"#de77ae\"],[0.3,\"#f1b6da\"],[0.4,\"#fde0ef\"],[0.5,\"#f7f7f7\"],[0.6,\"#e6f5d0\"],[0.7,\"#b8e186\"],[0.8,\"#7fbc41\"],[0.9,\"#4d9221\"],[1,\"#276419\"]],\"sequential\":[[0.0,\"#0d0887\"],[0.1111111111111111,\"#46039f\"],[0.2222222222222222,\"#7201a8\"],[0.3333333333333333,\"#9c179e\"],[0.4444444444444444,\"#bd3786\"],[0.5555555555555556,\"#d8576b\"],[0.6666666666666666,\"#ed7953\"],[0.7777777777777778,\"#fb9f3a\"],[0.8888888888888888,\"#fdca26\"],[1.0,\"#f0f921\"]],\"sequentialminus\":[[0.0,\"#0d0887\"],[0.1111111111111111,\"#46039f\"],[0.2222222222222222,\"#7201a8\"],[0.3333333333333333,\"#9c179e\"],[0.4444444444444444,\"#bd3786\"],[0.5555555555555556,\"#d8576b\"],[0.6666666666666666,\"#ed7953\"],[0.7777777777777778,\"#fb9f3a\"],[0.8888888888888888,\"#fdca26\"],[1.0,\"#f0f921\"]]},\"colorway\":[\"#636efa\",\"#EF553B\",\"#00cc96\",\"#ab63fa\",\"#FFA15A\",\"#19d3f3\",\"#FF6692\",\"#B6E880\",\"#FF97FF\",\"#FECB52\"],\"font\":{\"color\":\"#2a3f5f\"},\"geo\":{\"bgcolor\":\"white\",\"lakecolor\":\"white\",\"landcolor\":\"#E5ECF6\",\"showlakes\":true,\"showland\":true,\"subunitcolor\":\"white\"},\"hoverlabel\":{\"align\":\"left\"},\"hovermode\":\"closest\",\"mapbox\":{\"style\":\"light\"},\"paper_bgcolor\":\"white\",\"plot_bgcolor\":\"#E5ECF6\",\"polar\":{\"angularaxis\":{\"gridcolor\":\"white\",\"linecolor\":\"white\",\"ticks\":\"\"},\"bgcolor\":\"#E5ECF6\",\"radialaxis\":{\"gridcolor\":\"white\",\"linecolor\":\"white\",\"ticks\":\"\"}},\"scene\":{\"xaxis\":{\"backgroundcolor\":\"#E5ECF6\",\"gridcolor\":\"white\",\"gridwidth\":2,\"linecolor\":\"white\",\"showbackground\":true,\"ticks\":\"\",\"zerolinecolor\":\"white\"},\"yaxis\":{\"backgroundcolor\":\"#E5ECF6\",\"gridcolor\":\"white\",\"gridwidth\":2,\"linecolor\":\"white\",\"showbackground\":true,\"ticks\":\"\",\"zerolinecolor\":\"white\"},\"zaxis\":{\"backgroundcolor\":\"#E5ECF6\",\"gridcolor\":\"white\",\"gridwidth\":2,\"linecolor\":\"white\",\"showbackground\":true,\"ticks\":\"\",\"zerolinecolor\":\"white\"}},\"shapedefaults\":{\"line\":{\"color\":\"#2a3f5f\"}},\"ternary\":{\"aaxis\":{\"gridcolor\":\"white\",\"linecolor\":\"white\",\"ticks\":\"\"},\"baxis\":{\"gridcolor\":\"white\",\"linecolor\":\"white\",\"ticks\":\"\"},\"bgcolor\":\"#E5ECF6\",\"caxis\":{\"gridcolor\":\"white\",\"linecolor\":\"white\",\"ticks\":\"\"}},\"title\":{\"x\":0.05},\"xaxis\":{\"automargin\":true,\"gridcolor\":\"white\",\"linecolor\":\"white\",\"ticks\":\"\",\"title\":{\"standoff\":15},\"zerolinecolor\":\"white\",\"zerolinewidth\":2},\"yaxis\":{\"automargin\":true,\"gridcolor\":\"white\",\"linecolor\":\"white\",\"ticks\":\"\",\"title\":{\"standoff\":15},\"zerolinecolor\":\"white\",\"zerolinewidth\":2}}},\"xaxis\":{\"anchor\":\"y\",\"domain\":[0.0,0.1257142857142857],\"range\":[-0.1,1.1],\"title\":{\"text\":\"precision\"}},\"xaxis2\":{\"anchor\":\"y2\",\"domain\":[0.14571428571428569,0.27142857142857135],\"matches\":\"x\",\"range\":[-0.1,1.1],\"title\":{\"text\":\"precision\"}},\"xaxis3\":{\"anchor\":\"y3\",\"domain\":[0.29142857142857137,0.41714285714285704],\"matches\":\"x\",\"range\":[-0.1,1.1],\"title\":{\"text\":\"precision\"}},\"xaxis4\":{\"anchor\":\"y4\",\"domain\":[0.4371428571428571,0.5628571428571428],\"matches\":\"x\",\"range\":[-0.1,1.1],\"title\":{\"text\":\"precision\"}},\"xaxis5\":{\"anchor\":\"y5\",\"domain\":[0.5828571428571427,0.7085714285714284],\"matches\":\"x\",\"range\":[-0.1,1.1],\"title\":{\"text\":\"precision\"}},\"xaxis6\":{\"anchor\":\"y6\",\"domain\":[0.7285714285714284,0.8542857142857141],\"matches\":\"x\",\"range\":[-0.1,1.1],\"title\":{\"text\":\"precision\"}},\"xaxis7\":{\"anchor\":\"y7\",\"domain\":[0.8742857142857141,0.9999999999999998],\"matches\":\"x\",\"range\":[-0.1,1.1],\"title\":{\"text\":\"precision\"}},\"yaxis\":{\"anchor\":\"x\",\"domain\":[0.0,1.0],\"range\":[-0.1,1.1],\"title\":{\"text\":\"recall\"}},\"yaxis2\":{\"anchor\":\"x2\",\"domain\":[0.0,1.0],\"matches\":\"y\",\"showticklabels\":false},\"yaxis3\":{\"anchor\":\"x3\",\"domain\":[0.0,1.0],\"matches\":\"y\",\"showticklabels\":false},\"yaxis4\":{\"anchor\":\"x4\",\"domain\":[0.0,1.0],\"matches\":\"y\",\"showticklabels\":false},\"yaxis5\":{\"anchor\":\"x5\",\"domain\":[0.0,1.0],\"matches\":\"y\",\"showticklabels\":false},\"yaxis6\":{\"anchor\":\"x6\",\"domain\":[0.0,1.0],\"matches\":\"y\",\"showticklabels\":false},\"yaxis7\":{\"anchor\":\"x7\",\"domain\":[0.0,1.0],\"matches\":\"y\",\"showticklabels\":false}},                        {\"responsive\": true}                    ).then(function(){\n",
       "                            \n",
       "var gd = document.getElementById('02cf4e9d-933b-452b-bc44-df1e59dfe2b7');\n",
       "var x = new MutationObserver(function (mutations, observer) {{\n",
       "        var display = window.getComputedStyle(gd).display;\n",
       "        if (!display || display === 'none') {{\n",
       "            console.log([gd, 'removed!']);\n",
       "            Plotly.purge(gd);\n",
       "            observer.disconnect();\n",
       "        }}\n",
       "}});\n",
       "\n",
       "// Listen for the removal of the full notebook cells\n",
       "var notebookContainer = gd.closest('#notebook-container');\n",
       "if (notebookContainer) {{\n",
       "    x.observe(notebookContainer, {childList: true});\n",
       "}}\n",
       "\n",
       "// Listen for the clearing of the current output cell\n",
       "var outputEl = gd.closest('.output');\n",
       "if (outputEl) {{\n",
       "    x.observe(outputEl, {childList: true});\n",
       "}}\n",
       "\n",
       "                        })                };                });            </script>        </div>"
      ]
     },
     "metadata": {},
     "output_type": "display_data"
    }
   ],
   "source": [
    "# Plot\n",
    "fig = px.scatter(combinedsnpreads, x='precision', y='recall', color='caller', facet_col='caller', range_y=(-0.1, 1.1), range_x=(-0.1, 1.1), size='dataset')\n",
    "fig"
   ]
  },
  {
   "cell_type": "markdown",
   "id": "21b773ee-8b25-491d-b594-aca2e6291c20",
   "metadata": {},
   "source": [
    "#### INS only"
   ]
  },
  {
   "cell_type": "code",
   "execution_count": 5,
   "id": "eb7ff397-8201-4377-8747-9c411acfe392",
   "metadata": {
    "tags": []
   },
   "outputs": [],
   "source": [
    "# Downsampled reads from INS 100X\n",
    "ins90xreads = pd.read_csv('/Users/yeemayseah/Documents/Repos/mtb_amr/output/checked/H37Rv_10-3INShead90X_alltools_normalized_dp0_H37Rv_checked.csv')\n",
    "ins80xreads = pd.read_csv('/Users/yeemayseah/Documents/Repos/mtb_amr/output/checked/H37Rv_10-3INShead80X_alltools_normalized_dp0_H37Rv_checked.csv')\n",
    "ins70xreads = pd.read_csv('/Users/yeemayseah/Documents/Repos/mtb_amr/output/checked/H37Rv_10-3INShead70X_alltools_normalized_dp0_H37Rv_checked.csv')\n",
    "ins60xreads = pd.read_csv('/Users/yeemayseah/Documents/Repos/mtb_amr/output/checked/H37Rv_10-3INShead60X_alltools_normalized_dp0_H37Rv_checked.csv')\n",
    "ins50xreads = pd.read_csv('/Users/yeemayseah/Documents/Repos/mtb_amr/output/checked/H37Rv_10-3INShead50X_alltools_normalized_dp0_H37Rv_checked.csv')\n",
    "ins40xreads = pd.read_csv('/Users/yeemayseah/Documents/Repos/mtb_amr/output/checked/H37Rv_10-3INShead40X_alltools_normalized_dp0_H37Rv_checked.csv')\n",
    "ins30xreads = pd.read_csv('/Users/yeemayseah/Documents/Repos/mtb_amr/output/checked/H37Rv_10-3INShead30X_alltools_normalized_dp0_H37Rv_checked.csv')\n",
    "ins20xreads = pd.read_csv('/Users/yeemayseah/Documents/Repos/mtb_amr/output/checked/H37Rv_10-3INShead20X_alltools_normalized_dp0_H37Rv_checked.csv')\n",
    "ins15xreads = pd.read_csv('/Users/yeemayseah/Documents/Repos/mtb_amr/output/checked/H37Rv_10-3INShead15X_alltools_normalized_dp0_H37Rv_checked.csv')\n",
    "ins10xreads = pd.read_csv('/Users/yeemayseah/Documents/Repos/mtb_amr/output/checked/H37Rv_10-3INShead10X_alltools_normalized_dp0_H37Rv_checked.csv')\n",
    "ins5xreads = pd.read_csv('/Users/yeemayseah/Documents/Repos/mtb_amr/output/checked/H37Rv_10-3INShead5X_alltools_normalized_dp0_H37Rv_checked.csv')"
   ]
  },
  {
   "cell_type": "code",
   "execution_count": 6,
   "id": "124a07ea-c8a0-4ead-80a8-a626ed8eb5ce",
   "metadata": {},
   "outputs": [],
   "source": [
    "ins100xsummary = sum_filtered(filter_df(ins100x), '/Users/yeemayseah/Documents/Repos/mtb_amr/logs/variants/H37Rv_10-3INS100X.log')\n",
    "ins90xreadssummary = sum_filtered(filter_df(ins90xreads), '/Users/yeemayseah/Documents/Repos/mtb_amr/logs/variants/H37Rv_10-3INS100X.log')\n",
    "ins80xreadssummary = sum_filtered(filter_df(ins80xreads), '/Users/yeemayseah/Documents/Repos/mtb_amr/logs/variants/H37Rv_10-3INS100X.log')\n",
    "ins70xreadssummary = sum_filtered(filter_df(ins70xreads), '/Users/yeemayseah/Documents/Repos/mtb_amr/logs/variants/H37Rv_10-3INS100X.log')\n",
    "ins60xreadssummary = sum_filtered(filter_df(ins60xreads), '/Users/yeemayseah/Documents/Repos/mtb_amr/logs/variants/H37Rv_10-3INS100X.log')\n",
    "ins50xreadssummary = sum_filtered(filter_df(ins50xreads), '/Users/yeemayseah/Documents/Repos/mtb_amr/logs/variants/H37Rv_10-3INS100X.log')\n",
    "ins40xreadssummary = sum_filtered(filter_df(ins40xreads), '/Users/yeemayseah/Documents/Repos/mtb_amr/logs/variants/H37Rv_10-3INS100X.log')\n",
    "ins30xreadssummary = sum_filtered(filter_df(ins30xreads), '/Users/yeemayseah/Documents/Repos/mtb_amr/logs/variants/H37Rv_10-3INS100X.log')\n",
    "ins20xreadssummary = sum_filtered(filter_df(ins20xreads), '/Users/yeemayseah/Documents/Repos/mtb_amr/logs/variants/H37Rv_10-3INS100X.log')\n",
    "ins15xreadssummary = sum_filtered(filter_df(ins15xreads), '/Users/yeemayseah/Documents/Repos/mtb_amr/logs/variants/H37Rv_10-3INS100X.log')\n",
    "ins10xreadssummary = sum_filtered(filter_df(ins10xreads), '/Users/yeemayseah/Documents/Repos/mtb_amr/logs/variants/H37Rv_10-3INS100X.log')\n",
    "ins5xreadssummary = sum_filtered(filter_df(ins5xreads), '/Users/yeemayseah/Documents/Repos/mtb_amr/logs/variants/H37Rv_10-3INS100X.log')"
   ]
  },
  {
   "cell_type": "code",
   "execution_count": 7,
   "id": "bc38d837-69e6-47d4-af82-c44487991801",
   "metadata": {},
   "outputs": [],
   "source": [
    "# Add missing data\n",
    "ins5xreadssummary[['dataset']] = ins5xreadssummary[['dataset']].fillna(5)\n",
    "ins10xreadssummary[['dataset']] = ins10xreadssummary[['dataset']].fillna(10)\n",
    "ins15xreadssummary[['dataset']] = ins15xreadssummary[['dataset']].fillna(15)\n",
    "ins20xreadssummary[['dataset']] = ins20xreadssummary[['dataset']].fillna(20)\n",
    "ins30xreadssummary[['dataset']] = ins30xreadssummary[['dataset']].fillna(30)\n",
    "ins40xreadssummary[['dataset']] = ins40xreadssummary[['dataset']].fillna(40)\n",
    "ins50xreadssummary[['dataset']] = ins50xreadssummary[['dataset']].fillna(50)\n",
    "ins60xreadssummary[['dataset']] = ins60xreadssummary[['dataset']].fillna(60)\n",
    "ins70xreadssummary[['dataset']] = ins70xreadssummary[['dataset']].fillna(70)\n",
    "ins80xreadssummary[['dataset']] = ins80xreadssummary[['dataset']].fillna(80)\n",
    "ins90xreadssummary[['dataset']] = ins90xreadssummary[['dataset']].fillna(90)\n",
    "ins100xsummary[['dataset']] = ins100xsummary[['dataset']].fillna(100)"
   ]
  },
  {
   "cell_type": "code",
   "execution_count": 8,
   "id": "7b964041-ea6e-4443-83b2-e4747ffb4bb2",
   "metadata": {},
   "outputs": [],
   "source": [
    "ins_datasets = [ins5xreadssummary, ins10xreadssummary, ins15xreadssummary, ins20xreadssummary,\n",
    "                ins30xreadssummary, ins40xreadssummary, \n",
    "                ins50xreadssummary, ins60xreadssummary, ins70xreadssummary, ins80xreadssummary, ins90xreadssummary,\n",
    "                ins100xsummary]"
   ]
  },
  {
   "cell_type": "code",
   "execution_count": 9,
   "id": "5c42c7e4-bf1a-4c5c-bd26-3ce2e8c590aa",
   "metadata": {},
   "outputs": [],
   "source": [
    "combinedINSreads = pd.concat(ins_datasets, ignore_index=True)"
   ]
  },
  {
   "cell_type": "code",
   "execution_count": 16,
   "id": "96a959c1-aebe-4901-a7fc-8592f27e770d",
   "metadata": {},
   "outputs": [
    {
     "data": {
      "application/vnd.plotly.v1+json": {
       "config": {
        "plotlyServerURL": "https://plot.ly"
       },
       "data": [
        {
         "hovertemplate": "caller=bcftools<br>precision=%{x}<br>recall=%{y}<br>dataset=%{marker.size}<extra></extra>",
         "legendgroup": "bcftools",
         "marker": {
          "color": "#636efa",
          "size": [
           5,
           10,
           15,
           20,
           30,
           40,
           50,
           60,
           70,
           80,
           90,
           100
          ],
          "sizemode": "area",
          "sizeref": 0.25,
          "symbol": "circle"
         },
         "mode": "markers",
         "name": "bcftools",
         "orientation": "v",
         "showlegend": true,
         "type": "scatter",
         "x": [
          0.9226932668329177,
          0.9787551248602311,
          0.9874788494077834,
          0.9902565768106528,
          0.9944012441679627,
          0.9948170731707318,
          0.9960725075528701,
          0.9966827503015682,
          0.9967056004791854,
          0.9970104633781763,
          0.9967164179104477,
          0.997014034040012
         ],
         "xaxis": "x",
         "y": [
          0.4287369640787949,
          0.6085747392815759,
          0.6762456546929316,
          0.7066048667439165,
          0.7409038238702201,
          0.756199304750869,
          0.7640787949015063,
          0.7659327925840093,
          0.7712630359212052,
          0.7728852838933952,
          0.7738122827346465,
          0.7738122827346465
         ],
         "yaxis": "y"
        },
        {
         "hovertemplate": "caller=deepvariant<br>precision=%{x}<br>recall=%{y}<br>dataset=%{marker.size}<extra></extra>",
         "legendgroup": "deepvariant",
         "marker": {
          "color": "#EF553B",
          "size": [
           5,
           10,
           15,
           20,
           30,
           40,
           50,
           60,
           70,
           80,
           90,
           100
          ],
          "sizemode": "area",
          "sizeref": 0.25,
          "symbol": "circle"
         },
         "mode": "markers",
         "name": "deepvariant",
         "orientation": "v",
         "showlegend": true,
         "type": "scatter",
         "x": [
          0.9774257425742574,
          0.9922886257229413,
          0.995,
          0.9973506743737958,
          0.998109640831758,
          0.9988221436984688,
          0.998823252530007,
          0.9988226983753238,
          0.9990574929311969,
          0.9988204765274828,
          0.9990559358036346,
          0.9992929530992223
         ],
         "xaxis": "x2",
         "y": [
          0.5719582850521436,
          0.8349942062572422,
          0.9223638470451911,
          0.959675550405562,
          0.9789107763615296,
          0.9826187717265353,
          0.9835457705677868,
          0.9830822711471611,
          0.9826187717265353,
          0.9812282734646581,
          0.9809965237543453,
          0.9826187717265353
         ],
         "yaxis": "y2"
        },
        {
         "hovertemplate": "caller=discosnp<br>precision=%{x}<br>recall=%{y}<br>dataset=%{marker.size}<extra></extra>",
         "legendgroup": "discosnp",
         "marker": {
          "color": "#00cc96",
          "size": [
           5,
           10,
           15,
           20,
           30,
           40,
           50,
           60,
           70,
           80,
           90,
           100
          ],
          "sizemode": "area",
          "sizeref": 0.25,
          "symbol": "circle"
         },
         "mode": "markers",
         "name": "discosnp",
         "orientation": "v",
         "showlegend": true,
         "type": "scatter",
         "x": [
          0.9902200488997555,
          0.995114006514658,
          0.994261119081779,
          0.9990925589836661,
          0.9950842696629213,
          0.9950946040644709,
          0.9950946040644709,
          0.9950946040644709,
          0.9950946040644709,
          0.9957924263674615,
          0.9957894736842106,
          0.9957894736842106
         ],
         "xaxis": "x3",
         "y": [
          0.09385863267670916,
          0.2831981460023175,
          0.3212050984936269,
          0.2551564310544612,
          0.3283893395133256,
          0.3290845886442642,
          0.3290845886442642,
          0.3290845886442642,
          0.3290845886442642,
          0.3290845886442642,
          0.32885283893395134,
          0.32885283893395134
         ],
         "yaxis": "y3"
        },
        {
         "hovertemplate": "caller=freebayes<br>precision=%{x}<br>recall=%{y}<br>dataset=%{marker.size}<extra></extra>",
         "legendgroup": "freebayes",
         "marker": {
          "color": "#ab63fa",
          "size": [
           5,
           10,
           15,
           20,
           30,
           40,
           50,
           60,
           70,
           80,
           90,
           100
          ],
          "sizemode": "area",
          "sizeref": 0.25,
          "symbol": "circle"
         },
         "mode": "markers",
         "name": "freebayes",
         "orientation": "v",
         "showlegend": true,
         "type": "scatter",
         "x": [
          0.988479262672811,
          0.9940853400929447,
          0.9964243146603099,
          0.9968466692944422,
          0.9968615143193409,
          0.997639653815893,
          0.998048399687744,
          0.9968823070927514,
          0.9964939618231399,
          0.9964980544747082,
          0.9964925954793453,
          0.9968774395003903
         ],
         "xaxis": "x4",
         "y": [
          0.3976825028968714,
          0.5453070683661645,
          0.5812282734646582,
          0.5860950173812283,
          0.5888760139049826,
          0.5877172653534183,
          0.5925840092699884,
          0.5928157589803013,
          0.5928157589803013,
          0.5935110081112399,
          0.5925840092699884,
          0.5918887601390498
         ],
         "yaxis": "y4"
        },
        {
         "hovertemplate": "caller=gatk<br>precision=%{x}<br>recall=%{y}<br>dataset=%{marker.size}<extra></extra>",
         "legendgroup": "gatk",
         "marker": {
          "color": "#FFA15A",
          "size": [
           5,
           10,
           15,
           20,
           30,
           40,
           50,
           60,
           70,
           80,
           90,
           100
          ],
          "sizemode": "area",
          "sizeref": 0.25,
          "symbol": "circle"
         },
         "mode": "markers",
         "name": "gatk",
         "orientation": "v",
         "showlegend": true,
         "type": "scatter",
         "x": [
          0.9868603042876902,
          0.994348831235551,
          0.9961510704835218,
          0.9976275207591934,
          0.9983517777254532,
          0.9978853383458647,
          0.9969497888315345,
          0.9964821763602252,
          0.9964830011723329,
          0.9962494139709329,
          0.9967174677608441,
          0.9967174677608441
         ],
         "xaxis": "x5",
         "y": [
          0.6614136732329085,
          0.8971031286210892,
          0.959675550405562,
          0.9745075318655851,
          0.9826187717265353,
          0.9842410196987254,
          0.9847045191193511,
          0.9847045191193511,
          0.984936268829664,
          0.984936268829664,
          0.9851680185399768,
          0.9851680185399768
         ],
         "yaxis": "y5"
        },
        {
         "hovertemplate": "caller=lancet<br>precision=%{x}<br>recall=%{y}<br>dataset=%{marker.size}<extra></extra>",
         "legendgroup": "lancet",
         "marker": {
          "color": "#19d3f3",
          "size": [
           5,
           10,
           15,
           20,
           30,
           40,
           50,
           60,
           70,
           80,
           90,
           100
          ],
          "sizemode": "area",
          "sizeref": 0.25,
          "symbol": "circle"
         },
         "mode": "markers",
         "name": "lancet",
         "orientation": "v",
         "showlegend": true,
         "type": "scatter",
         "x": [
          0.9980506822612085,
          0.9977220956719818,
          0.9966178128523112,
          0.9967989756722151,
          0.99713384924047,
          0.9969928922908693,
          0.9965425531914893,
          0.9960712414876899,
          0.9930376482723053,
          0.9930910951893551,
          0.9961528597076174,
          0.9974398361495136
         ],
         "xaxis": "x6",
         "y": [
          0.1186558516801854,
          0.4060254924681344,
          0.6146002317497103,
          0.7216685979142526,
          0.8062572421784473,
          0.8451911935110081,
          0.8683661645422943,
          0.8813441483198146,
          0.892468134414832,
          0.8994206257242179,
          0.9001158748551564,
          0.9028968713789107
         ],
         "yaxis": "y6"
        },
        {
         "hovertemplate": "caller=vardict<br>precision=%{x}<br>recall=%{y}<br>dataset=%{marker.size}<extra></extra>",
         "legendgroup": "vardict",
         "marker": {
          "color": "#FF6692",
          "size": [
           5,
           10,
           15,
           20,
           30,
           40,
           50,
           60,
           70,
           80,
           90,
           100
          ],
          "sizemode": "area",
          "sizeref": 0.25,
          "symbol": "circle"
         },
         "mode": "markers",
         "name": "vardict",
         "orientation": "v",
         "showlegend": true,
         "type": "scatter",
         "x": [
          0.9344737605102929,
          0.9249521988527725,
          0.9207302981280333,
          0.9082693176683235,
          0.8852280165830242,
          0.8504712041884817,
          0.8267316676823075,
          0.8025226645644462,
          0.7761279268989149,
          0.7563602599814299,
          0.7347307553306831,
          0.7136594774679993
         ],
         "xaxis": "x7",
         "y": [
          0.7469293163383546,
          0.8968713789107764,
          0.9232908458864426,
          0.9316338354577057,
          0.9402085747392815,
          0.941135573580533,
          0.9432213209733488,
          0.9436848203939745,
          0.9448435689455388,
          0.9439165701042874,
          0.9422943221320973,
          0.9432213209733488
         ],
         "yaxis": "y7"
        }
       ],
       "layout": {
        "annotations": [
         {
          "font": {},
          "showarrow": false,
          "text": "caller=bcftools",
          "x": 0.06285714285714285,
          "xanchor": "center",
          "xref": "paper",
          "y": 1,
          "yanchor": "bottom",
          "yref": "paper"
         },
         {
          "font": {},
          "showarrow": false,
          "text": "caller=deepvariant",
          "x": 0.20857142857142852,
          "xanchor": "center",
          "xref": "paper",
          "y": 1,
          "yanchor": "bottom",
          "yref": "paper"
         },
         {
          "font": {},
          "showarrow": false,
          "text": "caller=discosnp",
          "x": 0.3542857142857142,
          "xanchor": "center",
          "xref": "paper",
          "y": 1,
          "yanchor": "bottom",
          "yref": "paper"
         },
         {
          "font": {},
          "showarrow": false,
          "text": "caller=freebayes",
          "x": 0.5,
          "xanchor": "center",
          "xref": "paper",
          "y": 1,
          "yanchor": "bottom",
          "yref": "paper"
         },
         {
          "font": {},
          "showarrow": false,
          "text": "caller=gatk",
          "x": 0.6457142857142856,
          "xanchor": "center",
          "xref": "paper",
          "y": 1,
          "yanchor": "bottom",
          "yref": "paper"
         },
         {
          "font": {},
          "showarrow": false,
          "text": "caller=lancet",
          "x": 0.7914285714285713,
          "xanchor": "center",
          "xref": "paper",
          "y": 1,
          "yanchor": "bottom",
          "yref": "paper"
         },
         {
          "font": {},
          "showarrow": false,
          "text": "caller=vardict",
          "x": 0.9371428571428569,
          "xanchor": "center",
          "xref": "paper",
          "y": 1,
          "yanchor": "bottom",
          "yref": "paper"
         }
        ],
        "autosize": true,
        "legend": {
         "itemsizing": "constant",
         "title": {
          "text": "caller"
         },
         "tracegroupgap": 0
        },
        "margin": {
         "t": 60
        },
        "template": {
         "data": {
          "bar": [
           {
            "error_x": {
             "color": "#2a3f5f"
            },
            "error_y": {
             "color": "#2a3f5f"
            },
            "marker": {
             "line": {
              "color": "#E5ECF6",
              "width": 0.5
             },
             "pattern": {
              "fillmode": "overlay",
              "size": 10,
              "solidity": 0.2
             }
            },
            "type": "bar"
           }
          ],
          "barpolar": [
           {
            "marker": {
             "line": {
              "color": "#E5ECF6",
              "width": 0.5
             },
             "pattern": {
              "fillmode": "overlay",
              "size": 10,
              "solidity": 0.2
             }
            },
            "type": "barpolar"
           }
          ],
          "carpet": [
           {
            "aaxis": {
             "endlinecolor": "#2a3f5f",
             "gridcolor": "white",
             "linecolor": "white",
             "minorgridcolor": "white",
             "startlinecolor": "#2a3f5f"
            },
            "baxis": {
             "endlinecolor": "#2a3f5f",
             "gridcolor": "white",
             "linecolor": "white",
             "minorgridcolor": "white",
             "startlinecolor": "#2a3f5f"
            },
            "type": "carpet"
           }
          ],
          "choropleth": [
           {
            "colorbar": {
             "outlinewidth": 0,
             "ticks": ""
            },
            "type": "choropleth"
           }
          ],
          "contour": [
           {
            "colorbar": {
             "outlinewidth": 0,
             "ticks": ""
            },
            "colorscale": [
             [
              0,
              "#0d0887"
             ],
             [
              0.1111111111111111,
              "#46039f"
             ],
             [
              0.2222222222222222,
              "#7201a8"
             ],
             [
              0.3333333333333333,
              "#9c179e"
             ],
             [
              0.4444444444444444,
              "#bd3786"
             ],
             [
              0.5555555555555556,
              "#d8576b"
             ],
             [
              0.6666666666666666,
              "#ed7953"
             ],
             [
              0.7777777777777778,
              "#fb9f3a"
             ],
             [
              0.8888888888888888,
              "#fdca26"
             ],
             [
              1,
              "#f0f921"
             ]
            ],
            "type": "contour"
           }
          ],
          "contourcarpet": [
           {
            "colorbar": {
             "outlinewidth": 0,
             "ticks": ""
            },
            "type": "contourcarpet"
           }
          ],
          "heatmap": [
           {
            "colorbar": {
             "outlinewidth": 0,
             "ticks": ""
            },
            "colorscale": [
             [
              0,
              "#0d0887"
             ],
             [
              0.1111111111111111,
              "#46039f"
             ],
             [
              0.2222222222222222,
              "#7201a8"
             ],
             [
              0.3333333333333333,
              "#9c179e"
             ],
             [
              0.4444444444444444,
              "#bd3786"
             ],
             [
              0.5555555555555556,
              "#d8576b"
             ],
             [
              0.6666666666666666,
              "#ed7953"
             ],
             [
              0.7777777777777778,
              "#fb9f3a"
             ],
             [
              0.8888888888888888,
              "#fdca26"
             ],
             [
              1,
              "#f0f921"
             ]
            ],
            "type": "heatmap"
           }
          ],
          "heatmapgl": [
           {
            "colorbar": {
             "outlinewidth": 0,
             "ticks": ""
            },
            "colorscale": [
             [
              0,
              "#0d0887"
             ],
             [
              0.1111111111111111,
              "#46039f"
             ],
             [
              0.2222222222222222,
              "#7201a8"
             ],
             [
              0.3333333333333333,
              "#9c179e"
             ],
             [
              0.4444444444444444,
              "#bd3786"
             ],
             [
              0.5555555555555556,
              "#d8576b"
             ],
             [
              0.6666666666666666,
              "#ed7953"
             ],
             [
              0.7777777777777778,
              "#fb9f3a"
             ],
             [
              0.8888888888888888,
              "#fdca26"
             ],
             [
              1,
              "#f0f921"
             ]
            ],
            "type": "heatmapgl"
           }
          ],
          "histogram": [
           {
            "marker": {
             "pattern": {
              "fillmode": "overlay",
              "size": 10,
              "solidity": 0.2
             }
            },
            "type": "histogram"
           }
          ],
          "histogram2d": [
           {
            "colorbar": {
             "outlinewidth": 0,
             "ticks": ""
            },
            "colorscale": [
             [
              0,
              "#0d0887"
             ],
             [
              0.1111111111111111,
              "#46039f"
             ],
             [
              0.2222222222222222,
              "#7201a8"
             ],
             [
              0.3333333333333333,
              "#9c179e"
             ],
             [
              0.4444444444444444,
              "#bd3786"
             ],
             [
              0.5555555555555556,
              "#d8576b"
             ],
             [
              0.6666666666666666,
              "#ed7953"
             ],
             [
              0.7777777777777778,
              "#fb9f3a"
             ],
             [
              0.8888888888888888,
              "#fdca26"
             ],
             [
              1,
              "#f0f921"
             ]
            ],
            "type": "histogram2d"
           }
          ],
          "histogram2dcontour": [
           {
            "colorbar": {
             "outlinewidth": 0,
             "ticks": ""
            },
            "colorscale": [
             [
              0,
              "#0d0887"
             ],
             [
              0.1111111111111111,
              "#46039f"
             ],
             [
              0.2222222222222222,
              "#7201a8"
             ],
             [
              0.3333333333333333,
              "#9c179e"
             ],
             [
              0.4444444444444444,
              "#bd3786"
             ],
             [
              0.5555555555555556,
              "#d8576b"
             ],
             [
              0.6666666666666666,
              "#ed7953"
             ],
             [
              0.7777777777777778,
              "#fb9f3a"
             ],
             [
              0.8888888888888888,
              "#fdca26"
             ],
             [
              1,
              "#f0f921"
             ]
            ],
            "type": "histogram2dcontour"
           }
          ],
          "mesh3d": [
           {
            "colorbar": {
             "outlinewidth": 0,
             "ticks": ""
            },
            "type": "mesh3d"
           }
          ],
          "parcoords": [
           {
            "line": {
             "colorbar": {
              "outlinewidth": 0,
              "ticks": ""
             }
            },
            "type": "parcoords"
           }
          ],
          "pie": [
           {
            "automargin": true,
            "type": "pie"
           }
          ],
          "scatter": [
           {
            "marker": {
             "colorbar": {
              "outlinewidth": 0,
              "ticks": ""
             }
            },
            "type": "scatter"
           }
          ],
          "scatter3d": [
           {
            "line": {
             "colorbar": {
              "outlinewidth": 0,
              "ticks": ""
             }
            },
            "marker": {
             "colorbar": {
              "outlinewidth": 0,
              "ticks": ""
             }
            },
            "type": "scatter3d"
           }
          ],
          "scattercarpet": [
           {
            "marker": {
             "colorbar": {
              "outlinewidth": 0,
              "ticks": ""
             }
            },
            "type": "scattercarpet"
           }
          ],
          "scattergeo": [
           {
            "marker": {
             "colorbar": {
              "outlinewidth": 0,
              "ticks": ""
             }
            },
            "type": "scattergeo"
           }
          ],
          "scattergl": [
           {
            "marker": {
             "colorbar": {
              "outlinewidth": 0,
              "ticks": ""
             }
            },
            "type": "scattergl"
           }
          ],
          "scattermapbox": [
           {
            "marker": {
             "colorbar": {
              "outlinewidth": 0,
              "ticks": ""
             }
            },
            "type": "scattermapbox"
           }
          ],
          "scatterpolar": [
           {
            "marker": {
             "colorbar": {
              "outlinewidth": 0,
              "ticks": ""
             }
            },
            "type": "scatterpolar"
           }
          ],
          "scatterpolargl": [
           {
            "marker": {
             "colorbar": {
              "outlinewidth": 0,
              "ticks": ""
             }
            },
            "type": "scatterpolargl"
           }
          ],
          "scatterternary": [
           {
            "marker": {
             "colorbar": {
              "outlinewidth": 0,
              "ticks": ""
             }
            },
            "type": "scatterternary"
           }
          ],
          "surface": [
           {
            "colorbar": {
             "outlinewidth": 0,
             "ticks": ""
            },
            "colorscale": [
             [
              0,
              "#0d0887"
             ],
             [
              0.1111111111111111,
              "#46039f"
             ],
             [
              0.2222222222222222,
              "#7201a8"
             ],
             [
              0.3333333333333333,
              "#9c179e"
             ],
             [
              0.4444444444444444,
              "#bd3786"
             ],
             [
              0.5555555555555556,
              "#d8576b"
             ],
             [
              0.6666666666666666,
              "#ed7953"
             ],
             [
              0.7777777777777778,
              "#fb9f3a"
             ],
             [
              0.8888888888888888,
              "#fdca26"
             ],
             [
              1,
              "#f0f921"
             ]
            ],
            "type": "surface"
           }
          ],
          "table": [
           {
            "cells": {
             "fill": {
              "color": "#EBF0F8"
             },
             "line": {
              "color": "white"
             }
            },
            "header": {
             "fill": {
              "color": "#C8D4E3"
             },
             "line": {
              "color": "white"
             }
            },
            "type": "table"
           }
          ]
         },
         "layout": {
          "annotationdefaults": {
           "arrowcolor": "#2a3f5f",
           "arrowhead": 0,
           "arrowwidth": 1
          },
          "autotypenumbers": "strict",
          "coloraxis": {
           "colorbar": {
            "outlinewidth": 0,
            "ticks": ""
           }
          },
          "colorscale": {
           "diverging": [
            [
             0,
             "#8e0152"
            ],
            [
             0.1,
             "#c51b7d"
            ],
            [
             0.2,
             "#de77ae"
            ],
            [
             0.3,
             "#f1b6da"
            ],
            [
             0.4,
             "#fde0ef"
            ],
            [
             0.5,
             "#f7f7f7"
            ],
            [
             0.6,
             "#e6f5d0"
            ],
            [
             0.7,
             "#b8e186"
            ],
            [
             0.8,
             "#7fbc41"
            ],
            [
             0.9,
             "#4d9221"
            ],
            [
             1,
             "#276419"
            ]
           ],
           "sequential": [
            [
             0,
             "#0d0887"
            ],
            [
             0.1111111111111111,
             "#46039f"
            ],
            [
             0.2222222222222222,
             "#7201a8"
            ],
            [
             0.3333333333333333,
             "#9c179e"
            ],
            [
             0.4444444444444444,
             "#bd3786"
            ],
            [
             0.5555555555555556,
             "#d8576b"
            ],
            [
             0.6666666666666666,
             "#ed7953"
            ],
            [
             0.7777777777777778,
             "#fb9f3a"
            ],
            [
             0.8888888888888888,
             "#fdca26"
            ],
            [
             1,
             "#f0f921"
            ]
           ],
           "sequentialminus": [
            [
             0,
             "#0d0887"
            ],
            [
             0.1111111111111111,
             "#46039f"
            ],
            [
             0.2222222222222222,
             "#7201a8"
            ],
            [
             0.3333333333333333,
             "#9c179e"
            ],
            [
             0.4444444444444444,
             "#bd3786"
            ],
            [
             0.5555555555555556,
             "#d8576b"
            ],
            [
             0.6666666666666666,
             "#ed7953"
            ],
            [
             0.7777777777777778,
             "#fb9f3a"
            ],
            [
             0.8888888888888888,
             "#fdca26"
            ],
            [
             1,
             "#f0f921"
            ]
           ]
          },
          "colorway": [
           "#636efa",
           "#EF553B",
           "#00cc96",
           "#ab63fa",
           "#FFA15A",
           "#19d3f3",
           "#FF6692",
           "#B6E880",
           "#FF97FF",
           "#FECB52"
          ],
          "font": {
           "color": "#2a3f5f"
          },
          "geo": {
           "bgcolor": "white",
           "lakecolor": "white",
           "landcolor": "#E5ECF6",
           "showlakes": true,
           "showland": true,
           "subunitcolor": "white"
          },
          "hoverlabel": {
           "align": "left"
          },
          "hovermode": "closest",
          "mapbox": {
           "style": "light"
          },
          "paper_bgcolor": "white",
          "plot_bgcolor": "#E5ECF6",
          "polar": {
           "angularaxis": {
            "gridcolor": "white",
            "linecolor": "white",
            "ticks": ""
           },
           "bgcolor": "#E5ECF6",
           "radialaxis": {
            "gridcolor": "white",
            "linecolor": "white",
            "ticks": ""
           }
          },
          "scene": {
           "xaxis": {
            "backgroundcolor": "#E5ECF6",
            "gridcolor": "white",
            "gridwidth": 2,
            "linecolor": "white",
            "showbackground": true,
            "ticks": "",
            "zerolinecolor": "white"
           },
           "yaxis": {
            "backgroundcolor": "#E5ECF6",
            "gridcolor": "white",
            "gridwidth": 2,
            "linecolor": "white",
            "showbackground": true,
            "ticks": "",
            "zerolinecolor": "white"
           },
           "zaxis": {
            "backgroundcolor": "#E5ECF6",
            "gridcolor": "white",
            "gridwidth": 2,
            "linecolor": "white",
            "showbackground": true,
            "ticks": "",
            "zerolinecolor": "white"
           }
          },
          "shapedefaults": {
           "line": {
            "color": "#2a3f5f"
           }
          },
          "ternary": {
           "aaxis": {
            "gridcolor": "white",
            "linecolor": "white",
            "ticks": ""
           },
           "baxis": {
            "gridcolor": "white",
            "linecolor": "white",
            "ticks": ""
           },
           "bgcolor": "#E5ECF6",
           "caxis": {
            "gridcolor": "white",
            "linecolor": "white",
            "ticks": ""
           }
          },
          "title": {
           "x": 0.05
          },
          "xaxis": {
           "automargin": true,
           "gridcolor": "white",
           "linecolor": "white",
           "ticks": "",
           "title": {
            "standoff": 15
           },
           "zerolinecolor": "white",
           "zerolinewidth": 2
          },
          "yaxis": {
           "automargin": true,
           "gridcolor": "white",
           "linecolor": "white",
           "ticks": "",
           "title": {
            "standoff": 15
           },
           "zerolinecolor": "white",
           "zerolinewidth": 2
          }
         }
        },
        "xaxis": {
         "anchor": "y",
         "domain": [
          0,
          0.1257142857142857
         ],
         "range": [
          -0.1,
          1.1
         ],
         "title": {
          "text": "precision"
         },
         "type": "linear"
        },
        "xaxis2": {
         "anchor": "y2",
         "domain": [
          0.14571428571428569,
          0.27142857142857135
         ],
         "matches": "x",
         "range": [
          -0.1,
          1.1
         ],
         "title": {
          "text": "precision"
         },
         "type": "linear"
        },
        "xaxis3": {
         "anchor": "y3",
         "domain": [
          0.29142857142857137,
          0.41714285714285704
         ],
         "matches": "x",
         "range": [
          -0.1,
          1.1
         ],
         "title": {
          "text": "precision"
         },
         "type": "linear"
        },
        "xaxis4": {
         "anchor": "y4",
         "domain": [
          0.4371428571428571,
          0.5628571428571428
         ],
         "matches": "x",
         "range": [
          -0.1,
          1.1
         ],
         "title": {
          "text": "precision"
         },
         "type": "linear"
        },
        "xaxis5": {
         "anchor": "y5",
         "domain": [
          0.5828571428571427,
          0.7085714285714284
         ],
         "matches": "x",
         "range": [
          -0.1,
          1.1
         ],
         "title": {
          "text": "precision"
         },
         "type": "linear"
        },
        "xaxis6": {
         "anchor": "y6",
         "domain": [
          0.7285714285714284,
          0.8542857142857141
         ],
         "matches": "x",
         "range": [
          -0.1,
          1.1
         ],
         "title": {
          "text": "precision"
         },
         "type": "linear"
        },
        "xaxis7": {
         "anchor": "y7",
         "domain": [
          0.8742857142857141,
          0.9999999999999998
         ],
         "matches": "x",
         "range": [
          -0.1,
          1.1
         ],
         "title": {
          "text": "precision"
         },
         "type": "linear"
        },
        "yaxis": {
         "anchor": "x",
         "domain": [
          0,
          1
         ],
         "range": [
          -0.1,
          1.1
         ],
         "title": {
          "text": "recall"
         },
         "type": "linear"
        },
        "yaxis2": {
         "anchor": "x2",
         "domain": [
          0,
          1
         ],
         "matches": "y",
         "showticklabels": false,
         "type": "linear"
        },
        "yaxis3": {
         "anchor": "x3",
         "domain": [
          0,
          1
         ],
         "matches": "y",
         "showticklabels": false,
         "type": "linear"
        },
        "yaxis4": {
         "anchor": "x4",
         "domain": [
          0,
          1
         ],
         "matches": "y",
         "showticklabels": false,
         "type": "linear"
        },
        "yaxis5": {
         "anchor": "x5",
         "domain": [
          0,
          1
         ],
         "matches": "y",
         "showticklabels": false,
         "type": "linear"
        },
        "yaxis6": {
         "anchor": "x6",
         "domain": [
          0,
          1
         ],
         "matches": "y",
         "showticklabels": false,
         "type": "linear"
        },
        "yaxis7": {
         "anchor": "x7",
         "domain": [
          0,
          1
         ],
         "matches": "y",
         "showticklabels": false,
         "type": "linear"
        }
       }
      },
      "image/png": "[encoded data removed]",
      "text/html": [
       "<div>                            <div id=\"cfdb1a8a-eb4e-410e-92fe-8aaf06382106\" class=\"plotly-graph-div\" style=\"height:525px; width:100%;\"></div>            <script type=\"text/javascript\">                require([\"plotly\"], function(Plotly) {                    window.PLOTLYENV=window.PLOTLYENV || {};                                    if (document.getElementById(\"cfdb1a8a-eb4e-410e-92fe-8aaf06382106\")) {                    Plotly.newPlot(                        \"cfdb1a8a-eb4e-410e-92fe-8aaf06382106\",                        [{\"hovertemplate\":\"caller=bcftools<br>precision=%{x}<br>recall=%{y}<br>dataset=%{marker.size}<extra></extra>\",\"legendgroup\":\"bcftools\",\"marker\":{\"color\":\"#636efa\",\"size\":[5,10,15,20,30,40,50,60,70,80,90,100],\"sizemode\":\"area\",\"sizeref\":0.25,\"symbol\":\"circle\"},\"mode\":\"markers\",\"name\":\"bcftools\",\"orientation\":\"v\",\"showlegend\":true,\"type\":\"scatter\",\"x\":[0.9226932668329177,0.9787551248602311,0.9874788494077834,0.9902565768106528,0.9944012441679627,0.9948170731707318,0.9960725075528701,0.9966827503015682,0.9967056004791854,0.9970104633781763,0.9967164179104477,0.997014034040012],\"xaxis\":\"x\",\"y\":[0.4287369640787949,0.6085747392815759,0.6762456546929316,0.7066048667439165,0.7409038238702201,0.756199304750869,0.7640787949015063,0.7659327925840093,0.7712630359212052,0.7728852838933952,0.7738122827346465,0.7738122827346465],\"yaxis\":\"y\"},{\"hovertemplate\":\"caller=deepvariant<br>precision=%{x}<br>recall=%{y}<br>dataset=%{marker.size}<extra></extra>\",\"legendgroup\":\"deepvariant\",\"marker\":{\"color\":\"#EF553B\",\"size\":[5,10,15,20,30,40,50,60,70,80,90,100],\"sizemode\":\"area\",\"sizeref\":0.25,\"symbol\":\"circle\"},\"mode\":\"markers\",\"name\":\"deepvariant\",\"orientation\":\"v\",\"showlegend\":true,\"type\":\"scatter\",\"x\":[0.9774257425742574,0.9922886257229413,0.995,0.9973506743737958,0.998109640831758,0.9988221436984688,0.998823252530007,0.9988226983753238,0.9990574929311969,0.9988204765274828,0.9990559358036346,0.9992929530992223],\"xaxis\":\"x2\",\"y\":[0.5719582850521436,0.8349942062572422,0.9223638470451911,0.959675550405562,0.9789107763615296,0.9826187717265353,0.9835457705677868,0.9830822711471611,0.9826187717265353,0.9812282734646581,0.9809965237543453,0.9826187717265353],\"yaxis\":\"y2\"},{\"hovertemplate\":\"caller=discosnp<br>precision=%{x}<br>recall=%{y}<br>dataset=%{marker.size}<extra></extra>\",\"legendgroup\":\"discosnp\",\"marker\":{\"color\":\"#00cc96\",\"size\":[5,10,15,20,30,40,50,60,70,80,90,100],\"sizemode\":\"area\",\"sizeref\":0.25,\"symbol\":\"circle\"},\"mode\":\"markers\",\"name\":\"discosnp\",\"orientation\":\"v\",\"showlegend\":true,\"type\":\"scatter\",\"x\":[0.9902200488997555,0.995114006514658,0.994261119081779,0.9990925589836661,0.9950842696629213,0.9950946040644709,0.9950946040644709,0.9950946040644709,0.9950946040644709,0.9957924263674615,0.9957894736842106,0.9957894736842106],\"xaxis\":\"x3\",\"y\":[0.09385863267670916,0.2831981460023175,0.3212050984936269,0.2551564310544612,0.3283893395133256,0.3290845886442642,0.3290845886442642,0.3290845886442642,0.3290845886442642,0.3290845886442642,0.32885283893395134,0.32885283893395134],\"yaxis\":\"y3\"},{\"hovertemplate\":\"caller=freebayes<br>precision=%{x}<br>recall=%{y}<br>dataset=%{marker.size}<extra></extra>\",\"legendgroup\":\"freebayes\",\"marker\":{\"color\":\"#ab63fa\",\"size\":[5,10,15,20,30,40,50,60,70,80,90,100],\"sizemode\":\"area\",\"sizeref\":0.25,\"symbol\":\"circle\"},\"mode\":\"markers\",\"name\":\"freebayes\",\"orientation\":\"v\",\"showlegend\":true,\"type\":\"scatter\",\"x\":[0.988479262672811,0.9940853400929447,0.9964243146603099,0.9968466692944422,0.9968615143193409,0.997639653815893,0.998048399687744,0.9968823070927514,0.9964939618231399,0.9964980544747082,0.9964925954793453,0.9968774395003903],\"xaxis\":\"x4\",\"y\":[0.3976825028968714,0.5453070683661645,0.5812282734646582,0.5860950173812283,0.5888760139049826,0.5877172653534183,0.5925840092699884,0.5928157589803013,0.5928157589803013,0.5935110081112399,0.5925840092699884,0.5918887601390498],\"yaxis\":\"y4\"},{\"hovertemplate\":\"caller=gatk<br>precision=%{x}<br>recall=%{y}<br>dataset=%{marker.size}<extra></extra>\",\"legendgroup\":\"gatk\",\"marker\":{\"color\":\"#FFA15A\",\"size\":[5,10,15,20,30,40,50,60,70,80,90,100],\"sizemode\":\"area\",\"sizeref\":0.25,\"symbol\":\"circle\"},\"mode\":\"markers\",\"name\":\"gatk\",\"orientation\":\"v\",\"showlegend\":true,\"type\":\"scatter\",\"x\":[0.9868603042876902,0.994348831235551,0.9961510704835218,0.9976275207591934,0.9983517777254532,0.9978853383458647,0.9969497888315345,0.9964821763602252,0.9964830011723329,0.9962494139709329,0.9967174677608441,0.9967174677608441],\"xaxis\":\"x5\",\"y\":[0.6614136732329085,0.8971031286210892,0.959675550405562,0.9745075318655851,0.9826187717265353,0.9842410196987254,0.9847045191193511,0.9847045191193511,0.984936268829664,0.984936268829664,0.9851680185399768,0.9851680185399768],\"yaxis\":\"y5\"},{\"hovertemplate\":\"caller=lancet<br>precision=%{x}<br>recall=%{y}<br>dataset=%{marker.size}<extra></extra>\",\"legendgroup\":\"lancet\",\"marker\":{\"color\":\"#19d3f3\",\"size\":[5,10,15,20,30,40,50,60,70,80,90,100],\"sizemode\":\"area\",\"sizeref\":0.25,\"symbol\":\"circle\"},\"mode\":\"markers\",\"name\":\"lancet\",\"orientation\":\"v\",\"showlegend\":true,\"type\":\"scatter\",\"x\":[0.9980506822612085,0.9977220956719818,0.9966178128523112,0.9967989756722151,0.99713384924047,0.9969928922908693,0.9965425531914893,0.9960712414876899,0.9930376482723053,0.9930910951893551,0.9961528597076174,0.9974398361495136],\"xaxis\":\"x6\",\"y\":[0.1186558516801854,0.4060254924681344,0.6146002317497103,0.7216685979142526,0.8062572421784473,0.8451911935110081,0.8683661645422943,0.8813441483198146,0.892468134414832,0.8994206257242179,0.9001158748551564,0.9028968713789107],\"yaxis\":\"y6\"},{\"hovertemplate\":\"caller=vardict<br>precision=%{x}<br>recall=%{y}<br>dataset=%{marker.size}<extra></extra>\",\"legendgroup\":\"vardict\",\"marker\":{\"color\":\"#FF6692\",\"size\":[5,10,15,20,30,40,50,60,70,80,90,100],\"sizemode\":\"area\",\"sizeref\":0.25,\"symbol\":\"circle\"},\"mode\":\"markers\",\"name\":\"vardict\",\"orientation\":\"v\",\"showlegend\":true,\"type\":\"scatter\",\"x\":[0.9344737605102929,0.9249521988527725,0.9207302981280333,0.9082693176683235,0.8852280165830242,0.8504712041884817,0.8267316676823075,0.8025226645644462,0.7761279268989149,0.7563602599814299,0.7347307553306831,0.7136594774679993],\"xaxis\":\"x7\",\"y\":[0.7469293163383546,0.8968713789107764,0.9232908458864426,0.9316338354577057,0.9402085747392815,0.941135573580533,0.9432213209733488,0.9436848203939745,0.9448435689455388,0.9439165701042874,0.9422943221320973,0.9432213209733488],\"yaxis\":\"y7\"}],                        {\"annotations\":[{\"font\":{},\"showarrow\":false,\"text\":\"caller=bcftools\",\"x\":0.06285714285714285,\"xanchor\":\"center\",\"xref\":\"paper\",\"y\":1.0,\"yanchor\":\"bottom\",\"yref\":\"paper\"},{\"font\":{},\"showarrow\":false,\"text\":\"caller=deepvariant\",\"x\":0.20857142857142852,\"xanchor\":\"center\",\"xref\":\"paper\",\"y\":1.0,\"yanchor\":\"bottom\",\"yref\":\"paper\"},{\"font\":{},\"showarrow\":false,\"text\":\"caller=discosnp\",\"x\":0.3542857142857142,\"xanchor\":\"center\",\"xref\":\"paper\",\"y\":1.0,\"yanchor\":\"bottom\",\"yref\":\"paper\"},{\"font\":{},\"showarrow\":false,\"text\":\"caller=freebayes\",\"x\":0.5,\"xanchor\":\"center\",\"xref\":\"paper\",\"y\":1.0,\"yanchor\":\"bottom\",\"yref\":\"paper\"},{\"font\":{},\"showarrow\":false,\"text\":\"caller=gatk\",\"x\":0.6457142857142856,\"xanchor\":\"center\",\"xref\":\"paper\",\"y\":1.0,\"yanchor\":\"bottom\",\"yref\":\"paper\"},{\"font\":{},\"showarrow\":false,\"text\":\"caller=lancet\",\"x\":0.7914285714285713,\"xanchor\":\"center\",\"xref\":\"paper\",\"y\":1.0,\"yanchor\":\"bottom\",\"yref\":\"paper\"},{\"font\":{},\"showarrow\":false,\"text\":\"caller=vardict\",\"x\":0.9371428571428569,\"xanchor\":\"center\",\"xref\":\"paper\",\"y\":1.0,\"yanchor\":\"bottom\",\"yref\":\"paper\"}],\"legend\":{\"itemsizing\":\"constant\",\"title\":{\"text\":\"caller\"},\"tracegroupgap\":0},\"margin\":{\"t\":60},\"template\":{\"data\":{\"bar\":[{\"error_x\":{\"color\":\"#2a3f5f\"},\"error_y\":{\"color\":\"#2a3f5f\"},\"marker\":{\"line\":{\"color\":\"#E5ECF6\",\"width\":0.5},\"pattern\":{\"fillmode\":\"overlay\",\"size\":10,\"solidity\":0.2}},\"type\":\"bar\"}],\"barpolar\":[{\"marker\":{\"line\":{\"color\":\"#E5ECF6\",\"width\":0.5},\"pattern\":{\"fillmode\":\"overlay\",\"size\":10,\"solidity\":0.2}},\"type\":\"barpolar\"}],\"carpet\":[{\"aaxis\":{\"endlinecolor\":\"#2a3f5f\",\"gridcolor\":\"white\",\"linecolor\":\"white\",\"minorgridcolor\":\"white\",\"startlinecolor\":\"#2a3f5f\"},\"baxis\":{\"endlinecolor\":\"#2a3f5f\",\"gridcolor\":\"white\",\"linecolor\":\"white\",\"minorgridcolor\":\"white\",\"startlinecolor\":\"#2a3f5f\"},\"type\":\"carpet\"}],\"choropleth\":[{\"colorbar\":{\"outlinewidth\":0,\"ticks\":\"\"},\"type\":\"choropleth\"}],\"contour\":[{\"colorbar\":{\"outlinewidth\":0,\"ticks\":\"\"},\"colorscale\":[[0.0,\"#0d0887\"],[0.1111111111111111,\"#46039f\"],[0.2222222222222222,\"#7201a8\"],[0.3333333333333333,\"#9c179e\"],[0.4444444444444444,\"#bd3786\"],[0.5555555555555556,\"#d8576b\"],[0.6666666666666666,\"#ed7953\"],[0.7777777777777778,\"#fb9f3a\"],[0.8888888888888888,\"#fdca26\"],[1.0,\"#f0f921\"]],\"type\":\"contour\"}],\"contourcarpet\":[{\"colorbar\":{\"outlinewidth\":0,\"ticks\":\"\"},\"type\":\"contourcarpet\"}],\"heatmap\":[{\"colorbar\":{\"outlinewidth\":0,\"ticks\":\"\"},\"colorscale\":[[0.0,\"#0d0887\"],[0.1111111111111111,\"#46039f\"],[0.2222222222222222,\"#7201a8\"],[0.3333333333333333,\"#9c179e\"],[0.4444444444444444,\"#bd3786\"],[0.5555555555555556,\"#d8576b\"],[0.6666666666666666,\"#ed7953\"],[0.7777777777777778,\"#fb9f3a\"],[0.8888888888888888,\"#fdca26\"],[1.0,\"#f0f921\"]],\"type\":\"heatmap\"}],\"heatmapgl\":[{\"colorbar\":{\"outlinewidth\":0,\"ticks\":\"\"},\"colorscale\":[[0.0,\"#0d0887\"],[0.1111111111111111,\"#46039f\"],[0.2222222222222222,\"#7201a8\"],[0.3333333333333333,\"#9c179e\"],[0.4444444444444444,\"#bd3786\"],[0.5555555555555556,\"#d8576b\"],[0.6666666666666666,\"#ed7953\"],[0.7777777777777778,\"#fb9f3a\"],[0.8888888888888888,\"#fdca26\"],[1.0,\"#f0f921\"]],\"type\":\"heatmapgl\"}],\"histogram\":[{\"marker\":{\"pattern\":{\"fillmode\":\"overlay\",\"size\":10,\"solidity\":0.2}},\"type\":\"histogram\"}],\"histogram2d\":[{\"colorbar\":{\"outlinewidth\":0,\"ticks\":\"\"},\"colorscale\":[[0.0,\"#0d0887\"],[0.1111111111111111,\"#46039f\"],[0.2222222222222222,\"#7201a8\"],[0.3333333333333333,\"#9c179e\"],[0.4444444444444444,\"#bd3786\"],[0.5555555555555556,\"#d8576b\"],[0.6666666666666666,\"#ed7953\"],[0.7777777777777778,\"#fb9f3a\"],[0.8888888888888888,\"#fdca26\"],[1.0,\"#f0f921\"]],\"type\":\"histogram2d\"}],\"histogram2dcontour\":[{\"colorbar\":{\"outlinewidth\":0,\"ticks\":\"\"},\"colorscale\":[[0.0,\"#0d0887\"],[0.1111111111111111,\"#46039f\"],[0.2222222222222222,\"#7201a8\"],[0.3333333333333333,\"#9c179e\"],[0.4444444444444444,\"#bd3786\"],[0.5555555555555556,\"#d8576b\"],[0.6666666666666666,\"#ed7953\"],[0.7777777777777778,\"#fb9f3a\"],[0.8888888888888888,\"#fdca26\"],[1.0,\"#f0f921\"]],\"type\":\"histogram2dcontour\"}],\"mesh3d\":[{\"colorbar\":{\"outlinewidth\":0,\"ticks\":\"\"},\"type\":\"mesh3d\"}],\"parcoords\":[{\"line\":{\"colorbar\":{\"outlinewidth\":0,\"ticks\":\"\"}},\"type\":\"parcoords\"}],\"pie\":[{\"automargin\":true,\"type\":\"pie\"}],\"scatter\":[{\"marker\":{\"colorbar\":{\"outlinewidth\":0,\"ticks\":\"\"}},\"type\":\"scatter\"}],\"scatter3d\":[{\"line\":{\"colorbar\":{\"outlinewidth\":0,\"ticks\":\"\"}},\"marker\":{\"colorbar\":{\"outlinewidth\":0,\"ticks\":\"\"}},\"type\":\"scatter3d\"}],\"scattercarpet\":[{\"marker\":{\"colorbar\":{\"outlinewidth\":0,\"ticks\":\"\"}},\"type\":\"scattercarpet\"}],\"scattergeo\":[{\"marker\":{\"colorbar\":{\"outlinewidth\":0,\"ticks\":\"\"}},\"type\":\"scattergeo\"}],\"scattergl\":[{\"marker\":{\"colorbar\":{\"outlinewidth\":0,\"ticks\":\"\"}},\"type\":\"scattergl\"}],\"scattermapbox\":[{\"marker\":{\"colorbar\":{\"outlinewidth\":0,\"ticks\":\"\"}},\"type\":\"scattermapbox\"}],\"scatterpolar\":[{\"marker\":{\"colorbar\":{\"outlinewidth\":0,\"ticks\":\"\"}},\"type\":\"scatterpolar\"}],\"scatterpolargl\":[{\"marker\":{\"colorbar\":{\"outlinewidth\":0,\"ticks\":\"\"}},\"type\":\"scatterpolargl\"}],\"scatterternary\":[{\"marker\":{\"colorbar\":{\"outlinewidth\":0,\"ticks\":\"\"}},\"type\":\"scatterternary\"}],\"surface\":[{\"colorbar\":{\"outlinewidth\":0,\"ticks\":\"\"},\"colorscale\":[[0.0,\"#0d0887\"],[0.1111111111111111,\"#46039f\"],[0.2222222222222222,\"#7201a8\"],[0.3333333333333333,\"#9c179e\"],[0.4444444444444444,\"#bd3786\"],[0.5555555555555556,\"#d8576b\"],[0.6666666666666666,\"#ed7953\"],[0.7777777777777778,\"#fb9f3a\"],[0.8888888888888888,\"#fdca26\"],[1.0,\"#f0f921\"]],\"type\":\"surface\"}],\"table\":[{\"cells\":{\"fill\":{\"color\":\"#EBF0F8\"},\"line\":{\"color\":\"white\"}},\"header\":{\"fill\":{\"color\":\"#C8D4E3\"},\"line\":{\"color\":\"white\"}},\"type\":\"table\"}]},\"layout\":{\"annotationdefaults\":{\"arrowcolor\":\"#2a3f5f\",\"arrowhead\":0,\"arrowwidth\":1},\"autotypenumbers\":\"strict\",\"coloraxis\":{\"colorbar\":{\"outlinewidth\":0,\"ticks\":\"\"}},\"colorscale\":{\"diverging\":[[0,\"#8e0152\"],[0.1,\"#c51b7d\"],[0.2,\"#de77ae\"],[0.3,\"#f1b6da\"],[0.4,\"#fde0ef\"],[0.5,\"#f7f7f7\"],[0.6,\"#e6f5d0\"],[0.7,\"#b8e186\"],[0.8,\"#7fbc41\"],[0.9,\"#4d9221\"],[1,\"#276419\"]],\"sequential\":[[0.0,\"#0d0887\"],[0.1111111111111111,\"#46039f\"],[0.2222222222222222,\"#7201a8\"],[0.3333333333333333,\"#9c179e\"],[0.4444444444444444,\"#bd3786\"],[0.5555555555555556,\"#d8576b\"],[0.6666666666666666,\"#ed7953\"],[0.7777777777777778,\"#fb9f3a\"],[0.8888888888888888,\"#fdca26\"],[1.0,\"#f0f921\"]],\"sequentialminus\":[[0.0,\"#0d0887\"],[0.1111111111111111,\"#46039f\"],[0.2222222222222222,\"#7201a8\"],[0.3333333333333333,\"#9c179e\"],[0.4444444444444444,\"#bd3786\"],[0.5555555555555556,\"#d8576b\"],[0.6666666666666666,\"#ed7953\"],[0.7777777777777778,\"#fb9f3a\"],[0.8888888888888888,\"#fdca26\"],[1.0,\"#f0f921\"]]},\"colorway\":[\"#636efa\",\"#EF553B\",\"#00cc96\",\"#ab63fa\",\"#FFA15A\",\"#19d3f3\",\"#FF6692\",\"#B6E880\",\"#FF97FF\",\"#FECB52\"],\"font\":{\"color\":\"#2a3f5f\"},\"geo\":{\"bgcolor\":\"white\",\"lakecolor\":\"white\",\"landcolor\":\"#E5ECF6\",\"showlakes\":true,\"showland\":true,\"subunitcolor\":\"white\"},\"hoverlabel\":{\"align\":\"left\"},\"hovermode\":\"closest\",\"mapbox\":{\"style\":\"light\"},\"paper_bgcolor\":\"white\",\"plot_bgcolor\":\"#E5ECF6\",\"polar\":{\"angularaxis\":{\"gridcolor\":\"white\",\"linecolor\":\"white\",\"ticks\":\"\"},\"bgcolor\":\"#E5ECF6\",\"radialaxis\":{\"gridcolor\":\"white\",\"linecolor\":\"white\",\"ticks\":\"\"}},\"scene\":{\"xaxis\":{\"backgroundcolor\":\"#E5ECF6\",\"gridcolor\":\"white\",\"gridwidth\":2,\"linecolor\":\"white\",\"showbackground\":true,\"ticks\":\"\",\"zerolinecolor\":\"white\"},\"yaxis\":{\"backgroundcolor\":\"#E5ECF6\",\"gridcolor\":\"white\",\"gridwidth\":2,\"linecolor\":\"white\",\"showbackground\":true,\"ticks\":\"\",\"zerolinecolor\":\"white\"},\"zaxis\":{\"backgroundcolor\":\"#E5ECF6\",\"gridcolor\":\"white\",\"gridwidth\":2,\"linecolor\":\"white\",\"showbackground\":true,\"ticks\":\"\",\"zerolinecolor\":\"white\"}},\"shapedefaults\":{\"line\":{\"color\":\"#2a3f5f\"}},\"ternary\":{\"aaxis\":{\"gridcolor\":\"white\",\"linecolor\":\"white\",\"ticks\":\"\"},\"baxis\":{\"gridcolor\":\"white\",\"linecolor\":\"white\",\"ticks\":\"\"},\"bgcolor\":\"#E5ECF6\",\"caxis\":{\"gridcolor\":\"white\",\"linecolor\":\"white\",\"ticks\":\"\"}},\"title\":{\"x\":0.05},\"xaxis\":{\"automargin\":true,\"gridcolor\":\"white\",\"linecolor\":\"white\",\"ticks\":\"\",\"title\":{\"standoff\":15},\"zerolinecolor\":\"white\",\"zerolinewidth\":2},\"yaxis\":{\"automargin\":true,\"gridcolor\":\"white\",\"linecolor\":\"white\",\"ticks\":\"\",\"title\":{\"standoff\":15},\"zerolinecolor\":\"white\",\"zerolinewidth\":2}}},\"xaxis\":{\"anchor\":\"y\",\"domain\":[0.0,0.1257142857142857],\"range\":[-0.1,1.1],\"title\":{\"text\":\"precision\"}},\"xaxis2\":{\"anchor\":\"y2\",\"domain\":[0.14571428571428569,0.27142857142857135],\"matches\":\"x\",\"range\":[-0.1,1.1],\"title\":{\"text\":\"precision\"}},\"xaxis3\":{\"anchor\":\"y3\",\"domain\":[0.29142857142857137,0.41714285714285704],\"matches\":\"x\",\"range\":[-0.1,1.1],\"title\":{\"text\":\"precision\"}},\"xaxis4\":{\"anchor\":\"y4\",\"domain\":[0.4371428571428571,0.5628571428571428],\"matches\":\"x\",\"range\":[-0.1,1.1],\"title\":{\"text\":\"precision\"}},\"xaxis5\":{\"anchor\":\"y5\",\"domain\":[0.5828571428571427,0.7085714285714284],\"matches\":\"x\",\"range\":[-0.1,1.1],\"title\":{\"text\":\"precision\"}},\"xaxis6\":{\"anchor\":\"y6\",\"domain\":[0.7285714285714284,0.8542857142857141],\"matches\":\"x\",\"range\":[-0.1,1.1],\"title\":{\"text\":\"precision\"}},\"xaxis7\":{\"anchor\":\"y7\",\"domain\":[0.8742857142857141,0.9999999999999998],\"matches\":\"x\",\"range\":[-0.1,1.1],\"title\":{\"text\":\"precision\"}},\"yaxis\":{\"anchor\":\"x\",\"domain\":[0.0,1.0],\"range\":[-0.1,1.1],\"title\":{\"text\":\"recall\"}},\"yaxis2\":{\"anchor\":\"x2\",\"domain\":[0.0,1.0],\"matches\":\"y\",\"showticklabels\":false},\"yaxis3\":{\"anchor\":\"x3\",\"domain\":[0.0,1.0],\"matches\":\"y\",\"showticklabels\":false},\"yaxis4\":{\"anchor\":\"x4\",\"domain\":[0.0,1.0],\"matches\":\"y\",\"showticklabels\":false},\"yaxis5\":{\"anchor\":\"x5\",\"domain\":[0.0,1.0],\"matches\":\"y\",\"showticklabels\":false},\"yaxis6\":{\"anchor\":\"x6\",\"domain\":[0.0,1.0],\"matches\":\"y\",\"showticklabels\":false},\"yaxis7\":{\"anchor\":\"x7\",\"domain\":[0.0,1.0],\"matches\":\"y\",\"showticklabels\":false}},                        {\"responsive\": true}                    ).then(function(){\n",
       "                            \n",
       "var gd = document.getElementById('cfdb1a8a-eb4e-410e-92fe-8aaf06382106');\n",
       "var x = new MutationObserver(function (mutations, observer) {{\n",
       "        var display = window.getComputedStyle(gd).display;\n",
       "        if (!display || display === 'none') {{\n",
       "            console.log([gd, 'removed!']);\n",
       "            Plotly.purge(gd);\n",
       "            observer.disconnect();\n",
       "        }}\n",
       "}});\n",
       "\n",
       "// Listen for the removal of the full notebook cells\n",
       "var notebookContainer = gd.closest('#notebook-container');\n",
       "if (notebookContainer) {{\n",
       "    x.observe(notebookContainer, {childList: true});\n",
       "}}\n",
       "\n",
       "// Listen for the clearing of the current output cell\n",
       "var outputEl = gd.closest('.output');\n",
       "if (outputEl) {{\n",
       "    x.observe(outputEl, {childList: true});\n",
       "}}\n",
       "\n",
       "                        })                };                });            </script>        </div>"
      ]
     },
     "metadata": {},
     "output_type": "display_data"
    }
   ],
   "source": [
    "# Plot\n",
    "fig = px.scatter(combinedINSreads, x='precision', y='recall', range_x=(-0.1, 1.1), range_y=(-0.1, 1.1), \n",
    "                 color='caller', facet_col='caller', \n",
    "                 category_orders={'caller': ['bcftools', 'deepvariant', 'discosnp', 'freebayes', \n",
    "                                             'gatk', 'lancet', 'vardict']}, size='dataset')\n",
    "fig"
   ]
  },
  {
   "cell_type": "markdown",
   "id": "570a6c01-6c73-43ca-830f-e9af8dcc4f73",
   "metadata": {},
   "source": [
    "#### DEL only"
   ]
  },
  {
   "cell_type": "code",
   "execution_count": 17,
   "id": "e75b1f81-3108-4036-a79b-aa1db9b5dd5b",
   "metadata": {
    "tags": []
   },
   "outputs": [],
   "source": [
    "# Downsampled reads from DEL 100X\n",
    "del90xreads = pd.read_csv('/Users/yeemayseah/Documents/Repos/mtb_amr/output/checked/H37Rv_10-3DELhead90X_alltools_normalized_dp0_H37Rv_checked.csv')\n",
    "del80xreads = pd.read_csv('/Users/yeemayseah/Documents/Repos/mtb_amr/output/checked/H37Rv_10-3DELhead80X_alltools_normalized_dp0_H37Rv_checked.csv')\n",
    "del70xreads = pd.read_csv('/Users/yeemayseah/Documents/Repos/mtb_amr/output/checked/H37Rv_10-3DELhead70X_alltools_normalized_dp0_H37Rv_checked.csv')\n",
    "del60xreads = pd.read_csv('/Users/yeemayseah/Documents/Repos/mtb_amr/output/checked/H37Rv_10-3DELhead60X_alltools_normalized_dp0_H37Rv_checked.csv')\n",
    "del50xreads = pd.read_csv('/Users/yeemayseah/Documents/Repos/mtb_amr/output/checked/H37Rv_10-3DELhead50X_alltools_normalized_dp0_H37Rv_checked.csv')\n",
    "del40xreads = pd.read_csv('/Users/yeemayseah/Documents/Repos/mtb_amr/output/checked/H37Rv_10-3DELhead40X_alltools_normalized_dp0_H37Rv_checked.csv')\n",
    "del30xreads = pd.read_csv('/Users/yeemayseah/Documents/Repos/mtb_amr/output/checked/H37Rv_10-3DELhead30X_alltools_normalized_dp0_H37Rv_checked.csv')\n",
    "del20xreads = pd.read_csv('/Users/yeemayseah/Documents/Repos/mtb_amr/output/checked/H37Rv_10-3DELhead20X_alltools_normalized_dp0_H37Rv_checked.csv')\n",
    "del15xreads = pd.read_csv('/Users/yeemayseah/Documents/Repos/mtb_amr/output/checked/H37Rv_10-3DELhead15X_alltools_normalized_dp0_H37Rv_checked.csv')\n",
    "del10xreads = pd.read_csv('/Users/yeemayseah/Documents/Repos/mtb_amr/output/checked/H37Rv_10-3DELhead10X_alltools_normalized_dp0_H37Rv_checked.csv')\n",
    "del5xreads = pd.read_csv('/Users/yeemayseah/Documents/Repos/mtb_amr/output/checked/H37Rv_10-3DELhead5X_alltools_normalized_dp0_H37Rv_checked.csv')"
   ]
  },
  {
   "cell_type": "code",
   "execution_count": 18,
   "id": "4b59b6e4-0971-474d-beb6-2238da0fac3d",
   "metadata": {},
   "outputs": [],
   "source": [
    "del100xsummary = sum_filtered(filter_df(del100x), '/Users/yeemayseah/Documents/Repos/mtb_amr/logs/variants/H37Rv_10-3DEL100X.log')\n",
    "del90xreadssummary = sum_filtered(filter_df(del90xreads), '/Users/yeemayseah/Documents/Repos/mtb_amr/logs/variants/H37Rv_10-3DEL100X.log')\n",
    "del80xreadssummary = sum_filtered(filter_df(del80xreads), '/Users/yeemayseah/Documents/Repos/mtb_amr/logs/variants/H37Rv_10-3DEL100X.log')\n",
    "del70xreadssummary = sum_filtered(filter_df(del70xreads), '/Users/yeemayseah/Documents/Repos/mtb_amr/logs/variants/H37Rv_10-3DEL100X.log')\n",
    "del60xreadssummary = sum_filtered(filter_df(del60xreads), '/Users/yeemayseah/Documents/Repos/mtb_amr/logs/variants/H37Rv_10-3DEL100X.log')\n",
    "del50xreadssummary = sum_filtered(filter_df(del50xreads), '/Users/yeemayseah/Documents/Repos/mtb_amr/logs/variants/H37Rv_10-3DEL100X.log')\n",
    "del40xreadssummary = sum_filtered(filter_df(del40xreads), '/Users/yeemayseah/Documents/Repos/mtb_amr/logs/variants/H37Rv_10-3DEL100X.log')\n",
    "del30xreadssummary = sum_filtered(filter_df(del30xreads), '/Users/yeemayseah/Documents/Repos/mtb_amr/logs/variants/H37Rv_10-3DEL100X.log')\n",
    "del20xreadssummary = sum_filtered(filter_df(del20xreads), '/Users/yeemayseah/Documents/Repos/mtb_amr/logs/variants/H37Rv_10-3DEL100X.log')\n",
    "del15xreadssummary = sum_filtered(filter_df(del15xreads), '/Users/yeemayseah/Documents/Repos/mtb_amr/logs/variants/H37Rv_10-3DEL100X.log')\n",
    "del10xreadssummary = sum_filtered(filter_df(del10xreads), '/Users/yeemayseah/Documents/Repos/mtb_amr/logs/variants/H37Rv_10-3DEL100X.log')\n",
    "del5xreadssummary = sum_filtered(filter_df(del5xreads), '/Users/yeemayseah/Documents/Repos/mtb_amr/logs/variants/H37Rv_10-3DEL100X.log')"
   ]
  },
  {
   "cell_type": "code",
   "execution_count": 19,
   "id": "5022868f-ce8e-4d1f-a261-48cfe19da47a",
   "metadata": {},
   "outputs": [],
   "source": [
    "# Add missing data\n",
    "del5xreadssummary[['dataset']] = del5xreadssummary[['dataset']].fillna(5)\n",
    "del10xreadssummary[['dataset']] = del10xreadssummary[['dataset']].fillna(10)\n",
    "del15xreadssummary[['dataset']] = del15xreadssummary[['dataset']].fillna(15)\n",
    "del20xreadssummary[['dataset']] = del20xreadssummary[['dataset']].fillna(20)\n",
    "del30xreadssummary[['dataset']] = del30xreadssummary[['dataset']].fillna(30)\n",
    "del40xreadssummary[['dataset']] = del40xreadssummary[['dataset']].fillna(40)\n",
    "del50xreadssummary[['dataset']] = del50xreadssummary[['dataset']].fillna(50)\n",
    "del60xreadssummary[['dataset']] = del60xreadssummary[['dataset']].fillna(60)\n",
    "del70xreadssummary[['dataset']] = del70xreadssummary[['dataset']].fillna(70)\n",
    "del80xreadssummary[['dataset']] = del80xreadssummary[['dataset']].fillna(80)\n",
    "del90xreadssummary[['dataset']] = del90xreadssummary[['dataset']].fillna(90)\n",
    "del100xsummary[['dataset']] = del100xsummary[['dataset']].fillna(100)"
   ]
  },
  {
   "cell_type": "code",
   "execution_count": 20,
   "id": "e1349c63-bac2-4500-b701-811b3da9edb6",
   "metadata": {},
   "outputs": [],
   "source": [
    "del_datasets = [del5xreadssummary, del10xreadssummary, del15xreadssummary, \n",
    "                del20xreadssummary, del30xreadssummary, del40xreadssummary, \n",
    "                del50xreadssummary, del60xreadssummary, del70xreadssummary, \n",
    "                del80xreadssummary, del90xreadssummary, del100xsummary]"
   ]
  },
  {
   "cell_type": "code",
   "execution_count": 21,
   "id": "524b3f85-69f0-420c-bc6c-5c94fce66cec",
   "metadata": {},
   "outputs": [],
   "source": [
    "combinedDELreads = pd.concat(del_datasets, ignore_index=True)"
   ]
  },
  {
   "cell_type": "code",
   "execution_count": 22,
   "id": "f26b4bee-58fe-41a4-a541-f926e0045e81",
   "metadata": {},
   "outputs": [
    {
     "data": {
      "application/vnd.plotly.v1+json": {
       "config": {
        "plotlyServerURL": "https://plot.ly"
       },
       "data": [
        {
         "hovertemplate": "caller=gatk<br>precision=%{x}<br>recall=%{y}<br>dataset=%{marker.size}<extra></extra>",
         "legendgroup": "gatk",
         "marker": {
          "color": "#636efa",
          "size": [
           5,
           10,
           15,
           20,
           30,
           40,
           50,
           60,
           70,
           80,
           90,
           100
          ],
          "sizemode": "area",
          "sizeref": 0.25,
          "symbol": "circle"
         },
         "mode": "markers",
         "name": "gatk",
         "orientation": "v",
         "showlegend": true,
         "type": "scatter",
         "x": [
          0.9959112149532711,
          0.9992690058479532,
          1,
          0.9997623574144486,
          0.9997624138750297,
          0.9997624703087886,
          0.9997624703087886,
          0.9995252788986471,
          0.9995252788986471,
          0.9995252788986471,
          0.9992880873279545,
          0.9992880873279545
         ],
         "xaxis": "x",
         "y": [
          0.8002816240319174,
          0.9624501290776813,
          0.9840413048580146,
          0.9873269185637175,
          0.9875616052569819,
          0.9877962919502464,
          0.9877962919502464,
          0.9882656653367754,
          0.9882656653367754,
          0.9882656653367754,
          0.9882656653367754,
          0.9882656653367754
         ],
         "yaxis": "y"
        },
        {
         "hovertemplate": "caller=freebayes<br>precision=%{x}<br>recall=%{y}<br>dataset=%{marker.size}<extra></extra>",
         "legendgroup": "freebayes",
         "marker": {
          "color": "#EF553B",
          "size": [
           5,
           10,
           15,
           20,
           30,
           40,
           50,
           60,
           70,
           80,
           90,
           100
          ],
          "sizemode": "area",
          "sizeref": 0.25,
          "symbol": "circle"
         },
         "mode": "markers",
         "name": "freebayes",
         "orientation": "v",
         "showlegend": true,
         "type": "scatter",
         "x": [
          0.9952654717619208,
          0.9979502946451447,
          0.997812879708384,
          0.9980792316926771,
          0.9983257593877063,
          0.9983309489747259,
          0.9983317445185891,
          0.9983317445185891,
          0.9980943306336351,
          0.9976196143775291,
          0.9976201808662541,
          0.9971462544589774
         ],
         "xaxis": "x2",
         "y": [
          0.6906829382773997,
          0.9141046702651959,
          0.9636235625440037,
          0.9755925839004929,
          0.9795822576859892,
          0.9826331846984276,
          0.9831025580849566,
          0.9831025580849566,
          0.983337244778221,
          0.9835719314714856,
          0.98380661816475,
          0.9840413048580146
         ],
         "yaxis": "y2"
        },
        {
         "hovertemplate": "caller=bcftools<br>precision=%{x}<br>recall=%{y}<br>dataset=%{marker.size}<extra></extra>",
         "legendgroup": "bcftools",
         "marker": {
          "color": "#00cc96",
          "size": [
           5,
           10,
           15,
           20,
           30,
           40,
           50,
           60,
           70,
           80,
           90,
           100
          ],
          "sizemode": "area",
          "sizeref": 0.25,
          "symbol": "circle"
         },
         "mode": "markers",
         "name": "bcftools",
         "orientation": "v",
         "showlegend": true,
         "type": "scatter",
         "x": [
          0.948111658456486,
          0.9788211278387343,
          0.9779005524861878,
          0.9755005889281507,
          0.9625606655881673,
          0.9475,
          0.9366861248316121,
          0.9281423804226919,
          0.9199558985667035,
          0.9117325759230938,
          0.9013172101058087,
          0.8934075342465754
         ],
         "xaxis": "x3",
         "y": [
          0.6775404834545882,
          0.9002581553625909,
          0.9554095282797466,
          0.971837596808261,
          0.9774700774466087,
          0.9784088242196668,
          0.9791128842994602,
          0.9791128842994602,
          0.9791128842994602,
          0.9793475709927247,
          0.9795822576859892,
          0.9795822576859892
         ],
         "yaxis": "y3"
        },
        {
         "hovertemplate": "caller=lancet<br>precision=%{x}<br>recall=%{y}<br>dataset=%{marker.size}<extra></extra>",
         "legendgroup": "lancet",
         "marker": {
          "color": "#ab63fa",
          "size": [
           5,
           10,
           15,
           20,
           30,
           40,
           50,
           60,
           70,
           80,
           90,
           100
          ],
          "sizemode": "area",
          "sizeref": 0.25,
          "symbol": "circle"
         },
         "mode": "markers",
         "name": "lancet",
         "orientation": "v",
         "showlegend": true,
         "type": "scatter",
         "x": [
          1,
          0.9996397694524496,
          0.999730312837109,
          0.9997498123592694,
          0.9997576345128454,
          0.999758337361044,
          0.9997589199614272,
          0.9997592102094871,
          0.9997593261131167,
          0.9997594419052201,
          0.9997596153846153,
          0.9997596731554914
         ],
         "xaxis": "x4",
         "y": [
          0.21591175780333255,
          0.651255573808965,
          0.8699835719314715,
          0.9378080262849097,
          0.9680826097160291,
          0.970898850035203,
          0.9732457169678479,
          0.9744191504341704,
          0.9748885238206993,
          0.9753578972072283,
          0.9760619572870218,
          0.9762966439802864
         ],
         "yaxis": "y4"
        },
        {
         "hovertemplate": "caller=vardict<br>precision=%{x}<br>recall=%{y}<br>dataset=%{marker.size}<extra></extra>",
         "legendgroup": "vardict",
         "marker": {
          "color": "#FFA15A",
          "size": [
           5,
           10,
           15,
           20,
           30,
           40,
           50,
           60,
           70,
           80,
           90,
           100
          ],
          "sizemode": "area",
          "sizeref": 0.25,
          "symbol": "circle"
         },
         "mode": "markers",
         "name": "vardict",
         "orientation": "v",
         "showlegend": true,
         "type": "scatter",
         "x": [
          0.9952973720608576,
          0.9937122128174123,
          0.9919201520912547,
          0.9905347846663511,
          0.9884542884071631,
          0.9879943502824858,
          0.9872971065631616,
          0.9873060648801129,
          0.9868451961475218,
          0.9877762106252939,
          0.9870801033591732,
          0.9877762106252939
         ],
         "xaxis": "x5",
         "y": [
          0.8444027223656418,
          0.9643276226237972,
          0.9795822576859892,
          0.9823984980051631,
          0.9845106782445435,
          0.9849800516310725,
          0.9849800516310725,
          0.985684111710866,
          0.9859187984041304,
          0.986153485097395,
          0.986153485097395,
          0.986153485097395
         ],
         "yaxis": "y5"
        },
        {
         "hovertemplate": "caller=discosnp<br>precision=%{x}<br>recall=%{y}<br>dataset=%{marker.size}<extra></extra>",
         "legendgroup": "discosnp",
         "marker": {
          "color": "#19d3f3",
          "size": [
           5,
           10,
           15,
           20,
           30,
           40,
           50,
           60,
           70,
           80,
           90,
           100
          ],
          "sizemode": "area",
          "sizeref": 0.25,
          "symbol": "circle"
         },
         "mode": "markers",
         "name": "discosnp",
         "orientation": "v",
         "showlegend": true,
         "type": "scatter",
         "x": [
          0.9979101358411703,
          0.9992354740061162,
          0.9986115931968067,
          0.998641304347826,
          0.998645903859174,
          0.999315537303217,
          0.9993270524899058,
          0.9993339993339994,
          0.998661311914324,
          0.9989905787348586,
          0.9989743589743589,
          0.9989888776541962
         ],
         "xaxis": "x6",
         "y": [
          0.22412579206758976,
          0.6134710161933818,
          0.6751936165219432,
          0.6899788781976062,
          0.6923257451302511,
          0.6852851443323164,
          0.697019478995541,
          0.7042947664867402,
          0.7003050927012439,
          0.6967847923022764,
          0.6857545177188453,
          0.695611358835954
         ],
         "yaxis": "y6"
        },
        {
         "hovertemplate": "caller=deepvariant<br>precision=%{x}<br>recall=%{y}<br>dataset=%{marker.size}<extra></extra>",
         "legendgroup": "deepvariant",
         "marker": {
          "color": "#FF6692",
          "size": [
           5,
           10,
           15,
           20,
           30,
           40,
           50,
           60,
           70,
           80,
           90,
           100
          ],
          "sizemode": "area",
          "sizeref": 0.25,
          "symbol": "circle"
         },
         "mode": "markers",
         "name": "deepvariant",
         "orientation": "v",
         "showlegend": true,
         "type": "scatter",
         "x": [
          0.9907407407407407,
          0.996124969726326,
          0.997622444127437,
          0.9983376870102113,
          0.9990496555001188,
          0.9992872416250891,
          0.9990498812351544,
          0.9985768500948766,
          0.9988137603795967,
          0.9988140417457305,
          0.9983400521697889,
          0.9983400521697889
         ],
         "xaxis": "x7",
         "y": [
          0.8035672377376203,
          0.9652663693968552,
          0.9847453649378081,
          0.986622858483924,
          0.9868575451771885,
          0.9870922318704529,
          0.9870922318704529,
          0.9880309786435109,
          0.9880309786435109,
          0.9882656653367754,
          0.9880309786435109,
          0.9880309786435109
         ],
         "yaxis": "y7"
        }
       ],
       "layout": {
        "annotations": [
         {
          "font": {},
          "showarrow": false,
          "text": "caller=gatk",
          "x": 0.06285714285714285,
          "xanchor": "center",
          "xref": "paper",
          "y": 1,
          "yanchor": "bottom",
          "yref": "paper"
         },
         {
          "font": {},
          "showarrow": false,
          "text": "caller=freebayes",
          "x": 0.20857142857142852,
          "xanchor": "center",
          "xref": "paper",
          "y": 1,
          "yanchor": "bottom",
          "yref": "paper"
         },
         {
          "font": {},
          "showarrow": false,
          "text": "caller=bcftools",
          "x": 0.3542857142857142,
          "xanchor": "center",
          "xref": "paper",
          "y": 1,
          "yanchor": "bottom",
          "yref": "paper"
         },
         {
          "font": {},
          "showarrow": false,
          "text": "caller=lancet",
          "x": 0.5,
          "xanchor": "center",
          "xref": "paper",
          "y": 1,
          "yanchor": "bottom",
          "yref": "paper"
         },
         {
          "font": {},
          "showarrow": false,
          "text": "caller=vardict",
          "x": 0.6457142857142856,
          "xanchor": "center",
          "xref": "paper",
          "y": 1,
          "yanchor": "bottom",
          "yref": "paper"
         },
         {
          "font": {},
          "showarrow": false,
          "text": "caller=discosnp",
          "x": 0.7914285714285713,
          "xanchor": "center",
          "xref": "paper",
          "y": 1,
          "yanchor": "bottom",
          "yref": "paper"
         },
         {
          "font": {},
          "showarrow": false,
          "text": "caller=deepvariant",
          "x": 0.9371428571428569,
          "xanchor": "center",
          "xref": "paper",
          "y": 1,
          "yanchor": "bottom",
          "yref": "paper"
         }
        ],
        "autosize": true,
        "legend": {
         "itemsizing": "constant",
         "title": {
          "text": "caller"
         },
         "tracegroupgap": 0
        },
        "margin": {
         "t": 60
        },
        "template": {
         "data": {
          "bar": [
           {
            "error_x": {
             "color": "#2a3f5f"
            },
            "error_y": {
             "color": "#2a3f5f"
            },
            "marker": {
             "line": {
              "color": "#E5ECF6",
              "width": 0.5
             },
             "pattern": {
              "fillmode": "overlay",
              "size": 10,
              "solidity": 0.2
             }
            },
            "type": "bar"
           }
          ],
          "barpolar": [
           {
            "marker": {
             "line": {
              "color": "#E5ECF6",
              "width": 0.5
             },
             "pattern": {
              "fillmode": "overlay",
              "size": 10,
              "solidity": 0.2
             }
            },
            "type": "barpolar"
           }
          ],
          "carpet": [
           {
            "aaxis": {
             "endlinecolor": "#2a3f5f",
             "gridcolor": "white",
             "linecolor": "white",
             "minorgridcolor": "white",
             "startlinecolor": "#2a3f5f"
            },
            "baxis": {
             "endlinecolor": "#2a3f5f",
             "gridcolor": "white",
             "linecolor": "white",
             "minorgridcolor": "white",
             "startlinecolor": "#2a3f5f"
            },
            "type": "carpet"
           }
          ],
          "choropleth": [
           {
            "colorbar": {
             "outlinewidth": 0,
             "ticks": ""
            },
            "type": "choropleth"
           }
          ],
          "contour": [
           {
            "colorbar": {
             "outlinewidth": 0,
             "ticks": ""
            },
            "colorscale": [
             [
              0,
              "#0d0887"
             ],
             [
              0.1111111111111111,
              "#46039f"
             ],
             [
              0.2222222222222222,
              "#7201a8"
             ],
             [
              0.3333333333333333,
              "#9c179e"
             ],
             [
              0.4444444444444444,
              "#bd3786"
             ],
             [
              0.5555555555555556,
              "#d8576b"
             ],
             [
              0.6666666666666666,
              "#ed7953"
             ],
             [
              0.7777777777777778,
              "#fb9f3a"
             ],
             [
              0.8888888888888888,
              "#fdca26"
             ],
             [
              1,
              "#f0f921"
             ]
            ],
            "type": "contour"
           }
          ],
          "contourcarpet": [
           {
            "colorbar": {
             "outlinewidth": 0,
             "ticks": ""
            },
            "type": "contourcarpet"
           }
          ],
          "heatmap": [
           {
            "colorbar": {
             "outlinewidth": 0,
             "ticks": ""
            },
            "colorscale": [
             [
              0,
              "#0d0887"
             ],
             [
              0.1111111111111111,
              "#46039f"
             ],
             [
              0.2222222222222222,
              "#7201a8"
             ],
             [
              0.3333333333333333,
              "#9c179e"
             ],
             [
              0.4444444444444444,
              "#bd3786"
             ],
             [
              0.5555555555555556,
              "#d8576b"
             ],
             [
              0.6666666666666666,
              "#ed7953"
             ],
             [
              0.7777777777777778,
              "#fb9f3a"
             ],
             [
              0.8888888888888888,
              "#fdca26"
             ],
             [
              1,
              "#f0f921"
             ]
            ],
            "type": "heatmap"
           }
          ],
          "heatmapgl": [
           {
            "colorbar": {
             "outlinewidth": 0,
             "ticks": ""
            },
            "colorscale": [
             [
              0,
              "#0d0887"
             ],
             [
              0.1111111111111111,
              "#46039f"
             ],
             [
              0.2222222222222222,
              "#7201a8"
             ],
             [
              0.3333333333333333,
              "#9c179e"
             ],
             [
              0.4444444444444444,
              "#bd3786"
             ],
             [
              0.5555555555555556,
              "#d8576b"
             ],
             [
              0.6666666666666666,
              "#ed7953"
             ],
             [
              0.7777777777777778,
              "#fb9f3a"
             ],
             [
              0.8888888888888888,
              "#fdca26"
             ],
             [
              1,
              "#f0f921"
             ]
            ],
            "type": "heatmapgl"
           }
          ],
          "histogram": [
           {
            "marker": {
             "pattern": {
              "fillmode": "overlay",
              "size": 10,
              "solidity": 0.2
             }
            },
            "type": "histogram"
           }
          ],
          "histogram2d": [
           {
            "colorbar": {
             "outlinewidth": 0,
             "ticks": ""
            },
            "colorscale": [
             [
              0,
              "#0d0887"
             ],
             [
              0.1111111111111111,
              "#46039f"
             ],
             [
              0.2222222222222222,
              "#7201a8"
             ],
             [
              0.3333333333333333,
              "#9c179e"
             ],
             [
              0.4444444444444444,
              "#bd3786"
             ],
             [
              0.5555555555555556,
              "#d8576b"
             ],
             [
              0.6666666666666666,
              "#ed7953"
             ],
             [
              0.7777777777777778,
              "#fb9f3a"
             ],
             [
              0.8888888888888888,
              "#fdca26"
             ],
             [
              1,
              "#f0f921"
             ]
            ],
            "type": "histogram2d"
           }
          ],
          "histogram2dcontour": [
           {
            "colorbar": {
             "outlinewidth": 0,
             "ticks": ""
            },
            "colorscale": [
             [
              0,
              "#0d0887"
             ],
             [
              0.1111111111111111,
              "#46039f"
             ],
             [
              0.2222222222222222,
              "#7201a8"
             ],
             [
              0.3333333333333333,
              "#9c179e"
             ],
             [
              0.4444444444444444,
              "#bd3786"
             ],
             [
              0.5555555555555556,
              "#d8576b"
             ],
             [
              0.6666666666666666,
              "#ed7953"
             ],
             [
              0.7777777777777778,
              "#fb9f3a"
             ],
             [
              0.8888888888888888,
              "#fdca26"
             ],
             [
              1,
              "#f0f921"
             ]
            ],
            "type": "histogram2dcontour"
           }
          ],
          "mesh3d": [
           {
            "colorbar": {
             "outlinewidth": 0,
             "ticks": ""
            },
            "type": "mesh3d"
           }
          ],
          "parcoords": [
           {
            "line": {
             "colorbar": {
              "outlinewidth": 0,
              "ticks": ""
             }
            },
            "type": "parcoords"
           }
          ],
          "pie": [
           {
            "automargin": true,
            "type": "pie"
           }
          ],
          "scatter": [
           {
            "marker": {
             "colorbar": {
              "outlinewidth": 0,
              "ticks": ""
             }
            },
            "type": "scatter"
           }
          ],
          "scatter3d": [
           {
            "line": {
             "colorbar": {
              "outlinewidth": 0,
              "ticks": ""
             }
            },
            "marker": {
             "colorbar": {
              "outlinewidth": 0,
              "ticks": ""
             }
            },
            "type": "scatter3d"
           }
          ],
          "scattercarpet": [
           {
            "marker": {
             "colorbar": {
              "outlinewidth": 0,
              "ticks": ""
             }
            },
            "type": "scattercarpet"
           }
          ],
          "scattergeo": [
           {
            "marker": {
             "colorbar": {
              "outlinewidth": 0,
              "ticks": ""
             }
            },
            "type": "scattergeo"
           }
          ],
          "scattergl": [
           {
            "marker": {
             "colorbar": {
              "outlinewidth": 0,
              "ticks": ""
             }
            },
            "type": "scattergl"
           }
          ],
          "scattermapbox": [
           {
            "marker": {
             "colorbar": {
              "outlinewidth": 0,
              "ticks": ""
             }
            },
            "type": "scattermapbox"
           }
          ],
          "scatterpolar": [
           {
            "marker": {
             "colorbar": {
              "outlinewidth": 0,
              "ticks": ""
             }
            },
            "type": "scatterpolar"
           }
          ],
          "scatterpolargl": [
           {
            "marker": {
             "colorbar": {
              "outlinewidth": 0,
              "ticks": ""
             }
            },
            "type": "scatterpolargl"
           }
          ],
          "scatterternary": [
           {
            "marker": {
             "colorbar": {
              "outlinewidth": 0,
              "ticks": ""
             }
            },
            "type": "scatterternary"
           }
          ],
          "surface": [
           {
            "colorbar": {
             "outlinewidth": 0,
             "ticks": ""
            },
            "colorscale": [
             [
              0,
              "#0d0887"
             ],
             [
              0.1111111111111111,
              "#46039f"
             ],
             [
              0.2222222222222222,
              "#7201a8"
             ],
             [
              0.3333333333333333,
              "#9c179e"
             ],
             [
              0.4444444444444444,
              "#bd3786"
             ],
             [
              0.5555555555555556,
              "#d8576b"
             ],
             [
              0.6666666666666666,
              "#ed7953"
             ],
             [
              0.7777777777777778,
              "#fb9f3a"
             ],
             [
              0.8888888888888888,
              "#fdca26"
             ],
             [
              1,
              "#f0f921"
             ]
            ],
            "type": "surface"
           }
          ],
          "table": [
           {
            "cells": {
             "fill": {
              "color": "#EBF0F8"
             },
             "line": {
              "color": "white"
             }
            },
            "header": {
             "fill": {
              "color": "#C8D4E3"
             },
             "line": {
              "color": "white"
             }
            },
            "type": "table"
           }
          ]
         },
         "layout": {
          "annotationdefaults": {
           "arrowcolor": "#2a3f5f",
           "arrowhead": 0,
           "arrowwidth": 1
          },
          "autotypenumbers": "strict",
          "coloraxis": {
           "colorbar": {
            "outlinewidth": 0,
            "ticks": ""
           }
          },
          "colorscale": {
           "diverging": [
            [
             0,
             "#8e0152"
            ],
            [
             0.1,
             "#c51b7d"
            ],
            [
             0.2,
             "#de77ae"
            ],
            [
             0.3,
             "#f1b6da"
            ],
            [
             0.4,
             "#fde0ef"
            ],
            [
             0.5,
             "#f7f7f7"
            ],
            [
             0.6,
             "#e6f5d0"
            ],
            [
             0.7,
             "#b8e186"
            ],
            [
             0.8,
             "#7fbc41"
            ],
            [
             0.9,
             "#4d9221"
            ],
            [
             1,
             "#276419"
            ]
           ],
           "sequential": [
            [
             0,
             "#0d0887"
            ],
            [
             0.1111111111111111,
             "#46039f"
            ],
            [
             0.2222222222222222,
             "#7201a8"
            ],
            [
             0.3333333333333333,
             "#9c179e"
            ],
            [
             0.4444444444444444,
             "#bd3786"
            ],
            [
             0.5555555555555556,
             "#d8576b"
            ],
            [
             0.6666666666666666,
             "#ed7953"
            ],
            [
             0.7777777777777778,
             "#fb9f3a"
            ],
            [
             0.8888888888888888,
             "#fdca26"
            ],
            [
             1,
             "#f0f921"
            ]
           ],
           "sequentialminus": [
            [
             0,
             "#0d0887"
            ],
            [
             0.1111111111111111,
             "#46039f"
            ],
            [
             0.2222222222222222,
             "#7201a8"
            ],
            [
             0.3333333333333333,
             "#9c179e"
            ],
            [
             0.4444444444444444,
             "#bd3786"
            ],
            [
             0.5555555555555556,
             "#d8576b"
            ],
            [
             0.6666666666666666,
             "#ed7953"
            ],
            [
             0.7777777777777778,
             "#fb9f3a"
            ],
            [
             0.8888888888888888,
             "#fdca26"
            ],
            [
             1,
             "#f0f921"
            ]
           ]
          },
          "colorway": [
           "#636efa",
           "#EF553B",
           "#00cc96",
           "#ab63fa",
           "#FFA15A",
           "#19d3f3",
           "#FF6692",
           "#B6E880",
           "#FF97FF",
           "#FECB52"
          ],
          "font": {
           "color": "#2a3f5f"
          },
          "geo": {
           "bgcolor": "white",
           "lakecolor": "white",
           "landcolor": "#E5ECF6",
           "showlakes": true,
           "showland": true,
           "subunitcolor": "white"
          },
          "hoverlabel": {
           "align": "left"
          },
          "hovermode": "closest",
          "mapbox": {
           "style": "light"
          },
          "paper_bgcolor": "white",
          "plot_bgcolor": "#E5ECF6",
          "polar": {
           "angularaxis": {
            "gridcolor": "white",
            "linecolor": "white",
            "ticks": ""
           },
           "bgcolor": "#E5ECF6",
           "radialaxis": {
            "gridcolor": "white",
            "linecolor": "white",
            "ticks": ""
           }
          },
          "scene": {
           "xaxis": {
            "backgroundcolor": "#E5ECF6",
            "gridcolor": "white",
            "gridwidth": 2,
            "linecolor": "white",
            "showbackground": true,
            "ticks": "",
            "zerolinecolor": "white"
           },
           "yaxis": {
            "backgroundcolor": "#E5ECF6",
            "gridcolor": "white",
            "gridwidth": 2,
            "linecolor": "white",
            "showbackground": true,
            "ticks": "",
            "zerolinecolor": "white"
           },
           "zaxis": {
            "backgroundcolor": "#E5ECF6",
            "gridcolor": "white",
            "gridwidth": 2,
            "linecolor": "white",
            "showbackground": true,
            "ticks": "",
            "zerolinecolor": "white"
           }
          },
          "shapedefaults": {
           "line": {
            "color": "#2a3f5f"
           }
          },
          "ternary": {
           "aaxis": {
            "gridcolor": "white",
            "linecolor": "white",
            "ticks": ""
           },
           "baxis": {
            "gridcolor": "white",
            "linecolor": "white",
            "ticks": ""
           },
           "bgcolor": "#E5ECF6",
           "caxis": {
            "gridcolor": "white",
            "linecolor": "white",
            "ticks": ""
           }
          },
          "title": {
           "x": 0.05
          },
          "xaxis": {
           "automargin": true,
           "gridcolor": "white",
           "linecolor": "white",
           "ticks": "",
           "title": {
            "standoff": 15
           },
           "zerolinecolor": "white",
           "zerolinewidth": 2
          },
          "yaxis": {
           "automargin": true,
           "gridcolor": "white",
           "linecolor": "white",
           "ticks": "",
           "title": {
            "standoff": 15
           },
           "zerolinecolor": "white",
           "zerolinewidth": 2
          }
         }
        },
        "xaxis": {
         "anchor": "y",
         "domain": [
          0,
          0.1257142857142857
         ],
         "range": [
          -0.1,
          1.1
         ],
         "title": {
          "text": "precision"
         },
         "type": "linear"
        },
        "xaxis2": {
         "anchor": "y2",
         "domain": [
          0.14571428571428569,
          0.27142857142857135
         ],
         "matches": "x",
         "range": [
          -0.1,
          1.1
         ],
         "title": {
          "text": "precision"
         },
         "type": "linear"
        },
        "xaxis3": {
         "anchor": "y3",
         "domain": [
          0.29142857142857137,
          0.41714285714285704
         ],
         "matches": "x",
         "range": [
          -0.1,
          1.1
         ],
         "title": {
          "text": "precision"
         },
         "type": "linear"
        },
        "xaxis4": {
         "anchor": "y4",
         "domain": [
          0.4371428571428571,
          0.5628571428571428
         ],
         "matches": "x",
         "range": [
          -0.1,
          1.1
         ],
         "title": {
          "text": "precision"
         },
         "type": "linear"
        },
        "xaxis5": {
         "anchor": "y5",
         "domain": [
          0.5828571428571427,
          0.7085714285714284
         ],
         "matches": "x",
         "range": [
          -0.1,
          1.1
         ],
         "title": {
          "text": "precision"
         },
         "type": "linear"
        },
        "xaxis6": {
         "anchor": "y6",
         "domain": [
          0.7285714285714284,
          0.8542857142857141
         ],
         "matches": "x",
         "range": [
          -0.1,
          1.1
         ],
         "title": {
          "text": "precision"
         },
         "type": "linear"
        },
        "xaxis7": {
         "anchor": "y7",
         "domain": [
          0.8742857142857141,
          0.9999999999999998
         ],
         "matches": "x",
         "range": [
          -0.1,
          1.1
         ],
         "title": {
          "text": "precision"
         },
         "type": "linear"
        },
        "yaxis": {
         "anchor": "x",
         "domain": [
          0,
          1
         ],
         "range": [
          -0.1,
          1.1
         ],
         "title": {
          "text": "recall"
         },
         "type": "linear"
        },
        "yaxis2": {
         "anchor": "x2",
         "domain": [
          0,
          1
         ],
         "matches": "y",
         "showticklabels": false,
         "type": "linear"
        },
        "yaxis3": {
         "anchor": "x3",
         "domain": [
          0,
          1
         ],
         "matches": "y",
         "showticklabels": false,
         "type": "linear"
        },
        "yaxis4": {
         "anchor": "x4",
         "domain": [
          0,
          1
         ],
         "matches": "y",
         "showticklabels": false,
         "type": "linear"
        },
        "yaxis5": {
         "anchor": "x5",
         "domain": [
          0,
          1
         ],
         "matches": "y",
         "showticklabels": false,
         "type": "linear"
        },
        "yaxis6": {
         "anchor": "x6",
         "domain": [
          0,
          1
         ],
         "matches": "y",
         "showticklabels": false,
         "type": "linear"
        },
        "yaxis7": {
         "anchor": "x7",
         "domain": [
          0,
          1
         ],
         "matches": "y",
         "showticklabels": false,
         "type": "linear"
        }
       }
      },
      "image/png": "[encoded data removed]",
      "text/html": [
       "<div>                            <div id=\"4e2b12ee-39a2-41ca-a0d2-65e84ab74978\" class=\"plotly-graph-div\" style=\"height:525px; width:100%;\"></div>            <script type=\"text/javascript\">                require([\"plotly\"], function(Plotly) {                    window.PLOTLYENV=window.PLOTLYENV || {};                                    if (document.getElementById(\"4e2b12ee-39a2-41ca-a0d2-65e84ab74978\")) {                    Plotly.newPlot(                        \"4e2b12ee-39a2-41ca-a0d2-65e84ab74978\",                        [{\"hovertemplate\":\"caller=gatk<br>precision=%{x}<br>recall=%{y}<br>dataset=%{marker.size}<extra></extra>\",\"legendgroup\":\"gatk\",\"marker\":{\"color\":\"#636efa\",\"size\":[5.0,10.0,15.0,20.0,30.0,40.0,50.0,60.0,70.0,80.0,90.0,100.0],\"sizemode\":\"area\",\"sizeref\":0.25,\"symbol\":\"circle\"},\"mode\":\"markers\",\"name\":\"gatk\",\"orientation\":\"v\",\"showlegend\":true,\"type\":\"scatter\",\"x\":[0.9959112149532711,0.9992690058479532,1.0,0.9997623574144486,0.9997624138750297,0.9997624703087886,0.9997624703087886,0.9995252788986471,0.9995252788986471,0.9995252788986471,0.9992880873279545,0.9992880873279545],\"xaxis\":\"x\",\"y\":[0.8002816240319174,0.9624501290776813,0.9840413048580146,0.9873269185637175,0.9875616052569819,0.9877962919502464,0.9877962919502464,0.9882656653367754,0.9882656653367754,0.9882656653367754,0.9882656653367754,0.9882656653367754],\"yaxis\":\"y\"},{\"hovertemplate\":\"caller=freebayes<br>precision=%{x}<br>recall=%{y}<br>dataset=%{marker.size}<extra></extra>\",\"legendgroup\":\"freebayes\",\"marker\":{\"color\":\"#EF553B\",\"size\":[5.0,10.0,15.0,20.0,30.0,40.0,50.0,60.0,70.0,80.0,90.0,100.0],\"sizemode\":\"area\",\"sizeref\":0.25,\"symbol\":\"circle\"},\"mode\":\"markers\",\"name\":\"freebayes\",\"orientation\":\"v\",\"showlegend\":true,\"type\":\"scatter\",\"x\":[0.9952654717619208,0.9979502946451447,0.997812879708384,0.9980792316926771,0.9983257593877063,0.9983309489747259,0.9983317445185891,0.9983317445185891,0.9980943306336351,0.9976196143775291,0.9976201808662541,0.9971462544589774],\"xaxis\":\"x2\",\"y\":[0.6906829382773997,0.9141046702651959,0.9636235625440037,0.9755925839004929,0.9795822576859892,0.9826331846984276,0.9831025580849566,0.9831025580849566,0.983337244778221,0.9835719314714856,0.98380661816475,0.9840413048580146],\"yaxis\":\"y2\"},{\"hovertemplate\":\"caller=bcftools<br>precision=%{x}<br>recall=%{y}<br>dataset=%{marker.size}<extra></extra>\",\"legendgroup\":\"bcftools\",\"marker\":{\"color\":\"#00cc96\",\"size\":[5.0,10.0,15.0,20.0,30.0,40.0,50.0,60.0,70.0,80.0,90.0,100.0],\"sizemode\":\"area\",\"sizeref\":0.25,\"symbol\":\"circle\"},\"mode\":\"markers\",\"name\":\"bcftools\",\"orientation\":\"v\",\"showlegend\":true,\"type\":\"scatter\",\"x\":[0.948111658456486,0.9788211278387343,0.9779005524861878,0.9755005889281507,0.9625606655881673,0.9475,0.9366861248316121,0.9281423804226919,0.9199558985667035,0.9117325759230938,0.9013172101058087,0.8934075342465754],\"xaxis\":\"x3\",\"y\":[0.6775404834545882,0.9002581553625909,0.9554095282797466,0.971837596808261,0.9774700774466087,0.9784088242196668,0.9791128842994602,0.9791128842994602,0.9791128842994602,0.9793475709927247,0.9795822576859892,0.9795822576859892],\"yaxis\":\"y3\"},{\"hovertemplate\":\"caller=lancet<br>precision=%{x}<br>recall=%{y}<br>dataset=%{marker.size}<extra></extra>\",\"legendgroup\":\"lancet\",\"marker\":{\"color\":\"#ab63fa\",\"size\":[5.0,10.0,15.0,20.0,30.0,40.0,50.0,60.0,70.0,80.0,90.0,100.0],\"sizemode\":\"area\",\"sizeref\":0.25,\"symbol\":\"circle\"},\"mode\":\"markers\",\"name\":\"lancet\",\"orientation\":\"v\",\"showlegend\":true,\"type\":\"scatter\",\"x\":[1.0,0.9996397694524496,0.999730312837109,0.9997498123592694,0.9997576345128454,0.999758337361044,0.9997589199614272,0.9997592102094871,0.9997593261131167,0.9997594419052201,0.9997596153846153,0.9997596731554914],\"xaxis\":\"x4\",\"y\":[0.21591175780333255,0.651255573808965,0.8699835719314715,0.9378080262849097,0.9680826097160291,0.970898850035203,0.9732457169678479,0.9744191504341704,0.9748885238206993,0.9753578972072283,0.9760619572870218,0.9762966439802864],\"yaxis\":\"y4\"},{\"hovertemplate\":\"caller=vardict<br>precision=%{x}<br>recall=%{y}<br>dataset=%{marker.size}<extra></extra>\",\"legendgroup\":\"vardict\",\"marker\":{\"color\":\"#FFA15A\",\"size\":[5.0,10.0,15.0,20.0,30.0,40.0,50.0,60.0,70.0,80.0,90.0,100.0],\"sizemode\":\"area\",\"sizeref\":0.25,\"symbol\":\"circle\"},\"mode\":\"markers\",\"name\":\"vardict\",\"orientation\":\"v\",\"showlegend\":true,\"type\":\"scatter\",\"x\":[0.9952973720608576,0.9937122128174123,0.9919201520912547,0.9905347846663511,0.9884542884071631,0.9879943502824858,0.9872971065631616,0.9873060648801129,0.9868451961475218,0.9877762106252939,0.9870801033591732,0.9877762106252939],\"xaxis\":\"x5\",\"y\":[0.8444027223656418,0.9643276226237972,0.9795822576859892,0.9823984980051631,0.9845106782445435,0.9849800516310725,0.9849800516310725,0.985684111710866,0.9859187984041304,0.986153485097395,0.986153485097395,0.986153485097395],\"yaxis\":\"y5\"},{\"hovertemplate\":\"caller=discosnp<br>precision=%{x}<br>recall=%{y}<br>dataset=%{marker.size}<extra></extra>\",\"legendgroup\":\"discosnp\",\"marker\":{\"color\":\"#19d3f3\",\"size\":[5.0,10.0,15.0,20.0,30.0,40.0,50.0,60.0,70.0,80.0,90.0,100.0],\"sizemode\":\"area\",\"sizeref\":0.25,\"symbol\":\"circle\"},\"mode\":\"markers\",\"name\":\"discosnp\",\"orientation\":\"v\",\"showlegend\":true,\"type\":\"scatter\",\"x\":[0.9979101358411703,0.9992354740061162,0.9986115931968067,0.998641304347826,0.998645903859174,0.999315537303217,0.9993270524899058,0.9993339993339994,0.998661311914324,0.9989905787348586,0.9989743589743589,0.9989888776541962],\"xaxis\":\"x6\",\"y\":[0.22412579206758976,0.6134710161933818,0.6751936165219432,0.6899788781976062,0.6923257451302511,0.6852851443323164,0.697019478995541,0.7042947664867402,0.7003050927012439,0.6967847923022764,0.6857545177188453,0.695611358835954],\"yaxis\":\"y6\"},{\"hovertemplate\":\"caller=deepvariant<br>precision=%{x}<br>recall=%{y}<br>dataset=%{marker.size}<extra></extra>\",\"legendgroup\":\"deepvariant\",\"marker\":{\"color\":\"#FF6692\",\"size\":[5.0,10.0,15.0,20.0,30.0,40.0,50.0,60.0,70.0,80.0,90.0,100.0],\"sizemode\":\"area\",\"sizeref\":0.25,\"symbol\":\"circle\"},\"mode\":\"markers\",\"name\":\"deepvariant\",\"orientation\":\"v\",\"showlegend\":true,\"type\":\"scatter\",\"x\":[0.9907407407407407,0.996124969726326,0.997622444127437,0.9983376870102113,0.9990496555001188,0.9992872416250891,0.9990498812351544,0.9985768500948766,0.9988137603795967,0.9988140417457305,0.9983400521697889,0.9983400521697889],\"xaxis\":\"x7\",\"y\":[0.8035672377376203,0.9652663693968552,0.9847453649378081,0.986622858483924,0.9868575451771885,0.9870922318704529,0.9870922318704529,0.9880309786435109,0.9880309786435109,0.9882656653367754,0.9880309786435109,0.9880309786435109],\"yaxis\":\"y7\"}],                        {\"annotations\":[{\"font\":{},\"showarrow\":false,\"text\":\"caller=gatk\",\"x\":0.06285714285714285,\"xanchor\":\"center\",\"xref\":\"paper\",\"y\":1.0,\"yanchor\":\"bottom\",\"yref\":\"paper\"},{\"font\":{},\"showarrow\":false,\"text\":\"caller=freebayes\",\"x\":0.20857142857142852,\"xanchor\":\"center\",\"xref\":\"paper\",\"y\":1.0,\"yanchor\":\"bottom\",\"yref\":\"paper\"},{\"font\":{},\"showarrow\":false,\"text\":\"caller=bcftools\",\"x\":0.3542857142857142,\"xanchor\":\"center\",\"xref\":\"paper\",\"y\":1.0,\"yanchor\":\"bottom\",\"yref\":\"paper\"},{\"font\":{},\"showarrow\":false,\"text\":\"caller=lancet\",\"x\":0.5,\"xanchor\":\"center\",\"xref\":\"paper\",\"y\":1.0,\"yanchor\":\"bottom\",\"yref\":\"paper\"},{\"font\":{},\"showarrow\":false,\"text\":\"caller=vardict\",\"x\":0.6457142857142856,\"xanchor\":\"center\",\"xref\":\"paper\",\"y\":1.0,\"yanchor\":\"bottom\",\"yref\":\"paper\"},{\"font\":{},\"showarrow\":false,\"text\":\"caller=discosnp\",\"x\":0.7914285714285713,\"xanchor\":\"center\",\"xref\":\"paper\",\"y\":1.0,\"yanchor\":\"bottom\",\"yref\":\"paper\"},{\"font\":{},\"showarrow\":false,\"text\":\"caller=deepvariant\",\"x\":0.9371428571428569,\"xanchor\":\"center\",\"xref\":\"paper\",\"y\":1.0,\"yanchor\":\"bottom\",\"yref\":\"paper\"}],\"legend\":{\"itemsizing\":\"constant\",\"title\":{\"text\":\"caller\"},\"tracegroupgap\":0},\"margin\":{\"t\":60},\"template\":{\"data\":{\"bar\":[{\"error_x\":{\"color\":\"#2a3f5f\"},\"error_y\":{\"color\":\"#2a3f5f\"},\"marker\":{\"line\":{\"color\":\"#E5ECF6\",\"width\":0.5},\"pattern\":{\"fillmode\":\"overlay\",\"size\":10,\"solidity\":0.2}},\"type\":\"bar\"}],\"barpolar\":[{\"marker\":{\"line\":{\"color\":\"#E5ECF6\",\"width\":0.5},\"pattern\":{\"fillmode\":\"overlay\",\"size\":10,\"solidity\":0.2}},\"type\":\"barpolar\"}],\"carpet\":[{\"aaxis\":{\"endlinecolor\":\"#2a3f5f\",\"gridcolor\":\"white\",\"linecolor\":\"white\",\"minorgridcolor\":\"white\",\"startlinecolor\":\"#2a3f5f\"},\"baxis\":{\"endlinecolor\":\"#2a3f5f\",\"gridcolor\":\"white\",\"linecolor\":\"white\",\"minorgridcolor\":\"white\",\"startlinecolor\":\"#2a3f5f\"},\"type\":\"carpet\"}],\"choropleth\":[{\"colorbar\":{\"outlinewidth\":0,\"ticks\":\"\"},\"type\":\"choropleth\"}],\"contour\":[{\"colorbar\":{\"outlinewidth\":0,\"ticks\":\"\"},\"colorscale\":[[0.0,\"#0d0887\"],[0.1111111111111111,\"#46039f\"],[0.2222222222222222,\"#7201a8\"],[0.3333333333333333,\"#9c179e\"],[0.4444444444444444,\"#bd3786\"],[0.5555555555555556,\"#d8576b\"],[0.6666666666666666,\"#ed7953\"],[0.7777777777777778,\"#fb9f3a\"],[0.8888888888888888,\"#fdca26\"],[1.0,\"#f0f921\"]],\"type\":\"contour\"}],\"contourcarpet\":[{\"colorbar\":{\"outlinewidth\":0,\"ticks\":\"\"},\"type\":\"contourcarpet\"}],\"heatmap\":[{\"colorbar\":{\"outlinewidth\":0,\"ticks\":\"\"},\"colorscale\":[[0.0,\"#0d0887\"],[0.1111111111111111,\"#46039f\"],[0.2222222222222222,\"#7201a8\"],[0.3333333333333333,\"#9c179e\"],[0.4444444444444444,\"#bd3786\"],[0.5555555555555556,\"#d8576b\"],[0.6666666666666666,\"#ed7953\"],[0.7777777777777778,\"#fb9f3a\"],[0.8888888888888888,\"#fdca26\"],[1.0,\"#f0f921\"]],\"type\":\"heatmap\"}],\"heatmapgl\":[{\"colorbar\":{\"outlinewidth\":0,\"ticks\":\"\"},\"colorscale\":[[0.0,\"#0d0887\"],[0.1111111111111111,\"#46039f\"],[0.2222222222222222,\"#7201a8\"],[0.3333333333333333,\"#9c179e\"],[0.4444444444444444,\"#bd3786\"],[0.5555555555555556,\"#d8576b\"],[0.6666666666666666,\"#ed7953\"],[0.7777777777777778,\"#fb9f3a\"],[0.8888888888888888,\"#fdca26\"],[1.0,\"#f0f921\"]],\"type\":\"heatmapgl\"}],\"histogram\":[{\"marker\":{\"pattern\":{\"fillmode\":\"overlay\",\"size\":10,\"solidity\":0.2}},\"type\":\"histogram\"}],\"histogram2d\":[{\"colorbar\":{\"outlinewidth\":0,\"ticks\":\"\"},\"colorscale\":[[0.0,\"#0d0887\"],[0.1111111111111111,\"#46039f\"],[0.2222222222222222,\"#7201a8\"],[0.3333333333333333,\"#9c179e\"],[0.4444444444444444,\"#bd3786\"],[0.5555555555555556,\"#d8576b\"],[0.6666666666666666,\"#ed7953\"],[0.7777777777777778,\"#fb9f3a\"],[0.8888888888888888,\"#fdca26\"],[1.0,\"#f0f921\"]],\"type\":\"histogram2d\"}],\"histogram2dcontour\":[{\"colorbar\":{\"outlinewidth\":0,\"ticks\":\"\"},\"colorscale\":[[0.0,\"#0d0887\"],[0.1111111111111111,\"#46039f\"],[0.2222222222222222,\"#7201a8\"],[0.3333333333333333,\"#9c179e\"],[0.4444444444444444,\"#bd3786\"],[0.5555555555555556,\"#d8576b\"],[0.6666666666666666,\"#ed7953\"],[0.7777777777777778,\"#fb9f3a\"],[0.8888888888888888,\"#fdca26\"],[1.0,\"#f0f921\"]],\"type\":\"histogram2dcontour\"}],\"mesh3d\":[{\"colorbar\":{\"outlinewidth\":0,\"ticks\":\"\"},\"type\":\"mesh3d\"}],\"parcoords\":[{\"line\":{\"colorbar\":{\"outlinewidth\":0,\"ticks\":\"\"}},\"type\":\"parcoords\"}],\"pie\":[{\"automargin\":true,\"type\":\"pie\"}],\"scatter\":[{\"marker\":{\"colorbar\":{\"outlinewidth\":0,\"ticks\":\"\"}},\"type\":\"scatter\"}],\"scatter3d\":[{\"line\":{\"colorbar\":{\"outlinewidth\":0,\"ticks\":\"\"}},\"marker\":{\"colorbar\":{\"outlinewidth\":0,\"ticks\":\"\"}},\"type\":\"scatter3d\"}],\"scattercarpet\":[{\"marker\":{\"colorbar\":{\"outlinewidth\":0,\"ticks\":\"\"}},\"type\":\"scattercarpet\"}],\"scattergeo\":[{\"marker\":{\"colorbar\":{\"outlinewidth\":0,\"ticks\":\"\"}},\"type\":\"scattergeo\"}],\"scattergl\":[{\"marker\":{\"colorbar\":{\"outlinewidth\":0,\"ticks\":\"\"}},\"type\":\"scattergl\"}],\"scattermapbox\":[{\"marker\":{\"colorbar\":{\"outlinewidth\":0,\"ticks\":\"\"}},\"type\":\"scattermapbox\"}],\"scatterpolar\":[{\"marker\":{\"colorbar\":{\"outlinewidth\":0,\"ticks\":\"\"}},\"type\":\"scatterpolar\"}],\"scatterpolargl\":[{\"marker\":{\"colorbar\":{\"outlinewidth\":0,\"ticks\":\"\"}},\"type\":\"scatterpolargl\"}],\"scatterternary\":[{\"marker\":{\"colorbar\":{\"outlinewidth\":0,\"ticks\":\"\"}},\"type\":\"scatterternary\"}],\"surface\":[{\"colorbar\":{\"outlinewidth\":0,\"ticks\":\"\"},\"colorscale\":[[0.0,\"#0d0887\"],[0.1111111111111111,\"#46039f\"],[0.2222222222222222,\"#7201a8\"],[0.3333333333333333,\"#9c179e\"],[0.4444444444444444,\"#bd3786\"],[0.5555555555555556,\"#d8576b\"],[0.6666666666666666,\"#ed7953\"],[0.7777777777777778,\"#fb9f3a\"],[0.8888888888888888,\"#fdca26\"],[1.0,\"#f0f921\"]],\"type\":\"surface\"}],\"table\":[{\"cells\":{\"fill\":{\"color\":\"#EBF0F8\"},\"line\":{\"color\":\"white\"}},\"header\":{\"fill\":{\"color\":\"#C8D4E3\"},\"line\":{\"color\":\"white\"}},\"type\":\"table\"}]},\"layout\":{\"annotationdefaults\":{\"arrowcolor\":\"#2a3f5f\",\"arrowhead\":0,\"arrowwidth\":1},\"autotypenumbers\":\"strict\",\"coloraxis\":{\"colorbar\":{\"outlinewidth\":0,\"ticks\":\"\"}},\"colorscale\":{\"diverging\":[[0,\"#8e0152\"],[0.1,\"#c51b7d\"],[0.2,\"#de77ae\"],[0.3,\"#f1b6da\"],[0.4,\"#fde0ef\"],[0.5,\"#f7f7f7\"],[0.6,\"#e6f5d0\"],[0.7,\"#b8e186\"],[0.8,\"#7fbc41\"],[0.9,\"#4d9221\"],[1,\"#276419\"]],\"sequential\":[[0.0,\"#0d0887\"],[0.1111111111111111,\"#46039f\"],[0.2222222222222222,\"#7201a8\"],[0.3333333333333333,\"#9c179e\"],[0.4444444444444444,\"#bd3786\"],[0.5555555555555556,\"#d8576b\"],[0.6666666666666666,\"#ed7953\"],[0.7777777777777778,\"#fb9f3a\"],[0.8888888888888888,\"#fdca26\"],[1.0,\"#f0f921\"]],\"sequentialminus\":[[0.0,\"#0d0887\"],[0.1111111111111111,\"#46039f\"],[0.2222222222222222,\"#7201a8\"],[0.3333333333333333,\"#9c179e\"],[0.4444444444444444,\"#bd3786\"],[0.5555555555555556,\"#d8576b\"],[0.6666666666666666,\"#ed7953\"],[0.7777777777777778,\"#fb9f3a\"],[0.8888888888888888,\"#fdca26\"],[1.0,\"#f0f921\"]]},\"colorway\":[\"#636efa\",\"#EF553B\",\"#00cc96\",\"#ab63fa\",\"#FFA15A\",\"#19d3f3\",\"#FF6692\",\"#B6E880\",\"#FF97FF\",\"#FECB52\"],\"font\":{\"color\":\"#2a3f5f\"},\"geo\":{\"bgcolor\":\"white\",\"lakecolor\":\"white\",\"landcolor\":\"#E5ECF6\",\"showlakes\":true,\"showland\":true,\"subunitcolor\":\"white\"},\"hoverlabel\":{\"align\":\"left\"},\"hovermode\":\"closest\",\"mapbox\":{\"style\":\"light\"},\"paper_bgcolor\":\"white\",\"plot_bgcolor\":\"#E5ECF6\",\"polar\":{\"angularaxis\":{\"gridcolor\":\"white\",\"linecolor\":\"white\",\"ticks\":\"\"},\"bgcolor\":\"#E5ECF6\",\"radialaxis\":{\"gridcolor\":\"white\",\"linecolor\":\"white\",\"ticks\":\"\"}},\"scene\":{\"xaxis\":{\"backgroundcolor\":\"#E5ECF6\",\"gridcolor\":\"white\",\"gridwidth\":2,\"linecolor\":\"white\",\"showbackground\":true,\"ticks\":\"\",\"zerolinecolor\":\"white\"},\"yaxis\":{\"backgroundcolor\":\"#E5ECF6\",\"gridcolor\":\"white\",\"gridwidth\":2,\"linecolor\":\"white\",\"showbackground\":true,\"ticks\":\"\",\"zerolinecolor\":\"white\"},\"zaxis\":{\"backgroundcolor\":\"#E5ECF6\",\"gridcolor\":\"white\",\"gridwidth\":2,\"linecolor\":\"white\",\"showbackground\":true,\"ticks\":\"\",\"zerolinecolor\":\"white\"}},\"shapedefaults\":{\"line\":{\"color\":\"#2a3f5f\"}},\"ternary\":{\"aaxis\":{\"gridcolor\":\"white\",\"linecolor\":\"white\",\"ticks\":\"\"},\"baxis\":{\"gridcolor\":\"white\",\"linecolor\":\"white\",\"ticks\":\"\"},\"bgcolor\":\"#E5ECF6\",\"caxis\":{\"gridcolor\":\"white\",\"linecolor\":\"white\",\"ticks\":\"\"}},\"title\":{\"x\":0.05},\"xaxis\":{\"automargin\":true,\"gridcolor\":\"white\",\"linecolor\":\"white\",\"ticks\":\"\",\"title\":{\"standoff\":15},\"zerolinecolor\":\"white\",\"zerolinewidth\":2},\"yaxis\":{\"automargin\":true,\"gridcolor\":\"white\",\"linecolor\":\"white\",\"ticks\":\"\",\"title\":{\"standoff\":15},\"zerolinecolor\":\"white\",\"zerolinewidth\":2}}},\"xaxis\":{\"anchor\":\"y\",\"domain\":[0.0,0.1257142857142857],\"range\":[-0.1,1.1],\"title\":{\"text\":\"precision\"}},\"xaxis2\":{\"anchor\":\"y2\",\"domain\":[0.14571428571428569,0.27142857142857135],\"matches\":\"x\",\"range\":[-0.1,1.1],\"title\":{\"text\":\"precision\"}},\"xaxis3\":{\"anchor\":\"y3\",\"domain\":[0.29142857142857137,0.41714285714285704],\"matches\":\"x\",\"range\":[-0.1,1.1],\"title\":{\"text\":\"precision\"}},\"xaxis4\":{\"anchor\":\"y4\",\"domain\":[0.4371428571428571,0.5628571428571428],\"matches\":\"x\",\"range\":[-0.1,1.1],\"title\":{\"text\":\"precision\"}},\"xaxis5\":{\"anchor\":\"y5\",\"domain\":[0.5828571428571427,0.7085714285714284],\"matches\":\"x\",\"range\":[-0.1,1.1],\"title\":{\"text\":\"precision\"}},\"xaxis6\":{\"anchor\":\"y6\",\"domain\":[0.7285714285714284,0.8542857142857141],\"matches\":\"x\",\"range\":[-0.1,1.1],\"title\":{\"text\":\"precision\"}},\"xaxis7\":{\"anchor\":\"y7\",\"domain\":[0.8742857142857141,0.9999999999999998],\"matches\":\"x\",\"range\":[-0.1,1.1],\"title\":{\"text\":\"precision\"}},\"yaxis\":{\"anchor\":\"x\",\"domain\":[0.0,1.0],\"range\":[-0.1,1.1],\"title\":{\"text\":\"recall\"}},\"yaxis2\":{\"anchor\":\"x2\",\"domain\":[0.0,1.0],\"matches\":\"y\",\"showticklabels\":false},\"yaxis3\":{\"anchor\":\"x3\",\"domain\":[0.0,1.0],\"matches\":\"y\",\"showticklabels\":false},\"yaxis4\":{\"anchor\":\"x4\",\"domain\":[0.0,1.0],\"matches\":\"y\",\"showticklabels\":false},\"yaxis5\":{\"anchor\":\"x5\",\"domain\":[0.0,1.0],\"matches\":\"y\",\"showticklabels\":false},\"yaxis6\":{\"anchor\":\"x6\",\"domain\":[0.0,1.0],\"matches\":\"y\",\"showticklabels\":false},\"yaxis7\":{\"anchor\":\"x7\",\"domain\":[0.0,1.0],\"matches\":\"y\",\"showticklabels\":false}},                        {\"responsive\": true}                    ).then(function(){\n",
       "                            \n",
       "var gd = document.getElementById('4e2b12ee-39a2-41ca-a0d2-65e84ab74978');\n",
       "var x = new MutationObserver(function (mutations, observer) {{\n",
       "        var display = window.getComputedStyle(gd).display;\n",
       "        if (!display || display === 'none') {{\n",
       "            console.log([gd, 'removed!']);\n",
       "            Plotly.purge(gd);\n",
       "            observer.disconnect();\n",
       "        }}\n",
       "}});\n",
       "\n",
       "// Listen for the removal of the full notebook cells\n",
       "var notebookContainer = gd.closest('#notebook-container');\n",
       "if (notebookContainer) {{\n",
       "    x.observe(notebookContainer, {childList: true});\n",
       "}}\n",
       "\n",
       "// Listen for the clearing of the current output cell\n",
       "var outputEl = gd.closest('.output');\n",
       "if (outputEl) {{\n",
       "    x.observe(outputEl, {childList: true});\n",
       "}}\n",
       "\n",
       "                        })                };                });            </script>        </div>"
      ]
     },
     "metadata": {},
     "output_type": "display_data"
    }
   ],
   "source": [
    "fig = px.scatter(combinedDELreads, x='precision', y='recall', color='caller', facet_col='caller', range_x=(-0.1, 1.1), range_y=(-0.1, 1.1), size='dataset')\n",
    "fig"
   ]
  },
  {
   "cell_type": "code",
   "execution_count": null,
   "id": "0bbeb551-c885-4efa-bbd7-fd1ae2fb85ca",
   "metadata": {},
   "outputs": [],
   "source": []
  },
  {
   "cell_type": "code",
   "execution_count": null,
   "id": "de2570a6-377d-4dbf-93a1-8e05ed776872",
   "metadata": {},
   "outputs": [],
   "source": []
  },
  {
   "cell_type": "code",
   "execution_count": null,
   "id": "8927f99b-c565-4269-8a6d-6711891027d2",
   "metadata": {},
   "outputs": [],
   "source": []
  },
  {
   "cell_type": "code",
   "execution_count": 4,
   "id": "b70f682b-3761-4ea5-9cc7-b0ce33b9ed3a",
   "metadata": {},
   "outputs": [],
   "source": [
    "# From 100X, subsampled from BAM\n",
    "snp50xBAM = pd.read_csv('/Users/yeemayseah/Documents/Repos/mtb_amr/output/checked/H37Rv_10-3SNPsub50X_alltools_normalized_dp0_H37Rv_checked.csv')"
   ]
  },
  {
   "cell_type": "code",
   "execution_count": null,
   "id": "37c9ba6e-f72e-41a8-8201-bf59e030107a",
   "metadata": {},
   "outputs": [],
   "source": [
    "snp50xBAMsummary = sum_filtered(snp50xBAM, 'BAM_DP', 0, '/Users/yeemayseah/Documents/Repos/mtb_amr/logs/variants/H37Rv_10-3SNP100X.log')"
   ]
  },
  {
   "cell_type": "code",
   "execution_count": null,
   "id": "45440fc1-2bcf-474e-b8aa-cd1f8367b2be",
   "metadata": {},
   "outputs": [],
   "source": [
    "combinedsnpBAM = pd.concat([snp100x, snp50xBAM], ignore_index=True)"
   ]
  },
  {
   "cell_type": "code",
   "execution_count": null,
   "id": "0de926ef-f891-4c55-b188-920b1a361f35",
   "metadata": {},
   "outputs": [],
   "source": []
  }
 ],
 "metadata": {
  "kernelspec": {
   "display_name": "Python 3 (ipykernel)",
   "language": "python",
   "name": "python3"
  },
  "language_info": {
   "codemirror_mode": {
    "name": "ipython",
    "version": 3
   },
   "file_extension": ".py",
   "mimetype": "text/x-python",
   "name": "python",
   "nbconvert_exporter": "python",
   "pygments_lexer": "ipython3",
   "version": "3.7.11"
  }
 },
 "nbformat": 4,
 "nbformat_minor": 5
}
